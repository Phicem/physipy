{
 "cells": [
  {
   "cell_type": "raw",
   "metadata": {},
   "source": [
    "https://github.com/jupyter-widgets/ipywidgets/issues/2274\n",
    " - pint implementation : https://github.com/hgrecco/pint/issues/284\n",
    " - _ipython_display and repr : https://github.com/jupyter-widgets/ipywidgets/issues/2274\n",
    " - gitter lobby : https://gitter.im/jupyter-widgets/Lobby?at=5a69d2ef6117191e61aee0eb\n",
    " - https://stackoverflow.com/questions/40594372/how-to-create-a-ipywidgets-from-multiple-ones\n",
    " - https://stackoverflow.com/questions/47137370/getting-text-from-jupyter-text-widget"
   ]
  },
  {
   "cell_type": "code",
   "execution_count": 1,
   "metadata": {},
   "outputs": [],
   "source": [
    "import physipy\n",
    "from physipy.quickstart import *\n",
    "import IPython\n",
    "import traitlets"
   ]
  },
  {
   "cell_type": "code",
   "execution_count": 2,
   "metadata": {},
   "outputs": [],
   "source": [
    "from physipy import qwidgets\n",
    "import ipywidgets as ipyw\n",
    "\n",
    "cm = units[\"cm\"]\n"
   ]
  },
  {
   "cell_type": "code",
   "execution_count": 3,
   "metadata": {},
   "outputs": [
    {
     "data": {
      "application/vnd.jupyter.widget-view+json": {
       "model_id": "07f66efb53364e128fa372fe131031f2",
       "version_major": 2,
       "version_minor": 0
      },
      "text/plain": [
       "HBox(children=(Text(value='', description='Set to:', placeholder='Type python exp'), FloatSlider(value=0.5, ma…"
      ]
     },
     "metadata": {},
     "output_type": "display_data"
    }
   ],
   "source": [
    "start_length = 50*cm\n",
    "start_length.favunit = cm\n",
    "\n",
    "qws = qwidgets.QuantityFloatSlider(start_length, min=0.5*m, max=10*m, step=0.1*cm)\n",
    "qws"
   ]
  },
  {
   "cell_type": "code",
   "execution_count": 4,
   "metadata": {},
   "outputs": [
    {
     "name": "stdout",
     "output_type": "stream",
     "text": [
      "0.5\n",
      "L\n",
      "1 m\n",
      "m\n"
     ]
    }
   ],
   "source": [
    "print(qws.value         )\n",
    "print(qws.dimension     )\n",
    "print(qws.favunit       )\n",
    "print(qws.favunit.symbol)"
   ]
  },
  {
   "cell_type": "code",
   "execution_count": 6,
   "metadata": {},
   "outputs": [],
   "source": [
    "focale = 50*cm\n",
    "focale.favunit = cm\n",
    "qws = qwidgets.QuantityFloatSlider(focale, min=0.5*cm, max=1*m, step=0.1*cm)\n"
   ]
  },
  {
   "cell_type": "code",
   "execution_count": null,
   "metadata": {},
   "outputs": [],
   "source": []
  },
  {
   "cell_type": "code",
   "execution_count": 7,
   "metadata": {},
   "outputs": [
    {
     "data": {
      "application/vnd.jupyter.widget-view+json": {
       "model_id": "808981c7666f406d9712ee492e1180b2",
       "version_major": 2,
       "version_minor": 0
      },
      "text/plain": [
       "VBox(children=(HBox(children=(FloatSlider(value=0.5, max=1.0, min=0.005, readout=False, readout_format='.1f', …"
      ]
     },
     "metadata": {},
     "output_type": "display_data"
    }
   ],
   "source": [
    "qws"
   ]
  },
  {
   "cell_type": "code",
   "execution_count": 12,
   "metadata": {},
   "outputs": [
    {
     "name": "stdout",
     "output_type": "stream",
     "text": [
      "89.0 cm\n"
     ]
    }
   ],
   "source": [
    "print(qws.value_q)"
   ]
  },
  {
   "cell_type": "code",
   "execution_count": null,
   "metadata": {},
   "outputs": [],
   "source": []
  },
  {
   "cell_type": "code",
   "execution_count": 5,
   "metadata": {},
   "outputs": [
    {
     "data": {
      "application/vnd.jupyter.widget-view+json": {
       "model_id": "57a76a75ca2b4c99839ad302927f9884",
       "version_major": 2,
       "version_minor": 0
      },
      "text/plain": [
       "FloatSlider(value=2.0)"
      ]
     },
     "metadata": {},
     "output_type": "display_data"
    }
   ],
   "source": [
    "ipyw.FloatSlider(2)"
   ]
  },
  {
   "cell_type": "code",
   "execution_count": 7,
   "metadata": {},
   "outputs": [
    {
     "name": "stdout",
     "output_type": "stream",
     "text": [
      "5 m\n",
      "<__main__.QuantityWithTraits object at 0x11f15ca10>\n"
     ]
    }
   ],
   "source": [
    "import ipywidgets as ipyw\n",
    "import physipy\n",
    "import traitlets\n",
    "import numpy as np\n",
    "from physipy import quantify, Quantity, DimensionError, units, Dimension\n",
    "from physipy.quantity.dimension import SI_UNIT_SYMBOL\n",
    "pi = np.pi\n",
    "\n",
    "\n",
    "q = 5*m\n",
    "\n",
    "class QuantityWithTraits(traitlets.HasTraits):\n",
    "    \n",
    "    quantityFloat = traitlets.Float()\n",
    "    quantityDimension = traitlets.Dict()\n",
    "    \n",
    "    def __init__(self, float_value, dim_dict):\n",
    "        self.quantityFloat = float_value\n",
    "        self.quantityDimension = dim_dict\n",
    "\n",
    "    #@traitlets.default(\"quantityFloat\")\n",
    "    #def _get_default_quantityFloat(self):\n",
    "    #    return 0.0\n",
    "    #\n",
    "    #@traitlets.default(\"quantityDimension\")\n",
    "    #def _get_default_quantityDimension(self):\n",
    "    #    return SI_UNIT_SYMBOL\n",
    "    \n",
    "qwt = QuantityWithTraits(q.value, q.dimension.dim_dict)\n",
    "print(q)\n",
    "print(qwt)"
   ]
  },
  {
   "cell_type": "code",
   "execution_count": 8,
   "metadata": {},
   "outputs": [
    {
     "name": "stdout",
     "output_type": "stream",
     "text": [
      "<__main__.QuantityWithTraits object at 0x11f15ca10>\n"
     ]
    }
   ],
   "source": [
    "class QuantityWrappedInTraits(traitlets.HasTraits):\n",
    "    \n",
    "    quantityTrait = traitlets.Instance(Quantity)\n",
    "    \n",
    "    def __init__(self, quantity):\n",
    "        self.quantityTrait = quantity\n",
    "        \n",
    "qwit = QuantityWrappedInTraits(q)\n",
    "print(qwt)"
   ]
  },
  {
   "cell_type": "code",
   "execution_count": 9,
   "metadata": {},
   "outputs": [
    {
     "name": "stdout",
     "output_type": "stream",
     "text": [
      "5 m\n"
     ]
    }
   ],
   "source": [
    "class QuantityWrappedInTraitspp(traitlets.HasTraits):\n",
    "    \n",
    "    quantityTrait = traitlets.Instance(klass=Quantity, args=(Quantity(0.0, Dimension(None)), ))\n",
    "    \n",
    "    def __init__(self, quantity):\n",
    "        self.quantityTrait = quantity\n",
    "        \n",
    "    \n",
    "        \n",
    "qwitpp = QuantityWrappedInTraitspp(q)\n",
    "print(qwitpp.quantityTrait)"
   ]
  },
  {
   "cell_type": "code",
   "execution_count": null,
   "metadata": {},
   "outputs": [],
   "source": []
  },
  {
   "cell_type": "code",
   "execution_count": null,
   "metadata": {},
   "outputs": [],
   "source": []
  },
  {
   "cell_type": "code",
   "execution_count": null,
   "metadata": {},
   "outputs": [],
   "source": []
  },
  {
   "cell_type": "code",
   "execution_count": null,
   "metadata": {},
   "outputs": [],
   "source": []
  },
  {
   "cell_type": "code",
   "execution_count": null,
   "metadata": {},
   "outputs": [],
   "source": []
  },
  {
   "cell_type": "code",
   "execution_count": null,
   "metadata": {},
   "outputs": [],
   "source": []
  },
  {
   "cell_type": "code",
   "execution_count": null,
   "metadata": {},
   "outputs": [],
   "source": []
  },
  {
   "cell_type": "code",
   "execution_count": null,
   "metadata": {},
   "outputs": [],
   "source": []
  },
  {
   "cell_type": "code",
   "execution_count": null,
   "metadata": {},
   "outputs": [],
   "source": []
  },
  {
   "cell_type": "code",
   "execution_count": 3,
   "metadata": {},
   "outputs": [],
   "source": [
    "from physipy import quantify\n",
    "\n",
    "from traitlets import (\n",
    "    Instance, Unicode, CFloat, Bool, CaselessStrEnum, Tuple, TraitError, validate, default, \n",
    ")\n",
    "from traitlets.traitlets import _validate_bounds\n",
    "\n",
    "from ipywidgets.widgets.widget_description import DescriptionWidget\n",
    "from ipywidgets.widgets.trait_types import InstanceDict, NumberFormat\n",
    "from ipywidgets.widgets.valuewidget import ValueWidget\n",
    "from ipywidgets.widgets.widget import register, widget_serialization\n",
    "from ipywidgets.widgets.widget_core import CoreWidget\n",
    "from ipywidgets.widgets.widget_int import ProgressStyle\n",
    "\n",
    "\n",
    "\n",
    "from ast import literal_eval\n",
    "import contextlib\n",
    "import inspect\n",
    "import os\n",
    "import re\n",
    "import sys\n",
    "import types\n",
    "import enum\n",
    "from warnings import warn, warn_explicit\n",
    "\n",
    "from traitlets.utils.getargspec import getargspec\n",
    "from traitlets.utils.importstring import import_item\n",
    "from traitlets.utils.sentinel import Sentinel\n",
    "from traitlets.utils.bunch import Bunch\n",
    "from traitlets.utils.descriptions import describe, class_of, add_article, repr_type\n",
    "from traitlets import TraitType\n",
    "\n",
    "SequenceTypes = (list, tuple, set, frozenset)\n",
    "\n",
    "# backward compatibility, use to differ between Python 2 and 3.\n",
    "ClassTypes = (type,)\n",
    "\n",
    "# exports:\n",
    "\n",
    "__all__ = [\n",
    "    \"default\",\n",
    "    \"validate\",\n",
    "    \"observe\",\n",
    "    \"observe_compat\",\n",
    "    \"link\",\n",
    "    \"directional_link\",\n",
    "    \"dlink\",\n",
    "    \"Undefined\",\n",
    "    \"All\",\n",
    "    \"NoDefaultSpecified\",\n",
    "    \"TraitError\",\n",
    "    \"HasDescriptors\",\n",
    "    \"HasTraits\",\n",
    "    \"MetaHasDescriptors\",\n",
    "    \"MetaHasTraits\",\n",
    "    \"BaseDescriptor\",\n",
    "    \"TraitType\",\n",
    "    \"parse_notifier_name\",\n",
    "]\n",
    "\n",
    "# any TraitType subclass (that doesn't start with _) will be added automatically\n",
    "\n",
    "#-----------------------------------------------------------------------------\n",
    "# Basic classes\n",
    "#-----------------------------------------------------------------------------\n",
    "\n",
    "\n",
    "Undefined = Sentinel('Undefined', 'traitlets',\n",
    "'''\n",
    "Used in Traitlets to specify that no defaults are set in kwargs\n",
    "'''\n",
    ")\n",
    "\n",
    "\n",
    "\n",
    "def _validate_bounds(trait, obj, value):\n",
    "    \"\"\"\n",
    "    Validate that a number to be applied to a trait is between bounds.\n",
    "    If value is not between min_bound and max_bound, this raises a\n",
    "    TraitError with an error message appropriate for this trait.\n",
    "    \"\"\"\n",
    "    \n",
    "    if trait.min is not None and value < trait.min:\n",
    "        raise TraitError(\n",
    "            \"The value of the '{name}' trait of {klass} instance should \"\n",
    "            \"not be less than {min_bound}, but a value of {value} was \"\n",
    "            \"specified\".format(\n",
    "                name=trait.name, klass=class_of(obj),\n",
    "                value=value, min_bound=trait.min))\n",
    "    if trait.max is not None and value > trait.max:\n",
    "        raise TraitError(\n",
    "            \"The value of the '{name}' trait of {klass} instance should \"\n",
    "            \"not be greater than {max_bound}, but a value of {value} was \"\n",
    "            \"specified\".format(\n",
    "                name=trait.name, klass=class_of(obj),\n",
    "                value=value, max_bound=trait.max))\n",
    "    return value\n",
    "\n",
    "\n",
    "class Float(TraitType):\n",
    "    \"\"\"A float trait.\"\"\"\n",
    "\n",
    "    default_value = 0.0\n",
    "    info_text = 'a float'\n",
    "\n",
    "    def __init__(self, default_value=Undefined, allow_none=False, **kwargs):\n",
    "        self.min = kwargs.pop('min', -float('inf'))\n",
    "        self.max = kwargs.pop('max', float('inf'))\n",
    "        super(Float, self).__init__(default_value=default_value,\n",
    "                                    allow_none=allow_none, **kwargs)\n",
    "\n",
    "    def validate(self, obj, value):\n",
    "        if isinstance(value, int):\n",
    "            value = float(value)\n",
    "        if not isinstance(value, float):\n",
    "            self.error(obj, value)\n",
    "        return _validate_bounds(self, obj, value)\n",
    "\n",
    "    def from_string(self, s):\n",
    "        if self.allow_none and s == 'None':\n",
    "            return None\n",
    "        return float(s)\n",
    "\n",
    "\n",
    "class CFloat(Float):\n",
    "    \"\"\"A casting version of the float trait.\"\"\"\n",
    "\n",
    "    def validate(self, obj, value):\n",
    "        try:\n",
    "            value = float(value)\n",
    "        except Exception:\n",
    "            self.error(obj, value)\n",
    "        return _validate_bounds(self, obj, value)\n",
    "\n",
    "\n",
    "class _Float(DescriptionWidget, ValueWidget, CoreWidget):\n",
    "    value = CFloat(0.0, help=\"Float value\").tag(sync=True)\n",
    "\n",
    "    def __init__(self, value=None, **kwargs):\n",
    "        if value is not None:\n",
    "            kwargs['value'] = value\n",
    "        super().__init__(**kwargs)\n",
    "\n",
    "\n",
    "class _BoundedFloat(_Float):\n",
    "    max = CFloat(100.0, help=\"Max value\").tag(sync=True)\n",
    "    min = CFloat(0.0, help=\"Min value\").tag(sync=True)\n",
    "\n",
    "    @validate('value')\n",
    "    def _validate_value(self, proposal):\n",
    "        \"\"\"Cap and floor value\"\"\"\n",
    "        value = proposal['value']\n",
    "        if self.min > value or self.max < value:\n",
    "            value = min(max(value, self.min), self.max)\n",
    "        return value\n",
    "\n",
    "    @validate('min')\n",
    "    def _validate_min(self, proposal):\n",
    "        \"\"\"Enforce min <= value <= max\"\"\"\n",
    "        min = proposal['value']\n",
    "        if min > self.max:\n",
    "            raise TraitError('Setting min > max')\n",
    "        if min > self.value:\n",
    "            self.value = min\n",
    "        return min\n",
    "\n",
    "    @validate('max')\n",
    "    def _validate_max(self, proposal):\n",
    "        \"\"\"Enforce min <= value <= max\"\"\"\n",
    "        max = proposal['value']\n",
    "        if max < self.min:\n",
    "            raise TraitError('setting max < min')\n",
    "        if max < self.value:\n",
    "            self.value = max\n",
    "        return max\n",
    "\n",
    "    \n",
    "    \n",
    "\n",
    "from ipywidgets.widgets.widget_int import IntText, BoundedIntText, IntSlider, IntProgress, IntRangeSlider, Play, SliderStyle\n",
    "\n",
    "@register\n",
    "class FloatSlider(_BoundedFloat):\n",
    "    \"\"\" Slider/trackbar of floating values with the specified range.\n",
    "    Parameters\n",
    "    ----------\n",
    "    value : float\n",
    "        position of the slider\n",
    "    min : float\n",
    "        minimal position of the slider\n",
    "    max : float\n",
    "        maximal position of the slider\n",
    "    step : float\n",
    "        step of the trackbar\n",
    "    description : str\n",
    "        name of the slider\n",
    "    orientation : {'horizontal', 'vertical'}\n",
    "        default is 'horizontal', orientation of the slider\n",
    "    readout : {True, False}\n",
    "        default is True, display the current value of the slider next to it\n",
    "    readout_format : str\n",
    "        default is '.2f', specifier for the format function used to represent\n",
    "        slider value for human consumption, modeled after Python 3's format\n",
    "        specification mini-language (PEP 3101).\n",
    "    \"\"\"\n",
    "    _view_name = Unicode('FloatSliderView').tag(sync=True)\n",
    "    _model_name = Unicode('FloatSliderModel').tag(sync=True)\n",
    "    step = CFloat(0.1, allow_none=True, help=\"Minimum step to increment the value\").tag(sync=True)\n",
    "    orientation = CaselessStrEnum(values=['horizontal', 'vertical'],\n",
    "        default_value='horizontal', help=\"Vertical or horizontal.\").tag(sync=True)\n",
    "    readout = Bool(True, help=\"Display the current value of the slider next to it.\").tag(sync=True)\n",
    "    readout_format = NumberFormat(\n",
    "        '.2f', help=\"Format for the readout\").tag(sync=True)\n",
    "    continuous_update = Bool(True, help=\"Update the value of the widget as the user is holding the slider.\").tag(sync=True)\n",
    "    disabled = Bool(False, help=\"Enable or disable user changes\").tag(sync=True)\n",
    "\n",
    "    style = InstanceDict(SliderStyle).tag(sync=True, **widget_serialization)\n",
    "\n"
   ]
  },
  {
   "cell_type": "code",
   "execution_count": null,
   "metadata": {},
   "outputs": [],
   "source": []
  },
  {
   "cell_type": "code",
   "execution_count": null,
   "metadata": {},
   "outputs": [],
   "source": []
  },
  {
   "cell_type": "code",
   "execution_count": 9,
   "metadata": {},
   "outputs": [],
   "source": [
    "from physipy import quantify, Quantity, Dimension\n",
    "\n",
    "from traitlets import (\n",
    "    Instance, Unicode, CFloat, Bool, CaselessStrEnum, Tuple, TraitError, validate, default, \n",
    ")\n",
    "from traitlets.traitlets import _validate_bounds\n",
    "\n",
    "from ipywidgets.widgets.widget_description import DescriptionWidget\n",
    "from ipywidgets.widgets.trait_types import InstanceDict, NumberFormat\n",
    "from ipywidgets.widgets.valuewidget import ValueWidget\n",
    "from ipywidgets.widgets.widget import register, widget_serialization\n",
    "from ipywidgets.widgets.widget_core import CoreWidget\n",
    "from ipywidgets.widgets.widget_int import ProgressStyle\n",
    "\n",
    "\n",
    "from traitlets import (\n",
    "    Instance, Unicode, CFloat, Bool, CaselessStrEnum, Tuple, TraitError, validate, default, \n",
    ")\n",
    "from traitlets.traitlets import _validate_bounds\n",
    "\n",
    "from ipywidgets.widgets.widget_description import DescriptionWidget\n",
    "from ipywidgets.widgets.trait_types import InstanceDict, NumberFormat\n",
    "from ipywidgets.widgets.valuewidget import ValueWidget\n",
    "from ipywidgets.widgets.widget import register, widget_serialization\n",
    "from ipywidgets.widgets.widget_core import CoreWidget\n",
    "from ipywidgets.widgets.widget_int import ProgressStyle\n",
    "\n",
    "\n",
    "\n",
    "from ast import literal_eval\n",
    "import contextlib\n",
    "import inspect\n",
    "import os\n",
    "import re\n",
    "import sys\n",
    "import types\n",
    "import enum\n",
    "from warnings import warn, warn_explicit\n",
    "\n",
    "from traitlets.utils.getargspec import getargspec\n",
    "from traitlets.utils.importstring import import_item\n",
    "from traitlets.utils.sentinel import Sentinel\n",
    "from traitlets.utils.bunch import Bunch\n",
    "from traitlets.utils.descriptions import describe, class_of, add_article, repr_type\n",
    "from traitlets import TraitType\n",
    "\n",
    "SequenceTypes = (list, tuple, set, frozenset)\n",
    "\n",
    "# backward compatibility, use to differ between Python 2 and 3.\n",
    "ClassTypes = (type,)\n",
    "\n",
    "# exports:\n",
    "\n",
    "__all__ = [\n",
    "    \"default\",\n",
    "    \"validate\",\n",
    "    \"observe\",\n",
    "    \"observe_compat\",\n",
    "    \"link\",\n",
    "    \"directional_link\",\n",
    "    \"dlink\",\n",
    "    \"Undefined\",\n",
    "    \"All\",\n",
    "    \"NoDefaultSpecified\",\n",
    "    \"TraitError\",\n",
    "    \"HasDescriptors\",\n",
    "    \"HasTraits\",\n",
    "    \"MetaHasDescriptors\",\n",
    "    \"MetaHasTraits\",\n",
    "    \"BaseDescriptor\",\n",
    "    \"TraitType\",\n",
    "    \"parse_notifier_name\",\n",
    "]\n",
    "\n",
    "# any TraitType subclass (that doesn't start with _) will be added automatically\n",
    "\n",
    "#-----------------------------------------------------------------------------\n",
    "# Basic classes\n",
    "#-----------------------------------------------------------------------------\n",
    "\n",
    "\n",
    "Undefined = Sentinel('Undefined', 'traitlets',\n",
    "'''\n",
    "Used in Traitlets to specify that no defaults are set in kwargs\n",
    "'''\n",
    ")\n",
    "\n",
    "\n",
    "\n",
    "from traitlets import TraitType\n",
    "from physipy.quantity.utils import quantity_json_encoder, quantity_json_decoder\n",
    "\n",
    "def quantity_to_json(q, widget):\n",
    "    return quantity_json_encoder(q)\n",
    "\n",
    "def quantity_from_json(q, widget):\n",
    "    return quantity_json_decoder(q)\n",
    "\n",
    "\n",
    "class QuantityTrait(TraitType):\n",
    "    \"\"\"A trait for Quantity.\n",
    "    \"\"\"\n",
    "\n",
    "    #default_value = \n",
    "    info_text = 'a Quantity object'\n",
    "\n",
    "    def __init__(self, default_value=Undefined, allow_none=False, **kwargs):\n",
    "        default_value = quantify(default_value)\n",
    "        default_dim = default_value.dimension\n",
    "        self.min = kwargs.pop('min', Quantity(-float('inf'),\n",
    "                                              default_dim))\n",
    "        self.max = kwargs.pop('max', Quantity(float('inf'),\n",
    "                                             default_dim))\n",
    "        super(QuantityTrait, self).__init__(default_value=default_value,\n",
    "                                    allow_none=allow_none, **kwargs)\n",
    "    \n",
    "    def validate(self, obj, value):\n",
    "        if not isinstance(value, Quantity):\n",
    "            self.error(obj, value)\n",
    "        return _validate_bounds(self, obj, value)\n",
    "\n",
    "#print(QuantityTrait(q).min)\n",
    "#print(QuantityTrait(q).max)\n",
    "#print(QuantityTrait(4).min)\n",
    "#print(type(QuantityTrait(4).min))\n",
    "\n"
   ]
  },
  {
   "cell_type": "code",
   "execution_count": 10,
   "metadata": {},
   "outputs": [],
   "source": [
    "class CQuantityTrait(QuantityTrait):\n",
    "    \"\"\"A casting version of the QuantityTrait trait.\"\"\"\n",
    "\n",
    "    def validate(self, obj, value):\n",
    "        try:\n",
    "            value = quantify(value)\n",
    "        except Exception:\n",
    "            self.error(obj, value)\n",
    "        return _validate_bounds(self, obj, value)\n",
    "\n",
    "#print(CQuantityTrait(q).min)\n",
    "#print(CQuantityTrait(q).max)\n",
    "#print(CQuantityTrait(4).min)\n",
    "#print(type(CQuantityTrait(4).min))\n",
    "#\n",
    "#cq = CQuantityTrait(q)\n",
    "#print(cq)\n",
    "#print(cq.default_value)"
   ]
  },
  {
   "cell_type": "code",
   "execution_count": 11,
   "metadata": {},
   "outputs": [],
   "source": [
    "class _QuantityTrait(DescriptionWidget, ValueWidget, CoreWidget):\n",
    "    #value = CQuantityTrait(0.0, help=\"Quantity value\").tag(sync=True)\n",
    "\n",
    "    def __init__(self, value=None, **kwargs):\n",
    "        if value is not None:\n",
    "            kwargs['value'] = value\n",
    "            self.__class__.value = CQuantityTrait(value, help=\"Quantity value\").tag(sync=True, to_json=quantity_to_json, from_json=quantity_from_json)\n",
    "            self.__class__.step = CQuantityTrait(Quantity(0.1,\n",
    "                                                          value.dimension),\n",
    "                                                 allow_none=True, help=\"Minimum step to increment the value\").tag(sync=True, to_json=quantity_to_json, from_json=quantity_from_json)\n",
    "    \n",
    "        super().__init__(**kwargs)"
   ]
  },
  {
   "cell_type": "code",
   "execution_count": 12,
   "metadata": {},
   "outputs": [],
   "source": [
    "class _BoundedQuantity(_QuantityTrait):\n",
    "    \n",
    "\n",
    "    @validate('value')\n",
    "    def _validate_value(self, proposal):\n",
    "        \"\"\"Cap and floor value\"\"\"\n",
    "        value = proposal['value']\n",
    "        self.max = CQuantityTrait(Quantity(100,\n",
    "                                           value.dimension, help=\"Max value\")).tag(sync=True, to_json=quantity_to_json, from_json=quantity_from_json)\n",
    "        self.min = CQuantityTrait(Quantity(0, \n",
    "                                           value.dimension, help=\"Min value\")).tag(sync=True, to_json=quantity_to_json, from_json=quantity_from_json)\n",
    "        if self.min > value or self.max < value:\n",
    "            value = min(max(value, self.min), self.max)\n",
    "        return value\n",
    "\n",
    "    @validate('min')\n",
    "    def _validate_min(self, proposal):\n",
    "        \"\"\"Enforce min <= value <= max\"\"\"\n",
    "        min = quantify(proposal['value'])\n",
    "        if min > self.max:\n",
    "            raise TraitError('Setting min > max')\n",
    "        if min > self.value:\n",
    "            self.value = min\n",
    "        return min\n",
    "\n",
    "    @validate('max')\n",
    "    def _validate_max(self, proposal):\n",
    "        \"\"\"Enforce min <= value <= max\"\"\"\n",
    "        max = quantify(proposal['value'])\n",
    "        if max < self.min:\n",
    "            raise TraitError('setting max < min')\n",
    "        if max < self.value:\n",
    "            self.value = max\n",
    "        return max\n"
   ]
  },
  {
   "cell_type": "code",
   "execution_count": 13,
   "metadata": {},
   "outputs": [],
   "source": [
    "\n",
    "from ipywidgets.widgets.widget_int import IntText, BoundedIntText, IntSlider, IntProgress, IntRangeSlider, Play, SliderStyle\n",
    "\n",
    "@register\n",
    "class QuantitySlider(_BoundedQuantity):\n",
    "    \"\"\" Slider/trackbar of floating values with the specified range.\n",
    "    Parameters\n",
    "    ----------\n",
    "    value : float\n",
    "        position of the slider\n",
    "    min : float\n",
    "        minimal position of the slider\n",
    "    max : float\n",
    "        maximal position of the slider\n",
    "    step : float\n",
    "        step of the trackbar\n",
    "    description : str\n",
    "        name of the slider\n",
    "    orientation : {'horizontal', 'vertical'}\n",
    "        default is 'horizontal', orientation of the slider\n",
    "    readout : {True, False}\n",
    "        default is True, display the current value of the slider next to it\n",
    "    readout_format : str\n",
    "        default is '.2f', specifier for the format function used to represent\n",
    "        slider value for human consumption, modeled after Python 3's format\n",
    "        specification mini-language (PEP 3101).\n",
    "    \"\"\"\n",
    "    _view_name = Unicode('FloatSliderView').tag(sync=True)\n",
    "    _model_name = Unicode('FloatSliderModel').tag(sync=True)\n",
    "    orientation = CaselessStrEnum(values=['horizontal', 'vertical'],\n",
    "        default_value='horizontal', help=\"Vertical or horizontal.\").tag(sync=True)\n",
    "    readout = Bool(True, help=\"Display the current value of the slider next to it.\").tag(sync=True)\n",
    "    #readout_format = NumberFormat(\n",
    "    #    '.2f', help=\"Format for the readout\").tag(sync=True)\n",
    "    continuous_update = Bool(True, help=\"Update the value of the widget as the user is holding the slider.\").tag(sync=True)\n",
    "    disabled = Bool(False, help=\"Enable or disable user changes\").tag(sync=True)\n",
    "\n",
    "    style = InstanceDict(SliderStyle).tag(sync=True, **widget_serialization)\n"
   ]
  },
  {
   "cell_type": "code",
   "execution_count": 16,
   "metadata": {},
   "outputs": [
    {
     "data": {
      "application/vnd.jupyter.widget-view+json": {
       "model_id": "5021226ab9654d0184d8042520a4ae85",
       "version_major": 2,
       "version_minor": 0
      },
      "text/plain": [
       "QuantitySlider(value=<Quantity : 5 m>, step=<Quantity : 5 m>)"
      ]
     },
     "metadata": {},
     "output_type": "display_data"
    }
   ],
   "source": [
    "# import a meter \"m\"\n",
    "from physipy.quickstart import m, s\n",
    "qs = QuantitySlider(5*m, min=0*m, max=10*m)\n",
    "qs"
   ]
  },
  {
   "cell_type": "code",
   "execution_count": 18,
   "metadata": {},
   "outputs": [
    {
     "name": "stdout",
     "output_type": "stream",
     "text": [
      "['_dom_classes', '_model_module', '_model_module_version', '_model_name', '_view_count', '_view_module', '_view_module_version', '_view_name', 'continuous_update', 'description', 'description_tooltip', 'disabled', 'layout', 'orientation', 'readout', 'step', 'style', 'value']\n",
      "10 m\n",
      "10 m\n",
      "10 m\n"
     ]
    }
   ],
   "source": [
    "\n",
    "print(qs.keys)\n",
    "print(qs.step)\n",
    "print(qs.value)\n",
    "qs.value = 10*m\n",
    "print(qs.value)\n",
    "# this should raise a DimensionError, and it does ! qs.value = 10*s\n"
   ]
  },
  {
   "cell_type": "code",
   "execution_count": null,
   "metadata": {},
   "outputs": [],
   "source": []
  },
  {
   "cell_type": "code",
   "execution_count": null,
   "metadata": {},
   "outputs": [],
   "source": []
  },
  {
   "cell_type": "code",
   "execution_count": null,
   "metadata": {},
   "outputs": [],
   "source": []
  },
  {
   "cell_type": "code",
   "execution_count": null,
   "metadata": {},
   "outputs": [],
   "source": []
  },
  {
   "cell_type": "code",
   "execution_count": 1,
   "metadata": {},
   "outputs": [
    {
     "name": "stdout",
     "output_type": "stream",
     "text": [
      "{\"Quantity\": true, \"value\": 5, \"dim_dict\": {\"L\": 1, \"M\": 0, \"T\": 0, \"I\": 0, \"theta\": 0, \"N\": 0, \"J\": 0, \"RAD\": 0, \"SR\": 0}}\n",
      "5 m\n"
     ]
    }
   ],
   "source": [
    "from physipy.quickstart import *\n",
    "import json\n",
    "\n",
    "def quantity_json_encoder(q):\n",
    "    if isinstance(q, Quantity):\n",
    "        return q._to_json_dict()\n",
    "    else:\n",
    "        type_name = q.__class__.__name__\n",
    "        raise TypeError(f\"Object of type '{type_name}' is not JSON seralizable\")\n",
    "\n",
    "\n",
    "q = 5*m\n",
    "jss = json.dumps(q, default=quantity_json_encoder)\n",
    "print(jss)\n",
    "                        \n",
    "    \n",
    "    \n",
    "def quantity_json_decoder(dct):\n",
    "    if \"Quantity\" in dct:\n",
    "        return Quantity(dct['value'], Dimension(dct['dim_dict']))\n",
    "    return dct\n",
    "\n",
    "                        \n",
    "#jss = \"\"\"\n",
    "#{\n",
    "#    \"Quantity\": true,\n",
    "#    \"value\": 5,\n",
    "#    \"dim\": {\"L\": 1, \"M\": 0, \"T\": 0, \"I\": 0, \"theta\": 0, \"N\": 0, \"J\": 0, \"RAD\": 0, \"SR\": 0}\n",
    "#}\n",
    "#\"\"\"\n",
    "q2 = json.loads(jss, object_hook=quantity_json_decoder)\n",
    "print(q2)"
   ]
  },
  {
   "cell_type": "code",
   "execution_count": null,
   "metadata": {},
   "outputs": [],
   "source": []
  },
  {
   "cell_type": "code",
   "execution_count": null,
   "metadata": {},
   "outputs": [],
   "source": []
  },
  {
   "cell_type": "code",
   "execution_count": null,
   "metadata": {},
   "outputs": [],
   "source": []
  },
  {
   "cell_type": "code",
   "execution_count": null,
   "metadata": {},
   "outputs": [],
   "source": []
  }
 ],
 "metadata": {
  "kernelspec": {
   "display_name": "Python 3",
   "language": "python",
   "name": "python3"
  },
  "language_info": {
   "codemirror_mode": {
    "name": "ipython",
    "version": 3
   },
   "file_extension": ".py",
   "mimetype": "text/x-python",
   "name": "python",
   "nbconvert_exporter": "python",
   "pygments_lexer": "ipython3",
   "version": "3.7.4"
  },
  "toc-autonumbering": false,
  "toc-showcode": false,
  "toc-showmarkdowntxt": false
 },
 "nbformat": 4,
 "nbformat_minor": 4
}
