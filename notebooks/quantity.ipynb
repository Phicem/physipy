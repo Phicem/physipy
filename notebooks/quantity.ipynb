{
 "cells": [
  {
   "cell_type": "markdown",
   "metadata": {},
   "source": [
    "# Imports"
   ]
  },
  {
   "cell_type": "code",
   "execution_count": 1,
   "metadata": {},
   "outputs": [
    {
     "name": "stdout",
     "output_type": "stream",
     "text": [
      "Warning: decimal display is less than exponent threshold\n"
     ]
    }
   ],
   "source": [
    "from quantity import *\n",
    "import numpy as np"
   ]
  },
  {
   "cell_type": "markdown",
   "metadata": {
    "toc-hr-collapsed": false
   },
   "source": [
    "# Utilisation Quantité"
   ]
  },
  {
   "cell_type": "markdown",
   "metadata": {},
   "source": [
    "## Déclaration \\__init\\__\n",
    "Une quantité est déclarée avec une valeur et une dimension. On peut ajouter une unité favorite et un symbole :\n",
    " - valeur : La valeur doit être un tableau numpy array, ou un réel.\n",
    " - dimension : un objet de la classe dimension\n",
    " - unité favorite : une quantité dont le symbole est défini. Vaut par défaut \"None\"\n",
    " - symbole : une chaine de caractère. Vaut par défaut \"<UndefinedSymbol>\"\n",
    " \n",
    "Deux autres attributs sont déclarés : \n",
    " - size : taille de la valeur de la quantité\n",
    " - __array_priority__ : fonctionnement avec numpy\n",
    " \n",
    "Attention il est interdit de déclarer une unité favorite par une quantité dont le symbole n'est pas déclaré"
   ]
  },
  {
   "cell_type": "code",
   "execution_count": 2,
   "metadata": {},
   "outputs": [
    {
     "name": "stdout",
     "output_type": "stream",
     "text": [
      "-----ATTRIBUTS de a\n",
      "12\n",
      "M\n",
      "None\n",
      "UndefinedSymbol\n",
      "1\n",
      "-----ATTRIBUTS de b\n",
      "12.334\n",
      "L\n",
      "None\n",
      "UndefinedSymbol\n",
      "1\n",
      "----ATTRIBUTS de c\n",
      "[1 2 3]\n",
      "J**2/Θ**2\n",
      "None\n",
      "UndefinedSymbol\n",
      "3\n"
     ]
    }
   ],
   "source": [
    "# Déclaration simple\n",
    "a = Quantity(12,Dimension(\"M\"))\n",
    "b = Quantity(12.334,Dimension(\"L\"))\n",
    "c = Quantity(np.array([1,2,3]),Dimension({\"J\":2,\"Θ\":-2}))\n",
    "print(\"-----ATTRIBUTS de a\")\n",
    "print(a.value)\n",
    "print(a.dimension)\n",
    "print(a.favunit)\n",
    "print(a.symbol)\n",
    "print(a.size)\n",
    "print(\"-----ATTRIBUTS de b\")\n",
    "print(b.value)\n",
    "print(b.dimension)\n",
    "print(b.favunit)\n",
    "print(b.symbol)\n",
    "print(b.size)\n",
    "print(\"----ATTRIBUTS de c\")\n",
    "print(c.value)\n",
    "print(c.dimension)\n",
    "print(c.favunit)\n",
    "print(c.symbol)\n",
    "print(c.size)"
   ]
  },
  {
   "cell_type": "code",
   "execution_count": null,
   "metadata": {},
   "outputs": [],
   "source": [
    "print(SI_units_derived)"
   ]
  },
  {
   "cell_type": "code",
   "execution_count": 3,
   "metadata": {},
   "outputs": [
    {
     "name": "stdout",
     "output_type": "stream",
     "text": [
      "----ATTRIBUTS de d\n",
      "0.001\n",
      "M\n",
      "None\n",
      "g\n",
      "1\n",
      "----ATTRIBUTS de e\n",
      "1000\n",
      "L\n",
      "None\n",
      "km\n",
      "1\n"
     ]
    }
   ],
   "source": [
    "# Déclaration avec symbole\n",
    "print(\"----ATTRIBUTS de d\")\n",
    "d = Quantity(0.001,Dimension(\"M\"),symbol=\"g\")\n",
    "print(d.value)\n",
    "print(d.dimension)\n",
    "print(d.favunit)\n",
    "print(d.symbol)\n",
    "print(d.size)\n",
    "print(\"----ATTRIBUTS de e\")\n",
    "e = Quantity(1000,Dimension(\"L\"),symbol=\"km\")\n",
    "print(e.value)\n",
    "print(e.dimension)\n",
    "print(e.favunit)\n",
    "print(e.symbol)\n",
    "print(e.size)\n"
   ]
  },
  {
   "cell_type": "code",
   "execution_count": 4,
   "metadata": {},
   "outputs": [
    {
     "name": "stdout",
     "output_type": "stream",
     "text": [
      "----ATTRIBUTS de f\n",
      "123\n",
      "M\n",
      "UndefinedSymbol\n",
      "1\n",
      "----ATTRIBUTS de g\n",
      "123\n",
      "M\n",
      "UndefinedSymbol\n",
      "1\n"
     ]
    }
   ],
   "source": [
    "# Déclaration avec unité favorite : une unité favorite doit être une quantité dont le symbole est défini\n",
    "f = Quantity(123,Dimension(\"M\"),favunit=d)\n",
    "g = Quantity(123,Dimension(\"M\"),favunit=e)\n",
    "# h = Quantite(124,Dimension(\"cd\"),unite_favorite=a) --> Lève une erreur AttributeError car a n'a pas de symbole défini\n",
    "print(\"----ATTRIBUTS de f\")\n",
    "print(f.value)\n",
    "print(f.dimension)\n",
    "#print(f.unite_favorite)\n",
    "print(f.symbol)\n",
    "print(f.size)\n",
    "print(\"----ATTRIBUTS de g\")\n",
    "print(g.value)\n",
    "print(g.dimension)\n",
    "#print(g.unite_favorite)\n",
    "print(g.symbol)\n",
    "print(g.size)"
   ]
  },
  {
   "cell_type": "code",
   "execution_count": 5,
   "metadata": {},
   "outputs": [
    {
     "name": "stdout",
     "output_type": "stream",
     "text": [
      "----ATTRIBUTS de i\n",
      "[1 2 3 4 5]\n",
      "J**2*L**2/T\n",
      "i\n",
      "5\n",
      "----ATTRIBUTS de j\n",
      "12.334\n",
      "M\n",
      "my_unit_custom_j\n",
      "1\n"
     ]
    }
   ],
   "source": [
    "# Déclaration complète\n",
    "i = Quantity(np.array([1,2,3,4,5]),Dimension({\"J\":2,\"L\":2,\"T\":-1}),favunit=d,symbol=\"i\")\n",
    "j = Quantity(12.334,Dimension(\"M\"),favunit=d,symbol=\"my_unit_custom_j\")\n",
    "print(\"----ATTRIBUTS de i\")\n",
    "print(i.value)\n",
    "print(i.dimension)\n",
    "#print(i.unite_favorite)\n",
    "print(i.symbol)\n",
    "print(i.size)\n",
    "print(\"----ATTRIBUTS de j\")\n",
    "print(j.value)\n",
    "print(j.dimension)\n",
    "#print(j.unite_favorite)\n",
    "print(j.symbol)\n",
    "print(j.size)"
   ]
  },
  {
   "cell_type": "markdown",
   "metadata": {
    "toc-hr-collapsed": true
   },
   "source": [
    "## Méthodes utiles"
   ]
  },
  {
   "cell_type": "markdown",
   "metadata": {},
   "source": [
    "### La quantite est elle de dimension nulle\n",
    "Cette méthode permet de tester si la quantité n'a pas de dimension"
   ]
  },
  {
   "cell_type": "code",
   "execution_count": 6,
   "metadata": {},
   "outputs": [
    {
     "name": "stdout",
     "output_type": "stream",
     "text": [
      "False\n",
      "True\n"
     ]
    }
   ],
   "source": [
    "print(a.is_dimensionless())\n",
    "print(Quantity(1,Dimension(None)).is_dimensionless())"
   ]
  },
  {
   "cell_type": "markdown",
   "metadata": {},
   "source": [
    "### Retire unité si possible\n",
    "Cette méthode permet de récupérer la valeur d'une quantité, si elle est sans dimension"
   ]
  },
  {
   "cell_type": "code",
   "execution_count": 7,
   "metadata": {},
   "outputs": [
    {
     "name": "stdout",
     "output_type": "stream",
     "text": [
      "12.1234\n"
     ]
    }
   ],
   "source": [
    "print(Quantity(12.1234,Dimension(None)).remove_dimension_if_dimensionless())"
   ]
  },
  {
   "cell_type": "markdown",
   "metadata": {},
   "source": [
    "## Addition, soustraction \\__add__ __sub__\n",
    "Pour additionner ou soustraire une quantité, l'opérande doit être une quantité. Ainsi, l'opérande est convertie en quantité : \n",
    " - si c'est une quantité, on ne change rien\n",
    " - si c'est un scalaire ou un tableau, on le convertie en quantité sans dimension\n",
    " \n",
    "Pour additionner ou sosutraire 2 quantités, leurs dimensions doivent être les mêmes. Si ce n'est pas le cas, on lève une exception.\n",
    "Lorsqu'on soustrait ou additionne 2 quantité :\n",
    " - valeurs : leurs valeurs s'ajoute\n",
    " - dimension : la dimension résultante est la même que celle des opérandes\n",
    " - unité favorite : aucune, valeur par défaut\n",
    " - symbole : aucune, valeur par défaut"
   ]
  },
  {
   "cell_type": "code",
   "execution_count": 8,
   "metadata": {},
   "outputs": [
    {
     "name": "stdout",
     "output_type": "stream",
     "text": [
      "---- Inspection de k\n",
      "24\n",
      "M\n",
      "None\n",
      "UndefinedSymbol\n",
      "---- Inspection de l\n",
      "0.0\n",
      "L\n",
      "None\n",
      "UndefinedSymbol\n"
     ]
    }
   ],
   "source": [
    "# a = 12kg, b = 12.334m\n",
    "k = a + a\n",
    "print(\"---- Inspection de k\")\n",
    "print(k.value)\n",
    "print(k.dimension)\n",
    "print(k.favunit)\n",
    "print(k.symbol)\n",
    "\n",
    "l = b - b\n",
    "print(\"---- Inspection de l\")\n",
    "print(l.value)\n",
    "print(l.dimension)\n",
    "print(l.favunit)\n",
    "print(l.symbol)\n",
    "\n",
    "#m = a + b # --> Lève une erreur de dimension"
   ]
  },
  {
   "cell_type": "markdown",
   "metadata": {},
   "source": [
    "## Multiplication , division \\__mul\\__ et \\__div\\__"
   ]
  },
  {
   "cell_type": "markdown",
   "metadata": {},
   "source": [
    "Pour multiplier ou diviser, on converti l'opérande en dimension. Lorsqu'on multiplie ou divise 2 quantités:\n",
    " - valeur : les valeurs se multiplient/divisent\n",
    " - dimension : les dimensions se multiplient/divisent (cf méthodes de Dimension). Si la grandeur résultante est sans dimension, on lui retire via la méthode retire_unite_si_possible\n",
    " - unité favorite : valeur par défaut\n",
    " - symbole : valeur par défaut"
   ]
  },
  {
   "cell_type": "code",
   "execution_count": 9,
   "metadata": {},
   "outputs": [
    {
     "name": "stdout",
     "output_type": "stream",
     "text": [
      "---- Inspection de n\n",
      "148.00799999999998\n",
      "L*M\n",
      "None\n",
      "UndefinedSymbol**2\n",
      "---- Inspection de o\n",
      "[12.33  6.17  4.11]\n",
      "L*Θ**2/J**2\n",
      "None\n",
      "1\n",
      "---- Inspection de oo et ooo : dimension retirée\n",
      "1.0\n",
      "<class 'float'>\n",
      "[1. 1. 1.]\n",
      "<class 'numpy.ndarray'>\n"
     ]
    }
   ],
   "source": [
    "# a = 12kg, b = 12.334m, c = [1,2,3]cd**2/K**2\n",
    "n = a * b\n",
    "print(\"---- Inspection de n\")\n",
    "print(n.value)\n",
    "print(n.dimension)\n",
    "print(n.favunit)\n",
    "print(n.symbol)\n",
    "\n",
    "o = b / c\n",
    "print(\"---- Inspection de o\")\n",
    "print(o.value)\n",
    "print(o.dimension)\n",
    "print(o.favunit)\n",
    "print(o.symbol)\n",
    "\n",
    "print(\"---- Inspection de oo et ooo : dimension retirée\")\n",
    "oo = b / b\n",
    "print(oo)\n",
    "print(type(oo))\n",
    "ooo = c / c \n",
    "print(ooo)\n",
    "print(type(ooo))"
   ]
  },
  {
   "cell_type": "markdown",
   "metadata": {},
   "source": [
    "## Puissance \\__pow\\__\n",
    "On peut élever une quantité en puissance par un réel :\n",
    " - valeur : élevé à la puissance\n",
    " - dimension : élevé à la puissance\n",
    " - unité favorite : valeur par défaut\n",
    " - symbole : valeur par défaut"
   ]
  },
  {
   "cell_type": "code",
   "execution_count": 10,
   "metadata": {},
   "outputs": [
    {
     "name": "stdout",
     "output_type": "stream",
     "text": [
      "---- Inspection de p\n",
      "[1 4 9]\n",
      "J**4/Θ**4\n",
      "None\n",
      "UndefinedSymbol**2\n",
      "---- Inspection de q\n",
      "[ 1.    5.66 15.59]\n",
      "J**5/Θ**5\n",
      "None\n",
      "UndefinedSymbol**2.5\n"
     ]
    }
   ],
   "source": [
    "p = c ** 2\n",
    "print(\"---- Inspection de p\")\n",
    "print(p.value)\n",
    "print(p.dimension)\n",
    "print(p.favunit)\n",
    "print(p.symbol)\n",
    "\n",
    "q = c ** 2.5\n",
    "print(\"---- Inspection de q\")\n",
    "print(q.value)\n",
    "print(q.dimension)\n",
    "print(q.favunit)\n",
    "print(q.symbol)\n"
   ]
  },
  {
   "cell_type": "markdown",
   "metadata": {},
   "source": [
    "## Comparaison eq, ne, lt, gt, le, ge"
   ]
  },
  {
   "cell_type": "markdown",
   "metadata": {},
   "source": [
    "On peut comparer des quantités : elles doivent être de mêmes dimension. On compare ensuite leurs valeurs"
   ]
  },
  {
   "cell_type": "code",
   "execution_count": 11,
   "metadata": {},
   "outputs": [
    {
     "name": "stdout",
     "output_type": "stream",
     "text": [
      "False\n",
      "True\n",
      "False\n",
      "True\n",
      "False\n",
      "True\n",
      "[False False False]\n",
      "[ True False False]\n",
      "12.00 kg\n",
      "12.33 m\n",
      "[1.00 2.00 3.00] cd**2/K**2\n"
     ]
    }
   ],
   "source": [
    "cd = Quantity(1,Dimension(\"J\"),symbol=\"cd\")\n",
    "K = Quantity(1,Dimension(\"Θ\"),symbol=\"K\")\n",
    "\n",
    "print(a < a)\n",
    "print(a == a)\n",
    "print(a == b)\n",
    "print(a <= a)\n",
    "print(c == b)\n",
    "print(c == c)\n",
    "print(c < c)\n",
    "print(c < 2*cd**2/K**2)\n",
    "print(a)\n",
    "print(b)\n",
    "print(c)"
   ]
  },
  {
   "cell_type": "markdown",
   "metadata": {},
   "source": [
    "## Conversions numériques abs, int, long, float, complex\n",
    "Abs prend simplement la valeur absolue de la valeur.\n",
    "Les autres fonctions évite de convertir une quantité dont la dimension n'est pas nulle."
   ]
  },
  {
   "cell_type": "code",
   "execution_count": 12,
   "metadata": {},
   "outputs": [
    {
     "name": "stdout",
     "output_type": "stream",
     "text": [
      "1.0\n",
      "12.0\n"
     ]
    }
   ],
   "source": [
    "r = abs(a)\n",
    "#rr = int(a) --> lève une erreur : on ne peux pas convertir une quantité de dimension non nulle : ici kg\n",
    "#rr = float(a)\n",
    "#rr = long(a)\n",
    "s = float(a/a) # résultat de la division sans dimension\n",
    "t = float(Quantity(12,Dimension(None)))\n",
    "print(s)\n",
    "print(t)"
   ]
  },
  {
   "cell_type": "markdown",
   "metadata": {},
   "source": [
    "## Conversions str et repr"
   ]
  },
  {
   "cell_type": "code",
   "execution_count": 13,
   "metadata": {},
   "outputs": [
    {
     "data": {
      "text/plain": [
       "12.00 kg"
      ]
     },
     "execution_count": 13,
     "metadata": {},
     "output_type": "execute_result"
    }
   ],
   "source": [
    "a"
   ]
  },
  {
   "cell_type": "code",
   "execution_count": 14,
   "metadata": {},
   "outputs": [
    {
     "data": {
      "text/plain": [
       "12.33 m"
      ]
     },
     "execution_count": 14,
     "metadata": {},
     "output_type": "execute_result"
    }
   ],
   "source": [
    "b"
   ]
  },
  {
   "cell_type": "code",
   "execution_count": 15,
   "metadata": {},
   "outputs": [
    {
     "data": {
      "text/plain": [
       "[1.00 2.00 3.00] cd**2/K**2"
      ]
     },
     "execution_count": 15,
     "metadata": {},
     "output_type": "execute_result"
    }
   ],
   "source": [
    "c"
   ]
  },
  {
   "cell_type": "code",
   "execution_count": 16,
   "metadata": {},
   "outputs": [
    {
     "data": {
      "text/plain": [
       "0.00 kg"
      ]
     },
     "execution_count": 16,
     "metadata": {},
     "output_type": "execute_result"
    }
   ],
   "source": [
    "d"
   ]
  },
  {
   "cell_type": "code",
   "execution_count": 17,
   "metadata": {},
   "outputs": [
    {
     "data": {
      "text/plain": [
       "1.00E+03 m"
      ]
     },
     "execution_count": 17,
     "metadata": {},
     "output_type": "execute_result"
    }
   ],
   "source": [
    "e"
   ]
  },
  {
   "cell_type": "code",
   "execution_count": 18,
   "metadata": {},
   "outputs": [
    {
     "name": "stdout",
     "output_type": "stream",
     "text": [
      "123\n",
      "M\n",
      "0.00 kg\n",
      "UndefinedSymbol\n"
     ]
    },
    {
     "data": {
      "text/plain": [
       "1.23E+05 g"
      ]
     },
     "execution_count": 18,
     "metadata": {},
     "output_type": "execute_result"
    }
   ],
   "source": [
    "print(f.value)\n",
    "print(f.dimension)\n",
    "print(f.favunit)\n",
    "print(f.symbol)\n",
    "f"
   ]
  },
  {
   "cell_type": "code",
   "execution_count": 40,
   "metadata": {},
   "outputs": [
    {
     "name": "stdout",
     "output_type": "stream",
     "text": [
      "2.00 mm\n"
     ]
    }
   ],
   "source": [
    "m = Quantity(1,Dimension(\"L\"),symbol=\"m\")\n",
    "mm = m/1000\n",
    "mm.symbol = \"mm\"\n",
    "\n",
    "aaa = 2*mm\n",
    "\n",
    "aaa.favunit = mm\n",
    "print(aaa)"
   ]
  },
  {
   "cell_type": "code",
   "execution_count": 20,
   "metadata": {},
   "outputs": [
    {
     "name": "stdout",
     "output_type": "stream",
     "text": [
      "123\n",
      "M\n",
      "1000\n",
      "L\n",
      "km\n",
      "1000\n"
     ]
    },
    {
     "data": {
      "text/plain": [
       "1.00E+03 m"
      ]
     },
     "execution_count": 20,
     "metadata": {},
     "output_type": "execute_result"
    }
   ],
   "source": [
    "print(g.value)\n",
    "print(g.dimension)\n",
    "print(g.favunit.value)\n",
    "print(g.favunit.dimension)\n",
    "print(g.favunit.symbol)\n",
    "print(g.favunit.value)\n",
    "g.favunit"
   ]
  },
  {
   "cell_type": "code",
   "execution_count": 21,
   "metadata": {},
   "outputs": [
    {
     "data": {
      "text/plain": [
       "123.00 kg/m*m"
      ]
     },
     "execution_count": 21,
     "metadata": {},
     "output_type": "execute_result"
    }
   ],
   "source": [
    "kg = Quantity(1,Dimension(\"M\"),symbol=\"kg\")\n",
    "\n",
    "g.favunit = kg/m\n",
    "g"
   ]
  },
  {
   "cell_type": "code",
   "execution_count": 22,
   "metadata": {
    "collapsed": true
   },
   "outputs": [],
   "source": [
    "#h # rsidu de l'import de dimension"
   ]
  },
  {
   "cell_type": "code",
   "execution_count": 23,
   "metadata": {},
   "outputs": [
    {
     "name": "stdout",
     "output_type": "stream",
     "text": [
      "[1 2 3 4 5]\n",
      "J**2*L**2/T\n",
      "0.001\n",
      "M\n",
      "g\n"
     ]
    },
    {
     "data": {
      "text/plain": [
       "0.00 kg"
      ]
     },
     "execution_count": 23,
     "metadata": {},
     "output_type": "execute_result"
    }
   ],
   "source": [
    "print(i.value)\n",
    "print(i.dimension)\n",
    "print(i.favunit.value)\n",
    "print(i.favunit.dimension)\n",
    "print(i.favunit.symbol)\n",
    "i.favunit"
   ]
  },
  {
   "cell_type": "code",
   "execution_count": 24,
   "metadata": {},
   "outputs": [
    {
     "data": {
      "text/plain": [
       "[1.00E+03 2.00E+03 3.00E+03 4.00E+03 5.00E+03] g*cd**2*m**2/(kg*s)"
      ]
     },
     "execution_count": 24,
     "metadata": {},
     "output_type": "execute_result"
    }
   ],
   "source": [
    "i"
   ]
  },
  {
   "cell_type": "code",
   "execution_count": 25,
   "metadata": {},
   "outputs": [
    {
     "name": "stdout",
     "output_type": "stream",
     "text": [
      "12.334\n",
      "M\n",
      "0.001\n",
      "M\n",
      "g\n"
     ]
    },
    {
     "data": {
      "text/plain": [
       "0.00 kg"
      ]
     },
     "execution_count": 25,
     "metadata": {},
     "output_type": "execute_result"
    }
   ],
   "source": [
    "print(j.value)\n",
    "print(j.dimension)\n",
    "print(j.favunit.value)\n",
    "print(j.favunit.dimension)\n",
    "print(j.favunit.symbol)\n",
    "j.favunit\n"
   ]
  },
  {
   "cell_type": "code",
   "execution_count": 26,
   "metadata": {},
   "outputs": [
    {
     "data": {
      "text/plain": [
       "1.23E+04 g"
      ]
     },
     "execution_count": 26,
     "metadata": {},
     "output_type": "execute_result"
    }
   ],
   "source": [
    "j"
   ]
  },
  {
   "cell_type": "code",
   "execution_count": 27,
   "metadata": {},
   "outputs": [
    {
     "name": "stdout",
     "output_type": "stream",
     "text": [
      "24\n",
      "M\n",
      "None\n",
      "UndefinedSymbol\n"
     ]
    },
    {
     "data": {
      "text/plain": [
       "24.00 kg"
      ]
     },
     "execution_count": 27,
     "metadata": {},
     "output_type": "execute_result"
    }
   ],
   "source": [
    "print(k.value)\n",
    "print(k.dimension)\n",
    "#print(k.unite_favorite.valeur)\n",
    "#print(k.unite_favorite.dimension)\n",
    "#print(k.unite_favorite.symbole)\n",
    "#k.unite_favorite\n",
    "print(k.favunit)\n",
    "print(k.symbol)\n",
    "k"
   ]
  },
  {
   "cell_type": "code",
   "execution_count": 28,
   "metadata": {},
   "outputs": [
    {
     "name": "stdout",
     "output_type": "stream",
     "text": [
      "0.0\n",
      "L\n",
      "None\n",
      "UndefinedSymbol\n"
     ]
    },
    {
     "data": {
      "text/plain": [
       "0.00 m"
      ]
     },
     "execution_count": 28,
     "metadata": {},
     "output_type": "execute_result"
    }
   ],
   "source": [
    "print(l.value)\n",
    "print(l.dimension)\n",
    "print(l.favunit)\n",
    "print(l.symbol)\n",
    "l"
   ]
  },
  {
   "cell_type": "code",
   "execution_count": 29,
   "metadata": {},
   "outputs": [
    {
     "name": "stdout",
     "output_type": "stream",
     "text": [
      "148.00799999999998\n",
      "L*M\n",
      "None\n",
      "UndefinedSymbol**2\n"
     ]
    },
    {
     "data": {
      "text/plain": [
       "148.01 kg*m"
      ]
     },
     "execution_count": 29,
     "metadata": {},
     "output_type": "execute_result"
    }
   ],
   "source": [
    "print(n.value)\n",
    "print(n.dimension)\n",
    "print(n.favunit)\n",
    "print(n.symbol)\n",
    "n"
   ]
  },
  {
   "cell_type": "code",
   "execution_count": 30,
   "metadata": {},
   "outputs": [
    {
     "name": "stdout",
     "output_type": "stream",
     "text": [
      "[12.33  6.17  4.11]\n",
      "L*Θ**2/J**2\n",
      "None\n",
      "1\n"
     ]
    },
    {
     "data": {
      "text/plain": [
       "[12.33 6.17 4.11] K**2*m/cd**2"
      ]
     },
     "execution_count": 30,
     "metadata": {},
     "output_type": "execute_result"
    }
   ],
   "source": [
    "print(o.value)\n",
    "print(o.dimension)\n",
    "print(o.favunit)\n",
    "print(o.symbol)\n",
    "o"
   ]
  },
  {
   "cell_type": "code",
   "execution_count": 31,
   "metadata": {},
   "outputs": [
    {
     "name": "stdout",
     "output_type": "stream",
     "text": [
      "[1 4 9]\n",
      "J**4/Θ**4\n",
      "None\n",
      "UndefinedSymbol**2\n"
     ]
    },
    {
     "data": {
      "text/plain": [
       "[1.00 4.00 9.00] cd**4/K**4"
      ]
     },
     "execution_count": 31,
     "metadata": {},
     "output_type": "execute_result"
    }
   ],
   "source": [
    "print(p.value)\n",
    "print(p.dimension)\n",
    "print(p.favunit)\n",
    "print(p.symbol)\n",
    "p"
   ]
  },
  {
   "cell_type": "code",
   "execution_count": 32,
   "metadata": {},
   "outputs": [
    {
     "name": "stdout",
     "output_type": "stream",
     "text": [
      "[ 1.    5.66 15.59]\n",
      "J**5/Θ**5\n",
      "None\n",
      "UndefinedSymbol**2.5\n"
     ]
    },
    {
     "data": {
      "text/plain": [
       "[1.00 5.66 15.59] cd**5/K**5"
      ]
     },
     "execution_count": 32,
     "metadata": {},
     "output_type": "execute_result"
    }
   ],
   "source": [
    "print(q.value)\n",
    "print(q.dimension)\n",
    "print(q.favunit)\n",
    "print(q.symbol)\n",
    "q"
   ]
  },
  {
   "cell_type": "code",
   "execution_count": 33,
   "metadata": {},
   "outputs": [
    {
     "name": "stdout",
     "output_type": "stream",
     "text": [
      "12\n",
      "M\n",
      "None\n",
      "UndefinedSymbol\n"
     ]
    },
    {
     "data": {
      "text/plain": [
       "12.00 kg"
      ]
     },
     "execution_count": 33,
     "metadata": {},
     "output_type": "execute_result"
    }
   ],
   "source": [
    "print(r.value)\n",
    "print(r.dimension)\n",
    "print(r.favunit)\n",
    "print(r.symbol)\n",
    "r"
   ]
  },
  {
   "cell_type": "code",
   "execution_count": 34,
   "metadata": {},
   "outputs": [
    {
     "data": {
      "text/plain": [
       "1.0"
      ]
     },
     "execution_count": 34,
     "metadata": {},
     "output_type": "execute_result"
    }
   ],
   "source": [
    "#print(s.value)\n",
    "#print(s.dimension)\n",
    "#print(s.favunit)\n",
    "#print(s.symbol)\n",
    "s"
   ]
  },
  {
   "cell_type": "code",
   "execution_count": 35,
   "metadata": {
    "collapsed": true
   },
   "outputs": [],
   "source": [
    "#print(t.value)\n",
    "#print(t.dimension)\n",
    "#print(t.favunit)\n",
    "#print(t.symbol)\n",
    "#t"
   ]
  },
  {
   "cell_type": "code",
   "execution_count": 36,
   "metadata": {},
   "outputs": [
    {
     "name": "stdout",
     "output_type": "stream",
     "text": [
      "12.00 kg\n",
      "12.33 m\n",
      "[1.00 2.00 3.00] cd**2/K**2\n",
      "0.00 kg\n",
      "1.00E+03 m\n",
      "1.23E+05 g\n",
      "123.00 kg/m*m\n",
      "[1.00E+03 2.00E+03 3.00E+03 4.00E+03 5.00E+03] g*cd**2*m**2/(kg*s)\n",
      "1.23E+04 g\n",
      "24.00 kg\n",
      "0.00 m\n",
      "148.01 kg*m\n",
      "[12.33 6.17 4.11] K**2*m/cd**2\n",
      "[1.00 4.00 9.00] cd**4/K**4\n",
      "[1.00 5.66 15.59] cd**5/K**5\n",
      "12.00 kg\n",
      "1.0\n",
      "12.0\n"
     ]
    }
   ],
   "source": [
    "print(str(a))\n",
    "print(str(b))\n",
    "print(str(c))\n",
    "print(str(d))\n",
    "print(str(e))\n",
    "print(str(f))\n",
    "print(str(g))\n",
    "#print(str(h))\n",
    "print(str(i))\n",
    "print(str(j))\n",
    "print(str(k))\n",
    "print(str(l))\n",
    "#print(str(m)) pas défini\n",
    "print(str(n))\n",
    "print(str(o))\n",
    "print(str(p))\n",
    "print(str(q))\n",
    "print(str(r))\n",
    "print(str(s))\n",
    "print(str(t))"
   ]
  },
  {
   "cell_type": "markdown",
   "metadata": {
    "toc-hr-collapsed": true
   },
   "source": [
    "# Fonctions de quantité"
   ]
  },
  {
   "cell_type": "markdown",
   "metadata": {},
   "source": [
    "## Initialisation des unités de bases"
   ]
  },
  {
   "cell_type": "code",
   "execution_count": 37,
   "metadata": {
    "collapsed": true
   },
   "outputs": [],
   "source": [
    "#initialise_unités_de_base() déjà fait plus haut"
   ]
  },
  {
   "cell_type": "markdown",
   "metadata": {},
   "source": [
    "## Initialise multiples unitésde base"
   ]
  },
  {
   "cell_type": "code",
   "execution_count": 38,
   "metadata": {
    "collapsed": true
   },
   "outputs": [],
   "source": [
    "#initialise_sous_multiples_unités_de_base()"
   ]
  },
  {
   "cell_type": "markdown",
   "metadata": {},
   "source": [
    "## Définition unité"
   ]
  },
  {
   "cell_type": "code",
   "execution_count": 39,
   "metadata": {
    "collapsed": true
   },
   "outputs": [],
   "source": [
    "#defineUnit(\"Hz\", 1/s)"
   ]
  },
  {
   "cell_type": "code",
   "execution_count": 40,
   "metadata": {
    "collapsed": true
   },
   "outputs": [],
   "source": [
    "#Hz"
   ]
  },
  {
   "cell_type": "code",
   "execution_count": null,
   "metadata": {},
   "outputs": [],
   "source": []
  },
  {
   "cell_type": "markdown",
   "metadata": {
    "toc-hr-collapsed": true
   },
   "source": [
    "# Fonctions utiles"
   ]
  },
  {
   "cell_type": "markdown",
   "metadata": {},
   "source": [
    "## Interpolateur\n",
    "L'interpolateur permet de calculer une valeur interpolée parmis un tableau de donnée, en conservant les unités. L'interpolateur fonctionne àla fois pour les entiers/float/tableau array et les quantités:"
   ]
  },
  {
   "cell_type": "code",
   "execution_count": 41,
   "metadata": {},
   "outputs": [
    {
     "data": {
      "text/plain": [
       "6.50 no-dimension"
      ]
     },
     "execution_count": 41,
     "metadata": {},
     "output_type": "execute_result"
    }
   ],
   "source": [
    "tab_x = [1, 2,3,4,5,6,7,8,9,10]\n",
    "tab_y = [10,9,8,7,6,5,4,3,2,1]\n",
    "variable = 4.5\n",
    "Q_interp(variable, tab_x, tab_y)"
   ]
  },
  {
   "cell_type": "code",
   "execution_count": 42,
   "metadata": {},
   "outputs": [
    {
     "data": {
      "text/plain": [
       "6.50 no-dimension"
      ]
     },
     "execution_count": 42,
     "metadata": {},
     "output_type": "execute_result"
    }
   ],
   "source": [
    "tab_x = np.array([1, 2,3,4,5,6,7,8,9,10])\n",
    "tab_y = np.array([10,9,8,7,6,5,4,3,2,1])\n",
    "variable = 4.5\n",
    "Q_interp(variable, tab_x, tab_y)"
   ]
  },
  {
   "cell_type": "code",
   "execution_count": 43,
   "metadata": {},
   "outputs": [
    {
     "data": {
      "text/plain": [
       "6.50 no-dimension"
      ]
     },
     "execution_count": 43,
     "metadata": {},
     "output_type": "execute_result"
    }
   ],
   "source": [
    "m = Quantity(1,Dimension(\"L\"),symbol=\"m\")\n",
    "tab_x = np.array([1, 2,3,4,5,6,7,8,9,10])*m\n",
    "tab_y = np.array([10,9,8,7,6,5,4,3,2,1])\n",
    "variable = 4.5*m\n",
    "Q_interp(variable, tab_x, tab_y)"
   ]
  },
  {
   "cell_type": "code",
   "execution_count": 44,
   "metadata": {},
   "outputs": [
    {
     "data": {
      "text/plain": [
       "6.50 m**2"
      ]
     },
     "execution_count": 44,
     "metadata": {},
     "output_type": "execute_result"
    }
   ],
   "source": [
    "m = Quantity(1,Dimension(\"L\"),symbol=\"m\")\n",
    "tab_x = np.array([1, 2,3,4,5,6,7,8,9,10])*m\n",
    "tab_y = np.array([10,9,8,7,6,5,4,3,2,1])*m**2\n",
    "variable = 4.5*m\n",
    "Q_interp(variable, tab_x, tab_y)"
   ]
  },
  {
   "cell_type": "code",
   "execution_count": 45,
   "metadata": {},
   "outputs": [
    {
     "data": {
      "text/plain": [
       "6.50 m"
      ]
     },
     "execution_count": 45,
     "metadata": {},
     "output_type": "execute_result"
    }
   ],
   "source": [
    "m = Quantity(1,Dimension(\"L\"),symbol=\"m\")\n",
    "tab_x = np.array([1, 2,3,4,5,6,7,8,9,10])\n",
    "tab_y = np.array([10,9,8,7,6,5,4,3,2,1])*m\n",
    "variable = 4.5\n",
    "Q_interp(variable, tab_x, tab_y)"
   ]
  },
  {
   "cell_type": "markdown",
   "metadata": {},
   "source": [
    "Ne doivent pas fonctionner : "
   ]
  },
  {
   "cell_type": "code",
   "execution_count": 46,
   "metadata": {
    "collapsed": true
   },
   "outputs": [],
   "source": [
    "m = Quantity(1,Dimension(\"L\"),symbol=\"m\")\n",
    "tab_x = np.array([1, 2,3,4,5,6,7,8,9,10])*m\n",
    "tab_y = np.array([10,9,8,7,6,5,4,3,2,1])\n",
    "variable = 4.5\n",
    "#Q_interp(variable, tab_x, tab_y) --> Lève erreur"
   ]
  },
  {
   "cell_type": "code",
   "execution_count": 47,
   "metadata": {
    "collapsed": true
   },
   "outputs": [],
   "source": [
    "m = Quantity(1,Dimension(\"L\"),symbol=\"m\")\n",
    "tab_x = np.array([1, 2,3,4,5,6,7,8,9,10])\n",
    "tab_y = np.array([10,9,8,7,6,5,4,3,2,1])\n",
    "variable = 4.5*m\n",
    "#Q_interp(variable, tab_x, tab_y) --> lève erreur"
   ]
  },
  {
   "cell_type": "code",
   "execution_count": 48,
   "metadata": {
    "collapsed": true
   },
   "outputs": [],
   "source": [
    "m = Quantity(1,Dimension(\"L\"),symbol=\"m\")\n",
    "tab_x = np.array([1, 2,3,4,5,6,7,8,9,10])*Quantity(1,Dimension(\"J\"),symbol=\"cd\")\n",
    "tab_y = np.array([10,9,8,7,6,5,4,3,2,1])\n",
    "variable = 4.5*m\n",
    "#Q_interp(variable, tab_x, tab_y) #--> lève erreur"
   ]
  },
  {
   "cell_type": "markdown",
   "metadata": {},
   "source": [
    "## Vectorizateur"
   ]
  },
  {
   "cell_type": "code",
   "execution_count": 49,
   "metadata": {
    "collapsed": true
   },
   "outputs": [],
   "source": [
    "mm = Quantity(0.001,Dimension(\"L\"),symbol=\"mm\")\n",
    "f_cymm = 2/mm\n",
    "f_cymm_array = np.array([1,2,3,4,5])/mm\n",
    "def calcul_FTM_test_non_vectorize(fcymm):\n",
    "    if fcymm > 1/Quantity(1,Dimension(\"L\")):\n",
    "        return 1-fcymm/(10*1/mm)\n",
    "    else:\n",
    "        return 0"
   ]
  },
  {
   "cell_type": "code",
   "execution_count": 50,
   "metadata": {},
   "outputs": [
    {
     "data": {
      "text/plain": [
       "0.8"
      ]
     },
     "execution_count": 50,
     "metadata": {},
     "output_type": "execute_result"
    }
   ],
   "source": [
    "calcul_FTM_test_non_vectorize(f_cymm)\n",
    "#calcul_FTM_test_non_vectorize(f_cymm_array)# --> lève une erreur ; The truth value of an array with more than one element is ambiguous. Use a.any() or a.all()"
   ]
  },
  {
   "cell_type": "code",
   "execution_count": 51,
   "metadata": {
    "collapsed": true
   },
   "outputs": [],
   "source": [
    "mm = Quantity(0.001,Dimension(\"L\"),symbol=\"mm\")\n",
    "f_cymm = 2/mm\n",
    "f_cymm_array = np.array([1,2,3,4,5])/mm\n",
    "\n",
    "@Q_vectorize\n",
    "def calcul_FTM_test_oui_vectorize(fcymm):\n",
    "    if fcymm > 1/Quantity(1,Dimension(\"L\")):\n",
    "        return 1-fcymm/(10*1/mm)\n",
    "    else:\n",
    "        return 0\n"
   ]
  },
  {
   "cell_type": "code",
   "execution_count": 52,
   "metadata": {},
   "outputs": [
    {
     "data": {
      "text/plain": [
       "[0.90 0.80 0.70 0.60 0.50] no-dimension"
      ]
     },
     "execution_count": 52,
     "metadata": {},
     "output_type": "execute_result"
    }
   ],
   "source": [
    "calcul_FTM_test_oui_vectorize(f_cymm)\n",
    "calcul_FTM_test_oui_vectorize(f_cymm_array)"
   ]
  },
  {
   "cell_type": "code",
   "execution_count": 53,
   "metadata": {
    "collapsed": true
   },
   "outputs": [],
   "source": [
    "@Q_vectorize\n",
    "def calcul_energie(lambda_):\n",
    "    if lambda_ > 2*mm:    \n",
    "        return 90*mm\n",
    "    else:\n",
    "        return 0.0*mm"
   ]
  },
  {
   "cell_type": "code",
   "execution_count": 54,
   "metadata": {},
   "outputs": [
    {
     "data": {
      "text/plain": [
       "[0.00 0.00 0.09 0.09 0.09] m"
      ]
     },
     "execution_count": 54,
     "metadata": {},
     "output_type": "execute_result"
    }
   ],
   "source": [
    "calcul_energie(np.array([1,2,3,4,5])*mm)"
   ]
  },
  {
   "cell_type": "markdown",
   "metadata": {},
   "source": [
    "## Itérateur : getteur et setteur"
   ]
  },
  {
   "cell_type": "code",
   "execution_count": 55,
   "metadata": {
    "collapsed": true
   },
   "outputs": [],
   "source": [
    "u = np.array([1,2,3,4,5])*m\n",
    "u.unite_favorite = Quantity(0.001,Dimension(\"L\"),symbol=\"mm\")"
   ]
  },
  {
   "cell_type": "code",
   "execution_count": 56,
   "metadata": {},
   "outputs": [
    {
     "name": "stdout",
     "output_type": "stream",
     "text": [
      "1.00 m\n",
      "2.00 m\n",
      "3.00 m\n",
      "4.00 m\n",
      "5.00 m\n"
     ]
    }
   ],
   "source": [
    "for val in u:\n",
    "    print(val)"
   ]
  },
  {
   "cell_type": "code",
   "execution_count": 57,
   "metadata": {},
   "outputs": [
    {
     "name": "stdout",
     "output_type": "stream",
     "text": [
      "[1.00 2.00 35.00 4.00 5.00] m\n"
     ]
    }
   ],
   "source": [
    "u[2] = 35*m\n",
    "print(u)"
   ]
  },
  {
   "cell_type": "code",
   "execution_count": 58,
   "metadata": {
    "collapsed": true
   },
   "outputs": [],
   "source": [
    "# --> lève une erreur, insérer une quantité doit être de même dimension\n",
    "#u[4] = 35*Quantite(1,Dimension(\"kg\"))   "
   ]
  },
  {
   "cell_type": "markdown",
   "metadata": {},
   "source": [
    "## Linspace"
   ]
  },
  {
   "cell_type": "code",
   "execution_count": 59,
   "metadata": {},
   "outputs": [
    {
     "name": "stdout",
     "output_type": "stream",
     "text": [
      "1.00 m\n",
      "0.00 m\n"
     ]
    },
    {
     "data": {
      "text/plain": [
       "[0.00 0.10 0.20 0.30 0.41 0.51 0.61 0.71 0.81 0.91 1.01 1.11 1.21 1.31 1.42 1.52 1.62 1.72 1.82 1.92 2.02 2.12 2.22 2.32 2.43 2.53 2.63 2.73 2.83 2.93 3.03 3.13 3.23 3.33 3.44 3.54 3.64 3.74 3.84 3.94 4.04 4.14 4.24 4.34 4.45 4.55 4.65 4.75 4.85 4.95 5.05 5.15 5.25 5.35 5.46 5.56 5.66 5.76 5.86 5.96 6.06 6.16 6.26 6.36 6.47 6.57 6.67 6.77 6.87 6.97 7.07 7.17 7.27 7.37 7.48 7.58 7.68 7.78 7.88 7.98 8.08 8.18 8.28 8.38 8.49 8.59 8.69 8.79 8.89 8.99 9.09 9.19 9.29 9.39 9.50 9.60 9.70 9.80 9.90 10.00] m"
      ]
     },
     "execution_count": 59,
     "metadata": {},
     "output_type": "execute_result"
    }
   ],
   "source": [
    "m = Quantity(1,Dimension(\"L\"),symbol=\"m\")\n",
    "print(m)\n",
    "print(mm)\n",
    "Q_linspace(2*mm,10*m)"
   ]
  },
  {
   "cell_type": "code",
   "execution_count": 60,
   "metadata": {},
   "outputs": [
    {
     "data": {
      "text/plain": [
       "[0.00 1.11 2.22 3.33 4.45 5.56 6.67 7.78 8.89 10.00] m"
      ]
     },
     "execution_count": 60,
     "metadata": {},
     "output_type": "execute_result"
    }
   ],
   "source": [
    "Q_linspace(2*mm,10*m,10)"
   ]
  },
  {
   "cell_type": "markdown",
   "metadata": {},
   "source": [
    "## Intégrateur"
   ]
  },
  {
   "cell_type": "code",
   "execution_count": 61,
   "metadata": {},
   "outputs": [
    {
     "data": {
      "text/plain": [
       "16.00 m**2"
      ]
     },
     "execution_count": 61,
     "metadata": {},
     "output_type": "execute_result"
    }
   ],
   "source": [
    "def test_func(x):\n",
    "    return 2*x\n",
    "\n",
    "Q_integrate(3*m,5*m,test_func)"
   ]
  },
  {
   "cell_type": "code",
   "execution_count": null,
   "metadata": {},
   "outputs": [],
   "source": []
  },
  {
   "cell_type": "code",
   "execution_count": 62,
   "metadata": {},
   "outputs": [],
   "source": [
    "import quantity\n",
    "from quantity import Quantity, Dimension\n",
    "import numpy as np"
   ]
  },
  {
   "cell_type": "code",
   "execution_count": 63,
   "metadata": {},
   "outputs": [],
   "source": [
    "a = Quantity(np.array([1,2,3]), Dimension(\"L\"))\n",
    "b = a **1"
   ]
  },
  {
   "cell_type": "code",
   "execution_count": 64,
   "metadata": {},
   "outputs": [
    {
     "name": "stdout",
     "output_type": "stream",
     "text": [
      "[1.00 2.00 3.00] m\n",
      "[1.00 2.00 3.00] m\n",
      "<class 'quantity.quantity.Quantity'>\n",
      "<class 'numpy.ndarray'>\n",
      "True\n"
     ]
    }
   ],
   "source": [
    "print(a)\n",
    "print(b)\n",
    "print(type(a))\n",
    "print(type(a.value))\n",
    "print(a == b)"
   ]
  },
  {
   "cell_type": "code",
   "execution_count": 65,
   "metadata": {},
   "outputs": [
    {
     "name": "stdout",
     "output_type": "stream",
     "text": [
      "[1 1 1]\n",
      "[1 1 1]\n",
      "[  1  32 729]\n",
      "[  1  32 729]\n"
     ]
    }
   ],
   "source": [
    "v1 = np.array([1,2,3])\n",
    "v2 = np.array([4,5,6])\n",
    "print(1**v1)\n",
    "print(1**v2)\n",
    "print(v1**v2)\n",
    "print(v1**v2[:])"
   ]
  },
  {
   "cell_type": "code",
   "execution_count": 66,
   "metadata": {},
   "outputs": [
    {
     "name": "stdout",
     "output_type": "stream",
     "text": [
      "[1.00 2.00 3.00] m\n",
      "[1.00 2.00 3.00] m\n",
      "[1.00 4.00 9.00] m**2\n"
     ]
    }
   ],
   "source": [
    "print(a)\n",
    "print(a ** 1)\n",
    "print(a ** 2)\n",
    "#print(a ** np.array([1]))\n"
   ]
  },
  {
   "cell_type": "code",
   "execution_count": 68,
   "metadata": {},
   "outputs": [],
   "source": [
    "#np.cos(Quantity(1,Dimension(None)))"
   ]
  },
  {
   "cell_type": "code",
   "execution_count": 69,
   "metadata": {},
   "outputs": [],
   "source": [
    "a = Quantity(1,Dimension(\"M\"))"
   ]
  },
  {
   "cell_type": "code",
   "execution_count": 70,
   "metadata": {},
   "outputs": [
    {
     "data": {
      "text/plain": [
       "1"
      ]
     },
     "execution_count": 70,
     "metadata": {},
     "output_type": "execute_result"
    }
   ],
   "source": [
    "a.quantity_class_constant"
   ]
  },
  {
   "cell_type": "code",
   "execution_count": 71,
   "metadata": {},
   "outputs": [],
   "source": [
    "a.quantity_class_constant = 2"
   ]
  },
  {
   "cell_type": "code",
   "execution_count": 72,
   "metadata": {},
   "outputs": [
    {
     "data": {
      "text/plain": [
       "2"
      ]
     },
     "execution_count": 72,
     "metadata": {},
     "output_type": "execute_result"
    }
   ],
   "source": [
    "a.quantity_class_constant"
   ]
  },
  {
   "cell_type": "code",
   "execution_count": 74,
   "metadata": {},
   "outputs": [
    {
     "data": {
      "text/plain": [
       "1"
      ]
     },
     "execution_count": 74,
     "metadata": {},
     "output_type": "execute_result"
    }
   ],
   "source": [
    "b = Quantity(2,Dimension(\"M\"))\n",
    "b.quantity_class_constant"
   ]
  },
  {
   "cell_type": "code",
   "execution_count": null,
   "metadata": {},
   "outputs": [],
   "source": []
  },
  {
   "cell_type": "code",
   "execution_count": null,
   "metadata": {},
   "outputs": [],
   "source": []
  },
  {
   "cell_type": "code",
   "execution_count": 2,
   "metadata": {},
   "outputs": [],
   "source": [
    "from quantity import units"
   ]
  },
  {
   "cell_type": "code",
   "execution_count": 3,
   "metadata": {},
   "outputs": [
    {
     "data": {
      "text/plain": [
       "{'rad': 1.00 no-dimension,\n",
       " 'sr': 1.00 no-dimension,\n",
       " 'Hz': 1.00 1/s,\n",
       " 'N': 1.00 kg*m/s**2,\n",
       " 'Pa': 1.00 kg/(m*s**2),\n",
       " 'J': 1.00 kg*m**2/s**2,\n",
       " 'W': 1.00 kg*m**2/s**3,\n",
       " 'C': 1.00 A*s,\n",
       " 'V': 1.00 kg*m**2/(A*s**3),\n",
       " 'F': 1.00 A**2*s**4/(kg*m**2),\n",
       " 'Wb': 1.00 kg*m**2/(A*s**2),\n",
       " 'T': 1.00 kg/(A*s**2),\n",
       " 'H': 1.00 kg*m**2/(A**2*s**2),\n",
       " 'lm': 1.00 cd,\n",
       " 'lx': 1.00 cd/m**2,\n",
       " 'Bq': 1.00 1/s}"
      ]
     },
     "execution_count": 3,
     "metadata": {},
     "output_type": "execute_result"
    }
   ],
   "source": [
    "units"
   ]
  },
  {
   "cell_type": "code",
   "execution_count": 4,
   "metadata": {},
   "outputs": [],
   "source": [
    "T = units[\"T\"]"
   ]
  },
  {
   "cell_type": "code",
   "execution_count": 5,
   "metadata": {},
   "outputs": [
    {
     "data": {
      "text/plain": [
       "1.00 kg/(A*s**2)"
      ]
     },
     "execution_count": 5,
     "metadata": {},
     "output_type": "execute_result"
    }
   ],
   "source": [
    "T"
   ]
  },
  {
   "cell_type": "code",
   "execution_count": 1,
   "metadata": {},
   "outputs": [
    {
     "name": "stdout",
     "output_type": "stream",
     "text": [
      "Warning: decimal display is less than exponent threshold\n"
     ]
    }
   ],
   "source": [
    "import quantity\n",
    "from quantity import m, kg, s\n",
    "from quantity import quantify, Quantity, Dimension"
   ]
  },
  {
   "cell_type": "code",
   "execution_count": 9,
   "metadata": {},
   "outputs": [
    {
     "name": "stdout",
     "output_type": "stream",
     "text": [
      "7.20 km/hr\n",
      "0.00 km*1/s\n",
      "5.56E-04 hr*m/s**2\n"
     ]
    }
   ],
   "source": [
    "a = 2*m/s\n",
    "km = 1000*m\n",
    "km.symbol = 'km'\n",
    "hr = 3600*s\n",
    "hr.symbol = \"hr\"\n",
    "km_hr = km/hr\n",
    "print(a.to(km/hr))\n",
    "print(a.to(km))\n",
    "print(a.to(hr))\n"
   ]
  },
  {
   "cell_type": "code",
   "execution_count": 13,
   "metadata": {},
   "outputs": [
    {
     "name": "stdout",
     "output_type": "stream",
     "text": [
      "2.00 m/s\n",
      "7.20 km/hr\n"
     ]
    }
   ],
   "source": [
    "a = 2*m/s\n",
    "print(a)\n",
    "a.favunit = km_hr\n",
    "print(a)"
   ]
  },
  {
   "cell_type": "code",
   "execution_count": 14,
   "metadata": {},
   "outputs": [
    {
     "name": "stdout",
     "output_type": "stream",
     "text": [
      "\n",
      "7.199999999999999\n",
      "7.20 km/hr\n"
     ]
    }
   ],
   "source": [
    "q = a/(km/hr)\n",
    "q = quantify(q)\n",
    "q.symbol = km.symbol / hr.symbol\n",
    "print(str())\n",
    "\n",
    "print(a/(km/hr))\n",
    "print(a)"
   ]
  },
  {
   "cell_type": "code",
   "execution_count": 3,
   "metadata": {},
   "outputs": [],
   "source": [
    "import quantity\n",
    "from quantity import Q_integrate, sqrt, cos, arctan\n",
    "from quantity import m\n",
    "from math import pi\n",
    "import numpy as np\n",
    "\n",
    "\n",
    "def angle_solide_disque_total(x,y,z,R_disque):\n",
    "    def num(r_):\n",
    "        return z*r_\n",
    "    def denum(r_,theta2):\n",
    "        return sqrt(r_**2 + x**2 + y**2 - 2 * r_ * sqrt(x**2 + y**2) * cos(2 * arctan( y / (x + sqrt(x**2 + y**2))) - theta2) + z**2)**(1/3)\n",
    "    def fun(r_, theta2):\n",
    "        return num(r_) / denum(r_, theta2)\n",
    "    def int_1(r_):\n",
    "        def func(theta_2):\n",
    "            return fun(r_, theta_2)\n",
    "        return Q_integrate(0, 2 * pi, func)\n",
    "    # intégrer pour theta2 entre 0 et 2pi\n",
    "    # Intégrer pour r_ entre 0 et R_disque\n",
    "    return Q_integrate(0*m, R_disque, int_1)\n",
    "\n",
    "x = y = z = 1 * m\n",
    "R_disque = m"
   ]
  },
  {
   "cell_type": "code",
   "execution_count": 4,
   "metadata": {},
   "outputs": [
    {
     "data": {
      "text/plain": [
       "2.85 m**2.66666666666667"
      ]
     },
     "execution_count": 4,
     "metadata": {},
     "output_type": "execute_result"
    }
   ],
   "source": [
    "angle_solide_disque_total(x,y,z,R_disque)"
   ]
  },
  {
   "cell_type": "code",
   "execution_count": 6,
   "metadata": {},
   "outputs": [],
   "source": [
    "import quantity\n",
    "from quantity import dblquad\n",
    "from quantity import m, kg"
   ]
  },
  {
   "cell_type": "code",
   "execution_count": 11,
   "metadata": {},
   "outputs": [
    {
     "name": "stdout",
     "output_type": "stream",
     "text": [
      "3.9999999999999996\n"
     ]
    }
   ],
   "source": [
    "def func2D(x,y):\n",
    "    return y*1*m * 1*m\n",
    "        \n",
    "dblquad(func2D, 0, 2, 0*kg, 2*kg)[0]\n",
    "print(dblquad(func2D, 0, 2, 0*kg, 2*kg)[0].value)"
   ]
  },
  {
   "cell_type": "code",
   "execution_count": 10,
   "metadata": {},
   "outputs": [
    {
     "data": {
      "text/plain": [
       "4.00 kg*m**2"
      ]
     },
     "execution_count": 10,
     "metadata": {},
     "output_type": "execute_result"
    }
   ],
   "source": [
    "4*kg*m**2"
   ]
  },
  {
   "cell_type": "code",
   "execution_count": null,
   "metadata": {},
   "outputs": [],
   "source": []
  }
 ],
 "metadata": {
  "anaconda-cloud": {},
  "kernelspec": {
   "display_name": "Python 3",
   "language": "python",
   "name": "python3"
  },
  "language_info": {
   "codemirror_mode": {
    "name": "ipython",
    "version": 3
   },
   "file_extension": ".py",
   "mimetype": "text/x-python",
   "name": "python",
   "nbconvert_exporter": "python",
   "pygments_lexer": "ipython3",
   "version": "3.6.3"
  },
  "toc": {
   "colors": {
    "hover_highlight": "#DAA520",
    "navigate_num": "#000000",
    "navigate_text": "#333333",
    "running_highlight": "#FF0000",
    "selected_highlight": "#FFD700",
    "sidebar_border": "#EEEEEE",
    "wrapper_background": "#FFFFFF"
   },
   "moveMenuLeft": true,
   "nav_menu": {
    "height": "496px",
    "width": "252px"
   },
   "navigate_menu": true,
   "number_sections": true,
   "sideBar": true,
   "threshold": 4,
   "toc_cell": true,
   "toc_position": {
    "height": "601px",
    "left": "0px",
    "right": "auto",
    "top": "106px",
    "width": "203px"
   },
   "toc_section_display": "block",
   "toc_window_display": true,
   "widenNotebook": false
  },
  "toc-autonumbering": true,
  "toc-showcode": false,
  "toc-showmarkdowntxt": false,
  "toc-showtags": false
 },
 "nbformat": 4,
 "nbformat_minor": 2
}
