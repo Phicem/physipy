{
 "cells": [
  {
   "cell_type": "code",
   "execution_count": 1,
   "metadata": {},
   "outputs": [],
   "source": [
    "import sys\n",
    "sys.path.insert(0, \"/Users/mocquin/Documents/CLE/Optique/Python/JUPYTER/MYLIB10/OTHERS/python3-physics-master\")"
   ]
  },
  {
   "cell_type": "code",
   "execution_count": 2,
   "metadata": {},
   "outputs": [],
   "source": [
    "import physics"
   ]
  },
  {
   "cell_type": "code",
   "execution_count": 39,
   "metadata": {},
   "outputs": [],
   "source": [
    "from physics import PhysicalUnit, PhysicalQuantity"
   ]
  },
  {
   "cell_type": "code",
   "execution_count": 4,
   "metadata": {},
   "outputs": [],
   "source": [
    "from physics import _base_units"
   ]
  },
  {
   "cell_type": "code",
   "execution_count": 5,
   "metadata": {},
   "outputs": [
    {
     "data": {
      "text/plain": [
       "[('m', <PhysicalUnit m>),\n",
       " ('g', <PhysicalUnit g>),\n",
       " ('s', <PhysicalUnit s>),\n",
       " ('A', <PhysicalUnit A>),\n",
       " ('K', <PhysicalUnit K>),\n",
       " ('mol', <PhysicalUnit mol>),\n",
       " ('cd', <PhysicalUnit cd>),\n",
       " ('rad', <PhysicalUnit rad>),\n",
       " ('sr', <PhysicalUnit sr>)]"
      ]
     },
     "execution_count": 5,
     "metadata": {},
     "output_type": "execute_result"
    }
   ],
   "source": [
    "_base_units"
   ]
  },
  {
   "cell_type": "markdown",
   "metadata": {},
   "source": [
    "Base units are stored as PhysicalUnit instances, in a list of tuples, containing the name as a string, and the PhysicalUnit instance."
   ]
  },
  {
   "cell_type": "code",
   "execution_count": 7,
   "metadata": {},
   "outputs": [
    {
     "data": {
      "text/plain": [
       "('m', <PhysicalUnit m>)"
      ]
     },
     "execution_count": 7,
     "metadata": {},
     "output_type": "execute_result"
    }
   ],
   "source": [
    "_base_units[0]"
   ]
  },
  {
   "cell_type": "code",
   "execution_count": 17,
   "metadata": {},
   "outputs": [
    {
     "name": "stdout",
     "output_type": "stream",
     "text": [
      "m\n",
      "m\n",
      "{'m': 1}\n",
      "0\n",
      "[1, 0, 0, 0, 0, 0, 0, 0, 0]\n",
      "<class 'list'>\n"
     ]
    }
   ],
   "source": [
    "phy_quan_m = _base_units[0][1]\n",
    "print(phy_quan_m)\n",
    "print(phy_quan_m.name())\n",
    "print(phy_quan_m.names)\n",
    "print(phy_quan_m.offset)\n",
    "print(phy_quan_m.powers)\n",
    "print(type(phy_quan_m.powers))"
   ]
  },
  {
   "cell_type": "markdown",
   "metadata": {},
   "source": [
    "The dimension of the PhysicalUnit is stored in a list of powers."
   ]
  },
  {
   "cell_type": "code",
   "execution_count": 29,
   "metadata": {},
   "outputs": [
    {
     "name": "stdout",
     "output_type": "stream",
     "text": [
      "g\n",
      "m/g\n",
      "{'m': 1, 'g': -1}\n",
      "m/g\n",
      "[1, -1, 0, 0, 0, 0, 0, 0, 0]\n",
      "m/g\n"
     ]
    }
   ],
   "source": [
    "phy_quan_g = _base_units[1][1]\n",
    "print(phy_quan_g)\n",
    "custom_m_g = phy_quan_m/phy_quan_g\n",
    "print(custom_m_g)\n",
    "print(custom_m_g.names)\n",
    "print(custom_m_g.name())\n",
    "print(custom_m_g.powers)\n",
    "print(custom_m_g)"
   ]
  },
  {
   "cell_type": "code",
   "execution_count": 38,
   "metadata": {},
   "outputs": [
    {
     "name": "stdout",
     "output_type": "stream",
     "text": [
      "g/m\n",
      "{'g/m': 1}\n",
      "[1, 1]\n",
      "m*g\n",
      "[1, 1, 0, 0, 0, 0, 0, 0, 0]\n",
      "{'m': 1, 'g': 1}\n",
      "m*g*g/m\n",
      "[2, 2]\n",
      "{'m': 1, 'g': 1, 'g/m': 1}\n"
     ]
    }
   ],
   "source": [
    "a = PhysicalUnit(\"g/m\",1,[1,1])\n",
    "print(a)\n",
    "print(a.names)\n",
    "print(a.powers)\n",
    "b = phy_quan_m * phy_quan_g\n",
    "print(b)\n",
    "print(b.powers)\n",
    "print(b.names)\n",
    "c = b * a\n",
    "print(c)\n",
    "print(c.powers)\n",
    "print(c.names)"
   ]
  },
  {
   "cell_type": "code",
   "execution_count": 40,
   "metadata": {},
   "outputs": [],
   "source": [
    "from physics import _unit_table"
   ]
  },
  {
   "cell_type": "code",
   "execution_count": 48,
   "metadata": {},
   "outputs": [
    {
     "name": "stdout",
     "output_type": "stream",
     "text": [
      "W\n",
      "[2, 1, -3, 0, 0, 0, 0, 0, 0]\n",
      "{'W': 1}\n",
      "J\n",
      "[2, 1, -2, 0, 0, 0, 0, 0, 0]\n",
      "{'J': 1}\n"
     ]
    }
   ],
   "source": [
    "W = _unit_table[\"W\"]\n",
    "print(W)\n",
    "print(W.powers)\n",
    "print(W.names)\n",
    "\n",
    "J = _unit_table[\"J\"]\n",
    "print(J)\n",
    "print(J.powers)\n",
    "print(J.names)"
   ]
  },
  {
   "cell_type": "code",
   "execution_count": 62,
   "metadata": {},
   "outputs": [
    {
     "name": "stdout",
     "output_type": "stream",
     "text": [
      "12 W\n",
      "12\n",
      "W\n",
      "<class 'int'>\n",
      "<class 'physics.PhysicalUnit'>\n"
     ]
    }
   ],
   "source": [
    "twelve_W = PhysicalQuantity(12, \"W\")\n",
    "eleven_W = PhysicalQuantity(11, \"W\")\n",
    "print(twelve_W)\n",
    "print(twelve_W.value)\n",
    "print(twelve_W.unit)\n",
    "print(type(twelve_W.value))\n",
    "print(type(twelve_W.unit))\n"
   ]
  },
  {
   "cell_type": "markdown",
   "metadata": {},
   "source": [
    "A Physical Unit is basically a dimension with a string representation in the \\_unit_table ."
   ]
  },
  {
   "cell_type": "code",
   "execution_count": 63,
   "metadata": {},
   "outputs": [
    {
     "ename": "TypeError",
     "evalue": "only size-1 arrays can be converted to Python scalars",
     "output_type": "error",
     "traceback": [
      "\u001b[0;31m---------------------------------------------------------------------------\u001b[0m",
      "\u001b[0;31mTypeError\u001b[0m                                 Traceback (most recent call last)",
      "\u001b[0;32m<ipython-input-63-f7bf052cc6b1>\u001b[0m in \u001b[0;36m<module>\u001b[0;34m()\u001b[0m\n\u001b[1;32m      1\u001b[0m \u001b[0;32mimport\u001b[0m \u001b[0mnumpy\u001b[0m \u001b[0;32mas\u001b[0m \u001b[0mnp\u001b[0m\u001b[0;34m\u001b[0m\u001b[0m\n\u001b[1;32m      2\u001b[0m \u001b[0mq_array\u001b[0m \u001b[0;34m=\u001b[0m \u001b[0mPhysicalQuantity\u001b[0m\u001b[0;34m(\u001b[0m\u001b[0mnp\u001b[0m\u001b[0;34m.\u001b[0m\u001b[0marray\u001b[0m\u001b[0;34m(\u001b[0m\u001b[0;34m[\u001b[0m\u001b[0;36m1\u001b[0m\u001b[0;34m,\u001b[0m\u001b[0;36m2\u001b[0m\u001b[0;34m,\u001b[0m\u001b[0;36m3\u001b[0m\u001b[0;34m]\u001b[0m\u001b[0;34m)\u001b[0m\u001b[0;34m,\u001b[0m \u001b[0;34m\"W\"\u001b[0m\u001b[0;34m)\u001b[0m\u001b[0;34m\u001b[0m\u001b[0m\n\u001b[0;32m----> 3\u001b[0;31m \u001b[0mprint\u001b[0m\u001b[0;34m(\u001b[0m\u001b[0mq_array\u001b[0m\u001b[0;34m)\u001b[0m\u001b[0;34m\u001b[0m\u001b[0m\n\u001b[0m",
      "\u001b[0;32m~/Documents/CLE/Optique/Python/JUPYTER/MYLIB10/OTHERS/python3-physics-master/physics.py\u001b[0m in \u001b[0;36m__str__\u001b[0;34m(self)\u001b[0m\n\u001b[1;32m    375\u001b[0m                                              prec, stdev, unit)\n\u001b[1;32m    376\u001b[0m             \u001b[0;32mreturn\u001b[0m \u001b[0;34m'%.*g %s'\u001b[0m \u001b[0;34m%\u001b[0m \u001b[0;34m(\u001b[0m\u001b[0mprec\u001b[0m\u001b[0;34m,\u001b[0m \u001b[0mself\u001b[0m\u001b[0;34m.\u001b[0m\u001b[0mvalue\u001b[0m\u001b[0;34m.\u001b[0m\u001b[0mnominal_value\u001b[0m\u001b[0;34m,\u001b[0m \u001b[0munit\u001b[0m\u001b[0;34m)\u001b[0m\u001b[0;34m\u001b[0m\u001b[0m\n\u001b[0;32m--> 377\u001b[0;31m         \u001b[0;32mreturn\u001b[0m \u001b[0;34m'%.*g %s'\u001b[0m \u001b[0;34m%\u001b[0m \u001b[0;34m(\u001b[0m\u001b[0mprec\u001b[0m\u001b[0;34m,\u001b[0m \u001b[0mself\u001b[0m\u001b[0;34m.\u001b[0m\u001b[0mvalue\u001b[0m\u001b[0;34m,\u001b[0m \u001b[0munit\u001b[0m\u001b[0;34m)\u001b[0m\u001b[0;34m\u001b[0m\u001b[0m\n\u001b[0m\u001b[1;32m    378\u001b[0m \u001b[0;34m\u001b[0m\u001b[0m\n\u001b[1;32m    379\u001b[0m     \u001b[0;32mdef\u001b[0m \u001b[0m__repr__\u001b[0m\u001b[0;34m(\u001b[0m\u001b[0mself\u001b[0m\u001b[0;34m)\u001b[0m\u001b[0;34m:\u001b[0m\u001b[0;34m\u001b[0m\u001b[0m\n",
      "\u001b[0;31mTypeError\u001b[0m: only size-1 arrays can be converted to Python scalars"
     ]
    }
   ],
   "source": [
    "import numpy as np\n",
    "q_array = PhysicalQuantity(np.array([1,2,3]), \"W\")\n",
    "print(q_array)"
   ]
  },
  {
   "cell_type": "code",
   "execution_count": null,
   "metadata": {},
   "outputs": [],
   "source": []
  }
 ],
 "metadata": {
  "kernelspec": {
   "display_name": "Python 3",
   "language": "python",
   "name": "python3"
  },
  "language_info": {
   "codemirror_mode": {
    "name": "ipython",
    "version": 3
   },
   "file_extension": ".py",
   "mimetype": "text/x-python",
   "name": "python",
   "nbconvert_exporter": "python",
   "pygments_lexer": "ipython3",
   "version": "3.6.3"
  }
 },
 "nbformat": 4,
 "nbformat_minor": 2
}
