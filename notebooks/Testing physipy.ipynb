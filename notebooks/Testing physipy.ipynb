{
 "cells": [
  {
   "cell_type": "code",
   "execution_count": 1,
   "metadata": {},
   "outputs": [
    {
     "name": "stdout",
     "output_type": "stream",
     "text": [
      "Warning: decimal display is less than exponent threshold\n"
     ]
    }
   ],
   "source": [
    "import physipy"
   ]
  },
  {
   "cell_type": "code",
   "execution_count": null,
   "metadata": {},
   "outputs": [],
   "source": [
    "physipy."
   ]
  },
  {
   "cell_type": "code",
   "execution_count": 3,
   "metadata": {},
   "outputs": [],
   "source": [
    "physipy.units['W'].favunit"
   ]
  },
  {
   "cell_type": "code",
   "execution_count": 4,
   "metadata": {},
   "outputs": [],
   "source": [
    "from physipy import m, kg, s, A, cd, K, mol\n",
    "from physipy import units\n"
   ]
  },
  {
   "cell_type": "code",
   "execution_count": 5,
   "metadata": {},
   "outputs": [
    {
     "name": "stdout",
     "output_type": "stream",
     "text": [
      "1.00 m\n"
     ]
    }
   ],
   "source": [
    "print(m)\n"
   ]
  },
  {
   "cell_type": "code",
   "execution_count": 6,
   "metadata": {},
   "outputs": [],
   "source": [
    "from physipy.quickstart import *"
   ]
  },
  {
   "cell_type": "code",
   "execution_count": 7,
   "metadata": {},
   "outputs": [],
   "source": [
    "from physipy.quickstart import units, SI_units_derived"
   ]
  },
  {
   "cell_type": "code",
   "execution_count": 8,
   "metadata": {},
   "outputs": [
    {
     "data": {
      "text/plain": [
       "{'Hz': 1.00 1/s,\n",
       " 'N': 1.00 kg*m/s**2,\n",
       " 'Pa': 1.00 kg/(m*s**2),\n",
       " 'J': 1.00 kg*m**2/s**2,\n",
       " 'W': 1.00 kg*m**2/s**3,\n",
       " 'C': 1.00 A*s,\n",
       " 'V': 1.00 kg*m**2/(A*s**3),\n",
       " 'F': 1.00 A**2*s**4/(kg*m**2),\n",
       " 'Wb': 1.00 kg*m**2/(A*s**2),\n",
       " 'T': 1.00 kg/(A*s**2),\n",
       " 'H': 1.00 kg*m**2/(A**2*s**2),\n",
       " 'lm': 1.00 cd*sr,\n",
       " 'lx': 1.00 cd/m**2,\n",
       " 'Bq': 1.00 1/s,\n",
       " 'h': 3.60E+03 s,\n",
       " 'deg': 0.02 rad}"
      ]
     },
     "execution_count": 8,
     "metadata": {},
     "output_type": "execute_result"
    }
   ],
   "source": [
    "units"
   ]
  },
  {
   "cell_type": "code",
   "execution_count": 9,
   "metadata": {},
   "outputs": [
    {
     "data": {
      "text/plain": [
       "{'m': 1.00 m,\n",
       " 'kg': 1.00 kg,\n",
       " 's': 1.00 s,\n",
       " 'A': 1.00 A,\n",
       " 'K': 1.00 K,\n",
       " 'mol': 1.00 mol,\n",
       " 'cd': 1.00 cd,\n",
       " 'rad': 1.00 rad,\n",
       " 'sr': 1.00 sr,\n",
       " 'Ym': 1.00E+24 m,\n",
       " 'Ykg': 1.00E+24 kg,\n",
       " 'Ys': 1.00E+24 s,\n",
       " 'YA': 1.00E+24 A,\n",
       " 'YK': 1.00E+24 K,\n",
       " 'Ymol': 1.00E+24 mol,\n",
       " 'Ycd': 1.00E+24 cd,\n",
       " 'Yrad': 1.00E+24 rad,\n",
       " 'Ysr': 1.00E+24 sr,\n",
       " 'Zm': 1.00E+21 m,\n",
       " 'Zkg': 1.00E+21 kg,\n",
       " 'Zs': 1.00E+21 s,\n",
       " 'ZA': 1.00E+21 A,\n",
       " 'ZK': 1.00E+21 K,\n",
       " 'Zmol': 1.00E+21 mol,\n",
       " 'Zcd': 1.00E+21 cd,\n",
       " 'Zrad': 1.00E+21 rad,\n",
       " 'Zsr': 1.00E+21 sr,\n",
       " 'Em': 1.00E+18 m,\n",
       " 'Ekg': 1.00E+18 kg,\n",
       " 'Es': 1.00E+18 s,\n",
       " 'EA': 1.00E+18 A,\n",
       " 'EK': 1.00E+18 K,\n",
       " 'Emol': 1.00E+18 mol,\n",
       " 'Ecd': 1.00E+18 cd,\n",
       " 'Erad': 1.00E+18 rad,\n",
       " 'Esr': 1.00E+18 sr,\n",
       " 'Pm': 1.00E+15 m,\n",
       " 'Pkg': 1.00E+15 kg,\n",
       " 'Ps': 1.00E+15 s,\n",
       " 'PA': 1.00E+15 A,\n",
       " 'PK': 1.00E+15 K,\n",
       " 'Pmol': 1.00E+15 mol,\n",
       " 'Pcd': 1.00E+15 cd,\n",
       " 'Prad': 1.00E+15 rad,\n",
       " 'Psr': 1.00E+15 sr,\n",
       " 'Tm': 1.00E+12 m,\n",
       " 'Tkg': 1.00E+12 kg,\n",
       " 'Ts': 1.00E+12 s,\n",
       " 'TA': 1.00E+12 A,\n",
       " 'TK': 1.00E+12 K,\n",
       " 'Tmol': 1.00E+12 mol,\n",
       " 'Tcd': 1.00E+12 cd,\n",
       " 'Trad': 1.00E+12 rad,\n",
       " 'Tsr': 1.00E+12 sr,\n",
       " 'Gm': 1.00E+09 m,\n",
       " 'Gkg': 1.00E+09 kg,\n",
       " 'Gs': 1.00E+09 s,\n",
       " 'GA': 1.00E+09 A,\n",
       " 'GK': 1.00E+09 K,\n",
       " 'Gmol': 1.00E+09 mol,\n",
       " 'Gcd': 1.00E+09 cd,\n",
       " 'Grad': 1.00E+09 rad,\n",
       " 'Gsr': 1.00E+09 sr,\n",
       " 'Mm': 1.00E+06 m,\n",
       " 'Mkg': 1.00E+06 kg,\n",
       " 'Ms': 1.00E+06 s,\n",
       " 'MA': 1.00E+06 A,\n",
       " 'MK': 1.00E+06 K,\n",
       " 'Mmol': 1.00E+06 mol,\n",
       " 'Mcd': 1.00E+06 cd,\n",
       " 'Mrad': 1.00E+06 rad,\n",
       " 'Msr': 1.00E+06 sr,\n",
       " 'km': 1.00E+03 m,\n",
       " 'kkg': 1.00E+03 kg,\n",
       " 'ks': 1.00E+03 s,\n",
       " 'kA': 1.00E+03 A,\n",
       " 'kK': 1.00E+03 K,\n",
       " 'kmol': 1.00E+03 mol,\n",
       " 'kcd': 1.00E+03 cd,\n",
       " 'krad': 1.00E+03 rad,\n",
       " 'ksr': 1.00E+03 sr,\n",
       " 'hm': 100.00 m,\n",
       " 'hkg': 100.00 kg,\n",
       " 'hs': 100.00 s,\n",
       " 'hA': 100.00 A,\n",
       " 'hK': 100.00 K,\n",
       " 'hmol': 100.00 mol,\n",
       " 'hcd': 100.00 cd,\n",
       " 'hrad': 100.00 rad,\n",
       " 'hsr': 100.00 sr,\n",
       " 'dam': 10.00 m,\n",
       " 'dakg': 10.00 kg,\n",
       " 'das': 10.00 s,\n",
       " 'daA': 10.00 A,\n",
       " 'daK': 10.00 K,\n",
       " 'damol': 10.00 mol,\n",
       " 'dacd': 10.00 cd,\n",
       " 'darad': 10.00 rad,\n",
       " 'dasr': 10.00 sr,\n",
       " 'dm': 0.10 m,\n",
       " 'dkg': 0.10 kg,\n",
       " 'ds': 0.10 s,\n",
       " 'dA': 0.10 A,\n",
       " 'dK': 0.10 K,\n",
       " 'dmol': 0.10 mol,\n",
       " 'dcd': 0.10 cd,\n",
       " 'drad': 0.10 rad,\n",
       " 'dsr': 0.10 sr,\n",
       " 'cm': 0.01 m,\n",
       " 'ckg': 0.01 kg,\n",
       " 'cs': 0.01 s,\n",
       " 'cA': 0.01 A,\n",
       " 'cK': 0.01 K,\n",
       " 'cmol': 0.01 mol,\n",
       " 'ccd': 0.01 cd,\n",
       " 'crad': 0.01 rad,\n",
       " 'csr': 0.01 sr,\n",
       " 'mm': 0.00 m,\n",
       " 'mkg': 0.00 kg,\n",
       " 'ms': 0.00 s,\n",
       " 'mA': 0.00 A,\n",
       " 'mK': 0.00 K,\n",
       " 'mmol': 0.00 mol,\n",
       " 'mcd': 0.00 cd,\n",
       " 'mrad': 0.00 rad,\n",
       " 'msr': 0.00 sr,\n",
       " 'mum': 1.00E-06 m,\n",
       " 'mukg': 1.00E-06 kg,\n",
       " 'mus': 1.00E-06 s,\n",
       " 'muA': 1.00E-06 A,\n",
       " 'muK': 1.00E-06 K,\n",
       " 'mumol': 1.00E-06 mol,\n",
       " 'mucd': 1.00E-06 cd,\n",
       " 'murad': 1.00E-06 rad,\n",
       " 'musr': 1.00E-06 sr,\n",
       " 'nm': 1.00E-09 m,\n",
       " 'nkg': 1.00E-09 kg,\n",
       " 'ns': 1.00E-09 s,\n",
       " 'nA': 1.00E-09 A,\n",
       " 'nK': 1.00E-09 K,\n",
       " 'nmol': 1.00E-09 mol,\n",
       " 'ncd': 1.00E-09 cd,\n",
       " 'nrad': 1.00E-09 rad,\n",
       " 'nsr': 1.00E-09 sr,\n",
       " 'pm': 1.00E-12 m,\n",
       " 'pkg': 1.00E-12 kg,\n",
       " 'ps': 1.00E-12 s,\n",
       " 'pA': 1.00E-12 A,\n",
       " 'pK': 1.00E-12 K,\n",
       " 'pmol': 1.00E-12 mol,\n",
       " 'pcd': 1.00E-12 cd,\n",
       " 'prad': 1.00E-12 rad,\n",
       " 'psr': 1.00E-12 sr,\n",
       " 'fm': 1.00E-15 m,\n",
       " 'fkg': 1.00E-15 kg,\n",
       " 'fs': 1.00E-15 s,\n",
       " 'fA': 1.00E-15 A,\n",
       " 'fK': 1.00E-15 K,\n",
       " 'fmol': 1.00E-15 mol,\n",
       " 'fcd': 1.00E-15 cd,\n",
       " 'frad': 1.00E-15 rad,\n",
       " 'fsr': 1.00E-15 sr,\n",
       " 'am': 1.00E-18 m,\n",
       " 'akg': 1.00E-18 kg,\n",
       " 'as': 1.00E-18 s,\n",
       " 'aA': 1.00E-18 A,\n",
       " 'aK': 1.00E-18 K,\n",
       " 'amol': 1.00E-18 mol,\n",
       " 'acd': 1.00E-18 cd,\n",
       " 'arad': 1.00E-18 rad,\n",
       " 'asr': 1.00E-18 sr,\n",
       " 'zm': 1.00E-21 m,\n",
       " 'zkg': 1.00E-21 kg,\n",
       " 'zs': 1.00E-21 s,\n",
       " 'zA': 1.00E-21 A,\n",
       " 'zK': 1.00E-21 K,\n",
       " 'zmol': 1.00E-21 mol,\n",
       " 'zcd': 1.00E-21 cd,\n",
       " 'zrad': 1.00E-21 rad,\n",
       " 'zsr': 1.00E-21 sr,\n",
       " 'ym': 1.00E-24 m,\n",
       " 'ykg': 1.00E-24 kg,\n",
       " 'ys': 1.00E-24 s,\n",
       " 'yA': 1.00E-24 A,\n",
       " 'yK': 1.00E-24 K,\n",
       " 'ymol': 1.00E-24 mol,\n",
       " 'ycd': 1.00E-24 cd,\n",
       " 'yrad': 1.00E-24 rad,\n",
       " 'ysr': 1.00E-24 sr}"
      ]
     },
     "execution_count": 9,
     "metadata": {},
     "output_type": "execute_result"
    }
   ],
   "source": [
    "SI_units_derived"
   ]
  },
  {
   "cell_type": "code",
   "execution_count": 10,
   "metadata": {},
   "outputs": [],
   "source": [
    "from physipy.constants import scipy_constants"
   ]
  },
  {
   "cell_type": "code",
   "execution_count": 11,
   "metadata": {},
   "outputs": [
    {
     "data": {
      "text/plain": [
       "{'c': 3.00E+08 m/s,\n",
       " 'speed_of_light': 3.00E+08 m/s,\n",
       " 'mu_0': 1.26E-06 kg*m/(A**2*s**2),\n",
       " 'epsilon_0': 8.85E-12 A**2*s**4/(kg**2*m**3),\n",
       " 'h': 6.63E-34 kg*m**2/s,\n",
       " 'Planck': 6.63E-34 kg*m**2/s,\n",
       " 'hbar': 1.05E-34 kg*m**2/s,\n",
       " 'G': 6.67E-11 m**3/(kg*s**2),\n",
       " 'gravitational_constant': 6.67E-11 m**3/(kg*s**2),\n",
       " 'g': 9.81 m/s**2,\n",
       " 'e': 1.60E-19 A*s,\n",
       " 'elementary_charge': 1.60E-19 A*s,\n",
       " 'R': 8.31 kg*m**2/(K*mol*s**2),\n",
       " 'gas_constant': 8.31 kg*m**2/(K*mol*s**2),\n",
       " 'alpha': 0.01,\n",
       " 'fine_structure': 0.01,\n",
       " 'N_A': 6.02E+23 1/mol,\n",
       " 'Avogadro': 6.02E+23 1/mol,\n",
       " 'k': 1.38E-23 kg*m**2/(K*s**2),\n",
       " 'Boltzmann': 1.38E-23 kg*m**2/(K*s**2),\n",
       " 'sigma': 5.67E-08 kg/(K**4*s**3),\n",
       " 'Stefan_Boltzmann': 5.67E-08 kg/(K**4*s**3),\n",
       " 'Wien': 0.00 K*m,\n",
       " 'Rydberg': 1.10E+07 1/m,\n",
       " 'm_e': 9.11E-31 kg,\n",
       " 'electron_mass': 9.11E-31 kg,\n",
       " 'm_p': 1.67E-27 kg,\n",
       " 'proton_mass': 1.67E-27 kg,\n",
       " 'm_n': 1.67E-27 kg,\n",
       " 'neutron_mass': 1.67E-27 kg}"
      ]
     },
     "execution_count": 11,
     "metadata": {},
     "output_type": "execute_result"
    }
   ],
   "source": [
    "scipy_constants"
   ]
  },
  {
   "cell_type": "code",
   "execution_count": 12,
   "metadata": {},
   "outputs": [],
   "source": [
    "from physipy.quickstart import *"
   ]
  },
  {
   "cell_type": "code",
   "execution_count": 13,
   "metadata": {},
   "outputs": [
    {
     "data": {
      "text/plain": [
       "0.03 m*s"
      ]
     },
     "execution_count": 13,
     "metadata": {},
     "output_type": "execute_result"
    }
   ],
   "source": [
    "5*m / 200*s"
   ]
  },
  {
   "cell_type": "code",
   "execution_count": 14,
   "metadata": {},
   "outputs": [
    {
     "data": {
      "text/plain": [
       "6.00 km/h"
      ]
     },
     "execution_count": 14,
     "metadata": {},
     "output_type": "execute_result"
    }
   ],
   "source": [
    "(5*m/(3*s)).to(km/h)"
   ]
  },
  {
   "cell_type": "code",
   "execution_count": 15,
   "metadata": {},
   "outputs": [
    {
     "data": {
      "text/plain": [
       "6.0"
      ]
     },
     "execution_count": 15,
     "metadata": {},
     "output_type": "execute_result"
    }
   ],
   "source": [
    "(5*m/(3*s))/(km/h)"
   ]
  },
  {
   "cell_type": "code",
   "execution_count": null,
   "metadata": {},
   "outputs": [],
   "source": []
  }
 ],
 "metadata": {
  "kernelspec": {
   "display_name": "Python 3",
   "language": "python",
   "name": "python3"
  },
  "language_info": {
   "codemirror_mode": {
    "name": "ipython",
    "version": 3
   },
   "file_extension": ".py",
   "mimetype": "text/x-python",
   "name": "python",
   "nbconvert_exporter": "python",
   "pygments_lexer": "ipython3",
   "version": "3.6.3"
  }
 },
 "nbformat": 4,
 "nbformat_minor": 2
}
