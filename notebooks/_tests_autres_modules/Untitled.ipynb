{
 "cells": [
  {
   "cell_type": "markdown",
   "metadata": {},
   "source": [
    "List of task for comparison tasks :\n",
    "## Declare variables\n",
    "### Scalar variables\n",
    " - declare a 1 meter long variable, and display it\n",
    " - declare a 2.34 kg/s variable, and display it\n",
    "### Array variables\n",
    " - declare a [1,2,3] array of m/s\n",
    "\n",
    "## Computing\n",
    " - \n",
    " \n",
    "## Functions \n",
    " - create a function that compute the kinetic energy from mass and speed\n",
    " \n",
    "\n",
    "# Custom units\n",
    " - create a new unit called boarspeed, worth 70km/H, symbol brsp\n",
    " - \n",
    "\n",
    "# Numpy integration\n",
    "\n",
    "# Plotting\n",
    "\n",
    "## Displaying/Expression\n",
    "\n",
    "# Number of line of code\n",
    "\n",
    "# timeit"
   ]
  },
  {
   "cell_type": "markdown",
   "metadata": {},
   "source": [
    "# Imports"
   ]
  },
  {
   "cell_type": "markdown",
   "metadata": {},
   "source": [
    "https://socialcompare.com/fr/comparison/python-units-quantities-packages-383avix4\n",
    "\n",
    "https://www.youtube.com/watch?v=N-edLdxiM40"
   ]
  },
  {
   "cell_type": "code",
   "execution_count": 74,
   "metadata": {},
   "outputs": [
    {
     "name": "stdout",
     "output_type": "stream",
     "text": [
      "1.15.1\n"
     ]
    }
   ],
   "source": [
    "import numpy as np\n",
    "print(np.__version__)"
   ]
  },
  {
   "cell_type": "code",
   "execution_count": 128,
   "metadata": {},
   "outputs": [],
   "source": [
    "import sys\n",
    "import math\n",
    "# python3-physics : https://github.com/TheGrum/python3-physics\n",
    "sys.path.insert(0,'/Users/mocquin/Documents/CLE/Optique/Python/JUPYTER/MYLIB10/OTHERS/python3-physics-master/')\n",
    "# birkenfeld-ipython-physics : https://bitbucket.org/birkenfeld/ipython-physics\n",
    "#sys.path.insert(0,'/Users/mocquin/Documents/CLE/Optique/Python/JUPYTER/MYLIB10/OTHERS/birkenfeld-ipython-physics-4ac85cec0aa3//')\n",
    "# physical-quantities : https://github.com/hplgit/physical-quantities\n",
    "#sys.path.insert(0,'/Users/mocquin/Documents/CLE/Optique/Python/JUPYTER/MYLIB10/OTHERS/physical-quantities-master/')\n",
    "# khinsen-scientificpython : https://bitbucket.org/khinsen/scientificpython/src/7fef5df489b0588899a6582a3c62ccde447f8ece/Scientific/Physics/PhysicalQuantities.py?at=default&fileviewer=file-view-default\n",
    "#sys.path.insert(0,'/Users/mocquin/Documents/CLE/Optique/Python/JUPYTER/MYLIB10/OTHERS/khinsen-scientificpython-7fef5df489b0/')\n",
    "\n",
    "\n",
    "# python-quantities : https://github.com/python-quantities/python-quantities\n",
    "sys.path.insert(0,'/Users/mocquin/Documents/CLE/Optique/Python/JUPYTER/MYLIB10/OTHERS/python-quantities-master/')\n",
    "# scimath : https://github.com/enthought/scimath\n",
    "sys.path.insert(0,'/Users/mocquin/Documents/CLE/Optique/Python/JUPYTER/MYLIB10/OTHERS/scimath-master/')\n",
    "# pint : https://github.com/hgrecco/pint\n",
    "sys.path.insert(0,'/Users/mocquin/Documents/CLE/Optique/Python/JUPYTER/MYLIB10/OTHERS/pint-master/')\n",
    "# unum : https://bitbucket.org/kiv/unum\n",
    "sys.path.insert(0,'/Users/mocquin/Documents/CLE/Optique/Python/JUPYTER/MYLIB10/OTHERS/kiv-unum-5f1a7a44877c//')\n",
    "# astropy : https://github.com/astropy/astropy\n",
    "import astropy\n",
    "# sympy\n",
    "import sympy\n",
    "# https://github.com/mdipierro/buckingham\n",
    "# https://github.com/cjrh/misu\n",
    "# https://github.com/blazetopher/udunitspy/\n"
   ]
  },
  {
   "cell_type": "markdown",
   "metadata": {},
   "source": [
    "# python3-physics"
   ]
  },
  {
   "cell_type": "code",
   "execution_count": 142,
   "metadata": {},
   "outputs": [
    {
     "name": "stdout",
     "output_type": "stream",
     "text": [
      "1 m\n",
      "2.5 m\n",
      "0.23 s\n",
      "10.869565 m/s\n",
      "39.130435 km/h\n",
      "39.130434782608695\n",
      "km/h\n",
      "294.15 K\n",
      "[1 sr 2 sr 3 sr]\n",
      "False\n",
      "False\n",
      "2.0\n",
      "<class 'float'>\n",
      "7.38905609893065\n",
      "-0.4161468365471424\n",
      "1000000 g*km^2/h^2\n"
     ]
    }
   ],
   "source": [
    "#%%timeit\n",
    "# python3-physics : https://github.com/TheGrum/python3-physics\n",
    "import physics\n",
    "#from physics import Q\n",
    "a1 = physics.Q(1,\"m\")\n",
    "print(a1)\n",
    "b1 = 2.5*a1\n",
    "print(b1)\n",
    "c1 = physics.Q(0.23,\"s\")\n",
    "print(c1)\n",
    "d1 = b1/c1\n",
    "print(d1)\n",
    "d1.convert('km/h')\n",
    "print(d1)\n",
    "print(d1.value)\n",
    "print(d1.unit)\n",
    "def deg_to_K1(T_deg):\n",
    "    return T_deg + 273.15*physics.Q(1,'K')\n",
    "print(deg_to_K1(21*physics.Q(1,'K')))\n",
    "e1 = np.array([1,2,3]) * physics.Q(1,\"sr\")\n",
    "e11 = physics.Q(1,\"sr\") * np.array([1,2,3])\n",
    "print(e1)\n",
    "#print(e11) : can't print Q * array\n",
    "f1 = physics.Q(5, 'm/s')\n",
    "f11 = physics.Q(18, 'km/h')\n",
    "print(f1 == f11) # This should be True (according to http://www.southampton.ac.uk/~fangohr/blog/physical-quantities-numerical-value-with-units-in-python.html)\n",
    "print(f1.base == f11.base) # This also\n",
    "g1 = (f1+f11)/f1 # this is dimensionless\n",
    "print(g1)\n",
    "print(type(g1))\n",
    "print(math.exp(g1))\n",
    "print(np.cos(g1))\n",
    "h1 = 0.5 * physics.Q(200, \"g\") * physics.Q(100, \"km/h\")**2\n",
    "print(h1)"
   ]
  },
  {
   "cell_type": "code",
   "execution_count": 3,
   "metadata": {},
   "outputs": [],
   "source": [
    "# khinsen-scientificpython : https://bitbucket.org/khinsen/scientificpython/src/7fef5df489b0588899a6582a3c62ccde447f8ece/Scientific/Physics/PhysicalQuantities.py?at=default&fileviewer=file-view-default\n",
    "#!cd /Users/mocquin/Documents/CLE/Optique/Python/JUPYTER/MYLIB10/OTHERS/khinsen-scientificpython-7fef5df489b0/ python setup.py build python setup.py install\n",
    "#from PhysicalQuantities import PhysicalQuantity as p"
   ]
  },
  {
   "cell_type": "code",
   "execution_count": 4,
   "metadata": {},
   "outputs": [],
   "source": [
    "# physical-quantities : https://github.com/hplgit/physical-quantities\n",
    "#from PhysicalQuantities import PhysicalQuantity as p"
   ]
  },
  {
   "cell_type": "markdown",
   "metadata": {},
   "source": [
    "# python-quantities"
   ]
  },
  {
   "cell_type": "code",
   "execution_count": 143,
   "metadata": {},
   "outputs": [
    {
     "name": "stdout",
     "output_type": "stream",
     "text": [
      "1.0 m\n",
      "2.5 m\n",
      "0.23 s\n",
      "10.869565217391305 m/s\n",
      "39.130434782608695 km/h\n",
      "39.130434782608695\n",
      "1.0 km/h\n",
      "294.15 K\n",
      "[1. 2. 3.] sr\n",
      "[1. 2. 3.] sr\n",
      "True\n",
      "2.0 dimensionless\n",
      "<class 'quantities.quantity.Quantity'>\n",
      "7.38905609893065\n",
      "-0.4161468365471424 dimensionless\n",
      "1000000.0 g*km**2/h**2\n"
     ]
    }
   ],
   "source": [
    "#%%timeit\n",
    "# python-quantities : https://github.com/python-quantities/python-quantities\n",
    "import quantities \n",
    "a2 = 1 * quantities.metre\n",
    "print(a2)\n",
    "b2 = 2.5*a2\n",
    "print(b2)\n",
    "c2 = 0.23 * quantities.second\n",
    "print(c2)\n",
    "d2 = b2/c2\n",
    "print(d2)\n",
    "d2.units = quantities.km/quantities.h\n",
    "print(d2)\n",
    "print(d2.magnitude)\n",
    "print(d2.units)\n",
    "def deg_to_K2(T_deg):\n",
    "    return T_deg + 273.15*quantities.K\n",
    "print(deg_to_K2(21*quantities.K))\n",
    "e2 = np.array([1,2,3]) * quantities.angle.sr\n",
    "e22 = quantities.angle.sr * np.array([1,2,3])\n",
    "print(e2)\n",
    "print(e22)\n",
    "f2 = 5 * quantities.metre / quantities.second\n",
    "f22 = 18 * quantities.kilometer / quantities.hour\n",
    "print(f2 == f22)\n",
    "g2 = (f2+f22)/f2\n",
    "print(g2)\n",
    "print(type(g2))\n",
    "print(math.exp(g2))\n",
    "print(np.cos(g2))\n",
    "h2 = 0.5 * 200*quantities.gram * (100*quantities.km/quantities.hour)**2\n",
    "print(h2)"
   ]
  },
  {
   "cell_type": "markdown",
   "metadata": {},
   "source": [
    "# scimath"
   ]
  },
  {
   "cell_type": "code",
   "execution_count": 144,
   "metadata": {},
   "outputs": [
    {
     "name": "stdout",
     "output_type": "stream",
     "text": [
      "1.0*m\n",
      "2.5*m\n",
      "0.23*s\n",
      "10.869565217391305*m*s**-1\n",
      "39.130434782608695\n",
      "10.869565217391305\n",
      "(1, 0, -1, 0, 0, 0, 0) ('m', 'kg', 's', 'A', 'K', 'mol', 'cd')\n",
      "294.15*K\n",
      "[1 2 3]\n",
      "<array>\n",
      "True\n",
      "2.0\n",
      "<class 'float'>\n",
      "7.38905609893065\n",
      "-0.4161468365471424\n",
      "77.16049382716051*m**2*kg*s**-2\n"
     ]
    }
   ],
   "source": [
    "#%%timeit\n",
    "# scimath : https://github.com/enthought/scimath\n",
    "#!cd /Users/mocquin/Documents/CLE/Optique/Python/JUPYTER/MYLIB10/OTHERS/scimath-master/ python setup.py install\n",
    "import scimath\n",
    "from scimath import units as scimath_units\n",
    "a3 = 1 * scimath_units.length.meter\n",
    "print(a3)\n",
    "b3 = 2.5*a3\n",
    "print(b3)\n",
    "c3 = 0.23 * scimath_units.time.second\n",
    "print(c3)\n",
    "d3 = b3/c3\n",
    "print(d3)\n",
    "# no method to inplace change unit\n",
    "print(d3/(scimath_units.length.kilometer/ scimath_units.time.hour))\n",
    "print(d3.value)\n",
    "print(str(d3.derivation) + \" \" + str(d3._labels)) \n",
    "def deg_to_K3(T_deg):\n",
    "    return T_deg + 273.15*scimath_units.temperature.K\n",
    "print(deg_to_K3(21*scimath_units.temperature.K))\n",
    "e3 = np.array([1,2,3]) * scimath_units.angle.radian**2 # no steradian\n",
    "e33 = scimath_units.angle.radian**2 * np.array([1,2,3])\n",
    "print(e3)\n",
    "print(e33)\n",
    "f3 = 5 * scimath_units.length.meter / scimath_units.time.second\n",
    "f33 = 18 * scimath_units.length.kilometer / scimath_units.time.hour\n",
    "print(f3 == f33)\n",
    "g3 = (f3+f33)/f3\n",
    "print(g3)\n",
    "print(type(g3))\n",
    "print(math.exp(g3))\n",
    "print(np.cos(g3))\n",
    "h3 = 0.5 * 200*scimath_units.mass.g * (100*scimath_units.length.kilometer/scimath_units.time.hour)**2\n",
    "print(h3)"
   ]
  },
  {
   "cell_type": "code",
   "execution_count": 127,
   "metadata": {},
   "outputs": [
    {
     "name": "stdout",
     "output_type": "stream",
     "text": [
      "UnitScalar (m): 0.9144000000000001\n",
      "UnitScalar (m): 1.0\n",
      "0.9144000000000001\n"
     ]
    }
   ],
   "source": [
    "from scimath.units.api import has_units, UnitArray\n",
    "from scimath.units.api import UnitScalar\n",
    "from scimath.units.length import feet, meter\n",
    "@has_units(inputs=\"a:an array:units=ft;b:array:units=ft\",\n",
    "           outputs=\"result:an array:units=m\")\n",
    "def add(a,b):\n",
    "    \"\"\" Add two arrays in ft and convert them to m.\n",
    "\n",
    "    \"\"\"\n",
    "    return (a + b) * feet / meter\n",
    "\n",
    "print(add(UnitScalar(1, units=\"foot\"), UnitScalar(2, units=\"foot\")))\n",
    "print(add(UnitScalar(0.5, units=\"meter\"), UnitScalar(50, units=\"cm\")))\n",
    "print(add(1,2)) # return 3feet in meter"
   ]
  },
  {
   "cell_type": "markdown",
   "metadata": {},
   "source": [
    "# pint"
   ]
  },
  {
   "cell_type": "code",
   "execution_count": 145,
   "metadata": {},
   "outputs": [
    {
     "name": "stdout",
     "output_type": "stream",
     "text": [
      "1 meter\n",
      "2.5 meter\n",
      "0.23 second\n",
      "10.869565217391305 meter / second\n",
      "39.130434782608695 kilometer / hour\n",
      "10.869565217391305\n",
      "meter / second\n",
      "[length] / [time]\n",
      "294.15 kelvin\n",
      "True\n",
      "2.0 dimensionless\n",
      "<class 'pint.quantity.build_quantity_class.<locals>.Quantity'>\n",
      "7.38905609893065\n",
      "-0.4161468365471424 dimensionless\n",
      "1000000.0 gram * kilometer ** 2 / hour ** 2\n"
     ]
    }
   ],
   "source": [
    "#%%timeit\n",
    "# pint : https://github.com/hgrecco/pint\n",
    "import pint\n",
    "ureg = pint.UnitRegistry()\n",
    "a4 = 1 * ureg.meter\n",
    "print(a4)\n",
    "b4 = 2.5*a4\n",
    "print(b4)\n",
    "c4 = 0.23 * ureg.second\n",
    "print(c4)\n",
    "d4 = b4/c4\n",
    "print(d4)\n",
    "print(d4.to(ureg.kilometer/ureg.hour))\n",
    "print(d4.magnitude)\n",
    "print(d4.units)\n",
    "print(d4.dimensionality)\n",
    "def deg_to_K4(T_deg):\n",
    "    return T_deg + 273.15*ureg.K\n",
    "print(deg_to_K4(21*ureg.K))\n",
    "f4 = 5 * ureg.meter / ureg.second\n",
    "f44 = 18 * ureg.kilometer / ureg.hour\n",
    "print(f4 == f44)\n",
    "g4 = (f4+f44)/f4\n",
    "print(g4)\n",
    "print(type(g4))\n",
    "print(math.exp(g4))\n",
    "print(np.cos(g4))\n",
    "h4 = 0.5 * 200*ureg.gram * (100*ureg.kilometer/ureg.hour)**2\n",
    "print(h4)"
   ]
  },
  {
   "cell_type": "markdown",
   "metadata": {},
   "source": [
    "# unum"
   ]
  },
  {
   "cell_type": "code",
   "execution_count": 146,
   "metadata": {},
   "outputs": [
    {
     "name": "stdout",
     "output_type": "stream",
     "text": [
      "1 [m]\n",
      "2.5 [m]\n",
      "0.23 [s]\n",
      "10.869565217391305 [m/s]\n",
      "39.130434782608695 [km/h]\n",
      "10.869565217391305\n",
      "[m/s]\n",
      "294.15 [K]\n",
      "True\n",
      "2.0 []\n",
      "<class 'unum.Unum'>\n",
      "7.38905609893065\n",
      "-0.4161468365471424\n",
      "1000000.0 [g.km2/h2]\n"
     ]
    }
   ],
   "source": [
    "#%%timeit\n",
    "#!cd /Users/mocquin/Documents/CLE/Optique/Python/JUPYTER/MYLIB10/OTHERS/kiv-unum-5f1a7a44877c/ python setup.py install\n",
    "import unum\n",
    "from unum import units as unum_units\n",
    "a5 = 1 * unum_units.m\n",
    "print(a5)\n",
    "b5 = 2.5*a5\n",
    "print(b5)\n",
    "c5 = 0.23* unum_units.s\n",
    "print(c5)\n",
    "d5 = b5/c5\n",
    "print(d5)\n",
    "print(d5.asUnit(unum_units.km/unum_units.h))\n",
    "print(d5.asNumber())\n",
    "print(d5.strUnit())\n",
    "def deg_to_K5(T_deg):\n",
    "    return T_deg + 273.15*unum_units.K\n",
    "print(deg_to_K5(21*unum_units.K))\n",
    "f5 = 5 * unum_units.m / unum_units.s\n",
    "f55 = 18 * unum_units.km / unum_units.h\n",
    "print(f5 == f55)\n",
    "g5 = (f5+f55)/f5\n",
    "print(g5)\n",
    "print(type(g5))\n",
    "print(math.exp(g5))\n",
    "print(np.cos(g5.asNumber()))\n",
    "h5 = 0.5 * 200*unum_units.g * (100*unum_units.km/unum_units.h)**2\n",
    "print(h5)"
   ]
  },
  {
   "cell_type": "markdown",
   "metadata": {},
   "source": [
    "# astropy"
   ]
  },
  {
   "cell_type": "code",
   "execution_count": 150,
   "metadata": {},
   "outputs": [
    {
     "name": "stdout",
     "output_type": "stream",
     "text": [
      "1.0 m\n",
      "2.5 m\n",
      "0.23 s\n",
      "10.869565217391305 m / s\n",
      "39.130434782608695 km / h\n",
      "10.869565217391305\n",
      "m / s\n",
      "294.15 K\n",
      "True\n",
      "2.0\n",
      "<class 'astropy.units.quantity.Quantity'>\n",
      "7.38905609893065\n",
      "1000000.0 g km2 / h2\n"
     ]
    }
   ],
   "source": [
    "#%%timeit\n",
    "from astropy import units as astropy_units\n",
    "a6 = 1 * astropy_units.meter\n",
    "print(a6)\n",
    "b6 = 2.5*a6\n",
    "print(b6)\n",
    "c6 = 0.23* astropy_units.s\n",
    "print(c6)\n",
    "d6 = b6/c6\n",
    "print(d6)\n",
    "print(d6.to(astropy_units.km/astropy_units.h))\n",
    "print(d6.value)\n",
    "print(d6.unit)\n",
    "def deg_to_K6(T_deg):\n",
    "    return T_deg + 273.15*astropy_units.K\n",
    "print(deg_to_K6(21*astropy_units.K))\n",
    "f6 = 5 * astropy_units.m / astropy_units.s\n",
    "f66 = 18 * astropy_units.km / astropy_units.h\n",
    "print(f6 == f66)\n",
    "g6 = (f6+f66)/f6\n",
    "print(g6)\n",
    "print(type(g6))\n",
    "print(math.exp(g6))\n",
    "#print(np.cos(g6)) # must be a quantitie with an angle unit\n",
    "h6 = 0.5 * 200*astropy_units.g * (100*astropy_units.km/astropy_units.h)**2\n",
    "print(h6)"
   ]
  },
  {
   "cell_type": "markdown",
   "metadata": {},
   "source": [
    "# Sympy"
   ]
  },
  {
   "cell_type": "code",
   "execution_count": null,
   "metadata": {},
   "outputs": [],
   "source": []
  }
 ],
 "metadata": {
  "kernelspec": {
   "display_name": "Python 3",
   "language": "python",
   "name": "python3"
  },
  "language_info": {
   "codemirror_mode": {
    "name": "ipython",
    "version": 3
   },
   "file_extension": ".py",
   "mimetype": "text/x-python",
   "name": "python",
   "nbconvert_exporter": "python",
   "pygments_lexer": "ipython3",
   "version": "3.6.3"
  },
  "toc-autonumbering": true
 },
 "nbformat": 4,
 "nbformat_minor": 2
}
