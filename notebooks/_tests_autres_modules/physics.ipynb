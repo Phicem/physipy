{
 "cells": [
  {
   "cell_type": "code",
   "execution_count": 4,
   "metadata": {},
   "outputs": [],
   "source": [
    "import sys\n",
    "sys.path.insert(0,'/Users/mocquin/Documents/CLE/Optique/Python/JUPYTER/MYLIB10/OTHERS/python3-physics-master/')\n"
   ]
  },
  {
   "cell_type": "code",
   "execution_count": 5,
   "metadata": {},
   "outputs": [],
   "source": [
    "import physics"
   ]
  },
  {
   "cell_type": "code",
   "execution_count": 6,
   "metadata": {},
   "outputs": [],
   "source": [
    "from physics import Q"
   ]
  },
  {
   "cell_type": "code",
   "execution_count": 7,
   "metadata": {},
   "outputs": [],
   "source": [
    "s = Q(10, 'm')"
   ]
  },
  {
   "cell_type": "code",
   "execution_count": 8,
   "metadata": {},
   "outputs": [
    {
     "data": {
      "text/plain": [
       "physics.PhysicalQuantity"
      ]
     },
     "execution_count": 8,
     "metadata": {},
     "output_type": "execute_result"
    }
   ],
   "source": [
    "type(s)"
   ]
  },
  {
   "cell_type": "code",
   "execution_count": 9,
   "metadata": {},
   "outputs": [
    {
     "name": "stdout",
     "output_type": "stream",
     "text": [
      "10 m\n"
     ]
    }
   ],
   "source": [
    "print(s)"
   ]
  },
  {
   "cell_type": "code",
   "execution_count": 11,
   "metadata": {},
   "outputs": [
    {
     "name": "stdout",
     "output_type": "stream",
     "text": [
      "100 m^2\n",
      "20 m\n",
      "0.033333333 1/m\n"
     ]
    }
   ],
   "source": [
    "print(s**2)\n",
    "print(2*s)\n",
    "print(1/(3*s))"
   ]
  },
  {
   "cell_type": "code",
   "execution_count": 14,
   "metadata": {},
   "outputs": [
    {
     "name": "stdout",
     "output_type": "stream",
     "text": [
      "10 m\n",
      "2 s\n",
      "5 m/s\n"
     ]
    }
   ],
   "source": [
    "t = Q(2, 's')\n",
    "v = s / t\n",
    "print(s)\n",
    "print(t)\n",
    "print(v)"
   ]
  },
  {
   "cell_type": "code",
   "execution_count": 15,
   "metadata": {},
   "outputs": [
    {
     "name": "stdout",
     "output_type": "stream",
     "text": [
      "5.0\n",
      "m/s\n"
     ]
    }
   ],
   "source": [
    "print(v.value)\n",
    "print(v.unit)"
   ]
  },
  {
   "cell_type": "code",
   "execution_count": 16,
   "metadata": {},
   "outputs": [
    {
     "name": "stdout",
     "output_type": "stream",
     "text": [
      "5.5555556 m/s\n"
     ]
    }
   ],
   "source": [
    "s2 = Q(10000, 'm')\n",
    "t2 = Q(1800, 's')\n",
    "v2 = s2 / t2\n",
    "print(v2)"
   ]
  },
  {
   "cell_type": "code",
   "execution_count": 17,
   "metadata": {},
   "outputs": [
    {
     "name": "stdout",
     "output_type": "stream",
     "text": [
      "20 km/h\n"
     ]
    }
   ],
   "source": [
    "v2.convert('km/h')\n",
    "print(v2)"
   ]
  },
  {
   "cell_type": "code",
   "execution_count": 19,
   "metadata": {},
   "outputs": [
    {
     "data": {
      "text/plain": [
       "19.999999999999996"
      ]
     },
     "execution_count": 19,
     "metadata": {},
     "output_type": "execute_result"
    }
   ],
   "source": [
    "v2/Q(1, \"km/h\")"
   ]
  },
  {
   "cell_type": "code",
   "execution_count": 20,
   "metadata": {},
   "outputs": [
    {
     "name": "stdout",
     "output_type": "stream",
     "text": [
      "12.427424 mi/h\n"
     ]
    }
   ],
   "source": [
    "v2.convert('mi/h')\n",
    "print(v2)\n"
   ]
  },
  {
   "cell_type": "code",
   "execution_count": 26,
   "metadata": {},
   "outputs": [
    {
     "data": {
      "text/plain": [
       "5 m/s"
      ]
     },
     "execution_count": 26,
     "metadata": {},
     "output_type": "execute_result"
    }
   ],
   "source": [
    "v.base"
   ]
  },
  {
   "cell_type": "code",
   "execution_count": 27,
   "metadata": {},
   "outputs": [
    {
     "data": {
      "text/plain": [
       "500 cm/s"
      ]
     },
     "execution_count": 27,
     "metadata": {},
     "output_type": "execute_result"
    }
   ],
   "source": [
    "v.cgs"
   ]
  },
  {
   "cell_type": "code",
   "execution_count": 30,
   "metadata": {},
   "outputs": [
    {
     "name": "stdout",
     "output_type": "stream",
     "text": [
      "2 au\n",
      "2.9919574e+11 m\n"
     ]
    }
   ],
   "source": [
    "longdistance = Q(2, 'au')\n",
    "print(longdistance)\n",
    "print(longdistance.base)"
   ]
  },
  {
   "cell_type": "code",
   "execution_count": 31,
   "metadata": {},
   "outputs": [
    {
     "data": {
      "text/plain": [
       "[('pi', 3.141592653589793),\n",
       " ('e', 2.718281828459045),\n",
       " ('c0', 2.9979246e+08 m/s),\n",
       " ('mu0', 1.2566371e-06 m*kg/s^2/A^2),\n",
       " ('eps0', 8.8541878e-12 s^4*A^2/m^3/kg),\n",
       " ('Grav', 6.67384e-11 m^3/kg/s^2),\n",
       " ('hpl', 6.6260696e-34 J*s),\n",
       " ('hbar', 1.0545717e-34 J*s),\n",
       " ('e0', 1.6021766e-19 C),\n",
       " ('me', 9.1093829e-31 kg),\n",
       " ('mp', 1.6726218e-27 kg),\n",
       " ('mn', 1.6749274e-27 kg),\n",
       " ('NA', 6.0221413e+23 1/mol),\n",
       " ('kb', 1.3806488e-23 J/K),\n",
       " ('g0', 9.80665 m/s^2),\n",
       " ('R', 8.3144621 J/mol/K),\n",
       " ('alpha', 0.0072973525698),\n",
       " ('Ry', 10973732 1/m),\n",
       " ('mu_n', -9.6623647e-27 J/T),\n",
       " ('gamma', 183.24718 MHz/T),\n",
       " ('h0', 0.704),\n",
       " ('sigmaT', 6.652453e-29 m^2)]"
      ]
     },
     "execution_count": 31,
     "metadata": {},
     "output_type": "execute_result"
    }
   ],
   "source": [
    "physics._constants"
   ]
  },
  {
   "cell_type": "code",
   "execution_count": 32,
   "metadata": {},
   "outputs": [
    {
     "data": {
      "text/plain": [
       "2 au/c0"
      ]
     },
     "execution_count": 32,
     "metadata": {},
     "output_type": "execute_result"
    }
   ],
   "source": [
    "longdistance / Q(1, 'c0')"
   ]
  },
  {
   "cell_type": "code",
   "execution_count": 33,
   "metadata": {},
   "outputs": [
    {
     "data": {
      "text/plain": [
       "998.00957 s"
      ]
     },
     "execution_count": 33,
     "metadata": {},
     "output_type": "execute_result"
    }
   ],
   "source": [
    "traveltime = longdistance / Q(1, 'c0')\n",
    "traveltime.base"
   ]
  },
  {
   "cell_type": "code",
   "execution_count": 34,
   "metadata": {},
   "outputs": [
    {
     "name": "stdout",
     "output_type": "stream",
     "text": [
      "x = 5 m/s\n",
      "y = 18 km/h\n"
     ]
    },
    {
     "data": {
      "text/plain": [
       "False"
      ]
     },
     "execution_count": 34,
     "metadata": {},
     "output_type": "execute_result"
    }
   ],
   "source": [
    "x = Q(5, 'm/s')\n",
    "y = Q(18, 'km/h')\n",
    "print(\"x = %s\" % x)\n",
    "print(\"y = %s\" % y)\n",
    "x == y"
   ]
  },
  {
   "cell_type": "code",
   "execution_count": 36,
   "metadata": {},
   "outputs": [
    {
     "name": "stdout",
     "output_type": "stream",
     "text": [
      "5 m/s\n",
      "5 m/s\n"
     ]
    }
   ],
   "source": [
    "print(x.base)\n",
    "print(y.base)"
   ]
  },
  {
   "cell_type": "code",
   "execution_count": 37,
   "metadata": {},
   "outputs": [
    {
     "name": "stdout",
     "output_type": "stream",
     "text": [
      "Unit calculation and physics extensions activated.\n"
     ]
    }
   ],
   "source": [
    "%load_ext physics"
   ]
  },
  {
   "cell_type": "code",
   "execution_count": 41,
   "metadata": {},
   "outputs": [
    {
     "name": "stdout",
     "output_type": "stream",
     "text": [
      "5 m\n"
     ]
    }
   ],
   "source": [
    "x = 5 m\n",
    "print(x)"
   ]
  },
  {
   "cell_type": "code",
   "execution_count": 42,
   "metadata": {},
   "outputs": [
    {
     "data": {
      "text/plain": [
       "500 cm"
      ]
     },
     "execution_count": 42,
     "metadata": {},
     "output_type": "execute_result"
    }
   ],
   "source": [
    "x // cm"
   ]
  },
  {
   "cell_type": "code",
   "execution_count": null,
   "metadata": {},
   "outputs": [],
   "source": []
  }
 ],
 "metadata": {
  "kernelspec": {
   "display_name": "Python 3",
   "language": "python",
   "name": "python3"
  },
  "language_info": {
   "codemirror_mode": {
    "name": "ipython",
    "version": 3
   },
   "file_extension": ".py",
   "mimetype": "text/x-python",
   "name": "python",
   "nbconvert_exporter": "python",
   "pygments_lexer": "ipython3",
   "version": "3.6.3"
  }
 },
 "nbformat": 4,
 "nbformat_minor": 2
}
