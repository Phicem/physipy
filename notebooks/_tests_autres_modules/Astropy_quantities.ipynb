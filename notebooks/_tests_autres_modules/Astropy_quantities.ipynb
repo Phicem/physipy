{
 "cells": [
  {
   "cell_type": "markdown",
   "metadata": {},
   "source": [
    "## basic imports"
   ]
  },
  {
   "cell_type": "code",
   "execution_count": 1,
   "metadata": {},
   "outputs": [],
   "source": [
    "import astropy\n",
    "from astropy import units as u\n",
    "import numpy as np"
   ]
  },
  {
   "cell_type": "markdown",
   "metadata": {},
   "source": [
    "## basic creation"
   ]
  },
  {
   "cell_type": "code",
   "execution_count": 70,
   "metadata": {},
   "outputs": [
    {
     "name": "stdout",
     "output_type": "stream",
     "text": [
      "42.0 m\n",
      "[1. 2. 3.] m\n",
      "[1. 2. 3.] m\n"
     ]
    }
   ],
   "source": [
    "print(42.0 * u.meter)\n",
    "print([1., 2., 3.] * u.m)\n",
    "print(np.array([1., 2., 3.]) * u.m)\n"
   ]
  },
  {
   "cell_type": "code",
   "execution_count": 71,
   "metadata": {},
   "outputs": [],
   "source": [
    "q = 42 * u.m"
   ]
  },
  {
   "cell_type": "code",
   "execution_count": 72,
   "metadata": {},
   "outputs": [
    {
     "name": "stdout",
     "output_type": "stream",
     "text": [
      "42.0\n",
      "<class 'float'>\n"
     ]
    }
   ],
   "source": [
    "print(q.value)\n",
    "print(type(q.value))"
   ]
  },
  {
   "cell_type": "code",
   "execution_count": 11,
   "metadata": {},
   "outputs": [
    {
     "name": "stdout",
     "output_type": "stream",
     "text": [
      "m\n",
      "<class 'astropy.units.core.IrreducibleUnit'>\n"
     ]
    }
   ],
   "source": [
    "print(q.unit)\n",
    "print(type(q.unit))"
   ]
  },
  {
   "cell_type": "code",
   "execution_count": 74,
   "metadata": {},
   "outputs": [
    {
     "data": {
      "text/latex": [
       "$0.471875 \\; \\mathrm{\\frac{m}{s}}$"
      ],
      "text/plain": [
       "<Quantity 0.471875 m / s>"
      ]
     },
     "execution_count": 74,
     "metadata": {},
     "output_type": "execute_result"
    }
   ],
   "source": [
    "15.1 * u.meter / (32.0 * u.second)"
   ]
  },
  {
   "cell_type": "markdown",
   "metadata": {},
   "source": [
    "## Composed units"
   ]
  },
  {
   "cell_type": "code",
   "execution_count": 75,
   "metadata": {},
   "outputs": [
    {
     "data": {
      "text/latex": [
       "$0.022986744 \\; \\mathrm{\\frac{km\\,s}{m}}$"
      ],
      "text/plain": [
       "<Quantity 0.02298674 km s / m>"
      ]
     },
     "execution_count": 75,
     "metadata": {},
     "output_type": "execute_result"
    }
   ],
   "source": [
    "3.0 * u.kilometer / (130.51 * u.meter / u.second)"
   ]
  },
  {
   "cell_type": "code",
   "execution_count": 15,
   "metadata": {},
   "outputs": [
    {
     "data": {
      "text/latex": [
       "$22.986744 \\; \\mathrm{s}$"
      ],
      "text/plain": [
       "<Quantity 22.98674431 s>"
      ]
     },
     "execution_count": 15,
     "metadata": {},
     "output_type": "execute_result"
    }
   ],
   "source": [
    "(3.0 * u.kilometer / (130.51 * u.meter / u.second)).decompose()  # with astropy, you have to call decompose to red"
   ]
  },
  {
   "cell_type": "markdown",
   "metadata": {},
   "source": [
    "## to() method"
   ]
  },
  {
   "cell_type": "code",
   "execution_count": 17,
   "metadata": {},
   "outputs": [
    {
     "name": "stdout",
     "output_type": "stream",
     "text": [
      "1.0 pc\n",
      "30856775814671.914 km\n",
      "1.0 pc\n"
     ]
    }
   ],
   "source": [
    "x = 1.0 * u.parsec\n",
    "print(x)\n",
    "print(x.to(u.km))  # .to() method returns, not inplace operation\n",
    "print(x) # x is still displayed in parsec\n"
   ]
  },
  {
   "cell_type": "markdown",
   "metadata": {},
   "source": [
    "## composite unit"
   ]
  },
  {
   "cell_type": "code",
   "execution_count": 21,
   "metadata": {},
   "outputs": [
    {
     "name": "stdout",
     "output_type": "stream",
     "text": [
      "cm / s\n",
      "<class 'astropy.units.core.CompositeUnit'>\n"
     ]
    }
   ],
   "source": [
    "cms = u.cm / u.s\n",
    "print(cms)\n",
    "print(type(cms))\n",
    "#print(cms.value)\n",
    "#print(cms.unit)"
   ]
  },
  {
   "cell_type": "code",
   "execution_count": 24,
   "metadata": {},
   "outputs": [],
   "source": [
    "mph = u.imperial.mile / u.hour"
   ]
  },
  {
   "cell_type": "code",
   "execution_count": 27,
   "metadata": {},
   "outputs": [
    {
     "name": "stdout",
     "output_type": "stream",
     "text": [
      "0.939513242662849 mi / h\n",
      "42.0\n",
      "cm / s\n"
     ]
    }
   ],
   "source": [
    "q = 42.0 * cms\n",
    "print(q.to(mph))\n",
    "print(q.value)\n",
    "print(q.unit)"
   ]
  },
  {
   "cell_type": "code",
   "execution_count": 77,
   "metadata": {},
   "outputs": [
    {
     "name": "stdout",
     "output_type": "stream",
     "text": [
      "\n",
      "<class 'astropy.units.core.CompositeUnit'>\n",
      "<class 'astropy.units.core.CompositeUnit'>\n"
     ]
    }
   ],
   "source": [
    "print(u.m / u.m)  # returns none ?\n",
    "print(type(u.m / u.m))\n",
    "print(type((u.m/u.m).decompose()))"
   ]
  },
  {
   "cell_type": "markdown",
   "metadata": {},
   "source": [
    "## compose"
   ]
  },
  {
   "cell_type": "code",
   "execution_count": 30,
   "metadata": {},
   "outputs": [
    {
     "data": {
      "text/plain": [
       "[Unit(\"Hz\"), Unit(\"Bq\"), Unit(\"2.7027e-11 Ci\")]"
      ]
     },
     "execution_count": 30,
     "metadata": {},
     "output_type": "execute_result"
    }
   ],
   "source": [
    "(u.s ** -1).compose()  # possibility to find existing units of same dimension"
   ]
  },
  {
   "cell_type": "markdown",
   "metadata": {},
   "source": [
    "## unit system"
   ]
  },
  {
   "cell_type": "code",
   "execution_count": 31,
   "metadata": {},
   "outputs": [
    {
     "data": {
      "text/latex": [
       "$10 \\; \\mathrm{\\frac{P}{s}}$"
      ],
      "text/plain": [
       "<Quantity 10. P / s>"
      ]
     },
     "execution_count": 31,
     "metadata": {},
     "output_type": "execute_result"
    }
   ],
   "source": [
    "(1.0 * u.Pa).cgs # unit system handling"
   ]
  },
  {
   "cell_type": "markdown",
   "metadata": {},
   "source": [
    "## formatting"
   ]
  },
  {
   "cell_type": "code",
   "execution_count": 35,
   "metadata": {},
   "outputs": [
    {
     "name": "stdout",
     "output_type": "stream",
     "text": [
      "0.472 m / s\n"
     ]
    }
   ],
   "source": [
    "q = 15.1 * u.meter / (32.0 * u.second)\n",
    "print(\"{0:0.03f}\".format(q))  # formatting"
   ]
  },
  {
   "cell_type": "code",
   "execution_count": 36,
   "metadata": {},
   "outputs": [
    {
     "data": {
      "text/plain": [
       "'0.472 m s-1'"
      ]
     },
     "execution_count": 36,
     "metadata": {},
     "output_type": "execute_result"
    }
   ],
   "source": [
    "q = 15.1 * u.meter / (32.0 * u.second)\n",
    "\"{0.value:0.03f} {0.unit:FITS}\".format(q)  # separate formating for value and unit"
   ]
  },
  {
   "cell_type": "code",
   "execution_count": 43,
   "metadata": {},
   "outputs": [
    {
     "name": "stdout",
     "output_type": "stream",
     "text": [
      "<module 'astropy.units.si' from '/Users/mocquin/anaconda3/lib/python3.6/site-packages/astropy/units/si.py'>\n",
      "<module 'astropy.units.cgs' from '/Users/mocquin/anaconda3/lib/python3.6/site-packages/astropy/units/cgs.py'>\n",
      "<module 'astropy.units.astrophys' from '/Users/mocquin/anaconda3/lib/python3.6/site-packages/astropy/units/astrophys.py'>\n",
      "<module 'astropy.units.imperial' from '/Users/mocquin/anaconda3/lib/python3.6/site-packages/astropy/units/imperial.py'>\n"
     ]
    }
   ],
   "source": [
    "# units dictionnary\n",
    "print(u.si)\n",
    "print(u.cgs)\n",
    "print(u.astrophys)\n",
    "print(u.imperial)\n",
    "#print(u.cds)"
   ]
  },
  {
   "cell_type": "code",
   "execution_count": 44,
   "metadata": {},
   "outputs": [
    {
     "data": {
      "text/plain": [
       "<module 'astropy.units.equivalencies' from '/Users/mocquin/anaconda3/lib/python3.6/site-packages/astropy/units/equivalencies.py'>"
      ]
     },
     "execution_count": 44,
     "metadata": {},
     "output_type": "execute_result"
    }
   ],
   "source": [
    "# basicaly functions of conversion\n",
    "astropy.units.equivalencies"
   ]
  },
  {
   "cell_type": "markdown",
   "metadata": {},
   "source": [
    "## constructor"
   ]
  },
  {
   "cell_type": "code",
   "execution_count": 45,
   "metadata": {},
   "outputs": [
    {
     "data": {
      "text/latex": [
       "$15 \\; \\mathrm{\\frac{m}{s}}$"
      ],
      "text/plain": [
       "<Quantity 15. m / s>"
      ]
     },
     "execution_count": 45,
     "metadata": {},
     "output_type": "execute_result"
    }
   ],
   "source": [
    "# base constructor \n",
    "u.Quantity(15, u.m / u.s)\n",
    "qlst = [60 * u.s, 1 * u.min]\n",
    "print(u.Quantity(qlst, u.minute)) # constructor allow list of quantity if same dimension\n",
    "print(u.Quantity('15 m/s')) # constructor accepts string to be parsed"
   ]
  },
  {
   "cell_type": "markdown",
   "metadata": {},
   "source": [
    "## operation"
   ]
  },
  {
   "cell_type": "code",
   "execution_count": 80,
   "metadata": {},
   "outputs": [
    {
     "name": "stdout",
     "output_type": "stream",
     "text": [
      "41.0 s\n",
      "14.6001 km\n",
      "14600.1 m\n"
     ]
    }
   ],
   "source": [
    "print(11 * u.s + 30 * u.s) # if same dimension AND unit\n",
    "print(13.5 * u.km + 1100.1 * u.m ) # if same dimension BUT NOT same unit : takes the left one\n",
    "print(1100.1 * u.m + 13.5 * u.km)"
   ]
  },
  {
   "cell_type": "code",
   "execution_count": 85,
   "metadata": {},
   "outputs": [
    {
     "name": "stdout",
     "output_type": "stream",
     "text": [
      "154.33 cm m\n"
     ]
    }
   ],
   "source": [
    "print(1.1 * u.m * 140.3 * u.cm) # multiplication keeps the product of favunit"
   ]
  },
  {
   "cell_type": "code",
   "execution_count": 87,
   "metadata": {},
   "outputs": [
    {
     "name": "stdout",
     "output_type": "stream",
     "text": [
      "0.2\n",
      "20.0 cm / m\n",
      "0.3419509727792778 cm kg m / (ms s)\n",
      "3.4195097277927777 kg m2 / s2\n"
     ]
    }
   ],
   "source": [
    "print((20. * u.cm / (1. * u.m)).decompose())\n",
    "print((20. * u.cm / (1. * u.m))) # by default, keeps favunit, and doesnot reduce dimension\n",
    "print(15. * u.kg * 32. * u.cm * 15 * u.m / (11. * u.s * 1914.15 * u.ms)  )\n",
    "print((15. * u.kg * 32. * u.cm * 15 * u.m / (11. * u.s * 1914.15 * u.ms)).decompose() )"
   ]
  },
  {
   "cell_type": "code",
   "execution_count": 59,
   "metadata": {},
   "outputs": [
    {
     "name": "stdout",
     "output_type": "stream",
     "text": [
      "2.5 m / s\n",
      "1.118033988749895 m / s\n",
      "0.49999999999999994\n",
      "0.99999999999984\n"
     ]
    }
   ],
   "source": [
    "q = np.array([1., 2., 3., 4.]) * u.m / u.s\n",
    "print(np.mean(q))\n",
    "print(np.std(q))\n",
    "q = 30. * u.deg\n",
    "print(np.sin(q))\n",
    "from astropy.constants import h, k_B\n",
    "print(np.exp(-h * 1*u.Hz / (k_B * 300*u.K)))"
   ]
  },
  {
   "cell_type": "markdown",
   "metadata": {},
   "source": [
    "## operation with numbers"
   ]
  },
  {
   "cell_type": "code",
   "execution_count": 88,
   "metadata": {},
   "outputs": [
    {
     "name": "stdout",
     "output_type": "stream",
     "text": [
      "1.001\n",
      "2.0\n"
     ]
    }
   ],
   "source": [
    "print(1. + 1. * u.m / u.km)\n",
    "print(1. + (1. * u.m / u.km).value)\n"
   ]
  },
  {
   "cell_type": "code",
   "execution_count": 61,
   "metadata": {},
   "outputs": [
    {
     "name": "stdout",
     "output_type": "stream",
     "text": [
      "0.75\n",
      "750.0\n",
      "3000\n"
     ]
    }
   ],
   "source": [
    "print(float(3. * u.m / (4. * u.m)))\n",
    "print(float(3. * u.km / (4. * u.m)))\n",
    "print(int(6. * u.km / (2. * u.m)))"
   ]
  },
  {
   "cell_type": "markdown",
   "metadata": {},
   "source": [
    "## decorator"
   ]
  },
  {
   "cell_type": "code",
   "execution_count": 64,
   "metadata": {},
   "outputs": [
    {
     "name": "stdout",
     "output_type": "stream",
     "text": [
      "arcsec\n"
     ]
    }
   ],
   "source": [
    "@u.quantity_input(myarg=u.deg)\n",
    "def myfunction(myarg):\n",
    "    return myarg.unit\n",
    "print(myfunction(100*u.arcsec))"
   ]
  },
  {
   "cell_type": "code",
   "execution_count": 65,
   "metadata": {},
   "outputs": [
    {
     "name": "stdout",
     "output_type": "stream",
     "text": [
      "arcsec\n"
     ]
    }
   ],
   "source": [
    "@u.quantity_input(myarg='angle')\n",
    "def myfunction(myarg):\n",
    "    return myarg.unit\n",
    "print(myfunction(100*u.arcsec))"
   ]
  },
  {
   "cell_type": "code",
   "execution_count": 66,
   "metadata": {},
   "outputs": [],
   "source": [
    "@u.quantity_input  \n",
    "def myfunction(myarg: u.arcsec):\n",
    "    return myarg.unit"
   ]
  },
  {
   "cell_type": "code",
   "execution_count": 67,
   "metadata": {},
   "outputs": [
    {
     "name": "stdout",
     "output_type": "stream",
     "text": [
      "27.77777777777778 deg\n"
     ]
    }
   ],
   "source": [
    "@u.quantity_input  \n",
    "def myfunction(myarg: u.arcsec) -> u.deg:\n",
    "    return myarg*1000\n",
    "\n",
    "print(myfunction(100*u.arcsec))\n"
   ]
  },
  {
   "cell_type": "code",
   "execution_count": 68,
   "metadata": {},
   "outputs": [
    {
     "name": "stdout",
     "output_type": "stream",
     "text": [
      "km\n",
      "km / s\n"
     ]
    }
   ],
   "source": [
    "@u.quantity_input(a=['length', 'speed'])\n",
    "def myfunction(a):\n",
    "    return a.unit\n",
    "print(myfunction(1.*u.km))\n",
    "print(myfunction(1.*u.km/u.s))\n"
   ]
  },
  {
   "cell_type": "code",
   "execution_count": 69,
   "metadata": {},
   "outputs": [],
   "source": [
    "# utilsiation de fraction pour éléver les unités\n",
    "from fractions import Fraction\n",
    "Franklin = u.g ** Fraction(1, 2) * u.cm ** Fraction(3, 2) * u.s ** -1"
   ]
  },
  {
   "cell_type": "code",
   "execution_count": null,
   "metadata": {},
   "outputs": [],
   "source": []
  }
 ],
 "metadata": {
  "kernelspec": {
   "display_name": "Python 3",
   "language": "python",
   "name": "python3"
  },
  "language_info": {
   "codemirror_mode": {
    "name": "ipython",
    "version": 3
   },
   "file_extension": ".py",
   "mimetype": "text/x-python",
   "name": "python",
   "nbconvert_exporter": "python",
   "pygments_lexer": "ipython3",
   "version": "3.6.3"
  }
 },
 "nbformat": 4,
 "nbformat_minor": 2
}
