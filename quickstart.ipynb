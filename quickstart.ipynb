{
 "cells": [
  {
   "cell_type": "markdown",
   "metadata": {},
   "source": [
    "The pitch :"
   ]
  },
  {
   "cell_type": "code",
   "execution_count": 53,
   "metadata": {},
   "outputs": [
    {
     "data": {
      "text/plain": [
       "[<matplotlib.lines.Line2D at 0x11c9e6c10>]"
      ]
     },
     "execution_count": 53,
     "metadata": {},
     "output_type": "execute_result"
    },
    {
     "data": {
      "image/png": "[encoded data removed]",
      "text/plain": [
       "<Figure size 432x288 with 1 Axes>"
      ]
     },
     "metadata": {
      "needs_background": "light"
     },
     "output_type": "display_data"
    }
   ],
   "source": [
    "import numpy as np\n",
    "import matplotlib.pyplot as plt\n",
    "\n",
    "import physipy\n",
    "from physipy import units, constants, set_favunit, setup_matplotlib\n",
    "from physipy import m, kg, K, sr\n",
    "\n",
    "# reading units and constants\n",
    "W = units[\"W\"]\n",
    "mum = units[\"mum\"]\n",
    "hp = constants[\"Planck\"]\n",
    "c = constants[\"c\"]\n",
    "kB = constants[\"k\"]\n",
    "\n",
    "# common unit for convinience\n",
    "Wm2srmum = W/(m**2*sr*mum)\n",
    "\n",
    "# create a function, and attach a favorite unit (for display)\n",
    "@set_favunit(Wm2srmum)\n",
    "def planck_W(wl, T):\n",
    "    return 2*hp*c**2/(wl**5) * 1/(np.exp(hp*c/(wl*kB*T))-1)/sr\n",
    "\n",
    "# create scalar with unit\n",
    "T_bb = 5800*K\n",
    "\n",
    "# create an array with unit\n",
    "ech_wl = np.linspace(0.3, 3, 100)*mum \n",
    "ech_wl.favunit = mum\n",
    "\n",
    "# activate favunit handling for automatic plot axis label\n",
    "setup_matplotlib()\n",
    "\n",
    "plt.plot(ech_wl, planck_W(ech_wl, T_bb))\n"
   ]
  },
  {
   "cell_type": "markdown",
   "metadata": {},
   "source": [
    "# A quickstart on physipy\n",
    "Homepage of project : [physipy](https://github.com/mocquin/physipy)"
   ]
  },
  {
   "cell_type": "code",
   "execution_count": 1,
   "metadata": {},
   "outputs": [],
   "source": [
    "import numpy as np\n",
    "\n",
    "import physipy"
   ]
  },
  {
   "cell_type": "markdown",
   "metadata": {
    "toc-hr-collapsed": true,
    "toc-nb-collapsed": true
   },
   "source": [
    "## Dimension object"
   ]
  },
  {
   "cell_type": "markdown",
   "metadata": {},
   "source": [
    "The Dimension object is basically a dictionnary that stores the dimensions' name and power. A dimension can be created different ways :"
   ]
  },
  {
   "cell_type": "code",
   "execution_count": 2,
   "metadata": {},
   "outputs": [
    {
     "name": "stdout",
     "output_type": "stream",
     "text": [
      "L\n"
     ]
    },
    {
     "data": {
      "text/plain": [
       "<Dimension : {'L': 1, 'M': 0, 'T': 0, 'I': 0, 'theta': 0, 'N': 0, 'J': 0, 'RAD': 0, 'SR': 0}>"
      ]
     },
     "execution_count": 2,
     "metadata": {},
     "output_type": "execute_result"
    }
   ],
   "source": [
    "a_length_dimension = physipy.Dimension(\"L\")\n",
    "print(a_length_dimension)\n",
    "a_length_dimension"
   ]
  },
  {
   "cell_type": "code",
   "execution_count": 3,
   "metadata": {},
   "outputs": [
    {
     "name": "stdout",
     "output_type": "stream",
     "text": [
      "L/T\n"
     ]
    },
    {
     "data": {
      "text/plain": [
       "<Dimension : {'L': 1, 'M': 0, 'T': -1, 'I': 0, 'theta': 0, 'N': 0, 'J': 0, 'RAD': 0, 'SR': 0}>"
      ]
     },
     "execution_count": 3,
     "metadata": {},
     "output_type": "execute_result"
    }
   ],
   "source": [
    "a_speed_dimension = physipy.Dimension({\"L\": 1, \"T\":-1})\n",
    "print(a_speed_dimension)\n",
    "a_speed_dimension"
   ]
  },
  {
   "cell_type": "markdown",
   "metadata": {},
   "source": [
    "Dimensions can be multiplied and divided as expected : "
   ]
  },
  {
   "cell_type": "code",
   "execution_count": 4,
   "metadata": {},
   "outputs": [
    {
     "name": "stdout",
     "output_type": "stream",
     "text": [
      "L**2/T\n"
     ]
    },
    {
     "data": {
      "text/plain": [
       "<Dimension : {'L': 2, 'M': 0, 'T': -1, 'I': 0, 'theta': 0, 'N': 0, 'J': 0, 'RAD': 0, 'SR': 0}>"
      ]
     },
     "execution_count": 4,
     "metadata": {},
     "output_type": "execute_result"
    }
   ],
   "source": [
    "product_dim = a_length_dimension * a_speed_dimension\n",
    "print(product_dim)\n",
    "product_dim"
   ]
  },
  {
   "cell_type": "code",
   "execution_count": 5,
   "metadata": {},
   "outputs": [
    {
     "name": "stdout",
     "output_type": "stream",
     "text": [
      "T\n"
     ]
    },
    {
     "data": {
      "text/plain": [
       "<Dimension : {'L': 0, 'M': 0, 'T': 1, 'I': 0, 'theta': 0, 'N': 0, 'J': 0, 'RAD': 0, 'SR': 0}>"
      ]
     },
     "execution_count": 5,
     "metadata": {},
     "output_type": "execute_result"
    }
   ],
   "source": [
    "div_dim = a_length_dimension / a_speed_dimension\n",
    "print(div_dim)\n",
    "div_dim"
   ]
  },
  {
   "cell_type": "markdown",
   "metadata": {},
   "source": [
    "You can display a dimension in terms of corresponding SI unit (returns a string) :"
   ]
  },
  {
   "cell_type": "code",
   "execution_count": 6,
   "metadata": {},
   "outputs": [
    {
     "name": "stdout",
     "output_type": "stream",
     "text": [
      "m\n",
      "m/s\n"
     ]
    }
   ],
   "source": [
    "print(a_length_dimension.str_SI_unit()) # meters\n",
    "print(a_speed_dimension.str_SI_unit()) # meters/second"
   ]
  },
  {
   "cell_type": "markdown",
   "metadata": {},
   "source": [
    "Other operations are avalaible : "
   ]
  },
  {
   "cell_type": "code",
   "execution_count": 7,
   "metadata": {},
   "outputs": [
    {
     "name": "stdout",
     "output_type": "stream",
     "text": [
      "m**2\n",
      "False\n",
      "1/m\n"
     ]
    }
   ],
   "source": [
    "print((a_length_dimension**2).str_SI_unit())\n",
    "print(a_length_dimension == a_speed_dimension)\n",
    "print((1/a_length_dimension).str_SI_unit())"
   ]
  },
  {
   "cell_type": "markdown",
   "metadata": {},
   "source": [
    "## Quantity object"
   ]
  },
  {
   "cell_type": "markdown",
   "metadata": {},
   "source": [
    "The Quantity class is simply the association of a numerical value, and a dimension. It can be created several ways :"
   ]
  },
  {
   "cell_type": "code",
   "execution_count": 8,
   "metadata": {},
   "outputs": [
    {
     "name": "stdout",
     "output_type": "stream",
     "text": [
      "2000 kg\n"
     ]
    }
   ],
   "source": [
    "yo_mama_weight = physipy.Quantity(2000, physipy.Dimension(\"M\"))\n",
    "print(yo_mama_weight)"
   ]
  },
  {
   "cell_type": "code",
   "execution_count": 9,
   "metadata": {},
   "outputs": [
    {
     "name": "stdout",
     "output_type": "stream",
     "text": [
      "2000 kg\n"
     ]
    }
   ],
   "source": [
    "yo_papa_weight = 2000 * physipy.kg\n",
    "print(yo_papa_weight)"
   ]
  },
  {
   "cell_type": "code",
   "execution_count": 10,
   "metadata": {},
   "outputs": [
    {
     "name": "stdout",
     "output_type": "stream",
     "text": [
      "True\n"
     ]
    }
   ],
   "source": [
    "print(yo_mama_weight == yo_papa_weight)"
   ]
  },
  {
   "cell_type": "markdown",
   "metadata": {},
   "source": [
    "If dimension analysis allows it, you can perform standard operations on and between Quantity objects :"
   ]
  },
  {
   "cell_type": "code",
   "execution_count": 11,
   "metadata": {},
   "outputs": [
    {
     "name": "stdout",
     "output_type": "stream",
     "text": [
      "4000 kg\n"
     ]
    }
   ],
   "source": [
    "print(yo_mama_weight + yo_papa_weight)"
   ]
  },
  {
   "cell_type": "code",
   "execution_count": 12,
   "metadata": {},
   "outputs": [
    {
     "name": "stdout",
     "output_type": "stream",
     "text": [
      "1.7975103574736352e+20 kg*m**2/s**2\n"
     ]
    }
   ],
   "source": [
    "# speed of light\n",
    "c = physipy.constants[\"c\"]\n",
    "E_mama = yo_mama_weight * c**2\n",
    "print(E_mama)"
   ]
  },
  {
   "cell_type": "markdown",
   "metadata": {},
   "source": [
    "## Unit conversion and displaying"
   ]
  },
  {
   "cell_type": "markdown",
   "metadata": {},
   "source": [
    "You can change the unit a Quantity displays by changing its ```favunit``` attribute, which means \"favorite unit\". It default to ```None```which displays the Quantity in SI-units."
   ]
  },
  {
   "cell_type": "code",
   "execution_count": 13,
   "metadata": {},
   "outputs": [
    {
     "name": "stdout",
     "output_type": "stream",
     "text": [
      "None\n"
     ]
    }
   ],
   "source": [
    "print(yo_mama_weight.favunit)"
   ]
  },
  {
   "cell_type": "code",
   "execution_count": 14,
   "metadata": {},
   "outputs": [
    {
     "name": "stdout",
     "output_type": "stream",
     "text": [
      "2000 kg\n"
     ]
    }
   ],
   "source": [
    "# displaying in SI-unit, kg\n",
    "print(yo_mama_weight)"
   ]
  },
  {
   "cell_type": "code",
   "execution_count": 15,
   "metadata": {},
   "outputs": [],
   "source": [
    "# changing the favunit\n",
    "g = physipy.units[\"g\"]\n",
    "yo_mama_weight.favunit = g"
   ]
  },
  {
   "cell_type": "code",
   "execution_count": 16,
   "metadata": {},
   "outputs": [
    {
     "name": "stdout",
     "output_type": "stream",
     "text": [
      "2000000.0 g\n"
     ]
    }
   ],
   "source": [
    "# now displayed in grams\n",
    "print(yo_mama_weight)"
   ]
  },
  {
   "cell_type": "markdown",
   "metadata": {},
   "source": [
    "Another example : "
   ]
  },
  {
   "cell_type": "code",
   "execution_count": 17,
   "metadata": {},
   "outputs": [
    {
     "name": "stdout",
     "output_type": "stream",
     "text": [
      "299792458.0 m/s\n"
     ]
    }
   ],
   "source": [
    "speed_of_light = c\n",
    "print(c)"
   ]
  },
  {
   "cell_type": "code",
   "execution_count": 18,
   "metadata": {},
   "outputs": [
    {
     "name": "stdout",
     "output_type": "stream",
     "text": [
      "4.249026963779527e+16 mil/h\n"
     ]
    }
   ],
   "source": [
    "mile = physipy.imperial_units[\"mil\"]\n",
    "one_hour = physipy.units[\"h\"]\n",
    "retarded_speed_unit = mile / one_hour\n",
    "print(c.to(retarded_speed_unit))"
   ]
  },
  {
   "cell_type": "markdown",
   "metadata": {},
   "source": [
    "## Units and constants"
   ]
  },
  {
   "cell_type": "markdown",
   "metadata": {},
   "source": [
    "Lots of units and constants are packed up in various dicts. The keys are the symbol of the units/constant, and the value is the corresponding quantity."
   ]
  },
  {
   "cell_type": "code",
   "execution_count": 19,
   "metadata": {},
   "outputs": [
    {
     "name": "stdout",
     "output_type": "stream",
     "text": [
      "1e-15 A\n"
     ]
    }
   ],
   "source": [
    "# pico-Ampere\n",
    "pA = physipy.units[\"pA\"]\n",
    "print(pA)"
   ]
  },
  {
   "cell_type": "code",
   "execution_count": 20,
   "metadata": {},
   "outputs": [
    {
     "name": "stdout",
     "output_type": "stream",
     "text": [
      "6.62607004e-34 kg*m**2/s\n"
     ]
    }
   ],
   "source": [
    "# Planck's constant\n",
    "h_p = physipy.constants[\"h\"] \n",
    "print(h_p)"
   ]
  },
  {
   "cell_type": "markdown",
   "metadata": {},
   "source": [
    "Note that units and constants are just Quantity objects !"
   ]
  },
  {
   "cell_type": "code",
   "execution_count": 21,
   "metadata": {},
   "outputs": [
    {
     "name": "stdout",
     "output_type": "stream",
     "text": [
      "<class 'physipy.quantity.quantity.Quantity'>\n",
      "<class 'physipy.quantity.quantity.Quantity'>\n"
     ]
    }
   ],
   "source": [
    "print(type(pA))\n",
    "print(type(h_p))"
   ]
  },
  {
   "cell_type": "markdown",
   "metadata": {},
   "source": [
    "## Numpy compatibility"
   ]
  },
  {
   "cell_type": "markdown",
   "metadata": {},
   "source": [
    "You can define a Quantity with a numpy.ndarray value :"
   ]
  },
  {
   "cell_type": "code",
   "execution_count": 22,
   "metadata": {},
   "outputs": [
    {
     "name": "stdout",
     "output_type": "stream",
     "text": [
      "[1 2 3] m\n"
     ]
    }
   ],
   "source": [
    "position_sampling = np.array([1,2,3]) * physipy.m\n",
    "print(position_sampling)"
   ]
  },
  {
   "cell_type": "code",
   "execution_count": 23,
   "metadata": {},
   "outputs": [
    {
     "name": "stdout",
     "output_type": "stream",
     "text": [
      "[0.1 0.2 0.3] s\n"
     ]
    }
   ],
   "source": [
    "time_sampling = physipy.Quantity([0.1, 0.2, 0.3], physipy.Dimension(\"T\"))\n",
    "print(time_sampling)"
   ]
  },
  {
   "cell_type": "markdown",
   "metadata": {},
   "source": [
    "You can then play with those as you would with regular ndarrays, as long as you respect dimensional analysis :"
   ]
  },
  {
   "cell_type": "code",
   "execution_count": 24,
   "metadata": {},
   "outputs": [
    {
     "name": "stdout",
     "output_type": "stream",
     "text": [
      "[10. 10. 10.] m/s\n"
     ]
    }
   ],
   "source": [
    "print(position_sampling / time_sampling)"
   ]
  },
  {
   "cell_type": "code",
   "execution_count": 25,
   "metadata": {},
   "outputs": [
    {
     "name": "stdout",
     "output_type": "stream",
     "text": [
      "[2 4 6] m\n"
     ]
    }
   ],
   "source": [
    "print(2 * position_sampling)"
   ]
  },
  {
   "cell_type": "code",
   "execution_count": 26,
   "metadata": {},
   "outputs": [
    {
     "name": "stdout",
     "output_type": "stream",
     "text": [
      "You can't add a length and a time dummy !\n",
      "Dimension error : dimensions of operands are L and T, and are differents.\n"
     ]
    }
   ],
   "source": [
    "try:\n",
    "    position_sampling + time_sampling\n",
    "except Exception as e:\n",
    "    print(\"You can't add a length and a time dummy !\")\n",
    "    print(e)"
   ]
  },
  {
   "cell_type": "code",
   "execution_count": 27,
   "metadata": {},
   "outputs": [
    {
     "name": "stdout",
     "output_type": "stream",
     "text": [
      "[1.0 6.123233995736766e-17 -1.0]\n",
      "[1.0 6.123233995736766e-17 -1.0]\n"
     ]
    }
   ],
   "source": [
    "from math import pi\n",
    "try:\n",
    "    # you cant compute the cos of a length\n",
    "    np.cos(position_sampling)\n",
    "except:\n",
    "    # but you can for a plane angle\n",
    "    an_angle_array = np.array([0, pi/2, pi]) * physipy.rad\n",
    "    print(np.cos(an_angle_array))\n",
    "    # it also works with degrees of course\n",
    "    another_angle_array = np.array([0, 90, 180]) * physipy.units[\"deg\"]\n",
    "    print(np.cos(another_angle_array))"
   ]
  },
  {
   "cell_type": "markdown",
   "metadata": {},
   "source": [
    "## List of constants and units"
   ]
  },
  {
   "cell_type": "markdown",
   "metadata": {},
   "source": [
    "### Units"
   ]
  },
  {
   "cell_type": "code",
   "execution_count": 28,
   "metadata": {},
   "outputs": [
    {
     "name": "stdout",
     "output_type": "stream",
     "text": [
      "dict_keys(['m', 'kg', 's', 'A', 'K', 'mol', 'cd', 'rad', 'sr', 'Ym', 'Yg', 'Ys', 'YA', 'YK', 'Ymol', 'Ycd', 'Yrad', 'Ysr', 'Zm', 'Zg', 'Zs', 'ZA', 'ZK', 'Zmol', 'Zcd', 'Zrad', 'Zsr', 'Em', 'Eg', 'Es', 'EA', 'EK', 'Emol', 'Ecd', 'Erad', 'Esr', 'Pm', 'Pg', 'Ps', 'PA', 'PK', 'Pmol', 'Pcd', 'Prad', 'Psr', 'Tm', 'Tg', 'Ts', 'TA', 'TK', 'Tmol', 'Tcd', 'Trad', 'Tsr', 'Gm', 'Gg', 'Gs', 'GA', 'GK', 'Gmol', 'Gcd', 'Grad', 'Gsr', 'Mm', 'Mg', 'Ms', 'MA', 'MK', 'Mmol', 'Mcd', 'Mrad', 'Msr', 'km', 'ks', 'kA', 'kK', 'kmol', 'kcd', 'krad', 'ksr', 'hm', 'hg', 'hs', 'hA', 'hK', 'hmol', 'hcd', 'hrad', 'hsr', 'dam', 'dag', 'das', 'daA', 'daK', 'damol', 'dacd', 'darad', 'dasr', 'dm', 'dg', 'ds', 'dA', 'dK', 'dmol', 'dcd', 'drad', 'dsr', 'cm', 'cg', 'cs', 'cA', 'cK', 'cmol', 'ccd', 'crad', 'csr', 'mm', 'mg', 'ms', 'mA', 'mK', 'mmol', 'mcd', 'mrad', 'msr', 'mum', 'mug', 'mus', 'muA', 'muK', 'mumol', 'mucd', 'murad', 'musr', 'nm', 'ng', 'ns', 'nA', 'nK', 'nmol', 'ncd', 'nrad', 'nsr', 'pm', 'pg', 'ps', 'pA', 'pK', 'pmol', 'pcd', 'prad', 'psr', 'fm', 'fg', 'fs', 'fA', 'fK', 'fmol', 'fcd', 'frad', 'fsr', 'am', 'ag', 'as', 'aA', 'aK', 'amol', 'acd', 'arad', 'asr', 'zm', 'zg', 'zs', 'zA', 'zK', 'zmol', 'zcd', 'zrad', 'zsr', 'ym', 'yg', 'ys', 'yA', 'yK', 'ymol', 'ycd', 'yrad', 'ysr', 'g'])\n"
     ]
    }
   ],
   "source": [
    "print(physipy.SI_units.keys())"
   ]
  },
  {
   "cell_type": "code",
   "execution_count": 29,
   "metadata": {},
   "outputs": [
    {
     "name": "stdout",
     "output_type": "stream",
     "text": [
      "dict_keys(['Hz', 'N', 'Pa', 'J', 'W', 'C', 'V', 'F', 'S', 'Wb', 'T', 'H', 'lm', 'lx', 'Bq', 'Gy', 'Sv', 'kat'])\n"
     ]
    }
   ],
   "source": [
    "print(physipy.SI_derived_units.keys())"
   ]
  },
  {
   "cell_type": "code",
   "execution_count": 30,
   "metadata": {},
   "outputs": [
    {
     "name": "stdout",
     "output_type": "stream",
     "text": [
      "dict_keys(['in', 'ft', 'yd', 'mi', 'mil', 'NM', 'fur', 'ac', 'gallon', 'quart', 'pint', 'cup', 'foz', 'tbsp', 'tsp', 'oz', 'lb', 'st', 'ton', 'slug', 'kn', 'lbf', 'kip', 'BTU', 'cal', 'kcal', 'psi', 'hp'])\n"
     ]
    }
   ],
   "source": [
    "print(physipy.imperial_units.keys())"
   ]
  },
  {
   "cell_type": "markdown",
   "metadata": {},
   "source": [
    "### Constants"
   ]
  },
  {
   "cell_type": "code",
   "execution_count": 31,
   "metadata": {},
   "outputs": [
    {
     "name": "stdout",
     "output_type": "stream",
     "text": [
      "dict_keys(['c', 'speed_of_light', 'mu_0', 'epsilon_0', 'h', 'Planck', 'hbar', 'G', 'gravitational_constant', 'g', 'e', 'elementary_charge', 'R', 'gas_constant', 'alpha', 'fine_structure', 'N_A', 'Avogadro', 'k', 'Boltzmann', 'sigma', 'Stefan_Boltzmann', 'Wien', 'Rydberg', 'm_e', 'electron_mass', 'm_p', 'proton_mass', 'm_n', 'neutron_mass'])\n"
     ]
    }
   ],
   "source": [
    "print(physipy.scipy_constants.keys())"
   ]
  },
  {
   "cell_type": "code",
   "execution_count": 32,
   "metadata": {},
   "outputs": [
    {
     "name": "stdout",
     "output_type": "stream",
     "text": [
      "dict_keys(['yotta', 'zetta', 'exa', 'peta', 'tera', 'giga', 'mega', 'kilo', 'hecto', 'deka ', 'deci ', 'centi', 'milli', 'micro', 'nano ', 'pico ', 'femto', 'atto ', 'zepto', 'kibi', 'mebi', 'gibi', 'tebi', 'pebi', 'exbi', 'zebi', 'yobi', 'gram', 'metric_ton', 'grain', 'lb', 'pound', 'blob', 'slinch', 'slug', 'oz', 'ounce', 'stone', 'long_ton', 'short_ton', 'troy_ounce', 'troy_pound', 'carat', 'm_u', 'u', 'atomic_mass', 'deg', 'arcmin', 'arcminute', 'arcsec', 'arcsecond', 'minute', 'hour', 'day', 'week', 'year', 'Julian_year', 'inch', 'foot', 'yard', 'mile', 'mil', 'pt', 'point', 'survey_foot', 'survey_mile', 'nautical_mile', 'fermi', 'angstrom', 'micron', 'au', 'astronomical_unit', 'light_year', 'parsec', 'atm', 'atmosphere', 'bar', 'torr', 'mmHg', 'psi', 'hectare', 'acre', 'liter', 'litre', 'gallon', 'gallon_US', 'gallon_imp', 'fluid_ounce', 'fluid_ounce_US', 'fluid_ounce_imp', 'bbl', 'barrel', 'kmh', 'mph', 'mach', 'speed_of_sound', 'knot', 'zero_Celsius', 'degree_Fahrenheit', 'eV', 'electron_volt', 'calorie', 'calorie_th', 'calorie_IT', 'erg', 'Btu', 'Btu_IT', 'Btu_th', 'ton_TNT', 'hp', 'horsepower', 'dyn', 'dyne', 'lbf', 'pound_force', 'kgf', 'kilogram_force'])\n"
     ]
    }
   ],
   "source": [
    "print(physipy.scipy_constants_codata.keys())"
   ]
  },
  {
   "cell_type": "code",
   "execution_count": null,
   "metadata": {},
   "outputs": [],
   "source": []
  }
 ],
 "metadata": {
  "kernelspec": {
   "display_name": "Python 3",
   "language": "python",
   "name": "python3"
  },
  "language_info": {
   "codemirror_mode": {
    "name": "ipython",
    "version": 3
   },
   "file_extension": ".py",
   "mimetype": "text/x-python",
   "name": "python",
   "nbconvert_exporter": "python",
   "pygments_lexer": "ipython3",
   "version": "3.7.4"
  }
 },
 "nbformat": 4,
 "nbformat_minor": 4
}
