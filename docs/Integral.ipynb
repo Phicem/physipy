{
 "cells": [
  {
   "cell_type": "markdown",
   "metadata": {},
   "source": [
    "# Integrals"
   ]
  },
  {
   "cell_type": "markdown",
   "metadata": {},
   "source": [
    "There are several ways to compute integrals : \n",
    " - from a np.array, using the `.integrate()` that relies on `np.trapz`\n",
    " - use `np.trapz`\n",
    " - use `scipy.integrate.romb` or `scipy.integrate.simps`  or `scipy.integrate.trapz`\n",
    " - use `physipy.quad`, that just wraps `scipy.integrate.quad` (or dblquad or tplquad)\n"
   ]
  },
  {
   "cell_type": "code",
   "execution_count": 16,
   "metadata": {},
   "outputs": [],
   "source": [
    "import physipy\n",
    "from physipy import m, units, s, K\n",
    "import numpy as np\n",
    "mm = units[\"mm\"]"
   ]
  },
  {
   "cell_type": "code",
   "execution_count": 2,
   "metadata": {},
   "outputs": [
    {
     "data": {
      "text/latex": [
       "[1. 2. 3.]$\\,m$"
      ],
      "text/plain": [
       "<Quantity : [1. 2. 3.] m>"
      ]
     },
     "execution_count": 2,
     "metadata": {},
     "output_type": "execute_result"
    }
   ],
   "source": [
    "distances = np.linspace(1, 3, num=3)*m\n",
    "distances"
   ]
  },
  {
   "cell_type": "markdown",
   "metadata": {},
   "source": [
    "## Trapezoidal rule"
   ]
  },
  {
   "cell_type": "code",
   "execution_count": 3,
   "metadata": {},
   "outputs": [
    {
     "data": {
      "text/latex": [
       "$4.0\\,m$"
      ],
      "text/plain": [
       "<Quantity : 4.0 m>"
      ]
     },
     "execution_count": 3,
     "metadata": {},
     "output_type": "execute_result"
    }
   ],
   "source": [
    "# computes ((1+2)/2 + (2+3)/2)\n",
    "distances.integrate()"
   ]
  },
  {
   "cell_type": "code",
   "execution_count": 4,
   "metadata": {},
   "outputs": [
    {
     "data": {
      "text/latex": [
       "$4.0\\,m$"
      ],
      "text/plain": [
       "<Quantity : 4.0 m>"
      ]
     },
     "execution_count": 4,
     "metadata": {},
     "output_type": "execute_result"
    }
   ],
   "source": [
    "np.trapz(distances)"
   ]
  },
  {
   "cell_type": "code",
   "execution_count": 5,
   "metadata": {},
   "outputs": [
    {
     "name": "stdout",
     "output_type": "stream",
     "text": [
      "4.0 m\n",
      "4.0 m**2\n"
     ]
    }
   ],
   "source": [
    "# use specific, constant spacing\n",
    "dx = 1*s\n",
    "# with float dx\n",
    "print(np.trapz(distances, dx=1))\n",
    "# with quantity dx\n",
    "print(np.trapz(distances, dx=1*m))"
   ]
  },
  {
   "cell_type": "markdown",
   "metadata": {},
   "source": [
    "# Scipy"
   ]
  },
  {
   "cell_type": "code",
   "execution_count": 6,
   "metadata": {},
   "outputs": [],
   "source": [
    "import scipy"
   ]
  },
  {
   "cell_type": "code",
   "execution_count": 7,
   "metadata": {},
   "outputs": [
    {
     "name": "stdout",
     "output_type": "stream",
     "text": [
      "4.0 m\n",
      "4.0 m**2\n"
     ]
    }
   ],
   "source": [
    "# scipy.integrate.trapz just wraps numpy's trapz\n",
    "print(scipy.integrate.trapz(distances, dx=1))\n",
    "print(scipy.integrate.trapz(distances, dx=1*m))"
   ]
  },
  {
   "cell_type": "code",
   "execution_count": 8,
   "metadata": {},
   "outputs": [
    {
     "data": {
      "text/latex": [
       "$4.0\\,m$"
      ],
      "text/plain": [
       "<Quantity : 4.0 m>"
      ]
     },
     "execution_count": 8,
     "metadata": {},
     "output_type": "execute_result"
    }
   ],
   "source": [
    "# scipy.integrate.simps : simpson's method : approximate function's interval by polynome \n",
    "# https://fr.wikipedia.org/wiki/M%C3%A9thode_de_Simpson\n",
    "scipy.integrate.simps(distances)\n",
    "scipy.integrate.simps(distances, dx=1*m)"
   ]
  },
  {
   "cell_type": "code",
   "execution_count": 9,
   "metadata": {},
   "outputs": [
    {
     "data": {
      "text/plain": [
       "4.0"
      ]
     },
     "execution_count": 9,
     "metadata": {},
     "output_type": "execute_result"
    }
   ],
   "source": [
    "# scipy.integrate.romb : Romberg's method \n",
    "# https://en.wikipedia.org/wiki/Romberg%27s_method\n",
    "scipy.integrate.romb(distances)\n",
    "scipy.integrate.romb(distances, dx=1*m)"
   ]
  },
  {
   "cell_type": "markdown",
   "metadata": {},
   "source": [
    "## quad"
   ]
  },
  {
   "cell_type": "code",
   "execution_count": 12,
   "metadata": {},
   "outputs": [
    {
     "data": {
      "text/latex": [
       "$60.0\\,s^{2}$"
      ],
      "text/plain": [
       "<Quantity : 60.0 s**2>"
      ]
     },
     "execution_count": 12,
     "metadata": {},
     "output_type": "execute_result"
    }
   ],
   "source": [
    "def f(t):\n",
    "    return t + 1*s\n",
    "\n",
    "integ, err = physipy.quad(f, 0*s, 10*s)\n",
    "integ"
   ]
  },
  {
   "cell_type": "markdown",
   "metadata": {},
   "source": [
    "## dblquad"
   ]
  },
  {
   "cell_type": "code",
   "execution_count": 15,
   "metadata": {},
   "outputs": [
    {
     "data": {
      "text/latex": [
       "$3600.0\\,m^{2} s^{2}$"
      ],
      "text/plain": [
       "<Quantity : 3600.0 m**2*s**2>"
      ]
     },
     "execution_count": 15,
     "metadata": {},
     "output_type": "execute_result"
    }
   ],
   "source": [
    "def f(t, d):\n",
    "    return (t + 1*s) * (d + 1*m)\n",
    "\n",
    "integ, err = physipy.dblquad(f, 0*m, 10*m, 0*s, 10*s)\n",
    "integ"
   ]
  },
  {
   "cell_type": "markdown",
   "metadata": {},
   "source": [
    "## tplquad"
   ]
  },
  {
   "cell_type": "code",
   "execution_count": 17,
   "metadata": {},
   "outputs": [
    {
     "data": {
      "text/latex": [
       "$216000.0\\,K^{2} m^{2} s^{2}$"
      ],
      "text/plain": [
       "<Quantity : 216000.0 K**2*m**2*s**2>"
      ]
     },
     "execution_count": 17,
     "metadata": {},
     "output_type": "execute_result"
    }
   ],
   "source": [
    "def f(t, d, deg):\n",
    "    return (t + 1*s) * (d + 1*m) * (deg + 1*K)\n",
    "\n",
    "integ, err = physipy.tplquad(f, 0*K, 10*K, 0*m, 10*m, 0*s, 10*s)\n",
    "integ"
   ]
  },
  {
   "cell_type": "code",
   "execution_count": null,
   "metadata": {},
   "outputs": [],
   "source": []
  }
 ],
 "metadata": {
  "kernelspec": {
   "display_name": "Python 3",
   "language": "python",
   "name": "python3"
  },
  "language_info": {
   "codemirror_mode": {
    "name": "ipython",
    "version": 3
   },
   "file_extension": ".py",
   "mimetype": "text/x-python",
   "name": "python",
   "nbconvert_exporter": "python",
   "pygments_lexer": "ipython3",
   "version": "3.7.4"
  }
 },
 "nbformat": 4,
 "nbformat_minor": 4
}
