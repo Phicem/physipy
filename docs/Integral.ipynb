{
 "cells": [
  {
   "cell_type": "markdown",
   "metadata": {},
   "source": [
    "# Integrals"
   ]
  },
  {
   "cell_type": "markdown",
   "metadata": {},
   "source": [
    "There are several ways to compute integrals : \n",
    " - from a np.array, using the `.integrate()` that relies on `np.trapz`\n",
    " - use `np.trapz`\n",
    " - use `scipy.integrate.romb` or `scipy.integrate.simps`  or `scipy.integrate.trapz`\n",
    " - use `physipy.quad`, that just wraps `scipy.integrate.quad` (or dblquad or tplquad)\n"
   ]
  },
  {
   "cell_type": "code",
   "execution_count": 1,
   "metadata": {},
   "outputs": [],
   "source": [
    "import physipy\n",
    "from physipy import m, units, s, K\n",
    "import numpy as np\n",
    "mm = units[\"mm\"]"
   ]
  },
  {
   "cell_type": "code",
   "execution_count": 2,
   "metadata": {},
   "outputs": [
    {
     "data": {
      "text/latex": [
       "[1. 2. 3.]$\\,m$"
      ],
      "text/plain": [
       "<Quantity : [1. 2. 3.] m>"
      ]
     },
     "execution_count": 2,
     "metadata": {},
     "output_type": "execute_result"
    }
   ],
   "source": [
    "distances = np.linspace(1, 3, num=3)*m\n",
    "distances"
   ]
  },
  {
   "cell_type": "markdown",
   "metadata": {},
   "source": [
    "## Trapezoidal rule"
   ]
  },
  {
   "cell_type": "code",
   "execution_count": 3,
   "metadata": {},
   "outputs": [
    {
     "data": {
      "text/latex": [
       "$4.0\\,m$"
      ],
      "text/plain": [
       "<Quantity : 4.0 m>"
      ]
     },
     "execution_count": 3,
     "metadata": {},
     "output_type": "execute_result"
    }
   ],
   "source": [
    "# computes ((1+2)/2 + (2+3)/2)\n",
    "distances.integrate()"
   ]
  },
  {
   "cell_type": "code",
   "execution_count": 4,
   "metadata": {},
   "outputs": [
    {
     "data": {
      "text/latex": [
       "$4.0\\,m$"
      ],
      "text/plain": [
       "<Quantity : 4.0 m>"
      ]
     },
     "execution_count": 4,
     "metadata": {},
     "output_type": "execute_result"
    }
   ],
   "source": [
    "np.trapz(distances)"
   ]
  },
  {
   "cell_type": "code",
   "execution_count": 5,
   "metadata": {},
   "outputs": [
    {
     "name": "stdout",
     "output_type": "stream",
     "text": [
      "4.0 m\n",
      "4.0 m**2\n"
     ]
    }
   ],
   "source": [
    "# use specific, constant spacing\n",
    "dx = 1*s\n",
    "# with float dx\n",
    "print(np.trapz(distances, dx=1))\n",
    "# with quantity dx\n",
    "print(np.trapz(distances, dx=1*m))"
   ]
  },
  {
   "cell_type": "markdown",
   "metadata": {},
   "source": [
    "This will work for integration of nd arrays. For example, computing several integrals : "
   ]
  },
  {
   "cell_type": "code",
   "execution_count": 6,
   "metadata": {},
   "outputs": [
    {
     "data": {
      "text/latex": [
       "[49995.         51015.30612245 52035.6122449  53055.91836735\n",
       " 54076.2244898  55096.53061224 56116.83673469 57137.14285714\n",
       " 58157.44897959 59177.75510204 60198.06122449 61218.36734694\n",
       " 62238.67346939 63258.97959184 64279.28571429 65299.59183673\n",
       " 66319.89795918 67340.20408163 68360.51020408 69380.81632653\n",
       " 70401.12244898 71421.42857143 72441.73469388 73462.04081633\n",
       " 74482.34693878 75502.65306122 76522.95918367 77543.26530612\n",
       " 78563.57142857 79583.87755102 80604.18367347 81624.48979592\n",
       " 82644.79591837 83665.10204082 84685.40816327 85705.71428571\n",
       " 86726.02040816 87746.32653061 88766.63265306 89786.93877551\n",
       " 90807.24489796 91827.55102041 92847.85714286 93868.16326531\n",
       " 94888.46938776 95908.7755102  96929.08163265 97949.3877551\n",
       " 98969.69387755 99990.        ]$\\,m s$"
      ],
      "text/plain": [
       "<Quantity : [49995.         51015.30612245 52035.6122449  53055.91836735\n",
       " 54076.2244898  55096.53061224 56116.83673469 57137.14285714\n",
       " 58157.44897959 59177.75510204 60198.06122449 61218.36734694\n",
       " 62238.67346939 63258.97959184 64279.28571429 65299.59183673\n",
       " 66319.89795918 67340.20408163 68360.51020408 69380.81632653\n",
       " 70401.12244898 71421.42857143 72441.73469388 73462.04081633\n",
       " 74482.34693878 75502.65306122 76522.95918367 77543.26530612\n",
       " 78563.57142857 79583.87755102 80604.18367347 81624.48979592\n",
       " 82644.79591837 83665.10204082 84685.40816327 85705.71428571\n",
       " 86726.02040816 87746.32653061 88766.63265306 89786.93877551\n",
       " 90807.24489796 91827.55102041 92847.85714286 93868.16326531\n",
       " 94888.46938776 95908.7755102  96929.08163265 97949.3877551\n",
       " 98969.69387755 99990.        ] m*s>"
      ]
     },
     "execution_count": 6,
     "metadata": {},
     "output_type": "execute_result"
    }
   ],
   "source": [
    "# sampling\n",
    "ech_t = np.linspace(1, 100)*s\n",
    "# params \n",
    "ech_v = np.linspace(10, 20)*m/s\n",
    "Ts, Vs = np.meshgrid(ech_t, ech_v)\n",
    "D = Ts*Vs\n",
    "D.integrate(axis=1, x=ech_t)"
   ]
  },
  {
   "cell_type": "markdown",
   "metadata": {},
   "source": [
    "# Trapz for 2D integral"
   ]
  },
  {
   "cell_type": "code",
   "execution_count": 7,
   "metadata": {},
   "outputs": [],
   "source": [
    "from physipy.quantity.calculus import trapz2"
   ]
  },
  {
   "cell_type": "code",
   "execution_count": 9,
   "metadata": {},
   "outputs": [
    {
     "name": "stdout",
     "output_type": "stream",
     "text": [
      "2.0 m**2\n"
     ]
    }
   ],
   "source": [
    "#sample a 2 squared meter, in both direction with different spacing\n",
    "nx = 12\n",
    "ny = 30\n",
    "ech_dx = np.linspace(0*m, 2*m, num=nx)\n",
    "ech_dy = np.linspace(0*m, 1*m ,num=ny)\n",
    "X, Y = np.meshgrid(ech_dx, ech_dy)\n",
    "# make a uniform ponderation\n",
    "Zs = np.ones_like(X)\n",
    "print(trapz2(Zs, ech_dx, ech_dy))"
   ]
  },
  {
   "cell_type": "markdown",
   "metadata": {},
   "source": [
    "# Scipy"
   ]
  },
  {
   "cell_type": "code",
   "execution_count": 7,
   "metadata": {},
   "outputs": [],
   "source": [
    "import scipy"
   ]
  },
  {
   "cell_type": "code",
   "execution_count": 8,
   "metadata": {},
   "outputs": [
    {
     "name": "stdout",
     "output_type": "stream",
     "text": [
      "4.0 m\n",
      "4.0 m**2\n"
     ]
    }
   ],
   "source": [
    "# scipy.integrate.trapz just wraps numpy's trapz\n",
    "print(scipy.integrate.trapz(distances, dx=1))\n",
    "print(scipy.integrate.trapz(distances, dx=1*m))"
   ]
  },
  {
   "cell_type": "code",
   "execution_count": 9,
   "metadata": {},
   "outputs": [
    {
     "data": {
      "text/latex": [
       "$4.0\\,m$"
      ],
      "text/plain": [
       "<Quantity : 4.0 m>"
      ]
     },
     "execution_count": 9,
     "metadata": {},
     "output_type": "execute_result"
    }
   ],
   "source": [
    "# scipy.integrate.simps : simpson's method : approximate function's interval by polynome \n",
    "# https://fr.wikipedia.org/wiki/M%C3%A9thode_de_Simpson\n",
    "scipy.integrate.simps(distances)\n",
    "scipy.integrate.simps(distances, dx=1*m)"
   ]
  },
  {
   "cell_type": "code",
   "execution_count": 10,
   "metadata": {},
   "outputs": [
    {
     "data": {
      "text/plain": [
       "4.0"
      ]
     },
     "execution_count": 10,
     "metadata": {},
     "output_type": "execute_result"
    }
   ],
   "source": [
    "# scipy.integrate.romb : Romberg's method \n",
    "# https://en.wikipedia.org/wiki/Romberg%27s_method\n",
    "scipy.integrate.romb(distances)\n",
    "scipy.integrate.romb(distances, dx=1*m)"
   ]
  },
  {
   "cell_type": "markdown",
   "metadata": {},
   "source": [
    "## quad"
   ]
  },
  {
   "cell_type": "code",
   "execution_count": 11,
   "metadata": {},
   "outputs": [
    {
     "data": {
      "text/latex": [
       "$60.0\\,s^{2}$"
      ],
      "text/plain": [
       "<Quantity : 60.0 s**2>"
      ]
     },
     "execution_count": 11,
     "metadata": {},
     "output_type": "execute_result"
    }
   ],
   "source": [
    "def f(t):\n",
    "    return t + 1*s\n",
    "\n",
    "integ, err = physipy.quad(f, 0*s, 10*s)\n",
    "integ"
   ]
  },
  {
   "cell_type": "markdown",
   "metadata": {},
   "source": [
    "## dblquad"
   ]
  },
  {
   "cell_type": "code",
   "execution_count": 12,
   "metadata": {},
   "outputs": [
    {
     "data": {
      "text/latex": [
       "$3600.0\\,m^{2} s^{2}$"
      ],
      "text/plain": [
       "<Quantity : 3600.0 m**2*s**2>"
      ]
     },
     "execution_count": 12,
     "metadata": {},
     "output_type": "execute_result"
    }
   ],
   "source": [
    "def f(t, d):\n",
    "    return (t + 1*s) * (d + 1*m)\n",
    "\n",
    "integ, err = physipy.dblquad(f, 0*m, 10*m, 0*s, 10*s)\n",
    "integ"
   ]
  },
  {
   "cell_type": "markdown",
   "metadata": {},
   "source": [
    "## tplquad"
   ]
  },
  {
   "cell_type": "code",
   "execution_count": 13,
   "metadata": {},
   "outputs": [
    {
     "data": {
      "text/latex": [
       "$216000.0\\,K^{2} m^{2} s^{2}$"
      ],
      "text/plain": [
       "<Quantity : 216000.0 K**2*m**2*s**2>"
      ]
     },
     "execution_count": 13,
     "metadata": {},
     "output_type": "execute_result"
    }
   ],
   "source": [
    "def f(t, d, deg):\n",
    "    return (t + 1*s) * (d + 1*m) * (deg + 1*K)\n",
    "\n",
    "integ, err = physipy.tplquad(f, 0*K, 10*K, 0*m, 10*m, 0*s, 10*s)\n",
    "integ"
   ]
  },
  {
   "cell_type": "code",
   "execution_count": null,
   "metadata": {},
   "outputs": [],
   "source": []
  }
 ],
 "metadata": {
  "kernelspec": {
   "display_name": "Python 3",
   "language": "python",
   "name": "python3"
  },
  "language_info": {
   "codemirror_mode": {
    "name": "ipython",
    "version": 3
   },
   "file_extension": ".py",
   "mimetype": "text/x-python",
   "name": "python",
   "nbconvert_exporter": "python",
   "pygments_lexer": "ipython3",
   "version": "3.8.5"
  }
 },
 "nbformat": 4,
 "nbformat_minor": 4
}
