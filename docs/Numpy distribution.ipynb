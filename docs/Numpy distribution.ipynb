{
 "cells": [
  {
   "cell_type": "code",
   "execution_count": 11,
   "metadata": {},
   "outputs": [],
   "source": [
    "from physipy import random as phyrandom, s\n",
    "import numpy as np"
   ]
  },
  {
   "cell_type": "code",
   "execution_count": 13,
   "metadata": {},
   "outputs": [
    {
     "data": {
      "text/latex": [
       "[-1.13548046 -0.07213882  0.25620955 ...  1.46406404  1.02760936\n",
       " -0.82478419]$\\,s$"
      ],
      "text/plain": [
       "<Quantity : [-1.13548046 -0.07213882  0.25620955 ...  1.46406404  1.02760936\n",
       " -0.82478419] s>"
      ]
     },
     "execution_count": 13,
     "metadata": {},
     "output_type": "execute_result"
    }
   ],
   "source": [
    "np.random.normal(1, 2, 10000)*s"
   ]
  },
  {
   "cell_type": "code",
   "execution_count": 10,
   "metadata": {},
   "outputs": [
    {
     "name": "stdout",
     "output_type": "stream",
     "text": [
      "[-2.93877781  0.05570984  1.30006732 ...  1.73973667 -3.76383301\n",
      "  3.09091459]\n",
      "[ 2.25378338  0.69175495  1.0410661  ... -1.7297624   2.67295688\n",
      "  2.86133185] s\n",
      "[ 3.4201158  -1.01403424  4.94437368 ... -0.59558357  0.22277586\n",
      " -1.68422611] s\n"
     ]
    }
   ],
   "source": [
    "print(phyrandom.normal(1, 2, 10000))\n",
    "print(phyrandom.normal(1, 2, 10000)*s)\n",
    "print(phyrandom.normal(1*s, 2*s, 10000))"
   ]
  },
  {
   "cell_type": "code",
   "execution_count": null,
   "metadata": {},
   "outputs": [],
   "source": []
  }
 ],
 "metadata": {
  "kernelspec": {
   "display_name": "Python 3",
   "language": "python",
   "name": "python3"
  },
  "language_info": {
   "codemirror_mode": {
    "name": "ipython",
    "version": 3
   },
   "file_extension": ".py",
   "mimetype": "text/x-python",
   "name": "python",
   "nbconvert_exporter": "python",
   "pygments_lexer": "ipython3",
   "version": "3.8.5"
  }
 },
 "nbformat": 4,
 "nbformat_minor": 4
}
