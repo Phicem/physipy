{
 "cells": [
  {
   "cell_type": "markdown",
   "metadata": {},
   "source": [
    "# Known issues"
   ]
  },
  {
   "cell_type": "markdown",
   "metadata": {},
   "source": [
    "## A float quantity is Iterable\n",
    "https://docs.python.org/3/library/collections.abc.html#collections.abc.Iterable\n",
    "This tests if the object has \"__iter__\""
   ]
  },
  {
   "cell_type": "markdown",
   "metadata": {},
   "source": [
    " - iter(x): on quantity doesn't raise a TypeError just because Quantity has a method called '__getitem__'. Would also if __iter__ was a method\n",
    " - np.iterable : (used by matplotlib units interface):\n",
    "```python \n",
    "try:\n",
    "    iter(y)\n",
    "except TypeError:\n",
    "    return False\n",
    "return True\n",
    "```\n",
    " -  https://docs.python.org/3/library/collections.abc.html#collections.abc.Iterable\n",
    " \n",
    "```\n",
    "class collections.abc.Iterable¶\n",
    "\n",
    "    ABC for classes that provide the __iter__() method.\n",
    "\n",
    "    Checking isinstance(obj, Iterable) detects classes that are registered as Iterable or that have an __iter__() method, but it does not detect classes that iterate with the __getitem__() method. The only reliable way to determine whether an object is iterable is to call iter(obj).\n",
    "\n",
    "```"
   ]
  },
  {
   "cell_type": "code",
   "execution_count": 1,
   "metadata": {},
   "outputs": [
    {
     "data": {
      "text/plain": [
       "True"
      ]
     },
     "execution_count": 1,
     "metadata": {},
     "output_type": "execute_result"
    }
   ],
   "source": [
    "import collections\n",
    "from physipy import m\n",
    "\n",
    "isinstance(m, collections.abc.Iterable)"
   ]
  },
  {
   "cell_type": "code",
   "execution_count": 2,
   "metadata": {},
   "outputs": [],
   "source": [
    "import numpy as np"
   ]
  },
  {
   "cell_type": "code",
   "execution_count": 3,
   "metadata": {},
   "outputs": [
    {
     "data": {
      "text/plain": [
       "False"
      ]
     },
     "execution_count": 3,
     "metadata": {},
     "output_type": "execute_result"
    }
   ],
   "source": [
    "np.iterable(m)"
   ]
  },
  {
   "cell_type": "code",
   "execution_count": 4,
   "metadata": {},
   "outputs": [
    {
     "data": {
      "text/plain": [
       "int"
      ]
     },
     "execution_count": 4,
     "metadata": {},
     "output_type": "execute_result"
    }
   ],
   "source": [
    "type(m.value)"
   ]
  },
  {
   "cell_type": "code",
   "execution_count": 6,
   "metadata": {},
   "outputs": [
    {
     "ename": "TypeError",
     "evalue": "'int' object is not iterable",
     "output_type": "error",
     "traceback": [
      "\u001b[0;31m---------------------------------------------------------------------------\u001b[0m",
      "\u001b[0;31mTypeError\u001b[0m                                 Traceback (most recent call last)",
      "\u001b[0;32m/var/folders/5k/bf4syt7x1zjbhc6b28srzzym0000gn/T/ipykernel_37057/3164781874.py\u001b[0m in \u001b[0;36m<module>\u001b[0;34m\u001b[0m\n\u001b[0;32m----> 1\u001b[0;31m \u001b[0miter\u001b[0m\u001b[0;34m(\u001b[0m\u001b[0mm\u001b[0m\u001b[0;34m)\u001b[0m\u001b[0;34m\u001b[0m\u001b[0;34m\u001b[0m\u001b[0m\n\u001b[0m",
      "\u001b[0;32m~/MYLIB10/MODULES/physipy/physipy/quantity/quantity.py\u001b[0m in \u001b[0;36m__iter__\u001b[0;34m(self)\u001b[0m\n\u001b[1;32m    537\u001b[0m         \u001b[0;32mand\u001b[0m \u001b[0mnp\u001b[0m\u001b[0;34m.\u001b[0m\u001b[0miterable\u001b[0m\u001b[0;34m.\u001b[0m\u001b[0;34m\u001b[0m\u001b[0;34m\u001b[0m\u001b[0m\n\u001b[1;32m    538\u001b[0m         \"\"\"\n\u001b[0;32m--> 539\u001b[0;31m         \u001b[0miter\u001b[0m\u001b[0;34m(\u001b[0m\u001b[0mself\u001b[0m\u001b[0;34m.\u001b[0m\u001b[0mvalue\u001b[0m\u001b[0;34m)\u001b[0m\u001b[0;34m\u001b[0m\u001b[0;34m\u001b[0m\u001b[0m\n\u001b[0m\u001b[1;32m    540\u001b[0m         \u001b[0;32mif\u001b[0m \u001b[0misinstance\u001b[0m\u001b[0;34m(\u001b[0m\u001b[0mself\u001b[0m\u001b[0;34m.\u001b[0m\u001b[0mvalue\u001b[0m\u001b[0;34m,\u001b[0m\u001b[0mnp\u001b[0m\u001b[0;34m.\u001b[0m\u001b[0mndarray\u001b[0m\u001b[0;34m)\u001b[0m\u001b[0;34m:\u001b[0m\u001b[0;34m\u001b[0m\u001b[0;34m\u001b[0m\u001b[0m\n\u001b[1;32m    541\u001b[0m             \u001b[0;32mreturn\u001b[0m \u001b[0mQuantityIterator\u001b[0m\u001b[0;34m(\u001b[0m\u001b[0mself\u001b[0m\u001b[0;34m)\u001b[0m\u001b[0;34m\u001b[0m\u001b[0;34m\u001b[0m\u001b[0m\n",
      "\u001b[0;31mTypeError\u001b[0m: 'int' object is not iterable"
     ]
    }
   ],
   "source": [
    "iter(m)"
   ]
  },
  {
   "cell_type": "markdown",
   "metadata": {
    "tags": []
   },
   "source": [
    "## Array repr with 0 value\n",
    "Pick best favunit take the smallest when 0 is in the array with positiv and negativ values"
   ]
  },
  {
   "cell_type": "code",
   "execution_count": 1,
   "metadata": {},
   "outputs": [
    {
     "data": {
      "text/latex": [
       "[ 0.0e+00 -1.2e+24  1.2e+24]$\\,ym$"
      ],
      "text/plain": [
       "<Quantity : [ 0.  -1.2  1.2] m>"
      ]
     },
     "execution_count": 1,
     "metadata": {},
     "output_type": "execute_result"
    }
   ],
   "source": [
    "from physipy import m, Quantity, Dimension\n",
    "import numpy as np\n",
    "Quantity(np.array([0, -1.2, 1.2]), Dimension(\"L\"))"
   ]
  },
  {
   "cell_type": "markdown",
   "metadata": {},
   "source": [
    "# Inplace change using asqarray"
   ]
  },
  {
   "cell_type": "code",
   "execution_count": 10,
   "metadata": {},
   "outputs": [
    {
     "name": "stdout",
     "output_type": "stream",
     "text": [
      "<class 'int'>\n",
      "<class 'int'>\n"
     ]
    }
   ],
   "source": [
    "from physipy.quantity.utils import asqarray\n",
    "print(type(m.value))\n",
    "arrq_9 = np.array([m.__copy__()], dtype=object)\n",
    "out = asqarray(arrq_9)\n",
    "# this changes the type of m value\n",
    "print(type(m.value))"
   ]
  },
  {
   "cell_type": "markdown",
   "metadata": {},
   "source": [
    "# Numpy trapz implementaion not called when only x or dx is a quantity"
   ]
  },
  {
   "cell_type": "markdown",
   "metadata": {},
   "source": [
    "https://github.com/numpy/numpy/issues/18902"
   ]
  },
  {
   "cell_type": "markdown",
   "metadata": {},
   "source": [
    "Only work when the array to integrate is a quantity"
   ]
  },
  {
   "cell_type": "code",
   "execution_count": 2,
   "metadata": {},
   "outputs": [],
   "source": [
    "from physipy import m\n",
    "import numpy as np"
   ]
  },
  {
   "cell_type": "code",
   "execution_count": 6,
   "metadata": {},
   "outputs": [
    {
     "name": "stdout",
     "output_type": "stream",
     "text": [
      "8.0 m\n",
      "8.0 m\n",
      "8.0 m\n",
      "----uncomment above line to trigger exception\n"
     ]
    }
   ],
   "source": [
    "# this works\n",
    "print(np.trapz(np.arange(5)*m))\n",
    "# also this\n",
    "print(np.trapz(np.arange(5), x=np.arange(5)*m))\n",
    "print(np.trapz(np.arange(5), dx=5000*m, x=np.arange(5)*m)) #dx is silent\n",
    "# but not this\n",
    "#np.trapz(np.arange(5), dx=5000*m)\n",
    "print(\"----uncomment above line to trigger exception\")"
   ]
  },
  {
   "cell_type": "markdown",
   "metadata": {},
   "source": [
    "# Array function interface not triggered on scalars"
   ]
  },
  {
   "cell_type": "markdown",
   "metadata": {},
   "source": [
    "Calling a numpy function with only scalars will not trigger the array function interface, since it is used only when an argument is an array."
   ]
  },
  {
   "cell_type": "code",
   "execution_count": 8,
   "metadata": {},
   "outputs": [
    {
     "data": {
      "text/plain": [
       "2.2532145691924983"
      ]
     },
     "execution_count": 8,
     "metadata": {},
     "output_type": "execute_result"
    }
   ],
   "source": [
    "from physipy import m\n",
    "# this raises a DimensionError because of the casting into float\n",
    "#np.random.normal(3*m, 1*m)\n",
    "# while this works\n",
    "np.random.normal(np.array(3*m), np.array(1*m))"
   ]
  },
  {
   "cell_type": "markdown",
   "metadata": {},
   "source": [
    "# HALF-FIXED (Matplotlib histogram) by adding \"to_numpy\" method, but we loose the unit"
   ]
  },
  {
   "cell_type": "markdown",
   "metadata": {},
   "source": [
    "It turns out that matplotlib first checks if the object has a \"to_numpy()\" method, then again improved by removing to_numpy and removing __iter__ and delegate it to getattr"
   ]
  },
  {
   "cell_type": "markdown",
   "metadata": {},
   "source": [
    "Some preprocessing turn a quantity-array into a \"set of elements\", and plots one histogram for each value."
   ]
  },
  {
   "cell_type": "code",
   "execution_count": 1,
   "metadata": {},
   "outputs": [],
   "source": [
    "import numpy as np\n",
    "from physipy import m\n",
    "import matplotlib.pyplot as plt"
   ]
  },
  {
   "cell_type": "code",
   "execution_count": 2,
   "metadata": {},
   "outputs": [
    {
     "data": {
      "text/latex": [
       "[0.89807698 1.09605694 0.89784751 0.94731012 1.0266337  1.06173606\n",
       " 1.02419338 0.92620141 1.10737705 1.15064436 1.23512058 1.03140658\n",
       " 0.98173006 1.08249163 1.15960884 0.95960573 0.96810836 0.77439276\n",
       " 1.07409174 0.8827744  0.9553913  0.99677997 1.1001718  1.03088104\n",
       " 0.90371911 0.92490431 1.04299667 1.17259417 1.12861089 1.08735171\n",
       " 1.02620273 1.00153584 1.05113668 1.01933975 1.11508726 0.90328541\n",
       " 0.79993646 1.15632363 0.9582174  0.91678107 1.07369702 1.17420716\n",
       " 1.02244857 0.90532657 1.12497899 1.25687674 1.06405692 0.97980759\n",
       " 0.93156675 0.98624725 1.02806511 0.9378772  1.04593651 0.95118551\n",
       " 1.09657274 0.86393299 1.15184926 0.85421627 1.04015621 1.04013211\n",
       " 0.81973767 0.94074921 1.03734769 1.00951205 1.18382948 1.07953562\n",
       " 0.85994355 0.88231628 1.08303888 1.15186956 0.89377128 1.04040952\n",
       " 1.08788756 1.06442316 1.19117849 1.09077064 0.88333805 0.69515443\n",
       " 1.01581569 0.89348525 0.81312153 0.9827059  0.85471147 1.11532702\n",
       " 0.96356589 0.96602897 0.96777156 0.83285698 1.05271553 0.84497135\n",
       " 0.98580082 0.76036488 0.99656561 1.09331304 0.68916565 0.96962399\n",
       " 1.08155466 1.12100744 1.00554272 1.03056035]$\\,m$"
      ],
      "text/plain": [
       "<Quantity : [0.89807698 1.09605694 0.89784751 0.94731012 1.0266337  1.06173606\n",
       " 1.02419338 0.92620141 1.10737705 1.15064436 1.23512058 1.03140658\n",
       " 0.98173006 1.08249163 1.15960884 0.95960573 0.96810836 0.77439276\n",
       " 1.07409174 0.8827744  0.9553913  0.99677997 1.1001718  1.03088104\n",
       " 0.90371911 0.92490431 1.04299667 1.17259417 1.12861089 1.08735171\n",
       " 1.02620273 1.00153584 1.05113668 1.01933975 1.11508726 0.90328541\n",
       " 0.79993646 1.15632363 0.9582174  0.91678107 1.07369702 1.17420716\n",
       " 1.02244857 0.90532657 1.12497899 1.25687674 1.06405692 0.97980759\n",
       " 0.93156675 0.98624725 1.02806511 0.9378772  1.04593651 0.95118551\n",
       " 1.09657274 0.86393299 1.15184926 0.85421627 1.04015621 1.04013211\n",
       " 0.81973767 0.94074921 1.03734769 1.00951205 1.18382948 1.07953562\n",
       " 0.85994355 0.88231628 1.08303888 1.15186956 0.89377128 1.04040952\n",
       " 1.08788756 1.06442316 1.19117849 1.09077064 0.88333805 0.69515443\n",
       " 1.01581569 0.89348525 0.81312153 0.9827059  0.85471147 1.11532702\n",
       " 0.96356589 0.96602897 0.96777156 0.83285698 1.05271553 0.84497135\n",
       " 0.98580082 0.76036488 0.99656561 1.09331304 0.68916565 0.96962399\n",
       " 1.08155466 1.12100744 1.00554272 1.03056035] m>"
      ]
     },
     "execution_count": 2,
     "metadata": {},
     "output_type": "execute_result"
    }
   ],
   "source": [
    "arr = np.random.normal(1, 0.1, size=100)*m\n",
    "arr"
   ]
  },
  {
   "cell_type": "code",
   "execution_count": 3,
   "metadata": {},
   "outputs": [
    {
     "data": {
      "text/plain": [
       "(array([ 2.,  3.,  6., 12., 16., 17., 20., 13.,  9.,  2.]),\n",
       " array([0.68916565, 0.74593676, 0.80270787, 0.85947898, 0.91625009,\n",
       "        0.9730212 , 1.02979231, 1.08656342, 1.14333452, 1.20010563,\n",
       "        1.25687674]),\n",
       " <BarContainer object of 10 artists>)"
      ]
     },
     "execution_count": 3,
     "metadata": {},
     "output_type": "execute_result"
    },
    {
     "data": {
      "image/png": "[encoded data removed]",
      "text/plain": [
       "<Figure size 432x288 with 1 Axes>"
      ]
     },
     "metadata": {
      "needs_background": "light"
     },
     "output_type": "display_data"
    }
   ],
   "source": [
    "plt.hist(arr.value)"
   ]
  },
  {
   "cell_type": "code",
   "execution_count": 5,
   "metadata": {},
   "outputs": [
    {
     "data": {
      "text/plain": [
       "(array([1., 1., 1., 1., 1., 1., 1., 1., 1., 1.]),\n",
       " array([0. , 0.9, 1.8, 2.7, 3.6, 4.5, 5.4, 6.3, 7.2, 8.1, 9. ]),\n",
       " <BarContainer object of 10 artists>)"
      ]
     },
     "execution_count": 5,
     "metadata": {},
     "output_type": "execute_result"
    },
    {
     "data": {
      "image/png": "[encoded data removed]",
      "text/plain": [
       "<Figure size 432x288 with 1 Axes>"
      ]
     },
     "metadata": {
      "needs_background": "light"
     },
     "output_type": "display_data"
    }
   ],
   "source": [
    "plt.hist(np.arange(10)*m)"
   ]
  },
  {
   "cell_type": "markdown",
   "metadata": {},
   "source": [
    "# Matplotlib histogram, again : missing units support"
   ]
  },
  {
   "cell_type": "markdown",
   "metadata": {},
   "source": [
    "Source code for hist : https://matplotlib.org/stable/_modules/matplotlib/axes/_axes.html#Axes.hist\n",
    "\n",
    "One of the first things done is : \n",
    "```python\n",
    "x = cbook._reshape_2D(x, 'x')\n",
    "```\n",
    "With \n",
    "```python\n",
    "Signature: cbook._reshape_2D(X, name)\n",
    "Source:   \n",
    "def _reshape_2D(X, name):\n",
    "    \"\"\"\n",
    "    Use Fortran ordering to convert ndarrays and lists of iterables to lists of\n",
    "    1D arrays.\n",
    "\n",
    "    Lists of iterables are converted by applying `np.asanyarray` to each of\n",
    "    their elements.  1D ndarrays are returned in a singleton list containing\n",
    "    them.  2D ndarrays are converted to the list of their *columns*.\n",
    "\n",
    "    *name* is used to generate the error message for invalid inputs.\n",
    "    \"\"\"\n",
    "\n",
    "    # unpack if we have a values or to_numpy method.\n",
    "    try:\n",
    "        X = X.to_numpy()\n",
    "    except AttributeError:\n",
    "        try:\n",
    "            if isinstance(X.values, np.ndarray):\n",
    "                X = X.values\n",
    "        except AttributeError:\n",
    "            pass\n",
    "\n",
    "    # Iterate over columns for ndarrays.\n",
    "    if isinstance(X, np.ndarray):\n",
    "        X = X.T\n",
    "\n",
    "        if len(X) == 0:\n",
    "            return [[]]\n",
    "        elif X.ndim == 1 and np.ndim(X[0]) == 0:\n",
    "            # 1D array of scalars: directly return it.\n",
    "            return [X]\n",
    "        elif X.ndim in [1, 2]:\n",
    "            # 2D array, or 1D array of iterables: flatten them first.\n",
    "            return [np.reshape(x, -1) for x in X]\n",
    "        else:\n",
    "            raise ValueError(f'{name} must have 2 or fewer dimensions')\n",
    "\n",
    "    # Iterate over list of iterables.\n",
    "    if len(X) == 0:\n",
    "        return [[]]\n",
    "\n",
    "    result = []\n",
    "    is_1d = True\n",
    "    for xi in X:\n",
    "        # check if this is iterable, except for strings which we\n",
    "        # treat as singletons.\n",
    "        if (isinstance(xi, collections.abc.Iterable) and\n",
    "                not isinstance(xi, str)):\n",
    "            is_1d = False\n",
    "        xi = np.asanyarray(xi)\n",
    "        nd = np.ndim(xi)\n",
    "        if nd > 1:\n",
    "            raise ValueError(f'{name} must have 2 or fewer dimensions')\n",
    "        result.append(xi.reshape(-1))\n",
    "\n",
    "    if is_1d:\n",
    "        # 1D array of scalars: directly return it.\n",
    "        return [np.reshape(result, -1)]\n",
    "    else:\n",
    "        # 2D array, or 1D array of iterables: use flattened version.\n",
    "        return result\n",
    "```"
   ]
  },
  {
   "cell_type": "code",
   "execution_count": 11,
   "metadata": {},
   "outputs": [],
   "source": [
    "import matplotlib.pyplot as plt\n",
    "from physipy import units, m, K, setup_matplotlib\n",
    "from matplotlib import cbook\n",
    "import numpy as np"
   ]
  },
  {
   "cell_type": "code",
   "execution_count": 12,
   "metadata": {},
   "outputs": [],
   "source": [
    "arr = np.random.normal(1, 0.1, size=100)*m\n",
    "setup_matplotlib()"
   ]
  },
  {
   "cell_type": "code",
   "execution_count": 13,
   "metadata": {},
   "outputs": [
    {
     "data": {
      "text/plain": [
       "(array([[0., 0., 0., 1., 0., 0., 0., 0., 0., 0.],\n",
       "        [0., 0., 0., 1., 0., 0., 0., 0., 0., 0.],\n",
       "        [0., 0., 0., 0., 0., 0., 1., 0., 0., 0.],\n",
       "        [0., 0., 0., 0., 1., 0., 0., 0., 0., 0.],\n",
       "        [0., 0., 0., 0., 1., 0., 0., 0., 0., 0.],\n",
       "        [0., 0., 1., 0., 0., 0., 0., 0., 0., 0.],\n",
       "        [0., 0., 0., 0., 1., 0., 0., 0., 0., 0.],\n",
       "        [0., 0., 0., 0., 0., 1., 0., 0., 0., 0.],\n",
       "        [0., 0., 0., 0., 0., 0., 0., 1., 0., 0.],\n",
       "        [0., 0., 0., 0., 0., 0., 0., 1., 0., 0.],\n",
       "        [0., 0., 0., 1., 0., 0., 0., 0., 0., 0.],\n",
       "        [0., 0., 0., 0., 0., 1., 0., 0., 0., 0.],\n",
       "        [0., 0., 0., 1., 0., 0., 0., 0., 0., 0.],\n",
       "        [0., 0., 0., 0., 0., 1., 0., 0., 0., 0.],\n",
       "        [0., 0., 0., 0., 1., 0., 0., 0., 0., 0.],\n",
       "        [0., 0., 0., 0., 0., 1., 0., 0., 0., 0.],\n",
       "        [0., 0., 0., 0., 0., 0., 0., 0., 0., 1.],\n",
       "        [1., 0., 0., 0., 0., 0., 0., 0., 0., 0.],\n",
       "        [0., 0., 0., 0., 0., 0., 1., 0., 0., 0.],\n",
       "        [0., 0., 1., 0., 0., 0., 0., 0., 0., 0.],\n",
       "        [0., 0., 0., 1., 0., 0., 0., 0., 0., 0.],\n",
       "        [0., 0., 0., 0., 0., 0., 0., 0., 1., 0.],\n",
       "        [0., 0., 0., 0., 1., 0., 0., 0., 0., 0.],\n",
       "        [0., 0., 0., 0., 1., 0., 0., 0., 0., 0.],\n",
       "        [0., 0., 0., 0., 0., 0., 1., 0., 0., 0.],\n",
       "        [0., 0., 0., 0., 0., 0., 0., 0., 0., 1.],\n",
       "        [0., 0., 0., 0., 1., 0., 0., 0., 0., 0.],\n",
       "        [0., 0., 0., 1., 0., 0., 0., 0., 0., 0.],\n",
       "        [0., 0., 0., 0., 0., 0., 0., 0., 1., 0.],\n",
       "        [0., 0., 0., 0., 0., 0., 0., 1., 0., 0.],\n",
       "        [0., 0., 0., 0., 0., 0., 0., 1., 0., 0.],\n",
       "        [0., 0., 0., 0., 0., 0., 1., 0., 0., 0.],\n",
       "        [0., 0., 0., 0., 1., 0., 0., 0., 0., 0.],\n",
       "        [0., 0., 0., 0., 0., 1., 0., 0., 0., 0.],\n",
       "        [0., 0., 0., 1., 0., 0., 0., 0., 0., 0.],\n",
       "        [0., 0., 0., 0., 0., 0., 0., 1., 0., 0.],\n",
       "        [1., 0., 0., 0., 0., 0., 0., 0., 0., 0.],\n",
       "        [0., 0., 0., 0., 0., 1., 0., 0., 0., 0.],\n",
       "        [0., 0., 0., 0., 0., 1., 0., 0., 0., 0.],\n",
       "        [0., 0., 0., 0., 0., 0., 1., 0., 0., 0.],\n",
       "        [0., 0., 0., 0., 0., 1., 0., 0., 0., 0.],\n",
       "        [0., 0., 0., 1., 0., 0., 0., 0., 0., 0.],\n",
       "        [0., 0., 0., 0., 0., 0., 1., 0., 0., 0.],\n",
       "        [0., 0., 0., 1., 0., 0., 0., 0., 0., 0.],\n",
       "        [0., 0., 0., 0., 0., 1., 0., 0., 0., 0.],\n",
       "        [0., 0., 0., 0., 0., 0., 0., 1., 0., 0.],\n",
       "        [0., 0., 0., 0., 1., 0., 0., 0., 0., 0.],\n",
       "        [0., 0., 0., 0., 0., 0., 1., 0., 0., 0.],\n",
       "        [0., 0., 0., 1., 0., 0., 0., 0., 0., 0.],\n",
       "        [1., 0., 0., 0., 0., 0., 0., 0., 0., 0.],\n",
       "        [0., 0., 0., 0., 1., 0., 0., 0., 0., 0.],\n",
       "        [0., 0., 0., 0., 1., 0., 0., 0., 0., 0.],\n",
       "        [0., 0., 0., 0., 0., 0., 0., 1., 0., 0.],\n",
       "        [0., 0., 0., 0., 0., 1., 0., 0., 0., 0.],\n",
       "        [0., 0., 0., 0., 0., 0., 0., 1., 0., 0.],\n",
       "        [0., 0., 0., 0., 0., 0., 1., 0., 0., 0.],\n",
       "        [0., 0., 0., 0., 0., 0., 0., 0., 0., 1.],\n",
       "        [0., 0., 0., 0., 0., 1., 0., 0., 0., 0.],\n",
       "        [0., 0., 0., 1., 0., 0., 0., 0., 0., 0.],\n",
       "        [0., 0., 0., 1., 0., 0., 0., 0., 0., 0.],\n",
       "        [0., 0., 0., 0., 0., 0., 0., 0., 1., 0.],\n",
       "        [0., 0., 0., 0., 0., 0., 0., 0., 1., 0.],\n",
       "        [0., 0., 0., 1., 0., 0., 0., 0., 0., 0.],\n",
       "        [0., 1., 0., 0., 0., 0., 0., 0., 0., 0.],\n",
       "        [0., 0., 0., 0., 1., 0., 0., 0., 0., 0.],\n",
       "        [0., 0., 0., 0., 0., 1., 0., 0., 0., 0.],\n",
       "        [0., 0., 0., 0., 0., 0., 0., 0., 1., 0.],\n",
       "        [0., 0., 0., 0., 0., 0., 0., 1., 0., 0.],\n",
       "        [0., 0., 0., 0., 0., 0., 0., 1., 0., 0.],\n",
       "        [0., 0., 0., 0., 0., 0., 1., 0., 0., 0.],\n",
       "        [0., 0., 1., 0., 0., 0., 0., 0., 0., 0.],\n",
       "        [0., 0., 0., 1., 0., 0., 0., 0., 0., 0.],\n",
       "        [0., 0., 0., 0., 0., 1., 0., 0., 0., 0.],\n",
       "        [0., 0., 0., 1., 0., 0., 0., 0., 0., 0.],\n",
       "        [0., 0., 0., 0., 0., 0., 1., 0., 0., 0.],\n",
       "        [0., 0., 0., 0., 0., 0., 0., 0., 1., 0.],\n",
       "        [0., 0., 0., 0., 0., 1., 0., 0., 0., 0.],\n",
       "        [0., 0., 0., 1., 0., 0., 0., 0., 0., 0.],\n",
       "        [0., 0., 0., 0., 0., 1., 0., 0., 0., 0.],\n",
       "        [0., 0., 0., 1., 0., 0., 0., 0., 0., 0.],\n",
       "        [0., 0., 0., 0., 0., 0., 1., 0., 0., 0.],\n",
       "        [0., 0., 0., 1., 0., 0., 0., 0., 0., 0.],\n",
       "        [0., 0., 0., 0., 0., 0., 0., 0., 1., 0.],\n",
       "        [0., 0., 0., 1., 0., 0., 0., 0., 0., 0.],\n",
       "        [0., 0., 0., 1., 0., 0., 0., 0., 0., 0.],\n",
       "        [1., 0., 0., 0., 0., 0., 0., 0., 0., 0.],\n",
       "        [0., 0., 0., 0., 0., 0., 0., 1., 0., 0.],\n",
       "        [1., 0., 0., 0., 0., 0., 0., 0., 0., 0.],\n",
       "        [0., 0., 0., 1., 0., 0., 0., 0., 0., 0.],\n",
       "        [0., 0., 0., 0., 0., 1., 0., 0., 0., 0.],\n",
       "        [0., 0., 0., 1., 0., 0., 0., 0., 0., 0.],\n",
       "        [0., 0., 0., 0., 0., 0., 0., 0., 1., 0.],\n",
       "        [0., 0., 0., 0., 1., 0., 0., 0., 0., 0.],\n",
       "        [0., 0., 0., 0., 0., 1., 0., 0., 0., 0.],\n",
       "        [0., 0., 0., 1., 0., 0., 0., 0., 0., 0.],\n",
       "        [0., 0., 1., 0., 0., 0., 0., 0., 0., 0.],\n",
       "        [0., 0., 0., 0., 0., 1., 0., 0., 0., 0.],\n",
       "        [0., 0., 0., 0., 1., 0., 0., 0., 0., 0.],\n",
       "        [0., 0., 0., 0., 1., 0., 0., 0., 0., 0.],\n",
       "        [0., 0., 0., 0., 0., 0., 1., 0., 0., 0.]]),\n",
       " array([0.7341986 , 0.78381641, 0.83343423, 0.88305204, 0.93266986,\n",
       "        0.98228767, 1.03190549, 1.0815233 , 1.13114112, 1.18075893,\n",
       "        1.23037675]),\n",
       " <a list of 100 BarContainer objects>)"
      ]
     },
     "execution_count": 13,
     "metadata": {},
     "output_type": "execute_result"
    },
    {
     "data": {
      "image/png": "[encoded data removed]",
      "text/plain": [
       "<Figure size 432x288 with 1 Axes>"
      ]
     },
     "metadata": {
      "needs_background": "light"
     },
     "output_type": "display_data"
    }
   ],
   "source": [
    "plt.hist(arr)"
   ]
  },
  {
   "cell_type": "markdown",
   "metadata": {},
   "source": [
    "I created a [unit package for physical computation](https://github.com/mocquin/physipy) and its [matplotlib' unit interface](https://github.com/mocquin/physipy/blob/master/physipy/quantity/plot.py) that works well for plotting with `Axes` methods like `ax.plot`, as you can see in the [plotting notebooke demo](https://github.com/mocquin/physipy/blob/master/docs/Plotting.ipynb).\n",
    "The issue I am facing is to have the unit interface work with the histogram plotting, like in `ax.hist(arr)`.\n",
    "\n",
    "For now, I have 2 solutions that are not satisfiying : \n",
    " - first solution is the current state of my project : I added to my `Quantity` object a `to_numpy()` method that cast the instance into a plain numpy array, which makes the histogram plotting work, but looses the automatic unit plotting, since it is not a Quantity anymore but a plain numpy array. For some reasons, this method is never used when plotting with `ax.plot`, but is one of the first things tried when using `ax.hist`.\n",
    " - other solution is what I had until recently, which was even worse : without the `to_numpy()` method, matplotlib tries to loop inside the object, and since my object can be iterated over (if it is a 1D array for eg), then it plots one 1-element-histogram for each value. You can see what it looked like [here](https://render.githubusercontent.com/view/ipynb?color_mode=light&commit=f0871009f57da092eee1d640d9508070d1662c1d&enc_url=68747470733a2f2f7261772e67697468756275736572636f6e74656e742e636f6d2f6d6f637175696e2f706879736970792f663038373130303966353764613039326565653164363430643935303830373064313636326331642f646f63732f4b6e6f776e2532304973737565732e6970796e62&nwo=mocquin%2Fphysipy&path=docs%2FKnown+Issues.ipynb&repository_id=175999533&repository_type=Repository#Matplotlib-histogram) (see the Matplotlib histogram section).\n",
    "\n",
    "After digging into the source code, I found that some preprocessing is done the object passed to `hist`, using [cbook._reshape2d](https://github.com/matplotlib/matplotlib/blob/6f92db0fc6aad8dfcdb197202b969a01e4391fde/lib/matplotlib/axes/_axes.py#L6654). Then, onto [`cbook._reshape2D` source](https://github.com/matplotlib/matplotlib/blob/6f92db0fc6aad8dfcdb197202b969a01e4391fde/lib/matplotlib/cbook/__init__.py#L1304), I think most of the time objects are subclass of `np.ndarray`, and so are caught [in this loop](https://github.com/matplotlib/matplotlib/blob/6f92db0fc6aad8dfcdb197202b969a01e4391fde/lib/matplotlib/cbook/__init__.py#L1327). But my class is not a subclass of `np.ndarray`, so it ends up [in this loop](https://github.com/matplotlib/matplotlib/blob/6f92db0fc6aad8dfcdb197202b969a01e4391fde/lib/matplotlib/cbook/__init__.py#L1347). Then `np.asanyarray(xi)` is called and cast each quantity element (like `1m` into just `1`) into an int/float, again loosing the unit. Now the workaround for this kind of problem is currently addressed by numpy's [NEP-35](https://numpy.org/neps/nep-0035-array-creation-dispatch-with-array-function.html), which allows to override array-creation functions (like `np.asanyarray`), but it requires to pass an extra argument : `np.asanyarray(x)` would be `np.asanyarray(x, like=x)`. Unfortunately, this doesn't solve completely the problem, because the `xi` object are reshaped using `xi.reshape` and not `np.reshape(xi)`."
   ]
  },
  {
   "cell_type": "code",
   "execution_count": 4,
   "metadata": {},
   "outputs": [
    {
     "name": "stdout",
     "output_type": "stream",
     "text": [
      "0 m\n",
      "[0] m\n",
      "1 m\n",
      "[1] m\n",
      "2 m\n",
      "[2] m\n",
      "3 m\n",
      "[3] m\n",
      "4 m\n",
      "[4] m\n",
      "5 m\n",
      "[5] m\n",
      "6 m\n",
      "[6] m\n",
      "7 m\n",
      "[7] m\n",
      "8 m\n",
      "[8] m\n",
      "9 m\n",
      "[9] m\n",
      "True\n",
      "[array([0, 1, 2, 3, 4, 5, 6, 7, 8, 9])]\n"
     ]
    }
   ],
   "source": [
    "import collections\n",
    "import numpy as np\n",
    "from physipy import m\n",
    "\n",
    "# make a 1D array of meters\n",
    "X = np.arange(10)*m\n",
    "\n",
    "# introspect https://github.com/matplotlib/matplotlib/blob/6f92db0fc6aad8dfcdb197202b969a01e4391fde/lib/matplotlib/cbook/__init__.py#L1347 \n",
    "result = []\n",
    "is_1d = True\n",
    "for xi in X:\n",
    "    # check if this is iterable, except for strings which we\n",
    "    # treat as singletons.\n",
    "    if (isinstance(xi, collections.abc.Iterable) and\n",
    "             not isinstance(xi, str)):\n",
    "        is_1d = False\n",
    "    #xi = np.asanyarray(xi)\n",
    "    print(xi)\n",
    "    xi = np.asanyarray(xi, like=xi)\n",
    "    nd = np.ndim(xi)\n",
    "    print(xi.reshape(-1))\n",
    "    if nd > 1:\n",
    "        raise ValueError(f'{name} must have 2 or fewer dimensions')\n",
    "    result.append(xi.reshape(-1))\n",
    "\n",
    "print(is_1d)\n",
    "if is_1d:\n",
    "    # 1D array of scalars: directly return it.\n",
    "    #return \n",
    "    print([np.reshape(result, -1)])\n",
    "else:\n",
    "    # 2D array, or 1D array of iterables: use flattened version.\n",
    "    #return \n",
    "    print(result)"
   ]
  },
  {
   "cell_type": "markdown",
   "metadata": {},
   "source": [
    "# Numpy random normal"
   ]
  },
  {
   "cell_type": "markdown",
   "metadata": {},
   "source": [
    "Not really a bug, more of a Feature request on numpy's side...\n",
    "`__array_struct__` is tried on the value, and unit is dropped.\n",
    "\n",
    "See https://github.com/numpy/numpy/issues/19382"
   ]
  },
  {
   "cell_type": "code",
   "execution_count": 1,
   "metadata": {},
   "outputs": [],
   "source": [
    "import numpy as np\n",
    "from physipy import m"
   ]
  },
  {
   "cell_type": "code",
   "execution_count": 2,
   "metadata": {},
   "outputs": [
    {
     "data": {
      "text/plain": [
       "array([[-1.577376  ,  2.99188189,  5.0140872 ],\n",
       "       [ 2.91279438,  0.05503252,  1.24377635]])"
      ]
     },
     "execution_count": 2,
     "metadata": {},
     "output_type": "execute_result"
    }
   ],
   "source": [
    "np.random.normal(np.array([1, 2, 3]),\n",
    "                 np.array([2, 3, 4]), size=(2, 3))"
   ]
  },
  {
   "cell_type": "code",
   "execution_count": 3,
   "metadata": {},
   "outputs": [
    {
     "name": "stdout",
     "output_type": "stream",
     "text": [
      "getattr __array_struct__\n",
      "getattr __array_struct__\n"
     ]
    },
    {
     "name": "stderr",
     "output_type": "stream",
     "text": [
      "/Users/mocquin/MYLIB10/MODULES/physipy/physipy/quantity/quantity.py:708: UserWarning: The unit of the quantity is stripped.\n",
      "  warnings.warn(\"The unit of the quantity is stripped.\")\n"
     ]
    },
    {
     "data": {
      "text/plain": [
       "array([[ 4.98089529,  3.21840818,  4.51290955],\n",
       "       [ 3.09490679,  0.56733076, -0.65881607]])"
      ]
     },
     "execution_count": 3,
     "metadata": {},
     "output_type": "execute_result"
    }
   ],
   "source": [
    "np.random.normal(np.array([1, 2, 3])*m,\n",
    "                 np.array([2, 3, 4])*m, size=(2, 3))"
   ]
  },
  {
   "cell_type": "code",
   "execution_count": 14,
   "metadata": {},
   "outputs": [
    {
     "name": "stdout",
     "output_type": "stream",
     "text": [
      "4.5\n",
      "[ 0.47143516 -0.19097569  3.43270697  2.6873481   3.27941127  5.88716294\n",
      "  6.85958841  6.3634765   8.01569637  6.75731505]\n",
      "NumericalLabelled<4.5,toto>\n",
      "float() argument must be a string or a number, not 'NumericalLabeled'\n"
     ]
    }
   ],
   "source": [
    "import numpy as np\n",
    "np.random.seed(1234)\n",
    "\n",
    "HANDLED_FUNCTIONS = {}\n",
    "\n",
    "class NumericalLabeled():\n",
    "    def __init__(self, value, label=\"\"):\n",
    "        self.value = value\n",
    "        self.label = label\n",
    "        \n",
    "    def __repr__(self):\n",
    "        return \"NumericalLabelled<\"+str(self.value) + \",\" + self.label+\">\"\n",
    "    \n",
    "    def __array_function__(self, func, types, args, kwargs):\n",
    "        if func not in HANDLED_FUNCTIONS:\n",
    "            return NotImplemented\n",
    "        return HANDLED_FUNCTIONS[func](*args, **kwargs)\n",
    "    \n",
    "\n",
    "def make_numericallabelled(x, label=\"\"):\n",
    "    \"\"\"\n",
    "    Helper function to cast anything into a NumericalLabelled object.\n",
    "    \"\"\"\n",
    "    if isinstance(x, NumericalLabeled):\n",
    "        return x\n",
    "    else:\n",
    "        return NumericalLabeled(x, label=label)\n",
    "    \n",
    "# Numpy functions            \n",
    "# Override functions - used with __array_function__\n",
    "def implements(np_function):\n",
    "    def decorator(func):\n",
    "        HANDLED_FUNCTIONS[np_function] = func\n",
    "        return func\n",
    "    return decorator    \n",
    "    \n",
    "\n",
    "@implements(np.random.normal)\n",
    "def np_random_normal(loc=0.0, scale=1.0, **kwargs):\n",
    "    # cast both loc and scale into Numericallabelled\n",
    "    loc = make_numericallabelled(loc)\n",
    "    scale = make_numericallabelled(scale)\n",
    "    # check their label is \"compatible\"\n",
    "    if not loc.label == scale.label:\n",
    "        raise ValueError\n",
    "    return NumericalLabeled(np.random.rand(loc=loc.value,\n",
    "                                           scale=scale.value, **kwargs), \n",
    "                            loc.label+scale.label)\n",
    "\n",
    "@implements(np.mean)\n",
    "def np_mean(a, *args, **kwargs):\n",
    "    return NumericalLabeled(np.mean(a.value, *args, **kwargs),\n",
    "                            a.label)\n",
    "\n",
    "\n",
    "\n",
    "def main():\n",
    "    # reference result for standard array\n",
    "    arr = np.arange(10)\n",
    "    print(np.mean(arr))\n",
    "    print(np.random.normal(arr))\n",
    "    \n",
    "    # array-like object\n",
    "    num_labeled = NumericalLabeled(arr, \"toto\")\n",
    "    print(np.mean(num_labeled))\n",
    "    try:\n",
    "        print(np.random.normal(num_labeled))\n",
    "    except Exception as e:\n",
    "        print(e)\n",
    "\n",
    "main()"
   ]
  },
  {
   "cell_type": "code",
   "execution_count": 18,
   "metadata": {},
   "outputs": [
    {
     "name": "stdout",
     "output_type": "stream",
     "text": [
      "Python : 3.8.5 (default, Sep  4 2020, 02:22:02) \n",
      "[Clang 10.0.0 ]\n",
      "Numpy : 1.21.0\n"
     ]
    }
   ],
   "source": [
    "import sys\n",
    "print(\"Python :\", sys.version)\n",
    "print(\"Numpy :\", np.__version__)"
   ]
  },
  {
   "cell_type": "code",
   "execution_count": 8,
   "metadata": {},
   "outputs": [
    {
     "name": "stdout",
     "output_type": "stream",
     "text": [
      "4.5\n",
      "[-1.00485143  0.78212753 -0.28082594  5.86408205  5.1756093   4.76436004\n",
      "  6.2488786   7.5691081   9.0461194   9.04187251]\n"
     ]
    },
    {
     "ename": "NameError",
     "evalue": "name 'MyArrayLike' is not defined",
     "output_type": "error",
     "traceback": [
      "\u001b[0;31m---------------------------------------------------------------------------\u001b[0m",
      "\u001b[0;31mNameError\u001b[0m                                 Traceback (most recent call last)",
      "\u001b[0;32m<ipython-input-8-0eda13356262>\u001b[0m in \u001b[0;36m<module>\u001b[0;34m\u001b[0m\n\u001b[1;32m      5\u001b[0m \u001b[0mprint\u001b[0m\u001b[0;34m(\u001b[0m\u001b[0mnp\u001b[0m\u001b[0;34m.\u001b[0m\u001b[0mrandom\u001b[0m\u001b[0;34m.\u001b[0m\u001b[0mnormal\u001b[0m\u001b[0;34m(\u001b[0m\u001b[0marr\u001b[0m\u001b[0;34m)\u001b[0m\u001b[0;34m)\u001b[0m\u001b[0;34m\u001b[0m\u001b[0;34m\u001b[0m\u001b[0m\n\u001b[1;32m      6\u001b[0m \u001b[0;34m\u001b[0m\u001b[0m\n\u001b[0;32m----> 7\u001b[0;31m \u001b[0mcustom_obj\u001b[0m \u001b[0;34m=\u001b[0m \u001b[0mMyArrayLike\u001b[0m\u001b[0;34m(\u001b[0m\u001b[0marr\u001b[0m\u001b[0;34m)\u001b[0m\u001b[0;34m\u001b[0m\u001b[0;34m\u001b[0m\u001b[0m\n\u001b[0m\u001b[1;32m      8\u001b[0m \u001b[0mprint\u001b[0m\u001b[0;34m(\u001b[0m\u001b[0mnp\u001b[0m\u001b[0;34m.\u001b[0m\u001b[0mmean\u001b[0m\u001b[0;34m(\u001b[0m\u001b[0mcustom_obj\u001b[0m\u001b[0;34m)\u001b[0m\u001b[0;34m)\u001b[0m           \u001b[0;31m# np.mean will trigger __array_function__ interface\u001b[0m\u001b[0;34m\u001b[0m\u001b[0;34m\u001b[0m\u001b[0m\n\u001b[1;32m      9\u001b[0m \u001b[0mprint\u001b[0m\u001b[0;34m(\u001b[0m\u001b[0mnp\u001b[0m\u001b[0;34m.\u001b[0m\u001b[0mrandom\u001b[0m\u001b[0;34m.\u001b[0m\u001b[0mnormal\u001b[0m\u001b[0;34m(\u001b[0m\u001b[0mcustom_obj\u001b[0m\u001b[0;34m)\u001b[0m\u001b[0;34m)\u001b[0m  \u001b[0;31m# np.random.normal will \"only\" try to cast the object to float\u001b[0m\u001b[0;34m\u001b[0m\u001b[0;34m\u001b[0m\u001b[0m\n",
      "\u001b[0;31mNameError\u001b[0m: name 'MyArrayLike' is not defined"
     ]
    }
   ],
   "source": [
    "arr = np.arange(10)\n",
    "\n",
    "# Reference result \n",
    "print(np.mean(arr))\n",
    "print(np.random.normal(arr))\n",
    "\n",
    "custom_obj = MyArrayLike(arr)\n",
    "print(np.mean(custom_obj))           # np.mean will trigger __array_function__ interface\n",
    "print(np.random.normal(custom_obj))  # np.random.normal will \"only\" try to cast the object to float"
   ]
  },
  {
   "cell_type": "markdown",
   "metadata": {},
   "source": [
    "# Power of dimension are not casted to int when possible"
   ]
  },
  {
   "cell_type": "code",
   "execution_count": 1,
   "metadata": {},
   "outputs": [],
   "source": [
    "from physipy import m, K"
   ]
  },
  {
   "cell_type": "code",
   "execution_count": 4,
   "metadata": {},
   "outputs": [
    {
     "data": {
      "text/latex": [
       "$L^{1.0}$"
      ],
      "text/plain": [
       "<Dimension : {'L': 1.0, 'M': 0.0, 'T': 0.0, 'I': 0.0, 'theta': 0.0, 'N': 0.0, 'J': 0.0, 'RAD': 0.0, 'SR': 0.0}>"
      ]
     },
     "execution_count": 4,
     "metadata": {},
     "output_type": "execute_result"
    }
   ],
   "source": [
    "a = (m**2)**0.5\n",
    "a.dimension"
   ]
  },
  {
   "cell_type": "markdown",
   "metadata": {},
   "source": [
    "# Degree rendering"
   ]
  },
  {
   "cell_type": "markdown",
   "metadata": {},
   "source": [
    "Degree as favunit is rendered as \"<function deg at 0x...>\""
   ]
  },
  {
   "cell_type": "code",
   "execution_count": 1,
   "metadata": {},
   "outputs": [
    {
     "data": {
      "text/latex": [
       "$5.0\\,\\mathtt{\\text{<function deg at 0x11c66ca60>}}$"
      ],
      "text/plain": [
       "<Quantity : 0.08726646259971647 rad, symbol=UndefinedSymbol*deg>"
      ]
     },
     "execution_count": 1,
     "metadata": {},
     "output_type": "execute_result"
    }
   ],
   "source": [
    "from physipy import rad, units\n",
    "deg = units[\"deg\"]\n",
    "a = 5*deg\n",
    "a.favunit = deg\n",
    "a"
   ]
  },
  {
   "cell_type": "code",
   "execution_count": null,
   "metadata": {},
   "outputs": [],
   "source": []
  }
 ],
 "metadata": {
  "jupytext": {
   "encoding": "# -*- coding: utf-8 -*-",
   "text_representation": {
    "extension": ".py",
    "format_name": "percent",
    "format_version": "1.3",
    "jupytext_version": "1.13.4"
   }
  },
  "kernelspec": {
   "display_name": "Python 3 (ipykernel)",
   "language": "python",
   "name": "python3"
  },
  "language_info": {
   "codemirror_mode": {
    "name": "ipython",
    "version": 3
   },
   "file_extension": ".py",
   "mimetype": "text/x-python",
   "name": "python",
   "nbconvert_exporter": "python",
   "pygments_lexer": "ipython3",
   "version": "3.9.7"
  }
 },
 "nbformat": 4,
 "nbformat_minor": 4
}
