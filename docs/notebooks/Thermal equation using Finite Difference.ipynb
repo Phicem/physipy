{
 "cells": [
  {
   "cell_type": "markdown",
   "id": "c3162182-fbec-425f-9f8b-7be47953143c",
   "metadata": {},
   "source": [
    "https://levelup.gitconnected.com/solving-2d-heat-equation-numerically-using-python-3334004aa01a"
   ]
  },
  {
   "cell_type": "markdown",
   "id": "a2c7ca50-0475-4a4b-9100-aeb7d9d56f64",
   "metadata": {},
   "source": [
    "The heat equation is basicaly a partial differential equation that mixes time and space : "
   ]
  },
  {
   "cell_type": "markdown",
   "id": "f47ee3b2-1cdf-489d-8661-7339f1e2bd1b",
   "metadata": {},
   "source": [
    "$$ \\frac{\\partial u}{\\partial t} - \\alpha \\nabla u = 0 $$\n"
   ]
  },
  {
   "cell_type": "markdown",
   "id": "78b9c790-9921-4d74-85fa-886f5c42986c",
   "metadata": {},
   "source": [
    "with $\\alpha$ a diffusivity constant. More precisely in 2D : "
   ]
  },
  {
   "cell_type": "markdown",
   "id": "6dbddb55-c6cc-478f-b0b1-bdf6a27ad71c",
   "metadata": {},
   "source": [
    "$$\\frac{\\partial u}{\\partial t} - \\alpha \\left( \\frac{\\partial^2 u}{\\partial x^2} +  \\frac{\\partial^2 u}{\\partial y^2}  \\right) = 0$$\n"
   ]
  },
  {
   "cell_type": "markdown",
   "id": "a40a9bc9-a528-4d3e-9d21-d117f17e6ec3",
   "metadata": {},
   "source": [
    "Using Finite-Difference method simply consist in approximating the derivatives using small differences between values at small samples."
   ]
  },
  {
   "cell_type": "markdown",
   "id": "ee6811a4-189f-439d-94b6-48c1c7ba9692",
   "metadata": {},
   "source": [
    "Using finite-difference, we can rewrite the 2D heat equation : "
   ]
  },
  {
   "cell_type": "markdown",
   "id": "c753e85f-b6d6-4586-8c90-942140c7cd2c",
   "metadata": {},
   "source": [
    "$$\\frac{u_{i,j}^{k+1} - u_{i,j}^k}{\\Delta t} - \\alpha \\left( \\frac{u_{i+1,j}^k - 2 u_{i,j}^k + u_{i-1,k}^k}{\\Delta x^2} + \\frac{u_{i,j+1}^k - 2 u_{i,j}^k + u_{i,k-1}^k}{\\Delta y^2}  \\right) = 0$$"
   ]
  },
  {
   "cell_type": "markdown",
   "id": "b70af408-67a8-49d7-b1f9-a921a02286ab",
   "metadata": {},
   "source": [
    "Suppose $\\Delta x = \\Delta y$, we can get : \n",
    "$$u_{i,j}^{k+1} = \\alpha\\frac{\\Delta t }{\\Delta x^2}\\left(u_{i+1,j}^k + u_{i-1,j}^k + u_{i,j+1}^k + u_{i,j-1}^k - 4 u_{i,j}^k  \\right)+ u_{i,j}^k$$"
   ]
  },
  {
   "cell_type": "markdown",
   "id": "5c8e42b4-090b-40b8-a3fe-e87b37293d54",
   "metadata": {},
   "source": [
    "For numerical stability, we need : \n",
    "$$\\Delta t \\le \\frac{\\Delta x^2}{4\\alpha}$$"
   ]
  },
  {
   "cell_type": "markdown",
   "id": "6342f55e-6a58-4edf-a57f-557e08a1641d",
   "metadata": {},
   "source": [
    "Now about optimization of the loops : \n",
    "notice that the equation to compute the temperature at time k+1 is a linear combination for other temperature points at time k. So this relation can be seen as a linear operation, and so can be writter with a convolution kernel. Picture the heat map at time k as a 2D image, and the heat map at time k+1 as another image that is the result of a convolution of the first image.\n",
    "Rewriting the equation with $\\gamma = \\alpha \\frac{\\Delta t}{\\Delta x^2}$, we get : \n",
    "$$u_{i,j}^{k+1} = \\gamma u_{i+1,j}^k + \\gamma u_{i-1,j}^k + \\gamma u_{i,j+1}^k + \\gamma u_{i,j-1}^k - 4 \\gamma u_{i,j}^k +u_{i,j}^k$$\n",
    "The kernel can be seen as  :\n",
    "$$K = \\begin{pmatrix}\n",
    "0 & \\gamma & 0\\\\\n",
    "\\gamma & 1-4\\gamma & \\gamma\\\\\n",
    "0 & \\gamma & 0\\\\\n",
    "\\end{pmatrix}\n",
    "$$\n",
    "with local heatmap =\n",
    "$$\\begin{pmatrix}\n",
    "u_{i-1,j-1}^k & u_{i-1,j}^k & u_{i-1,j+1}^k\\\\\n",
    "u_{i,j-1}^k & u_{i,j}^k & u_{i,j+1}^k\\\\\n",
    "u_{i+1,j-1}^k & u_{i+1,j}^k & u_{i+1,j+1}^k\\\\\n",
    "\\end{pmatrix}\n",
    "$$\n"
   ]
  },
  {
   "cell_type": "markdown",
   "id": "3ad1eaa8-722c-44cf-be82-c98fe8375ce0",
   "metadata": {},
   "source": [
    "We can then rewrite the equation of $u_{i,j}^{k+1}$ as a simple dot product"
   ]
  },
  {
   "cell_type": "markdown",
   "id": "22799e88-c09c-4f8f-862c-31a2b03ca9cf",
   "metadata": {},
   "source": [
    "Now since the kernel is the same for all element"
   ]
  },
  {
   "cell_type": "code",
   "execution_count": 15,
   "id": "809777e0-4112-43ec-afae-7cab063f5cb3",
   "metadata": {},
   "outputs": [
    {
     "ename": "NameError",
     "evalue": "name 'arr' is not defined",
     "output_type": "error",
     "traceback": [
      "\u001b[0;31m---------------------------------------------------------------------------\u001b[0m",
      "\u001b[0;31mNameError\u001b[0m                                 Traceback (most recent call last)",
      "\u001b[0;32m/var/folders/5k/bf4syt7x1zjbhc6b28srzzym0000gn/T/ipykernel_50130/2866107075.py\u001b[0m in \u001b[0;36m<module>\u001b[0;34m\u001b[0m\n\u001b[0;32m----> 1\u001b[0;31m \u001b[0msubmaps\u001b[0m \u001b[0;34m=\u001b[0m \u001b[0mnp\u001b[0m\u001b[0;34m.\u001b[0m\u001b[0mlib\u001b[0m\u001b[0;34m.\u001b[0m\u001b[0mstride_tricks\u001b[0m\u001b[0;34m.\u001b[0m\u001b[0msliding_window_view\u001b[0m\u001b[0;34m(\u001b[0m\u001b[0marr\u001b[0m\u001b[0;34m,\u001b[0m \u001b[0;34m(\u001b[0m\u001b[0;36m3\u001b[0m\u001b[0;34m,\u001b[0m\u001b[0;36m3\u001b[0m\u001b[0;34m)\u001b[0m\u001b[0;34m)\u001b[0m\u001b[0;34m\u001b[0m\u001b[0;34m\u001b[0m\u001b[0m\n\u001b[0m\u001b[1;32m      2\u001b[0m kernel = np.array([\n\u001b[1;32m      3\u001b[0m     \u001b[0;34m[\u001b[0m\u001b[0;36m0\u001b[0m\u001b[0;34m,\u001b[0m \u001b[0mgamma\u001b[0m\u001b[0;34m,\u001b[0m \u001b[0;36m0\u001b[0m\u001b[0;34m]\u001b[0m\u001b[0;34m,\u001b[0m\u001b[0;34m\u001b[0m\u001b[0;34m\u001b[0m\u001b[0m\n\u001b[1;32m      4\u001b[0m     \u001b[0;34m[\u001b[0m\u001b[0mgamma\u001b[0m\u001b[0;34m,\u001b[0m \u001b[0;36m1\u001b[0m\u001b[0;34m-\u001b[0m\u001b[0;36m4\u001b[0m\u001b[0;34m*\u001b[0m\u001b[0mgamma\u001b[0m\u001b[0;34m,\u001b[0m \u001b[0mgamma\u001b[0m\u001b[0;34m]\u001b[0m\u001b[0;34m,\u001b[0m\u001b[0;34m\u001b[0m\u001b[0;34m\u001b[0m\u001b[0m\n\u001b[1;32m      5\u001b[0m     \u001b[0;34m[\u001b[0m\u001b[0;36m0\u001b[0m\u001b[0;34m,\u001b[0m \u001b[0mgamma\u001b[0m\u001b[0;34m,\u001b[0m \u001b[0;36m0\u001b[0m\u001b[0;34m]\u001b[0m\u001b[0;34m,\u001b[0m\u001b[0;34m\u001b[0m\u001b[0;34m\u001b[0m\u001b[0m\n",
      "\u001b[0;31mNameError\u001b[0m: name 'arr' is not defined"
     ]
    }
   ],
   "source": [
    "submaps = np.lib.stride_tricks.sliding_window_view(arr, (3,3))\n",
    "kernel = np.array([\n",
    "    [0, gamma, 0],\n",
    "    [gamma, 1-4*gamma, gamma],\n",
    "    [0, gamma, 0],\n",
    "])\n",
    "\n",
    "print(kernel * submaps)\n",
    "print(np.sum(kernel * submaps, axis=(2,3)))\n"
   ]
  },
  {
   "cell_type": "code",
   "execution_count": 16,
   "id": "5b6acaa2-6a2a-428c-b53c-bb2f687529de",
   "metadata": {},
   "outputs": [
    {
     "name": "stdout",
     "output_type": "stream",
     "text": [
      "[[ 0  1  2  3]\n",
      " [ 4  5  6  7]\n",
      " [ 8  9 10 11]\n",
      " [12 13 14 15]]\n"
     ]
    },
    {
     "data": {
      "text/plain": [
       "array([[[ 0,  1,  2],\n",
       "        [ 4,  5,  6],\n",
       "        [ 8,  9, 10]],\n",
       "\n",
       "       [[ 1,  2,  3],\n",
       "        [ 5,  6,  7],\n",
       "        [ 9, 10, 11]],\n",
       "\n",
       "       [[ 2,  3,  4],\n",
       "        [ 6,  7,  8],\n",
       "        [10, 11, 12]],\n",
       "\n",
       "       [[ 3,  4,  5],\n",
       "        [ 7,  8,  9],\n",
       "        [11, 12, 13]]])"
      ]
     },
     "execution_count": 16,
     "metadata": {},
     "output_type": "execute_result"
    }
   ],
   "source": [
    "nx = 4\n",
    "ny = 4\n",
    "\n",
    "arr = np.arange(nx*ny).reshape((nx,ny))\n",
    "print(arr)\n",
    "itemsize = arr.itemsize\n",
    "shape = (\n",
    "    # shape of the output dimension is \n",
    "    (nx-2)*(ny-2),\n",
    "    3,\n",
    "    3\n",
    ")\n",
    "strides = (\n",
    "    # adjacent elements in the output were originaly XX bytes apart in the input\n",
    "    8, 8*nx, 8,\n",
    ")\n",
    "np.lib.stride_tricks.as_strided(arr, shape=shape, strides=strides)"
   ]
  },
  {
   "cell_type": "code",
   "execution_count": 17,
   "id": "66ccd363-08c2-4326-9290-7f02213d6bf8",
   "metadata": {},
   "outputs": [
    {
     "name": "stdout",
     "output_type": "stream",
     "text": [
      "2D heat equation solver\n"
     ]
    }
   ],
   "source": [
    "import numpy as np\n",
    "import matplotlib.pyplot as plt\n",
    "import matplotlib.animation as animation\n",
    "from matplotlib.animation import FuncAnimation\n",
    "\n",
    "print(\"2D heat equation solver\")\n",
    "\n",
    "plate_length = 200\n",
    "max_iter_time = 750\n",
    "\n",
    "alpha = 2\n",
    "delta_x = 1\n",
    "\n",
    "delta_t = (delta_x ** 2)/(4 * alpha)\n",
    "gamma = (alpha * delta_t) / (delta_x ** 2)\n",
    "kernel = np.array([\n",
    "    [0, gamma, 0],\n",
    "    [gamma, 1-4*gamma, gamma],\n",
    "    [0, gamma, 0],\n",
    "])\n",
    "\n",
    "\n",
    "def convolv(sub_arr, kernel=kernel):\n",
    "    submaps = np.lib.stride_tricks.sliding_window_view(sub_arr, (3,3))\n",
    "    result = np.sum(kernel * submaps, axis=(2,3))\n",
    "    return result\n",
    "\n",
    "def initialize_u():\n",
    "    # Initialize solution: the grid of u(k, i, j)\n",
    "    u = np.empty((max_iter_time, plate_length, plate_length))\n",
    "\n",
    "    # Initial condition everywhere inside the grid\n",
    "    u_initial = 0\n",
    "\n",
    "    # Boundary conditions\n",
    "    u_top = 100.0\n",
    "    u_left = 0.0\n",
    "    u_bottom = 0.0\n",
    "    u_right = 0.0\n",
    "\n",
    "    # Set the initial condition\n",
    "    u.fill(u_initial)\n",
    "\n",
    "    # Set the boundary conditions\n",
    "    u[:, (plate_length-1):, :] = u_top\n",
    "    u[:, :, :1] = u_left\n",
    "    u[:, :1, 1:] = u_bottom\n",
    "    u[:, :, (plate_length-1):] = u_right\n",
    "\n",
    "    return u\n",
    "    \n",
    "def calculate(u):\n",
    "    for k in range(0, max_iter_time-1, 1):\n",
    "        for i in range(1, plate_length-1, delta_x):\n",
    "            for j in range(1, plate_length-1, delta_x):\n",
    "                u[k + 1, i, j] = gamma * (u[k][i+1][j] + u[k][i-1][j] + u[k][i][j+1] + u[k][i][j-1] - 4*u[k][i][j]) + u[k][i][j]\n",
    "    return u\n",
    "\n",
    "def calculate_faster(u):\n",
    "    for k in range(0, max_iter_time-1, 1):\n",
    "        # we get a 4D array that contains all possible 3x3 local heatmaps at time k\n",
    "        local_maps = np.lib.stride_tricks.sliding_window_view(u[k], (3,3))\n",
    "        # sum the product of the kernel and each map\n",
    "        # and sum each local map\n",
    "        result = np.sum(kernel * submaps, axis=(2,3))\n",
    "        # set the newly computed heatmap at time k+1\n",
    "        u[k+1, 1:-1, 1:-1] = res\n",
    "    return u\n",
    "\n",
    "def plotheatmap(u_k, k):\n",
    "    # Clear the current plot figure\n",
    "    plt.clf()\n",
    "\n",
    "    plt.title(f\"Temperature at t = {k*delta_t:.3f} unit time\")\n",
    "    plt.xlabel(\"x\")\n",
    "    plt.ylabel(\"y\")\n",
    "\n",
    "    # This is to plot u_k (u at time-step k)\n",
    "    plt.pcolormesh(u_k, cmap=plt.cm.jet, vmin=0, vmax=100)\n",
    "    plt.colorbar()\n",
    "\n",
    "\n",
    "    return plt"
   ]
  },
  {
   "cell_type": "code",
   "execution_count": 18,
   "id": "bdbfebba-3df7-47f5-9318-fbfd0364d27f",
   "metadata": {},
   "outputs": [],
   "source": [
    "\n",
    "u1 = calculate(u)"
   ]
  },
  {
   "cell_type": "code",
   "execution_count": 19,
   "id": "9d929048-a2c9-4a25-99f4-2bfc86145c11",
   "metadata": {},
   "outputs": [
    {
     "ename": "NameError",
     "evalue": "name 'submaps' is not defined",
     "output_type": "error",
     "traceback": [
      "\u001b[0;31m---------------------------------------------------------------------------\u001b[0m",
      "\u001b[0;31mNameError\u001b[0m                                 Traceback (most recent call last)",
      "\u001b[0;32m/var/folders/5k/bf4syt7x1zjbhc6b28srzzym0000gn/T/ipykernel_50130/2788614672.py\u001b[0m in \u001b[0;36m<module>\u001b[0;34m\u001b[0m\n\u001b[0;32m----> 1\u001b[0;31m \u001b[0mu2\u001b[0m \u001b[0;34m=\u001b[0m \u001b[0mcalculate_faster\u001b[0m\u001b[0;34m(\u001b[0m\u001b[0mu\u001b[0m\u001b[0;34m)\u001b[0m\u001b[0;34m\u001b[0m\u001b[0;34m\u001b[0m\u001b[0m\n\u001b[0m",
      "\u001b[0;32m/var/folders/5k/bf4syt7x1zjbhc6b28srzzym0000gn/T/ipykernel_50130/1525289259.py\u001b[0m in \u001b[0;36mcalculate_faster\u001b[0;34m(u)\u001b[0m\n\u001b[1;32m     63\u001b[0m         \u001b[0;31m# sum the product of the kernel and each map\u001b[0m\u001b[0;34m\u001b[0m\u001b[0;34m\u001b[0m\u001b[0m\n\u001b[1;32m     64\u001b[0m         \u001b[0;31m# and sum each local map\u001b[0m\u001b[0;34m\u001b[0m\u001b[0;34m\u001b[0m\u001b[0m\n\u001b[0;32m---> 65\u001b[0;31m         \u001b[0mresult\u001b[0m \u001b[0;34m=\u001b[0m \u001b[0mnp\u001b[0m\u001b[0;34m.\u001b[0m\u001b[0msum\u001b[0m\u001b[0;34m(\u001b[0m\u001b[0mkernel\u001b[0m \u001b[0;34m*\u001b[0m \u001b[0msubmaps\u001b[0m\u001b[0;34m,\u001b[0m \u001b[0maxis\u001b[0m\u001b[0;34m=\u001b[0m\u001b[0;34m(\u001b[0m\u001b[0;36m2\u001b[0m\u001b[0;34m,\u001b[0m\u001b[0;36m3\u001b[0m\u001b[0;34m)\u001b[0m\u001b[0;34m)\u001b[0m\u001b[0;34m\u001b[0m\u001b[0;34m\u001b[0m\u001b[0m\n\u001b[0m\u001b[1;32m     66\u001b[0m         \u001b[0;31m# set the newly computed heatmap at time k+1\u001b[0m\u001b[0;34m\u001b[0m\u001b[0;34m\u001b[0m\u001b[0m\n\u001b[1;32m     67\u001b[0m         \u001b[0mu\u001b[0m\u001b[0;34m[\u001b[0m\u001b[0mk\u001b[0m\u001b[0;34m+\u001b[0m\u001b[0;36m1\u001b[0m\u001b[0;34m,\u001b[0m \u001b[0;36m1\u001b[0m\u001b[0;34m:\u001b[0m\u001b[0;34m-\u001b[0m\u001b[0;36m1\u001b[0m\u001b[0;34m,\u001b[0m \u001b[0;36m1\u001b[0m\u001b[0;34m:\u001b[0m\u001b[0;34m-\u001b[0m\u001b[0;36m1\u001b[0m\u001b[0;34m]\u001b[0m \u001b[0;34m=\u001b[0m \u001b[0mres\u001b[0m\u001b[0;34m\u001b[0m\u001b[0;34m\u001b[0m\u001b[0m\n",
      "\u001b[0;31mNameError\u001b[0m: name 'submaps' is not defined"
     ]
    }
   ],
   "source": [
    "u2 = calculate_faster(u)"
   ]
  },
  {
   "cell_type": "code",
   "execution_count": null,
   "id": "2cfcf9fe-0169-49a5-b564-83d8e293dec3",
   "metadata": {},
   "outputs": [],
   "source": [
    "np.all(u1 == u2)"
   ]
  },
  {
   "cell_type": "code",
   "execution_count": null,
   "id": "bd4e9c15-7d31-4d27-ade2-6d6504022b26",
   "metadata": {},
   "outputs": [],
   "source": [
    "# Do the calculation here\n",
    "u = calculate(u)\n",
    "\n",
    "def animate(k):\n",
    "    plotheatmap(u[k], k)\n",
    "\n",
    "anim = animation.FuncAnimation(plt.figure(), animate, interval=1, frames=max_iter_time, repeat=False)\n",
    "anim.save(\"heat_equation_solution.gif\")\n",
    "\n",
    "print(\"Done!\")"
   ]
  },
  {
   "cell_type": "markdown",
   "id": "8e1863e1-4471-41f4-8056-c153ae3802bd",
   "metadata": {},
   "source": [
    "# Using implicit method"
   ]
  },
  {
   "cell_type": "markdown",
   "id": "32b10dcf-4da3-44f6-b231-765ce0d9caba",
   "metadata": {},
   "source": [
    "https://yaredwb.github.io/FDM1D/"
   ]
  },
  {
   "cell_type": "markdown",
   "id": "d194c706-cec4-478d-8841-074c5bd6d607",
   "metadata": {},
   "source": [
    "We can rewrite the time derivative using a backward difference, which makes the method implicit : \n",
    "$$\\frac{\\partial u}{\\partial t} \\approx \\frac{u_{i,j}^{k-1} - u_{i,j}^k}{\\Delta t}$$"
   ]
  },
  {
   "cell_type": "markdown",
   "id": "f31a5c92-4448-4076-ae96-c8eca212874a",
   "metadata": {},
   "source": [
    "where it was : \n",
    "$$\\frac{u_{i,j}^{k+1} - u_{i,j}^k}{\\Delta t}$$"
   ]
  },
  {
   "cell_type": "markdown",
   "id": "ee057043-fcfa-4be3-83c7-5b9a621f35ad",
   "metadata": {},
   "source": [
    "So the full equation becomes :\n",
    "$$ \\frac{u_{i,j}^{k-1} - u_{i,j}^k}{\\Delta t} - \\alpha \\left( \\frac{u_{i+1,j}^k - 2 u_{i,j}^k + u_{i-1,k}^k}{\\Delta x^2} + \\frac{u_{i,j+1}^k - 2 u_{i,j}^k + u_{i,j-1}^k}{\\Delta y^2}  \\right) = 0$$"
   ]
  },
  {
   "cell_type": "markdown",
   "id": "acd9a515-5025-4c63-b087-236f84e3740e",
   "metadata": {},
   "source": [
    "and knowing the heatmap at time $k-1$, trying to solve for $u_{i,j}^k$ we get a dependence from neigbouhring samples also at time $k$, which we don't know. This equation is true for all samples $i,j$, so we can write it for all samples, and we get a system of N-samples equations that link all heat points of time $k$.\n",
    "This system of equation is linear and can be solved using classic linear algebra to inverse the matrix of the system."
   ]
  },
  {
   "cell_type": "markdown",
   "id": "50c4447f-abc9-4806-a8be-12dd5654e5cb",
   "metadata": {},
   "source": [
    "We write the full the full equation for 3 samples in 1D:\n"
   ]
  },
  {
   "cell_type": "markdown",
   "id": "bd17c2eb-3374-4ed2-a549-05cd036e7285",
   "metadata": {},
   "source": [
    "$$ \\frac{u_{i}^{k-1} - u_{i}^k}{\\Delta t} - \\alpha \\left( \\frac{u_{i+1}^k - 2 u_{i}^k +u_{i-1}^k}{\\Delta x^2}  \\right) = 0$$\n",
    "so"
   ]
  },
  {
   "cell_type": "markdown",
   "id": "f38f5514-9633-4847-b475-82a78297a055",
   "metadata": {},
   "source": [
    "$$u_i^{k-1} - u_i^k = \\alpha\\frac{\\Delta t}{\\Delta x^2} \\left( u_{i+1}^k - 2 u_{i}^k +u_{i-1}^k \\right)$$"
   ]
  },
  {
   "cell_type": "markdown",
   "id": "3fef210d-0615-4edc-9703-6565a85c7579",
   "metadata": {},
   "source": [
    "$$u_i^k (2 \\gamma - 1 ) = \\gamma u_{i+1}^k + \\gamma u_{i-1}^k - u_{i}^{k-1}$$"
   ]
  },
  {
   "cell_type": "markdown",
   "id": "3acd2402-f609-4a75-87e2-ac68acca5f5b",
   "metadata": {},
   "source": [
    "Supposing the bound condition at i=0 and i=4 is known, we have for the central 3 samples  : \n",
    "$$u_1^k (2 \\gamma - 1 ) = \\gamma u_{2}^k + \\gamma u_{0}^k - u_{1}^{k-1}$$\n",
    "$$u_2^k (2 \\gamma - 1 ) = \\gamma u_{3}^k + \\gamma u_{1}^k - u_{2}^{k-1}$$\n",
    "$$u_3^k (2 \\gamma - 1 ) = \\gamma u_{4}^k + \\gamma u_{2}^k - u_{3}^{k-1}$$"
   ]
  },
  {
   "cell_type": "markdown",
   "id": "16a36dda-1746-4dbf-9d25-31bd61fe55a6",
   "metadata": {},
   "source": [
    "remember that only the samples at time k-1 are known."
   ]
  },
  {
   "cell_type": "markdown",
   "id": "1f924da7-d02f-41df-991f-a3f56dc603c7",
   "metadata": {},
   "source": [
    "which can be written is matrix form : "
   ]
  },
  {
   "cell_type": "markdown",
   "id": "690c77f8-efc8-4581-b2ee-eff34cfc0f9c",
   "metadata": {},
   "source": [
    "$$\\begin{pmatrix}\n",
    "\n",
    "\\end{pmatrix}$$"
   ]
  },
  {
   "cell_type": "markdown",
   "id": "5cb98041-a5a7-4100-99c7-4cad83a4e2bf",
   "metadata": {},
   "source": [
    "# Crank-Nicholson method"
   ]
  },
  {
   "cell_type": "markdown",
   "id": "f4eb659e-1d44-4c5c-94ff-6c27b8bc965a",
   "metadata": {},
   "source": [
    "This method is a combination of the explicit and implicit methods. The time derivative is approximated using a central difference equation. At time k+1/2 :\n",
    "$$ \\frac{\\partial u}{\\partial t} \\approx \\frac{u_i^{k+1} - u_i^k}{\\Delta t}$$"
   ]
  },
  {
   "cell_type": "markdown",
   "id": "3b06d6ea-e3f0-48a1-8458-d32a29b17981",
   "metadata": {},
   "source": [
    "For spatial at time k+1/2 : \n",
    "$$\\frac{\\partial^2 u}{\\partial x^2} \\approx \\frac{u_{i+1}^{k+1/2} - 2u_i^{k+1/2} + u_{i-1}^{k+1/2}}{\\Delta z^2} $$\n",
    "Now we approximate the value at half time samples as the mean of surounding time samples : \n",
    "\n",
    "$$u_i^{k+1/2} = \\frac{1}{2}\\left( u_i^k + u_i^{k+1} \\right)$$\n",
    "So replacing in the above equaiton : "
   ]
  },
  {
   "cell_type": "markdown",
   "id": "879ab9f3-89f0-4807-b843-6330fd743bd8",
   "metadata": {},
   "source": [
    "$$\\frac{\\partial^2 u}{\\partial x^2} \\approx \\frac{\\frac{1}{2}\\left( u_{i+1}^k + u_{i+1}^{k+1} \\right) - 2\\frac{1}{2}\\left( u_i^k + u_i^{k+1} \\right) + \\frac{1}{2}\\left( u_{i-1}^k + u_{i-1}^{k+1} \\right)}{\\Delta z^2} $$\n"
   ]
  },
  {
   "cell_type": "markdown",
   "id": "5f610a1d-1590-4153-9a90-c8bd066da8dd",
   "metadata": {},
   "source": [
    "SPlitting time k and k+1 : "
   ]
  },
  {
   "cell_type": "markdown",
   "id": "1cf18a92-778e-470f-91a5-d6975f265586",
   "metadata": {},
   "source": [
    "$$\\frac{\\partial^2 u}{\\partial x^2} \\approx \\frac{1}{2} \\left( \\frac{u_{i+1}^{k+1} -2 u_i^{k+1} + u_{i-1}^{k+1}}{\\Delta z^2} + \\frac{u_{i+1}^{k} -2 u_i^{k} + u_{i-1}^{k}}{\\Delta z^2}\\right)$$"
   ]
  },
  {
   "cell_type": "markdown",
   "id": "6c319165-016d-47ef-bb77-7fdee4a35431",
   "metadata": {},
   "source": [
    "So the global PDE becomes : "
   ]
  },
  {
   "cell_type": "markdown",
   "id": "dd1f66e8-5173-4790-be21-cef7ae129e16",
   "metadata": {},
   "source": [
    "$$ \\frac{u_i^{k+1} - u_i^k}{\\Delta t} - \\frac{\\alpha}{2} \\left( \\frac{u_{i+1}^{k+1} -2 u_i^{k+1} + u_{i-1}^{k+1}}{\\Delta z^2} + \\frac{u_{i+1}^{k} -2 u_i^{k} + u_{i-1}^{k}}{\\Delta z^2}\\right) = 0$$"
   ]
  },
  {
   "cell_type": "markdown",
   "id": "177abf16-7b8b-42c6-9e51-3b8f317ffc58",
   "metadata": {},
   "source": [
    "Like the implicit method, the Crank-Nicolson method requires solving a system of equations at each time step since the unknown un+1i is coupled with its neighboring unknowns un+1i−1 and un+1i+1. The same principle can be used to propagate the system as with the implicit method and the linear system solving using matrix."
   ]
  },
  {
   "cell_type": "code",
   "execution_count": null,
   "id": "2d6a1131-24db-4d5b-a7d4-deeb6cbb6e29",
   "metadata": {},
   "outputs": [],
   "source": []
  }
 ],
 "metadata": {
  "jupytext": {
   "text_representation": {
    "extension": ".py",
    "format_name": "percent",
    "format_version": "1.3",
    "jupytext_version": "1.13.4"
   }
  },
  "kernelspec": {
   "display_name": "Python 3 (ipykernel)",
   "language": "python",
   "name": "python3"
  },
  "language_info": {
   "codemirror_mode": {
    "name": "ipython",
    "version": 3
   },
   "file_extension": ".py",
   "mimetype": "text/x-python",
   "name": "python",
   "nbconvert_exporter": "python",
   "pygments_lexer": "ipython3",
   "version": "3.9.7"
  }
 },
 "nbformat": 4,
 "nbformat_minor": 5
}
