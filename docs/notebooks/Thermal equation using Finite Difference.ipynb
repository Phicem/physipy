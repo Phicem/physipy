{
 "cells": [
  {
   "cell_type": "markdown",
   "id": "8e1863e1-4471-41f4-8056-c153ae3802bd",
   "metadata": {},
   "source": [
    "# Using implicit method"
   ]
  },
  {
   "cell_type": "markdown",
   "id": "32b10dcf-4da3-44f6-b231-765ce0d9caba",
   "metadata": {},
   "source": [
    "https://yaredwb.github.io/FDM1D/"
   ]
  },
  {
   "cell_type": "markdown",
   "id": "d194c706-cec4-478d-8841-074c5bd6d607",
   "metadata": {},
   "source": [
    "We can rewrite the time derivative using a backward difference, which makes the method implicit : \n",
    "$$\\frac{\\partial u}{\\partial t} \\approx \\frac{u_{i,j}^{k-1} - u_{i,j}^k}{\\Delta t}$$"
   ]
  },
  {
   "cell_type": "markdown",
   "id": "f31a5c92-4448-4076-ae96-c8eca212874a",
   "metadata": {},
   "source": [
    "where it was : \n",
    "$$\\frac{u_{i,j}^{k+1} - u_{i,j}^k}{\\Delta t}$$"
   ]
  },
  {
   "cell_type": "markdown",
   "id": "ee057043-fcfa-4be3-83c7-5b9a621f35ad",
   "metadata": {},
   "source": [
    "So the full equation becomes :\n",
    "$$ \\frac{u_{i,j}^{k-1} - u_{i,j}^k}{\\Delta t} - \\alpha \\left( \\frac{u_{i+1,j}^k - 2 u_{i,j}^k + u_{i-1,k}^k}{\\Delta x^2} + \\frac{u_{i,j+1}^k - 2 u_{i,j}^k + u_{i,j-1}^k}{\\Delta y^2}  \\right) = 0$$"
   ]
  },
  {
   "cell_type": "markdown",
   "id": "acd9a515-5025-4c63-b087-236f84e3740e",
   "metadata": {},
   "source": [
    "and knowing the heatmap at time $k-1$, trying to solve for $u_{i,j}^k$ we get a dependence from neigbouhring samples also at time $k$, which we don't know. This equation is true for all samples $i,j$, so we can write it for all samples, and we get a system of N-samples equations that link all heat points of time $k$.\n",
    "This system of equation is linear and can be solved using classic linear algebra to inverse the matrix of the system."
   ]
  },
  {
   "cell_type": "markdown",
   "id": "50c4447f-abc9-4806-a8be-12dd5654e5cb",
   "metadata": {},
   "source": [
    "We write the full the full equation for 3 samples in 1D:\n"
   ]
  },
  {
   "cell_type": "markdown",
   "id": "bd17c2eb-3374-4ed2-a549-05cd036e7285",
   "metadata": {},
   "source": [
    "$$ \\frac{u_{i}^{k-1} - u_{i}^k}{\\Delta t} - \\alpha \\left( \\frac{u_{i+1}^k - 2 u_{i}^k +u_{i-1}^k}{\\Delta x^2}  \\right) = 0$$\n",
    "so"
   ]
  },
  {
   "cell_type": "markdown",
   "id": "f38f5514-9633-4847-b475-82a78297a055",
   "metadata": {},
   "source": [
    "$$u_i^{k-1} - u_i^k = \\alpha\\frac{\\Delta t}{\\Delta x^2} \\left( u_{i+1}^k - 2 u_{i}^k +u_{i-1}^k \\right)$$"
   ]
  },
  {
   "cell_type": "markdown",
   "id": "3fef210d-0615-4edc-9703-6565a85c7579",
   "metadata": {},
   "source": [
    "$$u_i^k (2 \\gamma - 1 ) = \\gamma u_{i+1}^k + \\gamma u_{i-1}^k - u_{i}^{k-1}$$"
   ]
  },
  {
   "cell_type": "markdown",
   "id": "3acd2402-f609-4a75-87e2-ac68acca5f5b",
   "metadata": {},
   "source": [
    "Supposing the bound condition at i=0 and i=4 is known, we have for the central 3 samples  : \n",
    "$$u_1^k (2 \\gamma - 1 ) = \\gamma u_{2}^k + \\gamma u_{0}^k - u_{1}^{k-1}$$\n",
    "$$u_2^k (2 \\gamma - 1 ) = \\gamma u_{3}^k + \\gamma u_{1}^k - u_{2}^{k-1}$$\n",
    "$$u_3^k (2 \\gamma - 1 ) = \\gamma u_{4}^k + \\gamma u_{2}^k - u_{3}^{k-1}$$"
   ]
  },
  {
   "cell_type": "markdown",
   "id": "16a36dda-1746-4dbf-9d25-31bd61fe55a6",
   "metadata": {},
   "source": [
    "remember that only the samples at time k-1 are known."
   ]
  },
  {
   "cell_type": "markdown",
   "id": "1f924da7-d02f-41df-991f-a3f56dc603c7",
   "metadata": {},
   "source": [
    "which can be written is matrix form : "
   ]
  },
  {
   "cell_type": "markdown",
   "id": "690c77f8-efc8-4581-b2ee-eff34cfc0f9c",
   "metadata": {},
   "source": [
    "$$\\begin{pmatrix}\n",
    "\n",
    "\\end{pmatrix}$$"
   ]
  },
  {
   "cell_type": "markdown",
   "id": "5cb98041-a5a7-4100-99c7-4cad83a4e2bf",
   "metadata": {},
   "source": [
    "# Crank-Nicholson method"
   ]
  },
  {
   "cell_type": "markdown",
   "id": "f4eb659e-1d44-4c5c-94ff-6c27b8bc965a",
   "metadata": {},
   "source": [
    "This method is a combination of the explicit and implicit methods. The time derivative is approximated using a central difference equation. At time k+1/2 :\n",
    "$$ \\frac{\\partial u}{\\partial t} \\approx \\frac{u_i^{k+1} - u_i^k}{\\Delta t}$$"
   ]
  },
  {
   "cell_type": "markdown",
   "id": "3b06d6ea-e3f0-48a1-8458-d32a29b17981",
   "metadata": {},
   "source": [
    "For spatial at time k+1/2 : \n",
    "$$\\frac{\\partial^2 u}{\\partial x^2} \\approx \\frac{u_{i+1}^{k+1/2} - 2u_i^{k+1/2} + u_{i-1}^{k+1/2}}{\\Delta z^2} $$\n",
    "Now we approximate the value at half time samples as the mean of surounding time samples : \n",
    "\n",
    "$$u_i^{k+1/2} = \\frac{1}{2}\\left( u_i^k + u_i^{k+1} \\right)$$\n",
    "So replacing in the above equaiton : "
   ]
  },
  {
   "cell_type": "markdown",
   "id": "879ab9f3-89f0-4807-b843-6330fd743bd8",
   "metadata": {},
   "source": [
    "$$\\frac{\\partial^2 u}{\\partial x^2} \\approx \\frac{\\frac{1}{2}\\left( u_{i+1}^k + u_{i+1}^{k+1} \\right) - 2\\frac{1}{2}\\left( u_i^k + u_i^{k+1} \\right) + \\frac{1}{2}\\left( u_{i-1}^k + u_{i-1}^{k+1} \\right)}{\\Delta z^2} $$\n"
   ]
  },
  {
   "cell_type": "markdown",
   "id": "5f610a1d-1590-4153-9a90-c8bd066da8dd",
   "metadata": {},
   "source": [
    "SPlitting time k and k+1 : "
   ]
  },
  {
   "cell_type": "markdown",
   "id": "1cf18a92-778e-470f-91a5-d6975f265586",
   "metadata": {},
   "source": [
    "$$\\frac{\\partial^2 u}{\\partial x^2} \\approx \\frac{1}{2} \\left( \\frac{u_{i+1}^{k+1} -2 u_i^{k+1} + u_{i-1}^{k+1}}{\\Delta z^2} + \\frac{u_{i+1}^{k} -2 u_i^{k} + u_{i-1}^{k}}{\\Delta z^2}\\right)$$"
   ]
  },
  {
   "cell_type": "markdown",
   "id": "6c319165-016d-47ef-bb77-7fdee4a35431",
   "metadata": {},
   "source": [
    "So the global PDE becomes : "
   ]
  },
  {
   "cell_type": "markdown",
   "id": "dd1f66e8-5173-4790-be21-cef7ae129e16",
   "metadata": {},
   "source": [
    "$$ \\frac{u_i^{k+1} - u_i^k}{\\Delta t} - \\frac{\\alpha}{2} \\left( \\frac{u_{i+1}^{k+1} -2 u_i^{k+1} + u_{i-1}^{k+1}}{\\Delta z^2} + \\frac{u_{i+1}^{k} -2 u_i^{k} + u_{i-1}^{k}}{\\Delta z^2}\\right) = 0$$"
   ]
  },
  {
   "cell_type": "markdown",
   "id": "177abf16-7b8b-42c6-9e51-3b8f317ffc58",
   "metadata": {},
   "source": [
    "Like the implicit method, the Crank-Nicolson method requires solving a system of equations at each time step since the unknown un+1i is coupled with its neighboring unknowns un+1i−1 and un+1i+1. The same principle can be used to propagate the system as with the implicit method and the linear system solving using matrix."
   ]
  },
  {
   "cell_type": "code",
   "execution_count": null,
   "id": "2d6a1131-24db-4d5b-a7d4-deeb6cbb6e29",
   "metadata": {},
   "outputs": [],
   "source": []
  }
 ],
 "metadata": {
  "jupytext": {
   "text_representation": {
    "extension": ".py",
    "format_name": "percent",
    "format_version": "1.3",
    "jupytext_version": "1.13.4"
   }
  },
  "kernelspec": {
   "display_name": "Python 3 (ipykernel)",
   "language": "python",
   "name": "python3"
  },
  "language_info": {
   "codemirror_mode": {
    "name": "ipython",
    "version": 3
   },
   "file_extension": ".py",
   "mimetype": "text/x-python",
   "name": "python",
   "nbconvert_exporter": "python",
   "pygments_lexer": "ipython3",
   "version": "3.9.7"
  }
 },
 "nbformat": 4,
 "nbformat_minor": 5
}
