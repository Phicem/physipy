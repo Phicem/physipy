{
 "cells": [
  {
   "cell_type": "markdown",
   "id": "7a44d96d-a884-41c6-93c8-beb3b152f4f6",
   "metadata": {},
   "source": [
    "# Symbols of Quantity : a sympy symbol"
   ]
  },
  {
   "cell_type": "markdown",
   "id": "bea213fe-b050-4e39-842d-c94eee0a8840",
   "metadata": {},
   "source": [
    "## Specs \n",
    "Must support : \n",
    " - multiplication\n",
    " - division \n",
    " - conversion to str\n",
    " - creation from str\n",
    " - equality check"
   ]
  },
  {
   "cell_type": "code",
   "execution_count": 2,
   "id": "59e1cf7c-839b-42cc-983c-c49b931ef03d",
   "metadata": {},
   "outputs": [],
   "source": [
    "import sys\n",
    "sys.path.append(r\"/Users/mocquin/MYLIB10/MODULES/simparser/\")"
   ]
  },
  {
   "cell_type": "code",
   "execution_count": 3,
   "id": "ca68458a-beae-4a9e-9283-82ba90abc554",
   "metadata": {},
   "outputs": [],
   "source": [
    "import simparser"
   ]
  },
  {
   "cell_type": "code",
   "execution_count": null,
   "id": "8673b282-c70d-414e-b1dc-5345c9d1049e",
   "metadata": {},
   "outputs": [],
   "source": []
  }
 ],
 "metadata": {
  "jupytext": {
   "text_representation": {
    "extension": ".py",
    "format_name": "percent",
    "format_version": "1.3",
    "jupytext_version": "1.13.4"
   }
  },
  "kernelspec": {
   "display_name": "Python 3 (ipykernel)",
   "language": "python",
   "name": "python3"
  },
  "language_info": {
   "codemirror_mode": {
    "name": "ipython",
    "version": 3
   },
   "file_extension": ".py",
   "mimetype": "text/x-python",
   "name": "python",
   "nbconvert_exporter": "python",
   "pygments_lexer": "ipython3",
   "version": "3.9.7"
  }
 },
 "nbformat": 4,
 "nbformat_minor": 5
}
