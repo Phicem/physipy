{
 "cells": [
  {
   "cell_type": "code",
   "execution_count": 6,
   "metadata": {},
   "outputs": [],
   "source": [
    "from physipy import *\n",
    "from physipy.qwidgets.qipywidgets import QuantityText\n",
    "import traitlets"
   ]
  },
  {
   "cell_type": "code",
   "execution_count": null,
   "metadata": {},
   "outputs": [],
   "source": [
    "def widgetify(q):\n",
    "    w = QuantityText(q)\n",
    "    q.w = w\n",
    "    "
   ]
  },
  {
   "cell_type": "code",
   "execution_count": 24,
   "metadata": {},
   "outputs": [],
   "source": [
    "class QTrait(traitlets.TraitType):\n",
    "    info_text = 'a quantity'\n",
    "\n",
    "    def validate(self, obj, value):\n",
    "        if isinstance(value, Quantity):\n",
    "            return value\n",
    "        self.error(obj, value)"
   ]
  },
  {
   "cell_type": "code",
   "execution_count": 27,
   "metadata": {},
   "outputs": [],
   "source": []
  },
  {
   "cell_type": "code",
   "execution_count": null,
   "metadata": {},
   "outputs": [],
   "source": [
    "class Model(traitlets.HasTraits):\n",
    "    \n",
    "    \n",
    "    def __init__(self, \n",
    "                 R0_ac, R0_av, \n",
    "                 T0_ac, T0_av, \n",
    "                 Ea_ac, Ea_av, \n",
    "                T_ac, T_av):\n",
    "        self.R0_ac = R0_ac\n",
    "        self.R0_av = R0_av\n",
    "        self.T0_ac = T0_av\n",
    "        self.T0_av = T0_av\n",
    "        self.Ea_ac = Ea_ac\n",
    "        self.Ea_av = Ea_av\n",
    "        self.T_ac = T_ac\n",
    "        self.T_av = T_av\n",
    "    \n",
    "    \n",
    "        "
   ]
  },
  {
   "cell_type": "code",
   "execution_count": 107,
   "metadata": {},
   "outputs": [],
   "source": [
    "class QuantityWithWidget(Quantity):\n",
    "    def __init__(self, *args, **kwargs):\n",
    "        super().__init__(*args, **kwargs)\n",
    "        w = QuantityText(Quantity(self.value, self.dimension))\n",
    "        self.w = w"
   ]
  },
  {
   "cell_type": "code",
   "execution_count": 108,
   "metadata": {},
   "outputs": [
    {
     "data": {
      "text/latex": [
       "$0.6\\,dam$"
      ],
      "text/plain": [
       "<QuantityWithWidget : 6 m, symbol=UndefinedSymbol**2>"
      ]
     },
     "execution_count": 108,
     "metadata": {},
     "output_type": "execute_result"
    }
   ],
   "source": [
    "QuantityWithWidget(3, Dimension(\"m\"))*2"
   ]
  },
  {
   "cell_type": "code",
   "execution_count": 109,
   "metadata": {},
   "outputs": [],
   "source": [
    "def widgetify(q):\n",
    "    q = quantify(q)\n",
    "    return QuantityWithWidget(q.value, q.dimension)"
   ]
  },
  {
   "cell_type": "code",
   "execution_count": 110,
   "metadata": {},
   "outputs": [
    {
     "data": {
      "text/latex": [
       "$4.0\\,s$"
      ],
      "text/plain": [
       "<QuantityWithWidget : 4 s>"
      ]
     },
     "execution_count": 110,
     "metadata": {},
     "output_type": "execute_result"
    }
   ],
   "source": [
    "q = widgetify(4*s)\n",
    "q"
   ]
  },
  {
   "cell_type": "code",
   "execution_count": 111,
   "metadata": {},
   "outputs": [
    {
     "data": {
      "application/vnd.jupyter.widget-view+json": {
       "model_id": "fc4e721e5ddc4170a57cdc839cdd623c",
       "version_major": 2,
       "version_minor": 0
      },
      "text/plain": [
       "QuantityText(value=<Quantity : 4 s>, children=(Text(value='4 s', description='Quantity:', layout=Layout(border…"
      ]
     },
     "metadata": {},
     "output_type": "display_data"
    }
   ],
   "source": [
    "q.w"
   ]
  },
  {
   "cell_type": "code",
   "execution_count": 112,
   "metadata": {},
   "outputs": [
    {
     "data": {
      "text/latex": [
       "$4.0\\,s$"
      ],
      "text/plain": [
       "<QuantityWithWidget : 4 s>"
      ]
     },
     "execution_count": 112,
     "metadata": {},
     "output_type": "execute_result"
    }
   ],
   "source": [
    "q"
   ]
  },
  {
   "cell_type": "code",
   "execution_count": 84,
   "metadata": {},
   "outputs": [],
   "source": [
    "class TraitedQuantity(traitlets.HasTraits):\n",
    "    value = QTrait()\n",
    "    \n",
    "    def __init__(self, q):\n",
    "        self.widget = QuantityText(q)\n",
    "        self.qvalue = q\n",
    "        \n",
    "        traitlets.link(\n",
    "            (self.widget, \"value\"),\n",
    "            (self, \"qvalue\"),\n",
    "        )\n",
    "        \n",
    "        #def _update_q(change):\n",
    "        #    q = change.new\n",
    "        #    self.value = q\n",
    "        #self.widget.observe(_update_q, names=\"value\")\n",
    "        \n",
    "    #@traitlets.observe(\"value\")\n",
    "    #def _update_w(self, change):\n",
    "    #    q = change.new\n",
    "    #    self.widget.value = q\n",
    "    #self.value.observe(_update_w, names=\"value\")\n",
    "\n",
    "    def __repr__(self):\n",
    "        return repr(self.value)\n",
    "        \n",
    "Q = TraitedQuantity(3*m)"
   ]
  },
  {
   "cell_type": "code",
   "execution_count": 85,
   "metadata": {},
   "outputs": [
    {
     "data": {
      "application/vnd.jupyter.widget-view+json": {
       "model_id": "98c07cb01e76400db297517a08c13b08",
       "version_major": 2,
       "version_minor": 0
      },
      "text/plain": [
       "QuantityText(value=<Quantity : 3 m, symbol=UndefinedSymbol*m>, children=(Text(value='3 m', description='Quanti…"
      ]
     },
     "metadata": {},
     "output_type": "display_data"
    }
   ],
   "source": [
    "Q.widget"
   ]
  },
  {
   "cell_type": "code",
   "execution_count": 86,
   "metadata": {},
   "outputs": [
    {
     "data": {
      "text/latex": [
       "$3.0\\,m$"
      ],
      "text/plain": [
       "<Quantity : 3 m, symbol=UndefinedSymbol*m>"
      ]
     },
     "execution_count": 86,
     "metadata": {},
     "output_type": "execute_result"
    }
   ],
   "source": [
    "Q.value"
   ]
  },
  {
   "cell_type": "code",
   "execution_count": 87,
   "metadata": {},
   "outputs": [],
   "source": [
    "Q.value = 7*m # notice the widget update here"
   ]
  },
  {
   "cell_type": "code",
   "execution_count": 88,
   "metadata": {},
   "outputs": [
    {
     "data": {
      "text/latex": [
       "$0.7\\,dam$"
      ],
      "text/plain": [
       "<Quantity : 7 m, symbol=UndefinedSymbol*m>"
      ]
     },
     "execution_count": 88,
     "metadata": {},
     "output_type": "execute_result"
    }
   ],
   "source": [
    "Q.value"
   ]
  },
  {
   "cell_type": "code",
   "execution_count": null,
   "metadata": {},
   "outputs": [],
   "source": []
  },
  {
   "cell_type": "code",
   "execution_count": 106,
   "metadata": {},
   "outputs": [
    {
     "data": {
      "application/vnd.jupyter.widget-view+json": {
       "model_id": "5e4b2fb725304ab1a917075fe215c492",
       "version_major": 2,
       "version_minor": 0
      },
      "text/plain": [
       "QuantityText(value=<Quantity : 3 m>, children=(Text(value='3 m', description='Quantity:', layout=Layout(border…"
      ]
     },
     "metadata": {},
     "output_type": "display_data"
    }
   ],
   "source": [
    "Q.widget"
   ]
  },
  {
   "cell_type": "code",
   "execution_count": 104,
   "metadata": {},
   "outputs": [
    {
     "ename": "TypeError",
     "evalue": "unsupported operand type(s) for *: 'int' and 'TraitedQuantity'",
     "output_type": "error",
     "traceback": [
      "\u001b[0;31m---------------------------------------------------------------------------\u001b[0m",
      "\u001b[0;31mTypeError\u001b[0m                                 Traceback (most recent call last)",
      "\u001b[0;32m/var/folders/5k/bf4syt7x1zjbhc6b28srzzym0000gn/T/ipykernel_26741/3924217311.py\u001b[0m in \u001b[0;36m<module>\u001b[0;34m\u001b[0m\n\u001b[0;32m----> 1\u001b[0;31m \u001b[0mQ\u001b[0m\u001b[0;34m*\u001b[0m\u001b[0mm\u001b[0m\u001b[0;34m\u001b[0m\u001b[0;34m\u001b[0m\u001b[0m\n\u001b[0m",
      "\u001b[0;32m~/MYLIB10/MODULES/physipy/physipy/quantity/quantity.py\u001b[0m in \u001b[0;36m__mul__\u001b[0;34m(self, y)\u001b[0m\n\u001b[1;32m    173\u001b[0m     \u001b[0;32mdef\u001b[0m \u001b[0m__mul__\u001b[0m\u001b[0;34m(\u001b[0m\u001b[0mself\u001b[0m\u001b[0;34m,\u001b[0m\u001b[0my\u001b[0m\u001b[0;34m)\u001b[0m\u001b[0;34m:\u001b[0m\u001b[0;34m\u001b[0m\u001b[0;34m\u001b[0m\u001b[0m\n\u001b[1;32m    174\u001b[0m         \u001b[0my\u001b[0m \u001b[0;34m=\u001b[0m \u001b[0mquantify\u001b[0m\u001b[0;34m(\u001b[0m\u001b[0my\u001b[0m\u001b[0;34m)\u001b[0m\u001b[0;34m\u001b[0m\u001b[0;34m\u001b[0m\u001b[0m\n\u001b[0;32m--> 175\u001b[0;31m         return type(self)(self.value * y.value, \n\u001b[0m\u001b[1;32m    176\u001b[0m                         \u001b[0mself\u001b[0m\u001b[0;34m.\u001b[0m\u001b[0mdimension\u001b[0m \u001b[0;34m*\u001b[0m \u001b[0my\u001b[0m\u001b[0;34m.\u001b[0m\u001b[0mdimension\u001b[0m\u001b[0;34m,\u001b[0m\u001b[0;34m\u001b[0m\u001b[0;34m\u001b[0m\u001b[0m\n\u001b[1;32m    177\u001b[0m                         symbol = self.symbol * y.symbol).rm_dim_if_dimless() \n",
      "\u001b[0;31mTypeError\u001b[0m: unsupported operand type(s) for *: 'int' and 'TraitedQuantity'"
     ]
    }
   ],
   "source": []
  },
  {
   "cell_type": "code",
   "execution_count": null,
   "metadata": {},
   "outputs": [],
   "source": []
  },
  {
   "cell_type": "code",
   "execution_count": null,
   "metadata": {},
   "outputs": [],
   "source": []
  },
  {
   "cell_type": "code",
   "execution_count": 1,
   "metadata": {},
   "outputs": [],
   "source": [
    "import numpy as np\n",
    "from physipy import m"
   ]
  },
  {
   "cell_type": "code",
   "execution_count": 5,
   "metadata": {},
   "outputs": [
    {
     "data": {
      "text/latex": [
       "[[0. 1. 2. 3. 4.]\n",
       " [5. 6. 7. 8. 9.]]$\\,m$"
      ],
      "text/plain": [
       "<Quantity : [[0 1 2 3 4]\n",
       " [5 6 7 8 9]] m>"
      ]
     },
     "execution_count": 5,
     "metadata": {},
     "output_type": "execute_result"
    }
   ],
   "source": [
    "x = np.arange(10).reshape(2, 5)*m\n",
    "x"
   ]
  },
  {
   "cell_type": "code",
   "execution_count": 3,
   "metadata": {},
   "outputs": [
    {
     "data": {
      "text/latex": [
       "[[4. 3. 2. 1. 0.]\n",
       " [9. 8. 7. 6. 5.]]$\\,m$"
      ],
      "text/plain": [
       "<Quantity : [[4 3 2 1 0]\n",
       " [9 8 7 6 5]] m>"
      ]
     },
     "execution_count": 3,
     "metadata": {},
     "output_type": "execute_result"
    }
   ],
   "source": [
    "np.fliplr(x)"
   ]
  },
  {
   "cell_type": "code",
   "execution_count": null,
   "metadata": {},
   "outputs": [],
   "source": [
    "from radiopy.radiation import u_lum_spec_en\n",
    "import pandas as pd\n",
    "import numpy as np\n",
    "import matplotlib.pyplot as plt\n",
    "from physipy import *\n",
    "import physipy\n",
    "from physipy.quantity.utils import *\n",
    "from physipy.quantity.calculus import ndvectorize\n",
    "\n",
    "from physipy.qwidgets.qipywidgets import QuantityTextSlider\n",
    "\n",
    "\n",
    "mm = units[\"mm\"]\n",
    "mum = units[\"mum\"]\n",
    "\n",
    "\n",
    "setup_matplotlib()\n",
    "ln = np.log\n",
    "\n",
    "# Basic units\n",
    "J = units[\"J\"]\n",
    "W = units[\"W\"]\n",
    "nm = units[\"nm\"]\n",
    "mum = units[\"mum\"]\n",
    "Hz = units[\"Hz\"]\n",
    "\n",
    "# Basic constants\n",
    "c = scipy_constants[\"c\"]\n",
    "hp = scipy_constants[\"h\"]\n",
    "kB = scipy_constants[\"k\"]\n",
    "pi = np.pi\n",
    "\n",
    "\n",
    "# Custom unit\n",
    "ph = Quantity(1, Dimension(None), symbol=\"ph\")\n",
    "\n",
    "# Derived usefull units\n",
    "u_lum_en = W * m**-2 * sr**-1\n",
    "u_lum_ph = u_lum_en * ph * s**-1 * W**-1\n",
    "u_lum_spec_en = u_lum_en / m\n",
    "u_lum_spec_ph = u_lum_ph / m\n",
    "u_lum_freq_en = u_lum_en / Hz\n",
    "u_lum_freq_ph = u_lum_ph / Hz\n",
    "u_exi_en = u_lum_en * sr\n",
    "u_exi_ph = u_lum_ph * sr\n",
    "\n",
    "# Constants\n",
    "aperys_constant = 1.2020569031595942853997381615114499907649862923405\n",
    "a_2 = 1.59362426004\n",
    "a_3 = 2.82143937212\n",
    "a_4 = 3.9206903948\n",
    "a_5 = 4.965114231744276\n",
    "lambert_sol = a_5"
   ]
  },
  {
   "cell_type": "code",
   "execution_count": 1,
   "metadata": {},
   "outputs": [],
   "source": [
    "from radiopy.radiation import planck_spec_en, wien_displacement_spec_en, lum_max_spec_en, lum_spec_en_bande, planck_spec_en_"
   ]
  },
  {
   "cell_type": "markdown",
   "metadata": {},
   "source": [
    "# Interactive Ax"
   ]
  },
  {
   "cell_type": "code",
   "execution_count": 2,
   "metadata": {},
   "outputs": [],
   "source": [
    "%matplotlib ipympl"
   ]
  },
  {
   "cell_type": "code",
   "execution_count": 3,
   "metadata": {},
   "outputs": [],
   "source": [
    "import matplotlib.pyplot as plt\n",
    "import ipywidgets as ipyw\n",
    "from physipy.qwidgets.qipywidgets import *\n",
    "from physipy import setup_matplotlib\n",
    "setup_matplotlib()\n",
    "\n",
    "style = {'description_width': 'initial', \"width\":\"50%\"}\n",
    "\n",
    "class IAx(ipyw.HBox):\n",
    "    xmin = traitlets.Float(allow_none=False)\n",
    "    xmax = traitlets.Float(allow_none=False)\n",
    "    ymin = traitlets.Float(allow_none=False)\n",
    "    ymax = traitlets.Float(allow_none=False)\n",
    "    xmax_smin = traitlets.Float(allow_none=False)\n",
    "    xmax_smax = traitlets.Float(allow_none=False)\n",
    "    xmin_smin = traitlets.Float(allow_none=False)\n",
    "    xmin_smax = traitlets.Float(allow_none=False)\n",
    "    fig_size_x = traitlets.Float(allow_none=False)\n",
    "    fig_size_y = traitlets.Float(allow_none=False)\n",
    "    \n",
    "    \n",
    "    def __init__(self, figsize=(4,3), xfavunit=None, yfavunit=None):\n",
    "        \n",
    "        super().__init__()\n",
    "        \n",
    "        out_w = ipyw.Output()\n",
    "        with out_w:\n",
    "            fig, ax = plt.subplots(figsize=figsize)\n",
    "        self.fig = fig\n",
    "        self.fig_size_x = figsize[0]\n",
    "        self.fig_size_y = figsize[1]\n",
    "        self.ax = ax\n",
    "        \n",
    "        # create widgets\n",
    "        xmin, xmax = self.ax.get_xlim()\n",
    "        ymin, ymax = self.ax.get_ylim()\n",
    "        self.xmin = xmin\n",
    "        self.xmax = xmax\n",
    "        self.ymin = ymin\n",
    "        self.ymax = ymax\n",
    "        self.xmin_w = ipyw.FloatSlider(self.xmin, min=self.xmin, max=self.xmax, description=\"xmin\")\n",
    "        self.xmax_w = ipyw.FloatSlider(self.xmax, min=self.xmin, max=self.xmax, description=\"xmax\")\n",
    "        self.ymin_w = ipyw.FloatSlider(self.ymin, min=self.ymin, max=self.ymax, description=\"ymin\")\n",
    "        self.ymax_w = ipyw.FloatSlider(self.ymax, min=self.ymin, max=self.ymax, description=\"ymax\")\n",
    "        title_w = ipyw.Text(description=\"title\")\n",
    "        xlabel_w = ipyw.Text(description=\"xlabel\")\n",
    "        ylabel_w = ipyw.Text(description=\"ylabel\")\n",
    "        grid_enable_w = ipyw.Checkbox(value=False, description=\"Grid\")\n",
    "        log_y_w = ipyw.Checkbox(value=False, description=\"Log-y\")\n",
    "        log_x_w = ipyw.Checkbox(value=False, description=\"Log-x\")\n",
    "        grid_which_w = ipyw.Dropdown(description=\"which\", options=[\"both\", \"major\", \"minor\"])\n",
    "        grid_axis_w = ipyw.Dropdown(description=\"axis\", options=[\"both\", \"x\", \"y\"])\n",
    "        grid_w = ipyw.VBox([grid_enable_w, grid_which_w, grid_axis_w])\n",
    "        legend_w = ipyw.Button(description=\"Legend\")\n",
    "        self.lines_w = ipyw.Label()\n",
    "        self.list_of_lines = []\n",
    "        self.figsizex_w = ipyw.FloatText(value=self.fig_size_x, description=\"Figsize x\")\n",
    "        self.figsizey_w = ipyw.FloatText(value=self.fig_size_y, description=\"Figsize y\")\n",
    "        reset_limits_w = ipyw.Button(description=\"Reset limits\")\n",
    "        tight_layout_w = ipyw.Button(description=\"Tight layout\")\n",
    "        style_w = ipyw.Dropdown(description=\"Style\", options=plt.style.available)\n",
    "        xticksmajor_w = ipyw.Text(description=\"xticks major\", continuous_update=False)\n",
    "        xticksminor_w = ipyw.Text(description=\"xticks minor\", continuous_update=False)\n",
    "        yticksmajor_w = ipyw.Text(description=\"yticks major\", continuous_update=False)\n",
    "        yticksminor_w = ipyw.Text(description=\"yticks minor\", continuous_update=False)\n",
    "        \n",
    "        xticksmajorlabel_w = ipyw.Text(description=\"xticks labels major\", continuous_update=False)\n",
    "        xticksminorlabel_w = ipyw.Text(description=\"xticks labels minor\", continuous_update=False)\n",
    "        yticksmajorlabel_w = ipyw.Text(description=\"yticks labels major\", continuous_update=False)\n",
    "        yticksminorlabel_w = ipyw.Text(description=\"yticks labels minor\", continuous_update=False)\n",
    "        \n",
    "        xticksmajor_w.value = str(self.ax.get_xticks())\n",
    "        xticksminor_w.value = str(self.ax.get_xticks(minor=True))\n",
    "        yticksmajor_w.value = str(self.ax.get_yticks())\n",
    "        yticksminor_w.value = str(self.ax.get_yticks(minor=True))\n",
    "        xticksmajorlabel_w.value = str(self.ax.get_xticklabels())\n",
    "        xticksminorlabel_w.value = str(self.ax.get_xticklabels(minor=True))\n",
    "        yticksmajorlabel_w.value = str(self.ax.get_yticklabels())\n",
    "        yticksminorlabel_w.value = str(self.ax.get_yticklabels(minor=True))\n",
    "        \n",
    "        \n",
    "        background_color_w = ipyw.ColorPicker(\n",
    "        #concise=False,\n",
    "            description='ax.set_facecolor',\n",
    "            value='blue',\n",
    "            disabled=False,\n",
    "            style=style\n",
    "        )\n",
    "        \n",
    "        \n",
    "        \n",
    "        # link widgets\n",
    "        self.xmin_w.observe(self._update_xmin,                        \"value\")\n",
    "        self.xmax_w.observe(self._update_xmax,                        \"value\")\n",
    "        self.ymin_w.observe(self._update_ymin,                        \"value\")\n",
    "        self.ymax_w.observe(self._update_ymax,                        \"value\")\n",
    "        title_w.observe(self._update_title,                      \"value\")\n",
    "        xlabel_w.observe(self._update_xlabel,                    \"value\")\n",
    "        ylabel_w.observe(self._update_ylabel,                    \"value\")\n",
    "        grid_enable_w.observe(self._update_grid_enable,          \"value\")\n",
    "        grid_which_w.observe(self._update_grid_which,            \"value\")\n",
    "        grid_axis_w.observe(self._update_grid_axis,              \"value\")\n",
    "        legend_w.on_click(self._update_legend)\n",
    "        self.figsizex_w.observe(self._update_figsizex,           \"value\")\n",
    "        self.figsizey_w.observe(self._update_figsizey,           \"value\")\n",
    "        log_y_w.observe(self._update_logy_scale,                  \"value\")\n",
    "        log_x_w.observe(self._update_logx_scale,                  \"value\")\n",
    "        reset_limits_w.on_click(self._reset_limits)\n",
    "        tight_layout_w.on_click(self._tight_layout)\n",
    "        style_w.observe(self._update_style, \"value\")\n",
    "        background_color_w.observe(self._update_bgcolor, \"value\")\n",
    "        \n",
    "        xticksmajor_w.observe(self._update_xticks_major, \"value\")\n",
    "        xticksminor_w.observe(self._update_xticks_minor, \"value\")\n",
    "        yticksmajor_w.observe(self._update_yticks_major, \"value\")\n",
    "        yticksminor_w.observe(self._update_yticks_minor, \"value\")\n",
    "        \n",
    "        xticksmajorlabel_w.observe(self._update_xtickslabels_major, \"value\")\n",
    "        xticksminorlabel_w.observe(self._update_xtickslabels_minor, \"value\")\n",
    "        yticksmajorlabel_w.observe(self._update_ytickslabels_major, \"value\")\n",
    "        yticksminorlabel_w.observe(self._update_ytickslabels_minor, \"value\")\n",
    "        \n",
    "        xmin_link = traitlets.link((self.xmin_w, \"value\"), (self, \"xmin\"))\n",
    "        xmax_link = traitlets.link((self.xmax_w, \"value\"), (self, \"xmax\"))\n",
    "        ymin_link = traitlets.link((self.ymin_w, \"value\"), (self, \"ymin\"))\n",
    "        ymax_link = traitlets.link((self.ymax_w, \"value\"), (self, \"ymax\"))\n",
    "        xmin_xmax_min_link = traitlets.link((self.xmin_w, 'min'), (self.xmax_w, 'min'))\n",
    "        xmin_xmax_max_link = traitlets.link((self.xmin_w, 'max'), (self.xmax_w, 'max'))\n",
    "        ymin_ymax_min_link = traitlets.link((self.ymin_w, 'min'), (self.ymax_w, 'min'))\n",
    "        ymin_ymax_max_link = traitlets.link((self.ymin_w, 'max'), (self.ymax_w, 'max'))\n",
    "\n",
    "        xmin_smin = traitlets.link((self.xmin_w, \"min\"),   (self, \"xmin_smin\"))\n",
    "        xmin_smax = traitlets.link((self.xmin_w, \"max\"),   (self, \"xmin_smax\"))\n",
    "        xmax_smin = traitlets.link((self.xmax_w, \"min\"),   (self, \"xmax_smin\"))\n",
    "        xmax_smax = traitlets.link((self.xmax_w, \"max\"),   (self, \"xmax_smax\"))\n",
    "        \n",
    "        figx_link = traitlets.link((self, \"fig_size_x\"),   (self.figsizex_w, \"value\"))\n",
    "        figy_link = traitlets.link((self, \"fig_size_y\"),   (self.figsizey_w, \"value\"))\n",
    "        \n",
    "                                   \n",
    "        self.line_box = ipyw.HBox(self.list_of_lines)\n",
    "            \n",
    "        tab_titles = [\"Limits and scale\", \"Title and labels\", \"Grid and ticks\", \"Others\"]\n",
    "        \n",
    "        self.tabs = ipyw.Tab()\n",
    "        \n",
    "        \n",
    "        limits_and_scale_box = ipyw.VBox([\n",
    "                self.xmin_w,\n",
    "                self.xmax_w,\n",
    "                self.ymin_w,\n",
    "                self.ymax_w,\n",
    "                reset_limits_w,\n",
    "                log_y_w,\n",
    "                log_x_w,\n",
    "        ])\n",
    "        title_and_labels = ipyw.VBox([\n",
    "            title_w,\n",
    "            xlabel_w,\n",
    "            ylabel_w,\n",
    "        ])\n",
    "        grid_and_ticks_box = ipyw.VBox([\n",
    "            ipyw.HBox([\n",
    "                ipyw.VBox([\n",
    "                    xticksmajor_w,\n",
    "                    xticksminor_w,\n",
    "                    xticksmajorlabel_w,\n",
    "                    xticksminorlabel_w,\n",
    "                ]), \n",
    "                ipyw.VBox([\n",
    "                    yticksmajor_w,\n",
    "                    yticksminor_w,\n",
    "                    yticksmajorlabel_w,\n",
    "                    yticksminorlabel_w,\n",
    "                ]),\n",
    "            ]),\n",
    "            grid_w,\n",
    "        ])\n",
    "        others_box = ipyw.VBox([\n",
    "            self.lines_w,\n",
    "            legend_w,\n",
    "            tight_layout_w,\n",
    "            self.line_box,\n",
    "            self.figsizex_w,\n",
    "            self.figsizey_w,\n",
    "            style_w, \n",
    "            background_color_w,\n",
    "        ])\n",
    "        self.tabs.children = [\n",
    "            limits_and_scale_box,\n",
    "            title_and_labels,\n",
    "            grid_and_ticks_box,\n",
    "            others_box,\n",
    "        ]\n",
    "        for title, (index, _) in zip(tab_titles, enumerate(self.tabs.children)):\n",
    "            self.tabs.set_title(index, title)\n",
    " \n",
    "        self.children = [\n",
    "            out_w,\n",
    "            self.tabs\n",
    "        ]\n",
    "        \n",
    "    def _update_xtickslabels_minor(self, change):\n",
    "        try:\n",
    "            self.ax.set_xticklabels(eval(change.new), minor=True)\n",
    "        except:\n",
    "            self.ax.set_xticklabels(change.old, minor=True)\n",
    "            \n",
    "    def _update_xtickslabels_major(self, change):\n",
    "        try:\n",
    "            self.ax.set_xticklabels(eval(change.new))\n",
    "        except:\n",
    "            self.ax.set_xticklabels(change.old)\n",
    "        \n",
    "    def _update_ytickslabels_minor(self, change):\n",
    "        try:\n",
    "            self.ax.set_yticklabels(eval(change.new), minor=True)\n",
    "        except:\n",
    "            self.ax.set_yticklabels(change.old, minor=True)\n",
    "            \n",
    "    def _update_ytickslabels_major(self, change):\n",
    "        try:\n",
    "            self.ax.set_yticklabels(eval(change.new))\n",
    "        except:\n",
    "            self.ax.set_yticklabels(change.old)\n",
    "    \n",
    "    def _update_xticks_major(self, change):\n",
    "        try:\n",
    "            res = eval(change.new)\n",
    "            self.ax.set_xticks(res)\n",
    "        except:\n",
    "            self.ax.set_xticks(change.old)\n",
    "            \n",
    "    def _update_xticks_minor(self, change):\n",
    "        try:\n",
    "            res = eval(change.new)\n",
    "            self.ax.set_xticks(res, minor=True)\n",
    "        except:\n",
    "            self.ax.set_xticks(change.old, minor=True)     \n",
    "            \n",
    "    def _update_yticks_major(self, change):\n",
    "        try:\n",
    "            res = eval(change.new)\n",
    "            self.ax.set_yticks(res)\n",
    "        except:\n",
    "            self.ax.set_yticks(change.old)\n",
    "            \n",
    "    def _update_yticks_minor(self, change):\n",
    "        try:\n",
    "            res = eval(change.new)\n",
    "            self.ax.set_yticks(res, minor=True)\n",
    "        except:\n",
    "            self.ax.set_yticks(change.old, minor=True)     \n",
    "        \n",
    "    def _update_style(self, change):\n",
    "        \"\"\"This doesn't work because styles must be declared before figure creation\"\"\"\n",
    "        plt.style.use(change[\"new\"])\n",
    "\n",
    "    def _update_bgcolor(self, change):\n",
    "        self.ax.set_facecolor(change['new'])\n",
    "        \n",
    "    def _reset_limits(self, change):\n",
    "        # recompute the ax.dataLim\n",
    "        self.ax.relim()\n",
    "        # update ax.viewLim using the new dataLim\n",
    "        self.ax.autoscale()\n",
    "        self.ax.autoscale_view()\n",
    "        \n",
    "        xmin, xmax = self.ax.get_xlim()\n",
    "        ymin, ymax = self.ax.get_ylim()\n",
    "        # update xmin/xmax for ax :\n",
    "        self.xmin = xmin\n",
    "        self.ymin = ymin\n",
    "        self.xmax = xmax\n",
    "        self.ymax = ymax\n",
    "        \n",
    "    def _tight_layout(self, change):\n",
    "        self.fig.tight_layout()\n",
    "        \n",
    "    def _update_xmin(self, change):\n",
    "        #_, self.xmax = self.ax.get_xlim()\n",
    "        self.xmin = change[\"new\"]\n",
    "        self.ax.set(xlim=(self.xmin, self.xmax))\n",
    "    \n",
    "    def _update_xmax(self, change):\n",
    "        #self.xmin, _ = self.ax.get_xlim()\n",
    "        self.xmax = change[\"new\"]\n",
    "        self.ax.set(xlim=(self.xmin, self.xmax))\n",
    "    \n",
    "    def _update_ymin(self, change):\n",
    "        #ymin, _ = self.ax.get_ylim()\n",
    "        self.ymin = change[\"new\"]\n",
    "        self.ax.set(ylim=(self.ymin, self.ymax))\n",
    "    \n",
    "    def _update_ymax(self, change):\n",
    "        #xmin, xmax = self.ax.get_ylim()        \n",
    "        self.ymax = change[\"new\"]\n",
    "        self.ax.set(ylim=(self.ymin, self.ymax))\n",
    "    \n",
    "    def _update_title(self, change):\n",
    "        self.ax.set(title=change[\"new\"])\n",
    "    \n",
    "    def _update_xlabel(self, change):\n",
    "        self.ax.set(xlabel=change[\"new\"])\n",
    "    \n",
    "    def _update_ylabel(self, change):\n",
    "        self.ax.set(ylabel=change[\"new\"])\n",
    "    \n",
    "    def _update_grid_enable(self, change):\n",
    "        self.ax.grid(b=change[\"new\"])\n",
    "\n",
    "    def _update_grid_which(self, change):\n",
    "        self.ax.grid(which=change[\"new\"])\n",
    "\n",
    "    def _update_grid_axis(self, change):\n",
    "        self.ax.grid(axis=change[\"new\"])\n",
    "        \n",
    "    def _update_legend(self, b):\n",
    "        \"\"\"Not working after line was removed\"\"\"\n",
    "        handles, labels = self.ax.get_legend_handles_labels()\n",
    "        if len(handles)>0:\n",
    "            try:\n",
    "                self.ax.legend()\n",
    "            except:\n",
    "                self.ax.get_legend().remove()\n",
    "            \n",
    "    def _update_figsizex(self, change):\n",
    "        x = change['new']\n",
    "        self.fig.canvas.layout.height = 'auto'\n",
    "        self.fig.canvas.layout.width = 'auto'\n",
    "        self.fig_size_x = x\n",
    "        self.fig.set_size_inches(self.fig_size_x,\n",
    "                                 self.fig_size_y,\n",
    "                                forward=True)\n",
    "        \n",
    "    def _update_figsizey(self, change):\n",
    "        y = change[\"new\"]\n",
    "        self.fig.canvas.layout.height = 'auto'\n",
    "        self.fig.canvas.layout.width = 'auto'\n",
    "\n",
    "        self.fig_size_y = y\n",
    "        self.fig.set_size_inches(self.fig_size_x,\n",
    "                                 self.fig_size_y,\n",
    "                                forward=True)\n",
    "        \n",
    "    def _update_logy_scale(self, change):\n",
    "        logy_true = change[\"new\"]\n",
    "        if logy_true:\n",
    "            self.ymin = 0.001\n",
    "            self.ax.set_yscale(\"log\")\n",
    "        else:\n",
    "            self.ax.set_yscale(\"linear\")\n",
    "            \n",
    "    def _update_logx_scale(self, change):\n",
    "        logx_true = change[\"new\"]\n",
    "        if logx_true:\n",
    "            self.xmin = 0.1\n",
    "            self.ax.set_xscale(\"log\")\n",
    "        else:\n",
    "            self.ax.set_xscale(\"linear\")\n",
    "    \n",
    "    def add_integral(self, func, xmin, xmax): \n",
    "        from physipy import quad\n",
    "\n",
    "        integ, prec = quad(func, xmin, xmax)\n",
    "\n",
    "        \n",
    "        from matplotlib.patches import Polygon\n",
    "        def compute_integral_polygon(xmin, xmax, func, ax=self.ax, **kwargs):\n",
    "            xmin = quantify(xmin)\n",
    "            xmax = quantify(xmax)\n",
    "            if ax is None:\n",
    "                ax = plt.gca()\n",
    "            ix = np.linspace(xmin, xmax)\n",
    "            #iy = func(ix, **kwargs)\n",
    "            try:\n",
    "                iy = func(ix, **kwargs)\n",
    "            except: \n",
    "                iy = physipy.quantity.utils.asqarray([func(x, **kwargs) for x in ix])\n",
    "        \n",
    "            verts = [(xmin/mum, 0),\n",
    "                     *zip((ix/mum), iy.value), \n",
    "                     (xmax/mum, 0)]\n",
    "            poly = Polygon(verts, facecolor='0.9', edgecolor='0.5', alpha=0.5)\n",
    "            ax.text(0.5 * (xmin/mum + xmax/mum), np.max(iy.value/5), r\"$\\int_a^b f(x)\\mathrm{d}x$=\"+f\"{integ:.2f}\",\n",
    "                    horizontalalignment='center', fontsize=12)\n",
    "            res = ax.add_patch(poly)\n",
    "            return res\n",
    "        compute_integral_polygon(xmin, xmax, func)\n",
    "        \n",
    "        \n",
    "        \n",
    "        \n",
    "\n",
    "    def add_line(self, func, xmin, xmax, xfavunit=None, yfavunit=None, label=\"\"):\n",
    "        \n",
    "        ech_x = np.linspace(xmin, xmax)\n",
    "        \n",
    "        \n",
    "        xmin = quantify(xmin)\n",
    "        xmax = quantify(xmax)\n",
    "\n",
    "        \n",
    "        \n",
    "        # TODO : update x-sliders\n",
    "        # store a list of xmins and xmaxs\n",
    "        # store a list of lines\n",
    "        # if no xmin/xmax, use the current min/max\n",
    "        \n",
    "        # remove lines : ax.ax.lines[0].remove()\n",
    "        # update legend when removing\n",
    "        # use self.favunit\n",
    "        \n",
    "        \n",
    "        if hasattr(func, \"name\"):\n",
    "            label = func.name\n",
    "        # compute ys\n",
    "        try:\n",
    "            ech_y = func(ech_x)\n",
    "        except: \n",
    "            ech_y = physipy.quantity.utils.asqarray([func(x) for x in ech_x])\n",
    "            \n",
    "        # plot\n",
    "        if xfavunit is None:\n",
    "            if yfavunit is None:\n",
    "                lines = self.ax.plot(ech_x, ech_y, label=label)\n",
    "        else:\n",
    "            ech_x.favunit = xfavunit\n",
    "            ech_y.favunit = yfavunit\n",
    "            lines = self.ax.plot(ech_x, ech_y, label=label)\n",
    "\n",
    "        \n",
    "            \n",
    "        self.ax.relim()\n",
    "        self.ax.autoscale()\n",
    "        \n",
    "        xmin, xmax = self.ax.get_xlim()\n",
    "        ymin, ymax = self.ax.get_ylim()\n",
    "        # update xmin/xmax for ax :\n",
    "        if xmin < self.xmin_w.min:\n",
    "            self.xmin_w.min = xmin\n",
    "            self.xmin = xmin\n",
    "        if ymin < self.ymin_w.min:\n",
    "            self.ymin_w.min = ymin\n",
    "            self.ymin = ymin\n",
    "        if xmax > self.xmax_w.max:\n",
    "            self.xmax_w.max = xmax\n",
    "            self.xmax = xmax\n",
    "        if ymax > self.ymax_w.max:\n",
    "            self.ymax_w.max = ymax\n",
    "            self.ymax = ymax\n",
    "        \n",
    "        #self.xmin = xmin\n",
    "        #self.xmax = xmax\n",
    "         \n",
    "            \n",
    "            \n",
    "        self.list_of_lines.append(label)\n",
    "        self.lines_w.value = str(self.list_of_lines)\n",
    "        \n",
    "    def add_iline(self, func, xmin, xmax, params, label=\"\"):\n",
    "        # create widgets to controls additional args\n",
    "        \n",
    "        pass\n",
    "    \n",
    "    def show_abaq(self, func, xmin, xmax, p_list):\n",
    "        ech_x = np.linspace(xmin, xmax)\n",
    "        xmin = quantify(xmin)\n",
    "        xmax = quantify(xmax)\n",
    "        rotmode = \"anchor\"\n",
    "        ha = va = \"center\"\n",
    "        for p in p_list:\n",
    "            # compute ys\n",
    "            try:\n",
    "                ech_y = func(ech_x, p)\n",
    "            except: \n",
    "                ech_y = physipy.quantity.utils.asqarray([func(x, p) for x in ech_x])\n",
    "            lines = self.ax.plot(ech_x, ech_y, \"--\", color=\"gray\", alpha=0.5)#, label=label)\n",
    "            x_text = np.mean(ech_x)\n",
    "            idx = (np.abs(ech_x - x_text)).argmin()\n",
    "            delta = 1\n",
    "            dy = func(ech_x[idx+delta], p)-func(ech_x[idx-delta], p)\n",
    "            dx = ech_x[idx+delta] - ech_x[idx-delta]\n",
    "            angle_rad = np.arctan((dy/dx).value/1e7/1e6)\n",
    "            #self.ax.plot(physipy.quantity.utils.asqarray([ech_x[idx+delta], ech_x[idx-delta]]), \n",
    "            #             physipy.quantity.utils.asqarray([func(ech_x[idx+delta], p), func(ech_x[idx-delta], p)]),\n",
    "            #              \"o\")\n",
    "            #self.ax.plot(x_text, func(x_text, p), \"o\")\n",
    "            #self.ax.plot()\n",
    "            txt = self.ax.text(x_text, func(x_text, p), f\"{p:.2f}\", \n",
    "                               size=5, color=\"gray\",\n",
    "                               alpha=0.8,\n",
    "                               rotation=angle_rad*180/np.pi,#np.arctan(pente*180/np.pi), \n",
    "                               horizontalalignment=ha,\n",
    "                               verticalalignment=\"bottom\", \n",
    "                               rotation_mode=rotmode)\n",
    "\n",
    "        \n",
    "\n",
    "                \n",
    "    \n",
    "            \n",
    "    def remove_line(self, n, label=None):\n",
    "        self.ax.lines[n].remove()\n",
    "        self.list_of_lines.pop(n)\n",
    "        self.lines_w.value = str(self.list_of_lines)\n",
    "        self.ax.legend()\n",
    "        \n",
    "#class InteractiveLine():\n",
    "    \n",
    "#    def __init__(self, func, )"
   ]
  },
  {
   "cell_type": "code",
   "execution_count": 4,
   "metadata": {},
   "outputs": [
    {
     "data": {
      "application/vnd.jupyter.widget-view+json": {
       "model_id": "2d52daba841e42daa953872f636b1d9b",
       "version_major": 2,
       "version_minor": 0
      },
      "text/plain": [
       "IAx(children=(Output(), Tab(children=(VBox(children=(FloatSlider(value=0.0, description='xmin', max=1.0), Floa…"
      ]
     },
     "metadata": {},
     "output_type": "display_data"
    }
   ],
   "source": [
    "ax = IAx()\n",
    "ax\n",
    "\n",
    "\n",
    "display(ax)\n",
    "# avoir une liste de bande spectrale pour comparaison\n",
    "# bouton pour update legend\n",
    "# dropdown pour xfavunit et yvafunit\n",
    "# ajouter un widget avec un bouton par ligne pour retirer la ligne / monter/descendre la ligne"
   ]
  },
  {
   "cell_type": "code",
   "execution_count": 6,
   "metadata": {},
   "outputs": [
    {
     "data": {
      "text/plain": [
       "[]"
      ]
     },
     "execution_count": 6,
     "metadata": {},
     "output_type": "execute_result"
    }
   ],
   "source": [
    "ax.ax.get_xticks(minor=True)"
   ]
  },
  {
   "cell_type": "code",
   "execution_count": 7,
   "metadata": {
    "lines_to_next_cell": 2
   },
   "outputs": [],
   "source": [
    "ax.add_line(lambda l: planck_spec_en(l, 250*K), 2*mum, 20*mum, xfavunit=mum, yfavunit=u_lum_spec_en, label=\"planck(250K)\")"
   ]
  },
  {
   "cell_type": "code",
   "execution_count": 8,
   "metadata": {},
   "outputs": [],
   "source": [
    "ax.add_integral(lambda l:planck_spec_en(l, 250*K), 2*mum, 15*mum)"
   ]
  },
  {
   "cell_type": "code",
   "execution_count": 9,
   "metadata": {},
   "outputs": [],
   "source": [
    "ax.show_abaq(lambda l, T:planck_spec_en(l, T), 2*mum, 20*mum, [T_K*K for T_K in np.linspace(250, 350, 11)])"
   ]
  },
  {
   "cell_type": "code",
   "execution_count": 10,
   "metadata": {
    "lines_to_next_cell": 2
   },
   "outputs": [],
   "source": [
    "ax.add_line(lambda l: planck_spec_en(l, 350*K), 2*mum, 20*mum, xfavunit=mum, label=\"planck(350)\")"
   ]
  },
  {
   "cell_type": "code",
   "execution_count": null,
   "metadata": {},
   "outputs": [],
   "source": []
  },
  {
   "cell_type": "markdown",
   "metadata": {},
   "source": [
    "https://stackoverflow.com/questions/19353576/curved-text-rendering-in-matplotlib\n",
    "\n",
    "https://stackoverflow.com/questions/44143395/align-arbitrarily-rotated-text-annotations-relative-to-the-text-not-the-boundin/44143396#44143396"
   ]
  },
  {
   "cell_type": "code",
   "execution_count": null,
   "metadata": {},
   "outputs": [],
   "source": []
  },
  {
   "cell_type": "code",
   "execution_count": null,
   "metadata": {},
   "outputs": [],
   "source": []
  },
  {
   "cell_type": "code",
   "execution_count": 11,
   "metadata": {},
   "outputs": [],
   "source": [
    "ax.ax.set_yscale('log')"
   ]
  },
  {
   "cell_type": "code",
   "execution_count": 12,
   "metadata": {},
   "outputs": [
    {
     "name": "stdout",
     "output_type": "stream",
     "text": [
      "['planck(250K)', 'planck(350)']\n"
     ]
    }
   ],
   "source": [
    "print(ax.list_of_lines)"
   ]
  },
  {
   "cell_type": "code",
   "execution_count": 13,
   "metadata": {},
   "outputs": [],
   "source": [
    "ax.remove_line(0)"
   ]
  },
  {
   "cell_type": "code",
   "execution_count": null,
   "metadata": {},
   "outputs": [],
   "source": []
  },
  {
   "cell_type": "code",
   "execution_count": null,
   "metadata": {},
   "outputs": [],
   "source": []
  },
  {
   "cell_type": "code",
   "execution_count": null,
   "metadata": {},
   "outputs": [],
   "source": []
  },
  {
   "cell_type": "code",
   "execution_count": 14,
   "metadata": {},
   "outputs": [],
   "source": [
    "class FunctionUI(ipyw.VBox):\n",
    "    \n",
    "    def __init__(self, func):\n",
    "        \n",
    "        self.func = func\n",
    "        self.list_of_controls = []\n",
    "        \n",
    "    "
   ]
  },
  {
   "cell_type": "code",
   "execution_count": null,
   "metadata": {},
   "outputs": [],
   "source": []
  },
  {
   "cell_type": "code",
   "execution_count": null,
   "metadata": {},
   "outputs": [],
   "source": []
  },
  {
   "cell_type": "code",
   "execution_count": null,
   "metadata": {},
   "outputs": [],
   "source": []
  },
  {
   "cell_type": "code",
   "execution_count": 15,
   "metadata": {},
   "outputs": [],
   "source": [
    "# integral computation\n",
    "#from matplotlib.patches import Polygon\n",
    "#ix = np.linspace(lmbda_min_int, lmbda_max_int)\n",
    "#iy = planck_spec_en_(ix, T)\n",
    "#verts = [(lmbda_min_int.value*1e6, 0), *zip(ix.value*1e6, iy.value), (lmbda_max_int.value*1e6, 0)]\n",
    "#poly = Polygon(verts, facecolor='0.9', edgecolor='0.5')\n",
    "#ax.add_patch(poly)\n",
    "\n",
    "from matplotlib.patches import Polygon\n",
    "def compute_integral_polygon(xmin, xmax, func, ax=None, **kwargs):\n",
    "    xmin = quantify(xmin)\n",
    "    xmax = quantify(xmax)\n",
    "    if ax is None:\n",
    "        ax = plt.gca()\n",
    "    ix = np.linspace(xmin, xmax)\n",
    "    iy = func(ix, **kwargs)\n",
    "    verts = [(xmin, 0*xmin), *zip(ix, iy), (xmax, 0*xmax)]\n",
    "    poly = Polygon(verts, facecolor='0.9', edgecolor='0.5')\n",
    "    res = ax.add_patch(poly)\n",
    "    return res\n",
    "    \n"
   ]
  },
  {
   "cell_type": "code",
   "execution_count": null,
   "metadata": {},
   "outputs": [],
   "source": []
  },
  {
   "cell_type": "code",
   "execution_count": null,
   "metadata": {},
   "outputs": [],
   "source": []
  },
  {
   "cell_type": "markdown",
   "metadata": {},
   "source": [
    "### use ndvectorize and lambda function\n",
    " - dirty\n",
    " - lose favunit"
   ]
  },
  {
   "cell_type": "code",
   "execution_count": 3,
   "metadata": {},
   "outputs": [],
   "source": [
    "%matplotlib ipympl"
   ]
  },
  {
   "cell_type": "code",
   "execution_count": 17,
   "metadata": {},
   "outputs": [
    {
     "name": "stderr",
     "output_type": "stream",
     "text": [
      "/Users/mocquin/MYLIB10/MODULES/physipy/physipy/quantity/quantity.py:680: UserWarning: The unit of the quantity is stripped.\n",
      "  warnings.warn(\"The unit of the quantity is stripped.\")\n"
     ]
    }
   ],
   "source": [
    "import ipywidgets as ipyw\n",
    "T = 300*K\n",
    "T_min = 250*K\n",
    "T_max = 350*K\n",
    "\n",
    "planck = ndvectorize(lambda lmbda: planck_spec_en(lmbda, T))\n",
    "\n",
    "ech_x_lmbda = np.linspace(0.2, 15, 100) * mum\n",
    "ech_x_lmbda.favunit = mum\n",
    "ech_y = planck(ech_x_lmbda)\n",
    "\n",
    "ech_T = np.linspace(T_min, T_max, 100)\n",
    "wien_lmbda = ndvectorize(lambda T:wien_displacement_spec_en(T))(ech_T)\n",
    "\n",
    "\n",
    "lmbda_min_int = 4*mum\n",
    "lmbda_max_int = 6*mum\n",
    "int_init = lum_spec_en_bande(lmbda_min_int, lmbda_max_int, T)\n",
    "\n"
   ]
  },
  {
   "cell_type": "code",
   "execution_count": 18,
   "metadata": {},
   "outputs": [],
   "source": [
    "lum_max = ndvectorize(lambda T:lum_max_spec_en(T))(ech_T)"
   ]
  },
  {
   "cell_type": "code",
   "execution_count": 19,
   "metadata": {},
   "outputs": [],
   "source": [
    "out_w = ipyw.Output()\n",
    "\n",
    "with out_w:    \n",
    "    fig, ax = plt.subplots()\n",
    "    ax.plot(ech_x_lmbda, ech_y, label=\"$\"+planck_spec_en.latex+\"$\")\n",
    "    ax.plot(wien_lmbda, lum_max, label=\"lum max\")\n",
    "    \n",
    "    # Make the shaded region\n",
    "    from matplotlib.patches import Polygon\n",
    "    ix = np.linspace(lmbda_min_int, lmbda_max_int)\n",
    "    iy = planck_spec_en_(ix, T)\n",
    "    verts = [(lmbda_min_int.value*1e6, 0), *zip(ix.value*1e6, iy.value), (lmbda_max_int.value*1e6, 0)]\n",
    "    poly = Polygon(verts, facecolor='0.9', edgecolor='0.5')\n",
    "    ax.add_patch(poly)\n",
    "    print(poly)\n",
    "    plt.legend()\n",
    "\n",
    "    \n",
    "xmin, xmax = ax.get_xlim()\n",
    "ymin, ymax = ax.get_ylim()\n",
    "\n",
    "xechmin = min(ech_x_lmbda).value*1e6\n",
    "xechmax = max(ech_x_lmbda).value*1e6\n",
    "\n",
    "xechmin_w = ipyw.FloatSlider(xechmin, min=xechmin, max=xechmax, description=\"xechmin\")\n",
    "xechmax_w = ipyw.FloatSlider(xechmax, min=xechmin, max=xechmax, description=\"xechmax\")\n",
    "\n",
    "xmin_w = ipyw.FloatSlider(xmin, min=xmin, max=xmax, description=\"xmin\")\n",
    "xmax_w = ipyw.FloatSlider(xmax, min=xmin, max=xmax, description=\"xmax\")\n",
    "ymin_w = ipyw.FloatSlider(ymin, min=ymin, max=ymax, description=\"ymin\")\n",
    "ymax_w = ipyw.FloatSlider(ymax, min=ymin, max=ymax, description=\"ymax\")\n",
    "title_w = ipyw.Text(description=\"title\")\n",
    "xlabel_w = ipyw.Text(description=\"xlabel\")\n",
    "ylabel_w = ipyw.Text(description=\"ylabel\")\n",
    "line_legend_w = ipyw.Text(description=\"line legend\")\n",
    "temp_w = ipyw.FloatSlider(300, min=T_min.value, max=T_max.value, description=\"Temperature(K)\")\n",
    "nech_w = ipyw.IntSlider(min=10, max=500, description=\"n\")\n",
    "\n",
    "#with out_w:\n",
    "#    fig, ax = plt.subplots(figsize=(6, 4))\n",
    "#    lines = ax.plot(ech_x_lmbda, ech_y, \"o\")\n",
    "#    ax.set(\n",
    "#        ylabel='Temperature (deg C)',\n",
    "#        xlabel='$\\lambda$',\n",
    "#        title='Planck',\n",
    "#    )\n",
    "\n",
    "box = ipyw.VBox([\n",
    "    xmin_w,\n",
    "    xmax_w,\n",
    "    ymin_w,\n",
    "    ymax_w,\n",
    "    title_w,\n",
    "    xlabel_w,\n",
    "    ylabel_w,\n",
    "    line_legend_w,\n",
    "    temp_w,\n",
    "    xechmin_w,\n",
    "    xechmax_w,\n",
    "    nech_w,\n",
    "])\n",
    "\n",
    "\n",
    "def update_xmin(change):\n",
    "    xmin, xmax = ax.get_xlim()\n",
    "    ax.set(xlim=(change[\"new\"], xmax))\n",
    "\n",
    "\n",
    "def update_xmax(change):\n",
    "    xmin, xmax = ax.get_xlim()\n",
    "    ax.set(xlim=(xmin, change[\"new\"]))\n",
    "\n",
    "\n",
    "def update_ymin(change):\n",
    "    ymin, ymax = ax.get_ylim()\n",
    "    ax.set(ylim=(change[\"new\"], ymax))\n",
    "\n",
    "\n",
    "def update_ymax(change):\n",
    "    xmin, xmax = ax.get_ylim()\n",
    "    ax.set(ylim=(ymin, change[\"new\"]))\n",
    "\n",
    "\n",
    "def update_title(change):\n",
    "    ax.set(title=change[\"new\"])\n",
    "\n",
    "\n",
    "def update_xlabel(change):\n",
    "    ax.set(xlabel=change[\"new\"])\n",
    "\n",
    "\n",
    "def update_ylabel(change):\n",
    "    ax.set(ylabel=change[\"new\"])\n",
    "\n",
    "\n",
    "def update_legend(change):\n",
    "    if change[\"new\"] == \"\":\n",
    "        ax.get_legend().remove()\n",
    "    else:\n",
    "        ax.legend([change[\"new\"]])\n",
    "\n",
    "\n",
    "def update_temp(change):\n",
    "    func = ndvectorize(lambda lmbda: planck_spec_en(lmbda, change[\"new\"]*K))\n",
    "    ech_y = func(ech_x_lmbda)\n",
    "    ech_y.favunit = u_lum_spec_en\n",
    "    ax.lines[0].set_data(ech_x_lmbda, ech_y)\n",
    "    res = compute_integral_polygon( ech_x_lmbda.min(), ech_x_lmbda.max(), func, ax=ax)\n",
    "    ax.patches[0].set_xy(res)\n",
    "    ax.relim()\n",
    "    ax.autoscale_view()\n",
    "\n",
    "\n",
    "def update_echxmin(change):\n",
    "    temp = temp_w.value\n",
    "    xmaxech = xechmax_w.value\n",
    "    nech = nech_w.value\n",
    "    func = ndvectorize(lambda lmbda: planck_spec_en(lmbda, temp*K))\n",
    "    ech_x_lmbda = np.linspace(change[\"new\"], xmaxech, nech)*mum\n",
    "    ech_y = func(ech_x_lmbda)\n",
    "    ax.lines[0].set_data(ech_x_lmbda, ech_y)\n",
    "    ax.relim()\n",
    "    ax.autoscale_view()\n",
    "\n",
    "    \n",
    "def update_echxmax(change):\n",
    "    temp = temp_w.value\n",
    "    xminech = xechmin_w.value\n",
    "    nech = nech_w.value\n",
    "    func = ndvectorize(lambda lmbda: planck_spec_en(lmbda, temp*K))\n",
    "    ech_x_lmbda = np.linspace(xminech, change[\"new\"], nech)*mum\n",
    "    ech_y = func(ech_x_lmbda)\n",
    "    ax.lines[0].set_data(ech_x_lmbda, ech_y)\n",
    "    ax.relim()\n",
    "    ax.autoscale_view()\n",
    "\n",
    "    \n",
    "def update_nech(change):\n",
    "    temp = temp_w.value\n",
    "    xminech = xechmin_w.value\n",
    "    xmaxech = xechmax_w.value\n",
    "    nech = nech_w.value\n",
    "    func = ndvectorize(lambda lmbda: planck_spec_en(lmbda, temp*K))\n",
    "    ech_x_lmbda = np.linspace(xminech, xmaxech, change[\"new\"])*mum\n",
    "    ech_y = func(ech_x_lmbda)\n",
    "    ax.lines[0].set_data(ech_x_lmbda, ech_y)\n",
    "    ax.relim()\n",
    "    ax.autoscale_view()"
   ]
  },
  {
   "cell_type": "code",
   "execution_count": 20,
   "metadata": {},
   "outputs": [
    {
     "name": "stdout",
     "output_type": "stream",
     "text": [
      "[250. 260. 270. 280. 290. 300. 310. 320. 330. 340. 350.] K\n"
     ]
    }
   ],
   "source": [
    "temps = np.linspace(250, 350, 11)*K\n",
    "print(temps)\n",
    "x_temps = [wien_displacement_spec_en(T) for T in temps]\n",
    "y_temps = [lum_max_spec_en(T) for T in temps]"
   ]
  },
  {
   "cell_type": "code",
   "execution_count": 21,
   "metadata": {
    "lines_to_next_cell": 2
   },
   "outputs": [],
   "source": [
    "with out_w:\n",
    "    ax.grid(True, which=\"both\", axis=\"both\")\n",
    "    for i, txt in enumerate(temps):\n",
    "        ax.annotate(txt, (x_temps[i], y_temps[i]))"
   ]
  },
  {
   "cell_type": "markdown",
   "metadata": {},
   "source": [
    "    \n",
    "xmin_w.observe(update_xmin,          \"value\")\n",
    "xmax_w.observe(update_xmax,          \"value\")\n",
    "ymin_w.observe(update_ymin,          \"value\")\n",
    "ymax_w.observe(update_ymax,          \"value\")\n",
    "title_w.observe(update_title,        \"value\")\n",
    "xlabel_w.observe(update_xlabel,      \"value\")\n",
    "ylabel_w.observe(update_ylabel,      \"value\")\n",
    "line_legend_w.observe(update_legend, \"value\")\n",
    "temp_w.observe(update_temp,          \"value\")\n",
    "xechmin_w.observe(update_echxmin,    \"value\")\n",
    "xechmax_w.observe(update_echxmax,    \"value\")\n",
    "nech_w.observe(update_nech,          \"value\")\n",
    "\n",
    "\n",
    "display(ipyw.HBox([out_w, box]))"
   ]
  },
  {
   "cell_type": "code",
   "execution_count": null,
   "metadata": {},
   "outputs": [],
   "source": []
  },
  {
   "cell_type": "code",
   "execution_count": 22,
   "metadata": {},
   "outputs": [
    {
     "data": {
      "application/vnd.jupyter.widget-view+json": {
       "model_id": "fc0ddf1d73564000ace0d0bb155076aa",
       "version_major": 2,
       "version_minor": 0
      },
      "text/plain": [
       "Canvas(toolbar=Toolbar(toolitems=[('Home', 'Reset original view', 'home', 'home'), ('Back', 'Back to previous …"
      ]
     },
     "metadata": {},
     "output_type": "display_data"
    }
   ],
   "source": [
    "fig, ax  = plt.subplots()"
   ]
  },
  {
   "cell_type": "code",
   "execution_count": 23,
   "metadata": {},
   "outputs": [],
   "source": [
    "%matplotlib ipympl"
   ]
  },
  {
   "cell_type": "code",
   "execution_count": null,
   "metadata": {},
   "outputs": [],
   "source": [
    "        axis_list = [\"stretch\", \"auto\", \"fixed\"]\n",
    "        self.axis_ddw = ipyw.Dropdown(options=axis_list, description=\"Axis scaling:\")\n",
    "        \n",
    "          "
   ]
  },
  {
   "cell_type": "code",
   "execution_count": null,
   "metadata": {},
   "outputs": [],
   "source": []
  },
  {
   "cell_type": "code",
   "execution_count": null,
   "metadata": {},
   "outputs": [],
   "source": []
  },
  {
   "cell_type": "code",
   "execution_count": null,
   "metadata": {},
   "outputs": [],
   "source": []
  },
  {
   "cell_type": "markdown",
   "metadata": {},
   "source": [
    "# Wrapped function"
   ]
  },
  {
   "cell_type": "code",
   "execution_count": 12,
   "metadata": {},
   "outputs": [],
   "source": [
    "from radiopy.radiation import u_lum_spec_en\n",
    "import pandas as pd\n",
    "import numpy as np\n",
    "import matplotlib.pyplot as plt\n",
    "import ipywidgets as ipyw\n",
    "from physipy import *\n",
    "import physipy\n",
    "from physipy.quantity.utils import *\n",
    "from physipy.quantity.calculus import ndvectorize\n",
    "\n",
    "from physipy.qwidgets.qipywidgets import QuantityTextSlider\n",
    "\n",
    "\n",
    "setup_matplotlib()\n",
    "from collections import OrderedDict\n",
    "\n",
    "class WrappedFunction1D():\n",
    "    # un slider widget pour chaque param\n",
    "    # un range slider pour xmin/xmax\n",
    "    # une methode pour chaque param qui renvoi la valeur courant\n",
    "    # une methode qui renvoi les valeurs x et y pour l'update de la line\n",
    "    \n",
    "    def __init__(self, func, xmin, xmax, *args, num=100, xfavunit=None, yfavunit=None, xlim=None, ylim=None, **kwargs):\n",
    "        self.func = func\n",
    "        self.name = func.name\n",
    "        self.xfavunit = xfavunit\n",
    "        self.yfavunit = yfavunit\n",
    "        self.xmin = xmin\n",
    "        self.xmax = xmax\n",
    "        self.num = num\n",
    "        \n",
    "        \n",
    "        axis_list = [\"stretch\", \"auto\", \"fixed\"]\n",
    "        self.xaxis_ddw = ipyw.Dropdown(options=axis_list, description=\"X-Axis scaling:\")\n",
    "        self.yaxis_ddw = ipyw.Dropdown(options=axis_list, description=\"Y-Axis scaling:\")\n",
    "        \n",
    "        # Todo : handle xlim/ylim with fixed, stretched, etc\n",
    "        \n",
    "        self.ech_x = np.linspace(xmin, xmax, num=num)\n",
    "        # get favunit for inputs\n",
    "        import inspect\n",
    "        sig = inspect.signature(func)\n",
    "        if not sig.return_annotation == inspect._empty:\n",
    "            init_values = []\n",
    "            for k,v in sig.parameters.items():\n",
    "                init_values.append((v.name, v.annotation, v.name))\n",
    "            # add favunit for x for plotting\n",
    "            self.ech_x.favunit = init_values[0][1]\n",
    "        \n",
    "\n",
    "        \n",
    "        self.params = args\n",
    "        self.params_slider_dict = OrderedDict()\n",
    "        \n",
    "        self.state_dict = {}\n",
    "    \n",
    "        self.pargs = {}\n",
    "        self.sliders_dict = {}\n",
    "    \n",
    "        \n",
    "        def _update_data(change):\n",
    "            #print(\"update data\")\n",
    "            data = self.data()\n",
    "            self.line.set_label(self.label)\n",
    "            self.line.set_data(data)\n",
    "            _update_cursor_data(None)\n",
    "            \n",
    "            self.ax.relim()\n",
    "            cur_xlims = self.ax.get_xlim()\n",
    "            cur_ylims = self.ax.get_ylim()\n",
    "            \n",
    "            # X\n",
    "            if self.xaxis_scale == \"auto\":\n",
    "                self.ax.autoscale_view(scaley=False)\n",
    "            elif self.xaxis_scale == \"stretch\":\n",
    "                new_lims = [self.ax.dataLim.x0, self.ax.dataLim.x0 + self.ax.dataLim.width]\n",
    "                new_lims = [\n",
    "                    new_lims[0] if new_lims[0] < cur_xlims[0] else cur_xlims[0],\n",
    "                    new_lims[1] if new_lims[1] > cur_xlims[1] else cur_xlims[1],\n",
    "                ]\n",
    "                self.ax.set_xlim(new_lims)\n",
    "                \n",
    "\n",
    "            if self.yaxis_scale == \"auto\":\n",
    "                self.ax.autoscale_view(scalex=False)\n",
    "            elif self.yaxis_scale == \"stretch\":\n",
    "                new_lims = [self.ax.dataLim.y0, self.ax.dataLim.y0 + self.ax.dataLim.height]\n",
    "                new_lims = [\n",
    "                    new_lims[0] if new_lims[0] < cur_ylims[0] else cur_ylims[0],\n",
    "                    new_lims[1] if new_lims[1] > cur_ylims[1] else cur_ylims[1],\n",
    "                ]\n",
    "                self.ax.set_ylim(new_lims)\n",
    "            \n",
    "            \n",
    "            self.ax.legend()\n",
    "            #self.ax.autoscale_view()\n",
    "        \n",
    "        sliders_list = []\n",
    "        for k, v in kwargs.items():\n",
    "            self.pargs[k] = v\n",
    "            #slider = ipyw.FloatSlider(v[0], min=v[0], max=v[-1], description=k, step=0.001)\n",
    "            slider = QuantityTextSlider(v[0], min=v[0], max=v[-1], description=k,\n",
    "                                       step=(v[-1]-v[0])/1000) # we override a default step\n",
    "            slider.observe(_update_data, names=\"value\")\n",
    "\n",
    "            self.sliders_dict[k] = slider\n",
    "\n",
    "            sliders_list.append(slider)\n",
    "            \n",
    "        def _update_cursor_data(change):\n",
    "            y = self.func(self.get_xcursor(), **self.get_pvalues())\n",
    "            self.cursor_hline.set_data(asqarray([self.xmin, self.xmax]), asqarray([y, y]))\n",
    "            self.cursor_vline.set_data(asqarray([self.get_xcursor(), self.get_xcursor()]), asqarray([0*y, y]))\n",
    "            \n",
    "        self.cursor_slider = QuantityTextSlider(xmin, min=xmin, max=xmax, description=\"Cursor\",\n",
    "                                               step=(xmax-xmin)/1000)\n",
    "        self.cursor_slider.observe(_update_cursor_data, names=\"value\")\n",
    "\n",
    "        #print(self.sliders_list)\n",
    "        self.sliders_list = sliders_list\n",
    "        self.sliders_box = ipyw.VBox(sliders_list +[self.cursor_slider]+[self.xaxis_ddw, self.yaxis_ddw ])\n",
    "        self.out_w = ipyw.Output()\n",
    "        \n",
    "        #print(self.sliders_box)\n",
    "        self.plot()\n",
    "        self.plot_cursor()\n",
    "\n",
    "        #self.state = {k:v for (k,v) in zip(self.)}\n",
    "        \n",
    "    def __call__(self, *args, **kwargs):\n",
    "        return self.func(*args, **kwargs)\n",
    "        \n",
    "    @property\n",
    "    def xaxis_scale(self):\n",
    "        return self.xaxis_ddw.value\n",
    "\n",
    "    @property\n",
    "    def yaxis_scale(self):\n",
    "        return self.yaxis_ddw.value\n",
    "    \n",
    "    def get_xcursor(self):\n",
    "        return self.cursor_slider.value\n",
    "    \n",
    "    def add_integral(self, ximin, ximax):\n",
    "        from physipy import quad\n",
    "        args = tuple((v for v in self.get_pvalues().values()))\n",
    "        func = self.func\n",
    "        integ, prec = quad(func, ximin, ximax, args=args)\n",
    "\n",
    "        \n",
    "        from matplotlib.patches import Polygon\n",
    "        def compute_integral_polygon(xmin, xmax, func, ax=self.ax, **kwargs):\n",
    "            xmin = quantify(xmin)\n",
    "            xmax = quantify(xmax)\n",
    "            if ax is None:\n",
    "                ax = plt.gca()\n",
    "            ix = np.linspace(xmin, xmax)\n",
    "            #iy = func(ix, **kwargs)\n",
    "            try:\n",
    "                iy = func(ix, *args, **kwargs)\n",
    "            except: \n",
    "                iy = physipy.quantity.utils.asqarray([func(x, *args, **kwargs) for x in ix])\n",
    "        \n",
    "            verts = [(xmin.value, 0),\n",
    "                     *zip((ix.value), iy.value), \n",
    "                     (xmax.value, 0)]\n",
    "            poly = Polygon(verts, facecolor='0.9', edgecolor='0.5', alpha=0.5)\n",
    "            ax.text(0.5 * (xmin.value + xmax.value), \n",
    "                    np.max(iy.value/5), \n",
    "                    r\"$\\int_{x=\" + f\"{xmin}\" + \"}^{x=\" + f\"{xmax}\" + \"}\"+f\"{self.label}\"+\"\\mathrm{d}x$=\"+f\"{integ:.2f}\",\n",
    "                    horizontalalignment='center', \n",
    "                    fontsize=9)\n",
    "            res = ax.add_patch(poly)\n",
    "            return res\n",
    "        polygon = compute_integral_polygon(ximin, ximax, func)\n",
    "        self.integral_polygon = polygon\n",
    "        return self.integral_polygon\n",
    "    \n",
    "    @property\n",
    "    def label(self):\n",
    "        params = \",\".join([k+\"=\"+f\"{v.value:~}\" for k, v in zip(self.sliders_dict.keys(), self.sliders_dict.values())])\n",
    "        return f\"{self.name}({params})\"\n",
    "            \n",
    "            \n",
    "    def get_pvalue(self, pname):\n",
    "        return self.sliders_dict[pname].value\n",
    "            \n",
    "    def get_pvalues(self):\n",
    "        res =  {k:self.sliders_dict[k].value for k in self.sliders_dict.keys()}\n",
    "        return res\n",
    "        \n",
    "    def __repr__(self):\n",
    "        #display(self.sliders_box)\n",
    "        display(ipyw.HBox([self.out_w,\n",
    "                           self.sliders_box]))\n",
    "        return \"\"\n",
    "    \n",
    "    def data(self):\n",
    "        return (self.ech_x, self.func(self.ech_x, **self.get_pvalues()))\n",
    "    \n",
    "    def plot(self, ax=None, **kwargs):\n",
    "        with self.out_w:\n",
    "            if ax is None:\n",
    "                fig, ax = plt.subplots()\n",
    "                ax.grid(\"both\")\n",
    "            line, = ax.plot(*self.data(), label=self.label, **kwargs)\n",
    "            self.ax = ax\n",
    "            self.fig = fig\n",
    "            self.fig.tight_layout()\n",
    "            self.line = line\n",
    "            ax.legend()\n",
    "            \n",
    "    def plot_cursor(self, **kwargs):\n",
    "        ax = self.ax\n",
    "        xx = (self.get_xcursor(), self.get_pvalues())\n",
    "        y = self.func(self.get_xcursor(), **self.get_pvalues())\n",
    "        with self.out_w:\n",
    "            self.cursor_hline, = ax.plot(asqarray([self.xmin, self.xmax]), asqarray([y, y]))\n",
    "            self.cursor_vline, = ax.plot(asqarray([self.get_xcursor(), self.get_xcursor()]), asqarray([0*y, y]))"
   ]
  },
  {
   "cell_type": "code",
   "execution_count": 13,
   "metadata": {},
   "outputs": [],
   "source": [
    "%matplotlib widget"
   ]
  },
  {
   "cell_type": "code",
   "execution_count": 16,
   "metadata": {},
   "outputs": [
    {
     "data": {
      "text/plain": [
       "11"
      ]
     },
     "execution_count": 16,
     "metadata": {},
     "output_type": "execute_result"
    }
   ],
   "source": [
    "wf(1, 2, 3)"
   ]
  },
  {
   "cell_type": "code",
   "execution_count": 7,
   "metadata": {},
   "outputs": [],
   "source": [
    "%matplotlib ipympl\n",
    "from physipy import m, s\n",
    "from physipy.qwidgets.plot_ui import WrappedFunction1D\n",
    "from physipy.quantity.utils import name_eq"
   ]
  },
  {
   "cell_type": "code",
   "execution_count": 8,
   "metadata": {},
   "outputs": [
    {
     "data": {
      "application/vnd.jupyter.widget-view+json": {
       "model_id": "33317a49231040518e6770fb4312ed34",
       "version_major": 2,
       "version_minor": 0
      },
      "text/plain": [
       "HBox(children=(Output(), VBox(children=(QuantityTextSlider(value=<Quantity : 0 m, symbol=UndefinedSymbol*m>, c…"
      ]
     },
     "metadata": {},
     "output_type": "display_data"
    },
    {
     "data": {
      "text/plain": []
     },
     "execution_count": 8,
     "metadata": {},
     "output_type": "execute_result"
    },
    {
     "data": {
      "application/vnd.jupyter.widget-view+json": {
       "model_id": "efd4dd264f78466a97be0bff2214d6f7",
       "version_major": 2,
       "version_minor": 0
      },
      "text/html": [
       "\n",
       "            <div style=\"display: inline-block;\">\n",
       "                <div class=\"jupyter-widgets widget-label\" style=\"text-align: center;\">\n",
       "                    Figure\n",
       "                </div>\n",
       "                <img src='data:image/png;base64,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' width=640.0/>\n",
       "            </div>\n",
       "        "
      ],
      "text/plain": [
       "Canvas(toolbar=Toolbar(toolitems=[('Home', 'Reset original view', 'home', 'home'), ('Back', 'Back to previous …"
      ]
     },
     "metadata": {},
     "output_type": "display_data"
    }
   ],
   "source": [
    "@name_eq(\"Myfunc\")        \n",
    "def func(x1, x2, x3):\n",
    "    return x1*x2 + 3 * x3\n",
    "\n",
    "wf = WrappedFunction1D(func, 0*s, 5*s, \n",
    "                       x2=(0*m, 5*m),\n",
    "                       x3=(0*m*s, 5*m*s))\n",
    "\n",
    "\n",
    "#wf.add_integral(2*s, 4*s)\n",
    "wf"
   ]
  },
  {
   "cell_type": "code",
   "execution_count": 4,
   "metadata": {},
   "outputs": [],
   "source": [
    "@name_eq(\"Gain at new price\")\n",
    "def get(investment, ref_price, new_price, K=0.8):\n",
    "    buy_price = ref_price*K\n",
    "    nb_action_wo_abondement = investment/buy_price\n",
    "    nb_action_abondement = np.minimum(nb_action_wo_abondement//4, 10)\n",
    "    nb_action_totale = nb_action_wo_abondement + nb_action_abondement\n",
    "    recieved_price_at_ref_price = nb_action_totale * ref_price\n",
    "    gain_at_ref_price = recieved_price_at_ref_price - investment\n",
    "    taux_at_ref_price = recieved_price_at_ref_price / investment\n",
    "    \n",
    "    price_at_new_price = nb_action_totale * new_price\n",
    "    gain_at_new_price = price_at_new_price - investment\n",
    "    taux_at_new_price = price_at_new_price / investment\n",
    "    return gain_at_new_price#price_at_new_price, recieved_price_at_ref_price, buy_price, nb_action_wo_abondement, nb_action_abondement, nb_action_totale, gain_at_ref_price, taux_at_ref_price, gain_at_new_price, taux_at_new_price"
   ]
  },
  {
   "cell_type": "code",
   "execution_count": 5,
   "metadata": {},
   "outputs": [
    {
     "data": {
      "application/vnd.jupyter.widget-view+json": {
       "model_id": "5be26b3a422d4b9189bd6b77c6daf2c1",
       "version_major": 2,
       "version_minor": 0
      },
      "text/html": [
       "\n",
       "            <div style=\"display: inline-block;\">\n",
       "                <div class=\"jupyter-widgets widget-label\" style=\"text-align: center;\">\n",
       "                    Figure\n",
       "                </div>\n",
       "                <img src='data:image/png;base64,iVBORw0KGgoAAAANSUhEUgAAAoAAAAHgCAYAAAA10dzkAAAAOXRFWHRTb2Z0d2FyZQBNYXRwbG90bGliIHZlcnNpb24zLjQuMywgaHR0cHM6Ly9tYXRwbG90bGliLm9yZy/MnkTPAAAACXBIWXMAAA9hAAAPYQGoP6dpAABvi0lEQVR4nO3deViVdf7/8ecBDquAIrIp4gZaYqZYLuWWCtaYNc58bbLMpqZsMtM0s+XXRNOMjlZm2TaVZeU0NjNmU00pmHuomUvuuO8gLsgi24Hz+f3BcEYEV5YDnNfjuryK+3zOfd73+9zAi/vc9+e2GGMMIiIiIuIy3JxdgIiIiIjULgVAERERERejACgiIiLiYhQARURERFyMAqCIiIiIi1EAFBEREXExCoAiIiIiLkYBUERERMTFKACKiIiIuBgFQBEREREXowAoIiIi4mIUAEVERERcjAKgiIiIiIvxcHYBtclut3Ps2DH8/f2xWCzOLkdERETkqhhjyMnJISIiAje3Kz+e51IB8NixY0RGRjq7DBEREZFqcfjwYVq0aHHFz3OpAOjv7w+UNisgIKBK67LZbCQlJREfH4/Vaq2O8uod9UA9APUA1ANQD0A9APUAaq8H2dnZREZGOrLNlXKpAFj2sW9AQEC1BEBfX18CAgJceidXD9QD9UA9APUA1ANQD6D2e3C1p7TpIhARERERF6MAKCIiIuJiFABFREREXIxLnQN4uUpKSrDZbBcdY7PZ8PDwoKCggJKSklqqrG5RD9QDUA9APYC63wOr1Yq7u7uzyxCpMxQAz2GMIT09nTNnzlzW2LCwMA4fPuyycwqqB+oBqAegHkD96EHjxo0JCwurs/WJ1CYFwHOUhb+QkBB8fX0v+kPCbreTm5tLo0aNrmoCxoZAPVAPQD0A9QDqdg+MMeTl5ZGRkQFAeHi4kysScT4FwP8qKSlxhL+mTZtecrzdbqeoqAhvb+8698OutqgH6gGoB6AeQN3vgY+PDwAZGRmEhITo42BxeXXvu9RJys758/X1dXIlIiJSE8p+vl/qHG8RV6AAeB6dGyIi0jDp57vI/ygAioiIiLgYBUApZ86cOTRu3NjZZTQIy5Ytw2KxXNZV5Vfi+eef5+GHH67yeowxPPzwwwQFBWGxWNi0aVPVi6vEgQMHanT9UnUWi4Uvv/zS2WVUyZtvvsnQoUOdXYZIvaEA2ECkp6czbtw42rVrh7e3N6Ghodx88828++675OXlXfZ67rrrLnbt2lWDlZbq168f48ePr/HXcaZevXqRlpZGYGBgta3z+PHjvP766zz77LNVXtfChQuZM2cO33zzDWlpacTGxlZDhRVFRkbW6PqvxJ49e/D396/0j5zly5cTFxeHt7c3bdq04d133639Ap0kLS2NW2+91dllcOrUKVq0aFHpH05btmyhb9+++Pj40Lx5c/74xz9ijHE8/tBDD7Fu3TpWrVpVy1WL1E/VEgBXrFjB7bffTkRExCX/khw9ejQWi4WZM2eWW15YWMjYsWMJDg7Gz8+PoUOHcuTIkXJjMjMzGTlyJIGBgQQGBjJy5MhqP7pSH+3bt48uXbqQlJTElClT2LhxI4sXL+aJJ57g66+/ZvHixZe9Lh8fH0JCQmqwWtdgs9nw9PSs9jnHZs+eTc+ePWnVqtUFxxQVFV3Wuvbu3Ut4eDi9evUiLCwMD4/qnxSgqKgId3f3Glv/lbDZbNx999307t27wmP79+/ntttuo3fv3mzcuJFnn32Wxx9/nPnz5zuh0tpTtq+EhYXh5eXl5GrgwQcf5LrrrquwPDs7m0GDBhEREcG6deuYNWsWr7zyCjNmzHCM8fLyYsSIEcyaNas2Sxapv0w1+Pbbb81zzz1n5s+fbwCzYMGCSsctWLDAdO7c2URERJjXXnut3GOPPPKIad68uUlOTjYbNmww/fv3N507dzbFxcWOMYMHDzaxsbEmJSXFpKSkmNjYWDNkyJDLrjMrK8sAJisrq8Jj+fn5Zvv27SY/P/+y1lVSUmIyMzNNSUnJZb9+TUlISDAtWrQwubm5lT5ut9sd///qq6+a2NhY4+vra1q0aGF+//vfm5ycHMfjH330kQkMDHR8/cILL5jOnTubTz75xERFRZmAgABz1113mezs7Av24OTJk+Y3v/mNad68ufHx8TGxsbHms88+czw+atQoA5T7t3///kprj4qKMn/+85/Nb3/7W9OoUSMTGRlp/vrXv5Ybc+TIETN8+HDTuHFjExQUZIYOHepY3+bNm43FYjEnTpwwxhhz+vRpY7FYzK9//WvH86dMmWJ69Ohxwf5GRUWZP/7xj+buu+82fn5+Jjw83LzxxhvGmP/tB4B55513zNChQ42vr6/5wx/+YJYuXWoAk5mZ6VjXqlWrTJ8+fYyPj49p3LixiY+PN6dPn3a8T9OmTTOtW7c23t7e5rrrrjP//Oc/y9XSqVMn8+abb5Zb1rdvXzNmzBjzxBNPmKZNm5o+ffoYY4zZtm2bufXWW42fn58JCQkx9957r6MP578HUVFRF9z+819nzJgxJjAw0AQFBZnnnnvOFBcXO/aDqKgo89JLL5lRo0aZgIAAc99995n9+/cbwGzcuNGxrq1bt5rbbrvN+Pv7m0aNGpmbb77Z7Nmzx/H4hx9+aDp06GC8vLxM+/btzVtvvXXJ+i7lqaeeMvfee2+FfbzssQ4dOpRbNnr06IvuF2Xv7+LFi01cXJzx8fExPXv2NDt37iw37quvvjJdu3Y1Xl5epnXr1iYxMdHYbDZjjDETJkwo9zPstddeM4D55ptvHMtiYmLMu+++e8ntGzVqlLnjjjtMYmKiadasmfH39zcPP/ywKSwsdIy50L5y/s/tw4cPm7vuuss0adLE+Pr6mri4OLNmzZqLblNhYWGVfia+/fbbpm/fvub777+v8H3z9ttvm8DAQFNQUOBYNnXqVBMREVHu59uyZcuMp6enycvLq/Q1rvTn/JUqKioyX375pSkqKqqR9dcH6kHt9eBimeZyVEsALLfCCwTAI0eOmObNm5utW7eaqKiocgHwzJkzxmq1mnnz5jmWHT161Li5uZmFCxcaY4zZvn27Acr9EFq9erUBKvzAvZArDYB2u92cLbRV+i8nv9AcO37S5OQXXnBMVf6d+0PtYk6ePGksFouZOnXqZY1/7bXXzJIlS8y+ffvM999/b9q3b29+//vfOx6vLAA2atTIDBs2zGzZssWsWLHChIWFmWefffaCAfDIkSPm5ZdfNhs3bjR79+41b7zxhnF3d3e8d2fOnDE9e/Y0Dz30kElLSzNpaWnlgv65oqKiTFBQkHnrrbfM7t27zdSpU42bm5vZsWOHMcaYs2fPmujoaPPAAw+YzZs3m+3bt5sRI0aY9u3bm8LCQmO3201wcLD517/+ZYwx5ssvvzTBwcEmJCTE8Rrx8fFm8uTJF+xZVFSU8ff3N1OnTjWpqamO7UlKSioXAENCQszs2bPN3r17zYEDByoEwI0bNxovLy/z+9//3mzatMls3brVzJo1yxHKnn32WdOhQwezcOFCs3fvXvPRRx8ZLy8vs2zZMmPM/8Lrud8DxpT+Um/UqJGZNGmS2blzp9mxY4c5duyYCQ4ONs8884zZsWOH2bBhgxk0aJDp37+/4z344x//aFq0aGHS0tJMRkbGBbf//NcZN26c2blzp5k7d67x9fU17777brkAGBAQYF5++WWze/dus3v37goB8MiRIyYoKMgMGzbMrFu3zqSmppoPP/zQ8X383nvvmfDwcDN//nyzb98+M3/+fBMUFGTmzJnjqOXaa681fn5+F/x37bXXlqv9+++/N61btzZZWVmVBsDevXubxx9/vNyyL774wnh4eFzwh3jZ+9u9e3ezZMkSs3r1atO7d2/Tq1cvx5iFCxeagIAAM2fOHLN3716TlJRkWrVqZRITE40xpUEqMDDQ8T105513muDgYDNp0iRjjDFpaWkGcOzvFzNq1CjTqFEjc9ddd5mtW7eab775xjRr1sw8++yzFd7Dc/cVY8r/3M7JyTFt2rQxvXv3NitXrjS7d+82n3/+uUlJSbnoNr3wwguO/WDw4MEXfX/8/PzK1b5t2zYTFhZmDh48WOkfTiNHjjRDhw4t95wNGzYYwOzbt8+xLDc311gsFsf3zPkUAGueelDagwUL6n4ArJXPZOx2OyNHjmTSpEl07NixwuPr16/HZrMRHx/vWBYREUFsbCwpKSkkJCSwevVqAgMD6d69u2NMjx49CAwMJCUlhfbt21dYb2FhIYWFhY6vs7OzgdKPgs6fB8pms2GMwW63Y7fbAcgrKiY2MblqG3+VtiYOwtfz0m/Prl27MMYQHR3tqBsgJCSEgoICAB599FH+8pe/APD44487xkRFRfHiiy8yZswY3nzzTQDHOsr+W9aTDz/8EH9/fwDuvfdevv/+e/74xz+WG1MmPDycCRMmOL4eM2YM3333Hf/4xz+44YYb8Pf3x9PTs8LHzeeu41y33norjzzyCACTJk3itddeY8mSJcTExPDZZ5/h5ubGe++95/iodfbs2QQFBbFkyRLi4+Pp3bs3S5cu5Ze//CVLly7lvvvu45NPPmHr1q3ExMSQkpLCuHHjLvj6UHo+31NPPQVAu3btWLVqFTNmzOCWW25xjLn77ru5//77HV/v3bvXsV12u51p06bRrVs3R68BrrnmGgBycnKYMWMGixcvpmfPngC0atWKlStX8u6779K7d2/279/vuN3W+bW2a9fO8R4DvPDCC3Tp0oU//elPjmUffPABUVFR7Ny5k5iYGBo1aoS7u7vjPbjY9peJjIzk1VdfxWKxEB0dzebNm3n99de56667HOdj9e/fv9z7f+DAgXJ9ePPNNwkMDOSzzz7DarU66i8b89JLL/Hyyy9z5513AqX76bZt2/jrX//KyJEjAfjmm28uOpeb1Wp1bM+pU6e4//77+eSTT2jUqFGFfRxKz6ENCQkpt6xZs2YUFxeTkZFR6Z0jysa+9NJL9OnTh5ycHCZNmsTQoUPJy8vD29ubP//5z0yePNlRd6tWrXjxxRd5+umnef7557n55pvJyclh/fr1dO3alZUrVzJx4kQWLFiA3W7n+++/JzQ0lJiYmEu+P8YYPD09+eCDD/D19eWaa64hMTGRyZMn8+KLLzomZz5/Xzm3H3a7nblz53LixAnWrl1LUFAQAG3atHGMudg2jR8/HmMM7733Hvn5+Rett+x1CwsLufvuu5k2bRotWrRgz5495eqB0nMUW7VqVeH9ATh27BhRUVFA6SksjRs3Zt++fZV+1G+32zHGYLPZamQi6LJ90pXnGXT1HpTYDQs2HOGNn93p2uss4U38auy1qtrjWgmA06ZNw8PDo1z4OFd6ejqenp40adKk3PLQ0FDS09MdYyo7Ny0kJMQx5nxTp07lxRdfrLA8KSmpwoTPHh4ehIWFkZub6zgvJr/IeTc0z8nOodjz0j+gzp49C0BBQYEj4AIsXrwYu93Oww8/TE5OjuOxlStXMmPGDFJTU8nJyaG4uJiCggLS0tLw8/OjoKAAY4xjfGFhIS1btiy3rEmTJqSnp5OTk1Na63//W6akpITXXnuNBQsWkJaWRlFREYWFhXh5eTnWUVxcTFFRUbmaK2O324mJiSk3rlmzZhw5coTs7GzWrFnDnj17KlxoUVBQwLZt2+jRowc9evRgzpw5ZGdns3TpUp599ll2797NokWLOHbsGPn5+XTq1OmCtdjtdrp27Vru8S5duvDOO++U2/Zrr7223Jiyi29ycnJwc3Nj48aN3HHHHZW+zoYNGygoKCAhIaHc8qKiIq677jqys7M5efIkUPpNf+46iouLHWPKrF27lmXLlhEQEFDhtbZs2UJYWBgFBQXY7fZLvgfnvk7Xrl3LbXPnzp2ZMWMGJSUl5OTkYLfbiY2NLbfO3NxcoHRfzc7O5qeffqJ79+7k5+dXCAknT57k8OHDPPTQQ4wePbrcawcEBJTbBy+lbOwDDzzAsGHDuP7668nOzq6wj0Ppe1xYWFhp3bm5uZX2qOz9bd26taMnZfvh3r17iYyMZP369axbt44pU6Y4nldSUkJBQQHp6en4+vrSqVMnFi1aRGFhIRaLhbvvvpvExESOHj1KcnIyvXr1uqz3yGaz0bFjR4qLix3jO3XqRG5uLtu3b6dly5aV7itl8vPzyc7OZt26dXTq1AkPD49Kx11sm8p64u/v7/iD8ULK1v3cc8/Rtm1bhg4dSnZ2doXvm7L1n7/fl/1/Xl5eueXe3t6cPn260tqLiorIz89nxYoVFBcXX7S+qkhOds6Bg7rE1XpgDGzLtPDNITfS8i2AhRfnrWRo1KX/sL5aV3KBZ2VqPACuX7+e119/nQ0bNlzxyfDGmHLPqez554851zPPPFPuSER2djaRkZHEx8dX+MVYUFDA4cOHadSoEd7e3gD4G8PWxEEXrC03J5dG/o1qZHJRH6v7Za23c+fOWCwWDh06VG6byk6kbtSoEZ6engQEBHDw4EGGDx/O6NGj+fOf/0xQUBCrVq3ioYcewsfHh4CAALy9vbFYLI51eXl54eXlVW7dZbdU8vf3JycnB39//3K1vvzyy7z77rvMmDGDTp064efnxxNPPIHdbnesx8PDw1HXxbi5ueHv719unIeHB1arlYCAADw8PIiLi+PTTz+t8NxmzZoREBBAQkICTz/9NBkZGezYsYOEhATS09NJSUmhsLCQuLg4mjdvftEazu+Bt7c37u7ujh4ABAcHlxtT9kdGWf1+fn4V1nN+T7/++usKtZQ9p+woR1kYOrcfjRs3LrfMzc2NIUOGlDvSUyY8PBw/Pz/HLbsu9R6c+zplfT+/7rLtdHNzo2nTpuXGNGrUCAA/Pz8CAgLw9/evsJ4yZYHwr3/9a7mj/QDu7u6O53Tq1ImDBw9esNaoqCi2bNkClP7R89133zmOvJYdsQ4ODubdd9/lgQceICIigjNnzpSr6ezZs3h4eNCqVSvHkcpzlb2/QUFBjv3Az8+v3Lba7XYSExP55S9/WeH5ISEhuLm5ccstt7BmzRoCAgLo27cvLVu2pGPHjmzZsoXVq1fz+OOPX9Z7ZLVa8fDwqLT3AQEBju+X8/eVMmU/AwIDAyus51wX2iZjDN7e3vj7+/OLX/ziklfjlgW0H374gS1bthAcHOxYD0Dbtm159tlnSUxMpHnz5pw+fbpcTWVH2Nu0aVNueWZmJpGRkZXWX1BQgI+PD3369HH8nK9ONpuN5ORkBg0aVOk+4wpcsQc/HczklaTdrD90BoAAbw/6hRTywj39CfCt/v2szOX+8X4hNR4AV65cSUZGBi1btnQsKykpYeLEicycOZMDBw4QFhZGUVERmZmZ5f6yz8jIoFevXkDpVWrHjx+vsP4TJ04QGhpa6WuXhZfzWa3WCjtmSUkJFosFNze3cvexbHSBjwnsdjslhe74eVmdet/LZs2aMWjQIN566y0ef/xxxy+gc5Vt14YNGyguLmbGjBmOmv/1r38BOLa7bHnZf8uC3bnbWLbs3P+e+/iqVau44447uO+++4DSXu3Zs4drrrnGMc7T0xO73X5ZvTt//ecui4uL4x//+AdhYWEX/IV13XXX0bRpU6ZMmULnzp1p3Lgx/fr14y9/+Qtnzpyhb9++l6xj7dq15casXbuWDh06lAu+5+875/bSzc2N6667jiVLljg+Oj9XbGwsXl5eHDlyhP79+1daQ3R0NAEBAezcuZMOHTpctEdxcXHMnz+fNm3aXPDq28re20s5vw8//vgj0dHRuLu7X3B/OL8PnTt35uOPP6akpKTC92F4eDjNmzfnwIEDjo8YK/Ptt99e8iPgstddvXo1JSX/O5r/73//m2nTppGSkkLz5s1xc3OjZ8+efP311+XqXrx4Md26dbvg1bHnbtf53xNl29q1a1d27dpFTEzMBWvt378/H374IVarlYEDB+Lm5kbfvn35xz/+wa5du+jfv/9lf5/8/PPPFBYWOoL5jz/+SKNGjWjZsmW57+nK1nfu+zN79mzOnDnj+Aj4XBfaprKjyRaLhdmzZ1/yI+CyGubPn19u7Lp163jggQdYuXIlbdu2xc3NjV69evHss89SXFyMp6cnUPr+RERE0KZNG0ff9+7dS0FBAXFxcRfcRovFUunvgOpU0+uvD1yhBzvSsnl5USpLdmYA4G1147c3tebBXi35YWkyAb7eNb6fVUWNJ5eRI0eyefNmNm3a5PgXERHBpEmTWLRoEVD6y8pqtZY7ZJyWlsbWrVsdAbBnz55kZWXx448/OsasXbuWrKwsxxhX9fbbb1NcXEy3bt34/PPP2bFjB6mpqcydO5edO3c6znVp27YtxcXFzJo1i3379vHpp5/WyFxn7dq1Izk5mZSUFHbs2MHo0aMrfEzfqlUr1q5dy4EDBzh58uRlnX9WmXvuuYfg4GDuuOMOVq5cyf79+1m+fDnjxo1zTCNksVjo06cPc+fOpV+/fkBpKCwqKuL77793LLuYH374genTp7Nr1y7eeust/vnPfzJu3LgrqvWZZ55h3bp1PProo2zevJmdO3fyzjvvcPLkSfz9/XnyySd54okn+Pjjj9m7dy8bN27krbfe4uOPPwZKf3kNHDjwsuY5GzNmDKdPn+buu+/mxx9/ZN++fSQlJfHAAw+UC0NX6vDhw0yYMIHU1FT+/ve/M2vWLMaOHXtF63jsscfIzs7mN7/5DT/99BO7d+/m008/JTU1FYDExESmTp3K66+/zq5du9iyZQsfffRRuSk/oqKiaNeu3QX/lR0thdLzLGNjYx3/ykJfbGys4w/ORx55hIMHDzJhwgR27NjBhx9+yOzZs3nyySevulcAf/jDH/jkk09ITExk27Zt7Nixg88//5z/9//+n2NM2fmDX3/9tWNf7NevH3PnzqVZs2Zce+21l/16RUVFPPjgg2zfvp3vvvuOF154gccee+yKQv7dd99NWFgYd955Jz/88AP79u1j/vz5rF69+qLb9PzzzzvW0bx584u+P2XnfELpz6Vz35/WrVsDpe9b2Wk/I0aMwMvLi/vvv5+tW7eyYMECpkyZwoQJE8r9EbZy5UratGlD27ZtL3t7Ra7UoVN5PPH5Jm57YyVLdmbg7mZhRPeWLJ/Un8mDOxDoUz+Cb7UEwNzcXEe4g9I5tTZt2sShQ4do2rRpuW/u2NhYrFYrYWFhjgs3AgMDefDBB5k4cSLff/89Gzdu5N5776VTp04MHDgQKP1hMHjwYB566CHWrFnDmjVreOihhxgyZEilF4C4krZt27Jx40YGDhzIM888Q+fOnenWrRuzZs3iySef5KWXXgLg+uuvZ8aMGUybNo3Y2Fj+9re/MXXq1Gqv5/nnn6dr164kJCTQr18/xy+Tcz355JO4u7tz7bXX0qxZMw4dOnRVr+Xr68uKFSto2bIlw4YN45prruGBBx4gPz+/3BHB/v37U1JS4vgFa7FYHCeJ33zzzZd8nYkTJ7J+/Xq6dOnCSy+9xKuvvlrhfL1LiYmJISkpiZ9//pkbb7yRnj178u9//9txhO6ll17iD3/4A1OnTuWaa64hISGBr7/+2vELEeDhhx9m3rx5lwzMERER/PDDD5SUlJCQkEBsbCzjxo0jMDCwSkes77vvPvLz87nxxhsZM2YMY8eOveK7kjRt2pQlS5aQm5tL3759iYuL4/3333f8Nfu73/2ODz74gDlz5tCpUyf69u3LnDlzyvWhurVu3Zpvv/2WZcuWcf311/PSSy/xxhtv8Ktf/coxpuzOLmUXtVyOhIQEvvnmG5KTk7nhhhvo0aMHM2bMKBdQAwMD6dKlC0FBQY6w17t3b+x2O3379r2i7RgwYADR0dH06dOH4cOHc/vtt5OYmHhF6/D09CQpKYmQkBBuu+02OnXqxF/+8hfHH5IX2qZzP+WpboGBgSQnJ3PkyBG6devGo48+yoQJE8qd4gPw97//nYceeqjG6hDXdiKnkBf+vZUBM5axYONRjIEh14WzeEJfpvyyE6EBNfdxb42o0jXI/1V22f75/0aNGlXp+POngTGm9PL8xx57zAQFBRkfHx8zZMgQc+jQoXJjTp06Ze655x7j7+9v/P39zT333FNuqoBLaajzADqLq/Sgsv21TG33wG63mxtvvLHcvIq1pW/fvmbcuHEVlrvKfvDRRx+Zdu3aVTq1Q13oQdk8gM7i7B5s2bLFhISEmDNnzlxwjKaBqXkNsQdZ+UXm1UU7zTXPf2eiJn9joiZ/Y+79YI3ZfLjyfa2+zANYLecA9uvXr9wteS6lsr+gvb29mTVr1kVncQ8KCmLu3LlXU6JIg2CxWHjvvffYvHmzs0txOQsXLmTKlCkN/rym+urYsWN88skn1XrrRXFtBbYS5q45yFtL95CZV3rOcecWgTw1uAM3tQt2cnVV59x7M4nIFevcuTOdO3eu1nUeOnTooueabd++vVpfrz6aN2+eU1+/7Ireynz33Xe1WEnddO48siJVUVxi54uNR5mZvItjWaXz6bZt5sekhPYkdKze23s6kwKgyCVcyTlf9VVERITjHN4LPb5s2bJaq0cqutj707x580onPhaRy2eMYdG247ySlMqejNJ5QMMDvXliYAzDujbHw915M37UBAVAEcHDw6PclZlS9+j9Eak5q/eeYtrCnWw6fAaAxr5WxvRrx8ieUXhbq/+uMXWBAuB5ruRcRhERqT/0813Ot/VoFtMXpbJi1wmg9CYMv+vdmof6tCHAu2Gf76sA+F9lJ3bn5eWVu7uBiIg0DGW3ztKFPHLg5FleSUrlm81pAHj8dy6/x25pR4h/PZvO5SopAP6Xu7s7jRs3JiOjdEZvX1/fi57oabfbKSoqoqCgwKl3AnEm9UA9APUA1AOo2z0wxpCXl0dGRgaNGzd2zGkoricju4DXv9/N5+sOU2wvPSJ8x/URTBgUQ1TTinfSasgUAM8RFhYG4AiBF2OMIT8/Hx8fnwZzRdCVUg/UA1APQD2A+tGDxo0bO37Oi2vJyrfx1+V7+fCH/RTYSifS79++GU8mtKdjhGtOHaQAeA6LxUJ4eDghISEXvc8olN7wesWKFfTp08dlP05QD9QDUA9APYC63wOr1aojfy6owFbCnJQDvLNsL1n5pb/Xu7ZszOTBHejepqmTq3MuBcBKuLu7X/IHhbu7O8XFxXh71+zNnusy9UA9APUA1ANQD6RuKS6x88/1R5i5eBfHswsBiAltxKSEDgy8JqTOHqWuTQqAIiIi0iAYY/huazqvLEpl38mzADRv7MOEQTHc2aU57m4KfmUUAEVERKTeW7X7JNMW7mTL0SwAgvw8GdO/Hff2aImXhz7+P58CoIiIiNRbPx8+w/RFO/lhzykA/Dzd+V3vNjzUpw2NvBRzLkSdERERkXpn74lcXk1K5dst6QBY3S3c0z2Kx25pR3AjLydXV/cpAIqIiEi9kZaVz+uLd/PP9UcosRssFvhll+Y8MTCGyCBfZ5dXbygAioiISJ13Jq+Id5btZU7KAQqLS+fyG3hNKJMS2tM+zN/J1dU/CoAiIiJSZ+UVFfPRDwd4d/lecgqKAbihVRMmD+5At1ZBTq6u/lIAFBERkTrHVmJn3rrDvPH9bk7klM7l1yHMn8mDO9CvfTPN5VdFCoAiIiJSZ9jthm+2pPFqUioHT+UBEBnkw8RB7RnaOQI3zeVXLRQARURExOmMMSzfdYLpC1PZnpYNQHAjTx4fEM1vbmiJp4ebkytsWBQARURExKk2HMpk+sKdrNl3GoBGXh6M7tOGB25ujZ/m8qsR6qqIiIg4xe7jOby8KJWk7ccB8PRw474eUTzavx1Bfp5Orq5hUwAUERGRWnX0TD4zk3cxf8MR7AbcLPCrri0YPyiG5o19nF2eS1AAFBERkVpx+mwRby3dw6erD1JUUjqXX0LH0rn82oVoLr/apAAoIiIiNepsYTGzV+3nvRX7yC0sncuvR5sgJg/uQJeWTZxcnWtSABQREZEaUVRs5+8/HmLWkt2czC0CoGNEAJMS2tM3RnP5OZMCoIiIiFQru93w5cajvJqcyuHT+QC0aurLxPj2/KJTuObyqwMUAEVERKRaGGPYlmnhnbdXs/N4LgDN/L0YNyCau26IxOquufzqCgVAERERqbKfDpzmL9/t4KeD7kAu/t4ePNK3Lb+9qRW+noobdY3eEREREblqqek5vLxoJ4t3ZABgtRjuv6k1Y26JprGv5vKrqxQARURE5IodPp3Ha8m7WLDpKMaAu5uFX3eN4Fr7QUYkxGC1Wp1dolyEAqCIiIhctpO5hby5ZA9/W3sQW4kB4BedwpkQH0PLxl58++1BJ1col0MBUERERC4pp8DG+yv388HKfeQVlQDQOzqYSQntua5FYwBsNpsTK5QroQAoIiIiF1RgK+Fvaw/x1tI9nD5bOpffdS0CmTy4Aze1C3ZydXK1FABFRESkghK74YsNR5i5eDdHz5TO5demmR+T4tszODZMkzjXcwqAIiIi4mCMIXn7cV5JSmXXf+fyCwvwZvzAaH4d1wIPzeXXICgAioiICABr951i2sKdbDh0BoBAHyu/79eW+3u1wtvq7tzipFopAIqIiLi47ceymb5oJ8tSTwDgbXXjwZtb83CftgT6aDqXhkgBUERExEUdPHWWGcm7+PemYwB4uFn4zY2RPH5LNCEB3k6uTmqSAqCIiIiLycgpYNb3e/j7j4cotpfO5Te0cwQTBsXQKtjPydVJbVAAFBERcRHZBTbeW76P2av2k28rncuvb0wzJiW0J7Z5oJOrk9qkACgiItLAFdhK+GT1Ad5etpczeaWTNV8f2ZjJgzvQs21TJ1cnzqAAKCIi0kAVl9iZ/9+5/NKyCgBoF9KIJ+Pbk9AxVHP5uTAFQBERkQbGGMOibem8vCiVvSfOAhAR6M0Tg2IY1rUF7m4Kfq5OAVBERKQBSdlzkmkLd/LzkSwAmvhaGdO/Hff2iNJcfuJQLdN5r1ixgttvv52IiAgsFgtffvml4zGbzcbkyZPp1KkTfn5+REREcN9993Hs2LFy6ygsLGTs2LEEBwfj5+fH0KFDOXLkSLkxmZmZjBw5ksDAQAIDAxk5ciRnzpypjk0QERGp17YcyWLk7LWM+GAtPx/JwtfTncdvacfyp/rzu95tFP6knGoJgGfPnqVz5868+eabFR7Ly8tjw4YNPP/882zYsIEvvviCXbt2MXTo0HLjxo8fz4IFC5g3bx6rVq0iNzeXIUOGUFJS4hgzYsQINm3axMKFC1m4cCGbNm1i5MiR1bEJIiIi9dK+E7mM+WwDt7+5ipW7T2J1t3B/r1Ysn9SfCfHtCfDWRM5SUbV8BHzrrbdy6623VvpYYGAgycnJ5ZbNmjWLG2+8kUOHDtGyZUuysrKYPXs2n376KQMHDgRg7ty5REZGsnjxYhISEtixYwcLFy5kzZo1dO/eHYD333+fnj17kpqaSvv27atjU0REROqF49kFzFy8m3/8dJgSu8FigTuvb86EQTFEBvk6uzyp45xyDmBWVhYWi4XGjRsDsH79emw2G/Hx8Y4xERERxMbGkpKSQkJCAqtXryYwMNAR/gB69OhBYGAgKSkpCoAiIuISsvJsvLN8L3NS9lNgswNwS4cQJiW055rwACdXJ/VFrQfAgoICnn76aUaMGEFAQOmOmp6ejqenJ02aNCk3NjQ0lPT0dMeYkJCQCusLCQlxjDlfYWEhhYWFjq+zs7OB0vMSbTZblbaj7PlVXU99ph6oB6AegHoA6gHUfA/yi0r4ZM0h3lu5n+yCYgDiWjZm4qBobmjVpEZf+3JpP6i9HlR1/bUaAG02G7/5zW+w2+28/fbblxxvjCk3R1Fl8xWdP+ZcU6dO5cUXX6ywPCkpCV/f6jk8fv7H265IPVAPQD0A9QDUA6j+HpTYYc0JCwsPu5FtK/19F+ZjuL2lnY5NTnJi+0m+3V6tL1ll2g9qvgd5eXlVen6tBUCbzcbw4cPZv38/S5YscRz9AwgLC6OoqIjMzMxyRwEzMjLo1auXY8zx48crrPfEiROEhoZW+prPPPMMEyZMcHydnZ1NZGQk8fHx5V7/arcnOTmZQYMGYbW65gm26oF6AOoBqAegHkD198BuNyzcdpw3vt/DgVOlv+xbNPZm3IB23H5deJ2cy0/7Qe31oOxTzatVKwGwLPzt3r2bpUuX0rRp+dvOxMXFYbVaSU5OZvjw4QCkpaWxdetWpk+fDkDPnj3Jysrixx9/5MYbbwRg7dq1ZGVlOULi+by8vPDy8qqw3Gq1VtubUp3rqq/UA/UA1ANQD0A9gKr3wBjDyt0nmb5oJ1uPlv6Sb+rnydhb2nF395Z4edT96Vy0H9R8D6q67moJgLm5uezZs8fx9f79+9m0aRNBQUFERETw61//mg0bNvDNN99QUlLiOGcvKCgIT09PAgMDefDBB5k4cSJNmzYlKCiIJ598kk6dOjmuCr7mmmsYPHgwDz30EH/9618BePjhhxkyZIguABERkQbh58NnmLZwJyl7TwHQyMuD3/Vuze96t6GRl+7dINWnWvamn376if79+zu+LvvYddSoUSQmJvLVV18BcP3115d73tKlS+nXrx8Ar732Gh4eHgwfPpz8/HwGDBjAnDlzcHf/3186f/vb33j88ccdVwsPHTq00rkHRURE6pM9Gbm8mpTKd1tLD5B4urtxb48oxvRvS9NGFT/JEqmqagmA/fr1wxhzwccv9lgZb29vZs2axaxZsy44JigoiLlz515VjSIiInXNsTP5vL54N/9cfxi7AYsFhnVpwRODomnRRHP5Sc3R8WQREZFalnm2iLeX7eHj1QcpKi6dy2/QtaE8Gd+e9mH+Tq5OXIECoIiISC3JKyrmw1X7+evyfeQUls7ld2PrICYP7kBcVJNLPFuk+igAioiI1LCiYjvz1h3ije/3cDK39AYF14YH8NTg9vSNaXbB+WxFaooCoIiISA2x2w1fbz7Gq0m7OHS6dC6/lkG+TIyP4fbrInCrg3P5iWtQABQREalmxhiWpZ5g+qJUdqSVzuUX3MiLcQPacdcNLfH0cHNyheLqFABFRESq0cZDZ3hl8R5+3H8aAH8vDx7p15bf3tQKX0/92pW6QXuiiIhINdh9PJcPdrqxZfWPAHh6uHF/r1b8vm9bmvh5Ork6kfIUAEVERKrgSGYeryXv5ouNRzDGDTcL/F9cJOMGRhPR2MfZ5YlUSgFQRETkKpzKLeTNpXv425pDFJWUzuV3XZCd6ff2pkNEY+cWJ3IJCoAiIiJXILewmA9W7uP9Ffs4W1QCQK+2TZkwsB1HN/9A22Z+Tq5Q5NIUAEVERC5DYXEJf1tziDeX7uH02SIAYpsHMHlwB25uF0xxcTFHNzu5SJHLpAAoIiJyESV2w5cbjzIjeRdHz+QD0DrYj4nxMdwWG665/KReUgAUERGphDGG73dk8PKiVFKP5wAQGuDFuAEx/F+3FljdNZef1F8KgCIiIudZd+A0077byU8HMwEI8Pbg9/3acX+vVvh4uju5OpGqUwAUERH5rx1p2by8KJUlOzMA8La68dubWvNIn7YE+lqdXJ1I9VEAFBERl3foVB6vLd7Fl5uOYgy4u1m464ZIxg2IJjTA29nliVQ7BUAREXFZJ3IKeXPJbj778RC2EgPALzqFMzE+hjbNGjm5OpGaowAoIiIuJ7vAxgcr9vHBqv3k/Xcuv97RwTyV0IFOLQKdXJ1IzVMAFBERl1FgK2HumoO8tXQPmXk2ADq3CGTy4A70ahfs5OpEao8CoIiINHjFJXa+2HiUmcm7OJZVAECbZn5Mim/P4NgwLBbN5SeuRQFQREQaLGMMSduP88qiVHZn5AIQHujN+IHR/KprCzw0l5+4KAVAERFpkNbsO8W0hTvZeOgMAI19rYzp146RPaPwtmouP3FtCoAiItKgbD2axcuLUlm+6wQAPlZ3Hry5NQ/1aUOgj+byEwEFQBERaSAOnDzLq8m7+PrnYwB4uFkY0b0lj93SjhB/zeUnci4FQBERqdcysgt4/fvdfL7uMMX20rn87rg+ggmDYohq6ufk6kTqJgVAERGpl7Lybfx1+V4+/GE/BTY7AP3bN+PJhPZ0jNBcfiIXowAoIiL1SoGthDkpB3hn2V6y8kvn8uvasjGTB3ege5umTq5OpH5QABQRkXqhuMTOP9cfYebiXRzPLgQgOqQRTw3uwMBrQjSXn8gVUAAUEZE6zRjDd1vTeWVRKvtOngWgeWMfnhgUwy+7NMfdTcFP5EopAIqISJ21avdJpi/ayeYjWQAE+XnyWP923NOjJV4emstP5GopAIqISJ2z+cgZpi9MZdWekwD4ebrzYO82PNS7Nf7emstPpKoUAEVEpM7YeyKXV5NS+XZLOgBWdwv3dI/isVvaEdzIy8nViTQcCoAiIuJ0aVn5vPH9bv7x0xFK7AaLBX7ZpTlPDIwhMsjX2eWJNDgKgCIi4jRn8op4Z9le5qQcoLC4dC6/gdeE8GRCezqEBTi5OpGGSwFQRERqXV5RMR/9cIB3l+8lp6AYgBtaNWHy4A50axXk5OpEGj4FQBERqTW2EjufrzvM69/v5kRO6Vx+HcL8eWpwe/q311x+IrVFAVBERGqc3W74z5Y0Xk1K5cCpPABaNPFhYnwMQztrLj+R2qYAKCIiNcYYw4rdJ5m+cCfbjmUDENzIk7G3RHP3jS3x9HBzcoUirkkBUEREasSGQ5lMX7iTNftOA9DIy4OHerfhd71b4+elXz8izqTvQBERqVa7j+fw8qJUkrYfB8DT3Y37ekbxaP92BPl5Ork6EQEFQBERqSanC+HpBVtZsPEYdgNuFvhV1xaMHxRD88Y+zi5PRM6hACgiIlVy+mwRb36/i082ulNsjgGQ0DGUJ+PbEx3q7+TqRKQyCoAiInJVzhYW8+Gq/by3Yh85hcWAhRtbNeHp266ha8smzi5PRC5CAVBERK5IUbGdeesO8cb3eziZWzqX37Xh/vRpfIYJd3fD01Pn+YnUdQqAIiJyWex2w1c/H+PV5FQOn84HIKqpLxPj25PQIZiFC7/TRM4i9US1TMC0YsUKbr/9diIiIrBYLHz55ZflHjfGkJiYSEREBD4+PvTr149t27aVG1NYWMjYsWMJDg7Gz8+PoUOHcuTIkXJjMjMzGTlyJIGBgQQGBjJy5EjOnDlTHZsgIiIXYIxhyc7j3PbGSsZ/vonDp/Np5u/FS3fGsnhCX4Z2jsBNEzmL1CvVEgDPnj1L586defPNNyt9fPr06cyYMYM333yTdevWERYWxqBBg8jJyXGMGT9+PAsWLGDevHmsWrWK3NxchgwZQklJiWPMiBEj2LRpEwsXLmThwoVs2rSJkSNHVscmiIhIJX46cJq7/rqGB+b8xM70HPy9PZiU0J7lk/oxskcUVndN5CxSH1XLR8C33nort956a6WPGWOYOXMmzz33HMOGDQPg448/JjQ0lM8++4zRo0eTlZXF7Nmz+fTTTxk4cCAAc+fOJTIyksWLF5OQkMCOHTtYuHAha9asoXv37gC8//779OzZk9TUVNq3b18dmyIiIsDO9GxeWZTK4h0ZAHh5uHH/Ta34fd+2NPbVOX4i9V2NnwO4f/9+0tPTiY+Pdyzz8vKib9++pKSkMHr0aNavX4/NZis3JiIigtjYWFJSUkhISGD16tUEBgY6wh9Ajx49CAwMJCUlpdIAWFhYSGFhoePr7OzS2xDZbDZsNluVtqvs+VVdT32mHqgHoB5Aw+rBkcx83liyhy9/TsMYcHez8KsuETzWvy3hgd5A5dvZkHpwtdQD9QBqrwdVXX+NB8D09HQAQkNDyy0PDQ3l4MGDjjGenp40adKkwpiy56enpxMSElJh/SEhIY4x55s6dSovvvhiheVJSUn4+vpe+cZUIjk5uVrWU5+pB+oBqAdQv3uQY4OkI278cNxCiSk9n+/6pnZui7QT6nmQjT8cZONlrKc+96C6qAfqAdR8D/Ly8qr0/Fq7Cvj8K8OMMZe8Wuz8MZWNv9h6nnnmGSZMmOD4Ojs7m8jISOLj4wkICLiS8iuw2WwkJyczaNAgrFZrldZVX6kH6gGoB1C/e5BTUMxHKQf4cP1BzhaVnnPdq20QEwdGc12LwMteT33uQXVRD9QDqL0elH2qebVqPACGhYUBpUfwwsPDHcszMjIcRwXDwsIoKioiMzOz3FHAjIwMevXq5Rhz/PjxCus/ceJEhaOLZby8vPDy8qqw3Gq1VtubUp3rqq/UA/UA1AOoXz0oLC5h7ppDvLV0D6fPFgHQqXkgkwd34Obo4Kteb33qQU1RD9QDqPkeVHXdNX75VuvWrQkLCyt3KLSoqIjly5c7wl1cXBxWq7XcmLS0NLZu3eoY07NnT7Kysvjxxx8dY9auXUtWVpZjjIiIXFyJ3fCv9Ue45ZXlvPTNdk6fLaJNsB9vjejKV4/dVKXwJyL1R7UcAczNzWXPnj2Or/fv38+mTZsICgqiZcuWjB8/nilTphAdHU10dDRTpkzB19eXESNGABAYGMiDDz7IxIkTadq0KUFBQTz55JN06tTJcVXwNddcw+DBg3nooYf461//CsDDDz/MkCFDdAWwiMglGGNYvCODlxftZNfxXADCArwZPzCaX8e1wEPTuYi4lGoJgD/99BP9+/d3fF123t2oUaOYM2cOTz31FPn5+Tz66KNkZmbSvXt3kpKS8Pf/303CX3vtNTw8PBg+fDj5+fkMGDCAOXPm4O7u7hjzt7/9jccff9xxtfDQoUMvOPegiIiU+nH/aaYt3Mn6g5kABPpYebRfW0b1aoW31f0SzxaRhqhaAmC/fv0wxlzwcYvFQmJiIomJiRcc4+3tzaxZs5g1a9YFxwQFBTF37tyqlCoi4jK2H8vm5UU7WZp6AgBvqxsP3NSa0X3bEujj2udnibg63QtYRKSBOXQqjxnJqfz752MYAx5uFn5zYySP3xJNSIC3s8sTkTpAAVBEpIHIyCngzSV7+GztIYrtpZ/K3N45gomDYmgV7Ofk6kSkLlEAFBGp57ILbLy3fB+zV+0n31Y6l1/fmGZMSmhPbPPLn8tPRFyHAqCISD1VYCvh09UHeWvZHs7kld4W6vrIxkwe3IGebZs6uToRqcsUAEVE6pniEjtfbDjKa4t3kZZVAEC7kEZMSmhP/LWhl7zLkoiIAqCISD1hjGHRtnReXpTK3hNnAQgP9OaJQTEM69Jcc/mJyGVTABQRqQdS9p5k2sJUfj58BoAmvlbG9G/HvT2iNJefiFwxBUARkTps69Espi3cycrdJwHw9XTndze35nd92hDgrbn8ROTqKACKiNRB+0+e5dWkVL7ZnAaA1d3CiBtb8tgt0TTz93JydSJS3ykAiojUIcezC3j9+918vu4wJXaDxQJ3Xt+cJwbG0LKpr7PLE5EGQgFQRKQOyMqz8e6KvXz0w34KbHYAbukQwqSE9lwTHuDk6kSkoVEAFBFxovyiEuakHOCdZXvILigGIC6qCZMHd+DG1kFOrk5EGioFQBERJ7CV2PnHT4d5ffFuMnIKAWgf6s+khPYMuCZEc/mJSI1SABQRqUV2u+HbrWm8mrSL/SdL5/Jr3tiHCYNiuLNLc9zdFPxEpOYpAIqI1AJjDKv2nGT6wlS2HM0CoKmfJ4/d0o4R3Vvi5aG5/ESk9igAiojUsJ8Pn2Hawp2k7D0FgJ+nOw/1acPverehkZd+DItI7dNPHhGRGrL3RC6vLErlu63pAHi6u3FvjyjG9G9L00aay09EnEcBUESkmqVl5TMzeTf/XH8YuwGLBYZ1acH4gdFEBmkuPxFxPgVAEZFqkplXxAc/7GFOygGKikvn8ht4TSiTEtrTPszfydWJiPyPAqCISBXlFRWTdMTCczNWkVtYOpffja2DmDy4A3FRTZxcnYhIRQqAIiJXqajYzrx1h3jj+92czHUHirkmPICnBrenX0wzzeUnInWWAqCIyBWy2w1fbz7Gq0m7OHQ6D4CmXoZnb7+OX3aNxE1z+YlIHacAKCJymYwxLNt1gukLU9mRlg1AcCMvHuvXGv8TWxnaOVzhT0TqBQVAEZHLsP5gJtMW7uTH/acB8PfyYHTfNjxwc2usFsO33251coUiIpdPAVBE5CJ2H89h+qJUkrcfB8DTw41RPaN4tF87mvh5AmCz2ZxZoojIFVMAFBGpxJHMPGYu3s0XG45gN+Bmgf+Li2TcwGgiGvs4uzwRkSpRABQROcep3ELeWrqXuWsOUlRSOpff4I5hPJkQQ7sQzeUnIg2DAqCICJBbWMwHK/fx/op9nC0qAaBnm6Y8Nbg9XVpqLj8RaVgUAEXEpRUWl/DZ2kO8uWQPp84WARDbPIDJgztwc7tgzeUnIg2SAqCIuKQSu+Hfm44yI3kXRzLzAWjV1JcnE9pzW6ymcxGRhk0BUERcijGGJTszeHlRKjvTcwAI8fdi/MAY/q9bC6zubk6uUESk5ikAiojLWHfgNNO+28lPBzMBCPD24Pf92nF/r1b4eLo7uToRkdqjACgiDd6OtGxeXpTKkp0ZAHh5uPHbm1rz+75tCfS1Ork6EZHapwAoIg3W4dN5zEjexZebjmIMuLtZuOuGSMYNiCY0wNvZ5YmIOI0CoIg0OCdyCnlr6R7+tvYgthIDwJDrwpkY357WwX5Ork5ExPkUAEWkwcgpsPH+yv18sHIfef+dy693dDBPJXSgU4tAJ1cnIlJ3KACKSL1XYCth7pqDvLV0D5l5pffl7RzZmMkJ7enVLtjJ1YmI1D0KgCJSb5XYDV9sOMLMxbs5eqZ0Lr82zfx4KqE9CR3DNImziMgFKACKSL1jjCFp+3FeWZTK7oxcAMICvBk/MJpfx7XAQ3P5iYhclAKgiNQrq/eeYtrCnWw6fAaAQB8rY/q35b6erfC2ai4/EZHLoQAoIvXC1qNZTF+UyopdJwDwsbrzwM2teLhPWwJ9NJefiMiVUAAUkTrtwMmzvJq8i69/PgaAh5uFu29sydgB7Qjx11x+IiJXQwFQROqkjOwCXv9+N5+vO0yxvXQuvzuuj2DCoBiimmouPxGRqlAAFJE6JSvfxl+X7+XDH/ZTYLMD0K99MyYltKdjhObyExGpDrVyqVxxcTH/7//9P1q3bo2Pjw9t2rThj3/8I3a73THGGENiYiIRERH4+PjQr18/tm3bVm49hYWFjB07luDgYPz8/Bg6dChHjhypjU0QkRpWYCvh3eV76TN9KW8v20uBzU7Xlo2Z93AP5vz2RoU/EZFqVCtHAKdNm8a7777Lxx9/TMeOHfnpp5/47W9/S2BgIOPGjQNg+vTpzJgxgzlz5hATE8Of/vQnBg0aRGpqKv7+/gCMHz+er7/+mnnz5tG0aVMmTpzIkCFDWL9+Pe7uuvpPpD4qLrHzr/Wlc/mlZxcAEBPaiEkJHRh4TYjm8hMRqQG1EgBXr17NHXfcwS9+8QsAWrVqxd///nd++uknoPTo38yZM3nuuecYNmwYAB9//DGhoaF89tlnjB49mqysLGbPns2nn37KwIEDAZg7dy6RkZEsXryYhISE2tgUEakmxhgWbk3n5aRU9p04C0Dzxj48MSiGX3Zpjrubgp+ISE2plQB488038+6777Jr1y5iYmL4+eefWbVqFTNnzgRg//79pKenEx8f73iOl5cXffv2JSUlhdGjR7N+/XpsNlu5MREREcTGxpKSklJpACwsLKSwsNDxdXZ2NgA2mw2bzValbSp7flXXU5+pB+oBXF0PUvae4pXk3Ww5Wvo92cTXyqP92nD3DZF4ebhhLynGXlIj5dYI7QfqAagHoB5A7fWgquuvlQA4efJksrKy6NChA+7u7pSUlPDnP/+Zu+++G4D09HQAQkNDyz0vNDSUgwcPOsZ4enrSpEmTCmPKnn++qVOn8uKLL1ZYnpSUhK+vb5W3CyA5Obla1lOfqQfqAVxeDw7nwteH3EjNKj392MvN0D/C0D88H+/MbXyftO0Sa6jbtB+oB6AegHoANd+DvLy8Kj2/VgLg559/zty5c/nss8/o2LEjmzZtYvz48URERDBq1CjHuPPP9THGXPL8n4uNeeaZZ5gwYYLj6+zsbCIjI4mPjycgIKAKW1SavJOTkxk0aBBWq2tOQqseqAdweT3Yf/Isry3ew3fbjgNgdbcw4sZIft+nNU0bedVmuTVC+4F6AOoBqAdQez0o+1TzatVKAJw0aRJPP/00v/nNbwDo1KkTBw8eZOrUqYwaNYqwsDCg9ChfeHi443kZGRmOo4JhYWEUFRWRmZlZ7ihgRkYGvXr1qvR1vby88PKq+MvFarVW25tSneuqr9QD9QAq70F6Vulcfv/46TAldoPFAr/s0pwnBsYQGVQ9R+HrEu0H6gGoB6AeQM33oKrrrpVpYPLy8nBzK/9S7u7ujmlgWrduTVhYWLnDpUVFRSxfvtwR7uLi4rBareXGpKWlsXXr1gsGQBFxjqw8G1O/20Hfl5fy9x8PUWI3DOgQwnfjejNj+PUNMvyJiNQntXIE8Pbbb+fPf/4zLVu2pGPHjmzcuJEZM2bwwAMPAKUf/Y4fP54pU6YQHR1NdHQ0U6ZMwdfXlxEjRgAQGBjIgw8+yMSJE2natClBQUE8+eSTdOrUyXFVsIg4V35RCR+l7OfdZXvJLigG4IZWTZg8uAPdWgU5uToRESlTKwFw1qxZPP/88zz66KNkZGQQERHB6NGj+cMf/uAY89RTT5Gfn8+jjz5KZmYm3bt3JykpyTEHIMBrr72Gh4cHw4cPJz8/nwEDBjBnzhzNASjiZCV2+OzHw7y1bB8ZOaVX3ncI8+epwe3p315z+YmI1DW1EgD9/f2ZOXOmY9qXylgsFhITE0lMTLzgGG9vb2bNmsWsWbOqv0gRuWJ2u+GbzWlM2eTOycIdALRo4sPE+BiGdtZcfiIidZXuBSwiV8wYw4rdJ5m+cCfbjmUDFpr6eTL2lnaM6B6Fp0etnF4sIiJXSQFQRK7IhkOZTF+4kzX7TgPg5+VO35Aipoy6mcaNfJxcnYiIXA4FQBG5LHsycnh5USqL/juXn6e7G/f2iOLh3lGsXb4YPy/9OBERqS/0E1tELuromXxmJu9i/oYj2A24WeBXXVswflAMzRv7uPQtn0RE6isFQBGp1OmzRby9dA+frDlIUXHpnJ3x14YyKaE90aH+l3i2iIjUZQqAIlLO2cJiPly1n/dW7COnsHQuv+6tg3hqcAfioppc4tkiIlIfKACKCABFxXb+/uMhZi3ZzcncIgCuDQ9g8q0d6BMdrLn8REQaEAVAERdntxv+/fNRZiTv4vDpfACimvoyMb49QzqF46a5/EREGhwFQBEXZYxhaWoG0xemsjM9B4Bm/l6MGxDNXTdEYnXXXH4iIg2VAqCIC/rpwGmmLdzJugOZAPh7e/BI37b89qZW+Hrqx4KISEOnn/QiLmRnejavLEpl8Y4MALw83Lj/plb8vm9bGvt6Ork6ERGpLQqAIi7g8Ok8Xlu8iwUbj2IMuLtZGN6tBY8PiCY8UHfvEBFxNQqAIg3YydxC3lyyh7+tPYitxABwW6cwJsa3p22zRk6uTkREnEUBUKQByimw8cHK/Xywch9ni0oAuKldU55K6EDnyMbOLU5ERJxOAVCkgTlw8iy/fnc1J3MLAejUPJDJgztwc3SwkysTEZG6QgFQpIH5YNU+TuYW0jLIl8mDO3BbpzBN4iwiIuUoAIo0IAW2Er7adAyAqcM6cVM7HfUTEZGKNNOrSAOyeMdxsguKiQj0pmebps4uR0RE6igFQJEG5F/rjwAwrGsL3cJNREQuSAFQpIE4nl3Ail0nAPhVXAsnVyMiInWZAqBIA7Fg41HsBrpFNaF1sJ+zyxERkTpMAVCkATDGOD7+/bWO/omIyCUoAIo0AD8fyWJPRi7eVjduuy7c2eWIiEgdpwAo0gD8a/1hAAZ3DCPA2+rkakREpK5TABSp586d++/XcZFOrkZEROoDBUCReq7c3H9tNfefiIhcmgKgSD137tx/7pr7T0RELoMCoEg9prn/RETkauhewCL11I60bF76Zrvm/hMRkSumAChSzxw+nceM5F18uekoxoC7m4Ux/ds5uywREalHFABF6okTOYW8tXQPf1t7EFuJAWDIdeFMjG+vo38iInJFFABF6ricAhvvr9jHB6v2k1dUAkDv6GCeSuhApxaBTq5ORETqIwVAkTqqwFbC3DUHeWvpHjLzbAB0bhHI5MEd6NUu2MnViYhIfaYAKFIHLdl5nP+3YCvHsgoAaNPMj6cS2pPQMQyLRVO9iIhI1SgAitQxOQU2xvxtI/m2EsIDvRk/MJpfdW2Bh7tmbRIRkeqhAChSx3y7JY18Wwltm/nxn8d74211d3ZJIiLSwOiQgkgdU3Znj1/HRSr8iYhIjVAAFKlDDpw8y7oDmbhZ4Jddmju7HBERaaAUAEXqkPkbSo/+9Y5uRligt5OrERGRhkoBUKSOsNsN8x0f/+q+viIiUnMUAEXqiNX7TnEsqwB/bw8GXRvq7HJERKQBUwAUqSPKLv4Y2jlCF3+IiEiNUgAUqQNyCmx8tzUN0Me/IiJS8xQAReqAb7ekUWCz07aZH9dHNnZ2OSIi0sDVWgA8evQo9957L02bNsXX15frr7+e9evXOx43xpCYmEhERAQ+Pj7069ePbdu2lVtHYWEhY8eOJTg4GD8/P4YOHcqRI0dqaxNEasy5c//pVm8iIlLTaiUAZmZmctNNN2G1Wvnuu+/Yvn07r776Ko0bN3aMmT59OjNmzODNN99k3bp1hIWFMWjQIHJychxjxo8fz4IFC5g3bx6rVq0iNzeXIUOGUFJSUhubIVIjNPefiIjUtlq5Fdy0adOIjIzko48+cixr1aqV4/+NMcycOZPnnnuOYcOGAfDxxx8TGhrKZ599xujRo8nKymL27Nl8+umnDBw4EIC5c+cSGRnJ4sWLSUhIqI1NEal2mvtPRERqW60cAfzqq6/o1q0b//d//0dISAhdunTh/fffdzy+f/9+0tPTiY+Pdyzz8vKib9++pKSkALB+/XpsNlu5MREREcTGxjrGiNQ3h07lnfPxry7+EBGR2lErRwD37dvHO++8w4QJE3j22Wf58ccfefzxx/Hy8uK+++4jPT0dgNDQ8nOfhYaGcvDgQQDS09Px9PSkSZMmFcaUPf98hYWFFBYWOr7Ozs4GwGazYbPZqrRNZc+v6nrqM/Xg6ntwIqeQt5fvY966IxTbDU39POkfHVQve6n9QD0A9QDUA1APoPZ6UNX110oAtNvtdOvWjSlTpgDQpUsXtm3bxjvvvMN9993nGHf+ye/GmEueEH+xMVOnTuXFF1+ssDwpKQlfX98r3YxKJScnV8t66jP14PJ7kF8MS465sSzNQpG9dL/tEGjnzlZ5fJ+8qCZLrHHaD9QDUA9APQD1AGq+B3l5eVV6fq0EwPDwcK699tpyy6655hrmz58PQFhYGFB6lC88PNwxJiMjw3FUMCwsjKKiIjIzM8sdBczIyKBXr16Vvu4zzzzDhAkTHF9nZ2cTGRlJfHw8AQEBVdomm81GcnIygwYNwmq1Vmld9ZV6cPk9KLSVMPfHw7y7fD9n8kv/auvcIpAnB0XTo01QbZVbI7QfqAegHoB6AOoB1F4Pyj7VvFq1EgBvuukmUlNTyy3btWsXUVFRALRu3ZqwsDCSk5Pp0qULAEVFRSxfvpxp06YBEBcXh9VqJTk5meHDhwOQlpbG1q1bmT59eqWv6+XlhZeXV4XlVqu12t6U6lxXfaUeXLgHxSV25m84wszFu0nLKgCgbTM/JiV0IKFjaIOa8kX7gXoA6gGoB6AeQM33oKrrrpUA+MQTT9CrVy+mTJnC8OHD+fHHH3nvvfd47733gNKPfsePH8+UKVOIjo4mOjqaKVOm4Ovry4gRIwAIDAzkwQcfZOLEiTRt2pSgoCCefPJJOnXq5LgqWKSuMMawaFs6Ly9KZe+JswCEB3rzxMAYhnVtjoe75mAXERHnqZUAeMMNN7BgwQKeeeYZ/vjHP9K6dWtmzpzJPffc4xjz1FNPkZ+fz6OPPkpmZibdu3cnKSkJf39/x5jXXnsNDw8Phg8fTn5+PgMGDGDOnDm4u+u+qVK3/POnIzw1fzMAjX2tPNa/Hff2iNI9fkVEpE6olQAIMGTIEIYMGXLBxy0WC4mJiSQmJl5wjLe3N7NmzWLWrFk1UKFI9fko5QAAv7khkmd/cQ0B3q79UYiIiNQt+hxKpJptO5bFjrRsPN3dePrWDgp/IiJS5ygAilSzsomdB10bSmNfTydXIyIiUpECoEg1Kiq28+9NxwDd2UNEROouBUCRarQ0NYPTZ4to5u9F7+hgZ5cjIiJSKQVAkWpU9vHvsC6a6kVEROou/YYSqSYncwtZujMDgF/p418REanDFABFqsm/Nx2j2G7o3CKQmFD/Sz9BRETESRQARapJ2ce/uvhDRETqOgVAkWqwPS3bMfff7Z0jnF2OiIjIRSkAilSDLzaWTv2iuf9ERKQ+qLVbwYk0VMV2+GpLGqCPf0VEpH7QEUCRKtqWaSEzz6a5/0REpN7QEUCRq5SVb+PdpbuZu6f07yjN/SciIvWFAqDIFSqwlfBxygHeXraXrHwbYKFry8aM7tvW2aWJiIhcFgVAkctUXGLnX+uPMHPxbtKzCwBo18yPfkHZPHXPDXh66uIPERGpHxQARS7BGMN3W9N5JSmVfSfOAtC8sQ9PDIphSGwIixZ+h8VicXKVIiIil08BUOQifthzkmkLd7L5SBYATXytjOnfjnt7ROFtdcdmszm5QhERkSunAChSCWMMj8/bxNc/l87v5+vpzu96t+Gh3q3x97Y6uToREZGqUQAUqcS6A5l8/fMxPNws3NsjisduaUdwIy9nlyUiIlItFABFKvGv9YcBGNa1OYlDOzq5GhERkeqlSctEzpNXVMx/Npfd2SPSydWIiIhUPwVAkfMs3JrO2aISWgb5ckOrJs4uR0REpNopAIqc51/rjwCl9/XV9C4iItIQKQCKnONIZh4pe08Bpef/iYiINEQKgCLn+GLDUQB6tW1Kiya+Tq5GRESkZigAivyXMabcx78iIiINlQKgyH+tO5DJodN5+Hm6Mzg2zNnliIiI1BgFQJH/Kpv77xfXhePrqSkyRUSk4VIAFEFz/4mIiGtRABQBFm3T3H8iIuI6FABF0Nx/IiLiWnSik7i0/KISPl59QHP/iYiIS1EAFJdUXGLnHz8d4fXvd3E8uxCAO66P0Nx/IiLiEhQAxaXY7YbvtqbzalIq+06eBaB5Yx8mDIrhzi46+iciIq5BAVBcxsrdJ5i+MJUtR7MAaOrnyWO3tGNE95Z4ebg7uToREZHaowAoDd7Ph88wfdFOfthTep6fn6c7v+vdhof6tKGRl74FRETE9ei3nzRYezJyeTUple+2pgPg6e7GPT1aMqZ/O4IbeTm5OhEREedRAJQGJy0rn9cX7+YfPx3GbsBigWFdWjB+YDSRQbrIQ0RERAFQGowzeUW8s2wvc1IOUFhsB2DgNSFMSuhA+zB/J1cnIiJSdygASoPw7ZY0Js/fTE5BMQA3tgpi8q3tiYsKcnJlIiIidY8CoNR7RcV2nluwhZyCYq4JD+Cpwe3pF9NMd/QQERG5AAVAqfeW7MwgM89GiL8XXz92Ex7uusOhiIjIxeg3pdR7Zffx/WXX5gp/IiIil0G/LaVeO5FTyNLUDAB+3bWFk6sRERGpHxQApV7796ajlNgNnSMbEx2qK31FREQuh1MC4NSpU7FYLIwfP96xzBhDYmIiERER+Pj40K9fP7Zt21bueYWFhYwdO5bg4GD8/PwYOnQoR44cqeXqpS4p+/j313E6+iciInK5aj0Arlu3jvfee4/rrruu3PLp06czY8YM3nzzTdatW0dYWBiDBg0iJyfHMWb8+PEsWLCAefPmsWrVKnJzcxkyZAglJSW1vRlSB2w7lsXO9Bw83d0Yel2Es8sRERGpN2o1AObm5nLPPffw/vvv06RJE8dyYwwzZ87kueeeY9iwYcTGxvLxxx+Tl5fHZ599BkBWVhazZ8/m1VdfZeDAgXTp0oW5c+eyZcsWFi9eXJubIXVE2dG/QR1DCfS1OrkaERGR+qNWp4EZM2YMv/jFLxg4cCB/+tOfHMv3799Peno68fHxjmVeXl707duXlJQURo8ezfr167HZbOXGREREEBsbS0pKCgkJCRVer7CwkMLCQsfX2dnZANhsNmw2W5W2pez5VV1PfebMHhQV2/ly41EAftk5zGnvg/YD9QDUA1APQD0A9QBqrwdVXX+tBcB58+axYcMG1q1bV+Gx9PR0AEJDQ8stDw0N5eDBg44xnp6e5Y4clo0pe/75pk6dyosvvlhheVJSEr6+1XNP2OTk5GpZT33mjB5sPm0hM8+dAKshe/c6vt1T6yWUo/1APQD1ANQDUA9APYCa70FeXl6Vnl8rAfDw4cOMGzeOpKQkvL29Lzju/Ds3GGMueTeHi4155plnmDBhguPr7OxsIiMjiY+PJyAg4Aq2oCKbzUZycjKDBg3CanXNjx+d2YOv/7YROMFd3Vtze0JMrb72ubQfqAegHoB6AOoBqAdQez0o+1TzatVKAFy/fj0ZGRnExcU5lpWUlLBixQrefPNNUlNTgdKjfOHh4Y4xGRkZjqOCYWFhFBUVkZmZWe4oYEZGBr169ar0db28vPDy8qqw3Gq1VtubUp3rqq9quwcncwtZtuskAMNvaFkn+q/9QD0A9QDUA1APQD2Amu9BVdddKxeBDBgwgC1btrBp0ybHv27dunHPPfewadMm2rRpQ1hYWLnDpUVFRSxfvtwR7uLi4rBareXGpKWlsXXr1gsGQGmY/r3pGMWa+09EROSq1coRQH9/f2JjY8st8/Pzo2nTpo7l48ePZ8qUKURHRxMdHc2UKVPw9fVlxIgRAAQGBvLggw8yceJEmjZtSlBQEE8++SSdOnVi4MCBtbEZUgdsOnyGOSn7Ac39JyIicrVq9Srgi3nqqafIz8/n0UcfJTMzk+7du5OUlIS///+O8Lz22mt4eHgwfPhw8vPzGTBgAHPmzMHd3d2JlUtt2JORwyuLdrFwW+kFP8GNPDX3n4iIyFVyWgBctmxZua8tFguJiYkkJiZe8Dne3t7MmjWLWbNm1WxxUmccO5PPzMW7+Nf6I9gNuFlgWNcWPDEoRnP/iYiIXKU6cwRQ5FyZZ4t4a+kePllzkKJiOwDx14byZEJ7YnTen4iISJUoAEqdcrawmA9X7ee9FfvIKSwG4MbWQUwe3IG4qCaXeLaIiIhcDgVAqROMMfxt7SFmLt7NydzSu7dcGx7AU4Pb0zem2SXngxQREZHLpwAodcLXm9P4f19uBSCqqS8T49szpFM4bm4KfiIiItVNAVDqhL+vPQTAvT1a8sLtHbG618oUlSIiIi5Jv2XF6Q6fzmP1vlNYLPD7fu0U/kRERGqYftOK0y3YeBSAXm2b0ryxj5OrERERafgUAMWpjDH8a/0RQHf2EBERqS0KgOJU6w5kcuh0Ho28PEjoGObsckRERFyCAqA41b/WHwbgF53C8fXUNUkiIiK1QQFQnCavqJj/bE4D4Nfd9PGviIhIbVEAFKdZuDWds0UlRDX1pZvu8iEiIlJrFADFaRwXf3RtoTt9iIiI1CIFQHGKI5l5pOwtnftvmK7+FRERqVUKgOIUX2zQ3H8iIiLOogAotU5z/4mIiDiXAqDUuuW7TmjuPxERESfSxGtSa46eyWdm8i7mbyg9+qe5/0RERJxDv32lxp0+W8RbS/fw6eqDFJXYAUjoGMrTt3ZwcmUiIiKuSQFQaszZwmI+WLmf91fuI7ewGIAebYKYPLgDXVpq3j8RERFnUQCUaldUbOeztQeZtWQPp84WAdAxIoDJgzvQOzpYc/6JiIg4mQKgVJsSu+Grn4/yatIujmTmA9CqqS8T4tszpFM4bm4KfiIiInWBAqBUmzF/28DCbekAhPh7MW5gNMO7RWJ118XmIiIidYkCoFSLXcdzWLgtHQ83CxPiY/htr9b4eLo7uywRERGphAKgVIv5/53Y+ZYOITzar52TqxEREZGL0WdzUmXFJXa+2Fh6azfd2UNERKTuUwCUKlu19xQncgpp6udJ/w4hzi5HRERELkEBUKrsiw3HALjj+ua64ENERKQe0G9rqZKzNli8MwPQx78iIiL1hQKgVMmGUxZsJYZrwwO4NiLA2eWIiIjIZVAAlCr5MaN0F9LRPxERkfpDAVCu2u7juRw6a8HDzcId10c4uxwRERG5TAqActW+2FR68Uf/9s1o2sjLydWIiIjI5VIAlKtSXGLn3/8NgMO66OifiIhIfaIAKFdl5e6TnMgtopGHoW9MsLPLERERkSugAChX5V//vfVbXDOjuf9ERETqGd0LWK7IydxC3lq6h4Xb0gHo3szu5IpERETkSikAymXJLSzm/RX7+GDlPs4WlQBwR+dwmvsednJlIiIicqUUAOWiCotL+NuaQ7y5dA+nzxYBENs8gMmDO9A9KpDvvlMAFBERqW8UAKVSJXbDlxuPMiN5F0fP5APQOtiPJ+Pbc2tsGG5uFmw2m5OrFBERkauhACjlGGP4fkcGLy9KJfV4DgChAV48PiCa4d0idcGHiIhIA6AAKA4ZOQU8OncDPx3MBCDA24NH+7djVM9W+Hi6O7k6ERERqS4KgOLw+uLd/HQwE2+rGw/c1JrRfdoS6Gt1dlkiIiJSzRQABYACWwlf/Vx6Z4/37+tG7+hmTq5IREREakqtnNA1depUbrjhBvz9/QkJCeHOO+8kNTW13BhjDImJiURERODj40O/fv3Ytm1buTGFhYWMHTuW4OBg/Pz8GDp0KEeOHKmNTWjwkrcfJ6egmOaNfbipre7sISIi0pDVSgBcvnw5Y8aMYc2aNSQnJ1NcXEx8fDxnz551jJk+fTozZszgzTffZN26dYSFhTFo0CBycnIcY8aPH8+CBQuYN28eq1atIjc3lyFDhlBSUlIbm9Ggld3Z41ddm+PmZnFyNSIiIlKTauUj4IULF5b7+qOPPiIkJIT169fTp08fjDHMnDmT5557jmHDhgHw8ccfExoaymeffcbo0aPJyspi9uzZfPrppwwcOBCAuXPnEhkZyeLFi0lISKiNTWmQ0rMKWLn7BAC/imvh5GpERESkpjllTo+srCwAgoKCANi/fz/p6enEx8c7xnh5edG3b19SUlIAWL9+PTabrdyYiIgIYmNjHWPk6izYeBS7gRtbBRHV1M/Z5YiIiEgNq/WLQIwxTJgwgZtvvpnY2FgA0tNL7ysbGhpabmxoaCgHDx50jPH09KRJkyYVxpQ9/3yFhYUUFhY6vs7OzgbAZrNVeRLjsufX98mQjTH886fSu3nceX34FW1PQ+lBVagH6gGoB6AegHoA6gHUXg+quv5aD4CPPfYYmzdvZtWqVRUes1jKn3tmjKmw7HwXGzN16lRefPHFCsuTkpLw9fW9gqovLDk5uVrW4ywHcmDfSQ883Qzux37m2+M/X/E66nsPqoN6oB6AegDqAagHoB5AzfcgLy+vSs+v1QA4duxYvvrqK1asWEGLFv871ywsLAwoPcoXHh7uWJ6RkeE4KhgWFkZRURGZmZnljgJmZGTQq1evSl/vmWeeYcKECY6vs7OziYyMJD4+noCAgCpti81mIzk5mUGDBmG11t+58v7w1XbgCLd1imDY7Z2u6LkNpQdVoR6oB6AegHoA6gGoB1B7PSj7VPNq1UoANMYwduxYFixYwLJly2jdunW5x1u3bk1YWBjJycl06dIFgKKiIpYvX860adMAiIuLw2q1kpyczPDhwwFIS0tj69atTJ8+vdLX9fLywsvLq8Jyq9VabW9Kda6rthXYSvhmS+nH58NvaHnV21Gfe1Bd1AP1ANQDUA9APQD1AGq+B1Vdd60EwDFjxvDZZ5/x73//G39/f8c5e4GBgfj4+GCxWBg/fjxTpkwhOjqa6OhopkyZgq+vLyNGjHCMffDBB5k4cSJNmzYlKCiIJ598kk6dOjmuCpYrc+7cfz3aNHV2OSIiIlJLaiUAvvPOOwD069ev3PKPPvqI+++/H4CnnnqK/Px8Hn30UTIzM+nevTtJSUn4+/s7xr/22mt4eHgwfPhw8vPzGTBgAHPmzMHdXfepvRplc/8N09x/IiIiLqXWPgK+FIvFQmJiIomJiRcc4+3tzaxZs5g1a1Y1Vueays3911Vz/4mIiLgSp8wDKM6VU2DjlaRU7AZuaNWEVsGa+09ERMSV1Po0MOI8BbYS5q45yFtL95CZVzp/0MierZxblIiIiNQ6BUAXUGI3fLHhCDMX7+bomXwA2jTzY1J8e27tFH6JZ4uIiEhDowDYgBljSN5+nFeSUtl1PBeAsABvxg+M5tdxLfBw1xkAIiIirkgBsIFau+8U0xbuZMOhMwAE+lh5tF9bRvVqhbdVV02LiIi4MgXABmbX8RymfLuDZamlV/j6WN154OZWPNynLYE+rj0pp4iIiJRSAGxAsgts/N+7q8nKt+HhZuHuG1sy9pZ2hAR4O7s0ERERqUMUABuQ/2xOIyvfRlRTXz7+7Y2a3kVEREQqpasAGpCyO3uMuLGlwp+IiIhckAJgA7HvRC7rD2biZoFfdmnu7HJERESkDlMAbCC+2HAUgL4xzXTOn4iIiFyUAmADUGI3zN9Q+vHvr+MinVyNiIiI1HUKgA3A6r2nSMsqINDHyoBrQpxdjoiIiNRxCoANwL/WHwZgaOcITfIsIiIil6QAWM9lF9hYuC0dgF/HtXByNSIiIlIfKADWc99uTqPAZqddSCOuaxHo7HJERESkHlAArOfK5v77dVwLLBaLk6sRERGR+kABsB7bf/IsP2nuPxEREblCCoD12Pz/Hv3rE9OMUM39JyIiIpdJAbCeKrCV8MWG/338KyIiInK5PJxdgFyZ4hI7X2w4ymuLd5GWVUCAtwcDrwl1dlkiIiJSjygA1hPGGBZtO84rSansycgFIDzQmynDOmnuPxEREbkiCoD1wOq9p5i2cCebDp8BoLGvlTH92jGyZ5TCn4iIiFwxBcA6bOvRLKYvSmXFrhMA+Fjd+V3v1jzUpw0B3lYnVyciIiL1lQJgHXTg5FleTd7F1z8fA8DDzcKI7i157JZ2hPjral8RERGpGgXAOiQju4A3luxm3o+HKbYbLBa4o3MEEwa1p2VTX2eXJyIiIg2EAmAdkJVv46/L9/LhD/spsNkBuKVDCE/Gt+faiAAnVyciIiINjQKgExXYSvg45QBvL9tLVr4NgLioJjyV0J7ubZo6uToRERFpqBQAnWjiP3/mP5vTAIgJbcRTCR0YcE2I7ukrIiIiNUoB0EnSswr4bktp+Jv+q+v4VVwL3N0U/ERERKTmKQA6yRcbj2A3cGPrIIbfEOnsckRERMSF6F7ATmCM4V/rdR9fERERcQ4FQCfYePgM+06cxcfqzm2dwp1djoiIiLgYBUAnKDv6d2tsGI289Cm8iIiI1C4FwFpWYCtx3OFDH/+KiIiIMygA1rKk7cfJKSimeWMfemiuPxEREXECBcBaVvbx76+6NsdN076IiIiIEygA1qL0rAJW7T4BwK/08a+IiIg4iQJgLXLM/dcqiKimfs4uR0RERFyUAmAt0dx/IiIiUlcoANaScnP/Xae5/0RERMR5FABryT9/0tx/IiIiUjcoidSwfSdyeTVpF//Zkgbo418RERFxPgXAambsdvILTpORXcDslUdZsPEoJXaDrwV+060lPVp4Q9FZZ5dZPWw23EsKS7fHWJ1djXOoB+oBqAegHoB6AOoB/K8Hxji7kouyGFPHKzzP22+/zcsvv0xaWhodO3Zk5syZ9O7d+7Kem52dTWBgIFlZWQQEBFSpDpvNxrfffsttt92G1fq/nTz9ZBqD/hMPwNoDh/GtX+0VERGRamCbdBCrX+MaW39VM029Ogfw888/Z/z48Tz33HNs3LiR3r17c+utt3Lo0CFnl+aQejzH2SWIiIiIXFS9+gh4xowZPPjgg/zud78DYObMmSxatIh33nmHqVOnOrm6UjdEN4efSv/fPLkbrL7OLagG2Ww2Fi1KIiEhvtxRUFeiHqgHoB6AegDqAagHcE4P6vjv/3oTAIuKili/fj1PP/10ueXx8fGkpKQ4qapKWP53ezeLp1+DDoBYbJS4e4GnH7joN7p6gHoA6gGoB6AegHoA/+uBpW7f7rXeBMCTJ09SUlJCaGhoueWhoaGkp6dX+pzCwkIKCwsdX2dnZwOl6dxms1WpnrLnn7+e4uLicv9vo2qvU5ddqAeuRD1QD0A9APUA1ANQD6D2elDV9debAFjGcl6iNsZUWFZm6tSpvPjiixWWJyUl4etbPUfmkpOTy31dZIoc/79o0SI8LZ7V8jp12fk9cEXqgXoA6gGoB6AegHoANd+DvLy8Kj2/3gTA4OBg3N3dKxzty8jIqHBUsMwzzzzDhAkTHF9nZ2cTGRlJfHx8tVwFnJyczKBBg8qd52CMIaEkAQBvd+8LhtOG4EI9cCXqgXoA6gGoB6AegHoAtdeDsk81r1a9CYCenp7ExcWRnJzML3/5S8fy5ORk7rjjjkqf4+XlhZeXV4XlVqu12t6UytblScM/6neu6uxnfaUeqAegHoB6AOoBqAdQ8z2o6rrrTQAEmDBhAiNHjqRbt2707NmT9957j0OHDvHII484uzQRERGReqNeBcC77rqLU6dO8cc//pG0tDRiY2P59ttviYqKcnZpIiIiIvVGvQqAAI8++iiPPvqos8sQERERqbfq1Z1ARERERKTqFABFREREXIwCoIiIiIiLUQAUERERcTEKgCIiIiIuRgFQRERExMUoAIqIiIi4GAVAERERERejACgiIiLiYhQARURERFyMAqCIiIiIi1EAFBEREXExHs4uoDYZYwDIzs6u8rpsNht5eXlkZ2djtVqrvL76SD1QD0A9APUA1ANQD0A9gNrrQVmWKcs2V8qlAmBOTg4AkZGRTq5EREREpOpycnIIDAy84udZzNVGx3rIbrdz7Ngx/P39sVgsVVpXdnY2kZGRHD58mICAgGqqsH5RD9QDUA9APQD1ANQDUA+g9npgjCEnJ4eIiAjc3K78jD6XOgLo5uZGixYtqnWdAQEBLruTl1EP1ANQD0A9APUA1ANQD6B2enA1R/7K6CIQERERERejACgiIiLiYhQAr5KXlxcvvPACXl5ezi7FadQD9QDUA1APQD0A9QDUA6g/PXCpi0BEREREREcARURERFyOAqCIiIiIi1EAFBEREXExCoAiIiIiLkYB8Cq9/fbbtG7dGm9vb+Li4li5cqWzS6oWiYmJWCyWcv/CwsIcjxtjSExMJCIiAh8fH/r168e2bdvKraOwsJCxY8cSHByMn58fQ4cO5ciRI7W9KZdtxYoV3H777URERGCxWPjyyy/LPV5d25yZmcnIkSMJDAwkMDCQkSNHcubMmRreustzqR7cf//9FfaLHj16lBtT33swdepUbrjhBvz9/QkJCeHOO+8kNTW13JiGvi9cTg8a+r7wzjvvcN111zkm8e3Zsyffffed4/GGvg/ApXvQ0PeB802dOhWLxcL48eMdyxrEfmDkis2bN89YrVbz/vvvm+3bt5tx48YZPz8/c/DgQWeXVmUvvPCC6dixo0lLS3P8y8jIcDz+l7/8xfj7+5v58+ebLVu2mLvuusuEh4eb7Oxsx5hHHnnENG/e3CQnJ5sNGzaY/v37m86dO5vi4mJnbNIlffvtt+a5554z8+fPN4BZsGBBucera5sHDx5sYmNjTUpKiklJSTGxsbFmyJAhtbWZF3WpHowaNcoMHjy43H5x6tSpcmPqew8SEhLMRx99ZLZu3Wo2bdpkfvGLX5iWLVua3Nxcx5iGvi9cTg8a+r7w1Vdfmf/85z8mNTXVpKammmeffdZYrVazdetWY0zD3weMuXQPGvo+cK4ff/zRtGrVylx33XVm3LhxjuUNYT9QALwKN954o3nkkUfKLevQoYN5+umnnVRR9XnhhRdM586dK33MbrebsLAw85e//MWxrKCgwAQGBpp3333XGGPMmTNnjNVqNfPmzXOMOXr0qHFzczMLFy6s0dqrw/nhp7q2efv27QYwa9ascYxZvXq1AczOnTtreKuuzIUC4B133HHB5zS0HhhjTEZGhgHM8uXLjTGuuS+c3wNjXHNfaNKkifnggw9cch8oU9YDY1xnH8jJyTHR0dEmOTnZ9O3b1xEAG8p+oI+Ar1BRURHr168nPj6+3PL4+HhSUlKcVFX12r17NxEREbRu3Zrf/OY37Nu3D4D9+/eTnp5ebtu9vLzo27evY9vXr1+PzWYrNyYiIoLY2Nh62Z/q2ubVq1cTGBhI9+7dHWN69OhBYGBgvenLsmXLCAkJISYmhoceeoiMjAzHYw2xB1lZWQAEBQUBrrkvnN+DMq6yL5SUlDBv3jzOnj1Lz549XXIfOL8HZVxhHxgzZgy/+MUvGDhwYLnlDWU/8KjxV2hgTp48SUlJCaGhoeWWh4aGkp6e7qSqqk/37t355JNPiImJ4fjx4/zpT3+iV69ebNu2zbF9lW37wYMHAUhPT8fT05MmTZpUGFMf+1Nd25yenk5ISEiF9YeEhNSLvtx666383//9H1FRUezfv5/nn3+eW265hfXr1+Pl5dXgemCMYcKECdx8883ExsYCrrcvVNYDcI19YcuWLfTs2ZOCggIaNWrEggULuPbaax2/lF1hH7hQD8A19oF58+axYcMG1q1bV+GxhvKzQAHwKlkslnJfG2MqLKuPbr31Vsf/d+rUiZ49e9K2bVs+/vhjx0m+V7Pt9b0/1bHNlY2vL3256667HP8fGxtLt27diIqK4j//+Q/Dhg274PPqaw8ee+wxNm/ezKpVqyo85ir7woV64Ar7Qvv27dm0aRNnzpxh/vz5jBo1iuXLlzsed4V94EI9uPbaaxv8PnD48GHGjRtHUlIS3t7eFxxX3/cDfQR8hYKDg3F3d6+QzjMyMir8NdAQ+Pn50alTJ3bv3u24Gvhi2x4WFkZRURGZmZkXHFOfVNc2h4WFcfz48QrrP3HiRL3sS3h4OFFRUezevRtoWD0YO3YsX331FUuXLqVFixaO5a60L1yoB5VpiPuCp6cn7dq1o1u3bkydOpXOnTvz+uuvu9Q+cKEeVKah7QPr168nIyODuLg4PDw88PDwYPny5bzxxht4eHg46qvv+4EC4BXy9PQkLi6O5OTkcsuTk5Pp1auXk6qqOYWFhezYsYPw8HBat25NWFhYuW0vKipi+fLljm2Pi4vDarWWG5OWlsbWrVvrZX+qa5t79uxJVlYWP/74o2PM2rVrycrKqpd9OXXqFIcPHyY8PBxoGD0wxvDYY4/xxRdfsGTJElq3bl3ucVfYFy7Vg8o0xH3hfMYYCgsLXWIfuJCyHlSmoe0DAwYMYMuWLWzatMnxr1u3btxzzz1s2rSJNm3aNIz9oMYvM2mAyqaBmT17ttm+fbsZP3688fPzMwcOHHB2aVU2ceJEs2zZMrNv3z6zZs0aM2TIEOPv7+/Ytr/85S8mMDDQfPHFF2bLli3m7rvvrvTS9xYtWpjFixebDRs2mFtuuaVOTwOTk5NjNm7caDZu3GgAM2PGDLNx40bHtD7Vtc2DBw821113nVm9erVZvXq16dSpU52Z8uBiPcjJyTETJ040KSkpZv/+/Wbp0qWmZ8+epnnz5g2qB7///e9NYGCgWbZsWbnpLfLy8hxjGvq+cKkeuMK+8Mwzz5gVK1aY/fv3m82bN5tnn33WuLm5maSkJGNMw98HjLl4D1xhH6jMuVcBG9Mw9gMFwKv01ltvmaioKOPp6Wm6du1abpqE+qxsLiOr1WoiIiLMsGHDzLZt2xyP2+1288ILL5iwsDDj5eVl+vTpY7Zs2VJuHfn5+eaxxx4zQUFBxsfHxwwZMsQcOnSotjflsi1dutQAFf6NGjXKGFN923zq1Clzzz33GH9/f+Pv72/uuecek5mZWUtbeXEX60FeXp6Jj483zZo1M1ar1bRs2dKMGjWqwvbV9x5Utv2A+eijjxxjGvq+cKkeuMK+8MADDzh+tjdr1swMGDDAEf6Mafj7gDEX74Er7AOVOT8ANoT9wGKMMTV/nFFERERE6gqdAygiIiLiYhQARURERFyMAqCIiIiIi1EAFBEREXExCoAiIiIiLkYBUERERMTFKACKiIiIuBgFQBEREREXowAoIiIi4mIUAEVERERcjAKgiIiIiItRABQRERFxMQqAIiIiIi5GAVBERETExSgAioiIiLgYBUARERERF6MAKCIiIuJi/j9gXdJ+1KW/+gAAAABJRU5ErkJggg==' width=640.0/>\n",
       "            </div>\n",
       "        "
      ],
      "text/plain": [
       "Canvas(toolbar=Toolbar(toolitems=[('Home', 'Reset original view', 'home', 'home'), ('Back', 'Back to previous …"
      ]
     },
     "metadata": {},
     "output_type": "display_data"
    }
   ],
   "source": [
    "\n",
    "wf = WrappedFunction1D(get, 50, 4000, \n",
    "                       ref_price=(40, 140),\n",
    "                       new_price=(40, 140))"
   ]
  },
  {
   "cell_type": "code",
   "execution_count": 6,
   "metadata": {},
   "outputs": [
    {
     "data": {
      "application/vnd.jupyter.widget-view+json": {
       "model_id": "534bbcab04294cdbae2e6b32ca6454a6",
       "version_major": 2,
       "version_minor": 0
      },
      "text/plain": [
       "HBox(children=(Output(), VBox(children=(QuantityTextSlider(value=<Quantity : 40 >, children=(QuantitySlider(va…"
      ]
     },
     "metadata": {},
     "output_type": "display_data"
    },
    {
     "data": {
      "text/plain": []
     },
     "execution_count": 6,
     "metadata": {},
     "output_type": "execute_result"
    }
   ],
   "source": [
    "wf"
   ]
  },
  {
   "cell_type": "code",
   "execution_count": 7,
   "metadata": {
    "lines_to_next_cell": 2
   },
   "outputs": [
    {
     "ename": "DimensionError",
     "evalue": "Dimension error : dimensions of operands are T and no-dimension, and are differents.",
     "output_type": "error",
     "traceback": [
      "\u001b[0;31m---------------------------------------------------------------------------\u001b[0m",
      "\u001b[0;31mDimensionError\u001b[0m                            Traceback (most recent call last)",
      "\u001b[0;32m/var/folders/5k/bf4syt7x1zjbhc6b28srzzym0000gn/T/ipykernel_18756/2837299036.py\u001b[0m in \u001b[0;36m<module>\u001b[0;34m\u001b[0m\n\u001b[0;32m----> 1\u001b[0;31m \u001b[0mp\u001b[0m \u001b[0;34m=\u001b[0m \u001b[0mwf\u001b[0m\u001b[0;34m.\u001b[0m\u001b[0madd_integral\u001b[0m\u001b[0;34m(\u001b[0m\u001b[0;36m1\u001b[0m\u001b[0;34m*\u001b[0m\u001b[0ms\u001b[0m\u001b[0;34m,\u001b[0m \u001b[0;36m5\u001b[0m\u001b[0;34m*\u001b[0m\u001b[0ms\u001b[0m\u001b[0;34m)\u001b[0m\u001b[0;34m\u001b[0m\u001b[0;34m\u001b[0m\u001b[0m\n\u001b[0m",
      "\u001b[0;32m/var/folders/5k/bf4syt7x1zjbhc6b28srzzym0000gn/T/ipykernel_18756/1059734240.py\u001b[0m in \u001b[0;36madd_integral\u001b[0;34m(self, ximin, ximax)\u001b[0m\n\u001b[1;32m    143\u001b[0m         \u001b[0margs\u001b[0m \u001b[0;34m=\u001b[0m \u001b[0mtuple\u001b[0m\u001b[0;34m(\u001b[0m\u001b[0;34m(\u001b[0m\u001b[0mv\u001b[0m \u001b[0;32mfor\u001b[0m \u001b[0mv\u001b[0m \u001b[0;32min\u001b[0m \u001b[0mself\u001b[0m\u001b[0;34m.\u001b[0m\u001b[0mget_pvalues\u001b[0m\u001b[0;34m(\u001b[0m\u001b[0;34m)\u001b[0m\u001b[0;34m.\u001b[0m\u001b[0mvalues\u001b[0m\u001b[0;34m(\u001b[0m\u001b[0;34m)\u001b[0m\u001b[0;34m)\u001b[0m\u001b[0;34m)\u001b[0m\u001b[0;34m\u001b[0m\u001b[0;34m\u001b[0m\u001b[0m\n\u001b[1;32m    144\u001b[0m         \u001b[0mfunc\u001b[0m \u001b[0;34m=\u001b[0m \u001b[0mself\u001b[0m\u001b[0;34m.\u001b[0m\u001b[0mfunc\u001b[0m\u001b[0;34m\u001b[0m\u001b[0;34m\u001b[0m\u001b[0m\n\u001b[0;32m--> 145\u001b[0;31m         \u001b[0minteg\u001b[0m\u001b[0;34m,\u001b[0m \u001b[0mprec\u001b[0m \u001b[0;34m=\u001b[0m \u001b[0mquad\u001b[0m\u001b[0;34m(\u001b[0m\u001b[0mfunc\u001b[0m\u001b[0;34m,\u001b[0m \u001b[0mximin\u001b[0m\u001b[0;34m,\u001b[0m \u001b[0mximax\u001b[0m\u001b[0;34m,\u001b[0m \u001b[0margs\u001b[0m\u001b[0;34m=\u001b[0m\u001b[0margs\u001b[0m\u001b[0;34m)\u001b[0m\u001b[0;34m\u001b[0m\u001b[0;34m\u001b[0m\u001b[0m\n\u001b[0m\u001b[1;32m    146\u001b[0m \u001b[0;34m\u001b[0m\u001b[0m\n\u001b[1;32m    147\u001b[0m \u001b[0;34m\u001b[0m\u001b[0m\n",
      "\u001b[0;32m~/MYLIB10/MODULES/physipy/physipy/integrate.py\u001b[0m in \u001b[0;36mquad\u001b[0;34m(func, x0, x1, args, *oargs, **kwargs)\u001b[0m\n\u001b[1;32m     23\u001b[0m \u001b[0;34m\u001b[0m\u001b[0m\n\u001b[1;32m     24\u001b[0m     \u001b[0;31m# Get output dimension\u001b[0m\u001b[0;34m\u001b[0m\u001b[0;34m\u001b[0m\u001b[0m\n\u001b[0;32m---> 25\u001b[0;31m     \u001b[0mres\u001b[0m \u001b[0;34m=\u001b[0m \u001b[0mfunc\u001b[0m\u001b[0;34m(\u001b[0m\u001b[0mx0\u001b[0m\u001b[0;34m,\u001b[0m \u001b[0;34m*\u001b[0m\u001b[0margs\u001b[0m\u001b[0;34m)\u001b[0m\u001b[0;34m\u001b[0m\u001b[0;34m\u001b[0m\u001b[0m\n\u001b[0m\u001b[1;32m     26\u001b[0m     \u001b[0mres\u001b[0m \u001b[0;34m=\u001b[0m \u001b[0mquantify\u001b[0m\u001b[0;34m(\u001b[0m\u001b[0mres\u001b[0m\u001b[0;34m)\u001b[0m\u001b[0;34m\u001b[0m\u001b[0;34m\u001b[0m\u001b[0m\n\u001b[1;32m     27\u001b[0m     \u001b[0mres_dim\u001b[0m \u001b[0;34m=\u001b[0m \u001b[0mres\u001b[0m\u001b[0;34m.\u001b[0m\u001b[0mdimension\u001b[0m\u001b[0;34m\u001b[0m\u001b[0;34m\u001b[0m\u001b[0m\n",
      "\u001b[0;32m/var/folders/5k/bf4syt7x1zjbhc6b28srzzym0000gn/T/ipykernel_18756/2556419977.py\u001b[0m in \u001b[0;36mget\u001b[0;34m(investment, ref_price, new_price, K)\u001b[0m\n\u001b[1;32m      3\u001b[0m     \u001b[0mbuy_price\u001b[0m \u001b[0;34m=\u001b[0m \u001b[0mref_price\u001b[0m\u001b[0;34m*\u001b[0m\u001b[0mK\u001b[0m\u001b[0;34m\u001b[0m\u001b[0;34m\u001b[0m\u001b[0m\n\u001b[1;32m      4\u001b[0m     \u001b[0mnb_action_wo_abondement\u001b[0m \u001b[0;34m=\u001b[0m \u001b[0minvestment\u001b[0m\u001b[0;34m/\u001b[0m\u001b[0mbuy_price\u001b[0m\u001b[0;34m\u001b[0m\u001b[0;34m\u001b[0m\u001b[0m\n\u001b[0;32m----> 5\u001b[0;31m     \u001b[0mnb_action_abondement\u001b[0m \u001b[0;34m=\u001b[0m \u001b[0mnp\u001b[0m\u001b[0;34m.\u001b[0m\u001b[0mminimum\u001b[0m\u001b[0;34m(\u001b[0m\u001b[0mnb_action_wo_abondement\u001b[0m\u001b[0;34m//\u001b[0m\u001b[0;36m4\u001b[0m\u001b[0;34m,\u001b[0m \u001b[0;36m10\u001b[0m\u001b[0;34m)\u001b[0m\u001b[0;34m\u001b[0m\u001b[0;34m\u001b[0m\u001b[0m\n\u001b[0m\u001b[1;32m      6\u001b[0m     \u001b[0mnb_action_totale\u001b[0m \u001b[0;34m=\u001b[0m \u001b[0mnb_action_wo_abondement\u001b[0m \u001b[0;34m+\u001b[0m \u001b[0mnb_action_abondement\u001b[0m\u001b[0;34m\u001b[0m\u001b[0;34m\u001b[0m\u001b[0m\n\u001b[1;32m      7\u001b[0m     \u001b[0mrecieved_price_at_ref_price\u001b[0m \u001b[0;34m=\u001b[0m \u001b[0mnb_action_totale\u001b[0m \u001b[0;34m*\u001b[0m \u001b[0mref_price\u001b[0m\u001b[0;34m\u001b[0m\u001b[0;34m\u001b[0m\u001b[0m\n",
      "\u001b[0;32m~/MYLIB10/MODULES/physipy/physipy/quantity/quantity.py\u001b[0m in \u001b[0;36m__floordiv__\u001b[0;34m(self, y)\u001b[0m\n\u001b[1;32m    200\u001b[0m         \u001b[0my\u001b[0m \u001b[0;34m=\u001b[0m \u001b[0mquantify\u001b[0m\u001b[0;34m(\u001b[0m\u001b[0my\u001b[0m\u001b[0;34m)\u001b[0m\u001b[0;34m\u001b[0m\u001b[0;34m\u001b[0m\u001b[0m\n\u001b[1;32m    201\u001b[0m         \u001b[0;32mif\u001b[0m \u001b[0;32mnot\u001b[0m \u001b[0mself\u001b[0m\u001b[0;34m.\u001b[0m\u001b[0mdimension\u001b[0m \u001b[0;34m==\u001b[0m \u001b[0my\u001b[0m\u001b[0;34m.\u001b[0m\u001b[0mdimension\u001b[0m\u001b[0;34m:\u001b[0m\u001b[0;34m\u001b[0m\u001b[0;34m\u001b[0m\u001b[0m\n\u001b[0;32m--> 202\u001b[0;31m             \u001b[0;32mraise\u001b[0m \u001b[0mDimensionError\u001b[0m\u001b[0;34m(\u001b[0m\u001b[0mself\u001b[0m\u001b[0;34m.\u001b[0m\u001b[0mdimension\u001b[0m\u001b[0;34m,\u001b[0m \u001b[0my\u001b[0m\u001b[0;34m.\u001b[0m\u001b[0mdimension\u001b[0m\u001b[0;34m)\u001b[0m\u001b[0;34m\u001b[0m\u001b[0;34m\u001b[0m\u001b[0m\n\u001b[0m\u001b[1;32m    203\u001b[0m         return type(self)(self.value // y.value,\n\u001b[1;32m    204\u001b[0m                        self.dimension).rm_dim_if_dimless()\n",
      "\u001b[0;31mDimensionError\u001b[0m: Dimension error : dimensions of operands are T and no-dimension, and are differents."
     ]
    }
   ],
   "source": [
    "p = wf.add_integral(1*s, 5*s)"
   ]
  },
  {
   "cell_type": "code",
   "execution_count": 101,
   "metadata": {},
   "outputs": [
    {
     "data": {
      "text/plain": [
       "<matplotlib.patches.Polygon at 0x130152850>"
      ]
     },
     "execution_count": 101,
     "metadata": {},
     "output_type": "execute_result"
    }
   ],
   "source": [
    "p.set_xy()"
   ]
  },
  {
   "cell_type": "code",
   "execution_count": 17,
   "metadata": {},
   "outputs": [],
   "source": [
    "from radiopy.radiation import planck_spec_en_"
   ]
  },
  {
   "cell_type": "code",
   "execution_count": 18,
   "metadata": {},
   "outputs": [
    {
     "data": {
      "application/vnd.jupyter.widget-view+json": {
       "model_id": "4560013b18e842c5a173cc8543efa20b",
       "version_major": 2,
       "version_minor": 0
      },
      "text/plain": [
       "HBox(children=(Output(), VBox(children=(QuantityTextSlider(value=<Quantity : 250 K, symbol=K*UndefinedSymbol>,…"
      ]
     },
     "metadata": {},
     "output_type": "display_data"
    },
    {
     "data": {
      "text/plain": []
     },
     "execution_count": 18,
     "metadata": {},
     "output_type": "execute_result"
    },
    {
     "data": {
      "application/vnd.jupyter.widget-view+json": {
       "model_id": "de8580ad06f542829d06ffb3fd8840d8",
       "version_major": 2,
       "version_minor": 0
      },
      "text/html": [
       "\n",
       "            <div style=\"display: inline-block;\">\n",
       "                <div class=\"jupyter-widgets widget-label\" style=\"text-align: center;\">\n",
       "                    Figure\n",
       "                </div>\n",
       "                <img src='data:image/png;base64,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' width=640.0/>\n",
       "            </div>\n",
       "        "
      ],
      "text/plain": [
       "Canvas(toolbar=Toolbar(toolitems=[('Home', 'Reset original view', 'home', 'home'), ('Back', 'Back to previous …"
      ]
     },
     "metadata": {},
     "output_type": "display_data"
    }
   ],
   "source": [
    "from physipy import units, K\n",
    "mum = units[\"mum\"]\n",
    "wf = WrappedFunction1D(planck_spec_en_, 2*mum, 14*mum, \n",
    "                       T=(250*K, 340*K),\n",
    "                       )\n",
    "wf"
   ]
  },
  {
   "cell_type": "code",
   "execution_count": 19,
   "metadata": {
    "lines_to_next_cell": 2
   },
   "outputs": [],
   "source": [
    "p = wf.add_integral(3*mum, 5*mum)"
   ]
  },
  {
   "cell_type": "code",
   "execution_count": null,
   "metadata": {},
   "outputs": [],
   "source": []
  }
 ],
 "metadata": {
  "jupytext": {
   "text_representation": {
    "extension": ".py",
    "format_name": "percent",
    "format_version": "1.3",
    "jupytext_version": "1.13.4"
   }
  },
  "kernelspec": {
   "display_name": "Python 3 (ipykernel)",
   "language": "python",
   "name": "python3"
  },
  "language_info": {
   "codemirror_mode": {
    "name": "ipython",
    "version": 3
   },
   "file_extension": ".py",
   "mimetype": "text/x-python",
   "name": "python",
   "nbconvert_exporter": "python",
   "pygments_lexer": "ipython3",
   "version": "3.9.7"
  }
 },
 "nbformat": 4,
 "nbformat_minor": 4
}
