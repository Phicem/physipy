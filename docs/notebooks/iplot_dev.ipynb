{
 "cells": [
  {
   "cell_type": "code",
   "execution_count": null,
   "metadata": {},
   "outputs": [],
   "source": [
    "from radiopy.radiation import u_lum_spec_en\n",
    "import pandas as pd\n",
    "import numpy as np\n",
    "import matplotlib.pyplot as plt\n",
    "from physipy import *\n",
    "import physipy\n",
    "from physipy.quantity.utils import *\n",
    "from physipy.quantity.calculus import ndvectorize\n",
    "\n",
    "from physipy.qwidgets.qipywidgets import QuantityTextSlider\n",
    "\n",
    "\n",
    "mm = units[\"mm\"]\n",
    "mum = units[\"mum\"]\n",
    "\n",
    "\n",
    "setup_matplotlib()\n",
    "ln = np.log\n",
    "\n",
    "# Basic units\n",
    "J = units[\"J\"]\n",
    "W = units[\"W\"]\n",
    "nm = units[\"nm\"]\n",
    "mum = units[\"mum\"]\n",
    "Hz = units[\"Hz\"]\n",
    "\n",
    "# Basic constants\n",
    "c = scipy_constants[\"c\"]\n",
    "hp = scipy_constants[\"h\"]\n",
    "kB = scipy_constants[\"k\"]\n",
    "pi = np.pi\n",
    "\n",
    "\n",
    "# Custom unit\n",
    "ph = Quantity(1, Dimension(None), symbol=\"ph\")\n",
    "\n",
    "# Derived usefull units\n",
    "u_lum_en = W * m**-2 * sr**-1\n",
    "u_lum_ph = u_lum_en * ph * s**-1 * W**-1\n",
    "u_lum_spec_en = u_lum_en / m\n",
    "u_lum_spec_ph = u_lum_ph / m\n",
    "u_lum_freq_en = u_lum_en / Hz\n",
    "u_lum_freq_ph = u_lum_ph / Hz\n",
    "u_exi_en = u_lum_en * sr\n",
    "u_exi_ph = u_lum_ph * sr\n",
    "\n",
    "# Constants\n",
    "aperys_constant = 1.2020569031595942853997381615114499907649862923405\n",
    "a_2 = 1.59362426004\n",
    "a_3 = 2.82143937212\n",
    "a_4 = 3.9206903948\n",
    "a_5 = 4.965114231744276\n",
    "lambert_sol = a_5"
   ]
  },
  {
   "cell_type": "code",
   "execution_count": 1,
   "metadata": {},
   "outputs": [],
   "source": [
    "from radiopy.radiation import planck_spec_en, wien_displacement_spec_en, lum_max_spec_en, lum_spec_en_bande, planck_spec_en_"
   ]
  },
  {
   "cell_type": "markdown",
   "metadata": {},
   "source": [
    "# Interactive Ax"
   ]
  },
  {
   "cell_type": "code",
   "execution_count": 5,
   "metadata": {},
   "outputs": [],
   "source": [
    "%matplotlib ipympl"
   ]
  },
  {
   "cell_type": "code",
   "execution_count": 7,
   "metadata": {},
   "outputs": [
    {
     "data": {
      "application/vnd.jupyter.widget-view+json": {
       "model_id": "395683816db542c8a473a1f91a914936",
       "version_major": 2,
       "version_minor": 0
      },
      "text/plain": [
       "IAx(children=(Output(), Tab(children=(VBox(children=(FloatSlider(value=0.0, description='xmin', max=1.0), Floa…"
      ]
     },
     "metadata": {},
     "output_type": "display_data"
    },
    {
     "data": {
      "application/vnd.jupyter.widget-view+json": {
       "model_id": "6996108614fb41919b64dda843f50bd7",
       "version_major": 2,
       "version_minor": 0
      },
      "text/html": [
       "\n",
       "            <div style=\"display: inline-block;\">\n",
       "                <div class=\"jupyter-widgets widget-label\" style=\"text-align: center;\">\n",
       "                    Figure\n",
       "                </div>\n",
       "                <img src='data:image/png;base64,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' width=400.0/>\n",
       "            </div>\n",
       "        "
      ],
      "text/plain": [
       "Canvas(toolbar=Toolbar(toolitems=[('Home', 'Reset original view', 'home', 'home'), ('Back', 'Back to previous …"
      ]
     },
     "metadata": {},
     "output_type": "display_data"
    }
   ],
   "source": [
    "import matplotlib.pyplot as plt\n",
    "import ipywidgets as ipyw\n",
    "from physipy.qwidgets.qipywidgets import *\n",
    "from physipy import setup_matplotlib\n",
    "setup_matplotlib()\n",
    "\n",
    "style = {'description_width': 'initial', \"width\":\"50%\"}\n",
    "\n",
    "class IAx(ipyw.HBox):\n",
    "    xmin = traitlets.Float(allow_none=False)\n",
    "    xmax = traitlets.Float(allow_none=False)\n",
    "    ymin = traitlets.Float(allow_none=False)\n",
    "    ymax = traitlets.Float(allow_none=False)\n",
    "    xmax_smin = traitlets.Float(allow_none=False)\n",
    "    xmax_smax = traitlets.Float(allow_none=False)\n",
    "    xmin_smin = traitlets.Float(allow_none=False)\n",
    "    xmin_smax = traitlets.Float(allow_none=False)\n",
    "    fig_size_x = traitlets.Float(allow_none=False)\n",
    "    fig_size_y = traitlets.Float(allow_none=False)\n",
    "    \n",
    "    \n",
    "    def __init__(self, figsize=(4,3), xfavunit=None, yfavunit=None):\n",
    "        \n",
    "        super().__init__()\n",
    "        \n",
    "        out_w = ipyw.Output()\n",
    "        with out_w:\n",
    "            fig, ax = plt.subplots(figsize=figsize)\n",
    "        self.fig = fig\n",
    "        self.fig_size_x = figsize[0]\n",
    "        self.fig_size_y = figsize[1]\n",
    "        self.ax = ax\n",
    "        \n",
    "        # create widgets\n",
    "        xmin, xmax = self.ax.get_xlim()\n",
    "        ymin, ymax = self.ax.get_ylim()\n",
    "        self.xmin = xmin\n",
    "        self.xmax = xmax\n",
    "        self.ymin = ymin\n",
    "        self.ymax = ymax\n",
    "        self.xmin_w = ipyw.FloatSlider(self.xmin, min=self.xmin, max=self.xmax, description=\"xmin\")\n",
    "        self.xmax_w = ipyw.FloatSlider(self.xmax, min=self.xmin, max=self.xmax, description=\"xmax\")\n",
    "        self.ymin_w = ipyw.FloatSlider(self.ymin, min=self.ymin, max=self.ymax, description=\"ymin\")\n",
    "        self.ymax_w = ipyw.FloatSlider(self.ymax, min=self.ymin, max=self.ymax, description=\"ymax\")\n",
    "        title_w = ipyw.Text(description=\"title\")\n",
    "        xlabel_w = ipyw.Text(description=\"xlabel\")\n",
    "        ylabel_w = ipyw.Text(description=\"ylabel\")\n",
    "        grid_enable_w = ipyw.Checkbox(value=False, description=\"Grid\")\n",
    "        log_y_w = ipyw.Checkbox(value=False, description=\"Log-y\")\n",
    "        log_x_w = ipyw.Checkbox(value=False, description=\"Log-x\")\n",
    "        grid_which_w = ipyw.Dropdown(description=\"which\", options=[\"both\", \"major\", \"minor\"])\n",
    "        grid_axis_w = ipyw.Dropdown(description=\"axis\", options=[\"both\", \"x\", \"y\"])\n",
    "        grid_w = ipyw.VBox([grid_enable_w, grid_which_w, grid_axis_w])\n",
    "        legend_w = ipyw.Button(description=\"Legend\")\n",
    "        self.lines_w = ipyw.Label()\n",
    "        self.list_of_lines = []\n",
    "        self.figsizex_w = ipyw.FloatText(value=self.fig_size_x, description=\"Figsize x\")\n",
    "        self.figsizey_w = ipyw.FloatText(value=self.fig_size_y, description=\"Figsize y\")\n",
    "        reset_limits_w = ipyw.Button(description=\"Reset limits\")\n",
    "        tight_layout_w = ipyw.Button(description=\"Tight layout\")\n",
    "        style_w = ipyw.Dropdown(description=\"Style\", options=plt.style.available)\n",
    "        xticksmajor_w = ipyw.Text(description=\"xticks major\", continuous_update=False)\n",
    "        xticksminor_w = ipyw.Text(description=\"xticks minor\", continuous_update=False)\n",
    "        yticksmajor_w = ipyw.Text(description=\"yticks major\", continuous_update=False)\n",
    "        yticksminor_w = ipyw.Text(description=\"yticks minor\", continuous_update=False)\n",
    "        \n",
    "        xticksmajorlabel_w = ipyw.Text(description=\"xticks labels major\", continuous_update=False)\n",
    "        xticksminorlabel_w = ipyw.Text(description=\"xticks labels minor\", continuous_update=False)\n",
    "        yticksmajorlabel_w = ipyw.Text(description=\"yticks labels major\", continuous_update=False)\n",
    "        yticksminorlabel_w = ipyw.Text(description=\"yticks labels minor\", continuous_update=False)\n",
    "        \n",
    "        xticksmajor_w.value = str(self.ax.get_xticks())\n",
    "        xticksminor_w.value = str(self.ax.get_xticks(minor=True))\n",
    "        yticksmajor_w.value = str(self.ax.get_yticks())\n",
    "        yticksminor_w.value = str(self.ax.get_yticks(minor=True))\n",
    "        xticksmajorlabel_w.value = str(self.ax.get_xticklabels())\n",
    "        xticksminorlabel_w.value = str(self.ax.get_xticklabels(minor=True))\n",
    "        yticksmajorlabel_w.value = str(self.ax.get_yticklabels())\n",
    "        yticksminorlabel_w.value = str(self.ax.get_yticklabels(minor=True))\n",
    "        \n",
    "        \n",
    "        background_color_w = ipyw.ColorPicker(\n",
    "        #concise=False,\n",
    "            description='ax.set_facecolor',\n",
    "            value='blue',\n",
    "            disabled=False,\n",
    "            style=style\n",
    "        )\n",
    "        \n",
    "        \n",
    "        \n",
    "        # link widgets\n",
    "        self.xmin_w.observe(self._update_xmin,                        \"value\")\n",
    "        self.xmax_w.observe(self._update_xmax,                        \"value\")\n",
    "        self.ymin_w.observe(self._update_ymin,                        \"value\")\n",
    "        self.ymax_w.observe(self._update_ymax,                        \"value\")\n",
    "        title_w.observe(self._update_title,                      \"value\")\n",
    "        xlabel_w.observe(self._update_xlabel,                    \"value\")\n",
    "        ylabel_w.observe(self._update_ylabel,                    \"value\")\n",
    "        grid_enable_w.observe(self._update_grid_enable,          \"value\")\n",
    "        grid_which_w.observe(self._update_grid_which,            \"value\")\n",
    "        grid_axis_w.observe(self._update_grid_axis,              \"value\")\n",
    "        legend_w.on_click(self._update_legend)\n",
    "        self.figsizex_w.observe(self._update_figsizex,           \"value\")\n",
    "        self.figsizey_w.observe(self._update_figsizey,           \"value\")\n",
    "        log_y_w.observe(self._update_logy_scale,                  \"value\")\n",
    "        log_x_w.observe(self._update_logx_scale,                  \"value\")\n",
    "        reset_limits_w.on_click(self._reset_limits)\n",
    "        tight_layout_w.on_click(self._tight_layout)\n",
    "        style_w.observe(self._update_style, \"value\")\n",
    "        background_color_w.observe(self._update_bgcolor, \"value\")\n",
    "        \n",
    "        xticksmajor_w.observe(self._update_xticks_major, \"value\")\n",
    "        xticksminor_w.observe(self._update_xticks_minor, \"value\")\n",
    "        yticksmajor_w.observe(self._update_yticks_major, \"value\")\n",
    "        yticksminor_w.observe(self._update_yticks_minor, \"value\")\n",
    "        \n",
    "        xticksmajorlabel_w.observe(self._update_xtickslabels_major, \"value\")\n",
    "        xticksminorlabel_w.observe(self._update_xtickslabels_minor, \"value\")\n",
    "        yticksmajorlabel_w.observe(self._update_ytickslabels_major, \"value\")\n",
    "        yticksminorlabel_w.observe(self._update_ytickslabels_minor, \"value\")\n",
    "        \n",
    "        xmin_link = traitlets.link((self.xmin_w, \"value\"), (self, \"xmin\"))\n",
    "        xmax_link = traitlets.link((self.xmax_w, \"value\"), (self, \"xmax\"))\n",
    "        ymin_link = traitlets.link((self.ymin_w, \"value\"), (self, \"ymin\"))\n",
    "        ymax_link = traitlets.link((self.ymax_w, \"value\"), (self, \"ymax\"))\n",
    "        xmin_xmax_min_link = traitlets.link((self.xmin_w, 'min'), (self.xmax_w, 'min'))\n",
    "        xmin_xmax_max_link = traitlets.link((self.xmin_w, 'max'), (self.xmax_w, 'max'))\n",
    "        ymin_ymax_min_link = traitlets.link((self.ymin_w, 'min'), (self.ymax_w, 'min'))\n",
    "        ymin_ymax_max_link = traitlets.link((self.ymin_w, 'max'), (self.ymax_w, 'max'))\n",
    "\n",
    "        xmin_smin = traitlets.link((self.xmin_w, \"min\"),   (self, \"xmin_smin\"))\n",
    "        xmin_smax = traitlets.link((self.xmin_w, \"max\"),   (self, \"xmin_smax\"))\n",
    "        xmax_smin = traitlets.link((self.xmax_w, \"min\"),   (self, \"xmax_smin\"))\n",
    "        xmax_smax = traitlets.link((self.xmax_w, \"max\"),   (self, \"xmax_smax\"))\n",
    "        \n",
    "        figx_link = traitlets.link((self, \"fig_size_x\"),   (self.figsizex_w, \"value\"))\n",
    "        figy_link = traitlets.link((self, \"fig_size_y\"),   (self.figsizey_w, \"value\"))\n",
    "        \n",
    "                                   \n",
    "        self.line_box = ipyw.HBox(self.list_of_lines)\n",
    "            \n",
    "        tab_titles = [\"Limits and scale\", \"Title and labels\", \"Grid and ticks\", \"Others\"]\n",
    "        \n",
    "        self.tabs = ipyw.Tab()\n",
    "        \n",
    "        \n",
    "        limits_and_scale_box = ipyw.VBox([\n",
    "                self.xmin_w,\n",
    "                self.xmax_w,\n",
    "                self.ymin_w,\n",
    "                self.ymax_w,\n",
    "                reset_limits_w,\n",
    "                log_y_w,\n",
    "                log_x_w,\n",
    "        ])\n",
    "        title_and_labels = ipyw.VBox([\n",
    "            title_w,\n",
    "            xlabel_w,\n",
    "            ylabel_w,\n",
    "        ])\n",
    "        grid_and_ticks_box = ipyw.VBox([\n",
    "            ipyw.HBox([\n",
    "                ipyw.VBox([\n",
    "                    xticksmajor_w,\n",
    "                    xticksminor_w,\n",
    "                    xticksmajorlabel_w,\n",
    "                    xticksminorlabel_w,\n",
    "                ]), \n",
    "                ipyw.VBox([\n",
    "                    yticksmajor_w,\n",
    "                    yticksminor_w,\n",
    "                    yticksmajorlabel_w,\n",
    "                    yticksminorlabel_w,\n",
    "                ]),\n",
    "            ]),\n",
    "            grid_w,\n",
    "        ])\n",
    "        others_box = ipyw.VBox([\n",
    "            self.lines_w,\n",
    "            legend_w,\n",
    "            tight_layout_w,\n",
    "            self.line_box,\n",
    "            self.figsizex_w,\n",
    "            self.figsizey_w,\n",
    "            style_w, \n",
    "            background_color_w,\n",
    "        ])\n",
    "        self.tabs.children = [\n",
    "            limits_and_scale_box,\n",
    "            title_and_labels,\n",
    "            grid_and_ticks_box,\n",
    "            others_box,\n",
    "        ]\n",
    "        for title, (index, _) in zip(tab_titles, enumerate(self.tabs.children)):\n",
    "            self.tabs.set_title(index, title)\n",
    " \n",
    "        self.children = [\n",
    "            out_w,\n",
    "            self.tabs\n",
    "        ]\n",
    "        \n",
    "    def _update_xtickslabels_minor(self, change):\n",
    "        try:\n",
    "            self.ax.set_xticklabels(eval(change.new), minor=True)\n",
    "        except:\n",
    "            self.ax.set_xticklabels(change.old, minor=True)\n",
    "            \n",
    "    def _update_xtickslabels_major(self, change):\n",
    "        try:\n",
    "            self.ax.set_xticklabels(eval(change.new))\n",
    "        except:\n",
    "            self.ax.set_xticklabels(change.old)\n",
    "        \n",
    "    def _update_ytickslabels_minor(self, change):\n",
    "        try:\n",
    "            self.ax.set_yticklabels(eval(change.new), minor=True)\n",
    "        except:\n",
    "            self.ax.set_yticklabels(change.old, minor=True)\n",
    "            \n",
    "    def _update_ytickslabels_major(self, change):\n",
    "        try:\n",
    "            self.ax.set_yticklabels(eval(change.new))\n",
    "        except:\n",
    "            self.ax.set_yticklabels(change.old)\n",
    "    \n",
    "    def _update_xticks_major(self, change):\n",
    "        try:\n",
    "            res = eval(change.new)\n",
    "            self.ax.set_xticks(res)\n",
    "        except:\n",
    "            self.ax.set_xticks(change.old)\n",
    "            \n",
    "    def _update_xticks_minor(self, change):\n",
    "        try:\n",
    "            res = eval(change.new)\n",
    "            self.ax.set_xticks(res, minor=True)\n",
    "        except:\n",
    "            self.ax.set_xticks(change.old, minor=True)     \n",
    "            \n",
    "    def _update_yticks_major(self, change):\n",
    "        try:\n",
    "            res = eval(change.new)\n",
    "            self.ax.set_yticks(res)\n",
    "        except:\n",
    "            self.ax.set_yticks(change.old)\n",
    "            \n",
    "    def _update_yticks_minor(self, change):\n",
    "        try:\n",
    "            res = eval(change.new)\n",
    "            self.ax.set_yticks(res, minor=True)\n",
    "        except:\n",
    "            self.ax.set_yticks(change.old, minor=True)     \n",
    "        \n",
    "    def _update_style(self, change):\n",
    "        \"\"\"This doesn't work because styles must be declared before figure creation\"\"\"\n",
    "        plt.style.use(change[\"new\"])\n",
    "\n",
    "    def _update_bgcolor(self, change):\n",
    "        self.ax.set_facecolor(change['new'])\n",
    "        \n",
    "    def _reset_limits(self, change):\n",
    "        # recompute the ax.dataLim\n",
    "        self.ax.relim()\n",
    "        # update ax.viewLim using the new dataLim\n",
    "        self.ax.autoscale()\n",
    "        self.ax.autoscale_view()\n",
    "        \n",
    "        xmin, xmax = self.ax.get_xlim()\n",
    "        ymin, ymax = self.ax.get_ylim()\n",
    "        # update xmin/xmax for ax :\n",
    "        self.xmin = xmin\n",
    "        self.ymin = ymin\n",
    "        self.xmax = xmax\n",
    "        self.ymax = ymax\n",
    "        \n",
    "    def _tight_layout(self, change):\n",
    "        self.fig.tight_layout()\n",
    "        \n",
    "    def _update_xmin(self, change):\n",
    "        #_, self.xmax = self.ax.get_xlim()\n",
    "        self.xmin = change[\"new\"]\n",
    "        self.ax.set(xlim=(self.xmin, self.xmax))\n",
    "    \n",
    "    def _update_xmax(self, change):\n",
    "        #self.xmin, _ = self.ax.get_xlim()\n",
    "        self.xmax = change[\"new\"]\n",
    "        self.ax.set(xlim=(self.xmin, self.xmax))\n",
    "    \n",
    "    def _update_ymin(self, change):\n",
    "        #ymin, _ = self.ax.get_ylim()\n",
    "        self.ymin = change[\"new\"]\n",
    "        self.ax.set(ylim=(self.ymin, self.ymax))\n",
    "    \n",
    "    def _update_ymax(self, change):\n",
    "        #xmin, xmax = self.ax.get_ylim()        \n",
    "        self.ymax = change[\"new\"]\n",
    "        self.ax.set(ylim=(self.ymin, self.ymax))\n",
    "    \n",
    "    def _update_title(self, change):\n",
    "        self.ax.set(title=change[\"new\"])\n",
    "    \n",
    "    def _update_xlabel(self, change):\n",
    "        self.ax.set(xlabel=change[\"new\"])\n",
    "    \n",
    "    def _update_ylabel(self, change):\n",
    "        self.ax.set(ylabel=change[\"new\"])\n",
    "    \n",
    "    def _update_grid_enable(self, change):\n",
    "        self.ax.grid(b=change[\"new\"])\n",
    "\n",
    "    def _update_grid_which(self, change):\n",
    "        self.ax.grid(which=change[\"new\"])\n",
    "\n",
    "    def _update_grid_axis(self, change):\n",
    "        self.ax.grid(axis=change[\"new\"])\n",
    "        \n",
    "    def _update_legend(self, b):\n",
    "        \"\"\"Not working after line was removed\"\"\"\n",
    "        handles, labels = self.ax.get_legend_handles_labels()\n",
    "        if len(handles)>0:\n",
    "            try:\n",
    "                self.ax.legend()\n",
    "            except:\n",
    "                self.ax.get_legend().remove()\n",
    "            \n",
    "    def _update_figsizex(self, change):\n",
    "        x = change['new']\n",
    "        self.fig.canvas.layout.height = 'auto'\n",
    "        self.fig.canvas.layout.width = 'auto'\n",
    "        self.fig_size_x = x\n",
    "        self.fig.set_size_inches(self.fig_size_x,\n",
    "                                 self.fig_size_y,\n",
    "                                forward=True)\n",
    "        \n",
    "    def _update_figsizey(self, change):\n",
    "        y = change[\"new\"]\n",
    "        self.fig.canvas.layout.height = 'auto'\n",
    "        self.fig.canvas.layout.width = 'auto'\n",
    "\n",
    "        self.fig_size_y = y\n",
    "        self.fig.set_size_inches(self.fig_size_x,\n",
    "                                 self.fig_size_y,\n",
    "                                forward=True)\n",
    "        \n",
    "    def _update_logy_scale(self, change):\n",
    "        logy_true = change[\"new\"]\n",
    "        if logy_true:\n",
    "            self.ymin = 0.001\n",
    "            self.ax.set_yscale(\"log\")\n",
    "        else:\n",
    "            self.ax.set_yscale(\"linear\")\n",
    "            \n",
    "    def _update_logx_scale(self, change):\n",
    "        logx_true = change[\"new\"]\n",
    "        if logx_true:\n",
    "            self.xmin = 0.1\n",
    "            self.ax.set_xscale(\"log\")\n",
    "        else:\n",
    "            self.ax.set_xscale(\"linear\")\n",
    "    \n",
    "    def add_integral(self, func, xmin, xmax): \n",
    "        from physipy import quad\n",
    "\n",
    "        integ, prec = quad(func, xmin, xmax)\n",
    "\n",
    "        \n",
    "        from matplotlib.patches import Polygon\n",
    "        def compute_integral_polygon(xmin, xmax, func, ax=self.ax, **kwargs):\n",
    "            xmin = quantify(xmin)\n",
    "            xmax = quantify(xmax)\n",
    "            if ax is None:\n",
    "                ax = plt.gca()\n",
    "            ix = np.linspace(xmin, xmax)\n",
    "            #iy = func(ix, **kwargs)\n",
    "            try:\n",
    "                iy = func(ix, **kwargs)\n",
    "            except: \n",
    "                iy = physipy.quantity.utils.asqarray([func(x, **kwargs) for x in ix])\n",
    "        \n",
    "            verts = [(xmin/mum, 0),\n",
    "                     *zip((ix/mum), iy.value), \n",
    "                     (xmax/mum, 0)]\n",
    "            poly = Polygon(verts, facecolor='0.9', edgecolor='0.5', alpha=0.5)\n",
    "            ax.text(0.5 * (xmin/mum + xmax/mum), np.max(iy.value/5), r\"$\\int_a^b f(x)\\mathrm{d}x$=\"+f\"{integ:.2f}\",\n",
    "                    horizontalalignment='center', fontsize=12)\n",
    "            res = ax.add_patch(poly)\n",
    "            return res\n",
    "        compute_integral_polygon(xmin, xmax, func)\n",
    "        \n",
    "        \n",
    "        \n",
    "        \n",
    "\n",
    "    def add_line(self, func, xmin, xmax, xfavunit=None, yfavunit=None, label=\"\"):\n",
    "        \n",
    "        ech_x = np.linspace(xmin, xmax)\n",
    "        \n",
    "        \n",
    "        xmin = quantify(xmin)\n",
    "        xmax = quantify(xmax)\n",
    "\n",
    "        \n",
    "        \n",
    "        # TODO : update x-sliders\n",
    "        # store a list of xmins and xmaxs\n",
    "        # store a list of lines\n",
    "        # if no xmin/xmax, use the current min/max\n",
    "        \n",
    "        # remove lines : ax.ax.lines[0].remove()\n",
    "        # update legend when removing\n",
    "        # use self.favunit\n",
    "        \n",
    "        \n",
    "        if hasattr(func, \"name\"):\n",
    "            label = func.name\n",
    "        # compute ys\n",
    "        try:\n",
    "            ech_y = func(ech_x)\n",
    "        except: \n",
    "            ech_y = physipy.quantity.utils.asqarray([func(x) for x in ech_x])\n",
    "            \n",
    "        # plot\n",
    "        if xfavunit is None:\n",
    "            if yfavunit is None:\n",
    "                lines = self.ax.plot(ech_x, ech_y, label=label)\n",
    "        else:\n",
    "            ech_x.favunit = xfavunit\n",
    "            ech_y.favunit = yfavunit\n",
    "            lines = self.ax.plot(ech_x, ech_y, label=label)\n",
    "\n",
    "        \n",
    "            \n",
    "        self.ax.relim()\n",
    "        self.ax.autoscale()\n",
    "        \n",
    "        xmin, xmax = self.ax.get_xlim()\n",
    "        ymin, ymax = self.ax.get_ylim()\n",
    "        # update xmin/xmax for ax :\n",
    "        if xmin < self.xmin_w.min:\n",
    "            self.xmin_w.min = xmin\n",
    "            self.xmin = xmin\n",
    "        if ymin < self.ymin_w.min:\n",
    "            self.ymin_w.min = ymin\n",
    "            self.ymin = ymin\n",
    "        if xmax > self.xmax_w.max:\n",
    "            self.xmax_w.max = xmax\n",
    "            self.xmax = xmax\n",
    "        if ymax > self.ymax_w.max:\n",
    "            self.ymax_w.max = ymax\n",
    "            self.ymax = ymax\n",
    "        \n",
    "        #self.xmin = xmin\n",
    "        #self.xmax = xmax\n",
    "         \n",
    "            \n",
    "            \n",
    "        self.list_of_lines.append(label)\n",
    "        self.lines_w.value = str(self.list_of_lines)\n",
    "        \n",
    "    def add_iline(self, func, xmin, xmax, params, label=\"\"):\n",
    "        # create widgets to controls additional args\n",
    "        \n",
    "        pass\n",
    "    \n",
    "    def show_abaq(self, func, xmin, xmax, p_list):\n",
    "        ech_x = np.linspace(xmin, xmax)\n",
    "        xmin = quantify(xmin)\n",
    "        xmax = quantify(xmax)\n",
    "        rotmode = \"anchor\"\n",
    "        ha = va = \"center\"\n",
    "        for p in p_list:\n",
    "            # compute ys\n",
    "            try:\n",
    "                ech_y = func(ech_x, p)\n",
    "            except: \n",
    "                ech_y = physipy.quantity.utils.asqarray([func(x, p) for x in ech_x])\n",
    "            lines = self.ax.plot(ech_x, ech_y, \"--\", color=\"gray\", alpha=0.5)#, label=label)\n",
    "            x_text = np.mean(ech_x)\n",
    "            idx = (np.abs(ech_x - x_text)).argmin()\n",
    "            delta = 1\n",
    "            dy = func(ech_x[idx+delta], p)-func(ech_x[idx-delta], p)\n",
    "            dx = ech_x[idx+delta] - ech_x[idx-delta]\n",
    "            angle_rad = np.arctan((dy/dx).value/1e7/1e6)\n",
    "            #self.ax.plot(physipy.quantity.utils.asqarray([ech_x[idx+delta], ech_x[idx-delta]]), \n",
    "            #             physipy.quantity.utils.asqarray([func(ech_x[idx+delta], p), func(ech_x[idx-delta], p)]),\n",
    "            #              \"o\")\n",
    "            #self.ax.plot(x_text, func(x_text, p), \"o\")\n",
    "            #self.ax.plot()\n",
    "            txt = self.ax.text(x_text, func(x_text, p), f\"{p:.2f}\", \n",
    "                               size=5, color=\"gray\",\n",
    "                               alpha=0.8,\n",
    "                               rotation=angle_rad*180/np.pi,#np.arctan(pente*180/np.pi), \n",
    "                               horizontalalignment=ha,\n",
    "                               verticalalignment=\"bottom\", \n",
    "                               rotation_mode=rotmode)\n",
    "\n",
    "        \n",
    "\n",
    "                \n",
    "    \n",
    "            \n",
    "    def remove_line(self, n, label=None):\n",
    "        self.ax.lines[n].remove()\n",
    "        self.list_of_lines.pop(n)\n",
    "        self.lines_w.value = str(self.list_of_lines)\n",
    "        self.ax.legend()\n",
    "        \n",
    "ax = IAx()\n",
    "ax\n",
    "\n",
    "display(ax)"
   ]
  },
  {
   "cell_type": "code",
   "execution_count": 8,
   "metadata": {},
   "outputs": [
    {
     "data": {
      "text/plain": [
       "[]"
      ]
     },
     "execution_count": 8,
     "metadata": {},
     "output_type": "execute_result"
    }
   ],
   "source": [
    "ax.ax.get_xticks(minor=True)"
   ]
  },
  {
   "cell_type": "code",
   "execution_count": 9,
   "metadata": {
    "lines_to_next_cell": 2
   },
   "outputs": [
    {
     "ename": "NameError",
     "evalue": "name 'mum' is not defined",
     "output_type": "error",
     "traceback": [
      "\u001b[0;31m---------------------------------------------------------------------------\u001b[0m",
      "\u001b[0;31mNameError\u001b[0m                                 Traceback (most recent call last)",
      "\u001b[0;32m/var/folders/5k/bf4syt7x1zjbhc6b28srzzym0000gn/T/ipykernel_27379/2643457740.py\u001b[0m in \u001b[0;36m<module>\u001b[0;34m\u001b[0m\n\u001b[0;32m----> 1\u001b[0;31m \u001b[0max\u001b[0m\u001b[0;34m.\u001b[0m\u001b[0madd_line\u001b[0m\u001b[0;34m(\u001b[0m\u001b[0;32mlambda\u001b[0m \u001b[0ml\u001b[0m\u001b[0;34m:\u001b[0m \u001b[0mplanck_spec_en\u001b[0m\u001b[0;34m(\u001b[0m\u001b[0ml\u001b[0m\u001b[0;34m,\u001b[0m \u001b[0;36m250\u001b[0m\u001b[0;34m*\u001b[0m\u001b[0mK\u001b[0m\u001b[0;34m)\u001b[0m\u001b[0;34m,\u001b[0m \u001b[0;36m2\u001b[0m\u001b[0;34m*\u001b[0m\u001b[0mmum\u001b[0m\u001b[0;34m,\u001b[0m \u001b[0;36m20\u001b[0m\u001b[0;34m*\u001b[0m\u001b[0mmum\u001b[0m\u001b[0;34m,\u001b[0m \u001b[0mxfavunit\u001b[0m\u001b[0;34m=\u001b[0m\u001b[0mmum\u001b[0m\u001b[0;34m,\u001b[0m \u001b[0myfavunit\u001b[0m\u001b[0;34m=\u001b[0m\u001b[0mu_lum_spec_en\u001b[0m\u001b[0;34m,\u001b[0m \u001b[0mlabel\u001b[0m\u001b[0;34m=\u001b[0m\u001b[0;34m\"planck(250K)\"\u001b[0m\u001b[0;34m)\u001b[0m\u001b[0;34m\u001b[0m\u001b[0;34m\u001b[0m\u001b[0m\n\u001b[0m",
      "\u001b[0;31mNameError\u001b[0m: name 'mum' is not defined"
     ]
    }
   ],
   "source": [
    "ax.add_line(lambda l: planck_spec_en(l, 250*K), 2*mum, 20*mum, xfavunit=mum, yfavunit=u_lum_spec_en, label=\"planck(250K)\")"
   ]
  },
  {
   "cell_type": "code",
   "execution_count": 8,
   "metadata": {},
   "outputs": [],
   "source": [
    "ax.add_integral(lambda l:planck_spec_en(l, 250*K), 2*mum, 15*mum)"
   ]
  },
  {
   "cell_type": "code",
   "execution_count": 9,
   "metadata": {},
   "outputs": [],
   "source": [
    "ax.show_abaq(lambda l, T:planck_spec_en(l, T), 2*mum, 20*mum, [T_K*K for T_K in np.linspace(250, 350, 11)])"
   ]
  },
  {
   "cell_type": "code",
   "execution_count": 10,
   "metadata": {
    "lines_to_next_cell": 2
   },
   "outputs": [],
   "source": [
    "ax.add_line(lambda l: planck_spec_en(l, 350*K), 2*mum, 20*mum, xfavunit=mum, label=\"planck(350)\")"
   ]
  },
  {
   "cell_type": "code",
   "execution_count": null,
   "metadata": {},
   "outputs": [],
   "source": []
  },
  {
   "cell_type": "markdown",
   "metadata": {},
   "source": [
    "https://stackoverflow.com/questions/19353576/curved-text-rendering-in-matplotlib\n",
    "\n",
    "https://stackoverflow.com/questions/44143395/align-arbitrarily-rotated-text-annotations-relative-to-the-text-not-the-boundin/44143396#44143396"
   ]
  },
  {
   "cell_type": "code",
   "execution_count": null,
   "metadata": {},
   "outputs": [],
   "source": []
  },
  {
   "cell_type": "code",
   "execution_count": null,
   "metadata": {},
   "outputs": [],
   "source": []
  },
  {
   "cell_type": "code",
   "execution_count": 11,
   "metadata": {},
   "outputs": [],
   "source": [
    "ax.ax.set_yscale('log')"
   ]
  },
  {
   "cell_type": "code",
   "execution_count": 12,
   "metadata": {},
   "outputs": [
    {
     "name": "stdout",
     "output_type": "stream",
     "text": [
      "['planck(250K)', 'planck(350)']\n"
     ]
    }
   ],
   "source": [
    "print(ax.list_of_lines)"
   ]
  },
  {
   "cell_type": "code",
   "execution_count": 13,
   "metadata": {},
   "outputs": [],
   "source": [
    "ax.remove_line(0)"
   ]
  },
  {
   "cell_type": "code",
   "execution_count": null,
   "metadata": {},
   "outputs": [],
   "source": []
  },
  {
   "cell_type": "code",
   "execution_count": null,
   "metadata": {},
   "outputs": [],
   "source": []
  },
  {
   "cell_type": "code",
   "execution_count": null,
   "metadata": {},
   "outputs": [],
   "source": []
  },
  {
   "cell_type": "code",
   "execution_count": null,
   "metadata": {},
   "outputs": [],
   "source": []
  },
  {
   "cell_type": "code",
   "execution_count": null,
   "metadata": {},
   "outputs": [],
   "source": []
  },
  {
   "cell_type": "code",
   "execution_count": null,
   "metadata": {},
   "outputs": [],
   "source": []
  },
  {
   "cell_type": "code",
   "execution_count": 15,
   "metadata": {},
   "outputs": [],
   "source": [
    "# integral computation\n",
    "#from matplotlib.patches import Polygon\n",
    "#ix = np.linspace(lmbda_min_int, lmbda_max_int)\n",
    "#iy = planck_spec_en_(ix, T)\n",
    "#verts = [(lmbda_min_int.value*1e6, 0), *zip(ix.value*1e6, iy.value), (lmbda_max_int.value*1e6, 0)]\n",
    "#poly = Polygon(verts, facecolor='0.9', edgecolor='0.5')\n",
    "#ax.add_patch(poly)\n",
    "\n",
    "from matplotlib.patches import Polygon\n",
    "def compute_integral_polygon(xmin, xmax, func, ax=None, **kwargs):\n",
    "    xmin = quantify(xmin)\n",
    "    xmax = quantify(xmax)\n",
    "    if ax is None:\n",
    "        ax = plt.gca()\n",
    "    ix = np.linspace(xmin, xmax)\n",
    "    iy = func(ix, **kwargs)\n",
    "    verts = [(xmin, 0*xmin), *zip(ix, iy), (xmax, 0*xmax)]\n",
    "    poly = Polygon(verts, facecolor='0.9', edgecolor='0.5')\n",
    "    res = ax.add_patch(poly)\n",
    "    return res\n",
    "    \n"
   ]
  },
  {
   "cell_type": "code",
   "execution_count": null,
   "metadata": {},
   "outputs": [],
   "source": []
  },
  {
   "cell_type": "code",
   "execution_count": null,
   "metadata": {},
   "outputs": [],
   "source": []
  },
  {
   "cell_type": "markdown",
   "metadata": {},
   "source": [
    "### use ndvectorize and lambda function\n",
    " - dirty\n",
    " - lose favunit"
   ]
  },
  {
   "cell_type": "code",
   "execution_count": 3,
   "metadata": {},
   "outputs": [],
   "source": [
    "%matplotlib ipympl"
   ]
  },
  {
   "cell_type": "code",
   "execution_count": 17,
   "metadata": {},
   "outputs": [
    {
     "name": "stderr",
     "output_type": "stream",
     "text": [
      "/Users/mocquin/MYLIB10/MODULES/physipy/physipy/quantity/quantity.py:680: UserWarning: The unit of the quantity is stripped.\n",
      "  warnings.warn(\"The unit of the quantity is stripped.\")\n"
     ]
    }
   ],
   "source": [
    "import ipywidgets as ipyw\n",
    "T = 300*K\n",
    "T_min = 250*K\n",
    "T_max = 350*K\n",
    "\n",
    "planck = ndvectorize(lambda lmbda: planck_spec_en(lmbda, T))\n",
    "\n",
    "ech_x_lmbda = np.linspace(0.2, 15, 100) * mum\n",
    "ech_x_lmbda.favunit = mum\n",
    "ech_y = planck(ech_x_lmbda)\n",
    "\n",
    "ech_T = np.linspace(T_min, T_max, 100)\n",
    "wien_lmbda = ndvectorize(lambda T:wien_displacement_spec_en(T))(ech_T)\n",
    "\n",
    "\n",
    "lmbda_min_int = 4*mum\n",
    "lmbda_max_int = 6*mum\n",
    "int_init = lum_spec_en_bande(lmbda_min_int, lmbda_max_int, T)\n",
    "\n"
   ]
  },
  {
   "cell_type": "code",
   "execution_count": 18,
   "metadata": {},
   "outputs": [],
   "source": [
    "lum_max = ndvectorize(lambda T:lum_max_spec_en(T))(ech_T)"
   ]
  },
  {
   "cell_type": "code",
   "execution_count": 19,
   "metadata": {},
   "outputs": [],
   "source": [
    "out_w = ipyw.Output()\n",
    "\n",
    "with out_w:    \n",
    "    fig, ax = plt.subplots()\n",
    "    ax.plot(ech_x_lmbda, ech_y, label=\"$\"+planck_spec_en.latex+\"$\")\n",
    "    ax.plot(wien_lmbda, lum_max, label=\"lum max\")\n",
    "    \n",
    "    # Make the shaded region\n",
    "    from matplotlib.patches import Polygon\n",
    "    ix = np.linspace(lmbda_min_int, lmbda_max_int)\n",
    "    iy = planck_spec_en_(ix, T)\n",
    "    verts = [(lmbda_min_int.value*1e6, 0), *zip(ix.value*1e6, iy.value), (lmbda_max_int.value*1e6, 0)]\n",
    "    poly = Polygon(verts, facecolor='0.9', edgecolor='0.5')\n",
    "    ax.add_patch(poly)\n",
    "    print(poly)\n",
    "    plt.legend()\n",
    "\n",
    "    \n",
    "xmin, xmax = ax.get_xlim()\n",
    "ymin, ymax = ax.get_ylim()\n",
    "\n",
    "xechmin = min(ech_x_lmbda).value*1e6\n",
    "xechmax = max(ech_x_lmbda).value*1e6\n",
    "\n",
    "xechmin_w = ipyw.FloatSlider(xechmin, min=xechmin, max=xechmax, description=\"xechmin\")\n",
    "xechmax_w = ipyw.FloatSlider(xechmax, min=xechmin, max=xechmax, description=\"xechmax\")\n",
    "\n",
    "xmin_w = ipyw.FloatSlider(xmin, min=xmin, max=xmax, description=\"xmin\")\n",
    "xmax_w = ipyw.FloatSlider(xmax, min=xmin, max=xmax, description=\"xmax\")\n",
    "ymin_w = ipyw.FloatSlider(ymin, min=ymin, max=ymax, description=\"ymin\")\n",
    "ymax_w = ipyw.FloatSlider(ymax, min=ymin, max=ymax, description=\"ymax\")\n",
    "title_w = ipyw.Text(description=\"title\")\n",
    "xlabel_w = ipyw.Text(description=\"xlabel\")\n",
    "ylabel_w = ipyw.Text(description=\"ylabel\")\n",
    "line_legend_w = ipyw.Text(description=\"line legend\")\n",
    "temp_w = ipyw.FloatSlider(300, min=T_min.value, max=T_max.value, description=\"Temperature(K)\")\n",
    "nech_w = ipyw.IntSlider(min=10, max=500, description=\"n\")\n",
    "\n",
    "#with out_w:\n",
    "#    fig, ax = plt.subplots(figsize=(6, 4))\n",
    "#    lines = ax.plot(ech_x_lmbda, ech_y, \"o\")\n",
    "#    ax.set(\n",
    "#        ylabel='Temperature (deg C)',\n",
    "#        xlabel='$\\lambda$',\n",
    "#        title='Planck',\n",
    "#    )\n",
    "\n",
    "box = ipyw.VBox([\n",
    "    xmin_w,\n",
    "    xmax_w,\n",
    "    ymin_w,\n",
    "    ymax_w,\n",
    "    title_w,\n",
    "    xlabel_w,\n",
    "    ylabel_w,\n",
    "    line_legend_w,\n",
    "    temp_w,\n",
    "    xechmin_w,\n",
    "    xechmax_w,\n",
    "    nech_w,\n",
    "])\n",
    "\n",
    "\n",
    "def update_xmin(change):\n",
    "    xmin, xmax = ax.get_xlim()\n",
    "    ax.set(xlim=(change[\"new\"], xmax))\n",
    "\n",
    "\n",
    "def update_xmax(change):\n",
    "    xmin, xmax = ax.get_xlim()\n",
    "    ax.set(xlim=(xmin, change[\"new\"]))\n",
    "\n",
    "\n",
    "def update_ymin(change):\n",
    "    ymin, ymax = ax.get_ylim()\n",
    "    ax.set(ylim=(change[\"new\"], ymax))\n",
    "\n",
    "\n",
    "def update_ymax(change):\n",
    "    xmin, xmax = ax.get_ylim()\n",
    "    ax.set(ylim=(ymin, change[\"new\"]))\n",
    "\n",
    "\n",
    "def update_title(change):\n",
    "    ax.set(title=change[\"new\"])\n",
    "\n",
    "\n",
    "def update_xlabel(change):\n",
    "    ax.set(xlabel=change[\"new\"])\n",
    "\n",
    "\n",
    "def update_ylabel(change):\n",
    "    ax.set(ylabel=change[\"new\"])\n",
    "\n",
    "\n",
    "def update_legend(change):\n",
    "    if change[\"new\"] == \"\":\n",
    "        ax.get_legend().remove()\n",
    "    else:\n",
    "        ax.legend([change[\"new\"]])\n",
    "\n",
    "\n",
    "def update_temp(change):\n",
    "    func = ndvectorize(lambda lmbda: planck_spec_en(lmbda, change[\"new\"]*K))\n",
    "    ech_y = func(ech_x_lmbda)\n",
    "    ech_y.favunit = u_lum_spec_en\n",
    "    ax.lines[0].set_data(ech_x_lmbda, ech_y)\n",
    "    res = compute_integral_polygon( ech_x_lmbda.min(), ech_x_lmbda.max(), func, ax=ax)\n",
    "    ax.patches[0].set_xy(res)\n",
    "    ax.relim()\n",
    "    ax.autoscale_view()\n",
    "\n",
    "\n",
    "def update_echxmin(change):\n",
    "    temp = temp_w.value\n",
    "    xmaxech = xechmax_w.value\n",
    "    nech = nech_w.value\n",
    "    func = ndvectorize(lambda lmbda: planck_spec_en(lmbda, temp*K))\n",
    "    ech_x_lmbda = np.linspace(change[\"new\"], xmaxech, nech)*mum\n",
    "    ech_y = func(ech_x_lmbda)\n",
    "    ax.lines[0].set_data(ech_x_lmbda, ech_y)\n",
    "    ax.relim()\n",
    "    ax.autoscale_view()\n",
    "\n",
    "    \n",
    "def update_echxmax(change):\n",
    "    temp = temp_w.value\n",
    "    xminech = xechmin_w.value\n",
    "    nech = nech_w.value\n",
    "    func = ndvectorize(lambda lmbda: planck_spec_en(lmbda, temp*K))\n",
    "    ech_x_lmbda = np.linspace(xminech, change[\"new\"], nech)*mum\n",
    "    ech_y = func(ech_x_lmbda)\n",
    "    ax.lines[0].set_data(ech_x_lmbda, ech_y)\n",
    "    ax.relim()\n",
    "    ax.autoscale_view()\n",
    "\n",
    "    \n",
    "def update_nech(change):\n",
    "    temp = temp_w.value\n",
    "    xminech = xechmin_w.value\n",
    "    xmaxech = xechmax_w.value\n",
    "    nech = nech_w.value\n",
    "    func = ndvectorize(lambda lmbda: planck_spec_en(lmbda, temp*K))\n",
    "    ech_x_lmbda = np.linspace(xminech, xmaxech, change[\"new\"])*mum\n",
    "    ech_y = func(ech_x_lmbda)\n",
    "    ax.lines[0].set_data(ech_x_lmbda, ech_y)\n",
    "    ax.relim()\n",
    "    ax.autoscale_view()"
   ]
  },
  {
   "cell_type": "code",
   "execution_count": 20,
   "metadata": {},
   "outputs": [
    {
     "name": "stdout",
     "output_type": "stream",
     "text": [
      "[250. 260. 270. 280. 290. 300. 310. 320. 330. 340. 350.] K\n"
     ]
    }
   ],
   "source": [
    "temps = np.linspace(250, 350, 11)*K\n",
    "print(temps)\n",
    "x_temps = [wien_displacement_spec_en(T) for T in temps]\n",
    "y_temps = [lum_max_spec_en(T) for T in temps]"
   ]
  },
  {
   "cell_type": "code",
   "execution_count": 21,
   "metadata": {
    "lines_to_next_cell": 2
   },
   "outputs": [],
   "source": [
    "with out_w:\n",
    "    ax.grid(True, which=\"both\", axis=\"both\")\n",
    "    for i, txt in enumerate(temps):\n",
    "        ax.annotate(txt, (x_temps[i], y_temps[i]))"
   ]
  },
  {
   "cell_type": "markdown",
   "metadata": {},
   "source": [
    "    \n",
    "xmin_w.observe(update_xmin,          \"value\")\n",
    "xmax_w.observe(update_xmax,          \"value\")\n",
    "ymin_w.observe(update_ymin,          \"value\")\n",
    "ymax_w.observe(update_ymax,          \"value\")\n",
    "title_w.observe(update_title,        \"value\")\n",
    "xlabel_w.observe(update_xlabel,      \"value\")\n",
    "ylabel_w.observe(update_ylabel,      \"value\")\n",
    "line_legend_w.observe(update_legend, \"value\")\n",
    "temp_w.observe(update_temp,          \"value\")\n",
    "xechmin_w.observe(update_echxmin,    \"value\")\n",
    "xechmax_w.observe(update_echxmax,    \"value\")\n",
    "nech_w.observe(update_nech,          \"value\")\n",
    "\n",
    "\n",
    "display(ipyw.HBox([out_w, box]))"
   ]
  },
  {
   "cell_type": "code",
   "execution_count": null,
   "metadata": {},
   "outputs": [],
   "source": []
  },
  {
   "cell_type": "code",
   "execution_count": 22,
   "metadata": {},
   "outputs": [
    {
     "data": {
      "application/vnd.jupyter.widget-view+json": {
       "model_id": "fc0ddf1d73564000ace0d0bb155076aa",
       "version_major": 2,
       "version_minor": 0
      },
      "text/plain": [
       "Canvas(toolbar=Toolbar(toolitems=[('Home', 'Reset original view', 'home', 'home'), ('Back', 'Back to previous …"
      ]
     },
     "metadata": {},
     "output_type": "display_data"
    }
   ],
   "source": [
    "fig, ax  = plt.subplots()"
   ]
  },
  {
   "cell_type": "code",
   "execution_count": 23,
   "metadata": {},
   "outputs": [],
   "source": [
    "%matplotlib ipympl"
   ]
  },
  {
   "cell_type": "code",
   "execution_count": null,
   "metadata": {},
   "outputs": [],
   "source": [
    "        axis_list = [\"stretch\", \"auto\", \"fixed\"]\n",
    "        self.axis_ddw = ipyw.Dropdown(options=axis_list, description=\"Axis scaling:\")\n",
    "        \n",
    "          "
   ]
  },
  {
   "cell_type": "code",
   "execution_count": null,
   "metadata": {},
   "outputs": [],
   "source": []
  },
  {
   "cell_type": "code",
   "execution_count": null,
   "metadata": {},
   "outputs": [],
   "source": []
  },
  {
   "cell_type": "code",
   "execution_count": null,
   "metadata": {},
   "outputs": [],
   "source": []
  },
  {
   "cell_type": "markdown",
   "metadata": {
    "tags": []
   },
   "source": [
    "# Wrapped function"
   ]
  },
  {
   "cell_type": "code",
   "execution_count": 9,
   "metadata": {},
   "outputs": [
    {
     "name": "stdout",
     "output_type": "stream",
     "text": [
      "11\n"
     ]
    },
    {
     "data": {
      "application/vnd.jupyter.widget-view+json": {
       "model_id": "c7704b906dcf434987a0bb4f532fcd3e",
       "version_major": 2,
       "version_minor": 0
      },
      "text/plain": [
       "HBox(children=(Output(), VBox(children=(QuantityTextSlider(value=<Quantity : 0 m, symbol=m*UndefinedSymbol>, c…"
      ]
     },
     "metadata": {},
     "output_type": "display_data"
    },
    {
     "data": {
      "text/plain": []
     },
     "execution_count": 9,
     "metadata": {},
     "output_type": "execute_result"
    },
    {
     "data": {
      "application/vnd.jupyter.widget-view+json": {
       "model_id": "86da9c08c2be4fb8a9ace50451a69eb2",
       "version_major": 2,
       "version_minor": 0
      },
      "text/html": [
       "\n",
       "            <div style=\"display: inline-block;\">\n",
       "                <div class=\"jupyter-widgets widget-label\" style=\"text-align: center;\">\n",
       "                    Figure\n",
       "                </div>\n",
       "                <img src='data:image/png;base64,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' width=640.0/>\n",
       "            </div>\n",
       "        "
      ],
      "text/plain": [
       "Canvas(toolbar=Toolbar(toolitems=[('Home', 'Reset original view', 'home', 'home'), ('Back', 'Back to previous …"
      ]
     },
     "metadata": {},
     "output_type": "display_data"
    }
   ],
   "source": [
    "%matplotlib widget\n",
    "\n",
    "from physipy import m, s\n",
    "from physipy.qwidgets.plot_ui import WrappedFunction1D\n",
    "from physipy.quantity.utils import name_eq\n",
    "\n",
    "@name_eq(\"Myfunc\")        \n",
    "def func(x1, x2, x3):\n",
    "    return x1*x2 + 3 * x3\n",
    "\n",
    "wf = WrappedFunction1D(func, 0*s, 5*s, \n",
    "                       x2=(0*m, 5*m),\n",
    "                       x3=(0*m*s, 5*m*s))\n",
    "\n",
    "print(wf(1, 2, 3))\n",
    "p = wf.add_integral(1*s, 5*s)\n",
    "wf"
   ]
  },
  {
   "cell_type": "code",
   "execution_count": 14,
   "metadata": {},
   "outputs": [
    {
     "ename": "AttributeError",
     "evalue": "'WrappedFunction1D' object has no attribute 'ax'",
     "output_type": "error",
     "traceback": [
      "\u001b[0;31m---------------------------------------------------------------------------\u001b[0m",
      "\u001b[0;31mAttributeError\u001b[0m                            Traceback (most recent call last)",
      "\u001b[0;32m/var/folders/5k/bf4syt7x1zjbhc6b28srzzym0000gn/T/ipykernel_27430/3925116621.py\u001b[0m in \u001b[0;36m<module>\u001b[0;34m\u001b[0m\n\u001b[1;32m     15\u001b[0m \u001b[0;34m\u001b[0m\u001b[0m\n\u001b[1;32m     16\u001b[0m \u001b[0;34m\u001b[0m\u001b[0m\n\u001b[0;32m---> 17\u001b[0;31m wf = WrappedFunction1D(get, 50, 4000, \n\u001b[0m\u001b[1;32m     18\u001b[0m                        \u001b[0mref_price\u001b[0m\u001b[0;34m=\u001b[0m\u001b[0;34m(\u001b[0m\u001b[0;36m40\u001b[0m\u001b[0;34m,\u001b[0m \u001b[0;36m140\u001b[0m\u001b[0;34m)\u001b[0m\u001b[0;34m,\u001b[0m\u001b[0;34m\u001b[0m\u001b[0;34m\u001b[0m\u001b[0m\n\u001b[1;32m     19\u001b[0m                        new_price=(40, 140))\n",
      "\u001b[0;32m~/MYLIB10/MODULES/physipy/physipy/qwidgets/plot_ui.py\u001b[0m in \u001b[0;36m__init__\u001b[0;34m(self, func, xmin, xmax, num, xfavunit, yfavunit, xlim, ylim, *args, **kwargs)\u001b[0m\n\u001b[1;32m    122\u001b[0m         \u001b[0;31m#print(self.sliders_box)\u001b[0m\u001b[0;34m\u001b[0m\u001b[0;34m\u001b[0m\u001b[0m\n\u001b[1;32m    123\u001b[0m         \u001b[0mself\u001b[0m\u001b[0;34m.\u001b[0m\u001b[0mplot\u001b[0m\u001b[0;34m(\u001b[0m\u001b[0;34m)\u001b[0m\u001b[0;34m\u001b[0m\u001b[0;34m\u001b[0m\u001b[0m\n\u001b[0;32m--> 124\u001b[0;31m         \u001b[0mself\u001b[0m\u001b[0;34m.\u001b[0m\u001b[0mplot_cursor\u001b[0m\u001b[0;34m(\u001b[0m\u001b[0;34m)\u001b[0m\u001b[0;34m\u001b[0m\u001b[0;34m\u001b[0m\u001b[0m\n\u001b[0m\u001b[1;32m    125\u001b[0m \u001b[0;34m\u001b[0m\u001b[0m\n\u001b[1;32m    126\u001b[0m         \u001b[0;31m#self.state = {k:v for (k,v) in zip(self.)}\u001b[0m\u001b[0;34m\u001b[0m\u001b[0;34m\u001b[0m\u001b[0m\n",
      "\u001b[0;32m~/MYLIB10/MODULES/physipy/physipy/qwidgets/plot_ui.py\u001b[0m in \u001b[0;36mplot_cursor\u001b[0;34m(self, **kwargs)\u001b[0m\n\u001b[1;32m    210\u001b[0m \u001b[0;34m\u001b[0m\u001b[0m\n\u001b[1;32m    211\u001b[0m     \u001b[0;32mdef\u001b[0m \u001b[0mplot_cursor\u001b[0m\u001b[0;34m(\u001b[0m\u001b[0mself\u001b[0m\u001b[0;34m,\u001b[0m \u001b[0;34m**\u001b[0m\u001b[0mkwargs\u001b[0m\u001b[0;34m)\u001b[0m\u001b[0;34m:\u001b[0m\u001b[0;34m\u001b[0m\u001b[0;34m\u001b[0m\u001b[0m\n\u001b[0;32m--> 212\u001b[0;31m         \u001b[0max\u001b[0m \u001b[0;34m=\u001b[0m \u001b[0mself\u001b[0m\u001b[0;34m.\u001b[0m\u001b[0max\u001b[0m\u001b[0;34m\u001b[0m\u001b[0;34m\u001b[0m\u001b[0m\n\u001b[0m\u001b[1;32m    213\u001b[0m         \u001b[0mxx\u001b[0m \u001b[0;34m=\u001b[0m \u001b[0;34m(\u001b[0m\u001b[0mself\u001b[0m\u001b[0;34m.\u001b[0m\u001b[0mget_xcursor\u001b[0m\u001b[0;34m(\u001b[0m\u001b[0;34m)\u001b[0m\u001b[0;34m,\u001b[0m \u001b[0mself\u001b[0m\u001b[0;34m.\u001b[0m\u001b[0mget_pvalues\u001b[0m\u001b[0;34m(\u001b[0m\u001b[0;34m)\u001b[0m\u001b[0;34m)\u001b[0m\u001b[0;34m\u001b[0m\u001b[0;34m\u001b[0m\u001b[0m\n\u001b[1;32m    214\u001b[0m         \u001b[0my\u001b[0m \u001b[0;34m=\u001b[0m \u001b[0mself\u001b[0m\u001b[0;34m.\u001b[0m\u001b[0mfunc\u001b[0m\u001b[0;34m(\u001b[0m\u001b[0mself\u001b[0m\u001b[0;34m.\u001b[0m\u001b[0mget_xcursor\u001b[0m\u001b[0;34m(\u001b[0m\u001b[0;34m)\u001b[0m\u001b[0;34m,\u001b[0m \u001b[0;34m**\u001b[0m\u001b[0mself\u001b[0m\u001b[0;34m.\u001b[0m\u001b[0mget_pvalues\u001b[0m\u001b[0;34m(\u001b[0m\u001b[0;34m)\u001b[0m\u001b[0;34m)\u001b[0m\u001b[0;34m\u001b[0m\u001b[0;34m\u001b[0m\u001b[0m\n",
      "\u001b[0;31mAttributeError\u001b[0m: 'WrappedFunction1D' object has no attribute 'ax'"
     ]
    },
    {
     "data": {
      "application/vnd.jupyter.widget-view+json": {
       "model_id": "a84767209029479abde37c6659b71777",
       "version_major": 2,
       "version_minor": 0
      },
      "text/html": [
       "\n",
       "            <div style=\"display: inline-block;\">\n",
       "                <div class=\"jupyter-widgets widget-label\" style=\"text-align: center;\">\n",
       "                    Figure\n",
       "                </div>\n",
       "                <img src='data:image/png;base64,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' width=640.0/>\n",
       "            </div>\n",
       "        "
      ],
      "text/plain": [
       "Canvas(toolbar=Toolbar(toolitems=[('Home', 'Reset original view', 'home', 'home'), ('Back', 'Back to previous …"
      ]
     },
     "metadata": {},
     "output_type": "display_data"
    }
   ],
   "source": [
    "@name_eq(\"Gain at new price\")\n",
    "def get(investment, ref_price, new_price, K=0.8):\n",
    "    buy_price = ref_price*K\n",
    "    nb_action_wo_abondement = investment/buy_price\n",
    "    nb_action_abondement = np.minimum(nb_action_wo_abondement//4, 10)\n",
    "    nb_action_totale = nb_action_wo_abondement + nb_action_abondement\n",
    "    recieved_price_at_ref_price = nb_action_totale * ref_price\n",
    "    gain_at_ref_price = recieved_price_at_ref_price - investment\n",
    "    taux_at_ref_price = recieved_price_at_ref_price / investment\n",
    "    \n",
    "    price_at_new_price = nb_action_totale * new_price\n",
    "    gain_at_new_price = price_at_new_price - investment\n",
    "    taux_at_new_price = price_at_new_price / investment\n",
    "    return gain_at_new_price#price_at_new_price, recieved_price_at_ref_price, buy_price, nb_action_o_abondement, nb_action_abondement, nb_action_totale, gain_at_ref_price, taux_at_ref_price, gain_at_new_price, taux_at_new_price\n",
    "\n",
    "\n",
    "wf = WrappedFunction1D(get, 50, 4000, \n",
    "                       ref_price=(40, 140),\n",
    "                       new_price=(40, 140))\n",
    "wf"
   ]
  },
  {
   "cell_type": "code",
   "execution_count": 11,
   "metadata": {},
   "outputs": [],
   "source": []
  },
  {
   "cell_type": "code",
   "execution_count": 13,
   "metadata": {
    "lines_to_next_cell": 2
   },
   "outputs": [],
   "source": []
  },
  {
   "cell_type": "code",
   "execution_count": null,
   "metadata": {},
   "outputs": [],
   "source": []
  }
 ],
 "metadata": {
  "jupytext": {
   "text_representation": {
    "extension": ".py",
    "format_name": "percent",
    "format_version": "1.3",
    "jupytext_version": "1.13.4"
   }
  },
  "kernelspec": {
   "display_name": "Python 3 (ipykernel)",
   "language": "python",
   "name": "python3"
  },
  "language_info": {
   "codemirror_mode": {
    "name": "ipython",
    "version": 3
   },
   "file_extension": ".py",
   "mimetype": "text/x-python",
   "name": "python",
   "nbconvert_exporter": "python",
   "pygments_lexer": "ipython3",
   "version": "3.9.7"
  }
 },
 "nbformat": 4,
 "nbformat_minor": 4
}
