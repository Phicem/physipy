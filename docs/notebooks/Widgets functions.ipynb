{
 "cells": [
  {
   "cell_type": "markdown",
   "metadata": {},
   "source": [
    "# Function UI with widgets and decorators"
   ]
  },
  {
   "cell_type": "markdown",
   "metadata": {},
   "source": [
    "It is possible to get a function widget just using decorators : \n",
    " - if available, a \"name\" will be displayed\n",
    " - if available, an equation in Latex will be displayed\n",
    " - if available, the annotation will be used as start value for inputs\n",
    " - if available, the annotation for output will used as favunit"
   ]
  },
  {
   "cell_type": "code",
   "execution_count": 1,
   "metadata": {},
   "outputs": [],
   "source": [
    "from physipy.quantity.utils import latex_eq, name_eq\n",
    "from physipy import units, sr, constants, m, s\n",
    "import numpy as np\n",
    "from physipy.qwidgets.ui import ui_widget_decorate_from_annotations, ui_widget_decorate\n",
    "\n",
    "pi = np.pi\n",
    "g = constants[\"g\"]\n",
    "mm = units['mm']\n",
    "msr = units[\"msr\"]"
   ]
  },
  {
   "cell_type": "markdown",
   "metadata": {},
   "source": [
    "## using functions"
   ]
  },
  {
   "cell_type": "code",
   "execution_count": 2,
   "metadata": {
    "tags": []
   },
   "outputs": [
    {
     "data": {
      "application/vnd.jupyter.widget-view+json": {
       "model_id": "d1c49413956e483893db5883864c2c36",
       "version_major": 2,
       "version_minor": 0
      },
      "text/plain": [
       "VBox(children=(HBox(children=(Label(value='Speed:'), Label(value='v = d/t'))), VBox(children=(QuantityText(val…"
      ]
     },
     "metadata": {},
     "output_type": "display_data"
    }
   ],
   "source": [
    "# define the function, and optionnaly add decorators, and annotations\n",
    "@latex_eq(r\"v = d/t\")\n",
    "@name_eq(\"Speed\")\n",
    "def speed(length: m, time: s) -> m/s:\n",
    "    return length / time\n",
    "\n",
    "\n",
    "# create the ui\n",
    "speed_ui = ui_widget_decorate_from_annotations(speed)\n",
    "\n",
    "# display the ui\n",
    "speed_ui"
   ]
  },
  {
   "cell_type": "code",
   "execution_count": 3,
   "metadata": {},
   "outputs": [
    {
     "data": {
      "application/vnd.jupyter.widget-view+json": {
       "model_id": "bbdbe8db5fb641748d295eb7b7ef6247",
       "version_major": 2,
       "version_minor": 0
      },
      "text/plain": [
       "VBox(children=(HBox(children=(Label(value='Speed:'), Label(value='v = d/t'))), VBox(children=(QuantityTextSlid…"
      ]
     },
     "metadata": {},
     "output_type": "display_data"
    }
   ],
   "source": [
    "# define the function, and optionnaly add decorators, and annotations\n",
    "@latex_eq(r\"v = d/t\")\n",
    "@name_eq(\"Speed\")\n",
    "def speed(length: m, time: s) -> m/s:\n",
    "    return length / time\n",
    "\n",
    "# create the ui\n",
    "speed_ui = ui_widget_decorate_from_annotations(speed, kind=\"TextSlider\")\n",
    "\n",
    "# display the ui\n",
    "speed_ui"
   ]
  },
  {
   "cell_type": "code",
   "execution_count": 4,
   "metadata": {},
   "outputs": [
    {
     "data": {
      "application/vnd.jupyter.widget-view+json": {
       "model_id": "986f1b20efa84bf99a0a984149b47d84",
       "version_major": 2,
       "version_minor": 0
      },
      "text/plain": [
       "VBox(children=(HBox(children=(Label(value='Speed:'), Label(value='$v = d/t$'))), VBox(children=(QuantityText(v…"
      ]
     },
     "metadata": {},
     "output_type": "display_data"
    }
   ],
   "source": [
    "# define the function, and optionnaly add decorators, and annotations\n",
    "@latex_eq(r\"$v = d/t$\")\n",
    "@name_eq(\"Speed\")\n",
    "def speed(length: m, time: s) -> m/s:\n",
    "    return length / time\n",
    "\n",
    "\n",
    "# create the ui\n",
    "speed_ui = ui_widget_decorate_from_annotations(speed)\n",
    "\n",
    "# display the ui\n",
    "speed_ui"
   ]
  },
  {
   "cell_type": "markdown",
   "metadata": {},
   "source": [
    "## using decorator notation"
   ]
  },
  {
   "cell_type": "markdown",
   "metadata": {},
   "source": [
    "Equivalently using decorator notation"
   ]
  },
  {
   "cell_type": "code",
   "execution_count": 5,
   "metadata": {},
   "outputs": [
    {
     "data": {
      "application/vnd.jupyter.widget-view+json": {
       "model_id": "e3a317bad63b4e22a0de1c42021fc9e3",
       "version_major": 2,
       "version_minor": 0
      },
      "text/plain": [
       "VBox(children=(HBox(children=(Label(value='Speed:'), Label(value='$v = \\\\frac{d}{t}$'))), VBox(children=(Quant…"
      ]
     },
     "metadata": {},
     "output_type": "display_data"
    }
   ],
   "source": [
    "# equivalently\n",
    "@ui_widget_decorate_from_annotations\n",
    "@latex_eq(r\"$v = \\frac{d}{t}$\")\n",
    "@name_eq(\"Speed\")\n",
    "def speed(length: 2*m, time: 10*s) -> m/s:\n",
    "    return length / time\n",
    "\n",
    "\n",
    "speed"
   ]
  },
  {
   "cell_type": "markdown",
   "metadata": {},
   "source": [
    "More examples"
   ]
  },
  {
   "cell_type": "code",
   "execution_count": 6,
   "metadata": {},
   "outputs": [
    {
     "data": {
      "application/vnd.jupyter.widget-view+json": {
       "model_id": "96f5894d5afd4560b25278b11f3d9be7",
       "version_major": 2,
       "version_minor": 0
      },
      "text/plain": [
       "VBox(children=(HBox(children=(Label(value='PSA:'), Label(value='$\\\\Omega = \\\\frac{\\\\pi}{4(f/D)^2}$'))), VBox(c…"
      ]
     },
     "metadata": {},
     "output_type": "display_data"
    }
   ],
   "source": [
    "# define the function, and optionnaly add decorators, and annotations\n",
    "@latex_eq(r\"$\\Omega = \\frac{\\pi}{4(f/D)^2}$\")\n",
    "@name_eq(\"PSA\")\n",
    "def psa(f: m, D: m) -> msr:          # the output will be displayed using msr\n",
    "    return np.pi / (4*(f/D)**2)*sr\n",
    "\n",
    "\n",
    "# create the ui\n",
    "psa_ui = ui_widget_decorate_from_annotations(psa)\n",
    "\n",
    "# display the ui\n",
    "psa_ui"
   ]
  },
  {
   "cell_type": "code",
   "execution_count": 7,
   "metadata": {},
   "outputs": [
    {
     "data": {
      "application/vnd.jupyter.widget-view+json": {
       "model_id": "193df238364d4db19ab6530105ea25c7",
       "version_major": 2,
       "version_minor": 0
      },
      "text/plain": [
       "VBox(children=(HBox(children=(Label(value='Pendulum period ::'), Label(value='$T = 2\\\\pi \\\\sqrt{\\\\frac{L}{g}}$…"
      ]
     },
     "metadata": {},
     "output_type": "display_data"
    }
   ],
   "source": [
    "# define the function, and optionnaly add decorators, and annotations\n",
    "@latex_eq(r\"$T = 2\\pi \\sqrt{\\frac{L}{g}}$\")\n",
    "@name_eq(\"Pendulum period :\")\n",
    "def pendulum_period(L: mm):\n",
    "    return 2 * pi * np.sqrt(L/g)\n",
    "\n",
    "\n",
    "# create the ui\n",
    "pendulum_ui = ui_widget_decorate_from_annotations(pendulum_period)\n",
    "\n",
    "# display the ui\n",
    "pendulum_ui"
   ]
  },
  {
   "cell_type": "markdown",
   "metadata": {},
   "source": [
    "Without annotations"
   ]
  },
  {
   "cell_type": "code",
   "execution_count": 8,
   "metadata": {},
   "outputs": [
    {
     "data": {
      "application/vnd.jupyter.widget-view+json": {
       "model_id": "5b4f349f4ef141ec988d34afc4c1db4a",
       "version_major": 2,
       "version_minor": 0
      },
      "text/plain": [
       "VBox(children=(HBox(children=(Label(value='Cut-off frequency of R-C circuit ::'), Label(value='$f_c = \\\\frac{1…"
      ]
     },
     "metadata": {},
     "output_type": "display_data"
    }
   ],
   "source": [
    "ohm = units[\"ohm\"]\n",
    "farad = units[\"F\"]\n",
    "\n",
    "\n",
    "@latex_eq(r\"$f_c = \\frac{1}{2\\pi RC}$\")\n",
    "@name_eq(\"Cut-off frequency of R-C circuit :\")\n",
    "def freq_RC(R, C):\n",
    "    return 1/(2 * pi * R * C)\n",
    "\n",
    "\n",
    "freq_RC_ui = ui_widget_decorate([(\"R\", ohm),\n",
    "                                 (\"C\", farad, \"Capacitance\")])(freq_RC)\n",
    "\n",
    "freq_RC_ui"
   ]
  },
  {
   "cell_type": "markdown",
   "metadata": {},
   "source": [
    "With favunit output"
   ]
  },
  {
   "cell_type": "code",
   "execution_count": 19,
   "metadata": {},
   "outputs": [
    {
     "data": {
      "application/vnd.jupyter.widget-view+json": {
       "model_id": "11884713233e4bb0af22efdde79d572c",
       "version_major": 2,
       "version_minor": 0
      },
      "text/plain": [
       "VBox(children=(HBox(children=(Label(value='Cut-off frequency of R-C circuit ::'), Label(value='$f_c = \\\\frac{1…"
      ]
     },
     "metadata": {},
     "output_type": "display_data"
    }
   ],
   "source": [
    "Hz = units[\"Hz\"]\n",
    "GHz = Hz*10**9\n",
    "GHz.symbol = \"GHz\"\n",
    "\n",
    "from physipy import set_favunit\n",
    "\n",
    "@ui_widget_decorate_from_annotations\n",
    "@set_favunit(GHz)\n",
    "@latex_eq(r\"$f_c = \\frac{1}{2\\pi RC}$\")\n",
    "@name_eq(\"Cut-off frequency of R-C circuit :\")\n",
    "def freq_RC(R:ohm, C:farad):\n",
    "    return 1/(2 * pi * R * C)\n",
    "\n",
    "freq_RC"
   ]
  },
  {
   "cell_type": "code",
   "execution_count": null,
   "metadata": {},
   "outputs": [],
   "source": []
  }
 ],
 "metadata": {
  "kernelspec": {
   "display_name": "Python 3 (ipykernel)",
   "language": "python",
   "name": "python3"
  },
  "language_info": {
   "codemirror_mode": {
    "name": "ipython",
    "version": 3
   },
   "file_extension": ".py",
   "mimetype": "text/x-python",
   "name": "python",
   "nbconvert_exporter": "python",
   "pygments_lexer": "ipython3",
   "version": "3.9.7"
  }
 },
 "nbformat": 4,
 "nbformat_minor": 4
}
