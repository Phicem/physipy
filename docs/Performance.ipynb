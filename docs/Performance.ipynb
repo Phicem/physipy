{
 "cells": [
  {
   "cell_type": "markdown",
   "metadata": {},
   "source": [
    "# Performance"
   ]
  },
  {
   "cell_type": "markdown",
   "metadata": {},
   "source": [
    "Obviously, using unit-aware variables will slow down any computation compared to raw python values (int, flot, numpy.ndarray)."
   ]
  },
  {
   "cell_type": "code",
   "execution_count": 1,
   "metadata": {},
   "outputs": [],
   "source": [
    "import matplotlib.pyplot as plt\n",
    "import numpy as np\n",
    "\n",
    "import physipy\n",
    "from physipy import s, m, setup_matplotlib\n",
    "\n",
    "from physipy import Dimension, units, quantify, Quantity\n",
    "\n",
    "\n",
    "\n",
    "ms = units[\"ms\"]\n",
    "mm = units['mm']\n",
    "km = units[\"km\"]\n",
    "cm = units[\"cm\"]\n",
    "mus = units[\"mus\"]\n",
    "ns = units[\"ns\"]\n",
    "a = 123456\n",
    "b = 654321\n",
    "\n",
    "aq = a*m\n",
    "bq = b*m\n"
   ]
  },
  {
   "cell_type": "markdown",
   "metadata": {},
   "source": [
    "Basic comparison on addition"
   ]
  },
  {
   "cell_type": "code",
   "execution_count": 2,
   "metadata": {},
   "outputs": [
    {
     "name": "stdout",
     "output_type": "stream",
     "text": [
      "61.8 ns ± 1.8 ns per loop (mean ± std. dev. of 7 runs, 10000000 loops each)\n",
      "11.8 µs ± 40.8 ns per loop (mean ± std. dev. of 7 runs, 100000 loops each)\n"
     ]
    }
   ],
   "source": [
    "%timeit  (a +  b)\n",
    "%timeit (aq + bq)"
   ]
  },
  {
   "cell_type": "code",
   "execution_count": 3,
   "metadata": {},
   "outputs": [
    {
     "name": "stdout",
     "output_type": "stream",
     "text": [
      "194.66248037676607\n"
     ]
    }
   ],
   "source": [
    "print(12.4*mus/(63.7*ns))"
   ]
  },
  {
   "cell_type": "markdown",
   "metadata": {},
   "source": [
    "Basic comparison on pow"
   ]
  },
  {
   "cell_type": "code",
   "execution_count": 4,
   "metadata": {},
   "outputs": [
    {
     "name": "stdout",
     "output_type": "stream",
     "text": [
      "302 ns ± 9.6 ns per loop (mean ± std. dev. of 7 runs, 1000000 loops each)\n",
      "21.2 µs ± 2.04 µs per loop (mean ± std. dev. of 7 runs, 10000 loops each)\n"
     ]
    }
   ],
   "source": [
    "%timeit  (a**2)\n",
    "%timeit (aq**2)"
   ]
  },
  {
   "cell_type": "code",
   "execution_count": 5,
   "metadata": {},
   "outputs": [
    {
     "name": "stdout",
     "output_type": "stream",
     "text": [
      "78.89273356401384\n"
     ]
    }
   ],
   "source": [
    "print(22.8*mus/(289*ns))"
   ]
  },
  {
   "cell_type": "markdown",
   "metadata": {},
   "source": [
    "## benchmark timing"
   ]
  },
  {
   "cell_type": "markdown",
   "metadata": {},
   "source": [
    "Here is a comparison of most operations : "
   ]
  },
  {
   "cell_type": "code",
   "execution_count": 1,
   "metadata": {},
   "outputs": [],
   "source": [
    "import timeit\n",
    "\n",
    "operations = {\n",
    "    \"add\":\"__add__\", \n",
    "    \"sub\":\"__sub__\",\n",
    "    \"mul\":\"__mul__\",\n",
    "}"
   ]
  },
  {
   "cell_type": "code",
   "execution_count": 19,
   "metadata": {},
   "outputs": [],
   "source": [
    "import pint\n",
    "import physipy\n",
    "import forallpeople\n",
    "import numpy as np\n",
    "\n",
    "ureg = pint.UnitRegistry()\n",
    "\n",
    "a = 123456\n",
    "b = 654321\n",
    "arr = np.arange(100)"
   ]
  },
  {
   "cell_type": "code",
   "execution_count": 23,
   "metadata": {},
   "outputs": [
    {
     "name": "stdout",
     "output_type": "stream",
     "text": [
      "physipy\n",
      "  add : 0.15226\n",
      "  sub : 0.11834\n",
      "  mul : 0.22262\n",
      "  add : 2.31834\n",
      "  sub : 2.19373\n",
      "  mul : 2.49435\n",
      "pint\n",
      "  add : 0.08753\n",
      "  sub : 0.08644\n",
      "  mul : 0.11502\n",
      "  add : 2.27910\n",
      "  sub : 2.18198\n",
      "  mul : 2.37741\n",
      "forallpeople\n",
      "  add : 0.02015\n",
      "  sub : 0.02010\n",
      "  mul : 0.51084\n",
      "  add : 4.38325\n",
      "  sub : 4.35334\n"
     ]
    },
    {
     "ename": "ValueError",
     "evalue": "The truth value of an array with more than one element is ambiguous. Use a.any() or a.all()",
     "output_type": "error",
     "traceback": [
      "\u001b[0;31m---------------------------------------------------------------------------\u001b[0m",
      "\u001b[0;31mValueError\u001b[0m                                Traceback (most recent call last)",
      "\u001b[0;32m<ipython-input-23-a214be008637>\u001b[0m in \u001b[0;36m<module>\u001b[0;34m\u001b[0m\n\u001b[1;32m     31\u001b[0m         \u001b[0marr\u001b[0m \u001b[0;34m=\u001b[0m \u001b[0mmodules_dict\u001b[0m\u001b[0;34m[\u001b[0m\u001b[0;34m\"arrm\"\u001b[0m\u001b[0;34m]\u001b[0m\u001b[0;34m\u001b[0m\u001b[0;34m\u001b[0m\u001b[0m\n\u001b[1;32m     32\u001b[0m         \u001b[0;31m#time = timeit.timeit('a.'+operation_method+\"(b)\", number=10000, globals=globals())\u001b[0m\u001b[0;34m\u001b[0m\u001b[0;34m\u001b[0m\u001b[0;34m\u001b[0m\u001b[0m\n\u001b[0;32m---> 33\u001b[0;31m         \u001b[0mtime_qarr\u001b[0m \u001b[0;34m=\u001b[0m \u001b[0mtimeit\u001b[0m\u001b[0;34m.\u001b[0m\u001b[0mtimeit\u001b[0m\u001b[0;34m(\u001b[0m\u001b[0;34m'aq.'\u001b[0m\u001b[0;34m+\u001b[0m\u001b[0moperation_method\u001b[0m\u001b[0;34m+\u001b[0m\u001b[0;34m\"(arr)\"\u001b[0m\u001b[0;34m,\u001b[0m \u001b[0mnumber\u001b[0m\u001b[0;34m=\u001b[0m\u001b[0;36m10000\u001b[0m\u001b[0;34m,\u001b[0m \u001b[0mglobals\u001b[0m\u001b[0;34m=\u001b[0m\u001b[0mglobals\u001b[0m\u001b[0;34m(\u001b[0m\u001b[0;34m)\u001b[0m\u001b[0;34m)\u001b[0m\u001b[0;34m\u001b[0m\u001b[0;34m\u001b[0m\u001b[0m\n\u001b[0m\u001b[1;32m     34\u001b[0m \u001b[0;34m\u001b[0m\u001b[0m\n\u001b[1;32m     35\u001b[0m         \u001b[0;31m#print(f\"{operation: >5} : {time_q/time: <5.1f}\")\u001b[0m\u001b[0;34m\u001b[0m\u001b[0;34m\u001b[0m\u001b[0;34m\u001b[0m\u001b[0m\n",
      "\u001b[0;32m/opt/anaconda3/lib/python3.8/timeit.py\u001b[0m in \u001b[0;36mtimeit\u001b[0;34m(stmt, setup, timer, number, globals)\u001b[0m\n\u001b[1;32m    231\u001b[0m            number=default_number, globals=None):\n\u001b[1;32m    232\u001b[0m     \u001b[0;34m\"\"\"Convenience function to create Timer object and call timeit method.\"\"\"\u001b[0m\u001b[0;34m\u001b[0m\u001b[0;34m\u001b[0m\u001b[0m\n\u001b[0;32m--> 233\u001b[0;31m     \u001b[0;32mreturn\u001b[0m \u001b[0mTimer\u001b[0m\u001b[0;34m(\u001b[0m\u001b[0mstmt\u001b[0m\u001b[0;34m,\u001b[0m \u001b[0msetup\u001b[0m\u001b[0;34m,\u001b[0m \u001b[0mtimer\u001b[0m\u001b[0;34m,\u001b[0m \u001b[0mglobals\u001b[0m\u001b[0;34m)\u001b[0m\u001b[0;34m.\u001b[0m\u001b[0mtimeit\u001b[0m\u001b[0;34m(\u001b[0m\u001b[0mnumber\u001b[0m\u001b[0;34m)\u001b[0m\u001b[0;34m\u001b[0m\u001b[0;34m\u001b[0m\u001b[0m\n\u001b[0m\u001b[1;32m    234\u001b[0m \u001b[0;34m\u001b[0m\u001b[0m\n\u001b[1;32m    235\u001b[0m def repeat(stmt=\"pass\", setup=\"pass\", timer=default_timer,\n",
      "\u001b[0;32m/opt/anaconda3/lib/python3.8/timeit.py\u001b[0m in \u001b[0;36mtimeit\u001b[0;34m(self, number)\u001b[0m\n\u001b[1;32m    175\u001b[0m         \u001b[0mgc\u001b[0m\u001b[0;34m.\u001b[0m\u001b[0mdisable\u001b[0m\u001b[0;34m(\u001b[0m\u001b[0;34m)\u001b[0m\u001b[0;34m\u001b[0m\u001b[0;34m\u001b[0m\u001b[0m\n\u001b[1;32m    176\u001b[0m         \u001b[0;32mtry\u001b[0m\u001b[0;34m:\u001b[0m\u001b[0;34m\u001b[0m\u001b[0;34m\u001b[0m\u001b[0m\n\u001b[0;32m--> 177\u001b[0;31m             \u001b[0mtiming\u001b[0m \u001b[0;34m=\u001b[0m \u001b[0mself\u001b[0m\u001b[0;34m.\u001b[0m\u001b[0minner\u001b[0m\u001b[0;34m(\u001b[0m\u001b[0mit\u001b[0m\u001b[0;34m,\u001b[0m \u001b[0mself\u001b[0m\u001b[0;34m.\u001b[0m\u001b[0mtimer\u001b[0m\u001b[0;34m)\u001b[0m\u001b[0;34m\u001b[0m\u001b[0;34m\u001b[0m\u001b[0m\n\u001b[0m\u001b[1;32m    178\u001b[0m         \u001b[0;32mfinally\u001b[0m\u001b[0;34m:\u001b[0m\u001b[0;34m\u001b[0m\u001b[0;34m\u001b[0m\u001b[0m\n\u001b[1;32m    179\u001b[0m             \u001b[0;32mif\u001b[0m \u001b[0mgcold\u001b[0m\u001b[0;34m:\u001b[0m\u001b[0;34m\u001b[0m\u001b[0;34m\u001b[0m\u001b[0m\n",
      "\u001b[0;32m<timeit-src>\u001b[0m in \u001b[0;36minner\u001b[0;34m(_it, _timer)\u001b[0m\n",
      "\u001b[0;32m/opt/anaconda3/lib/python3.8/site-packages/forallpeople/__init__.py\u001b[0m in \u001b[0;36m__mul__\u001b[0;34m(self, other)\u001b[0m\n\u001b[1;32m    486\u001b[0m \u001b[0;34m\u001b[0m\u001b[0m\n\u001b[1;32m    487\u001b[0m     \u001b[0;32mdef\u001b[0m \u001b[0m__mul__\u001b[0m\u001b[0;34m(\u001b[0m\u001b[0mself\u001b[0m\u001b[0;34m,\u001b[0m \u001b[0mother\u001b[0m\u001b[0;34m)\u001b[0m\u001b[0;34m:\u001b[0m\u001b[0;34m\u001b[0m\u001b[0;34m\u001b[0m\u001b[0m\n\u001b[0;32m--> 488\u001b[0;31m         \u001b[0;32mif\u001b[0m \u001b[0mphf\u001b[0m\u001b[0;34m.\u001b[0m\u001b[0mis_nan\u001b[0m\u001b[0;34m(\u001b[0m\u001b[0mother\u001b[0m\u001b[0;34m)\u001b[0m\u001b[0;34m:\u001b[0m\u001b[0;34m\u001b[0m\u001b[0;34m\u001b[0m\u001b[0m\n\u001b[0m\u001b[1;32m    489\u001b[0m             \u001b[0;32mreturn\u001b[0m \u001b[0mother\u001b[0m\u001b[0;34m\u001b[0m\u001b[0;34m\u001b[0m\u001b[0m\n\u001b[1;32m    490\u001b[0m         \u001b[0;32melif\u001b[0m \u001b[0misinstance\u001b[0m\u001b[0;34m(\u001b[0m\u001b[0mother\u001b[0m\u001b[0;34m,\u001b[0m \u001b[0mNUMBER\u001b[0m\u001b[0;34m)\u001b[0m\u001b[0;34m:\u001b[0m\u001b[0;34m\u001b[0m\u001b[0;34m\u001b[0m\u001b[0m\n",
      "\u001b[0;32m/opt/anaconda3/lib/python3.8/site-packages/forallpeople/physical_helper_functions.py\u001b[0m in \u001b[0;36mis_nan\u001b[0;34m(value)\u001b[0m\n\u001b[1;32m    517\u001b[0m     \"\"\"\n\u001b[1;32m    518\u001b[0m     \u001b[0;31m# Test for numpy.nan and float('nan')\u001b[0m\u001b[0;34m\u001b[0m\u001b[0;34m\u001b[0m\u001b[0;34m\u001b[0m\u001b[0m\n\u001b[0;32m--> 519\u001b[0;31m     \u001b[0;32mif\u001b[0m \u001b[0;32mnot\u001b[0m \u001b[0mvalue\u001b[0m \u001b[0;34m==\u001b[0m \u001b[0mvalue\u001b[0m\u001b[0;34m:\u001b[0m\u001b[0;34m\u001b[0m\u001b[0;34m\u001b[0m\u001b[0m\n\u001b[0m\u001b[1;32m    520\u001b[0m         \u001b[0;32mreturn\u001b[0m \u001b[0;32mTrue\u001b[0m\u001b[0;34m\u001b[0m\u001b[0;34m\u001b[0m\u001b[0m\n\u001b[1;32m    521\u001b[0m     \u001b[0;32melse\u001b[0m\u001b[0;34m:\u001b[0m\u001b[0;34m\u001b[0m\u001b[0;34m\u001b[0m\u001b[0m\n",
      "\u001b[0;31mValueError\u001b[0m: The truth value of an array with more than one element is ambiguous. Use a.any() or a.all()"
     ]
    }
   ],
   "source": [
    "physipy_qs = {\n",
    "    \"name\":\"physipy\",\n",
    "    \"a\":a*physipy.m,\n",
    "    \"b\":b*physipy.m,\n",
    "    'arrm':arr*physipy.m,\n",
    "}\n",
    "pint_qs = {\n",
    "    \"name\":\"pint\",\n",
    "    \"a\":a*ureg.m,\n",
    "    \"b\":b*ureg.m,\n",
    "    'arrm':arr*ureg.m,\n",
    "}\n",
    "fap_qs = {\n",
    "    \"name\":\"forallpeople\",\n",
    "    \"a\":a*forallpeople.m,\n",
    "    \"b\":b*forallpeople.m, \n",
    "    'arrm':arr*forallpeople.m, \n",
    "}\n",
    "\n",
    "for modules_dict in [physipy_qs, pint_qs, fap_qs]:\n",
    "    print(modules_dict[\"name\"])\n",
    "    for operation, operation_method in operations.items():\n",
    "        aq = modules_dict[\"a\"]\n",
    "        bq = modules_dict[\"b\"]\n",
    "        #time = timeit.timeit('a.'+operation_method+\"(b)\", number=10000, globals=globals())\n",
    "        time_q = timeit.timeit('aq.'+operation_method+\"(bq)\", number=10000, globals=globals())        \n",
    "        #print(f\"{operation: >5} : {time_q/time: <5.1f}\")\n",
    "        print(f\"{operation :>5} : {time_q:.5f}\")\n",
    "    for operation, operation_method in operations.items():\n",
    "        aq = modules_dict[\"a\"]\n",
    "        arr = modules_dict[\"arrm\"]\n",
    "        #time = timeit.timeit('a.'+operation_method+\"(b)\", number=10000, globals=globals())\n",
    "        time_qarr = timeit.timeit('aq.'+operation_method+\"(arr)\", number=10000, globals=globals())\n",
    "        \n",
    "        #print(f\"{operation: >5} : {time_q/time: <5.1f}\")\n",
    "        print(f\"{operation :>5} : {time_qarr:.5f}\")\n",
    "    "
   ]
  },
  {
   "cell_type": "code",
   "execution_count": null,
   "metadata": {},
   "outputs": [],
   "source": [
    "\n"
   ]
  },
  {
   "cell_type": "code",
   "execution_count": null,
   "metadata": {},
   "outputs": [],
   "source": []
  },
  {
   "cell_type": "code",
   "execution_count": null,
   "metadata": {},
   "outputs": [],
   "source": []
  },
  {
   "cell_type": "markdown",
   "metadata": {},
   "source": []
  },
  {
   "cell_type": "code",
   "execution_count": 3,
   "metadata": {},
   "outputs": [
    {
     "name": "stdout",
     "output_type": "stream",
     "text": [
      "Collecting line_profiler\n",
      "  Downloading line_profiler-3.2.6.tar.gz (89 kB)\n",
      "\u001b[K     |████████████████████████████████| 89 kB 1.9 MB/s eta 0:00:01\n",
      "\u001b[?25h  Installing build dependencies ... \u001b[?25ldone\n",
      "\u001b[?25h  Getting requirements to build wheel ... \u001b[?25ldone\n",
      "\u001b[?25h    Preparing wheel metadata ... \u001b[?25ldone\n",
      "\u001b[?25hRequirement already satisfied: IPython>=0.13; python_version >= \"3.7\" in /opt/anaconda3/lib/python3.8/site-packages (from line_profiler) (7.19.0)\n",
      "Requirement already satisfied: decorator in /opt/anaconda3/lib/python3.8/site-packages (from IPython>=0.13; python_version >= \"3.7\"->line_profiler) (4.4.2)\n",
      "Requirement already satisfied: traitlets>=4.2 in /opt/anaconda3/lib/python3.8/site-packages (from IPython>=0.13; python_version >= \"3.7\"->line_profiler) (5.0.5)\n",
      "Requirement already satisfied: backcall in /opt/anaconda3/lib/python3.8/site-packages (from IPython>=0.13; python_version >= \"3.7\"->line_profiler) (0.2.0)\n",
      "Requirement already satisfied: jedi>=0.10 in /opt/anaconda3/lib/python3.8/site-packages (from IPython>=0.13; python_version >= \"3.7\"->line_profiler) (0.17.1)\n",
      "Requirement already satisfied: pexpect>4.3; sys_platform != \"win32\" in /opt/anaconda3/lib/python3.8/site-packages (from IPython>=0.13; python_version >= \"3.7\"->line_profiler) (4.8.0)\n",
      "Requirement already satisfied: pickleshare in /opt/anaconda3/lib/python3.8/site-packages (from IPython>=0.13; python_version >= \"3.7\"->line_profiler) (0.7.5)\n",
      "Requirement already satisfied: prompt-toolkit!=3.0.0,!=3.0.1,<3.1.0,>=2.0.0 in /opt/anaconda3/lib/python3.8/site-packages (from IPython>=0.13; python_version >= \"3.7\"->line_profiler) (3.0.8)\n",
      "Requirement already satisfied: pygments in /opt/anaconda3/lib/python3.8/site-packages (from IPython>=0.13; python_version >= \"3.7\"->line_profiler) (2.7.2)\n",
      "Requirement already satisfied: setuptools>=18.5 in /opt/anaconda3/lib/python3.8/site-packages (from IPython>=0.13; python_version >= \"3.7\"->line_profiler) (50.3.1.post20201107)\n",
      "Requirement already satisfied: appnope; sys_platform == \"darwin\" in /opt/anaconda3/lib/python3.8/site-packages (from IPython>=0.13; python_version >= \"3.7\"->line_profiler) (0.1.0)\n",
      "Requirement already satisfied: ipython-genutils in /opt/anaconda3/lib/python3.8/site-packages (from traitlets>=4.2->IPython>=0.13; python_version >= \"3.7\"->line_profiler) (0.2.0)\n",
      "Requirement already satisfied: parso<0.8.0,>=0.7.0 in /opt/anaconda3/lib/python3.8/site-packages (from jedi>=0.10->IPython>=0.13; python_version >= \"3.7\"->line_profiler) (0.7.0)\n",
      "Requirement already satisfied: ptyprocess>=0.5 in /opt/anaconda3/lib/python3.8/site-packages (from pexpect>4.3; sys_platform != \"win32\"->IPython>=0.13; python_version >= \"3.7\"->line_profiler) (0.6.0)\n",
      "Requirement already satisfied: wcwidth in /opt/anaconda3/lib/python3.8/site-packages (from prompt-toolkit!=3.0.0,!=3.0.1,<3.1.0,>=2.0.0->IPython>=0.13; python_version >= \"3.7\"->line_profiler) (0.2.5)\n",
      "Building wheels for collected packages: line-profiler\n",
      "  Building wheel for line-profiler (PEP 517) ... \u001b[?25lerror\n",
      "\u001b[31m  ERROR: Command errored out with exit status 1:\n",
      "   command: /opt/anaconda3/bin/python /opt/anaconda3/lib/python3.8/site-packages/pip/_vendor/pep517/_in_process.py build_wheel /var/folders/5k/bf4syt7x1zjbhc6b28srzzym0000gn/T/tmpaxzjqrf5\n",
      "       cwd: /private/var/folders/5k/bf4syt7x1zjbhc6b28srzzym0000gn/T/pip-install-osa3ogbz/line-profiler\n",
      "  Complete output (117 lines):\n",
      "  Not searching for unused variables given on the command line.\n",
      "  -- The C compiler identification is unknown\n",
      "  -- Detecting C compiler ABI info\n",
      "  -- Detecting C compiler ABI info - failed\n",
      "  -- Check for working C compiler: /usr/bin/cc\n",
      "  -- Check for working C compiler: /usr/bin/cc - broken\n",
      "  CMake Error at /private/var/folders/5k/bf4syt7x1zjbhc6b28srzzym0000gn/T/pip-build-env-y6k2hgd8/overlay/lib/python3.8/site-packages/cmake/data/CMake.app/Contents/share/cmake-3.18/Modules/CMakeTestCCompiler.cmake:66 (message):\n",
      "    The C compiler\n",
      "  \n",
      "      \"/usr/bin/cc\"\n",
      "  \n",
      "    is not able to compile a simple test program.\n",
      "  \n",
      "    It fails with the following output:\n",
      "  \n",
      "      Change Dir: /private/var/folders/5k/bf4syt7x1zjbhc6b28srzzym0000gn/T/pip-install-osa3ogbz/line-profiler/_cmake_test_compile/build/CMakeFiles/CMakeTmp\n",
      "  \n",
      "      Run Build Command(s):/private/var/folders/5k/bf4syt7x1zjbhc6b28srzzym0000gn/T/pip-build-env-y6k2hgd8/overlay/bin/ninja cmTC_f8b9e && [1/2] Building C object CMakeFiles/cmTC_f8b9e.dir/testCCompiler.c.o\n",
      "      FAILED: CMakeFiles/cmTC_f8b9e.dir/testCCompiler.c.o\n",
      "      /usr/bin/cc   -arch x86_64 -o CMakeFiles/cmTC_f8b9e.dir/testCCompiler.c.o -c testCCompiler.c\n",
      "      xcrun: error: invalid active developer path (/Library/Developer/CommandLineTools), missing xcrun at: /Library/Developer/CommandLineTools/usr/bin/xcrun\n",
      "      ninja: build stopped: subcommand failed.\n",
      "  \n",
      "  \n",
      "  \n",
      "  \n",
      "  \n",
      "    CMake will not be able to correctly generate this project.\n",
      "  Call Stack (most recent call first):\n",
      "    CMakeLists.txt:3 (ENABLE_LANGUAGE)\n",
      "  \n",
      "  \n",
      "  -- Configuring incomplete, errors occurred!\n",
      "  See also \"/private/var/folders/5k/bf4syt7x1zjbhc6b28srzzym0000gn/T/pip-install-osa3ogbz/line-profiler/_cmake_test_compile/build/CMakeFiles/CMakeOutput.log\".\n",
      "  See also \"/private/var/folders/5k/bf4syt7x1zjbhc6b28srzzym0000gn/T/pip-install-osa3ogbz/line-profiler/_cmake_test_compile/build/CMakeFiles/CMakeError.log\".\n",
      "  Not searching for unused variables given on the command line.\n",
      "  -- The C compiler identification is unknown\n",
      "  -- Detecting C compiler ABI info\n",
      "  -- Detecting C compiler ABI info - failed\n",
      "  -- Check for working C compiler: /usr/bin/cc\n",
      "  -- Check for working C compiler: /usr/bin/cc - broken\n",
      "  CMake Error at /private/var/folders/5k/bf4syt7x1zjbhc6b28srzzym0000gn/T/pip-build-env-y6k2hgd8/overlay/lib/python3.8/site-packages/cmake/data/CMake.app/Contents/share/cmake-3.18/Modules/CMakeTestCCompiler.cmake:66 (message):\n",
      "    The C compiler\n",
      "  \n",
      "      \"/usr/bin/cc\"\n",
      "  \n",
      "    is not able to compile a simple test program.\n",
      "  \n",
      "    It fails with the following output:\n",
      "  \n",
      "      Change Dir: /private/var/folders/5k/bf4syt7x1zjbhc6b28srzzym0000gn/T/pip-install-osa3ogbz/line-profiler/_cmake_test_compile/build/CMakeFiles/CMakeTmp\n",
      "  \n",
      "      Run Build Command(s):/usr/bin/make cmTC_5fb8e/fast && xcrun: error: invalid active developer path (/Library/Developer/CommandLineTools), missing xcrun at: /Library/Developer/CommandLineTools/usr/bin/xcrun\n",
      "  \n",
      "  \n",
      "  \n",
      "  \n",
      "  \n",
      "    CMake will not be able to correctly generate this project.\n",
      "  Call Stack (most recent call first):\n",
      "    CMakeLists.txt:3 (ENABLE_LANGUAGE)\n",
      "  \n",
      "  \n",
      "  -- Configuring incomplete, errors occurred!\n",
      "  See also \"/private/var/folders/5k/bf4syt7x1zjbhc6b28srzzym0000gn/T/pip-install-osa3ogbz/line-profiler/_cmake_test_compile/build/CMakeFiles/CMakeOutput.log\".\n",
      "  See also \"/private/var/folders/5k/bf4syt7x1zjbhc6b28srzzym0000gn/T/pip-install-osa3ogbz/line-profiler/_cmake_test_compile/build/CMakeFiles/CMakeError.log\".\n",
      "  \n",
      "  \n",
      "  --------------------------------------------------------------------------------\n",
      "  -- Trying \"Ninja\" generator\n",
      "  --------------------------------\n",
      "  ---------------------------\n",
      "  ----------------------\n",
      "  -----------------\n",
      "  ------------\n",
      "  -------\n",
      "  --\n",
      "  --\n",
      "  -------\n",
      "  ------------\n",
      "  -----------------\n",
      "  ----------------------\n",
      "  ---------------------------\n",
      "  --------------------------------\n",
      "  -- Trying \"Ninja\" generator - failure\n",
      "  --------------------------------------------------------------------------------\n",
      "  \n",
      "  \n",
      "  \n",
      "  --------------------------------------------------------------------------------\n",
      "  -- Trying \"Unix Makefiles\" generator\n",
      "  --------------------------------\n",
      "  ---------------------------\n",
      "  ----------------------\n",
      "  -----------------\n",
      "  ------------\n",
      "  -------\n",
      "  --\n",
      "  --\n",
      "  -------\n",
      "  ------------\n",
      "  -----------------\n",
      "  ----------------------\n",
      "  ---------------------------\n",
      "  --------------------------------\n",
      "  -- Trying \"Unix Makefiles\" generator - failure\n",
      "  --------------------------------------------------------------------------------\n",
      "  \n",
      "  ********************************************************************************\n",
      "  scikit-build could not get a working generator for your system. Aborting build.\n",
      "  \n",
      "  Building MacOSX wheels for Python 3.8 requires XCode.\n",
      "  Get it here:\n",
      "  \n",
      "    https://developer.apple.com/xcode/\n",
      "  \n",
      "  ********************************************************************************\n",
      "  ----------------------------------------\u001b[0m\n",
      "\u001b[31m  ERROR: Failed building wheel for line-profiler\u001b[0m\n",
      "\u001b[?25hFailed to build line-profiler\n",
      "\u001b[31mERROR: Could not build wheels for line-profiler which use PEP 517 and cannot be installed directly\u001b[0m\n",
      "Note: you may need to restart the kernel to use updated packages.\n"
     ]
    }
   ],
   "source": [
    "pip install line_profiler"
   ]
  },
  {
   "cell_type": "code",
   "execution_count": 4,
   "metadata": {},
   "outputs": [
    {
     "name": "stderr",
     "output_type": "stream",
     "text": [
      "UsageError: Line magic function `%lprun` not found.\n"
     ]
    }
   ],
   "source": [
    "%lprun"
   ]
  },
  {
   "cell_type": "markdown",
   "metadata": {},
   "source": [
    "# Array creation"
   ]
  },
  {
   "cell_type": "markdown",
   "metadata": {},
   "source": [
    "Compare lazy creation of arrays"
   ]
  },
  {
   "cell_type": "code",
   "execution_count": null,
   "metadata": {},
   "outputs": [],
   "source": [
    "%timeit asqarray([0*m, 2*m])\n",
    "%timeit [0, 2]*m"
   ]
  },
  {
   "cell_type": "markdown",
   "metadata": {},
   "source": [
    "# Profiling base operations"
   ]
  },
  {
   "cell_type": "code",
   "execution_count": 7,
   "metadata": {},
   "outputs": [],
   "source": [
    "from physipy import m, s, rad, sr"
   ]
  },
  {
   "cell_type": "code",
   "execution_count": null,
   "metadata": {},
   "outputs": [
    {
     "name": "stdout",
     "output_type": "stream",
     "text": [
      " \n",
      "*** Profile stats marshalled to file 'prunsum_file'. \n",
      "snakeviz web server started on 127.0.0.1:8080; enter Ctrl-C to exit\n",
      "http://127.0.0.1:8080/snakeviz/%2FUsers%2Fmocquin%2FDocuments%2FCLE%2FOptique%2FPython%2FJUPYTER%2FMYLIB10%2FMODULES%2Fphysipy%2Fdocs%2Fprunsum_file\n"
     ]
    }
   ],
   "source": [
    "#%prun -D prunsum -s time m+m \n",
    "%prun -D prunsum_file -s nfl m+m \n",
    "!snakeviz prunsum_file"
   ]
  },
  {
   "cell_type": "markdown",
   "metadata": {},
   "source": [
    "Ideas for better performances : \n",
    " - less 'isinstance'\n",
    " - remove sympy \n",
    " - cleaner 'setattr'"
   ]
  },
  {
   "cell_type": "code",
   "execution_count": 10,
   "metadata": {},
   "outputs": [
    {
     "name": "stdout",
     "output_type": "stream",
     "text": [
      " \n",
      "*** Profile stats marshalled to file 'prundump'. \n"
     ]
    },
    {
     "data": {
      "text/plain": [
       "         453 function calls in 0.000 seconds\n",
       "\n",
       "   Ordered by: cumulative time\n",
       "\n",
       "   ncalls  tottime  percall  cumtime  percall filename:lineno(function)\n",
       "        1    0.000    0.000    0.000    0.000 {built-in method builtins.exec}\n",
       "        1    0.000    0.000    0.000    0.000 <string>:1(<module>)\n",
       "        3    0.000    0.000    0.000    0.000 quantity.py:168(__mul__)\n",
       "       11    0.000    0.000    0.000    0.000 quantity.py:92(__init__)\n",
       "       66    0.000    0.000    0.000    0.000 quantity.py:100(__setattr__)\n",
       "       13    0.000    0.000    0.000    0.000 dimension.py:83(__init__)\n",
       "        5    0.000    0.000    0.000    0.000 quantity.py:1312(quantify)\n",
       "        3    0.000    0.000    0.000    0.000 dimension.py:143(__mul__)\n",
       "        1    0.000    0.000    0.000    0.000 quantity.py:182(__truediv__)\n",
       "        1    0.000    0.000    0.000    0.000 quantity.py:150(__add__)\n",
       "        1    0.000    0.000    0.000    0.000 quantity.py:213(__pow__)\n",
       "        5    0.000    0.000    0.000    0.000 decorators.py:239(_func)\n",
       "        5    0.000    0.000    0.000    0.000 dimension.py:91(<listcomp>)\n",
       "      140    0.000    0.000    0.000    0.000 {built-in method builtins.isinstance}\n",
       "        2    0.000    0.000    0.000    0.000 quantity.py:312(__copy__)\n",
       "        5    0.000    0.000    0.000    0.000 decorators.py:120(binary_op_wrapper)\n",
       "       47    0.000    0.000    0.000    0.000 numeric.py:1865(isscalar)\n",
       "        4    0.000    0.000    0.000    0.000 symbol.py:209(__new__)\n",
       "        1    0.000    0.000    0.000    0.000 expr.py:210(__pow__)\n",
       "        5    0.000    0.000    0.000    0.000 quantity.py:536(rm_dim_if_dimless)\n",
       "        1    0.000    0.000    0.000    0.000 dimension.py:154(__truediv__)\n",
       "        1    0.000    0.000    0.000    0.000 dimension.py:173(__pow__)\n",
       "        5    0.000    0.000    0.000    0.000 quantity.py:533(is_dimensionless)\n",
       "        4    0.000    0.000    0.000    0.000 symbol.py:177(_sanitize)\n",
       "        1    0.000    0.000    0.000    0.000 expr.py:232(__div__)\n",
       "       11    0.000    0.000    0.000    0.000 abc.py:96(__instancecheck__)\n",
       "        3    0.000    0.000    0.000    0.000 expr.py:195(__mul__)\n",
       "       13    0.000    0.000    0.000    0.000 dimension.py:85(<dictcomp>)\n",
       "        1    0.000    0.000    0.000    0.000 sympify.py:90(sympify)\n",
       "        3    0.000    0.000    0.000    0.000 dimension.py:146(<dictcomp>)\n",
       "       11    0.000    0.000    0.000    0.000 {built-in method _abc._abc_instancecheck}\n",
       "       10    0.000    0.000    0.000    0.000 expr.py:106(__hash__)\n",
       "        5    0.000    0.000    0.000    0.000 {method 'issubset' of 'set' objects}\n",
       "       10    0.000    0.000    0.000    0.000 {built-in method builtins.hasattr}\n",
       "        1    0.000    0.000    0.000    0.000 expr.py:205(_pow)\n",
       "        2    0.000    0.000    0.000    0.000 numbers.py:2290(__hash__)\n",
       "        6    0.000    0.000    0.000    0.000 dimension.py:182(__eq__)\n",
       "        1    0.000    0.000    0.000    0.000 dimension.py:157(<dictcomp>)\n",
       "        4    0.000    0.000    0.000    0.000 logic.py:93(fuzzy_bool)\n",
       "       14    0.000    0.000    0.000    0.000 {method 'keys' of 'dict' objects}\n",
       "        1    0.000    0.000    0.000    0.000 dimension.py:176(<dictcomp>)\n",
       "        5    0.000    0.000    0.000    0.000 {built-in method builtins.all}\n",
       "        5    0.000    0.000    0.000    0.000 {method 'get' of 'dict' objects}\n",
       "        5    0.000    0.000    0.000    0.000 {method 'values' of 'dict' objects}\n",
       "        5    0.000    0.000    0.000    0.000 {method 'items' of 'dict' objects}\n",
       "        2    0.000    0.000    0.000    0.000 {built-in method builtins.getattr}\n",
       "        2    0.000    0.000    0.000    0.000 {built-in method builtins.hash}\n",
       "        1    0.000    0.000    0.000    0.000 {method 'disable' of '_lsprof.Profiler' objects}"
      ]
     },
     "metadata": {},
     "output_type": "display_data"
    }
   ],
   "source": [
    "%%prun -s cumulative -D prundump\n",
    "m + m\n",
    "2 * m\n",
    "2*s /(3*m)\n",
    "m**3"
   ]
  },
  {
   "cell_type": "code",
   "execution_count": null,
   "metadata": {},
   "outputs": [
    {
     "name": "stdout",
     "output_type": "stream",
     "text": [
      "snakeviz web server started on 127.0.0.1:8080; enter Ctrl-C to exit\n",
      "http://127.0.0.1:8080/snakeviz/%2FUsers%2Fmocquin%2FDocuments%2FCLE%2FOptique%2FPython%2FJUPYTER%2FMYLIB10%2FMODULES%2Fphysipy%2Fdocs%2Fprundump\n"
     ]
    }
   ],
   "source": [
    "!snakeviz prundump"
   ]
  },
  {
   "cell_type": "markdown",
   "metadata": {},
   "source": [
    "# Profiling tests"
   ]
  },
  {
   "cell_type": "code",
   "execution_count": 1,
   "metadata": {},
   "outputs": [],
   "source": [
    "import sys\n",
    "sys.path.insert(0,r\"/Users/mocquin/MYLIB10/MODULES/physipy/test\")\n",
    "import physipy\n",
    "import test_dimension\n",
    "import unittest\n",
    "from physipy import Quantity, Dimension"
   ]
  },
  {
   "cell_type": "code",
   "execution_count": 2,
   "metadata": {},
   "outputs": [],
   "source": [
    "from test_dimension import TestClassDimension"
   ]
  },
  {
   "cell_type": "code",
   "execution_count": 7,
   "metadata": {},
   "outputs": [
    {
     "name": "stdout",
     "output_type": "stream",
     "text": [
      "7.4 µs ± 613 ns per loop (mean ± std. dev. of 7 runs, 100000 loops each)\n"
     ]
    }
   ],
   "source": [
    "%timeit Quantity(1, Dimension(None))"
   ]
  },
  {
   "cell_type": "code",
   "execution_count": 3,
   "metadata": {},
   "outputs": [
    {
     "name": "stdout",
     "output_type": "stream",
     "text": [
      "6.72 µs ± 47.3 ns per loop (mean ± std. dev. of 7 runs, 100000 loops each)\n"
     ]
    }
   ],
   "source": [
    "%timeit Quantity(1, Dimension(None))"
   ]
  },
  {
   "cell_type": "code",
   "execution_count": 5,
   "metadata": {},
   "outputs": [],
   "source": [
    "testdim = test_dimension.TestClassDimension()"
   ]
  },
  {
   "cell_type": "code",
   "execution_count": 6,
   "metadata": {},
   "outputs": [
    {
     "ename": "AttributeError",
     "evalue": "'TestClassDimension' object has no attribute 'runTest'",
     "output_type": "error",
     "traceback": [
      "\u001b[0;31m---------------------------------------------------------------------------\u001b[0m",
      "\u001b[0;31mAttributeError\u001b[0m                            Traceback (most recent call last)",
      "\u001b[0;32m<ipython-input-6-449823bbb959>\u001b[0m in \u001b[0;36m<module>\u001b[0;34m\u001b[0m\n\u001b[0;32m----> 1\u001b[0;31m \u001b[0mtestdim\u001b[0m\u001b[0;34m.\u001b[0m\u001b[0mrun\u001b[0m\u001b[0;34m(\u001b[0m\u001b[0;34m)\u001b[0m\u001b[0;34m\u001b[0m\u001b[0;34m\u001b[0m\u001b[0m\n\u001b[0m",
      "\u001b[0;32m/opt/anaconda3/lib/python3.8/unittest/case.py\u001b[0m in \u001b[0;36mrun\u001b[0;34m(self, result)\u001b[0m\n\u001b[1;32m    649\u001b[0m         \u001b[0mresult\u001b[0m\u001b[0;34m.\u001b[0m\u001b[0mstartTest\u001b[0m\u001b[0;34m(\u001b[0m\u001b[0mself\u001b[0m\u001b[0;34m)\u001b[0m\u001b[0;34m\u001b[0m\u001b[0;34m\u001b[0m\u001b[0m\n\u001b[1;32m    650\u001b[0m \u001b[0;34m\u001b[0m\u001b[0m\n\u001b[0;32m--> 651\u001b[0;31m         \u001b[0mtestMethod\u001b[0m \u001b[0;34m=\u001b[0m \u001b[0mgetattr\u001b[0m\u001b[0;34m(\u001b[0m\u001b[0mself\u001b[0m\u001b[0;34m,\u001b[0m \u001b[0mself\u001b[0m\u001b[0;34m.\u001b[0m\u001b[0m_testMethodName\u001b[0m\u001b[0;34m)\u001b[0m\u001b[0;34m\u001b[0m\u001b[0;34m\u001b[0m\u001b[0m\n\u001b[0m\u001b[1;32m    652\u001b[0m         if (getattr(self.__class__, \"__unittest_skip__\", False) or\n\u001b[1;32m    653\u001b[0m             getattr(testMethod, \"__unittest_skip__\", False)):\n",
      "\u001b[0;31mAttributeError\u001b[0m: 'TestClassDimension' object has no attribute 'runTest'"
     ]
    }
   ],
   "source": [
    "testdim.run()"
   ]
  },
  {
   "cell_type": "code",
   "execution_count": 8,
   "metadata": {},
   "outputs": [
    {
     "name": "stdout",
     "output_type": "stream",
     "text": [
      "/Users/mocquin/Documents/CLE/Optique/Python/JUPYTER/MYLIB10/MODULES/physipy\n"
     ]
    }
   ],
   "source": [
    "%cd .."
   ]
  },
  {
   "cell_type": "code",
   "execution_count": 12,
   "metadata": {},
   "outputs": [
    {
     "name": "stdout",
     "output_type": "stream",
     "text": [
      "..........................................<__array_function__ internals>:5: DeprecationWarning: `np.alen` is deprecated, use `len` instead\n",
      "....................................................\n",
      "----------------------------------------------------------------------\n",
      "Ran 94 tests in 0.524s\n",
      "\n",
      "OK\n",
      " "
     ]
    },
    {
     "data": {
      "text/plain": [
       "         8370 function calls in 2.352 seconds\n",
       "\n",
       "   Ordered by: file name\n",
       "\n",
       "   ncalls  tottime  percall  cumtime  percall filename:lineno(function)\n",
       "        1    0.000    0.000    2.352    2.352 <string>:1(<module>)\n",
       "        1    0.000    0.000    0.000    0.000 __init__.py:214(_acquireLock)\n",
       "        1    0.000    0.000    0.000    0.000 __init__.py:223(_releaseLock)\n",
       "        1    0.000    0.000    0.000    0.000 _process_posix.py:60(sh)\n",
       "        1    0.001    0.001    2.250    2.250 _process_posix.py:121(system)\n",
       "      139    0.001    0.000    0.001    0.000 contextlib.py:82(__init__)\n",
       "      139    0.000    0.000    0.000    0.000 contextlib.py:108(__enter__)\n",
       "      139    0.000    0.000    0.001    0.000 contextlib.py:117(__exit__)\n",
       "      139    0.000    0.000    0.001    0.000 contextlib.py:238(helper)\n",
       "       40    0.000    0.000    0.000    0.000 exceptions.py:10(__init__)\n",
       "       42    0.000    0.000    0.000    0.000 expect.py:6(__init__)\n",
       "      129    0.001    0.000    0.001    0.000 expect.py:18(do_search)\n",
       "       42    0.000    0.000    0.000    0.000 expect.py:42(existing_data)\n",
       "       87    0.001    0.000    0.001    0.000 expect.py:72(new_data)\n",
       "        1    0.000    0.000    0.000    0.000 expect.py:100(eof)\n",
       "       41    0.000    0.000    0.000    0.000 expect.py:124(timeout)\n",
       "       42    0.001    0.000    2.194    0.052 expect.py:153(expect_loop)\n",
       "       42    0.000    0.000    0.000    0.000 expect.py:304(__init__)\n",
       "      129    0.000    0.000    0.000    0.000 expect.py:340(search)\n",
       "        1    0.000    0.000    0.000    0.000 genericpath.py:16(exists)\n",
       "        1    0.000    0.000    0.000    0.000 genericpath.py:27(isfile)\n",
       "        1    0.000    0.000    0.000    0.000 genericpath.py:39(isdir)\n",
       "        1    0.000    0.000    0.000    0.000 interactiveshell.py:705(get_ipython)\n",
       "        1    0.000    0.000    0.000    0.000 interactiveshell.py:3565(var_expand)\n",
       "      210    0.000    0.000    0.000    0.000 iostream.py:93(_event_pipe)\n",
       "      210    0.001    0.000    0.007    0.000 iostream.py:197(schedule)\n",
       "       84    0.000    0.000    0.000    0.000 iostream.py:310(_is_master_process)\n",
       "       84    0.000    0.000    0.001    0.000 iostream.py:323(_schedule_flush)\n",
       "       42    0.000    0.000    0.030    0.001 iostream.py:337(flush)\n",
       "       84    0.001    0.000    0.007    0.000 iostream.py:386(write)\n",
       "        6    0.000    0.000    0.000    0.000 posixpath.py:41(_get_sep)\n",
       "        2    0.000    0.000    0.000    0.000 posixpath.py:60(isabs)\n",
       "        2    0.000    0.000    0.000    0.000 posixpath.py:71(join)\n",
       "        2    0.000    0.000    0.000    0.000 posixpath.py:150(dirname)\n",
       "        2    0.000    0.000    0.001    0.000 posixpath.py:164(islink)\n",
       "        1    0.000    0.000    0.000    0.000 posixpath.py:334(normpath)\n",
       "        1    0.000    0.000    0.000    0.000 posixpath.py:372(abspath)\n",
       "        1    0.000    0.000    0.001    0.001 posixpath.py:387(realpath)\n",
       "        1    0.000    0.000    0.001    0.001 posixpath.py:396(_joinrealpath)\n",
       "        1    0.000    0.000    0.003    0.003 pty.py:80(fork)\n",
       "      278    0.000    0.000    0.000    0.000 pty_spawn.py:19(_wrap_ptyprocess_err)\n",
       "        1    0.000    0.000    0.016    0.016 pty_spawn.py:36(__init__)\n",
       "        1    0.000    0.000    0.016    0.016 pty_spawn.py:240(_spawn)\n",
       "        1    0.001    0.001    0.015    0.015 pty_spawn.py:313(_spawnpty)\n",
       "      254    0.001    0.000    2.171    0.009 pty_spawn.py:449(select)\n",
       "      127    0.001    0.000    2.178    0.017 pty_spawn.py:416(read_nonblocking)\n",
       "        1    0.000    0.000    0.000    0.000 pty_spawn.py:623(flag_eof)\n",
       "      139    0.001    0.000    0.005    0.000 pty_spawn.py:696(isalive)\n",
       "        1    0.000    0.000    0.000    0.000 ptyprocess.py:51(_make_eof_intr)\n",
       "        1    0.000    0.000    0.000    0.000 ptyprocess.py:118(_setwinsize)\n",
       "        1    0.000    0.000    0.000    0.000 ptyprocess.py:156(__init__)\n",
       "        1    0.000    0.000    0.014    0.014 ptyprocess.py:178(spawn)\n",
       "        1    0.000    0.000    0.102    0.102 ptyprocess.py:364(__del__)\n",
       "        1    0.000    0.000    0.102    0.102 ptyprocess.py:387(close)\n",
       "        1    0.000    0.000    0.000    0.000 ptyprocess.py:405(flush)\n",
       "      140    0.001    0.000    0.001    0.000 ptyprocess.py:685(isalive)\n",
       "        1    0.000    0.000    0.000    0.000 ptyprocess.py:782(setwinsize)\n",
       "        1    0.000    0.000    0.000    0.000 shutil.py:1347(_access_check)\n",
       "        1    0.000    0.000    0.000    0.000 shutil.py:1352(which)\n",
       "      210    0.004    0.000    0.004    0.000 socket.py:357(send)\n",
       "       87    0.000    0.000    0.000    0.000 spawnbase.py:19(decode)\n",
       "        1    0.000    0.000    0.000    0.000 spawnbase.py:33(__init__)\n",
       "       87    0.000    0.000    0.000    0.000 spawnbase.py:127(_log)\n",
       "       87    0.000    0.000    0.000    0.000 spawnbase.py:149(_get_buffer)\n",
       "       88    0.000    0.000    0.001    0.000 spawnbase.py:160(read_nonblocking)\n",
       "       42    0.000    0.000    2.195    0.052 spawnbase.py:346(expect_list)\n",
       "        1    0.000    0.000    0.000    0.000 string.py:260(parse)\n",
       "        1    0.000    0.000    0.000    0.000 text.py:541(vformat)\n",
       "        2    0.000    0.000    0.000    0.000 text.py:592(parse)\n",
       "       42    0.000    0.000    0.000    0.000 threading.py:222(__init__)\n",
       "       42    0.000    0.000    0.000    0.000 threading.py:246(__enter__)\n",
       "       42    0.000    0.000    0.000    0.000 threading.py:249(__exit__)\n",
       "       42    0.000    0.000    0.000    0.000 threading.py:255(_release_save)\n",
       "       42    0.000    0.000    0.000    0.000 threading.py:258(_acquire_restore)\n",
       "       42    0.000    0.000    0.000    0.000 threading.py:261(_is_owned)\n",
       "       42    0.000    0.000    0.027    0.001 threading.py:270(wait)\n",
       "       42    0.000    0.000    0.001    0.000 threading.py:505(__init__)\n",
       "      252    0.000    0.000    0.000    0.000 threading.py:513(is_set)\n",
       "       42    0.000    0.000    0.027    0.001 threading.py:540(wait)\n",
       "      252    0.000    0.000    0.001    0.000 threading.py:1017(_wait_for_tstate_lock)\n",
       "      252    0.001    0.000    0.002    0.000 threading.py:1071(is_alive)\n",
       "        1    0.000    0.000    0.001    0.001 utils.py:20(is_executable_file)\n",
       "        1    0.000    0.000    0.001    0.001 utils.py:48(which)\n",
       "      254    0.001    0.000    2.170    0.009 utils.py:130(select_ignore_interrupts)\n",
       "        1    0.000    0.000    2.352    2.352 zmqshell.py:604(system_piped)\n",
       "       42    0.000    0.000    0.000    0.000 {method 'decode' of 'bytes' objects}\n",
       "        3    0.000    0.000    0.000    0.000 {method 'append' of 'list' objects}\n",
       "        1    0.000    0.000    0.000    0.000 {method 'insert' of 'list' objects}\n",
       "        1    0.000    0.000    0.000    0.000 {method 'index' of 'list' objects}\n",
       "        1    0.000    0.000    0.000    0.000 {method 'update' of 'dict' objects}\n",
       "        1    0.000    0.000    0.000    0.000 {method 'copy' of 'dict' objects}\n",
       "        1    0.000    0.000    0.000    0.000 {method 'encode' of 'str' objects}\n",
       "        1    0.000    0.000    0.000    0.000 {method 'split' of 'str' objects}\n",
       "        3    0.000    0.000    0.000    0.000 {method 'join' of 'str' objects}\n",
       "        2    0.000    0.000    0.000    0.000 {method 'partition' of 'str' objects}\n",
       "        1    0.000    0.000    0.000    0.000 {method 'lower' of 'str' objects}\n",
       "        2    0.000    0.000    0.000    0.000 {method 'rfind' of 'str' objects}\n",
       "        3    0.000    0.000    0.000    0.000 {method 'rstrip' of 'str' objects}\n",
       "        8    0.000    0.000    0.000    0.000 {method 'startswith' of 'str' objects}\n",
       "        3    0.000    0.000    0.000    0.000 {method 'endswith' of 'str' objects}\n",
       "        1    0.000    0.000    0.000    0.000 {built-in method _string.formatter_parser}\n",
       "        1    0.000    0.000    2.352    2.352 {built-in method builtins.exec}\n",
       "      140    0.000    0.000    0.000    0.000 {built-in method builtins.getattr}\n",
       "       43    0.000    0.000    0.000    0.000 {built-in method builtins.hasattr}\n",
       "       95    0.000    0.000    0.000    0.000 {built-in method builtins.isinstance}\n",
       "      288    0.000    0.000    0.000    0.000 {built-in method builtins.len}\n",
       "      278    0.000    0.000    0.000    0.000 {built-in method builtins.next}\n",
       "       42    0.000    0.000    0.008    0.000 {built-in method builtins.print}\n",
       "        1    0.000    0.000    0.000    0.000 {built-in method builtins.repr}\n",
       "       42    0.000    0.000    0.000    0.000 {built-in method _imp.lock_held}\n",
       "        1    0.000    0.000    0.000    0.000 {built-in method sys._getframe}\n",
       "        4    0.000    0.000    0.000    0.000 {built-in method posix.stat}\n",
       "        2    0.000    0.000    0.000    0.000 {built-in method posix.access}\n",
       "        2    0.001    0.000    0.001    0.000 {built-in method posix.lstat}\n",
       "        1    0.003    0.003    0.003    0.003 {built-in method posix.forkpty}\n",
       "       84    0.000    0.000    0.000    0.000 {built-in method posix.getpid}\n",
       "      277    0.001    0.000    0.001    0.000 {built-in method posix.waitpid}\n",
       "        2    0.000    0.000    0.000    0.000 {built-in method posix.close}\n",
       "       89    0.011    0.000    0.011    0.000 {built-in method posix.read}\n",
       "        1    0.000    0.000    0.000    0.000 {built-in method posix.pipe}\n",
       "        1    0.000    0.000    0.000    0.000 {built-in method posix.WIFEXITED}\n",
       "        1    0.000    0.000    0.000    0.000 {built-in method posix.WEXITSTATUS}\n",
       "        9    0.000    0.000    0.000    0.000 {built-in method posix.fspath}\n",
       "        1    0.000    0.000    0.000    0.000 {method 'finditer' of 're.Pattern' objects}\n",
       "      252    0.000    0.000    0.000    0.000 {method 'append' of 'collections.deque' objects}\n",
       "        1    0.000    0.000    0.000    0.000 {built-in method _stat.S_ISDIR}\n",
       "        1    0.000    0.000    0.000    0.000 {built-in method _stat.S_ISREG}\n",
       "        2    0.000    0.000    0.000    0.000 {built-in method _stat.S_ISLNK}\n",
       "      383    0.000    0.000    0.000    0.000 {built-in method time.time}\n",
       "       88    0.115    0.001    0.115    0.001 {built-in method time.sleep}\n",
       "       84    0.000    0.000    0.000    0.000 {built-in method _thread.allocate_lock}\n",
       "        1    0.000    0.000    0.000    0.000 {method 'acquire' of '_thread.RLock' objects}\n",
       "        1    0.000    0.000    0.000    0.000 {method 'release' of '_thread.RLock' objects}\n",
       "      420    0.027    0.000    0.027    0.000 {method 'acquire' of '_thread.lock' objects}\n",
       "       42    0.000    0.000    0.000    0.000 {method 'release' of '_thread.lock' objects}\n",
       "       42    0.000    0.000    0.000    0.000 {method '__enter__' of '_thread.lock' objects}\n",
       "       42    0.000    0.000    0.000    0.000 {method '__exit__' of '_thread.lock' objects}\n",
       "        2    0.000    0.000    0.000    0.000 {built-in method io.open}\n",
       "       84    0.000    0.000    0.000    0.000 {method 'tell' of '_io.BytesIO' objects}\n",
       "      174    0.000    0.000    0.000    0.000 {method 'write' of '_io.BytesIO' objects}\n",
       "      171    0.000    0.000    0.000    0.000 {method 'getvalue' of '_io.BytesIO' objects}\n",
       "        1    0.000    0.000    0.000    0.000 {method 'close' of '_io.BufferedRWPair' objects}\n",
       "      254    2.169    0.009    2.169    0.009 {built-in method select.select}\n",
       "        1    0.000    0.000    0.000    0.000 {built-in method fcntl.ioctl}\n",
       "        1    0.000    0.000    0.000    0.000 {built-in method _struct.pack}\n",
       "        1    0.000    0.000    0.000    0.000 {method 'disable' of '_lsprof.Profiler' objects}"
      ]
     },
     "metadata": {},
     "output_type": "display_data"
    }
   ],
   "source": [
    "#%cd\n",
    "%prun -s module !python -m unittest"
   ]
  },
  {
   "cell_type": "code",
   "execution_count": null,
   "metadata": {},
   "outputs": [],
   "source": []
  },
  {
   "cell_type": "code",
   "execution_count": null,
   "metadata": {},
   "outputs": [],
   "source": []
  }
 ],
 "metadata": {
  "kernelspec": {
   "display_name": "Python 3",
   "language": "python",
   "name": "python3"
  },
  "language_info": {
   "codemirror_mode": {
    "name": "ipython",
    "version": 3
   },
   "file_extension": ".py",
   "mimetype": "text/x-python",
   "name": "python",
   "nbconvert_exporter": "python",
   "pygments_lexer": "ipython3",
   "version": "3.8.5"
  }
 },
 "nbformat": 4,
 "nbformat_minor": 4
}
