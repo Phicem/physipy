{
 "cells": [
  {
   "cell_type": "markdown",
   "metadata": {},
   "source": [
    "# Performance"
   ]
  },
  {
   "cell_type": "markdown",
   "metadata": {},
   "source": [
    "Obviously, using unit-aware variables will slow down any computation compared to raw python values (int, flot, numpy.ndarray)."
   ]
  },
  {
   "cell_type": "code",
   "execution_count": 6,
   "metadata": {},
   "outputs": [],
   "source": [
    "import matplotlib.pyplot as plt\n",
    "import numpy as np\n",
    "\n",
    "import physipy\n",
    "from physipy import s, m, setup_matplotlib\n",
    "from handcalcs import render\n",
    "import forallpeople as si\n",
    "\n",
    "from physipy import Dimension, units, quantify, Quantity\n",
    "from IPython.display import display, Latex\n",
    "from sympy.printing import latex\n",
    "import pint\n",
    "import sympy as sp\n",
    "\n",
    "\n",
    "ms = units[\"ms\"]\n",
    "mm = units['mm']\n",
    "km = units[\"km\"]\n",
    "cm = units[\"cm\"]\n",
    "mus = units[\"mus\"]\n",
    "ns = units[\"ns\"]\n",
    "a = 123456\n",
    "b = 654321\n",
    "\n",
    "aq = a*m\n",
    "bq = b*m\n"
   ]
  },
  {
   "cell_type": "markdown",
   "metadata": {},
   "source": [
    "Basic comparison on addition"
   ]
  },
  {
   "cell_type": "code",
   "execution_count": 10,
   "metadata": {},
   "outputs": [
    {
     "name": "stdout",
     "output_type": "stream",
     "text": [
      "63.7 ns ± 2.37 ns per loop (mean ± std. dev. of 7 runs, 10000000 loops each)\n",
      "12.4 µs ± 446 ns per loop (mean ± std. dev. of 7 runs, 100000 loops each)\n"
     ]
    }
   ],
   "source": [
    "%timeit  (a +  b)\n",
    "%timeit (aq + bq)"
   ]
  },
  {
   "cell_type": "code",
   "execution_count": 14,
   "metadata": {},
   "outputs": [
    {
     "name": "stdout",
     "output_type": "stream",
     "text": [
      "194.66248037676607\n"
     ]
    }
   ],
   "source": [
    "print(12.4*mus/(63.7*ns))"
   ]
  },
  {
   "cell_type": "markdown",
   "metadata": {},
   "source": [
    "Basic comparison on pow"
   ]
  },
  {
   "cell_type": "code",
   "execution_count": 12,
   "metadata": {},
   "outputs": [
    {
     "name": "stdout",
     "output_type": "stream",
     "text": [
      "289 ns ± 22.7 ns per loop (mean ± std. dev. of 7 runs, 1000000 loops each)\n",
      "22.8 µs ± 989 ns per loop (mean ± std. dev. of 7 runs, 10000 loops each)\n"
     ]
    }
   ],
   "source": [
    "%timeit  (a**2)\n",
    "%timeit (aq**2)"
   ]
  },
  {
   "cell_type": "code",
   "execution_count": 15,
   "metadata": {},
   "outputs": [
    {
     "name": "stdout",
     "output_type": "stream",
     "text": [
      "78.89273356401384\n"
     ]
    }
   ],
   "source": [
    "print(22.8*mus/(289*ns))"
   ]
  },
  {
   "cell_type": "markdown",
   "metadata": {},
   "source": [
    "## benchmark timing"
   ]
  },
  {
   "cell_type": "markdown",
   "metadata": {},
   "source": [
    "Here is a comparison of most operations : "
   ]
  },
  {
   "cell_type": "code",
   "execution_count": 32,
   "metadata": {},
   "outputs": [
    {
     "name": "stdout",
     "output_type": "stream",
     "text": [
      "  add : 1802.0\n"
     ]
    }
   ],
   "source": [
    "import timeit\n",
    "\n",
    "operations = {\n",
    "    \"add\":\"__add__\", \n",
    "    #\"sub\":\"__sub__\",\n",
    "    #\"mul\":\"__mul__\",\n",
    "}\n",
    "\n",
    "a = 123456\n",
    "b = 654321\n",
    "\n",
    "aq = a*m\n",
    "bq = b*m\n",
    "\n",
    "for operation, operation_method in operations.items():\n",
    "    time = timeit.timeit('a.'+operation_method+\"(b)\", number=10000, globals=globals())\n",
    "    time_q = timeit.timeit('aq.'+operation_method+\"(bq)\", number=10000, globals=globals())\n",
    "    print(f\"{m: >5} : {time_q/time: <5.1f}\")"
   ]
  },
  {
   "cell_type": "code",
   "execution_count": null,
   "metadata": {},
   "outputs": [],
   "source": []
  }
 ],
 "metadata": {
  "kernelspec": {
   "display_name": "Python 3",
   "language": "python",
   "name": "python3"
  },
  "language_info": {
   "codemirror_mode": {
    "name": "ipython",
    "version": 3
   },
   "file_extension": ".py",
   "mimetype": "text/x-python",
   "name": "python",
   "nbconvert_exporter": "python",
   "pygments_lexer": "ipython3",
   "version": "3.7.4"
  }
 },
 "nbformat": 4,
 "nbformat_minor": 4
}
