{
 "cells": [
  {
   "cell_type": "markdown",
   "metadata": {},
   "source": [
    "# Performance"
   ]
  },
  {
   "cell_type": "markdown",
   "metadata": {},
   "source": [
    "Obviously, using unit-aware variables will slow down any computation compared to raw python values (int, flot, numpy.ndarray)."
   ]
  },
  {
   "cell_type": "code",
   "execution_count": 6,
   "metadata": {},
   "outputs": [],
   "source": [
    "import matplotlib.pyplot as plt\n",
    "import numpy as np\n",
    "\n",
    "import physipy\n",
    "from physipy import s, m, setup_matplotlib\n",
    "\n",
    "from physipy import Dimension, units, quantify, Quantity\n",
    "\n",
    "\n",
    "\n",
    "ms = units[\"ms\"]\n",
    "mm = units['mm']\n",
    "km = units[\"km\"]\n",
    "cm = units[\"cm\"]\n",
    "mus = units[\"mus\"]\n",
    "ns = units[\"ns\"]\n",
    "a = 123456\n",
    "b = 654321\n",
    "\n",
    "aq = a*m\n",
    "bq = b*m\n"
   ]
  },
  {
   "cell_type": "markdown",
   "metadata": {},
   "source": [
    "Basic comparison on addition"
   ]
  },
  {
   "cell_type": "code",
   "execution_count": 10,
   "metadata": {},
   "outputs": [
    {
     "name": "stdout",
     "output_type": "stream",
     "text": [
      "63.7 ns ± 2.37 ns per loop (mean ± std. dev. of 7 runs, 10000000 loops each)\n",
      "12.4 µs ± 446 ns per loop (mean ± std. dev. of 7 runs, 100000 loops each)\n"
     ]
    }
   ],
   "source": [
    "%timeit  (a +  b)\n",
    "%timeit (aq + bq)"
   ]
  },
  {
   "cell_type": "code",
   "execution_count": 14,
   "metadata": {},
   "outputs": [
    {
     "name": "stdout",
     "output_type": "stream",
     "text": [
      "194.66248037676607\n"
     ]
    }
   ],
   "source": [
    "print(12.4*mus/(63.7*ns))"
   ]
  },
  {
   "cell_type": "markdown",
   "metadata": {},
   "source": [
    "Basic comparison on pow"
   ]
  },
  {
   "cell_type": "code",
   "execution_count": 12,
   "metadata": {},
   "outputs": [
    {
     "name": "stdout",
     "output_type": "stream",
     "text": [
      "289 ns ± 22.7 ns per loop (mean ± std. dev. of 7 runs, 1000000 loops each)\n",
      "22.8 µs ± 989 ns per loop (mean ± std. dev. of 7 runs, 10000 loops each)\n"
     ]
    }
   ],
   "source": [
    "%timeit  (a**2)\n",
    "%timeit (aq**2)"
   ]
  },
  {
   "cell_type": "code",
   "execution_count": 15,
   "metadata": {},
   "outputs": [
    {
     "name": "stdout",
     "output_type": "stream",
     "text": [
      "78.89273356401384\n"
     ]
    }
   ],
   "source": [
    "print(22.8*mus/(289*ns))"
   ]
  },
  {
   "cell_type": "markdown",
   "metadata": {},
   "source": [
    "## benchmark timing"
   ]
  },
  {
   "cell_type": "markdown",
   "metadata": {},
   "source": [
    "Here is a comparison of most operations : "
   ]
  },
  {
   "cell_type": "code",
   "execution_count": 32,
   "metadata": {},
   "outputs": [
    {
     "name": "stdout",
     "output_type": "stream",
     "text": [
      "  add : 1802.0\n"
     ]
    }
   ],
   "source": [
    "import timeit\n",
    "\n",
    "operations = {\n",
    "    \"add\":\"__add__\", \n",
    "    #\"sub\":\"__sub__\",\n",
    "    #\"mul\":\"__mul__\",\n",
    "}\n",
    "\n",
    "a = 123456\n",
    "b = 654321\n",
    "\n",
    "aq = a*m\n",
    "bq = b*m\n",
    "\n",
    "for operation, operation_method in operations.items():\n",
    "    time = timeit.timeit('a.'+operation_method+\"(b)\", number=10000, globals=globals())\n",
    "    time_q = timeit.timeit('aq.'+operation_method+\"(bq)\", number=10000, globals=globals())\n",
    "    print(f\"{m: >5} : {time_q/time: <5.1f}\")"
   ]
  },
  {
   "cell_type": "code",
   "execution_count": null,
   "metadata": {},
   "outputs": [],
   "source": []
  },
  {
   "cell_type": "code",
   "execution_count": null,
   "metadata": {},
   "outputs": [],
   "source": []
  },
  {
   "cell_type": "code",
   "execution_count": null,
   "metadata": {},
   "outputs": [],
   "source": []
  },
  {
   "cell_type": "code",
   "execution_count": null,
   "metadata": {},
   "outputs": [],
   "source": []
  },
  {
   "cell_type": "markdown",
   "metadata": {},
   "source": [
    "# Dimension performance"
   ]
  },
  {
   "cell_type": "markdown",
   "metadata": {},
   "source": [
    "Importance :\n",
    " - Addition of values key-wise\n",
    " - Substration of values key-wise\n",
    " - Multiply values\n",
    " "
   ]
  },
  {
   "cell_type": "code",
   "execution_count": 2,
   "metadata": {},
   "outputs": [
    {
     "name": "stdout",
     "output_type": "stream",
     "text": [
      "60.2 ns ± 6.61 ns per loop (mean ± std. dev. of 7 runs, 10000000 loops each)\n",
      "89.1 ns ± 16 ns per loop (mean ± std. dev. of 7 runs, 10000000 loops each)\n",
      "134 ns ± 13.7 ns per loop (mean ± std. dev. of 7 runs, 10000000 loops each)\n",
      "367 ns ± 18.7 ns per loop (mean ± std. dev. of 7 runs, 1000000 loops each)\n",
      "894 ns ± 53.5 ns per loop (mean ± std. dev. of 7 runs, 1000000 loops each)\n",
      "4.7 µs ± 257 ns per loop (mean ± std. dev. of 7 runs, 100000 loops each)\n",
      "6.66 µs ± 1.04 µs per loop (mean ± std. dev. of 7 runs, 100000 loops each)\n"
     ]
    }
   ],
   "source": [
    "import numpy as np\n",
    "import collections\n",
    "\"\"\"Goal : return True if 2 vectors of numbers are equal\n",
    "Inputs :\n",
    " - vectors are assured to be the same size\n",
    " - vector values can be int, float, np.numbers, fractions\n",
    " - the order of the numbers matters (like with dict comparison or ordered dict)\n",
    "\"\"\"\n",
    " \n",
    "as_dictl = {\"A\":0, \"B\":0, \"C\":0}\n",
    "as_dictr = {\"A\":0, \"B\":0, \"C\":0}\n",
    "as_listl = [0, 0, 0]\n",
    "as_listr = [0, 0, 0]\n",
    "as_arryl = np.array([0, 0, 0])\n",
    "as_arryr = np.array([0, 0, 0])\n",
    "as_odictl = collections.OrderedDict( {\"A\":0, \"B\":0, \"C\":0})\n",
    "as_odictr = collections.OrderedDict( {\"A\":0, \"B\":0, \"C\":0})\n",
    "\n",
    "%timeit as_listl == as_listr\n",
    "%timeit as_dictl == as_dictr\n",
    "%timeit as_odictl == as_odictr\n",
    "%timeit as_arryl.tolist() == as_arryr.tolist()\n",
    "%timeit list(as_odictl.values()) == list(as_odictr.values())\n",
    "%timeit np.array_equal(as_arryl, as_arryr)\n",
    "%timeit np.all(as_arryl == as_arryr)"
   ]
  },
  {
   "cell_type": "code",
   "execution_count": 12,
   "metadata": {},
   "outputs": [
    {
     "name": "stdout",
     "output_type": "stream",
     "text": [
      "616 ns ± 27.4 ns per loop (mean ± std. dev. of 7 runs, 1000000 loops each)\n",
      "1.35 µs ± 264 ns per loop (mean ± std. dev. of 7 runs, 1000000 loops each)\n",
      "600 ns ± 45.5 ns per loop (mean ± std. dev. of 7 runs, 1000000 loops each)\n",
      "624 ns ± 61 ns per loop (mean ± std. dev. of 7 runs, 1000000 loops each)\n"
     ]
    }
   ],
   "source": [
    "import numpy as np\n",
    "import collections\n",
    "from operator import add\n",
    "\n",
    "\n",
    "as_dictl = {\"A\":0, \"B\":0, \"C\":0}\n",
    "as_dictr = {\"A\":0, \"B\":0, \"C\":0}\n",
    "as_listl = [0, 0, 0]\n",
    "as_listr = [0, 0, 0]\n",
    "as_arryl = np.array([0, 0, 0])\n",
    "as_arryr = np.array([0, 0, 0])\n",
    "as_odictl = collections.OrderedDict( {\"A\":0, \"B\":0, \"C\":0})\n",
    "as_odictr = collections.OrderedDict( {\"A\":0, \"B\":0, \"C\":0})\n",
    "\n",
    "%timeit [l+r for l,r in zip(as_listl, as_listr)]\n",
    "%timeit {k:as_dictl[k]+as_dictr[k] for k in (as_dictl.keys() & as_dictr.keys())}\n",
    "#%timeit as_odictl == as_odictr\n",
    "#%timeit as_arryl.tolist() == as_arryr.tolist()\n",
    "#%timeit list(as_odictl.values()) == list(as_odictr.values())\n",
    "#%timeit np.array_equal(as_arryl, as_arryr)\n",
    "%timeit as_arryl + as_arryr\n",
    "%timeit list(map(add, as_listl, as_listr))"
   ]
  },
  {
   "cell_type": "code",
   "execution_count": 11,
   "metadata": {},
   "outputs": [
    {
     "name": "stdout",
     "output_type": "stream",
     "text": [
      "685 ns ± 145 ns per loop (mean ± std. dev. of 7 runs, 1000000 loops each)\n",
      "1.15 µs ± 87.4 ns per loop (mean ± std. dev. of 7 runs, 1000000 loops each)\n",
      "544 ns ± 50.9 ns per loop (mean ± std. dev. of 7 runs, 1000000 loops each)\n",
      "574 ns ± 36.5 ns per loop (mean ± std. dev. of 7 runs, 1000000 loops each)\n"
     ]
    }
   ],
   "source": [
    "import numpy as np\n",
    "import collections\n",
    "from operator import mul\n",
    "\n",
    "as_dictl = {\"A\":0, \"B\":0, \"C\":0}\n",
    "as_dictr = {\"A\":0, \"B\":0, \"C\":0}\n",
    "as_listl = [0, 0, 0]\n",
    "as_listr = [0, 0, 0]\n",
    "as_arryl = np.array([0, 0, 0])\n",
    "as_arryr = np.array([0, 0, 0])\n",
    "as_odictl = collections.OrderedDict( {\"A\":0, \"B\":0, \"C\":0})\n",
    "as_odictr = collections.OrderedDict( {\"A\":0, \"B\":0, \"C\":0})\n",
    "\n",
    "%timeit [l*r for l,r in zip(as_listl, as_listr)]\n",
    "%timeit {k:as_dictl[k]*as_dictr[k] for k in (as_dictl.keys() & as_dictr.keys())}\n",
    "#%timeit as_odictl == as_odictr\n",
    "#%timeit as_arryl.tolist() == as_arryr.tolist()\n",
    "#%timeit list(as_odictl.values()) == list(as_odictr.values())\n",
    "#%timeit np.array_equal(as_arryl, as_arryr)\n",
    "%timeit as_arryl * as_arryr\n",
    "%timeit list(map(mul, as_listl, as_listr))"
   ]
  },
  {
   "cell_type": "code",
   "execution_count": null,
   "metadata": {},
   "outputs": [],
   "source": []
  }
 ],
 "metadata": {
  "kernelspec": {
   "display_name": "Python 3",
   "language": "python",
   "name": "python3"
  },
  "language_info": {
   "codemirror_mode": {
    "name": "ipython",
    "version": 3
   },
   "file_extension": ".py",
   "mimetype": "text/x-python",
   "name": "python",
   "nbconvert_exporter": "python",
   "pygments_lexer": "ipython3",
   "version": "3.7.4"
  }
 },
 "nbformat": 4,
 "nbformat_minor": 4
}
