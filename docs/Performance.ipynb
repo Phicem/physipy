{
 "cells": [
  {
   "cell_type": "markdown",
   "metadata": {},
   "source": [
    "# Performance"
   ]
  },
  {
   "cell_type": "markdown",
   "metadata": {},
   "source": [
    "Obviously, using unit-aware variables will slow down any computation compared to raw python values (int, flot, numpy.ndarray)."
   ]
  },
  {
   "cell_type": "code",
   "execution_count": 6,
   "metadata": {},
   "outputs": [],
   "source": [
    "import matplotlib.pyplot as plt\n",
    "import numpy as np\n",
    "\n",
    "import physipy\n",
    "from physipy import s, m, setup_matplotlib\n",
    "\n",
    "from physipy import Dimension, units, quantify, Quantity\n",
    "\n",
    "\n",
    "\n",
    "ms = units[\"ms\"]\n",
    "mm = units['mm']\n",
    "km = units[\"km\"]\n",
    "cm = units[\"cm\"]\n",
    "mus = units[\"mus\"]\n",
    "ns = units[\"ns\"]\n",
    "a = 123456\n",
    "b = 654321\n",
    "\n",
    "aq = a*m\n",
    "bq = b*m\n"
   ]
  },
  {
   "cell_type": "markdown",
   "metadata": {},
   "source": [
    "Basic comparison on addition"
   ]
  },
  {
   "cell_type": "code",
   "execution_count": 10,
   "metadata": {},
   "outputs": [
    {
     "name": "stdout",
     "output_type": "stream",
     "text": [
      "63.7 ns ± 2.37 ns per loop (mean ± std. dev. of 7 runs, 10000000 loops each)\n",
      "12.4 µs ± 446 ns per loop (mean ± std. dev. of 7 runs, 100000 loops each)\n"
     ]
    }
   ],
   "source": [
    "%timeit  (a +  b)\n",
    "%timeit (aq + bq)"
   ]
  },
  {
   "cell_type": "code",
   "execution_count": 14,
   "metadata": {},
   "outputs": [
    {
     "name": "stdout",
     "output_type": "stream",
     "text": [
      "194.66248037676607\n"
     ]
    }
   ],
   "source": [
    "print(12.4*mus/(63.7*ns))"
   ]
  },
  {
   "cell_type": "markdown",
   "metadata": {},
   "source": [
    "Basic comparison on pow"
   ]
  },
  {
   "cell_type": "code",
   "execution_count": 12,
   "metadata": {},
   "outputs": [
    {
     "name": "stdout",
     "output_type": "stream",
     "text": [
      "289 ns ± 22.7 ns per loop (mean ± std. dev. of 7 runs, 1000000 loops each)\n",
      "22.8 µs ± 989 ns per loop (mean ± std. dev. of 7 runs, 10000 loops each)\n"
     ]
    }
   ],
   "source": [
    "%timeit  (a**2)\n",
    "%timeit (aq**2)"
   ]
  },
  {
   "cell_type": "code",
   "execution_count": 15,
   "metadata": {},
   "outputs": [
    {
     "name": "stdout",
     "output_type": "stream",
     "text": [
      "78.89273356401384\n"
     ]
    }
   ],
   "source": [
    "print(22.8*mus/(289*ns))"
   ]
  },
  {
   "cell_type": "markdown",
   "metadata": {},
   "source": [
    "## benchmark timing"
   ]
  },
  {
   "cell_type": "markdown",
   "metadata": {},
   "source": [
    "Here is a comparison of most operations : "
   ]
  },
  {
   "cell_type": "code",
   "execution_count": 32,
   "metadata": {},
   "outputs": [
    {
     "name": "stdout",
     "output_type": "stream",
     "text": [
      "  add : 1802.0\n"
     ]
    }
   ],
   "source": [
    "import timeit\n",
    "\n",
    "operations = {\n",
    "    \"add\":\"__add__\", \n",
    "    #\"sub\":\"__sub__\",\n",
    "    #\"mul\":\"__mul__\",\n",
    "}\n",
    "\n",
    "a = 123456\n",
    "b = 654321\n",
    "\n",
    "aq = a*m\n",
    "bq = b*m\n",
    "\n",
    "for operation, operation_method in operations.items():\n",
    "    time = timeit.timeit('a.'+operation_method+\"(b)\", number=10000, globals=globals())\n",
    "    time_q = timeit.timeit('aq.'+operation_method+\"(bq)\", number=10000, globals=globals())\n",
    "    print(f\"{m: >5} : {time_q/time: <5.1f}\")"
   ]
  },
  {
   "cell_type": "code",
   "execution_count": null,
   "metadata": {},
   "outputs": [],
   "source": []
  },
  {
   "cell_type": "code",
   "execution_count": null,
   "metadata": {},
   "outputs": [],
   "source": []
  },
  {
   "cell_type": "code",
   "execution_count": null,
   "metadata": {},
   "outputs": [],
   "source": []
  },
  {
   "cell_type": "code",
   "execution_count": null,
   "metadata": {},
   "outputs": [],
   "source": []
  },
  {
   "cell_type": "markdown",
   "metadata": {},
   "source": [
    "# Dimension performance"
   ]
  },
  {
   "cell_type": "markdown",
   "metadata": {},
   "source": [
    "Most important operators : \n",
    " - equlity check\n",
    " - Addition of values key-wise\n",
    " - Substration of values key-wise\n",
    " - Multiply values\n",
    " - Div\n",
    " - Pow\n",
    " "
   ]
  },
  {
   "cell_type": "code",
   "execution_count": 13,
   "metadata": {},
   "outputs": [],
   "source": [
    "import numpy as np\n",
    "import collections\n",
    "\"\"\"Goal : return True if 2 vectors of numbers are equal\n",
    "Inputs :\n",
    " - vectors are assured to be the same size\n",
    " - vector values can be int, float, np.numbers, fractions\n",
    " - the order of the numbers matters (like with dict comparison or ordered dict)\n",
    "\"\"\"\n",
    " \n",
    "as_dictl = {\"A\":0, \"B\":0, \"C\":0}\n",
    "as_dictr = {\"A\":0, \"B\":0, \"C\":0}\n",
    "as_listl = [0, 0, 0]\n",
    "as_listr = [0, 0, 0]\n",
    "as_arryl = np.array([0, 0, 0])\n",
    "as_arryr = np.array([0, 0, 0])\n",
    "as_odictl = collections.OrderedDict( {\"A\":0, \"B\":0, \"C\":0})\n",
    "as_odictr = collections.OrderedDict( {\"A\":0, \"B\":0, \"C\":0})\n",
    "as_counterl = collections.Counter(\"AAABBBCCC\")\n",
    "as_counterr = collections.Counter(\"AAABBBCCC\")"
   ]
  },
  {
   "cell_type": "code",
   "execution_count": 14,
   "metadata": {},
   "outputs": [
    {
     "name": "stdout",
     "output_type": "stream",
     "text": [
      "47.2 ns ± 2.02 ns per loop (mean ± std. dev. of 7 runs, 10000000 loops each)\n",
      "77.4 ns ± 1.95 ns per loop (mean ± std. dev. of 7 runs, 10000000 loops each)\n",
      "79.2 ns ± 0.916 ns per loop (mean ± std. dev. of 7 runs, 10000000 loops each)\n",
      "86.9 ns ± 1.27 ns per loop (mean ± std. dev. of 7 runs, 10000000 loops each)\n",
      "324 ns ± 16.2 ns per loop (mean ± std. dev. of 7 runs, 1000000 loops each)\n",
      "799 ns ± 14.4 ns per loop (mean ± std. dev. of 7 runs, 1000000 loops each)\n",
      "5.22 µs ± 572 ns per loop (mean ± std. dev. of 7 runs, 100000 loops each)\n",
      "5.35 µs ± 409 ns per loop (mean ± std. dev. of 7 runs, 100000 loops each)\n"
     ]
    }
   ],
   "source": [
    "%timeit as_listl == as_listr\n",
    "%timeit as_dictl == as_dictr\n",
    "%timeit as_counterl == as_counterr\n",
    "%timeit as_odictl == as_odictr\n",
    "%timeit as_arryl.tolist() == as_arryr.tolist()\n",
    "%timeit list(as_odictl.values()) == list(as_odictr.values())\n",
    "%timeit np.array_equal(as_arryl, as_arryr)\n",
    "%timeit np.all(as_arryl == as_arryr)\n"
   ]
  },
  {
   "cell_type": "code",
   "execution_count": 19,
   "metadata": {},
   "outputs": [
    {
     "name": "stdout",
     "output_type": "stream",
     "text": [
      "5 µs ± 123 ns per loop (mean ± std. dev. of 7 runs, 100000 loops each)\n",
      "17.7 µs ± 124 ns per loop (mean ± std. dev. of 7 runs, 100000 loops each)\n"
     ]
    }
   ],
   "source": [
    "a = np.arange(500)\n",
    "b = np.arange(500)\n",
    "\n",
    "%timeit np.all(a == b)\n",
    "%timeit a.tolist() == b.tolist()\n"
   ]
  },
  {
   "cell_type": "code",
   "execution_count": 12,
   "metadata": {},
   "outputs": [
    {
     "name": "stdout",
     "output_type": "stream",
     "text": [
      "616 ns ± 27.4 ns per loop (mean ± std. dev. of 7 runs, 1000000 loops each)\n",
      "1.35 µs ± 264 ns per loop (mean ± std. dev. of 7 runs, 1000000 loops each)\n",
      "600 ns ± 45.5 ns per loop (mean ± std. dev. of 7 runs, 1000000 loops each)\n",
      "624 ns ± 61 ns per loop (mean ± std. dev. of 7 runs, 1000000 loops each)\n"
     ]
    }
   ],
   "source": [
    "import numpy as np\n",
    "import collections\n",
    "from operator import add\n",
    "\n",
    "\n",
    "as_dictl = {\"A\":0, \"B\":0, \"C\":0}\n",
    "as_dictr = {\"A\":0, \"B\":0, \"C\":0}\n",
    "as_listl = [0, 0, 0]\n",
    "as_listr = [0, 0, 0]\n",
    "as_arryl = np.array([0, 0, 0])\n",
    "as_arryr = np.array([0, 0, 0])\n",
    "as_odictl = collections.OrderedDict( {\"A\":0, \"B\":0, \"C\":0})\n",
    "as_odictr = collections.OrderedDict( {\"A\":0, \"B\":0, \"C\":0})\n",
    "\n",
    "%timeit [l+r for l,r in zip(as_listl, as_listr)]\n",
    "%timeit {k:as_dictl[k]+as_dictr[k] for k in (as_dictl.keys() & as_dictr.keys())}\n",
    "#%timeit as_odictl == as_odictr\n",
    "#%timeit as_arryl.tolist() == as_arryr.tolist()\n",
    "#%timeit list(as_odictl.values()) == list(as_odictr.values())\n",
    "#%timeit np.array_equal(as_arryl, as_arryr)\n",
    "%timeit as_arryl + as_arryr\n",
    "%timeit list(map(add, as_listl, as_listr))"
   ]
  },
  {
   "cell_type": "code",
   "execution_count": null,
   "metadata": {},
   "outputs": [],
   "source": []
  },
  {
   "cell_type": "code",
   "execution_count": null,
   "metadata": {},
   "outputs": [],
   "source": []
  },
  {
   "cell_type": "code",
   "execution_count": 11,
   "metadata": {},
   "outputs": [
    {
     "name": "stdout",
     "output_type": "stream",
     "text": [
      "685 ns ± 145 ns per loop (mean ± std. dev. of 7 runs, 1000000 loops each)\n",
      "1.15 µs ± 87.4 ns per loop (mean ± std. dev. of 7 runs, 1000000 loops each)\n",
      "544 ns ± 50.9 ns per loop (mean ± std. dev. of 7 runs, 1000000 loops each)\n",
      "574 ns ± 36.5 ns per loop (mean ± std. dev. of 7 runs, 1000000 loops each)\n"
     ]
    }
   ],
   "source": [
    "import numpy as np\n",
    "import collections\n",
    "from operator import mul\n",
    "\n",
    "as_dictl = {\"A\":0, \"B\":0, \"C\":0}\n",
    "as_dictr = {\"A\":0, \"B\":0, \"C\":0}\n",
    "as_listl = [0, 0, 0]\n",
    "as_listr = [0, 0, 0]\n",
    "as_arryl = np.array([0, 0, 0])\n",
    "as_arryr = np.array([0, 0, 0])\n",
    "as_odictl = collections.OrderedDict( {\"A\":0, \"B\":0, \"C\":0})\n",
    "as_odictr = collections.OrderedDict( {\"A\":0, \"B\":0, \"C\":0})\n",
    "\n",
    "%timeit [l*r for l,r in zip(as_listl, as_listr)]\n",
    "%timeit {k:as_dictl[k]*as_dictr[k] for k in (as_dictl.keys() & as_dictr.keys())}\n",
    "#%timeit as_odictl == as_odictr\n",
    "#%timeit as_arryl.tolist() == as_arryr.tolist()\n",
    "#%timeit list(as_odictl.values()) == list(as_odictr.values())\n",
    "#%timeit np.array_equal(as_arryl, as_arryr)\n",
    "%timeit as_arryl * as_arryr\n",
    "%timeit list(map(mul, as_listl, as_listr))"
   ]
  },
  {
   "cell_type": "code",
   "execution_count": 2,
   "metadata": {},
   "outputs": [
    {
     "name": "stdout",
     "output_type": "stream",
     "text": [
      "980 ns ± 12.9 ns per loop (mean ± std. dev. of 7 runs, 1000000 loops each)\n",
      "1.19 µs ± 12.1 ns per loop (mean ± std. dev. of 7 runs, 1000000 loops each)\n",
      "733 ns ± 11.5 ns per loop (mean ± std. dev. of 7 runs, 1000000 loops each)\n",
      "1.27 µs ± 16.1 ns per loop (mean ± std. dev. of 7 runs, 1000000 loops each)\n"
     ]
    }
   ],
   "source": [
    "import numpy as np\n",
    "import collections\n",
    "from operator import pow\n",
    "\n",
    "as_dictl = {\"A\":1, \"B\":1, \"C\":1}\n",
    "as_dictr = 2\n",
    "as_listl = [1, 1, 1]\n",
    "as_listr = 2\n",
    "as_arryl = np.array([1, 1, 1])\n",
    "as_arryr = 2\n",
    "as_odictl = collections.OrderedDict( {\"A\":1, \"B\":1, \"C\":1})\n",
    "as_odictr = 2\n",
    "\n",
    "%timeit [l**as_dictr for l in as_listl]\n",
    "%timeit {k:as_dictl[k]**as_dictr for k in as_dictl.keys()}\n",
    "%timeit as_arryl ** as_arryr\n",
    "%timeit list(map(lambda x:x**2, as_listl))"
   ]
  },
  {
   "cell_type": "markdown",
   "metadata": {},
   "source": [
    "# Array creation"
   ]
  },
  {
   "cell_type": "markdown",
   "metadata": {},
   "source": [
    "Compare lazy creation of arrays"
   ]
  },
  {
   "cell_type": "code",
   "execution_count": null,
   "metadata": {},
   "outputs": [],
   "source": [
    "%timeit asqarray([0*m, 2*m])\n",
    "%timeit [0, 2]*m"
   ]
  },
  {
   "cell_type": "code",
   "execution_count": null,
   "metadata": {},
   "outputs": [],
   "source": []
  }
 ],
 "metadata": {
  "kernelspec": {
   "display_name": "Python 3",
   "language": "python",
   "name": "python3"
  },
  "language_info": {
   "codemirror_mode": {
    "name": "ipython",
    "version": 3
   },
   "file_extension": ".py",
   "mimetype": "text/x-python",
   "name": "python",
   "nbconvert_exporter": "python",
   "pygments_lexer": "ipython3",
   "version": "3.7.4"
  }
 },
 "nbformat": 4,
 "nbformat_minor": 4
}
