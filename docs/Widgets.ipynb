{
 "cells": [
  {
   "cell_type": "code",
   "execution_count": 1,
   "metadata": {},
   "outputs": [],
   "source": [
    "from physipy.qwidgets.qipywidgets import QuantityText, FDQuantityText#, FDQuantityText, FDQuantitySlider, FDQuantitySliderWithBounds\n",
    "import ipywidgets as ipyw\n",
    "from numpy import pi\n",
    "from physipy import m, s, Quantity, Dimension, rad, units\n",
    "\n",
    "\n",
    "mm = units[\"mm\"]"
   ]
  },
  {
   "cell_type": "markdown",
   "metadata": {},
   "source": [
    "Things to test :\n",
    "\n",
    "Types of widgets :\n",
    " - QuantityText : text area, very permissive\n",
    " - FDQuantityText : text area, fixed dimension on init value\n",
    " - FDQuantitySlider : slider, fixed dimension on init value\n",
    " - FDQuantitySliderWithBounds : slider with FDQuantityText to handle min and max\n",
    " \n",
    "Functionnalitities : \n",
    " - VBoxing, HBoxing : `ipyw.VBox([qw, qw])`\n",
    " - interact with abbreviation : `interact(3*m)`\n",
    " - interact with widget : `interact(QuantityText(3*m))`\n",
    " - interactive : `w = ipyw.interactive(slow_function, i=qs)`\n",
    " - interactive_output : `out = ipyw.interactive_output(f, {'a': wa, 'b': wb, 'c': wc})`\n",
    " - observe : \n",
    " - link : `mylink = ipyw.link((qw1, 'value'), (qw2, 'value'))`\n",
    " - jslink : `mylink = ipyw.jslink((qw1, 'value'), (qw2, 'value'))`"
   ]
  },
  {
   "cell_type": "code",
   "execution_count": 2,
   "metadata": {},
   "outputs": [],
   "source": [
    "q = 70*mm\n",
    "q.favunit = mm"
   ]
  },
  {
   "cell_type": "markdown",
   "metadata": {},
   "source": [
    "# Text"
   ]
  },
  {
   "cell_type": "markdown",
   "metadata": {},
   "source": [
    "2 types that inherit from QuantityText : \n",
    " - free QuantityText\n",
    " - Fixed-dimension \"FDQuantityText\""
   ]
  },
  {
   "cell_type": "markdown",
   "metadata": {},
   "source": [
    "## QuantityText\n",
    "Basically a text area that will parse python expression into a numerical physical Quantity. It can be dimensionless (like 5 or 2\\*pi), and can be of any dimension at any time:"
   ]
  },
  {
   "cell_type": "code",
   "execution_count": 3,
   "metadata": {},
   "outputs": [
    {
     "data": {
      "application/vnd.jupyter.widget-view+json": {
       "model_id": "959bdf7bd5244dfc9ce41704dc91cddc",
       "version_major": 2,
       "version_minor": 0
      },
      "text/plain": [
       "QuantityText(value=<Quantity : 0.0 >, children=(Text(value='0.0', description='Quantity:', layout=Layout(borde…"
      ]
     },
     "metadata": {},
     "output_type": "display_data"
    }
   ],
   "source": [
    "w = QuantityText()\n",
    "w"
   ]
  },
  {
   "cell_type": "markdown",
   "metadata": {},
   "source": [
    "A QuantityText has typical attributes of a widget and a Quantity, except the `value` is the actual Quantity, not the value of the Quantity : "
   ]
  },
  {
   "cell_type": "code",
   "execution_count": 4,
   "metadata": {},
   "outputs": [
    {
     "name": "stdout",
     "output_type": "stream",
     "text": [
      "0.0\n",
      "0.0\n",
      "no-dimension\n",
      "Quantity:\n",
      "False\n"
     ]
    }
   ],
   "source": [
    "print(w.value)\n",
    "print(w.value.value)\n",
    "print(w.dimension)\n",
    "print(w.description)\n",
    "print(w.fixed_dimension)"
   ]
  },
  {
   "cell_type": "code",
   "execution_count": 5,
   "metadata": {},
   "outputs": [
    {
     "name": "stdout",
     "output_type": "stream",
     "text": [
      "0.0\n",
      "no-dimension\n",
      "Quantity:\n"
     ]
    }
   ],
   "source": [
    "print(w.value)\n",
    "print(w.dimension)\n",
    "print(w.description)"
   ]
  },
  {
   "cell_type": "code",
   "execution_count": 6,
   "metadata": {},
   "outputs": [
    {
     "name": "stdout",
     "output_type": "stream",
     "text": [
      "0.0\n",
      "no-dimension\n",
      "Quantity:\n"
     ]
    }
   ],
   "source": [
    "print(w.value)\n",
    "print(w.dimension)\n",
    "print(w.description)"
   ]
  },
  {
   "cell_type": "markdown",
   "metadata": {},
   "source": [
    "With custom description : "
   ]
  },
  {
   "cell_type": "code",
   "execution_count": 7,
   "metadata": {},
   "outputs": [
    {
     "data": {
      "application/vnd.jupyter.widget-view+json": {
       "model_id": "835405d22af142e5b1c8812f15af3b77",
       "version_major": 2,
       "version_minor": 0
      },
      "text/plain": [
       "QuantityText(value=<Quantity : 0.0 >, children=(Text(value='0.0', description='Weight', layout=Layout(border='…"
      ]
     },
     "metadata": {},
     "output_type": "display_data"
    }
   ],
   "source": [
    "QuantityText(description=\"Weight\")"
   ]
  },
  {
   "cell_type": "markdown",
   "metadata": {},
   "source": [
    "With init value"
   ]
  },
  {
   "cell_type": "code",
   "execution_count": 8,
   "metadata": {},
   "outputs": [
    {
     "data": {
      "application/vnd.jupyter.widget-view+json": {
       "model_id": "588d0c8b55d446c495facf36429cc516",
       "version_major": 2,
       "version_minor": 0
      },
      "text/plain": [
       "QuantityText(value=<Quantity : 6.283185307179586 s, symbol=UndefinedSymbol*s>, children=(Text(value='6.2831853…"
      ]
     },
     "metadata": {},
     "output_type": "display_data"
    }
   ],
   "source": [
    "QuantityText(2*pi*s)"
   ]
  },
  {
   "cell_type": "code",
   "execution_count": 9,
   "metadata": {},
   "outputs": [
    {
     "data": {
      "application/vnd.jupyter.widget-view+json": {
       "model_id": "9ad11464b60445c590b5f7dab642120b",
       "version_major": 2,
       "version_minor": 0
      },
      "text/plain": [
       "QuantityText(value=<Quantity : 6.283185307179586 rad, symbol=UndefinedSymbol*rad>, children=(Text(value='6.283…"
      ]
     },
     "metadata": {},
     "output_type": "display_data"
    }
   ],
   "source": [
    "QuantityText(2*pi*rad, description=\"Angle\")"
   ]
  },
  {
   "cell_type": "markdown",
   "metadata": {},
   "source": [
    "A `fixed_dimension` attribute can be set to allow change of dimension. By default is false, and so dimension can be changed"
   ]
  },
  {
   "cell_type": "code",
   "execution_count": 10,
   "metadata": {},
   "outputs": [
    {
     "name": "stdout",
     "output_type": "stream",
     "text": [
      "False\n"
     ]
    },
    {
     "data": {
      "application/vnd.jupyter.widget-view+json": {
       "model_id": "0d485894f8724bb2bc6b94430e65447e",
       "version_major": 2,
       "version_minor": 0
      },
      "text/plain": [
       "QuantityText(value=<Quantity : 6.283185307179586 s, symbol=UndefinedSymbol*s>, children=(Text(value='6.2831853…"
      ]
     },
     "metadata": {},
     "output_type": "display_data"
    }
   ],
   "source": [
    "a = QuantityText(2*pi*s)\n",
    "print(a.fixed_dimension)\n",
    "a"
   ]
  },
  {
   "cell_type": "code",
   "execution_count": 11,
   "metadata": {},
   "outputs": [
    {
     "name": "stdout",
     "output_type": "stream",
     "text": [
      "2 rad\n",
      "False\n"
     ]
    }
   ],
   "source": [
    "a.value = 2*rad\n",
    "print(a.value)\n",
    "print(a.fixed_dimension)"
   ]
  },
  {
   "cell_type": "code",
   "execution_count": 12,
   "metadata": {},
   "outputs": [
    {
     "data": {
      "application/vnd.jupyter.widget-view+json": {
       "model_id": "07f29184f4e94b03a3826043a838ba9a",
       "version_major": 2,
       "version_minor": 0
      },
      "text/plain": [
       "QuantityText(value=<Quantity : 6.283185307179586 s, symbol=UndefinedSymbol*s>, children=(Text(value='6.2831853…"
      ]
     },
     "metadata": {},
     "output_type": "display_data"
    }
   ],
   "source": [
    "b = QuantityText(2*pi*s, fixed_dimension=True)\n",
    "b"
   ]
  },
  {
   "cell_type": "code",
   "execution_count": 13,
   "metadata": {},
   "outputs": [
    {
     "name": "stdout",
     "output_type": "stream",
     "text": [
      "b.fixed_dimension = True , hence Quantity must be same dimension.\n"
     ]
    }
   ],
   "source": [
    "try:\n",
    "    b.value = 2*m\n",
    "except:\n",
    "    print(\"b.fixed_dimension =\", b.fixed_dimension, \", hence Quantity must be same dimension.\")"
   ]
  },
  {
   "cell_type": "markdown",
   "metadata": {},
   "source": [
    "# Fixed-Dimension QuantityText\n",
    "A QuantityText that will set a dimension at creation, and not allow any other dimension:"
   ]
  },
  {
   "cell_type": "markdown",
   "metadata": {},
   "source": [
    "A fixed-dimensionless quantity : (trying to set a quantity with another dimension will be ignored : example : type in '5\\*m' then Enter)"
   ]
  },
  {
   "cell_type": "code",
   "execution_count": 14,
   "metadata": {},
   "outputs": [
    {
     "data": {
      "application/vnd.jupyter.widget-view+json": {
       "model_id": "36f84648d7cb4924976bf01223b06fb9",
       "version_major": 2,
       "version_minor": 0
      },
      "text/plain": [
       "FDQuantityText(value=<Quantity : 0.0 >, children=(Text(value='0.0', description='Quantity:', layout=Layout(bor…"
      ]
     },
     "metadata": {},
     "output_type": "display_data"
    }
   ],
   "source": [
    "w2 = FDQuantityText()\n",
    "w2"
   ]
  },
  {
   "cell_type": "code",
   "execution_count": 15,
   "metadata": {},
   "outputs": [
    {
     "name": "stdout",
     "output_type": "stream",
     "text": [
      "0.0\n"
     ]
    }
   ],
   "source": [
    "print(w2.value)"
   ]
  },
  {
   "cell_type": "markdown",
   "metadata": {},
   "source": [
    "A fixed-length quantity :"
   ]
  },
  {
   "cell_type": "code",
   "execution_count": 16,
   "metadata": {},
   "outputs": [
    {
     "data": {
      "application/vnd.jupyter.widget-view+json": {
       "model_id": "eaca5be94dd642a2bb6335386a603e7f",
       "version_major": 2,
       "version_minor": 0
      },
      "text/plain": [
       "FDQuantityText(value=<Quantity : 3.141592653589793 m, symbol=UndefinedSymbol*m>, children=(Text(value='3.14159…"
      ]
     },
     "metadata": {},
     "output_type": "display_data"
    }
   ],
   "source": [
    "w3 = FDQuantityText(pi*m)\n",
    "w3"
   ]
  },
  {
   "cell_type": "code",
   "execution_count": 17,
   "metadata": {},
   "outputs": [
    {
     "name": "stdout",
     "output_type": "stream",
     "text": [
      "3.141592653589793 m\n"
     ]
    }
   ],
   "source": [
    "print(w3.value)"
   ]
  },
  {
   "cell_type": "markdown",
   "metadata": {},
   "source": [
    "# Testing with QuantityText"
   ]
  },
  {
   "cell_type": "markdown",
   "metadata": {},
   "source": [
    "## interact without abbreviation"
   ]
  },
  {
   "cell_type": "markdown",
   "metadata": {},
   "source": [
    "The `QuantityText` widget can be passed to `ipywidgets.interact` decorator : "
   ]
  },
  {
   "cell_type": "code",
   "execution_count": 18,
   "metadata": {},
   "outputs": [
    {
     "data": {
      "application/vnd.jupyter.widget-view+json": {
       "model_id": "f80ff35666f74eaaa50738ddbec6595b",
       "version_major": 2,
       "version_minor": 0
      },
      "text/plain": [
       "interactive(children=(QuantityText(value=<Quantity : 2 m, symbol=UndefinedSymbol*m>, children=(Text(value='2 m…"
      ]
     },
     "metadata": {},
     "output_type": "display_data"
    }
   ],
   "source": [
    "# define widget\n",
    "qs = QuantityText(2*m)\n",
    "\n",
    "# define function\n",
    "def toto(x):\n",
    "    return str(x*2)\n",
    "\n",
    "# wrap function with interact and pass widget\n",
    "res = ipyw.interact(toto, x=qs);\n"
   ]
  },
  {
   "cell_type": "markdown",
   "metadata": {},
   "source": [
    "Or equivalently using the decorator notation"
   ]
  },
  {
   "cell_type": "code",
   "execution_count": 19,
   "metadata": {},
   "outputs": [
    {
     "data": {
      "application/vnd.jupyter.widget-view+json": {
       "model_id": "730110c2ab41493d9d16627b56d27350",
       "version_major": 2,
       "version_minor": 0
      },
      "text/plain": [
       "interactive(children=(QuantityText(value=<Quantity : 2 m, symbol=UndefinedSymbol*m>, children=(Text(value='2 m…"
      ]
     },
     "metadata": {},
     "output_type": "display_data"
    }
   ],
   "source": [
    "# equivalently\n",
    "@ipyw.interact(x=qs)\n",
    "def toto(x):\n",
    "    return str(x*2)\n"
   ]
  },
  {
   "cell_type": "markdown",
   "metadata": {},
   "source": [
    "## boxing\n",
    "The `QuantityText` can wrapped in any `ipywidgets.Box` : "
   ]
  },
  {
   "cell_type": "code",
   "execution_count": 20,
   "metadata": {},
   "outputs": [
    {
     "data": {
      "application/vnd.jupyter.widget-view+json": {
       "model_id": "da50601838bf4577a5156a33a70bbdfd",
       "version_major": 2,
       "version_minor": 0
      },
      "text/plain": [
       "VBox(children=(QuantityText(value=<Quantity : 2 m, symbol=UndefinedSymbol*m>, children=(Text(value='2 m', desc…"
      ]
     },
     "metadata": {},
     "output_type": "display_data"
    }
   ],
   "source": [
    "# define widget\n",
    "qs =  QuantityText(2*m)\n",
    "\n",
    "# wrap widget in VBox\n",
    "ipyw.VBox([qs, qs])"
   ]
  },
  {
   "cell_type": "markdown",
   "metadata": {},
   "source": [
    "## interactive\n",
    "The `QuantityText` can used with the `ipywidgets.interactive` decorator. The interactive widget returns a widget containing the result of the function in w.result."
   ]
  },
  {
   "cell_type": "code",
   "execution_count": 21,
   "metadata": {},
   "outputs": [],
   "source": [
    "# interact without abbreviation\n",
    "qs = QuantityText(2*m)\n",
    "\n",
    "# define function\n",
    "def slow_function(i):\n",
    "    \"\"\"\n",
    "    Sleep for 1 second then print the argument\n",
    "    \"\"\"\n",
    "    from time import sleep\n",
    "    print('Sleeping...')\n",
    "    sleep(1)\n",
    "    print(i)\n",
    "    print(2*i)    \n",
    "    return i*2\n",
    "\n",
    "# wrap function with widget\n",
    "w = ipyw.interactive(slow_function, i=qs)\n"
   ]
  },
  {
   "cell_type": "code",
   "execution_count": 22,
   "metadata": {},
   "outputs": [
    {
     "data": {
      "application/vnd.jupyter.widget-view+json": {
       "model_id": "e28b3404ac5a49f1a18c3de84caa1e7a",
       "version_major": 2,
       "version_minor": 0
      },
      "text/plain": [
       "interactive(children=(QuantityText(value=<Quantity : 2 m, symbol=UndefinedSymbol*m>, children=(Text(value='2 m…"
      ]
     },
     "metadata": {},
     "output_type": "display_data"
    }
   ],
   "source": [
    "w"
   ]
  },
  {
   "cell_type": "code",
   "execution_count": 23,
   "metadata": {},
   "outputs": [
    {
     "data": {
      "text/latex": [
       "$4.0\\,m$"
      ],
      "text/plain": [
       "<Quantity : 4 m, symbol=UndefinedSymbol**2*m>"
      ]
     },
     "execution_count": 23,
     "metadata": {},
     "output_type": "execute_result"
    }
   ],
   "source": [
    "w.result"
   ]
  },
  {
   "cell_type": "markdown",
   "metadata": {},
   "source": [
    "## interact manual"
   ]
  },
  {
   "cell_type": "code",
   "execution_count": 24,
   "metadata": {},
   "outputs": [
    {
     "data": {
      "application/vnd.jupyter.widget-view+json": {
       "model_id": "71161be02a624e13a8f652a4aa7c6215",
       "version_major": 2,
       "version_minor": 0
      },
      "text/plain": [
       "interactive(children=(QuantityText(value=<Quantity : 2 m, symbol=UndefinedSymbol*m>, children=(Text(value='2 m…"
      ]
     },
     "metadata": {},
     "output_type": "display_data"
    }
   ],
   "source": [
    "qs = QuantityText(2*m)\n",
    "\n",
    "def slow_function(i):\n",
    "    \"\"\"\n",
    "    Sleep for 1 second then print the argument\n",
    "    \"\"\"\n",
    "    from time import sleep\n",
    "    print('Sleeping...')\n",
    "    sleep(1)\n",
    "    print(i)\n",
    "\n",
    "decorated_slow_function = ipyw.interact_manual(slow_function,i=qs)"
   ]
  },
  {
   "cell_type": "markdown",
   "metadata": {},
   "source": [
    "## interactive output\n",
    "\n",
    "Build complete UI using QuantityText for inputs, and outputs, and wrap with interactive_outputs:"
   ]
  },
  {
   "cell_type": "code",
   "execution_count": 25,
   "metadata": {},
   "outputs": [],
   "source": [
    "# inputs widgets\n",
    "wa =  QuantityText(2*m)\n",
    "wb =  QuantityText(2*m)\n",
    "wc =  QuantityText(2*m)\n",
    "\n",
    "# An HBox lays out its children horizontally\n",
    "ui = ipyw.VBox([wa, wb, wc])\n",
    "\n",
    "# define function\n",
    "def f(a, b, c):\n",
    "    # You can use print here instead of display because interactive_output generates a normal notebook \n",
    "    # output area.\n",
    "    print((a, b, c))\n",
    "    res = a*b/c\n",
    "    print(res)\n",
    "    display(res)\n",
    "    return res\n",
    "\n",
    "# create output widget\n",
    "out = ipyw.interactive_output(f, {'a': wa, 'b': wb, 'c': wc})"
   ]
  },
  {
   "cell_type": "code",
   "execution_count": 26,
   "metadata": {},
   "outputs": [
    {
     "data": {
      "application/vnd.jupyter.widget-view+json": {
       "model_id": "ce2e0e708e6143348cee9675a93acd79",
       "version_major": 2,
       "version_minor": 0
      },
      "text/plain": [
       "VBox(children=(QuantityText(value=<Quantity : 2 m, symbol=UndefinedSymbol*m>, children=(Text(value='2 m', desc…"
      ]
     },
     "metadata": {},
     "output_type": "display_data"
    },
    {
     "data": {
      "application/vnd.jupyter.widget-view+json": {
       "model_id": "f45acb30ea3345fcbad603926ed5356c",
       "version_major": 2,
       "version_minor": 0
      },
      "text/plain": [
       "Output(outputs=({'name': 'stdout', 'text': '(<Quantity : 2 m, symbol=UndefinedSymbol*m>, <Quantity : 2 m, symb…"
      ]
     },
     "metadata": {},
     "output_type": "display_data"
    }
   ],
   "source": [
    "# display full UI\n",
    "display(ui, out)"
   ]
  },
  {
   "cell_type": "code",
   "execution_count": 27,
   "metadata": {},
   "outputs": [],
   "source": [
    "wb.value = 12*m"
   ]
  },
  {
   "cell_type": "markdown",
   "metadata": {},
   "source": [
    "## link\n",
    "Support linking :"
   ]
  },
  {
   "cell_type": "code",
   "execution_count": 28,
   "metadata": {},
   "outputs": [],
   "source": [
    "qw1 =  QuantityText(2*m)\n",
    "qw2 =  QuantityText(2*m)\n",
    "\n",
    "# create link\n",
    "mylink = ipyw.link((qw1, 'value'), (qw2, 'value'))"
   ]
  },
  {
   "cell_type": "code",
   "execution_count": 29,
   "metadata": {},
   "outputs": [
    {
     "data": {
      "application/vnd.jupyter.widget-view+json": {
       "model_id": "8d5e68172031424283d2c924159e1b4e",
       "version_major": 2,
       "version_minor": 0
      },
      "text/plain": [
       "QuantityText(value=<Quantity : 2 m, symbol=UndefinedSymbol*m>, children=(Text(value='2 m', description='Quanti…"
      ]
     },
     "metadata": {},
     "output_type": "display_data"
    }
   ],
   "source": [
    "qw1"
   ]
  },
  {
   "cell_type": "code",
   "execution_count": 30,
   "metadata": {},
   "outputs": [
    {
     "data": {
      "application/vnd.jupyter.widget-view+json": {
       "model_id": "15c95d2099dd4d2ab270fae0c4c9b538",
       "version_major": 2,
       "version_minor": 0
      },
      "text/plain": [
       "QuantityText(value=<Quantity : 2 m, symbol=UndefinedSymbol*m>, children=(Text(value='2 m', description='Quanti…"
      ]
     },
     "metadata": {},
     "output_type": "display_data"
    }
   ],
   "source": [
    "qw2"
   ]
  },
  {
   "cell_type": "markdown",
   "metadata": {},
   "source": [
    "## observe"
   ]
  },
  {
   "cell_type": "code",
   "execution_count": 31,
   "metadata": {
    "lines_to_next_cell": 0
   },
   "outputs": [],
   "source": [
    "# create widget\n",
    "qw =  QuantityText(2*m)\n",
    "\n",
    "# create text output that displays the widget value\n",
    "square_display = ipyw.HTML(description=\"Square: \",\n",
    "                              value='{}'.format(qw.value**2))\n",
    "\n",
    "# create observe link\n",
    "def update_square_display(change):\n",
    "    square_display.value = '{}'.format(change.new**2)\n",
    "qw.observe(update_square_display, names='value')"
   ]
  },
  {
   "cell_type": "code",
   "execution_count": 32,
   "metadata": {
    "lines_to_next_cell": 0
   },
   "outputs": [
    {
     "data": {
      "application/vnd.jupyter.widget-view+json": {
       "model_id": "2ee5063e0c9748338e78fa76c5a7f788",
       "version_major": 2,
       "version_minor": 0
      },
      "text/plain": [
       "VBox(children=(QuantityText(value=<Quantity : 2 m, symbol=UndefinedSymbol*m>, children=(Text(value='2 m', desc…"
      ]
     },
     "metadata": {},
     "output_type": "display_data"
    }
   ],
   "source": [
    "# wrap input widget and text ouput\n",
    "ipyw.VBox([qw, square_display])"
   ]
  },
  {
   "cell_type": "markdown",
   "metadata": {},
   "source": [
    "# Function UI with widgets and decorators"
   ]
  },
  {
   "cell_type": "markdown",
   "metadata": {},
   "source": [
    "It is possible to get a function widget just using decorators : \n",
    " - if available, a \"name\" will be displayed\n",
    " - if available, an equation in Latex will be displayed\n",
    " - if available, the annotation will be used as start value for inputs\n",
    " - if available, the annotation for output will used as favunit"
   ]
  },
  {
   "cell_type": "code",
   "execution_count": 33,
   "metadata": {},
   "outputs": [],
   "source": [
    "from physipy.quantity.utils import latex_eq, name_eq\n",
    "from physipy import units, sr, constants, m, s\n",
    "import numpy as np\n",
    "from physipy.qwidgets.qipywidgets import ui_widget_decorate_from_annotations, ui_widget_decorate\n",
    "\n",
    "pi = np.pi\n",
    "g = constants[\"g\"]\n",
    "msr = units[\"msr\"]\n",
    "    "
   ]
  },
  {
   "cell_type": "code",
   "execution_count": 34,
   "metadata": {},
   "outputs": [
    {
     "data": {
      "application/vnd.jupyter.widget-view+json": {
       "model_id": "eb4783c379d64d30aae979ed4a361268",
       "version_major": 2,
       "version_minor": 0
      },
      "text/plain": [
       "VBox(children=(HBox(children=(Label(value='Speed :'), Label(value='v = d/t'))), VBox(children=(QuantityText(va…"
      ]
     },
     "metadata": {},
     "output_type": "display_data"
    }
   ],
   "source": [
    "# define the function, and optionnaly add decorators, and annotations\n",
    "@latex_eq(r\"v = d/t\")\n",
    "@name_eq(\"Speed :\")\n",
    "def speed(length:m, time:s) -> m/s:\n",
    "    return length / time\n",
    "\n",
    "# create the ui\n",
    "speed_ui = ui_widget_decorate_from_annotations(speed)\n",
    "\n",
    "# display the ui\n",
    "speed_ui"
   ]
  },
  {
   "cell_type": "code",
   "execution_count": 35,
   "metadata": {},
   "outputs": [
    {
     "data": {
      "application/vnd.jupyter.widget-view+json": {
       "model_id": "04bd1e055bc74ba78c50becb577f93c3",
       "version_major": 2,
       "version_minor": 0
      },
      "text/plain": [
       "VBox(children=(HBox(children=(Label(value='Speed :'), Label(value='v = d/t'))), VBox(children=(QuantityText(va…"
      ]
     },
     "metadata": {},
     "output_type": "display_data"
    }
   ],
   "source": [
    "# define the function, and optionnaly add decorators, and annotations\n",
    "@latex_eq(r\"v = d/t\")\n",
    "@name_eq(\"Speed :\")\n",
    "def speed(length:m, time:s) -> m/s:\n",
    "    return length / time\n",
    "\n",
    "# create the ui\n",
    "speed_ui = ui_widget_decorate_from_annotations(speed)\n",
    "\n",
    "# display the ui\n",
    "speed_ui"
   ]
  },
  {
   "cell_type": "markdown",
   "metadata": {},
   "source": [
    "Equivalently using decorator notation"
   ]
  },
  {
   "cell_type": "code",
   "execution_count": 36,
   "metadata": {},
   "outputs": [
    {
     "data": {
      "application/vnd.jupyter.widget-view+json": {
       "model_id": "d84be71171014b319d840c1de79f24a1",
       "version_major": 2,
       "version_minor": 0
      },
      "text/plain": [
       "VBox(children=(HBox(children=(Label(value='Speed :'), Label(value='$v = \\\\frac{d}{t}$'))), VBox(children=(Quan…"
      ]
     },
     "metadata": {},
     "output_type": "display_data"
    }
   ],
   "source": [
    "# equivalently\n",
    "@ui_widget_decorate_from_annotations\n",
    "@latex_eq(r\"$v = \\frac{d}{t}$\")\n",
    "@name_eq(\"Speed :\")\n",
    "def speed(length:2*m, time:10*s) -> m/s:\n",
    "    return length / time\n",
    "\n",
    "speed"
   ]
  },
  {
   "cell_type": "markdown",
   "metadata": {},
   "source": [
    "More examples"
   ]
  },
  {
   "cell_type": "code",
   "execution_count": 37,
   "metadata": {},
   "outputs": [
    {
     "data": {
      "application/vnd.jupyter.widget-view+json": {
       "model_id": "38dfde2213f143548893d77b85bfc6ee",
       "version_major": 2,
       "version_minor": 0
      },
      "text/plain": [
       "VBox(children=(HBox(children=(Label(value='PSA :'), Label(value='$\\\\Omega = \\\\frac{\\\\pi}{4(f/D)^2}$'))), VBox(…"
      ]
     },
     "metadata": {},
     "output_type": "display_data"
    }
   ],
   "source": [
    "# define the function, and optionnaly add decorators, and annotations\n",
    "@latex_eq(r\"$\\Omega = \\frac{\\pi}{4(f/D)^2}$\")\n",
    "@name_eq(\"PSA :\")\n",
    "def psa(f:m, D:m) -> msr:          # the output will be displayed using msr\n",
    "    return np.pi /(4*(f/D)**2)*sr\n",
    "\n",
    "# create the ui\n",
    "psa_ui = ui_widget_decorate_from_annotations(psa)\n",
    "\n",
    "# display the ui\n",
    "psa_ui"
   ]
  },
  {
   "cell_type": "code",
   "execution_count": 38,
   "metadata": {},
   "outputs": [
    {
     "data": {
      "application/vnd.jupyter.widget-view+json": {
       "model_id": "6adff1deb47944d49eabc46d8b07720a",
       "version_major": 2,
       "version_minor": 0
      },
      "text/plain": [
       "VBox(children=(HBox(children=(Label(value='Pendulum period :'), Label(value='$T = 2\\\\pi \\\\sqrt{\\\\frac{L}{g}}$'…"
      ]
     },
     "metadata": {},
     "output_type": "display_data"
    }
   ],
   "source": [
    "# define the function, and optionnaly add decorators, and annotations\n",
    "@latex_eq(r\"$T = 2\\pi \\sqrt{\\frac{L}{g}}$\")\n",
    "@name_eq(\"Pendulum period :\")\n",
    "def pendulum_period(L:m):\n",
    "    return 2 * pi * np.sqrt(L/g)\n",
    "\n",
    "# create the ui\n",
    "pendulum_ui = ui_widget_decorate_from_annotations(pendulum_period)\n",
    "\n",
    "# display the ui\n",
    "pendulum_ui"
   ]
  },
  {
   "cell_type": "markdown",
   "metadata": {},
   "source": [
    "Without annotations"
   ]
  },
  {
   "cell_type": "code",
   "execution_count": 39,
   "metadata": {},
   "outputs": [
    {
     "data": {
      "application/vnd.jupyter.widget-view+json": {
       "model_id": "94298d72e5684508bc17e78b43621179",
       "version_major": 2,
       "version_minor": 0
      },
      "text/plain": [
       "VBox(children=(HBox(children=(Label(value='Cut-off frequency of R-C circuit :'), Label(value='$\\\\frac{1}{2\\\\pi…"
      ]
     },
     "metadata": {},
     "output_type": "display_data"
    }
   ],
   "source": [
    "ohm = units[\"ohm\"]\n",
    "farad = units[\"F\"]\n",
    "\n",
    "@latex_eq(r\"$\\frac{1}{2\\pi RC}$\")\n",
    "@name_eq(\"Cut-off frequency of R-C circuit :\")\n",
    "def freq_RC(R, C):\n",
    "    return 1/(2 * pi * R * C)\n",
    "\n",
    "freq_RC_ui = ui_widget_decorate([(\"R\", 1*ohm),\n",
    "                                 (\"C\", 0.5*farad, \"Capacitance\")])(freq_RC)\n",
    "\n",
    "freq_RC_ui"
   ]
  },
  {
   "cell_type": "markdown",
   "metadata": {},
   "source": [
    "# Sliders"
   ]
  },
  {
   "cell_type": "markdown",
   "metadata": {},
   "source": [
    "## Basic QuantitySlider"
   ]
  },
  {
   "cell_type": "markdown",
   "metadata": {},
   "source": [
    "For simplicity purpose, the dimension cannot be changed (`w4.min = 2\\*s` is not expected):"
   ]
  },
  {
   "cell_type": "code",
   "execution_count": 40,
   "metadata": {},
   "outputs": [],
   "source": [
    "from physipy.qwidgets.qipywidgets import QuantitySlider"
   ]
  },
  {
   "cell_type": "code",
   "execution_count": 41,
   "metadata": {},
   "outputs": [
    {
     "data": {
      "application/vnd.jupyter.widget-view+json": {
       "model_id": "79cd1cf708d449e8956e18e5f7cb39d5",
       "version_major": 2,
       "version_minor": 0
      },
      "text/plain": [
       "QuantitySlider(value=<Quantity : 3 m, symbol=UndefinedSymbol*m>, children=(FloatSlider(value=3.0, description=…"
      ]
     },
     "metadata": {},
     "output_type": "display_data"
    }
   ],
   "source": [
    "w4 = QuantitySlider(3*m)\n",
    "w4"
   ]
  },
  {
   "cell_type": "markdown",
   "metadata": {},
   "source": [
    "## Working with favunits\n",
    "By default, anytime a Quantity is passed with a favunit, it will be used to display"
   ]
  },
  {
   "cell_type": "code",
   "execution_count": 50,
   "metadata": {},
   "outputs": [
    {
     "data": {
      "application/vnd.jupyter.widget-view+json": {
       "model_id": "cf523a0c9a84407e98f71273ffab981d",
       "version_major": 2,
       "version_minor": 0
      },
      "text/plain": [
       "QuantitySlider(value=<Quantity : 3.141592653589793 m, symbol=UndefinedSymbol*m>, children=(FloatSlider(value=3…"
      ]
     },
     "metadata": {},
     "output_type": "display_data"
    }
   ],
   "source": [
    "q = pi*m\n",
    "q.favunit = mm\n",
    "\n",
    "w6 = QuantitySlider(q)\n",
    "w6"
   ]
  },
  {
   "cell_type": "markdown",
   "metadata": {},
   "source": [
    "## observing"
   ]
  },
  {
   "cell_type": "markdown",
   "metadata": {},
   "source": [
    "Observing works (just not the VBoxing)"
   ]
  },
  {
   "cell_type": "code",
   "execution_count": 46,
   "metadata": {},
   "outputs": [
    {
     "data": {
      "application/vnd.jupyter.widget-view+json": {
       "model_id": "e516e4cf352c4dda870296282d21b8b6",
       "version_major": 2,
       "version_minor": 0
      },
      "text/plain": [
       "QuantitySlider(value=<Quantity : 7.5 m, symbol=UndefinedSymbol*m>, children=(FloatSlider(value=7.5, descriptio…"
      ]
     },
     "metadata": {},
     "output_type": "display_data"
    },
    {
     "data": {
      "application/vnd.jupyter.widget-view+json": {
       "model_id": "762484b38fc54dfb910aef1ca922a6f6",
       "version_major": 2,
       "version_minor": 0
      },
      "text/plain": [
       "HTML(value='56.25 m**2', description='Square: ')"
      ]
     },
     "metadata": {},
     "output_type": "display_data"
    }
   ],
   "source": [
    "slider = QuantitySlider(\n",
    "    value=7.5*m)\n",
    "\n",
    "# Create non-editable text area to display square of value\n",
    "square_display = ipyw.HTML(description=\"Square: \",\n",
    "                              value='{}'.format(slider.value**2))\n",
    "\n",
    "# Create function to update square_display's value when slider changes\n",
    "def update_square_display(change):\n",
    "    square_display.value = '{}'.format(change.new**2)\n",
    "    \n",
    "slider.observe(update_square_display, names='value')\n",
    "\n",
    "# Put them in a vertical box\n",
    "display(slider, square_display)"
   ]
  },
  {
   "cell_type": "markdown",
   "metadata": {},
   "source": [
    "## boxing"
   ]
  },
  {
   "cell_type": "code",
   "execution_count": 47,
   "metadata": {},
   "outputs": [
    {
     "data": {
      "application/vnd.jupyter.widget-view+json": {
       "model_id": "60e14c929a1745f790feb3c15a91ab96",
       "version_major": 2,
       "version_minor": 0
      },
      "text/plain": [
       "VBox(children=(QuantitySlider(value=<Quantity : 7.5 m, symbol=UndefinedSymbol*m>, children=(FloatSlider(value=…"
      ]
     },
     "metadata": {},
     "output_type": "display_data"
    }
   ],
   "source": [
    "ipyw.VBox([slider, slider])"
   ]
  },
  {
   "cell_type": "markdown",
   "metadata": {},
   "source": [
    "## interactive output"
   ]
  },
  {
   "cell_type": "code",
   "execution_count": 48,
   "metadata": {},
   "outputs": [
    {
     "data": {
      "application/vnd.jupyter.widget-view+json": {
       "model_id": "2571c2dd96c044b5976257b9b4a2a9d1",
       "version_major": 2,
       "version_minor": 0
      },
      "text/plain": [
       "VBox(children=(QuantitySlider(value=<Quantity : 2 m, symbol=UndefinedSymbol*m>, children=(FloatSlider(value=2.…"
      ]
     },
     "metadata": {},
     "output_type": "display_data"
    },
    {
     "data": {
      "application/vnd.jupyter.widget-view+json": {
       "model_id": "6e2e1add78b24f48b67031b6310556b0",
       "version_major": 2,
       "version_minor": 0
      },
      "text/plain": [
       "Output()"
      ]
     },
     "metadata": {},
     "output_type": "display_data"
    }
   ],
   "source": [
    "# inputs widgets\n",
    "wa =  QuantitySlider(2*m)\n",
    "wb =  QuantitySlider(2*m)\n",
    "wc =  QuantitySlider(2*m)\n",
    "\n",
    "# An HBox lays out its children horizontally\n",
    "ui = ipyw.VBox([wa, wb, wc])\n",
    "\n",
    "# define function\n",
    "def f(a, b, c):\n",
    "    # You can use print here instead of display because interactive_output generates a normal notebook \n",
    "    # output area.\n",
    "    #print((a, b, c))\n",
    "    res = a*b/c\n",
    "    #print(res)\n",
    "    display(res)\n",
    "    return res\n",
    "\n",
    "# create output widget\n",
    "out = ipyw.interactive_output(f, {'a': wa, 'b': wb, 'c': wc})\n",
    "\n",
    "display(ui, out)"
   ]
  },
  {
   "cell_type": "code",
   "execution_count": null,
   "metadata": {},
   "outputs": [],
   "source": []
  }
 ],
 "metadata": {
  "kernelspec": {
   "display_name": "Python 3",
   "language": "python",
   "name": "python3"
  },
  "language_info": {
   "codemirror_mode": {
    "name": "ipython",
    "version": 3
   },
   "file_extension": ".py",
   "mimetype": "text/x-python",
   "name": "python",
   "nbconvert_exporter": "python",
   "pygments_lexer": "ipython3",
   "version": "3.7.4"
  },
  "toc-autonumbering": true
 },
 "nbformat": 4,
 "nbformat_minor": 4
}
