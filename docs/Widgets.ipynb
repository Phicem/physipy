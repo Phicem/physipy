{
 "cells": [
  {
   "cell_type": "code",
   "execution_count": 1,
   "metadata": {},
   "outputs": [],
   "source": [
    "from physipy.qwidgets.qipywidgets import QuantityText, FDQuantityText#, FDQuantityText, FDQuantitySlider, FDQuantitySliderWithBounds\n",
    "import ipywidgets as ipyw\n",
    "from numpy import pi\n",
    "from physipy import m, s, Quantity, Dimension, rad, units\n",
    "\n",
    "\n",
    "mm = units[\"mm\"]"
   ]
  },
  {
   "cell_type": "markdown",
   "metadata": {},
   "source": [
    "Things to test :\n",
    "\n",
    "Types of widgets :\n",
    " - QuantityText : text area, very permissive\n",
    " - FDQuantityText : text area, fixed dimension on init value\n",
    " - FDQuantitySlider : slider, fixed dimension on init value\n",
    " - FDQuantitySliderWithBounds : slider with FDQuantityText to handle min and max\n",
    " \n",
    "Functionnalitities : \n",
    " - VBoxing, HBoxing : `ipyw.VBox([qw, qw])`\n",
    " - interact with abbreviation : `interact(3*m)`\n",
    " - interact with widget : `interact(QuantityText(3*m))`\n",
    " - interactive : `w = ipyw.interactive(slow_function, i=qs)`\n",
    " - interactive_output : `out = ipyw.interactive_output(f, {'a': wa, 'b': wb, 'c': wc})`\n",
    " - observe : \n",
    " - link : `mylink = ipyw.link((qw1, 'value'), (qw2, 'value'))`\n",
    " - jslink : `mylink = ipyw.jslink((qw1, 'value'), (qw2, 'value'))`"
   ]
  },
  {
   "cell_type": "code",
   "execution_count": 2,
   "metadata": {},
   "outputs": [],
   "source": [
    "q = 70*mm\n",
    "q.favunit = mm"
   ]
  },
  {
   "cell_type": "markdown",
   "metadata": {},
   "source": [
    "# Text"
   ]
  },
  {
   "cell_type": "markdown",
   "metadata": {},
   "source": [
    "2 types that inherit from QuantityText : \n",
    " - free QuantityText\n",
    " - Fixed-dimension \"FDQuantityText\""
   ]
  },
  {
   "cell_type": "markdown",
   "metadata": {},
   "source": [
    "## QuantityText\n",
    "Basically a text area that will parse python expression into a numerical physical Quantity. It can be dimensionless (like 5 or 2\\*pi), and can be of any dimension at any time:"
   ]
  },
  {
   "cell_type": "code",
   "execution_count": 3,
   "metadata": {},
   "outputs": [
    {
     "data": {
      "application/vnd.jupyter.widget-view+json": {
       "model_id": "d2fe8218be8e40afa5e700148b10b32c",
       "version_major": 2,
       "version_minor": 0
      },
      "text/plain": [
       "QuantityText(value=<Quantity : 0.0 >, children=(Text(value='0.0', description='Quantity:', layout=Layout(borde…"
      ]
     },
     "metadata": {},
     "output_type": "display_data"
    }
   ],
   "source": [
    "w = QuantityText()\n",
    "w"
   ]
  },
  {
   "cell_type": "markdown",
   "metadata": {},
   "source": [
    "A QuantityText has typical attributes of a widget and a Quantity, except the `value` is the actual Quantity, not the value of the Quantity : "
   ]
  },
  {
   "cell_type": "code",
   "execution_count": 4,
   "metadata": {},
   "outputs": [
    {
     "name": "stdout",
     "output_type": "stream",
     "text": [
      "0.0\n",
      "0.0\n",
      "no-dimension\n",
      "Quantity:\n",
      "False\n"
     ]
    }
   ],
   "source": [
    "print(w.value)\n",
    "print(w.value.value)\n",
    "print(w.dimension)\n",
    "print(w.description)\n",
    "print(w.fixed_dimension)"
   ]
  },
  {
   "cell_type": "code",
   "execution_count": 5,
   "metadata": {},
   "outputs": [
    {
     "name": "stdout",
     "output_type": "stream",
     "text": [
      "0.0\n",
      "no-dimension\n",
      "Quantity:\n"
     ]
    }
   ],
   "source": [
    "print(w.value)\n",
    "print(w.dimension)\n",
    "print(w.description)"
   ]
  },
  {
   "cell_type": "code",
   "execution_count": 6,
   "metadata": {},
   "outputs": [
    {
     "name": "stdout",
     "output_type": "stream",
     "text": [
      "0.0\n",
      "no-dimension\n",
      "Quantity:\n"
     ]
    }
   ],
   "source": [
    "print(w.value)\n",
    "print(w.dimension)\n",
    "print(w.description)"
   ]
  },
  {
   "cell_type": "markdown",
   "metadata": {},
   "source": [
    "With custom description : "
   ]
  },
  {
   "cell_type": "code",
   "execution_count": 7,
   "metadata": {},
   "outputs": [
    {
     "data": {
      "application/vnd.jupyter.widget-view+json": {
       "model_id": "b4bf9eb9bd934dca921b4351417470b9",
       "version_major": 2,
       "version_minor": 0
      },
      "text/plain": [
       "QuantityText(value=<Quantity : 0.0 >, children=(Text(value='0.0', description='Weight', layout=Layout(border='…"
      ]
     },
     "metadata": {},
     "output_type": "display_data"
    }
   ],
   "source": [
    "QuantityText(description=\"Weight\")"
   ]
  },
  {
   "cell_type": "markdown",
   "metadata": {},
   "source": [
    "With init value"
   ]
  },
  {
   "cell_type": "code",
   "execution_count": 8,
   "metadata": {},
   "outputs": [
    {
     "data": {
      "application/vnd.jupyter.widget-view+json": {
       "model_id": "dc9563a62c474fe3ad6fbcc909874d4f",
       "version_major": 2,
       "version_minor": 0
      },
      "text/plain": [
       "QuantityText(value=<Quantity : 6.283185307179586 s, symbol=UndefinedSymbol*s>, children=(Text(value='6.2831853…"
      ]
     },
     "metadata": {},
     "output_type": "display_data"
    }
   ],
   "source": [
    "w = QuantityText(2*pi*s) \n",
    "w"
   ]
  },
  {
   "cell_type": "code",
   "execution_count": 9,
   "metadata": {},
   "outputs": [
    {
     "data": {
      "application/vnd.jupyter.widget-view+json": {
       "model_id": "31804bbddd7b4839b2e058e453ac9464",
       "version_major": 2,
       "version_minor": 0
      },
      "text/plain": [
       "QuantityText(value=<Quantity : 6.283185307179586 rad, symbol=UndefinedSymbol*rad>, children=(Text(value='6.283…"
      ]
     },
     "metadata": {},
     "output_type": "display_data"
    }
   ],
   "source": [
    "QuantityText(2*pi*rad, description=\"Angle\")"
   ]
  },
  {
   "cell_type": "markdown",
   "metadata": {},
   "source": [
    "A `fixed_dimension` attribute can be set to allow change of dimension. By default is false, and so dimension can be changed"
   ]
  },
  {
   "cell_type": "code",
   "execution_count": 10,
   "metadata": {},
   "outputs": [
    {
     "name": "stdout",
     "output_type": "stream",
     "text": [
      "False\n"
     ]
    },
    {
     "data": {
      "application/vnd.jupyter.widget-view+json": {
       "model_id": "557dbb53d14941148687ff0a2e3814e5",
       "version_major": 2,
       "version_minor": 0
      },
      "text/plain": [
       "QuantityText(value=<Quantity : 6.283185307179586 s, symbol=UndefinedSymbol*s>, children=(Text(value='6.2831853…"
      ]
     },
     "metadata": {},
     "output_type": "display_data"
    }
   ],
   "source": [
    "a = QuantityText(2*pi*s)\n",
    "print(a.fixed_dimension)\n",
    "a"
   ]
  },
  {
   "cell_type": "code",
   "execution_count": 11,
   "metadata": {},
   "outputs": [
    {
     "name": "stdout",
     "output_type": "stream",
     "text": [
      "2 rad\n",
      "False\n"
     ]
    }
   ],
   "source": [
    "a.value = 2*rad\n",
    "print(a.value)\n",
    "print(a.fixed_dimension)"
   ]
  },
  {
   "cell_type": "code",
   "execution_count": 12,
   "metadata": {},
   "outputs": [
    {
     "data": {
      "application/vnd.jupyter.widget-view+json": {
       "model_id": "5b7ea2c8063140f6917f8fcc1099f76c",
       "version_major": 2,
       "version_minor": 0
      },
      "text/plain": [
       "QuantityText(value=<Quantity : 6.283185307179586 s, symbol=UndefinedSymbol*s>, children=(Text(value='6.2831853…"
      ]
     },
     "metadata": {},
     "output_type": "display_data"
    }
   ],
   "source": [
    "b = QuantityText(2*pi*s, fixed_dimension=True)\n",
    "b"
   ]
  },
  {
   "cell_type": "code",
   "execution_count": 13,
   "metadata": {},
   "outputs": [
    {
     "name": "stdout",
     "output_type": "stream",
     "text": [
      "b.fixed_dimension = True , hence Quantity must be same dimension.\n"
     ]
    }
   ],
   "source": [
    "try:\n",
    "    b.value = 2*m\n",
    "except:\n",
    "    print(\"b.fixed_dimension =\", b.fixed_dimension, \", hence Quantity must be same dimension.\")"
   ]
  },
  {
   "cell_type": "markdown",
   "metadata": {},
   "source": [
    "# Fixed-Dimension QuantityText\n",
    "A QuantityText that will set a dimension at creation, and not allow any other dimension:"
   ]
  },
  {
   "cell_type": "markdown",
   "metadata": {},
   "source": [
    "A fixed-dimensionless quantity : (trying to set a quantity with another dimension will be ignored : example : type in '5\\*m' then Enter)"
   ]
  },
  {
   "cell_type": "code",
   "execution_count": 14,
   "metadata": {},
   "outputs": [
    {
     "data": {
      "application/vnd.jupyter.widget-view+json": {
       "model_id": "a42022941aa64849ae7d1e340af02c29",
       "version_major": 2,
       "version_minor": 0
      },
      "text/plain": [
       "FDQuantityText(value=<Quantity : 0.0 >, children=(Text(value='0.0', description='Quantity:', layout=Layout(bor…"
      ]
     },
     "metadata": {},
     "output_type": "display_data"
    }
   ],
   "source": [
    "w2 = FDQuantityText()\n",
    "w2"
   ]
  },
  {
   "cell_type": "code",
   "execution_count": 15,
   "metadata": {},
   "outputs": [
    {
     "name": "stdout",
     "output_type": "stream",
     "text": [
      "0.0\n"
     ]
    }
   ],
   "source": [
    "print(w2.value)"
   ]
  },
  {
   "cell_type": "markdown",
   "metadata": {},
   "source": [
    "A fixed-length quantity :"
   ]
  },
  {
   "cell_type": "code",
   "execution_count": 16,
   "metadata": {},
   "outputs": [
    {
     "data": {
      "application/vnd.jupyter.widget-view+json": {
       "model_id": "38e71799876342ea8d3ce9c1ec1749e0",
       "version_major": 2,
       "version_minor": 0
      },
      "text/plain": [
       "FDQuantityText(value=<Quantity : 3.141592653589793 m, symbol=UndefinedSymbol*m>, children=(Text(value='3.14159…"
      ]
     },
     "metadata": {},
     "output_type": "display_data"
    }
   ],
   "source": [
    "w3 = FDQuantityText(pi*m)\n",
    "w3"
   ]
  },
  {
   "cell_type": "code",
   "execution_count": 17,
   "metadata": {},
   "outputs": [
    {
     "name": "stdout",
     "output_type": "stream",
     "text": [
      "3.141592653589793 m\n"
     ]
    }
   ],
   "source": [
    "print(w3.value)"
   ]
  },
  {
   "cell_type": "markdown",
   "metadata": {},
   "source": [
    "# Testing with QuantityText"
   ]
  },
  {
   "cell_type": "markdown",
   "metadata": {},
   "source": [
    "## interact without abbreviation"
   ]
  },
  {
   "cell_type": "markdown",
   "metadata": {},
   "source": [
    "The `QuantityText` widget can be passed to `ipywidgets.interact` decorator : "
   ]
  },
  {
   "cell_type": "code",
   "execution_count": 18,
   "metadata": {},
   "outputs": [
    {
     "data": {
      "application/vnd.jupyter.widget-view+json": {
       "model_id": "b2c2ae0030184b98b5d235db7e738628",
       "version_major": 2,
       "version_minor": 0
      },
      "text/plain": [
       "interactive(children=(QuantityText(value=<Quantity : 2 m, symbol=UndefinedSymbol*m>, children=(Text(value='2 m…"
      ]
     },
     "metadata": {},
     "output_type": "display_data"
    }
   ],
   "source": [
    "# define widget\n",
    "qs = QuantityText(2*m)\n",
    "\n",
    "# define function\n",
    "def toto(x):\n",
    "    return str(x*2)\n",
    "\n",
    "# wrap function with interact and pass widget\n",
    "res = ipyw.interact(toto, x=qs);\n"
   ]
  },
  {
   "cell_type": "markdown",
   "metadata": {},
   "source": [
    "Or equivalently using the decorator notation"
   ]
  },
  {
   "cell_type": "code",
   "execution_count": 19,
   "metadata": {},
   "outputs": [
    {
     "data": {
      "application/vnd.jupyter.widget-view+json": {
       "model_id": "1be2fd80464a487e9c7244c6c3e27d71",
       "version_major": 2,
       "version_minor": 0
      },
      "text/plain": [
       "interactive(children=(QuantityText(value=<Quantity : 2 m, symbol=UndefinedSymbol*m>, children=(Text(value='2 m…"
      ]
     },
     "metadata": {},
     "output_type": "display_data"
    }
   ],
   "source": [
    "# equivalently\n",
    "@ipyw.interact(x=qs)\n",
    "def toto(x):\n",
    "    return str(x*2)\n"
   ]
  },
  {
   "cell_type": "markdown",
   "metadata": {},
   "source": [
    "## boxing\n",
    "The `QuantityText` can wrapped in any `ipywidgets.Box` : "
   ]
  },
  {
   "cell_type": "code",
   "execution_count": 20,
   "metadata": {},
   "outputs": [
    {
     "data": {
      "application/vnd.jupyter.widget-view+json": {
       "model_id": "0b3f843cd5704b7a8801930d1f02ea17",
       "version_major": 2,
       "version_minor": 0
      },
      "text/plain": [
       "VBox(children=(QuantityText(value=<Quantity : 2 m, symbol=UndefinedSymbol*m>, children=(Text(value='2 m', desc…"
      ]
     },
     "metadata": {},
     "output_type": "display_data"
    }
   ],
   "source": [
    "# define widget\n",
    "qs =  QuantityText(2*m)\n",
    "\n",
    "# wrap widget in VBox\n",
    "ipyw.VBox([qs, qs])"
   ]
  },
  {
   "cell_type": "markdown",
   "metadata": {},
   "source": [
    "## interactive\n",
    "The `QuantityText` can used with the `ipywidgets.interactive` decorator. The interactive widget returns a widget containing the result of the function in w.result."
   ]
  },
  {
   "cell_type": "code",
   "execution_count": 21,
   "metadata": {},
   "outputs": [],
   "source": [
    "# interact without abbreviation\n",
    "qs = QuantityText(2*m)\n",
    "\n",
    "# define function\n",
    "def slow_function(i):\n",
    "    \"\"\"\n",
    "    Sleep for 1 second then print the argument\n",
    "    \"\"\"\n",
    "    from time import sleep\n",
    "    print('Sleeping...')\n",
    "    sleep(1)\n",
    "    print(i)\n",
    "    print(2*i)    \n",
    "    return i*2\n",
    "\n",
    "# wrap function with widget\n",
    "w = ipyw.interactive(slow_function, i=qs)\n"
   ]
  },
  {
   "cell_type": "code",
   "execution_count": 22,
   "metadata": {},
   "outputs": [
    {
     "data": {
      "application/vnd.jupyter.widget-view+json": {
       "model_id": "bdc0c26759a945af83af94121f9af955",
       "version_major": 2,
       "version_minor": 0
      },
      "text/plain": [
       "interactive(children=(QuantityText(value=<Quantity : 2 m, symbol=UndefinedSymbol*m>, children=(Text(value='2 m…"
      ]
     },
     "metadata": {},
     "output_type": "display_data"
    }
   ],
   "source": [
    "w"
   ]
  },
  {
   "cell_type": "code",
   "execution_count": 23,
   "metadata": {},
   "outputs": [
    {
     "data": {
      "text/latex": [
       "$4.0\\,m$"
      ],
      "text/plain": [
       "<Quantity : 4 m, symbol=UndefinedSymbol**2*m>"
      ]
     },
     "execution_count": 23,
     "metadata": {},
     "output_type": "execute_result"
    }
   ],
   "source": [
    "w.result"
   ]
  },
  {
   "cell_type": "markdown",
   "metadata": {},
   "source": [
    "## interact manual"
   ]
  },
  {
   "cell_type": "code",
   "execution_count": 24,
   "metadata": {},
   "outputs": [
    {
     "data": {
      "application/vnd.jupyter.widget-view+json": {
       "model_id": "c2353210f8904e81bec0609998cf1e03",
       "version_major": 2,
       "version_minor": 0
      },
      "text/plain": [
       "interactive(children=(QuantityText(value=<Quantity : 2 m, symbol=UndefinedSymbol*m>, children=(Text(value='2 m…"
      ]
     },
     "metadata": {},
     "output_type": "display_data"
    }
   ],
   "source": [
    "qs = QuantityText(2*m)\n",
    "\n",
    "def slow_function(i):\n",
    "    \"\"\"\n",
    "    Sleep for 1 second then print the argument\n",
    "    \"\"\"\n",
    "    from time import sleep\n",
    "    print('Sleeping...')\n",
    "    sleep(1)\n",
    "    print(i)\n",
    "\n",
    "decorated_slow_function = ipyw.interact_manual(slow_function,i=qs)"
   ]
  },
  {
   "cell_type": "markdown",
   "metadata": {},
   "source": [
    "## interactive output\n",
    "\n",
    "Build complete UI using QuantityText for inputs, and outputs, and wrap with interactive_outputs:"
   ]
  },
  {
   "cell_type": "code",
   "execution_count": 25,
   "metadata": {},
   "outputs": [],
   "source": [
    "# inputs widgets\n",
    "wa =  QuantityText(2*m)\n",
    "wb =  QuantityText(2*m)\n",
    "wc =  QuantityText(2*m)\n",
    "\n",
    "# An HBox lays out its children horizontally\n",
    "ui = ipyw.VBox([wa, wb, wc])\n",
    "\n",
    "# define function\n",
    "def f(a, b, c):\n",
    "    # You can use print here instead of display because interactive_output generates a normal notebook \n",
    "    # output area.\n",
    "    print((a, b, c))\n",
    "    res = a*b/c\n",
    "    print(res)\n",
    "    display(res)\n",
    "    return res\n",
    "\n",
    "# create output widget\n",
    "out = ipyw.interactive_output(f, {'a': wa, 'b': wb, 'c': wc})"
   ]
  },
  {
   "cell_type": "code",
   "execution_count": 26,
   "metadata": {},
   "outputs": [
    {
     "data": {
      "application/vnd.jupyter.widget-view+json": {
       "model_id": "ab1c7f84c154420abbc987b367dca513",
       "version_major": 2,
       "version_minor": 0
      },
      "text/plain": [
       "VBox(children=(QuantityText(value=<Quantity : 2 m, symbol=UndefinedSymbol*m>, children=(Text(value='2 m', desc…"
      ]
     },
     "metadata": {},
     "output_type": "display_data"
    },
    {
     "data": {
      "application/vnd.jupyter.widget-view+json": {
       "model_id": "bf54872ea8e24c5190c4c19fe1a5d544",
       "version_major": 2,
       "version_minor": 0
      },
      "text/plain": [
       "Output()"
      ]
     },
     "metadata": {},
     "output_type": "display_data"
    }
   ],
   "source": [
    "# display full UI\n",
    "display(ui, out)"
   ]
  },
  {
   "cell_type": "code",
   "execution_count": 27,
   "metadata": {},
   "outputs": [],
   "source": [
    "wb.value = 12*m"
   ]
  },
  {
   "cell_type": "markdown",
   "metadata": {},
   "source": [
    "## link\n",
    "Support linking :"
   ]
  },
  {
   "cell_type": "code",
   "execution_count": 28,
   "metadata": {},
   "outputs": [],
   "source": [
    "qw1 =  QuantityText(2*m)\n",
    "qw2 =  QuantityText(2*m)\n",
    "\n",
    "# create link\n",
    "mylink = ipyw.link((qw1, 'value'), (qw2, 'value'))"
   ]
  },
  {
   "cell_type": "code",
   "execution_count": 29,
   "metadata": {},
   "outputs": [
    {
     "data": {
      "application/vnd.jupyter.widget-view+json": {
       "model_id": "94b2ae31158f49fca07ed32090246cfa",
       "version_major": 2,
       "version_minor": 0
      },
      "text/plain": [
       "QuantityText(value=<Quantity : 2 m, symbol=UndefinedSymbol*m>, children=(Text(value='2 m', description='Quanti…"
      ]
     },
     "metadata": {},
     "output_type": "display_data"
    }
   ],
   "source": [
    "qw1"
   ]
  },
  {
   "cell_type": "code",
   "execution_count": 30,
   "metadata": {},
   "outputs": [
    {
     "data": {
      "application/vnd.jupyter.widget-view+json": {
       "model_id": "febc32afe8534422b0dbb2e69b518a2d",
       "version_major": 2,
       "version_minor": 0
      },
      "text/plain": [
       "QuantityText(value=<Quantity : 2 m, symbol=UndefinedSymbol*m>, children=(Text(value='2 m', description='Quanti…"
      ]
     },
     "metadata": {},
     "output_type": "display_data"
    }
   ],
   "source": [
    "qw2"
   ]
  },
  {
   "cell_type": "markdown",
   "metadata": {},
   "source": [
    "## observe"
   ]
  },
  {
   "cell_type": "code",
   "execution_count": 31,
   "metadata": {
    "lines_to_next_cell": 0
   },
   "outputs": [],
   "source": [
    "# create widget\n",
    "qw =  QuantityText(2*m)\n",
    "\n",
    "# create text output that displays the widget value\n",
    "square_display = ipyw.HTML(description=\"Square: \",\n",
    "                              value='{}'.format(qw.value**2))\n",
    "\n",
    "# create observe link\n",
    "def update_square_display(change):\n",
    "    square_display.value = '{}'.format(change.new**2)\n",
    "qw.observe(update_square_display, names='value')"
   ]
  },
  {
   "cell_type": "code",
   "execution_count": 32,
   "metadata": {
    "lines_to_next_cell": 0
   },
   "outputs": [
    {
     "data": {
      "application/vnd.jupyter.widget-view+json": {
       "model_id": "f6d8b9f5b1904b358eeabb6c9c3d5d74",
       "version_major": 2,
       "version_minor": 0
      },
      "text/plain": [
       "VBox(children=(QuantityText(value=<Quantity : 2 m, symbol=UndefinedSymbol*m>, children=(Text(value='2 m', desc…"
      ]
     },
     "metadata": {},
     "output_type": "display_data"
    }
   ],
   "source": [
    "# wrap input widget and text ouput\n",
    "ipyw.VBox([qw, square_display])"
   ]
  },
  {
   "cell_type": "markdown",
   "metadata": {},
   "source": [
    "# Function UI with widgets and decorators"
   ]
  },
  {
   "cell_type": "markdown",
   "metadata": {},
   "source": [
    "It is possible to get a function widget just using decorators : \n",
    " - if available, a \"name\" will be displayed\n",
    " - if available, an equation in Latex will be displayed\n",
    " - if available, the annotation will be used as start value for inputs\n",
    " - if available, the annotation for output will used as favunit"
   ]
  },
  {
   "cell_type": "code",
   "execution_count": 33,
   "metadata": {},
   "outputs": [],
   "source": [
    "from physipy.quantity.utils import latex_eq, name_eq\n",
    "from physipy import units, sr, constants, m, s\n",
    "import numpy as np\n",
    "from physipy.qwidgets.qipywidgets import ui_widget_decorate_from_annotations, ui_widget_decorate\n",
    "\n",
    "pi = np.pi\n",
    "g = constants[\"g\"]\n",
    "msr = units[\"msr\"]\n",
    "    "
   ]
  },
  {
   "cell_type": "code",
   "execution_count": 34,
   "metadata": {},
   "outputs": [
    {
     "data": {
      "application/vnd.jupyter.widget-view+json": {
       "model_id": "f3f888efa1ef400489d10541dbcf2c82",
       "version_major": 2,
       "version_minor": 0
      },
      "text/plain": [
       "VBox(children=(HBox(children=(Label(value='Speed ::'), Label(value='v = d/t'))), VBox(children=(QuantityText(v…"
      ]
     },
     "metadata": {},
     "output_type": "display_data"
    }
   ],
   "source": [
    "# define the function, and optionnaly add decorators, and annotations\n",
    "@latex_eq(r\"v = d/t\")\n",
    "@name_eq(\"Speed :\")\n",
    "def speed(length:m, time:s) -> m/s:\n",
    "    return length / time\n",
    "\n",
    "# create the ui\n",
    "speed_ui = ui_widget_decorate_from_annotations(speed)\n",
    "\n",
    "# display the ui\n",
    "speed_ui"
   ]
  },
  {
   "cell_type": "code",
   "execution_count": 35,
   "metadata": {},
   "outputs": [
    {
     "data": {
      "application/vnd.jupyter.widget-view+json": {
       "model_id": "4b6d681c216247839e6a3abad7b28527",
       "version_major": 2,
       "version_minor": 0
      },
      "text/plain": [
       "VBox(children=(HBox(children=(Label(value='Speed ::'), Label(value='v = d/t'))), VBox(children=(QuantityText(v…"
      ]
     },
     "metadata": {},
     "output_type": "display_data"
    }
   ],
   "source": [
    "# define the function, and optionnaly add decorators, and annotations\n",
    "@latex_eq(r\"v = d/t\")\n",
    "@name_eq(\"Speed :\")\n",
    "def speed(length:m, time:s) -> m/s:\n",
    "    return length / time\n",
    "\n",
    "# create the ui\n",
    "speed_ui = ui_widget_decorate_from_annotations(speed)\n",
    "\n",
    "# display the ui\n",
    "speed_ui"
   ]
  },
  {
   "cell_type": "markdown",
   "metadata": {},
   "source": [
    "Equivalently using decorator notation"
   ]
  },
  {
   "cell_type": "code",
   "execution_count": 36,
   "metadata": {},
   "outputs": [
    {
     "data": {
      "application/vnd.jupyter.widget-view+json": {
       "model_id": "6f07ba4349e34e90b0889a802cabee02",
       "version_major": 2,
       "version_minor": 0
      },
      "text/plain": [
       "VBox(children=(HBox(children=(Label(value='Speed ::'), Label(value='$v = \\\\frac{d}{t}$'))), VBox(children=(Qua…"
      ]
     },
     "metadata": {},
     "output_type": "display_data"
    }
   ],
   "source": [
    "# equivalently\n",
    "@ui_widget_decorate_from_annotations\n",
    "@latex_eq(r\"$v = \\frac{d}{t}$\")\n",
    "@name_eq(\"Speed :\")\n",
    "def speed(length:2*m, time:10*s) -> m/s:\n",
    "    return length / time\n",
    "\n",
    "speed"
   ]
  },
  {
   "cell_type": "markdown",
   "metadata": {},
   "source": [
    "More examples"
   ]
  },
  {
   "cell_type": "code",
   "execution_count": 37,
   "metadata": {},
   "outputs": [
    {
     "data": {
      "application/vnd.jupyter.widget-view+json": {
       "model_id": "39eeb7424905455bbb8e7543d20645ea",
       "version_major": 2,
       "version_minor": 0
      },
      "text/plain": [
       "VBox(children=(HBox(children=(Label(value='PSA ::'), Label(value='$\\\\Omega = \\\\frac{\\\\pi}{4(f/D)^2}$'))), VBox…"
      ]
     },
     "metadata": {},
     "output_type": "display_data"
    }
   ],
   "source": [
    "# define the function, and optionnaly add decorators, and annotations\n",
    "@latex_eq(r\"$\\Omega = \\frac{\\pi}{4(f/D)^2}$\")\n",
    "@name_eq(\"PSA :\")\n",
    "def psa(f:m, D:m) -> msr:          # the output will be displayed using msr\n",
    "    return np.pi /(4*(f/D)**2)*sr\n",
    "\n",
    "# create the ui\n",
    "psa_ui = ui_widget_decorate_from_annotations(psa)\n",
    "\n",
    "# display the ui\n",
    "psa_ui"
   ]
  },
  {
   "cell_type": "code",
   "execution_count": 38,
   "metadata": {},
   "outputs": [
    {
     "data": {
      "application/vnd.jupyter.widget-view+json": {
       "model_id": "415bc57aa80b4774a45fc79aa7c68f67",
       "version_major": 2,
       "version_minor": 0
      },
      "text/plain": [
       "VBox(children=(HBox(children=(Label(value='Pendulum period ::'), Label(value='$T = 2\\\\pi \\\\sqrt{\\\\frac{L}{g}}$…"
      ]
     },
     "metadata": {},
     "output_type": "display_data"
    }
   ],
   "source": [
    "# define the function, and optionnaly add decorators, and annotations\n",
    "@latex_eq(r\"$T = 2\\pi \\sqrt{\\frac{L}{g}}$\")\n",
    "@name_eq(\"Pendulum period :\")\n",
    "def pendulum_period(L:m):\n",
    "    return 2 * pi * np.sqrt(L/g)\n",
    "\n",
    "# create the ui\n",
    "pendulum_ui = ui_widget_decorate_from_annotations(pendulum_period)\n",
    "\n",
    "# display the ui\n",
    "pendulum_ui"
   ]
  },
  {
   "cell_type": "markdown",
   "metadata": {},
   "source": [
    "Without annotations"
   ]
  },
  {
   "cell_type": "code",
   "execution_count": 39,
   "metadata": {},
   "outputs": [
    {
     "data": {
      "application/vnd.jupyter.widget-view+json": {
       "model_id": "712cc4b9018f48faa4bf8ac25f99e0fb",
       "version_major": 2,
       "version_minor": 0
      },
      "text/plain": [
       "VBox(children=(HBox(children=(Label(value='Cut-off frequency of R-C circuit ::'), Label(value='$\\\\frac{1}{2\\\\p…"
      ]
     },
     "metadata": {},
     "output_type": "display_data"
    }
   ],
   "source": [
    "ohm = units[\"ohm\"]\n",
    "farad = units[\"F\"]\n",
    "\n",
    "@latex_eq(r\"$\\frac{1}{2\\pi RC}$\")\n",
    "@name_eq(\"Cut-off frequency of R-C circuit :\")\n",
    "def freq_RC(R, C):\n",
    "    return 1/(2 * pi * R * C)\n",
    "\n",
    "freq_RC_ui = ui_widget_decorate([(\"R\", 1*ohm),\n",
    "                                 (\"C\", 0.5*farad, \"Capacitance\")])(freq_RC)\n",
    "\n",
    "freq_RC_ui"
   ]
  },
  {
   "cell_type": "markdown",
   "metadata": {},
   "source": [
    "# Sliders"
   ]
  },
  {
   "cell_type": "markdown",
   "metadata": {},
   "source": [
    "## Basic QuantitySlider"
   ]
  },
  {
   "cell_type": "markdown",
   "metadata": {},
   "source": [
    "For simplicity purpose, the dimension cannot be changed (`w4.min = 2\\*s` is not expected):"
   ]
  },
  {
   "cell_type": "code",
   "execution_count": 40,
   "metadata": {},
   "outputs": [],
   "source": [
    "from physipy.qwidgets.qipywidgets import QuantitySlider"
   ]
  },
  {
   "cell_type": "code",
   "execution_count": 41,
   "metadata": {},
   "outputs": [
    {
     "data": {
      "application/vnd.jupyter.widget-view+json": {
       "model_id": "70db93bfb56049a3912dbda2d4733d9a",
       "version_major": 2,
       "version_minor": 0
      },
      "text/plain": [
       "QuantitySlider(value=<Quantity : 3 m, symbol=UndefinedSymbol*m>, children=(FloatSlider(value=3.0, description=…"
      ]
     },
     "metadata": {},
     "output_type": "display_data"
    }
   ],
   "source": [
    "w4 = QuantitySlider(3*m)\n",
    "w4"
   ]
  },
  {
   "cell_type": "markdown",
   "metadata": {},
   "source": [
    "## Working with favunits\n",
    "By default, anytime a Quantity is passed with a favunit, it will be used to display"
   ]
  },
  {
   "cell_type": "code",
   "execution_count": 42,
   "metadata": {},
   "outputs": [
    {
     "data": {
      "application/vnd.jupyter.widget-view+json": {
       "model_id": "a6cb366f9fec47908a1930eaa97d73e4",
       "version_major": 2,
       "version_minor": 0
      },
      "text/plain": [
       "QuantitySlider(value=<Quantity : 3.141592653589793 m, symbol=UndefinedSymbol*m>, children=(FloatSlider(value=3…"
      ]
     },
     "metadata": {},
     "output_type": "display_data"
    }
   ],
   "source": [
    "q = pi*m\n",
    "q.favunit = mm\n",
    "\n",
    "w6 = QuantitySlider(q)\n",
    "w6"
   ]
  },
  {
   "cell_type": "markdown",
   "metadata": {},
   "source": [
    "## Disable label"
   ]
  },
  {
   "cell_type": "code",
   "execution_count": 43,
   "metadata": {},
   "outputs": [
    {
     "data": {
      "application/vnd.jupyter.widget-view+json": {
       "model_id": "c18465532174432f8325bb1792f3ce6b",
       "version_major": 2,
       "version_minor": 0
      },
      "text/plain": [
       "QuantitySlider(value=<Quantity : 3.141592653589793 m, symbol=UndefinedSymbol*m>, children=(FloatSlider(value=3…"
      ]
     },
     "metadata": {},
     "output_type": "display_data"
    }
   ],
   "source": [
    "w6 = QuantitySlider(q, label=False)\n",
    "w6"
   ]
  },
  {
   "cell_type": "code",
   "execution_count": 44,
   "metadata": {},
   "outputs": [
    {
     "name": "stdout",
     "output_type": "stream",
     "text": [
      "3141.592653589793 mm\n"
     ]
    }
   ],
   "source": [
    "print(w6.value)"
   ]
  },
  {
   "cell_type": "markdown",
   "metadata": {},
   "source": [
    "## observing"
   ]
  },
  {
   "cell_type": "markdown",
   "metadata": {},
   "source": [
    "Observing works (just not the VBoxing)"
   ]
  },
  {
   "cell_type": "code",
   "execution_count": 45,
   "metadata": {},
   "outputs": [
    {
     "data": {
      "application/vnd.jupyter.widget-view+json": {
       "model_id": "e15680b5326c49d886a46e8555edbbf4",
       "version_major": 2,
       "version_minor": 0
      },
      "text/plain": [
       "QuantitySlider(value=<Quantity : 7.5 m, symbol=UndefinedSymbol*m>, children=(FloatSlider(value=7.5, descriptio…"
      ]
     },
     "metadata": {},
     "output_type": "display_data"
    },
    {
     "data": {
      "application/vnd.jupyter.widget-view+json": {
       "model_id": "0f8bb593ed1e470983e12028f6b022f8",
       "version_major": 2,
       "version_minor": 0
      },
      "text/plain": [
       "HTML(value='56.25 m**2', description='Square: ')"
      ]
     },
     "metadata": {},
     "output_type": "display_data"
    }
   ],
   "source": [
    "slider = QuantitySlider(\n",
    "    value=7.5*m)\n",
    "\n",
    "# Create non-editable text area to display square of value\n",
    "square_display = ipyw.HTML(description=\"Square: \",\n",
    "                              value='{}'.format(slider.value**2))\n",
    "\n",
    "# Create function to update square_display's value when slider changes\n",
    "def update_square_display(change):\n",
    "    square_display.value = '{}'.format(change.new**2)\n",
    "    \n",
    "slider.observe(update_square_display, names='value')\n",
    "\n",
    "# Put them in a vertical box\n",
    "display(slider, square_display)"
   ]
  },
  {
   "cell_type": "markdown",
   "metadata": {},
   "source": [
    "## boxing"
   ]
  },
  {
   "cell_type": "code",
   "execution_count": 46,
   "metadata": {},
   "outputs": [
    {
     "data": {
      "application/vnd.jupyter.widget-view+json": {
       "model_id": "88ca07443bcf4d94a5ea259c2352f7cf",
       "version_major": 2,
       "version_minor": 0
      },
      "text/plain": [
       "VBox(children=(QuantitySlider(value=<Quantity : 7.5 m, symbol=UndefinedSymbol*m>, children=(FloatSlider(value=…"
      ]
     },
     "metadata": {},
     "output_type": "display_data"
    }
   ],
   "source": [
    "ipyw.VBox([slider, slider])"
   ]
  },
  {
   "cell_type": "markdown",
   "metadata": {},
   "source": [
    "## interactive output"
   ]
  },
  {
   "cell_type": "code",
   "execution_count": 47,
   "metadata": {},
   "outputs": [
    {
     "data": {
      "application/vnd.jupyter.widget-view+json": {
       "model_id": "ed3cca3dc65f4b03b01700c2c8988151",
       "version_major": 2,
       "version_minor": 0
      },
      "text/plain": [
       "VBox(children=(QuantitySlider(value=<Quantity : 2 m, symbol=UndefinedSymbol*m>, children=(FloatSlider(value=2.…"
      ]
     },
     "metadata": {},
     "output_type": "display_data"
    },
    {
     "data": {
      "application/vnd.jupyter.widget-view+json": {
       "model_id": "ca987d58b1f04569bcb6464ca4118a2b",
       "version_major": 2,
       "version_minor": 0
      },
      "text/plain": [
       "Output()"
      ]
     },
     "metadata": {},
     "output_type": "display_data"
    }
   ],
   "source": [
    "# inputs widgets\n",
    "wa =  QuantitySlider(2*m)\n",
    "wb =  QuantitySlider(2*m)\n",
    "wc =  QuantitySlider(2*m)\n",
    "\n",
    "# An HBox lays out its children horizontally\n",
    "ui = ipyw.VBox([wa, wb, wc])\n",
    "\n",
    "# define function\n",
    "def f(a, b, c):\n",
    "    # You can use print here instead of display because interactive_output generates a normal notebook \n",
    "    # output area.\n",
    "    #print((a, b, c))\n",
    "    res = a*b/c\n",
    "    #print(res)\n",
    "    display(res)\n",
    "    return res\n",
    "\n",
    "# create output widget\n",
    "out = ipyw.interactive_output(f, {'a': wa, 'b': wb, 'c': wc})\n",
    "\n",
    "display(ui, out)"
   ]
  },
  {
   "cell_type": "code",
   "execution_count": null,
   "metadata": {},
   "outputs": [],
   "source": []
  },
  {
   "cell_type": "code",
   "execution_count": null,
   "metadata": {},
   "outputs": [],
   "source": []
  },
  {
   "cell_type": "code",
   "execution_count": null,
   "metadata": {},
   "outputs": [],
   "source": []
  },
  {
   "cell_type": "markdown",
   "metadata": {},
   "source": [
    "# QuantityTextSlider"
   ]
  },
  {
   "cell_type": "code",
   "execution_count": 48,
   "metadata": {},
   "outputs": [],
   "source": [
    "from physipy.qwidgets.qipywidgets import QuantityTextSlider\n",
    "import ipywidgets as ipyw"
   ]
  },
  {
   "cell_type": "code",
   "execution_count": 49,
   "metadata": {},
   "outputs": [
    {
     "data": {
      "application/vnd.jupyter.widget-view+json": {
       "model_id": "36ba27b9f7334994ab190c938b50f87d",
       "version_major": 2,
       "version_minor": 0
      },
      "text/plain": [
       "QuantityTextSlider(value=<Quantity : 3 m, symbol=UndefinedSymbol*m>, children=(QuantitySlider(value=<Quantity …"
      ]
     },
     "metadata": {},
     "output_type": "display_data"
    }
   ],
   "source": [
    "from physipy import m\n",
    "\n",
    "w = QuantityTextSlider(3*m)\n",
    "w"
   ]
  },
  {
   "cell_type": "code",
   "execution_count": 52,
   "metadata": {},
   "outputs": [
    {
     "data": {
      "application/vnd.jupyter.widget-view+json": {
       "model_id": "ad9be36d52274413b80b23a1a0ef1894",
       "version_major": 2,
       "version_minor": 0
      },
      "text/plain": [
       "QuantityTextSlider(value=<Quantity : 2 m, symbol=UndefinedSymbol*m>, children=(QuantitySlider(value=<Quantity …"
      ]
     },
     "metadata": {},
     "output_type": "display_data"
    },
    {
     "data": {
      "application/vnd.jupyter.widget-view+json": {
       "model_id": "d88f90fbbac74d14b822ab9ac6de4699",
       "version_major": 2,
       "version_minor": 0
      },
      "text/plain": [
       "QuantityTextSlider(value=<Quantity : 2 m, symbol=UndefinedSymbol*m>, children=(QuantitySlider(value=<Quantity …"
      ]
     },
     "metadata": {},
     "output_type": "display_data"
    }
   ],
   "source": [
    "qw1 =  QuantityTextSlider(2*m)\n",
    "qw2 =  QuantityTextSlider(2*m)\n",
    "\n",
    "# create link\n",
    "mylink = ipyw.link((qw1, 'value'), (qw2, 'value'))\n",
    "display(qw1, qw2)"
   ]
  },
  {
   "cell_type": "code",
   "execution_count": 53,
   "metadata": {},
   "outputs": [
    {
     "data": {
      "application/vnd.jupyter.widget-view+json": {
       "model_id": "ba8b2a83f73c4b92b930fa76f211689b",
       "version_major": 2,
       "version_minor": 0
      },
      "text/plain": [
       "QuantityTextSlider(value=<Quantity : 7.5 m, symbol=UndefinedSymbol*m>, children=(QuantitySlider(value=<Quantit…"
      ]
     },
     "metadata": {},
     "output_type": "display_data"
    },
    {
     "data": {
      "application/vnd.jupyter.widget-view+json": {
       "model_id": "109305bfad354b26838f4a7b02bf691e",
       "version_major": 2,
       "version_minor": 0
      },
      "text/plain": [
       "HTML(value='56.25 m**2', description='Square: ')"
      ]
     },
     "metadata": {},
     "output_type": "display_data"
    }
   ],
   "source": [
    "slider = QuantityTextSlider(\n",
    "    value=7.5*m)\n",
    "\n",
    "# Create non-editable text area to display square of value\n",
    "square_display = ipyw.HTML(description=\"Square: \",\n",
    "                              value='{}'.format(slider.value**2))\n",
    "\n",
    "# Create function to update square_display's value when slider changes\n",
    "def update_square_display(change):\n",
    "    square_display.value = '{}'.format(change.new**2)\n",
    "    \n",
    "slider.observe(update_square_display, names='value')\n",
    "\n",
    "# Put them in a vertical box\n",
    "display(slider, square_display)"
   ]
  },
  {
   "cell_type": "code",
   "execution_count": 54,
   "metadata": {},
   "outputs": [
    {
     "data": {
      "application/vnd.jupyter.widget-view+json": {
       "model_id": "34fed9cd8f0b410c9f3b54317ac66179",
       "version_major": 2,
       "version_minor": 0
      },
      "text/plain": [
       "VBox(children=(QuantityTextSlider(value=<Quantity : 7.5 m, symbol=UndefinedSymbol*m>, children=(QuantitySlider…"
      ]
     },
     "metadata": {},
     "output_type": "display_data"
    }
   ],
   "source": [
    "ipyw.VBox([slider, slider])"
   ]
  },
  {
   "cell_type": "code",
   "execution_count": 55,
   "metadata": {},
   "outputs": [
    {
     "data": {
      "application/vnd.jupyter.widget-view+json": {
       "model_id": "b0882c549d0c4299a552954a1a2437b5",
       "version_major": 2,
       "version_minor": 0
      },
      "text/plain": [
       "VBox(children=(QuantityTextSlider(value=<Quantity : 2 m, symbol=UndefinedSymbol*m>, children=(QuantitySlider(v…"
      ]
     },
     "metadata": {},
     "output_type": "display_data"
    },
    {
     "data": {
      "application/vnd.jupyter.widget-view+json": {
       "model_id": "efcfbb5de2694a71a558805fbd0cd6a0",
       "version_major": 2,
       "version_minor": 0
      },
      "text/plain": [
       "Output()"
      ]
     },
     "metadata": {},
     "output_type": "display_data"
    }
   ],
   "source": [
    "# inputs widgets\n",
    "wa =  QuantityTextSlider(2*m)\n",
    "wb =  QuantityTextSlider(2*m)\n",
    "wc =  QuantityTextSlider(2*m)\n",
    "\n",
    "# An HBox lays out its children horizontally\n",
    "ui = ipyw.VBox([wa, wb, wc])\n",
    "\n",
    "# define function\n",
    "def f(a, b, c):\n",
    "    # You can use print here instead of display because interactive_output generates a normal notebook \n",
    "    # output area.\n",
    "    #print((a, b, c))\n",
    "    res = a*b/c\n",
    "    #print(res)\n",
    "    display(res)\n",
    "    return res\n",
    "\n",
    "# create output widget\n",
    "out = ipyw.interactive_output(f, {'a': wa, 'b': wb, 'c': wc})\n",
    "\n",
    "display(ui, out)"
   ]
  },
  {
   "cell_type": "markdown",
   "metadata": {},
   "source": [
    "# QuantityRangeSlider"
   ]
  },
  {
   "cell_type": "code",
   "execution_count": 56,
   "metadata": {},
   "outputs": [],
   "source": [
    "from physipy.qwidgets.qipywidgets import QuantityRangeSlider\n",
    "import ipywidgets as ipyw"
   ]
  },
  {
   "cell_type": "code",
   "execution_count": 57,
   "metadata": {},
   "outputs": [
    {
     "data": {
      "application/vnd.jupyter.widget-view+json": {
       "model_id": "18d3be73e6654a7e9a3cfe7024f4a3c3",
       "version_major": 2,
       "version_minor": 0
      },
      "text/plain": [
       "QuantityRangeSlider(value=(<Quantity : 3 m, symbol=UndefinedSymbol*m>, <Quantity : 10 m, symbol=UndefinedSymbo…"
      ]
     },
     "metadata": {},
     "output_type": "display_data"
    }
   ],
   "source": [
    "from physipy import m\n",
    "\n",
    "w = QuantityRangeSlider(3*m, 10*m, label=True)\n",
    "w"
   ]
  },
  {
   "cell_type": "code",
   "execution_count": 59,
   "metadata": {},
   "outputs": [
    {
     "data": {
      "application/vnd.jupyter.widget-view+json": {
       "model_id": "f0ef15c4e38c496ba0b96d6578ccae9b",
       "version_major": 2,
       "version_minor": 0
      },
      "text/plain": [
       "QuantityRangeSlider(value=(<Quantity : 3 m, symbol=UndefinedSymbol*m>, <Quantity : 10 m, symbol=UndefinedSymbo…"
      ]
     },
     "metadata": {},
     "output_type": "display_data"
    },
    {
     "data": {
      "application/vnd.jupyter.widget-view+json": {
       "model_id": "d8c95798c3c94cbfb4d165b46553cdef",
       "version_major": 2,
       "version_minor": 0
      },
      "text/plain": [
       "QuantityRangeSlider(value=(<Quantity : 3 m, symbol=UndefinedSymbol*m>, <Quantity : 10 m, symbol=UndefinedSymbo…"
      ]
     },
     "metadata": {},
     "output_type": "display_data"
    }
   ],
   "source": [
    "qw1 =  QuantityRangeSlider(3*m, 10*m, label=True)\n",
    "qw2 =  QuantityRangeSlider(3*m, 10*m, label=True)\n",
    "\n",
    "# create link\n",
    "mylink = ipyw.link((qw1, 'value'), (qw2, 'value'))\n",
    "display(qw1, qw2)"
   ]
  },
  {
   "cell_type": "code",
   "execution_count": 60,
   "metadata": {},
   "outputs": [
    {
     "data": {
      "application/vnd.jupyter.widget-view+json": {
       "model_id": "0d6438a7709b40aabfbdc18d12b3609b",
       "version_major": 2,
       "version_minor": 0
      },
      "text/plain": [
       "QuantityRangeSlider(value=(<Quantity : 3 m, symbol=UndefinedSymbol*m>, <Quantity : 12 m, symbol=UndefinedSymbo…"
      ]
     },
     "metadata": {},
     "output_type": "display_data"
    },
    {
     "data": {
      "application/vnd.jupyter.widget-view+json": {
       "model_id": "db9a655cabe149a5a37907cafd0053a1",
       "version_major": 2,
       "version_minor": 0
      },
      "text/plain": [
       "HTML(value='3 m-12 m', description='Square: ')"
      ]
     },
     "metadata": {},
     "output_type": "display_data"
    }
   ],
   "source": [
    "slider = QuantityRangeSlider(\n",
    "    min=3*m, max=12*m)\n",
    "\n",
    "# Create non-editable text area to display square of value\n",
    "square_display = ipyw.HTML(description=\"Square: \",\n",
    "                              value='{}-{}'.format(slider.value[0], slider.value[1]))\n",
    "\n",
    "# Create function to update square_display's value when slider changes\n",
    "def update_square_display(change):\n",
    "    square_display.value = '{}-{}'.format(change.new[0]**2, change.new[1]**2)\n",
    "    \n",
    "slider.observe(update_square_display, names='value')\n",
    "\n",
    "# Put them in a vertical box\n",
    "display(slider, square_display)"
   ]
  },
  {
   "cell_type": "code",
   "execution_count": 6,
   "metadata": {},
   "outputs": [
    {
     "data": {
      "application/vnd.jupyter.widget-view+json": {
       "model_id": "a435dfadc1ae48948d82664008d9fae1",
       "version_major": 2,
       "version_minor": 0
      },
      "text/plain": [
       "VBox(children=(QuantityRangeSlider(value=(<Quantity : 4.6 m>, <Quantity : 7.5 m>), children=(FloatRangeSlider(…"
      ]
     },
     "metadata": {},
     "output_type": "display_data"
    }
   ],
   "source": [
    "ipyw.VBox([slider, slider])"
   ]
  },
  {
   "cell_type": "code",
   "execution_count": 61,
   "metadata": {},
   "outputs": [
    {
     "data": {
      "application/vnd.jupyter.widget-view+json": {
       "model_id": "ca60f0fb6c804600adc944e254c54cef",
       "version_major": 2,
       "version_minor": 0
      },
      "text/plain": [
       "VBox(children=(QuantityRangeSlider(value=(<Quantity : 3 m, symbol=UndefinedSymbol*m>, <Quantity : 12 m, symbol…"
      ]
     },
     "metadata": {},
     "output_type": "display_data"
    },
    {
     "data": {
      "application/vnd.jupyter.widget-view+json": {
       "model_id": "df65d7c895e145beb1bea2d9a5e38935",
       "version_major": 2,
       "version_minor": 0
      },
      "text/plain": [
       "Output()"
      ]
     },
     "metadata": {},
     "output_type": "display_data"
    }
   ],
   "source": [
    "# inputs widgets\n",
    "wa = QuantityRangeSlider(min=3*m, max=12*m)\n",
    "wb = QuantityRangeSlider(min=3*m, max=12*m)\n",
    "wc = QuantityRangeSlider(min=3*m, max=12*m)\n",
    "\n",
    "# An HBox lays out its children horizontally\n",
    "ui = ipyw.VBox([wa, wb, wc])\n",
    "\n",
    "# define function\n",
    "def f(a, b, c):\n",
    "    # You can use print here instead of display because interactive_output generates a normal notebook \n",
    "    # output area.\n",
    "    #print((a, b, c))\n",
    "    \n",
    "    res = a[0]*a[1]*b[0]*b[1]/c[0]*c[1]\n",
    "    #print(res)\n",
    "    display(res)\n",
    "    return res\n",
    "\n",
    "# create output widget\n",
    "out = ipyw.interactive_output(f, {'a': wa, 'b': wb, 'c': wc})\n",
    "\n",
    "display(ui, out)"
   ]
  },
  {
   "cell_type": "code",
   "execution_count": null,
   "metadata": {},
   "outputs": [],
   "source": []
  },
  {
   "cell_type": "markdown",
   "metadata": {},
   "source": [
    "# FavunitDropdown"
   ]
  },
  {
   "cell_type": "code",
   "execution_count": 67,
   "metadata": {},
   "outputs": [
    {
     "data": {
      "application/vnd.jupyter.widget-view+json": {
       "model_id": "d1b3446d62974ac2954ab2d8dca77b1d",
       "version_major": 2,
       "version_minor": 0
      },
      "text/plain": [
       "FavunitDropdown(children=(Dropdown(description='Favunit:', index=219, layout=Layout(border='solid black', marg…"
      ]
     },
     "metadata": {},
     "output_type": "display_data"
    }
   ],
   "source": [
    "import ipywidgets as ipyw\n",
    "import physipy\n",
    "import traitlets\n",
    "from physipy import dimensionify\n",
    "from ipywidgets import Layout\n",
    "\n",
    "\n",
    "class FavunitDropdown(ipyw.Box, ipyw.DOMWidget):\n",
    "    dimension = traitlets.Instance(Dimension)\n",
    "    value = traitlets.Instance(Quantity, allow_none=True)\n",
    "    strfavunit = traitlets.Unicode()\n",
    "    \n",
    "    def __init__(self, dimension=None, all_units=False,\n",
    "                 **kwargs):\n",
    "        \n",
    "        # pouvoir ajouter des favunits lors de l'initiatsation dans la liste\n",
    "\n",
    "        self.dimension = dimensionify(dimension)\n",
    "        self.units = units\n",
    "        self.units[\"-\"] = Quantity(1, Dimension(None), symbol=\"-\")\n",
    "        \n",
    "        # list of available units\n",
    "        if self.dimension == Dimension(None) or all_units:\n",
    "            self.favunit_str_list = [u_str for u_str, u_q in self.units.items() ]\n",
    "       # elif not all_units and self.dimension is not None:\n",
    "       #     self.favunit_str_list = [u_str for u_str, u_q in self.units.items() if self.dimension == u_q.dimension]\n",
    "        else:\n",
    "            self.favunit_str_list = [u_str for u_str, u_q in self.units.items() if self.dimension == u_q.dimension ]\n",
    "        self.favunit_str_list.append(\"-\")\n",
    "        self.value = self.units[\"-\"]\n",
    "        \n",
    "        # dropdown\n",
    "        self.favunit_dd = ipyw.Dropdown(\n",
    "                           options=self.favunit_str_list,\n",
    "                           value=str(self.value.symbol),\n",
    "                           description='Favunit:',\n",
    "                           layout=Layout(width=\"30%\",\n",
    "                                         margin=\"5px 5px 5px 5px\",                                         \n",
    "                                         border=\"solid black\")\n",
    "                                   )\n",
    "        \n",
    "        super().__init__(**kwargs)\n",
    "        self.children = [self.favunit_dd]\n",
    "        \n",
    "        \n",
    "        ### 3. Change favunit\n",
    "        # selection of favunit\n",
    "        def update_favunit_on_favunit_dd_change(change):\n",
    "            # retrieve new favunit q\n",
    "            self.value = self.units[change.new]\n",
    "        self.favunit_dd.observe(update_favunit_on_favunit_dd_change, names=\"value\")\n",
    "# -\n",
    "\n",
    "w = FavunitDropdown()\n",
    "w\n"
   ]
  },
  {
   "cell_type": "code",
   "execution_count": 69,
   "metadata": {},
   "outputs": [
    {
     "name": "stdout",
     "output_type": "stream",
     "text": [
      "1.0 kg/(A*s**2)\n"
     ]
    }
   ],
   "source": [
    "print(w.value)"
   ]
  },
  {
   "cell_type": "code",
   "execution_count": null,
   "metadata": {},
   "outputs": [],
   "source": []
  },
  {
   "cell_type": "code",
   "execution_count": null,
   "metadata": {},
   "outputs": [],
   "source": []
  },
  {
   "cell_type": "code",
   "execution_count": null,
   "metadata": {},
   "outputs": [],
   "source": []
  },
  {
   "cell_type": "code",
   "execution_count": null,
   "metadata": {},
   "outputs": [],
   "source": []
  },
  {
   "cell_type": "markdown",
   "metadata": {},
   "source": [
    "# Ideas"
   ]
  },
  {
   "cell_type": "markdown",
   "metadata": {},
   "source": [
    "Implement multiple rangesliders"
   ]
  },
  {
   "cell_type": "code",
   "execution_count": 11,
   "metadata": {},
   "outputs": [],
   "source": [
    "from ipywidgets import widgets\n",
    "from IPython.display import display, clear_output\n",
    "\n",
    "def range_elems(first, last, step):\n",
    "    \"\"\"\n",
    "    Return a list of elements starting with first, ending at last with\n",
    "    stepsize of step\n",
    "    \"\"\"\n",
    "    ret = [first]\n",
    "    nxt = first + step\n",
    "    while nxt <= last:\n",
    "        ret.append(nxt)\n",
    "        nxt += step\n",
    "    return ret\n",
    "\n",
    "class MultiRangeSlider(object):\n",
    "    def __init__(self, min=0, max=1, step=0.1, description=\"MultiRange\", disabled=False):\n",
    "        self.min = min\n",
    "        self.max = max\n",
    "        self.step = step\n",
    "        self.description = description\n",
    "        self.disabled = disabled\n",
    "        \n",
    "        self.range_slider_list = []\n",
    "        \n",
    "        self.add_range_button = widgets.Button(description=\"Add range\")\n",
    "        self.add_range_button.on_click(self.handle_add_range_event)\n",
    "        \n",
    "        self.rm_range_button = widgets.Button(description=\"Rm range\")\n",
    "        self.rm_range_button.on_click(self.handle_rm_range_event)\n",
    "        \n",
    "        # combined range over all sliders, excluding possible overlaps\n",
    "        self.selected_values = []\n",
    "        \n",
    "        # Vertical box for displaying all the sliders\n",
    "        self.vbox = widgets.VBox()\n",
    "        \n",
    "        # create a first slider and update vbox children for displaying\n",
    "        self.handle_add_range_event()\n",
    "        \n",
    "        # callback function to be called when the widgets value changes\n",
    "        # this needs to accept the usual 'change' dict as in other widgets\n",
    "        self.observe_callback = None\n",
    "        \n",
    "    def update_selected_values(self, change):\n",
    "        \"\"\"\n",
    "        find the unique range points from looking at all slider ranges,\n",
    "        effectively ignores overlapping areas.\n",
    "        Called on every change of a single slider\n",
    "        \"\"\" \n",
    "        range_points_lst = []\n",
    "        for slider in self.range_slider_list:\n",
    "            # get the current range delimiters\n",
    "            r_min, r_max = slider.value\n",
    "            # make sure that the range includes the endpoint r_max\n",
    "            range_points = range_elems(r_min, r_max, slider.step)\n",
    "            range_points_lst.append(range_points)\n",
    "        \n",
    "        # now collapse the list of lists\n",
    "        flattened_range_point_lst = [ item for lst in range_points_lst for item in lst]\n",
    "        # make deep copy for callback reference\n",
    "        old = [val for val in self.selected_values]\n",
    "        # get unique values only\n",
    "        self.selected_values = sorted(list(set(flattened_range_point_lst)))\n",
    "        \n",
    "        #print(\"updated self.selected_values = \", self.selected_values)\n",
    "        # call the callback function if there is one\n",
    "        if self.observe_callback:\n",
    "            change = dict()\n",
    "            change[\"owner\"] = self\n",
    "            change[\"type\"] = \"change\"\n",
    "            change[\"name\"] = \"value\"\n",
    "            change[\"old\"] = old\n",
    "            change[\"new\"] = self.selected_values\n",
    "            self.observe_callback(change)\n",
    "        \n",
    "    def handle_rm_range_event(self, b=None):\n",
    "        \"\"\"\n",
    "        \"\"\"\n",
    "        if len(self.range_slider_list) > 1:\n",
    "            # remove last slider\n",
    "            self.range_slider_list.pop()\n",
    "        \n",
    "        # update the display\n",
    "        first_line = widgets.HBox([self.range_slider_list[0], self.add_range_button, self.rm_range_button])\n",
    "        self.vbox.children = [first_line] + self.range_slider_list[1:]\n",
    "        \n",
    "        # update visibility of rm button\n",
    "        self.rm_range_button.disabled = True if len(self.range_slider_list) == 1 else False\n",
    "        \n",
    "    def handle_add_range_event(self, b=None):\n",
    "        \"\"\"\n",
    "        Callback function of the 'Add' button that displays another RangeSlider.\n",
    "        \"\"\"\n",
    "        # adds a range slider to the list\n",
    "        self.add_range_slider()\n",
    "        # update elements of the displayed vbox so display will update immediately\n",
    "        first_line = widgets.HBox([self.range_slider_list[0], self.add_range_button, self.rm_range_button])\n",
    "        self.vbox.children = [first_line] + self.range_slider_list[1:]\n",
    "        \n",
    "        # activate rm button if there is more than one slider\n",
    "        self.rm_range_button.disabled = True if len(self.range_slider_list) == 1 else False\n",
    "    \n",
    "    def add_range_slider(self):\n",
    "        \"\"\"\n",
    "        Add another range slider to the list of range sliders, that, when its\n",
    "        value changes, updates the combined range of the current object.\n",
    "        \"\"\"\n",
    "        # a new range slider is requested, but don't show description again\n",
    "        slider = widgets.FloatRangeSlider(\n",
    "                    min=self.min,\n",
    "                    max=self.max,\n",
    "                    step=self.step,\n",
    "                    disabled=self.disabled,\n",
    "                    continuous_update=False,\n",
    "                    orientation='horizontal',\n",
    "                    readout=True,\n",
    "                    readout_format='.1f',\n",
    "                )\n",
    "        if not self.range_slider_list:\n",
    "            # first slider gets a description\n",
    "            slider.description = \"MultiRangeSlider\"\n",
    "        \n",
    "        # when its value changes, update internal selection of combined range\n",
    "        slider.observe(self.update_selected_values, names='value')\n",
    "        \n",
    "        self.range_slider_list.append(slider)\n",
    "        \n",
    "    \n",
    "    def display(self):\n",
    "        \"\"\"\n",
    "        Show the widget in the notebook.\n",
    "        \"\"\"\n",
    "        # create a vbox that contains all sliders below each other\n",
    "        display(self.vbox)\n",
    "    \n",
    "    def observe(self, fun):\n",
    "        \"\"\"\n",
    "        Set the callback function that is called when any of the RangeSliders changes\n",
    "        \"\"\"\n",
    "        self.observe_callback = fun"
   ]
  },
  {
   "cell_type": "code",
   "execution_count": 12,
   "metadata": {},
   "outputs": [
    {
     "data": {
      "application/vnd.jupyter.widget-view+json": {
       "model_id": "4944ac985d384243b0f36d9779764bc9",
       "version_major": 2,
       "version_minor": 0
      },
      "text/plain": [
       "VBox(children=(HBox(children=(FloatRangeSlider(value=(0.25, 0.75), continuous_update=False, description='Multi…"
      ]
     },
     "metadata": {},
     "output_type": "display_data"
    }
   ],
   "source": [
    "multi_range = MultiRangeSlider()\n",
    "multi_range.observe(lambda change: print(change[\"new\"]))\n",
    "multi_range.display()"
   ]
  },
  {
   "cell_type": "code",
   "execution_count": null,
   "metadata": {},
   "outputs": [],
   "source": []
  }
 ],
 "metadata": {
  "kernelspec": {
   "display_name": "Python 3",
   "language": "python",
   "name": "python3"
  },
  "language_info": {
   "codemirror_mode": {
    "name": "ipython",
    "version": 3
   },
   "file_extension": ".py",
   "mimetype": "text/x-python",
   "name": "python",
   "nbconvert_exporter": "python",
   "pygments_lexer": "ipython3",
   "version": "3.7.4"
  },
  "toc-autonumbering": true
 },
 "nbformat": 4,
 "nbformat_minor": 4
}
