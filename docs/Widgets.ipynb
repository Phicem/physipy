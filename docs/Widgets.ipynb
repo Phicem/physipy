{
 "cells": [
  {
   "cell_type": "code",
   "execution_count": 1,
   "metadata": {},
   "outputs": [],
   "source": [
    "from physipy.qwidgets.qipywidgets import QuantityText, FDQuantityText#, FDQuantityText, FDQuantitySlider, FDQuantitySliderWithBounds\n",
    "import ipywidgets as ipyw\n",
    "from numpy import pi\n",
    "from physipy import m, s, Quantity, Dimension, rad, units\n",
    "\n",
    "\n",
    "mm = units[\"mm\"]"
   ]
  },
  {
   "cell_type": "markdown",
   "metadata": {},
   "source": [
    "Things to test :\n",
    "\n",
    "Types of widgets :\n",
    " - QuantityText : text area, very permissive\n",
    " - FDQuantityText : text area, fixed dimension on init value\n",
    " - FDQuantitySlider : slider, fixed dimension on init value\n",
    " - FDQuantitySliderWithBounds : slider with FDQuantityText to handle min and max\n",
    " \n",
    "Functionnalitities : \n",
    " - VBoxing, HBoxing : `ipyw.VBox([qw, qw])`\n",
    " - interact with abbreviation : `interact(3*m)`\n",
    " - interact with widget : `interact(QuantityText(3*m))`\n",
    " - interactive : `w = ipyw.interactive(slow_function, i=qs)`\n",
    " - interactive_output : `out = ipyw.interactive_output(f, {'a': wa, 'b': wb, 'c': wc})`\n",
    " - observe : \n",
    " - link : `mylink = ipyw.link((qw1, 'value'), (qw2, 'value'))`\n",
    " - jslink : `mylink = ipyw.jslink((qw1, 'value'), (qw2, 'value'))`"
   ]
  },
  {
   "cell_type": "code",
   "execution_count": 2,
   "metadata": {},
   "outputs": [],
   "source": [
    "q = 70*mm\n",
    "q.favunit = mm"
   ]
  },
  {
   "cell_type": "markdown",
   "metadata": {},
   "source": [
    "# Text"
   ]
  },
  {
   "cell_type": "markdown",
   "metadata": {},
   "source": [
    "2 types that inherit from QuantityText : \n",
    " - free QuantityText\n",
    " - Fixed-dimension \"FDQuantityText\""
   ]
  },
  {
   "cell_type": "markdown",
   "metadata": {},
   "source": [
    "## QuantityText\n",
    "Basically a text area that will parse python expression into a numerical physical Quantity. It can be dimensionless (like 5 or 2\\*pi), and can be of any dimension at any time:"
   ]
  },
  {
   "cell_type": "code",
   "execution_count": 3,
   "metadata": {},
   "outputs": [
    {
     "data": {
      "application/vnd.jupyter.widget-view+json": {
       "model_id": "59fef2b8b7084937adb9356e474a6aa9",
       "version_major": 2,
       "version_minor": 0
      },
      "text/plain": [
       "QuantityText(value=<Quantity : 0.0 >, children=(Text(value='0.0', description='Quantity:', layout=Layout(borde…"
      ]
     },
     "metadata": {},
     "output_type": "display_data"
    }
   ],
   "source": [
    "w = QuantityText()\n",
    "w"
   ]
  },
  {
   "cell_type": "markdown",
   "metadata": {},
   "source": [
    "A QuantityText has typical attributes of a widget and a Quantity, except the `value` is the actual Quantity, not the value of the Quantity : "
   ]
  },
  {
   "cell_type": "code",
   "execution_count": 12,
   "metadata": {},
   "outputs": [
    {
     "name": "stdout",
     "output_type": "stream",
     "text": [
      "3.141592653589793 sr\n",
      "3.141592653589793\n",
      "SR\n",
      "Quantity:\n",
      "False\n"
     ]
    }
   ],
   "source": [
    "print(w.value)\n",
    "print(w.value.value)\n",
    "print(w.dimension)\n",
    "print(w.description)\n",
    "print(w.fixed_dimension)"
   ]
  },
  {
   "cell_type": "code",
   "execution_count": 5,
   "metadata": {},
   "outputs": [
    {
     "name": "stdout",
     "output_type": "stream",
     "text": [
      "3.141592653589793 sr\n",
      "SR\n",
      "Quantity:\n"
     ]
    }
   ],
   "source": [
    "print(w.value)\n",
    "print(w.dimension)\n",
    "print(w.description)"
   ]
  },
  {
   "cell_type": "code",
   "execution_count": 6,
   "metadata": {},
   "outputs": [
    {
     "name": "stdout",
     "output_type": "stream",
     "text": [
      "3.141592653589793 sr\n",
      "SR\n",
      "Quantity:\n"
     ]
    }
   ],
   "source": [
    "print(w.value)\n",
    "print(w.dimension)\n",
    "print(w.description)"
   ]
  },
  {
   "cell_type": "markdown",
   "metadata": {},
   "source": [
    "With custom description : "
   ]
  },
  {
   "cell_type": "code",
   "execution_count": 8,
   "metadata": {},
   "outputs": [
    {
     "data": {
      "application/vnd.jupyter.widget-view+json": {
       "model_id": "0e46fb2cc26247cdba5bffc9aff0aea0",
       "version_major": 2,
       "version_minor": 0
      },
      "text/plain": [
       "QuantityText(value=<Quantity : 0.0 >, children=(Text(value='0.0', description='Weight', layout=Layout(border='…"
      ]
     },
     "metadata": {},
     "output_type": "display_data"
    }
   ],
   "source": [
    "QuantityText(description=\"Weight\")"
   ]
  },
  {
   "cell_type": "markdown",
   "metadata": {},
   "source": [
    "With init value"
   ]
  },
  {
   "cell_type": "code",
   "execution_count": 9,
   "metadata": {},
   "outputs": [
    {
     "data": {
      "application/vnd.jupyter.widget-view+json": {
       "model_id": "2095e84f95a64049a8f487062d3ecd3d",
       "version_major": 2,
       "version_minor": 0
      },
      "text/plain": [
       "QuantityText(value=<Quantity : 6.283185307179586 s>, children=(Text(value='6.283185307179586 s', description='…"
      ]
     },
     "metadata": {},
     "output_type": "display_data"
    }
   ],
   "source": [
    "QuantityText(2*pi*s)"
   ]
  },
  {
   "cell_type": "code",
   "execution_count": 10,
   "metadata": {},
   "outputs": [
    {
     "data": {
      "application/vnd.jupyter.widget-view+json": {
       "model_id": "bf54fd16680241f4951eab985eb64ba6",
       "version_major": 2,
       "version_minor": 0
      },
      "text/plain": [
       "QuantityText(value=<Quantity : 6.283185307179586 rad>, children=(Text(value='6.283185307179586 rad', descripti…"
      ]
     },
     "metadata": {},
     "output_type": "display_data"
    }
   ],
   "source": [
    "QuantityText(2*pi*rad, description=\"Angle\")"
   ]
  },
  {
   "cell_type": "markdown",
   "metadata": {},
   "source": [
    "A `fixed_dimension` attribute can be set to allow change of dimension. By default is false, and so dimension can be changed"
   ]
  },
  {
   "cell_type": "code",
   "execution_count": 14,
   "metadata": {},
   "outputs": [
    {
     "name": "stdout",
     "output_type": "stream",
     "text": [
      "False\n"
     ]
    },
    {
     "data": {
      "application/vnd.jupyter.widget-view+json": {
       "model_id": "6cafb2c2f5ec4e04a2c8f05f3d23e942",
       "version_major": 2,
       "version_minor": 0
      },
      "text/plain": [
       "QuantityText(value=<Quantity : 6.283185307179586 s>, children=(Text(value='6.283185307179586 s', description='…"
      ]
     },
     "metadata": {},
     "output_type": "display_data"
    }
   ],
   "source": [
    "a = QuantityText(2*pi*s)\n",
    "print(a.fixed_dimension)\n",
    "a"
   ]
  },
  {
   "cell_type": "code",
   "execution_count": 16,
   "metadata": {},
   "outputs": [
    {
     "name": "stdout",
     "output_type": "stream",
     "text": [
      "2 rad\n",
      "False\n"
     ]
    }
   ],
   "source": [
    "a.value = 2*rad\n",
    "print(a.value)\n",
    "print(a.fixed_dimension)"
   ]
  },
  {
   "cell_type": "code",
   "execution_count": 18,
   "metadata": {},
   "outputs": [
    {
     "data": {
      "application/vnd.jupyter.widget-view+json": {
       "model_id": "e031c5fc09f248e9ac1cf51259996383",
       "version_major": 2,
       "version_minor": 0
      },
      "text/plain": [
       "QuantityText(value=<Quantity : 6.283185307179586 s>, children=(Text(value='6.283185307179586 s', description='…"
      ]
     },
     "metadata": {},
     "output_type": "display_data"
    }
   ],
   "source": [
    "b = QuantityText(2*pi*s, fixed_dimension=True)\n",
    "b"
   ]
  },
  {
   "cell_type": "code",
   "execution_count": 21,
   "metadata": {},
   "outputs": [
    {
     "name": "stdout",
     "output_type": "stream",
     "text": [
      "b.fixed_dimension = True , hence Quantity must be same dimension.\n"
     ]
    }
   ],
   "source": [
    "try:\n",
    "    b.value = 2*m\n",
    "except:\n",
    "    print(\"b.fixed_dimension =\", b.fixed_dimension, \", hence Quantity must be same dimension.\")"
   ]
  },
  {
   "cell_type": "markdown",
   "metadata": {},
   "source": [
    "# Fixed-Dimension QuantityText\n",
    "A QuantityText that will set a dimension at creation, and not allow any other dimension:"
   ]
  },
  {
   "cell_type": "markdown",
   "metadata": {},
   "source": [
    "A fixed-dimensionless quantity : (trying to set a quantity with another dimension will be ignored : example : type in '5\\*m' then Enter)"
   ]
  },
  {
   "cell_type": "code",
   "execution_count": 22,
   "metadata": {},
   "outputs": [
    {
     "data": {
      "application/vnd.jupyter.widget-view+json": {
       "model_id": "993c48a35aec469ea3340f34c5ad5378",
       "version_major": 2,
       "version_minor": 0
      },
      "text/plain": [
       "FDQuantityText(value=<Quantity : 0.0 >, children=(Text(value='0.0', description='Quantity:', layout=Layout(bor…"
      ]
     },
     "metadata": {},
     "output_type": "display_data"
    }
   ],
   "source": [
    "w2 = FDQuantityText()\n",
    "w2"
   ]
  },
  {
   "cell_type": "code",
   "execution_count": 23,
   "metadata": {},
   "outputs": [
    {
     "name": "stdout",
     "output_type": "stream",
     "text": [
      "0.0\n"
     ]
    }
   ],
   "source": [
    "print(w2.value)"
   ]
  },
  {
   "cell_type": "markdown",
   "metadata": {},
   "source": [
    "A fixed-length quantity :"
   ]
  },
  {
   "cell_type": "code",
   "execution_count": 24,
   "metadata": {},
   "outputs": [
    {
     "data": {
      "application/vnd.jupyter.widget-view+json": {
       "model_id": "370912dc495f43a8a9cd7590ba144924",
       "version_major": 2,
       "version_minor": 0
      },
      "text/plain": [
       "FDQuantityText(value=<Quantity : 3.141592653589793 m>, children=(Text(value='3.141592653589793 m', description…"
      ]
     },
     "metadata": {},
     "output_type": "display_data"
    }
   ],
   "source": [
    "w3 = FDQuantityText(pi*m)\n",
    "w3"
   ]
  },
  {
   "cell_type": "code",
   "execution_count": 25,
   "metadata": {},
   "outputs": [
    {
     "name": "stdout",
     "output_type": "stream",
     "text": [
      "3.141592653589793 m\n"
     ]
    }
   ],
   "source": [
    "print(w3.value)"
   ]
  },
  {
   "cell_type": "markdown",
   "metadata": {},
   "source": [
    "# Testing with QuantityText"
   ]
  },
  {
   "cell_type": "markdown",
   "metadata": {},
   "source": [
    "## interact without abbreviation"
   ]
  },
  {
   "cell_type": "markdown",
   "metadata": {},
   "source": [
    "The `QuantityText` widget can be passed to `ipywidgets.interact` decorator : "
   ]
  },
  {
   "cell_type": "code",
   "execution_count": 28,
   "metadata": {},
   "outputs": [
    {
     "data": {
      "application/vnd.jupyter.widget-view+json": {
       "model_id": "e4a384a314744fc082d3c03598ad608a",
       "version_major": 2,
       "version_minor": 0
      },
      "text/plain": [
       "interactive(children=(QuantityText(value=<Quantity : 2 m>, children=(Text(value='2 m', description='Quantity:'…"
      ]
     },
     "metadata": {},
     "output_type": "display_data"
    }
   ],
   "source": [
    "# define widget\n",
    "qs =  QuantityText(2*m)\n",
    "\n",
    "# define function\n",
    "def toto(x):\n",
    "    return str(x*2)\n",
    "\n",
    "# wrap function with interact and pass widget\n",
    "res = ipyw.interact(toto, x=qs);\n"
   ]
  },
  {
   "cell_type": "markdown",
   "metadata": {},
   "source": [
    "Or equivalently using the decorator notation"
   ]
  },
  {
   "cell_type": "code",
   "execution_count": 34,
   "metadata": {},
   "outputs": [
    {
     "data": {
      "application/vnd.jupyter.widget-view+json": {
       "model_id": "766cd2a13fe049aa8dfa9212abd43bd0",
       "version_major": 2,
       "version_minor": 0
      },
      "text/plain": [
       "interactive(children=(QuantityText(value=<Quantity : 2 m>, children=(Text(value='2 m', description='Quantity:'…"
      ]
     },
     "metadata": {},
     "output_type": "display_data"
    }
   ],
   "source": [
    "# equivalently\n",
    "@ipyw.interact(x=qs)\n",
    "def toto(x):\n",
    "    return str(x*2)\n"
   ]
  },
  {
   "cell_type": "markdown",
   "metadata": {},
   "source": [
    "## boxing\n",
    "The `QuantityText` can wrapped in any `ipywidgets.Box` : "
   ]
  },
  {
   "cell_type": "code",
   "execution_count": 31,
   "metadata": {},
   "outputs": [
    {
     "data": {
      "application/vnd.jupyter.widget-view+json": {
       "model_id": "4fafb06abc404c0b96f89c621e84939a",
       "version_major": 2,
       "version_minor": 0
      },
      "text/plain": [
       "VBox(children=(QuantityText(value=<Quantity : 2 m>, children=(Text(value='2 m', description='Quantity:', layou…"
      ]
     },
     "metadata": {},
     "output_type": "display_data"
    }
   ],
   "source": [
    "# define widget\n",
    "qs =  QuantityText(2*m)\n",
    "\n",
    "# wrap widget in VBox\n",
    "ipyw.VBox([qs, qs])"
   ]
  },
  {
   "cell_type": "markdown",
   "metadata": {},
   "source": [
    "## interactive\n",
    "The `QuantityText` can used with the `ipywidgets.interactive` decorator. The interactive widget returns a widget containing the result of the function in w.result."
   ]
  },
  {
   "cell_type": "code",
   "execution_count": 35,
   "metadata": {},
   "outputs": [],
   "source": [
    "# interact without abbreviation\n",
    "qs = QuantityText(2*m)\n",
    "\n",
    "# define function\n",
    "def slow_function(i):\n",
    "    \"\"\"\n",
    "    Sleep for 1 second then print the argument\n",
    "    \"\"\"\n",
    "    from time import sleep\n",
    "    print('Sleeping...')\n",
    "    sleep(1)\n",
    "    print(i)\n",
    "    print(2*i)    \n",
    "    return i*2\n",
    "\n",
    "# wrap function with widget\n",
    "w = ipyw.interactive(slow_function, i=qs)\n"
   ]
  },
  {
   "cell_type": "code",
   "execution_count": 36,
   "metadata": {},
   "outputs": [
    {
     "data": {
      "application/vnd.jupyter.widget-view+json": {
       "model_id": "42c7a418964442d683500e61eb249be5",
       "version_major": 2,
       "version_minor": 0
      },
      "text/plain": [
       "interactive(children=(QuantityText(value=<Quantity : 2 m>, children=(Text(value='2 m', description='Quantity:'…"
      ]
     },
     "metadata": {},
     "output_type": "display_data"
    }
   ],
   "source": [
    "w"
   ]
  },
  {
   "cell_type": "code",
   "execution_count": 38,
   "metadata": {},
   "outputs": [
    {
     "data": {
      "text/latex": [
       "$4.0\\,m$"
      ],
      "text/plain": [
       "<Quantity : 4 m>"
      ]
     },
     "execution_count": 38,
     "metadata": {},
     "output_type": "execute_result"
    }
   ],
   "source": [
    "w.result"
   ]
  },
  {
   "cell_type": "markdown",
   "metadata": {},
   "source": [
    "## interact manual"
   ]
  },
  {
   "cell_type": "code",
   "execution_count": 45,
   "metadata": {},
   "outputs": [
    {
     "data": {
      "application/vnd.jupyter.widget-view+json": {
       "model_id": "f839d8eeb3d84a4e8299265a6465500c",
       "version_major": 2,
       "version_minor": 0
      },
      "text/plain": [
       "interactive(children=(QuantityText(value=<Quantity : 2 m>, children=(Text(value='2 m', description='Quantity:'…"
      ]
     },
     "metadata": {},
     "output_type": "display_data"
    }
   ],
   "source": [
    "qs = QuantityText(2*m)\n",
    "\n",
    "def slow_function(i):\n",
    "    \"\"\"\n",
    "    Sleep for 1 second then print the argument\n",
    "    \"\"\"\n",
    "    from time import sleep\n",
    "    print('Sleeping...')\n",
    "    sleep(1)\n",
    "    print(i)\n",
    "\n",
    "decorated_slow_function = ipyw.interact_manual(slow_function,i=qs)"
   ]
  },
  {
   "cell_type": "markdown",
   "metadata": {},
   "source": [
    "## interactive output\n",
    "\n",
    "Build complete UI using QuantityText for inputs, and outputs, and wrap with interactive_outputs:"
   ]
  },
  {
   "cell_type": "code",
   "execution_count": 47,
   "metadata": {},
   "outputs": [],
   "source": [
    "# inputs widgets\n",
    "wa =  QuantityText(2*m)\n",
    "wb =  QuantityText(2*m)\n",
    "wc =  QuantityText(2*m)\n",
    "\n",
    "# An HBox lays out its children horizontally\n",
    "ui = ipyw.VBox([wa, wb, wc])\n",
    "\n",
    "# define function\n",
    "def f(a, b, c):\n",
    "    # You can use print here instead of display because interactive_output generates a normal notebook \n",
    "    # output area.\n",
    "    print((a, b, c))\n",
    "    res = a*b/c\n",
    "    print(res)\n",
    "    display(res)\n",
    "    return res\n",
    "\n",
    "# create output widget\n",
    "out = ipyw.interactive_output(f, {'a': wa, 'b': wb, 'c': wc})"
   ]
  },
  {
   "cell_type": "code",
   "execution_count": 48,
   "metadata": {},
   "outputs": [
    {
     "data": {
      "application/vnd.jupyter.widget-view+json": {
       "model_id": "a904e50ac7e34de3bef397a20d41ccab",
       "version_major": 2,
       "version_minor": 0
      },
      "text/plain": [
       "VBox(children=(QuantityText(value=<Quantity : 2 m>, children=(Text(value='2 m', description='Quantity:', layou…"
      ]
     },
     "metadata": {},
     "output_type": "display_data"
    },
    {
     "data": {
      "application/vnd.jupyter.widget-view+json": {
       "model_id": "986f619f94f84c46a1ca77556be3b0f4",
       "version_major": 2,
       "version_minor": 0
      },
      "text/plain": [
       "Output(outputs=({'name': 'stdout', 'text': '(<Quantity : 2 m>, <Quantity : 2 m>, <Quantity : 2 m>)\\n2.0 m\\n', …"
      ]
     },
     "metadata": {},
     "output_type": "display_data"
    }
   ],
   "source": [
    "# display full UI\n",
    "display(ui, out)"
   ]
  },
  {
   "cell_type": "code",
   "execution_count": 51,
   "metadata": {},
   "outputs": [],
   "source": [
    "wb.value = 12*m"
   ]
  },
  {
   "cell_type": "markdown",
   "metadata": {},
   "source": [
    "## link\n",
    "Support linking :"
   ]
  },
  {
   "cell_type": "code",
   "execution_count": 52,
   "metadata": {},
   "outputs": [],
   "source": [
    "qw1 =  QuantityText(2*m)\n",
    "qw2 =  QuantityText(2*m)\n",
    "\n",
    "# create link\n",
    "mylink = ipyw.link((qw1, 'value'), (qw2, 'value'))"
   ]
  },
  {
   "cell_type": "code",
   "execution_count": 53,
   "metadata": {},
   "outputs": [
    {
     "data": {
      "application/vnd.jupyter.widget-view+json": {
       "model_id": "539fa3b29db341229e8c1d0a52a2a6d1",
       "version_major": 2,
       "version_minor": 0
      },
      "text/plain": [
       "QuantityText(value=<Quantity : 2 m>, children=(Text(value='2 m', description='Quantity:', layout=Layout(border…"
      ]
     },
     "metadata": {},
     "output_type": "display_data"
    }
   ],
   "source": [
    "qw1"
   ]
  },
  {
   "cell_type": "code",
   "execution_count": 54,
   "metadata": {},
   "outputs": [
    {
     "data": {
      "application/vnd.jupyter.widget-view+json": {
       "model_id": "d43fa5073e274d4cb32d75c7013984f3",
       "version_major": 2,
       "version_minor": 0
      },
      "text/plain": [
       "QuantityText(value=<Quantity : 2 m>, children=(Text(value='2 m', description='Quantity:', layout=Layout(border…"
      ]
     },
     "metadata": {},
     "output_type": "display_data"
    }
   ],
   "source": [
    "qw2"
   ]
  },
  {
   "cell_type": "markdown",
   "metadata": {},
   "source": [
    "## observe"
   ]
  },
  {
   "cell_type": "code",
   "execution_count": 55,
   "metadata": {
    "lines_to_next_cell": 0
   },
   "outputs": [],
   "source": [
    "# create widget\n",
    "qw =  QuantityText(2*m)\n",
    "\n",
    "# create text output that displays the widget value\n",
    "square_display = ipyw.HTML(description=\"Square: \",\n",
    "                              value='{}'.format(qw.value**2))\n",
    "\n",
    "# create observe link\n",
    "def update_square_display(change):\n",
    "    square_display.value = '{}'.format(change.new**2)\n",
    "qw.observe(update_square_display, names='value')"
   ]
  },
  {
   "cell_type": "code",
   "execution_count": 56,
   "metadata": {
    "lines_to_next_cell": 0
   },
   "outputs": [
    {
     "data": {
      "application/vnd.jupyter.widget-view+json": {
       "model_id": "603108f19b784e0bbc4074ef04fa51ef",
       "version_major": 2,
       "version_minor": 0
      },
      "text/plain": [
       "VBox(children=(QuantityText(value=<Quantity : 2 m>, children=(Text(value='2 m', description='Quantity:', layou…"
      ]
     },
     "metadata": {},
     "output_type": "display_data"
    }
   ],
   "source": [
    "# wrap input widget and text ouput\n",
    "ipyw.VBox([qw, square_display])"
   ]
  },
  {
   "cell_type": "markdown",
   "metadata": {},
   "source": [
    "# Sliders"
   ]
  },
  {
   "cell_type": "markdown",
   "metadata": {},
   "source": [
    "## Basic QuantitySlider"
   ]
  },
  {
   "cell_type": "markdown",
   "metadata": {},
   "source": [
    "For simplicity purpose, the dimension cannot be changed (`w4.min = 2\\*s` is not expected):"
   ]
  },
  {
   "cell_type": "code",
   "execution_count": 57,
   "metadata": {},
   "outputs": [
    {
     "ename": "NameError",
     "evalue": "name 'FDQuantitySlider' is not defined",
     "output_type": "error",
     "traceback": [
      "\u001b[0;31m---------------------------------------------------------------------------\u001b[0m",
      "\u001b[0;31mNameError\u001b[0m                                 Traceback (most recent call last)",
      "\u001b[0;32m<ipython-input-57-93c2af16d9c8>\u001b[0m in \u001b[0;36m<module>\u001b[0;34m\u001b[0m\n\u001b[0;32m----> 1\u001b[0;31m \u001b[0mw4\u001b[0m \u001b[0;34m=\u001b[0m \u001b[0mFDQuantitySlider\u001b[0m\u001b[0;34m(\u001b[0m\u001b[0;36m3\u001b[0m\u001b[0;34m*\u001b[0m\u001b[0mm\u001b[0m\u001b[0;34m)\u001b[0m\u001b[0;34m\u001b[0m\u001b[0;34m\u001b[0m\u001b[0m\n\u001b[0m\u001b[1;32m      2\u001b[0m \u001b[0mw4\u001b[0m\u001b[0;34m\u001b[0m\u001b[0;34m\u001b[0m\u001b[0m\n",
      "\u001b[0;31mNameError\u001b[0m: name 'FDQuantitySlider' is not defined"
     ]
    }
   ],
   "source": [
    "w4 = FDQuantitySlider(3*m)\n",
    "w4"
   ]
  },
  {
   "cell_type": "markdown",
   "metadata": {},
   "source": [
    "## QuantitySlider with FDQuantityText as bounds"
   ]
  },
  {
   "cell_type": "markdown",
   "metadata": {},
   "source": [
    "The bounds of the slider  can be changed throu a FDQuantityText"
   ]
  },
  {
   "cell_type": "code",
   "execution_count": 13,
   "metadata": {},
   "outputs": [
    {
     "data": {
      "application/vnd.jupyter.widget-view+json": {
       "model_id": "4086b7d2b62c438dbb48c27c6aeda9d0",
       "version_major": 2,
       "version_minor": 0
      },
      "text/plain": [
       "HBox(children=(Text(value='0.0 m', layout=Layout(border='solid black', margin='0px 0px 0px 0px', padding='0px …"
      ]
     },
     "metadata": {},
     "output_type": "display_data"
    }
   ],
   "source": [
    "w5 = FDQuantitySliderWithBounds(3*m)\n",
    "w5"
   ]
  },
  {
   "cell_type": "markdown",
   "metadata": {},
   "source": [
    "## Working with favunits\n",
    "By default, anytime a Quantity is passed with a favunit, it will be used to display"
   ]
  },
  {
   "cell_type": "code",
   "execution_count": 14,
   "metadata": {},
   "outputs": [
    {
     "data": {
      "application/vnd.jupyter.widget-view+json": {
       "model_id": "6614094975a74b47b94e2dbcaa3b9d03",
       "version_major": 2,
       "version_minor": 0
      },
      "text/plain": [
       "Text(value='3141.592653589793 mm', layout=Layout(border='solid gray', margin='0px 0px 0px 0px', padding='0px 0…"
      ]
     },
     "metadata": {},
     "output_type": "display_data"
    }
   ],
   "source": [
    "q = pi*m\n",
    "q.favunit = mm\n",
    "\n",
    "\n",
    "w6 = FDQuantityText(q)\n",
    "w6"
   ]
  },
  {
   "cell_type": "code",
   "execution_count": 15,
   "metadata": {},
   "outputs": [
    {
     "data": {
      "application/vnd.jupyter.widget-view+json": {
       "model_id": "30a664a672d646809aea8630e5b32bad",
       "version_major": 2,
       "version_minor": 0
      },
      "text/plain": [
       "HBox(children=(FloatSlider(value=3.141592653589793, layout=Layout(border='solid #3295a8', margin='0px', width=…"
      ]
     },
     "metadata": {},
     "output_type": "display_data"
    }
   ],
   "source": [
    "w7 = FDQuantitySlider(q)\n",
    "w7"
   ]
  },
  {
   "cell_type": "code",
   "execution_count": 16,
   "metadata": {},
   "outputs": [
    {
     "data": {
      "application/vnd.jupyter.widget-view+json": {
       "model_id": "af8ea3a5cd5b48778d5aa9145245b840",
       "version_major": 2,
       "version_minor": 0
      },
      "text/plain": [
       "HBox(children=(Text(value='0.0 mm', layout=Layout(border='solid black', margin='0px 0px 0px 0px', padding='0px…"
      ]
     },
     "metadata": {},
     "output_type": "display_data"
    }
   ],
   "source": [
    "w8 = FDQuantitySliderWithBounds(q)\n",
    "w8"
   ]
  },
  {
   "cell_type": "markdown",
   "metadata": {},
   "source": [
    "## observing"
   ]
  },
  {
   "cell_type": "markdown",
   "metadata": {},
   "source": [
    "Observing works (just not the VBoxing)"
   ]
  },
  {
   "cell_type": "code",
   "execution_count": 17,
   "metadata": {},
   "outputs": [
    {
     "data": {
      "application/vnd.jupyter.widget-view+json": {
       "model_id": "34ddf64b618743718ea23b6e2d02821a",
       "version_major": 2,
       "version_minor": 0
      },
      "text/plain": [
       "HBox(children=(FloatSlider(value=7.5, layout=Layout(border='solid #3295a8', margin='0px', width='30%'), readou…"
      ]
     },
     "metadata": {},
     "output_type": "display_data"
    }
   ],
   "source": [
    "slider = FDQuantitySlider(\n",
    "    value=7.5*m)\n",
    "\n",
    "# Create non-editable text area to display square of value\n",
    "square_display = ipyw.HTML(description=\"Square: \",\n",
    "                              value='{}'.format(slider.value**2))\n",
    "\n",
    "# Create function to update square_display's value when slider changes\n",
    "def update_square_display(change):\n",
    "    square_display.value = '{}'.format(change.new**2)\n",
    "    \n",
    "slider.observe(update_square_display, names='value')\n",
    "\n",
    "# Put them in a vertical box\n",
    "slider"
   ]
  },
  {
   "cell_type": "code",
   "execution_count": 18,
   "metadata": {},
   "outputs": [
    {
     "data": {
      "application/vnd.jupyter.widget-view+json": {
       "model_id": "7c94a5698f3546b69e4d3ba856ff31c4",
       "version_major": 2,
       "version_minor": 0
      },
      "text/plain": [
       "HTML(value='56.25 m**2', description='Square: ')"
      ]
     },
     "metadata": {},
     "output_type": "display_data"
    }
   ],
   "source": [
    "square_display"
   ]
  },
  {
   "cell_type": "code",
   "execution_count": null,
   "metadata": {},
   "outputs": [],
   "source": []
  }
 ],
 "metadata": {
  "kernelspec": {
   "display_name": "Python 3",
   "language": "python",
   "name": "python3"
  },
  "language_info": {
   "codemirror_mode": {
    "name": "ipython",
    "version": 3
   },
   "file_extension": ".py",
   "mimetype": "text/x-python",
   "name": "python",
   "nbconvert_exporter": "python",
   "pygments_lexer": "ipython3",
   "version": "3.7.4"
  },
  "toc-autonumbering": true
 },
 "nbformat": 4,
 "nbformat_minor": 4
}
