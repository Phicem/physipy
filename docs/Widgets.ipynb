{
 "cells": [
  {
   "cell_type": "code",
   "execution_count": 1,
   "metadata": {},
   "outputs": [],
   "source": [
    "\n",
    "from physipy.qwidgets.qipywidgets import QuantityText, FDQuantityText#, FDQuantityText, FDQuantitySlider, FDQuantitySliderWithBounds\n",
    "import ipywidgets as ipyw\n",
    "from numpy import pi\n",
    "from physipy import m, s, Quantity, Dimension, rad, units\n",
    "\n",
    "\n",
    "mm = units[\"mm\"]"
   ]
  },
  {
   "cell_type": "markdown",
   "metadata": {},
   "source": [
    "Things to test :\n",
    "\n",
    "Types of widgets :\n",
    " - QuantityText : text area, very permissive\n",
    " - FDQuantityText : text area, fixed dimension on init value\n",
    " - FDQuantitySlider : slider, fixed dimension on init value\n",
    " - FDQuantitySliderWithBounds : slider with FDQuantityText to handle min and max\n",
    " \n",
    "Functionnalitities : \n",
    " - VBoxing, HBoxing : `ipyw.VBox([qw, qw])`\n",
    " - interact with abbreviation : `interact(3*m)`\n",
    " - interact with widget : `interact(QuantityText(3*m))`\n",
    " - interactive : `w = ipyw.interactive(slow_function, i=qs)`\n",
    " - interactive_output : `out = ipyw.interactive_output(f, {'a': wa, 'b': wb, 'c': wc})`\n",
    " - observe : \n",
    " - link : `mylink = ipyw.link((qw1, 'value'), (qw2, 'value'))`\n",
    " - jslink : `mylink = ipyw.jslink((qw1, 'value'), (qw2, 'value'))`"
   ]
  },
  {
   "cell_type": "code",
   "execution_count": 2,
   "metadata": {},
   "outputs": [],
   "source": [
    "q = 70*mm\n",
    "q.favunit = mm"
   ]
  },
  {
   "cell_type": "markdown",
   "metadata": {},
   "source": [
    "# Text"
   ]
  },
  {
   "cell_type": "markdown",
   "metadata": {},
   "source": [
    "2 types that inherit from QuantityText : \n",
    " - free QuantityText\n",
    " - Fixed-dimension \"FDQuantityText\""
   ]
  },
  {
   "cell_type": "markdown",
   "metadata": {},
   "source": [
    "## QuantityText\n",
    "Basically a text area that will parse python expression into a numerical physical Quantity. It can be dimensionless (like 5 or 2\\*pi), and can be of any dimension at any time:"
   ]
  },
  {
   "cell_type": "code",
   "execution_count": 3,
   "metadata": {},
   "outputs": [
    {
     "data": {
      "application/vnd.jupyter.widget-view+json": {
       "model_id": "fb53c6b32cc04b1fadf2da34c5fc3e60",
       "version_major": 2,
       "version_minor": 0
      },
      "text/plain": [
       "QuantityText(value=<Quantity : 0.0 >, children=(Text(value='0.0', description='Quantity:', layout=Layout(borde…"
      ]
     },
     "metadata": {},
     "output_type": "display_data"
    }
   ],
   "source": [
    "w = QuantityText()\n",
    "w"
   ]
  },
  {
   "cell_type": "code",
   "execution_count": 6,
   "metadata": {},
   "outputs": [
    {
     "name": "stdout",
     "output_type": "stream",
     "text": [
      "0.0\n",
      "no-dimension\n",
      "Quantity:\n"
     ]
    }
   ],
   "source": [
    "print(w.value)\n",
    "print(w.dimension)\n",
    "print(w.description)"
   ]
  },
  {
   "cell_type": "code",
   "execution_count": 8,
   "metadata": {},
   "outputs": [
    {
     "name": "stdout",
     "output_type": "stream",
     "text": [
      "4 m\n",
      "L\n",
      "Quantity:\n"
     ]
    }
   ],
   "source": [
    "print(w.value)\n",
    "print(w.dimension)\n",
    "print(w.description)"
   ]
  },
  {
   "cell_type": "code",
   "execution_count": 9,
   "metadata": {},
   "outputs": [
    {
     "name": "stdout",
     "output_type": "stream",
     "text": [
      "2.0 1/cd\n",
      "1/J\n",
      "Quantity:\n"
     ]
    }
   ],
   "source": [
    "print(w.value)\n",
    "print(w.dimension)\n",
    "print(w.description)"
   ]
  },
  {
   "cell_type": "markdown",
   "metadata": {},
   "source": [
    "## Fixed-Dimension QuantityText\n",
    "A QuantityText that will set a dimension at creation, and not allow any other dimension:"
   ]
  },
  {
   "cell_type": "markdown",
   "metadata": {},
   "source": [
    "A fixed-dimensionless quantity : (trying to set a quantity with another dimension will be ignored : example : type in '5\\*m' then Enter)"
   ]
  },
  {
   "cell_type": "code",
   "execution_count": 14,
   "metadata": {},
   "outputs": [
    {
     "data": {
      "application/vnd.jupyter.widget-view+json": {
       "model_id": "30c70973eb784709b4a9d2225d766434",
       "version_major": 2,
       "version_minor": 0
      },
      "text/plain": [
       "FDQuantityText(value=<Quantity : 0.0 >, children=(Text(value='0.0', description='Quantity:', layout=Layout(bor…"
      ]
     },
     "metadata": {},
     "output_type": "display_data"
    }
   ],
   "source": [
    "w2 = FDQuantityText()\n",
    "w2"
   ]
  },
  {
   "cell_type": "code",
   "execution_count": 19,
   "metadata": {},
   "outputs": [
    {
     "name": "stdout",
     "output_type": "stream",
     "text": [
      "3.141592653589793\n"
     ]
    }
   ],
   "source": [
    "print(w2.value)"
   ]
  },
  {
   "cell_type": "markdown",
   "metadata": {},
   "source": [
    "A fixed-length quantity :"
   ]
  },
  {
   "cell_type": "code",
   "execution_count": 16,
   "metadata": {},
   "outputs": [
    {
     "data": {
      "application/vnd.jupyter.widget-view+json": {
       "model_id": "8075be1270a84fc6936df86d80b28bc8",
       "version_major": 2,
       "version_minor": 0
      },
      "text/plain": [
       "FDQuantityText(value=<Quantity : 3.141592653589793 m>, children=(Text(value='3.141592653589793 m', description…"
      ]
     },
     "metadata": {},
     "output_type": "display_data"
    }
   ],
   "source": [
    "w3 = FDQuantityText(pi*m)\n",
    "w3"
   ]
  },
  {
   "cell_type": "code",
   "execution_count": 20,
   "metadata": {},
   "outputs": [
    {
     "name": "stdout",
     "output_type": "stream",
     "text": [
      "1 m\n"
     ]
    }
   ],
   "source": [
    "print(w3.value)"
   ]
  },
  {
   "cell_type": "markdown",
   "metadata": {},
   "source": [
    "## Testing with QuantityText"
   ]
  },
  {
   "cell_type": "markdown",
   "metadata": {},
   "source": [
    "### interact without abbreviation"
   ]
  },
  {
   "cell_type": "code",
   "execution_count": 10,
   "metadata": {},
   "outputs": [
    {
     "data": {
      "application/vnd.jupyter.widget-view+json": {
       "model_id": "65c4983b3c6f49eba6bf7f7c920309f5",
       "version_major": 2,
       "version_minor": 0
      },
      "text/plain": [
       "QuantityText(value=<Quantity : 2 m>, children=(Text(value='2 m', description='Quantity:', layout=Layout(border…"
      ]
     },
     "metadata": {},
     "output_type": "display_data"
    }
   ],
   "source": [
    "qs =  QuantityText(2*m)\n",
    "qs"
   ]
  },
  {
   "cell_type": "code",
   "execution_count": 44,
   "metadata": {},
   "outputs": [
    {
     "data": {
      "application/vnd.jupyter.widget-view+json": {
       "model_id": "fe2877901fe74e3a853beaabd6e92865",
       "version_major": 2,
       "version_minor": 0
      },
      "text/plain": [
       "interactive(children=(QuantityText(value=<Quantity : 3 m>, children=(Text(value='3 m', description='Quantity:'…"
      ]
     },
     "metadata": {},
     "output_type": "display_data"
    }
   ],
   "source": [
    "def toto(x):\n",
    "    return str(x*2)\n",
    "res = ipyw.interact(toto, x=qs);\n"
   ]
  },
  {
   "cell_type": "markdown",
   "metadata": {},
   "source": [
    "### boxing"
   ]
  },
  {
   "cell_type": "code",
   "execution_count": 12,
   "metadata": {},
   "outputs": [
    {
     "data": {
      "application/vnd.jupyter.widget-view+json": {
       "model_id": "c427ed62ddd24c57baff6e5b0dec6478",
       "version_major": 2,
       "version_minor": 0
      },
      "text/plain": [
       "QuantityText(value=<Quantity : 2 m>, children=(Text(value='2 m', description='Quantity:', layout=Layout(border…"
      ]
     },
     "metadata": {},
     "output_type": "display_data"
    }
   ],
   "source": [
    "qs =  QuantityText(2*m)\n",
    "qs"
   ]
  },
  {
   "cell_type": "code",
   "execution_count": 13,
   "metadata": {},
   "outputs": [
    {
     "data": {
      "application/vnd.jupyter.widget-view+json": {
       "model_id": "cc625b9048ad41f1b2f24d8e68a76a45",
       "version_major": 2,
       "version_minor": 0
      },
      "text/plain": [
       "VBox(children=(QuantityText(value=<Quantity : 2 m>, children=(Text(value='2 m', description='Quantity:', layou…"
      ]
     },
     "metadata": {},
     "output_type": "display_data"
    }
   ],
   "source": [
    "ipyw.VBox([qs, qs])"
   ]
  },
  {
   "cell_type": "markdown",
   "metadata": {},
   "source": [
    "### interactive"
   ]
  },
  {
   "cell_type": "code",
   "execution_count": 14,
   "metadata": {},
   "outputs": [
    {
     "data": {
      "application/vnd.jupyter.widget-view+json": {
       "model_id": "739a25d61fae416b8825153cf150d496",
       "version_major": 2,
       "version_minor": 0
      },
      "text/plain": [
       "QuantityText(value=<Quantity : 2 m>, children=(Text(value='2 m', description='Quantity:', layout=Layout(border…"
      ]
     },
     "metadata": {},
     "output_type": "display_data"
    }
   ],
   "source": [
    "# interact without abbreviation\n",
    "qs = QuantityText(2*m)\n",
    "qs"
   ]
  },
  {
   "cell_type": "code",
   "execution_count": 39,
   "metadata": {},
   "outputs": [
    {
     "name": "stdout",
     "output_type": "stream",
     "text": [
      "None\n"
     ]
    }
   ],
   "source": [
    "def slow_function(i):\n",
    "    \"\"\"\n",
    "    Sleep for 1 second then print the argument\n",
    "    \"\"\"\n",
    "    from time import sleep\n",
    "    print('Sleeping...')\n",
    "    sleep(1)\n",
    "    print(i)\n",
    "    print(2*i)    \n",
    "    return i*2\n",
    "w = ipyw.interactive(slow_function, i=qs)\n",
    "print(w.result)"
   ]
  },
  {
   "cell_type": "code",
   "execution_count": 40,
   "metadata": {},
   "outputs": [
    {
     "data": {
      "application/vnd.jupyter.widget-view+json": {
       "model_id": "df5d72f348824efdb86ef67f1ea054c2",
       "version_major": 2,
       "version_minor": 0
      },
      "text/plain": [
       "interactive(children=(QuantityText(value=<Quantity : 2 m>, children=(Text(value='2 m', description='Quantity:'…"
      ]
     },
     "metadata": {},
     "output_type": "display_data"
    }
   ],
   "source": [
    "w"
   ]
  },
  {
   "cell_type": "code",
   "execution_count": 41,
   "metadata": {},
   "outputs": [
    {
     "data": {
      "text/latex": [
       "$0.6\\,dam$"
      ],
      "text/plain": [
       "<Quantity : 6 m>"
      ]
     },
     "execution_count": 41,
     "metadata": {},
     "output_type": "execute_result"
    }
   ],
   "source": [
    "w.result"
   ]
  },
  {
   "cell_type": "code",
   "execution_count": 17,
   "metadata": {},
   "outputs": [
    {
     "data": {
      "application/vnd.jupyter.widget-view+json": {
       "model_id": "2a0e2b584cbd4d94ac13cbaccbd627f9",
       "version_major": 2,
       "version_minor": 0
      },
      "text/plain": [
       "interactive(children=(QuantityText(value=<Quantity : 2 m>, children=(Text(value='2 m', description='Quantity:'…"
      ]
     },
     "metadata": {},
     "output_type": "display_data"
    },
    {
     "data": {
      "text/plain": [
       "<function __main__.slow_function(i)>"
      ]
     },
     "execution_count": 17,
     "metadata": {},
     "output_type": "execute_result"
    }
   ],
   "source": [
    "def slow_function(i):\n",
    "    \"\"\"\n",
    "    Sleep for 1 second then print the argument\n",
    "    \"\"\"\n",
    "    from time import sleep\n",
    "    print('Sleeping...')\n",
    "    sleep(1)\n",
    "    print(i)\n",
    "ipyw.interact_manual(slow_function,i=qs)"
   ]
  },
  {
   "cell_type": "markdown",
   "metadata": {},
   "source": [
    "## interactive output"
   ]
  },
  {
   "cell_type": "code",
   "execution_count": 48,
   "metadata": {},
   "outputs": [
    {
     "data": {
      "application/vnd.jupyter.widget-view+json": {
       "model_id": "bf507235cc924610bfa609faf9495658",
       "version_major": 2,
       "version_minor": 0
      },
      "text/plain": [
       "VBox(children=(QuantityText(value=<Quantity : 2 m>, children=(Text(value='2 m', description='Quantity:', layou…"
      ]
     },
     "metadata": {},
     "output_type": "display_data"
    },
    {
     "data": {
      "application/vnd.jupyter.widget-view+json": {
       "model_id": "5e75c992f97e46069d2c24b61278500d",
       "version_major": 2,
       "version_minor": 0
      },
      "text/plain": [
       "Output()"
      ]
     },
     "metadata": {},
     "output_type": "display_data"
    }
   ],
   "source": [
    "wa =  QuantityText(2*m)\n",
    "wb =  QuantityText(2*m)\n",
    "wc =  QuantityText(2*m)\n",
    "\n",
    "# An HBox lays out its children horizontally\n",
    "ui = ipyw.VBox([wa, wb, wc])\n",
    "\n",
    "def f(a, b, c):\n",
    "    # You can use print here instead of display because interactive_output generates a normal notebook \n",
    "    # output area.\n",
    "    print((a, b, c))\n",
    "    res = a*b/c\n",
    "    print(res)\n",
    "    display(res)\n",
    "    return res\n",
    "\n",
    "out = ipyw.interactive_output(f, {'a': wa, 'b': wb, 'c': wc})\n",
    "\n",
    "display(ui, out)"
   ]
  },
  {
   "cell_type": "code",
   "execution_count": 50,
   "metadata": {},
   "outputs": [],
   "source": [
    "wb.value = 12*m"
   ]
  },
  {
   "cell_type": "markdown",
   "metadata": {},
   "source": [
    "## link"
   ]
  },
  {
   "cell_type": "code",
   "execution_count": 28,
   "metadata": {},
   "outputs": [],
   "source": [
    "qw1 =  QuantityText(2*m)\n",
    "qw2 =  QuantityText(2*m)\n",
    "\n",
    "\n",
    "mylink = ipyw.link((qw1, 'value'), (qw2, 'value'))"
   ]
  },
  {
   "cell_type": "code",
   "execution_count": 29,
   "metadata": {},
   "outputs": [
    {
     "data": {
      "application/vnd.jupyter.widget-view+json": {
       "model_id": "c10314b78b9a4f5bb69228330eb0af6f",
       "version_major": 2,
       "version_minor": 0
      },
      "text/plain": [
       "QuantityText(value=<Quantity : 2 m>, children=(Text(value='2 m', description='Quantity:', layout=Layout(border…"
      ]
     },
     "metadata": {},
     "output_type": "display_data"
    }
   ],
   "source": [
    "qw1"
   ]
  },
  {
   "cell_type": "code",
   "execution_count": 30,
   "metadata": {},
   "outputs": [
    {
     "data": {
      "application/vnd.jupyter.widget-view+json": {
       "model_id": "8720094985904afebde14c2bb36bc6c9",
       "version_major": 2,
       "version_minor": 0
      },
      "text/plain": [
       "QuantityText(value=<Quantity : 2 m>, children=(Text(value='2 m', description='Quantity:', layout=Layout(border…"
      ]
     },
     "metadata": {},
     "output_type": "display_data"
    }
   ],
   "source": [
    "qw2"
   ]
  },
  {
   "cell_type": "markdown",
   "metadata": {},
   "source": [
    "## observe"
   ]
  },
  {
   "cell_type": "code",
   "execution_count": 31,
   "metadata": {
    "lines_to_next_cell": 0
   },
   "outputs": [
    {
     "data": {
      "application/vnd.jupyter.widget-view+json": {
       "model_id": "1efda34205084797aa3a64951e095f3a",
       "version_major": 2,
       "version_minor": 0
      },
      "text/plain": [
       "VBox(children=(QuantityText(value=<Quantity : 2 m>, children=(Text(value='2 m', description='Quantity:', layou…"
      ]
     },
     "metadata": {},
     "output_type": "display_data"
    }
   ],
   "source": [
    "qw =  QuantityText(2*m)\n",
    "\n",
    "square_display = ipyw.HTML(description=\"Square: \",\n",
    "                              value='{}'.format(qw.value**2))\n",
    "\n",
    "def update_square_display(change):\n",
    "    square_display.value = '{}'.format(change.new**2)\n",
    "qw.observe(update_square_display, names='value')\n",
    "ipyw.VBox([qw, square_display])\n"
   ]
  },
  {
   "cell_type": "markdown",
   "metadata": {},
   "source": [
    "# Sliders"
   ]
  },
  {
   "cell_type": "markdown",
   "metadata": {},
   "source": [
    "## Basic QuantitySlider"
   ]
  },
  {
   "cell_type": "markdown",
   "metadata": {},
   "source": [
    "For simplicity purpose, the dimension cannot be changed (`w4.min = 2\\*s` is not expected):"
   ]
  },
  {
   "cell_type": "code",
   "execution_count": 12,
   "metadata": {},
   "outputs": [
    {
     "data": {
      "application/vnd.jupyter.widget-view+json": {
       "model_id": "b1eb6500f3064ec7967a7f51c9030ba7",
       "version_major": 2,
       "version_minor": 0
      },
      "text/plain": [
       "HBox(children=(FloatSlider(value=3.0, layout=Layout(border='solid #3295a8', margin='0px', width='30%'), readou…"
      ]
     },
     "metadata": {},
     "output_type": "display_data"
    }
   ],
   "source": [
    "w4 = FDQuantitySlider(3*m)\n",
    "w4"
   ]
  },
  {
   "cell_type": "markdown",
   "metadata": {},
   "source": [
    "## QuantitySlider with FDQuantityText as bounds"
   ]
  },
  {
   "cell_type": "markdown",
   "metadata": {},
   "source": [
    "The bounds of the slider  can be changed throu a FDQuantityText"
   ]
  },
  {
   "cell_type": "code",
   "execution_count": 13,
   "metadata": {},
   "outputs": [
    {
     "data": {
      "application/vnd.jupyter.widget-view+json": {
       "model_id": "4086b7d2b62c438dbb48c27c6aeda9d0",
       "version_major": 2,
       "version_minor": 0
      },
      "text/plain": [
       "HBox(children=(Text(value='0.0 m', layout=Layout(border='solid black', margin='0px 0px 0px 0px', padding='0px …"
      ]
     },
     "metadata": {},
     "output_type": "display_data"
    }
   ],
   "source": [
    "w5 = FDQuantitySliderWithBounds(3*m)\n",
    "w5"
   ]
  },
  {
   "cell_type": "markdown",
   "metadata": {},
   "source": [
    "## Working with favunits\n",
    "By default, anytime a Quantity is passed with a favunit, it will be used to display"
   ]
  },
  {
   "cell_type": "code",
   "execution_count": 14,
   "metadata": {},
   "outputs": [
    {
     "data": {
      "application/vnd.jupyter.widget-view+json": {
       "model_id": "6614094975a74b47b94e2dbcaa3b9d03",
       "version_major": 2,
       "version_minor": 0
      },
      "text/plain": [
       "Text(value='3141.592653589793 mm', layout=Layout(border='solid gray', margin='0px 0px 0px 0px', padding='0px 0…"
      ]
     },
     "metadata": {},
     "output_type": "display_data"
    }
   ],
   "source": [
    "q = pi*m\n",
    "q.favunit = mm\n",
    "\n",
    "\n",
    "w6 = FDQuantityText(q)\n",
    "w6"
   ]
  },
  {
   "cell_type": "code",
   "execution_count": 15,
   "metadata": {},
   "outputs": [
    {
     "data": {
      "application/vnd.jupyter.widget-view+json": {
       "model_id": "30a664a672d646809aea8630e5b32bad",
       "version_major": 2,
       "version_minor": 0
      },
      "text/plain": [
       "HBox(children=(FloatSlider(value=3.141592653589793, layout=Layout(border='solid #3295a8', margin='0px', width=…"
      ]
     },
     "metadata": {},
     "output_type": "display_data"
    }
   ],
   "source": [
    "w7 = FDQuantitySlider(q)\n",
    "w7"
   ]
  },
  {
   "cell_type": "code",
   "execution_count": 16,
   "metadata": {},
   "outputs": [
    {
     "data": {
      "application/vnd.jupyter.widget-view+json": {
       "model_id": "af8ea3a5cd5b48778d5aa9145245b840",
       "version_major": 2,
       "version_minor": 0
      },
      "text/plain": [
       "HBox(children=(Text(value='0.0 mm', layout=Layout(border='solid black', margin='0px 0px 0px 0px', padding='0px…"
      ]
     },
     "metadata": {},
     "output_type": "display_data"
    }
   ],
   "source": [
    "w8 = FDQuantitySliderWithBounds(q)\n",
    "w8"
   ]
  },
  {
   "cell_type": "markdown",
   "metadata": {},
   "source": [
    "## observing"
   ]
  },
  {
   "cell_type": "markdown",
   "metadata": {},
   "source": [
    "Observing works (just not the VBoxing)"
   ]
  },
  {
   "cell_type": "code",
   "execution_count": 17,
   "metadata": {},
   "outputs": [
    {
     "data": {
      "application/vnd.jupyter.widget-view+json": {
       "model_id": "34ddf64b618743718ea23b6e2d02821a",
       "version_major": 2,
       "version_minor": 0
      },
      "text/plain": [
       "HBox(children=(FloatSlider(value=7.5, layout=Layout(border='solid #3295a8', margin='0px', width='30%'), readou…"
      ]
     },
     "metadata": {},
     "output_type": "display_data"
    }
   ],
   "source": [
    "slider = FDQuantitySlider(\n",
    "    value=7.5*m)\n",
    "\n",
    "# Create non-editable text area to display square of value\n",
    "square_display = ipyw.HTML(description=\"Square: \",\n",
    "                              value='{}'.format(slider.value**2))\n",
    "\n",
    "# Create function to update square_display's value when slider changes\n",
    "def update_square_display(change):\n",
    "    square_display.value = '{}'.format(change.new**2)\n",
    "    \n",
    "slider.observe(update_square_display, names='value')\n",
    "\n",
    "# Put them in a vertical box\n",
    "slider"
   ]
  },
  {
   "cell_type": "code",
   "execution_count": 18,
   "metadata": {},
   "outputs": [
    {
     "data": {
      "application/vnd.jupyter.widget-view+json": {
       "model_id": "7c94a5698f3546b69e4d3ba856ff31c4",
       "version_major": 2,
       "version_minor": 0
      },
      "text/plain": [
       "HTML(value='56.25 m**2', description='Square: ')"
      ]
     },
     "metadata": {},
     "output_type": "display_data"
    }
   ],
   "source": [
    "square_display"
   ]
  },
  {
   "cell_type": "code",
   "execution_count": null,
   "metadata": {},
   "outputs": [],
   "source": []
  }
 ],
 "metadata": {
  "kernelspec": {
   "display_name": "Python 3",
   "language": "python",
   "name": "python3"
  },
  "language_info": {
   "codemirror_mode": {
    "name": "ipython",
    "version": 3
   },
   "file_extension": ".py",
   "mimetype": "text/x-python",
   "name": "python",
   "nbconvert_exporter": "python",
   "pygments_lexer": "ipython3",
   "version": "3.7.4"
  },
  "toc-autonumbering": true
 },
 "nbformat": 4,
 "nbformat_minor": 4
}
