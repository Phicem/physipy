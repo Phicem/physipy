{
 "cells": [
  {
   "cell_type": "markdown",
   "metadata": {},
   "source": [
    "# Known issues"
   ]
  },
  {
   "cell_type": "markdown",
   "metadata": {},
   "source": [
    "## A float quantity is Iterable\n",
    "https://docs.python.org/3/library/collections.abc.html#collections.abc.Iterable\n",
    "This tests if the object has \"__iter__\""
   ]
  },
  {
   "cell_type": "code",
   "execution_count": 1,
   "metadata": {},
   "outputs": [
    {
     "data": {
      "text/plain": [
       "True"
      ]
     },
     "execution_count": 1,
     "metadata": {},
     "output_type": "execute_result"
    }
   ],
   "source": [
    "import collections\n",
    "from physipy import m\n",
    "\n",
    "isinstance(m, collections.abc.Iterable)"
   ]
  },
  {
   "cell_type": "markdown",
   "metadata": {},
   "source": [
    "## Array repr with 0 value\n",
    "Pick best favunit take the smallest when 0 is in the array with positiv and negativ values"
   ]
  },
  {
   "cell_type": "code",
   "execution_count": 2,
   "metadata": {},
   "outputs": [
    {
     "data": {
      "text/latex": [
       "[ 0.0e+00 -1.2e+24  1.2e+24]$\\,ym$"
      ],
      "text/plain": [
       "<Quantity : [ 0.  -1.2  1.2] m>"
      ]
     },
     "execution_count": 2,
     "metadata": {},
     "output_type": "execute_result"
    }
   ],
   "source": [
    "from physipy import m, Quantity, Dimension\n",
    "import numpy as np\n",
    "Quantity(np.array([0, -1.2, 1.2]), Dimension(\"L\"))"
   ]
  },
  {
   "cell_type": "markdown",
   "metadata": {},
   "source": [
    "# Inplace change using asqarray"
   ]
  },
  {
   "cell_type": "code",
   "execution_count": 10,
   "metadata": {},
   "outputs": [
    {
     "name": "stdout",
     "output_type": "stream",
     "text": [
      "<class 'int'>\n",
      "<class 'int'>\n"
     ]
    }
   ],
   "source": [
    "from physipy.quantity.utils import asqarray\n",
    "print(type(m.value))\n",
    "arrq_9 = np.array([m.__copy__()], dtype=object)\n",
    "out = asqarray(arrq_9)\n",
    "# this changes the type of m value\n",
    "print(type(m.value))"
   ]
  },
  {
   "cell_type": "markdown",
   "metadata": {},
   "source": [
    "# Numpy trapz implementaion not called when only x or dx is a quantity"
   ]
  },
  {
   "cell_type": "markdown",
   "metadata": {},
   "source": [
    "https://github.com/numpy/numpy/issues/18902"
   ]
  },
  {
   "cell_type": "markdown",
   "metadata": {},
   "source": [
    "Only work when the array to integrate is a quantity"
   ]
  },
  {
   "cell_type": "code",
   "execution_count": 1,
   "metadata": {},
   "outputs": [],
   "source": [
    "from physipy import m\n",
    "import numpy as np"
   ]
  },
  {
   "cell_type": "code",
   "execution_count": 13,
   "metadata": {},
   "outputs": [
    {
     "name": "stdout",
     "output_type": "stream",
     "text": [
      "into array function\n",
      "8.0 m\n",
      "into array function\n",
      "8.0 m\n",
      "into array function\n",
      "8.0 m\n",
      "----uncomment above line to trigger exception\n"
     ]
    }
   ],
   "source": [
    "# this works\n",
    "print(np.trapz(np.arange(5)*m))\n",
    "# also this\n",
    "print(np.trapz(np.arange(5), x=np.arange(5)*m))\n",
    "print(np.trapz(np.arange(5), dx=5000*m, x=np.arange(5)*m)) #dx is silent\n",
    "# but not this\n",
    "#np.trapz(np.arange(5), dx=5000*m)\n",
    "print(\"----uncomment above line to trigger exception\")"
   ]
  },
  {
   "cell_type": "markdown",
   "metadata": {},
   "source": [
    "# Array function interface not triggered on scalars"
   ]
  },
  {
   "cell_type": "markdown",
   "metadata": {},
   "source": [
    "Calling a numpy function with only scalars will not trigger the array function interface, since it is used only when an argument is an array."
   ]
  },
  {
   "cell_type": "code",
   "execution_count": 15,
   "metadata": {},
   "outputs": [
    {
     "data": {
      "text/plain": [
       "2.4153630235574304"
      ]
     },
     "execution_count": 15,
     "metadata": {},
     "output_type": "execute_result"
    }
   ],
   "source": [
    "from physipy import m\n",
    "# this raises a DimensionError because of the casting into float\n",
    "#np.random.normal(3*m, 1*m)\n",
    "# while this works\n",
    "np.random.normal(np.array(3*m), np.array(1*m))"
   ]
  },
  {
   "cell_type": "markdown",
   "metadata": {},
   "source": [
    "# FIXED (Matplotlib histogram) by adding \"to_numpy\" method"
   ]
  },
  {
   "cell_type": "markdown",
   "metadata": {},
   "source": [
    "It turns out that matplotlib first checks if the object has a \"to_numpy()\" method, then again improved by removing to_numpy and removing __iter__ and delegate it to getattr"
   ]
  },
  {
   "cell_type": "markdown",
   "metadata": {},
   "source": [
    "Some preprocessing turn a quantity-array into a \"set of elements\", and plots one histogram for each value."
   ]
  },
  {
   "cell_type": "code",
   "execution_count": 1,
   "metadata": {},
   "outputs": [],
   "source": [
    "import numpy as np\n",
    "from physipy import m\n",
    "import matplotlib.pyplot as plt"
   ]
  },
  {
   "cell_type": "code",
   "execution_count": 2,
   "metadata": {},
   "outputs": [],
   "source": [
    "arr = np.random.normal(1, 0.1, size=100)*m"
   ]
  },
  {
   "cell_type": "code",
   "execution_count": 3,
   "metadata": {},
   "outputs": [
    {
     "data": {
      "text/plain": [
       "(array([ 4.,  6.,  9., 12.,  9., 18., 18., 15.,  4.,  5.]),\n",
       " array([0.76964509, 0.81419341, 0.85874173, 0.90329005, 0.94783837,\n",
       "        0.99238669, 1.03693502, 1.08148334, 1.12603166, 1.17057998,\n",
       "        1.2151283 ]),\n",
       " <BarContainer object of 10 artists>)"
      ]
     },
     "execution_count": 3,
     "metadata": {},
     "output_type": "execute_result"
    },
    {
     "data": {
      "image/png": "[encoded data removed]",
      "text/plain": [
       "<Figure size 432x288 with 1 Axes>"
      ]
     },
     "metadata": {
      "needs_background": "light"
     },
     "output_type": "display_data"
    }
   ],
   "source": [
    "plt.hist(arr.value)"
   ]
  },
  {
   "cell_type": "code",
   "execution_count": 4,
   "metadata": {},
   "outputs": [
    {
     "name": "stderr",
     "output_type": "stream",
     "text": [
      "/Users/mocquin/MYLIB10/MODULES/physipy/physipy/quantity/quantity.py:664: UserWarning: The unit of the quantity is stripped.\n",
      "  warnings.warn(\"The unit of the quantity is stripped.\")\n"
     ]
    },
    {
     "data": {
      "text/plain": [
       "(array([ 4.,  6.,  9., 12.,  9., 18., 18., 15.,  4.,  5.]),\n",
       " array([0.76964509, 0.81419341, 0.85874173, 0.90329005, 0.94783837,\n",
       "        0.99238669, 1.03693502, 1.08148334, 1.12603166, 1.17057998,\n",
       "        1.2151283 ]),\n",
       " <BarContainer object of 10 artists>)"
      ]
     },
     "execution_count": 4,
     "metadata": {},
     "output_type": "execute_result"
    },
    {
     "data": {
      "image/png": "[encoded data removed]",
      "text/plain": [
       "<Figure size 432x288 with 1 Axes>"
      ]
     },
     "metadata": {
      "needs_background": "light"
     },
     "output_type": "display_data"
    }
   ],
   "source": [
    "plt.hist(arr)"
   ]
  },
  {
   "cell_type": "markdown",
   "metadata": {},
   "source": [
    "# Matplotlib histogram, again : missing units support"
   ]
  },
  {
   "cell_type": "markdown",
   "metadata": {},
   "source": [
    "Source code for hist : https://matplotlib.org/stable/_modules/matplotlib/axes/_axes.html#Axes.hist\n",
    "\n",
    "One of the first things done is : \n",
    "```python\n",
    "x = cbook._reshape_2D(x, 'x')\n",
    "```\n",
    "With \n",
    "```python\n",
    "Signature: cbook._reshape_2D(X, name)\n",
    "Source:   \n",
    "def _reshape_2D(X, name):\n",
    "    \"\"\"\n",
    "    Use Fortran ordering to convert ndarrays and lists of iterables to lists of\n",
    "    1D arrays.\n",
    "\n",
    "    Lists of iterables are converted by applying `np.asanyarray` to each of\n",
    "    their elements.  1D ndarrays are returned in a singleton list containing\n",
    "    them.  2D ndarrays are converted to the list of their *columns*.\n",
    "\n",
    "    *name* is used to generate the error message for invalid inputs.\n",
    "    \"\"\"\n",
    "\n",
    "    # unpack if we have a values or to_numpy method.\n",
    "    try:\n",
    "        X = X.to_numpy()\n",
    "    except AttributeError:\n",
    "        try:\n",
    "            if isinstance(X.values, np.ndarray):\n",
    "                X = X.values\n",
    "        except AttributeError:\n",
    "            pass\n",
    "\n",
    "    # Iterate over columns for ndarrays.\n",
    "    if isinstance(X, np.ndarray):\n",
    "        X = X.T\n",
    "\n",
    "        if len(X) == 0:\n",
    "            return [[]]\n",
    "        elif X.ndim == 1 and np.ndim(X[0]) == 0:\n",
    "            # 1D array of scalars: directly return it.\n",
    "            return [X]\n",
    "        elif X.ndim in [1, 2]:\n",
    "            # 2D array, or 1D array of iterables: flatten them first.\n",
    "            return [np.reshape(x, -1) for x in X]\n",
    "        else:\n",
    "            raise ValueError(f'{name} must have 2 or fewer dimensions')\n",
    "\n",
    "    # Iterate over list of iterables.\n",
    "    if len(X) == 0:\n",
    "        return [[]]\n",
    "\n",
    "    result = []\n",
    "    is_1d = True\n",
    "    for xi in X:\n",
    "        # check if this is iterable, except for strings which we\n",
    "        # treat as singletons.\n",
    "        if (isinstance(xi, collections.abc.Iterable) and\n",
    "                not isinstance(xi, str)):\n",
    "            is_1d = False\n",
    "        xi = np.asanyarray(xi)\n",
    "        nd = np.ndim(xi)\n",
    "        if nd > 1:\n",
    "            raise ValueError(f'{name} must have 2 or fewer dimensions')\n",
    "        result.append(xi.reshape(-1))\n",
    "\n",
    "    if is_1d:\n",
    "        # 1D array of scalars: directly return it.\n",
    "        return [np.reshape(result, -1)]\n",
    "    else:\n",
    "        # 2D array, or 1D array of iterables: use flattened version.\n",
    "        return result\n",
    "```"
   ]
  },
  {
   "cell_type": "code",
   "execution_count": 1,
   "metadata": {},
   "outputs": [],
   "source": [
    "import matplotlib.pyplot as plt\n",
    "from physipy import units, m, K, setup_matplotlib\n",
    "from matplotlib import cbook\n",
    "import numpy as np"
   ]
  },
  {
   "cell_type": "code",
   "execution_count": 2,
   "metadata": {},
   "outputs": [],
   "source": [
    "arr = np.random.normal(1, 0.1, size=100)*m\n",
    "setup_matplotlib()"
   ]
  },
  {
   "cell_type": "code",
   "execution_count": 3,
   "metadata": {},
   "outputs": [
    {
     "name": "stdout",
     "output_type": "stream",
     "text": [
      "in getattr with to_numpy\n",
      "in getattr with values\n",
      "in getattr with __array_struct__\n",
      "in getattr with __array_struct__\n",
      "in getattr with __array_struct__\n",
      "in getattr with __array_struct__\n",
      "in getattr with __array_struct__\n",
      "in getattr with __array_struct__\n",
      "in getattr with __array_struct__\n",
      "in getattr with __array_struct__\n",
      "in getattr with __array_struct__\n",
      "in getattr with __array_struct__\n",
      "in getattr with __array_struct__\n",
      "in getattr with __array_struct__\n",
      "in getattr with __array_struct__\n",
      "in getattr with __array_struct__\n",
      "in getattr with __array_struct__\n",
      "in getattr with __array_struct__\n",
      "in getattr with __array_struct__\n",
      "in getattr with __array_struct__\n",
      "in getattr with __array_struct__\n",
      "in getattr with __array_struct__\n",
      "in getattr with __array_struct__\n",
      "in getattr with __array_struct__\n",
      "in getattr with __array_struct__\n",
      "in getattr with __array_struct__\n",
      "in getattr with __array_struct__\n",
      "in getattr with __array_struct__\n",
      "in getattr with __array_struct__\n",
      "in getattr with __array_struct__\n",
      "in getattr with __array_struct__\n",
      "in getattr with __array_struct__\n",
      "in getattr with __array_struct__\n",
      "in getattr with __array_struct__\n",
      "in getattr with __array_struct__\n",
      "in getattr with __array_struct__\n",
      "in getattr with __array_struct__\n",
      "in getattr with __array_struct__\n",
      "in getattr with __array_struct__\n",
      "in getattr with __array_struct__\n",
      "in getattr with __array_struct__\n",
      "in getattr with __array_struct__\n",
      "in getattr with __array_struct__\n",
      "in getattr with __array_struct__\n",
      "in getattr with __array_struct__\n",
      "in getattr with __array_struct__\n",
      "in getattr with __array_struct__\n",
      "in getattr with __array_struct__\n",
      "in getattr with __array_struct__\n",
      "in getattr with __array_struct__\n",
      "in getattr with __array_struct__\n",
      "in getattr with __array_struct__\n",
      "in getattr with __array_struct__\n",
      "in getattr with __array_struct__\n",
      "in getattr with __array_struct__\n",
      "in getattr with __array_struct__\n",
      "in getattr with __array_struct__\n",
      "in getattr with __array_struct__\n",
      "in getattr with __array_struct__\n",
      "in getattr with __array_struct__\n",
      "in getattr with __array_struct__\n",
      "in getattr with __array_struct__\n",
      "in getattr with __array_struct__\n",
      "in getattr with __array_struct__\n",
      "in getattr with __array_struct__\n",
      "in getattr with __array_struct__\n",
      "in getattr with __array_struct__\n",
      "in getattr with __array_struct__\n",
      "in getattr with __array_struct__\n",
      "in getattr with __array_struct__\n",
      "in getattr with __array_struct__\n",
      "in getattr with __array_struct__\n",
      "in getattr with __array_struct__\n",
      "in getattr with __array_struct__\n",
      "in getattr with __array_struct__\n",
      "in getattr with __array_struct__\n",
      "in getattr with __array_struct__\n",
      "in getattr with __array_struct__\n",
      "in getattr with __array_struct__\n",
      "in getattr with __array_struct__\n",
      "in getattr with __array_struct__\n",
      "in getattr with __array_struct__\n",
      "in getattr with __array_struct__\n",
      "in getattr with __array_struct__\n",
      "in getattr with __array_struct__\n",
      "in getattr with __array_struct__\n",
      "in getattr with __array_struct__\n",
      "in getattr with __array_struct__\n",
      "in getattr with __array_struct__\n",
      "in getattr with __array_struct__\n",
      "in getattr with __array_struct__\n",
      "in getattr with __array_struct__\n",
      "in getattr with __array_struct__\n",
      "in getattr with __array_struct__\n",
      "in getattr with __array_struct__\n",
      "in getattr with __array_struct__\n",
      "in getattr with __array_struct__\n",
      "in getattr with __array_struct__\n",
      "in getattr with __array_struct__\n",
      "in getattr with __array_struct__\n",
      "in getattr with __array_struct__\n",
      "in getattr with __array_struct__\n"
     ]
    },
    {
     "name": "stderr",
     "output_type": "stream",
     "text": [
      "/Users/mocquin/MYLIB10/MODULES/physipy/physipy/quantity/quantity.py:665: UserWarning: The unit of the quantity is stripped.\n",
      "  warnings.warn(\"The unit of the quantity is stripped.\")\n"
     ]
    },
    {
     "data": {
      "text/plain": [
       "(array([ 2.,  4., 14., 15., 23., 17., 19.,  3.,  1.,  2.]),\n",
       " array([0.75893981, 0.8151845 , 0.87142919, 0.92767388, 0.98391857,\n",
       "        1.04016326, 1.09640795, 1.15265264, 1.20889733, 1.26514202,\n",
       "        1.32138671]),\n",
       " <BarContainer object of 10 artists>)"
      ]
     },
     "execution_count": 3,
     "metadata": {},
     "output_type": "execute_result"
    },
    {
     "data": {
      "image/png": "[encoded data removed]",
      "text/plain": [
       "<Figure size 432x288 with 1 Axes>"
      ]
     },
     "metadata": {
      "needs_background": "light"
     },
     "output_type": "display_data"
    }
   ],
   "source": [
    "plt.hist(arr)"
   ]
  },
  {
   "cell_type": "markdown",
   "metadata": {},
   "source": [
    "I created a [unit package for physical computation](https://github.com/mocquin/physipy) and its [matplotlib' unit interface](https://github.com/mocquin/physipy/blob/master/physipy/quantity/plot.py) that works well for plotting with `Axes` methods like `ax.plot`, as you can see in the [plotting notebooke demo](https://github.com/mocquin/physipy/blob/master/docs/Plotting.ipynb).\n",
    "The issue I am facing is to have the unit interface work with the histogram plotting, like in `ax.hist(arr)`.\n",
    "\n",
    "For now, I have 2 solutions that are not satisfiying : \n",
    " - first solution is the current state of my project : I added to my `Quantity` object a `to_numpy()` method that cast the instance into a plain numpy array, which makes the histogram plotting work, but looses the automatic unit plotting, since it is not a Quantity anymore but a plain numpy array. For some reasons, this method is never used when plotting with `ax.plot`, but is one of the first things tried when using `ax.hist`.\n",
    " - other solution is what I had until recently, which was even worse : without the `to_numpy()` method, matplotlib tries to loop inside the object, and since my object can be iterated over (if it is a 1D array for eg), then it plots one 1-element-histogram for each value. You can see what it looked like [here](https://render.githubusercontent.com/view/ipynb?color_mode=light&commit=f0871009f57da092eee1d640d9508070d1662c1d&enc_url=68747470733a2f2f7261772e67697468756275736572636f6e74656e742e636f6d2f6d6f637175696e2f706879736970792f663038373130303966353764613039326565653164363430643935303830373064313636326331642f646f63732f4b6e6f776e2532304973737565732e6970796e62&nwo=mocquin%2Fphysipy&path=docs%2FKnown+Issues.ipynb&repository_id=175999533&repository_type=Repository#Matplotlib-histogram) (see the Matplotlib histogram section).\n",
    "\n",
    "After digging into the source code, I found that some preprocessing is done the object passed to `hist`, using [cbook._reshape2d](https://github.com/matplotlib/matplotlib/blob/6f92db0fc6aad8dfcdb197202b969a01e4391fde/lib/matplotlib/axes/_axes.py#L6654). Then, onto [`cbook._reshape2D` source](https://github.com/matplotlib/matplotlib/blob/6f92db0fc6aad8dfcdb197202b969a01e4391fde/lib/matplotlib/cbook/__init__.py#L1304), I think most of the time objects are subclass of `np.ndarray`, and so are caught [in this loop](https://github.com/matplotlib/matplotlib/blob/6f92db0fc6aad8dfcdb197202b969a01e4391fde/lib/matplotlib/cbook/__init__.py#L1327). But my class is not a subclass of `np.ndarray`, so it ends up [in this loop](https://github.com/matplotlib/matplotlib/blob/6f92db0fc6aad8dfcdb197202b969a01e4391fde/lib/matplotlib/cbook/__init__.py#L1347). Then `np.asanyarray(xi)` is called and cast each quantity element (like `1m` into just `1`) into an int/float, again loosing the unit. Now the workaround for this kind of problem is currently addressed by numpy's [NEP-35](https://numpy.org/neps/nep-0035-array-creation-dispatch-with-array-function.html), which allows to override array-creation functions (like `np.asanyarray`), but it requires to pass an extra argument : `np.asanyarray(x)` would be `np.asanyarray(x, like=x)`. Unfortunately, this doesn't solve completely the problem, because the `xi` object are reshaped using `xi.reshape` and not `np.reshape(xi)`."
   ]
  },
  {
   "cell_type": "code",
   "execution_count": 4,
   "metadata": {},
   "outputs": [
    {
     "name": "stdout",
     "output_type": "stream",
     "text": [
      "0 m\n",
      "in self.reshape\n",
      "[0] m\n",
      "in self.reshape\n",
      "1 m\n",
      "in self.reshape\n",
      "[1] m\n",
      "in self.reshape\n",
      "2 m\n",
      "in self.reshape\n",
      "[2] m\n",
      "in self.reshape\n",
      "3 m\n",
      "in self.reshape\n",
      "[3] m\n",
      "in self.reshape\n",
      "4 m\n",
      "in self.reshape\n",
      "[4] m\n",
      "in self.reshape\n",
      "5 m\n",
      "in self.reshape\n",
      "[5] m\n",
      "in self.reshape\n",
      "6 m\n",
      "in self.reshape\n",
      "[6] m\n",
      "in self.reshape\n",
      "7 m\n",
      "in self.reshape\n",
      "[7] m\n",
      "in self.reshape\n",
      "8 m\n",
      "in self.reshape\n",
      "[8] m\n",
      "in self.reshape\n",
      "9 m\n",
      "in self.reshape\n",
      "[9] m\n",
      "in self.reshape\n",
      "True\n",
      "in getattr with __array_struct__\n",
      "in getattr with __array_struct__\n",
      "in getattr with __array_struct__\n",
      "in getattr with __array_struct__\n",
      "in getattr with __array_struct__\n",
      "in getattr with __array_struct__\n",
      "in getattr with __array_struct__\n",
      "in getattr with __array_struct__\n",
      "in getattr with __array_struct__\n",
      "in getattr with __array_struct__\n",
      "[array([0, 1, 2, 3, 4, 5, 6, 7, 8, 9])]\n"
     ]
    }
   ],
   "source": [
    "import collections\n",
    "import numpy as np\n",
    "from physipy import m\n",
    "\n",
    "# make a 1D array of meters\n",
    "X = np.arange(10)*m\n",
    "\n",
    "# introspect https://github.com/matplotlib/matplotlib/blob/6f92db0fc6aad8dfcdb197202b969a01e4391fde/lib/matplotlib/cbook/__init__.py#L1347 \n",
    "result = []\n",
    "is_1d = True\n",
    "for xi in X:\n",
    "    # check if this is iterable, except for strings which we\n",
    "    # treat as singletons.\n",
    "    if (isinstance(xi, collections.abc.Iterable) and\n",
    "             not isinstance(xi, str)):\n",
    "        is_1d = False\n",
    "    #xi = np.asanyarray(xi)\n",
    "    print(xi)\n",
    "    xi = np.asanyarray(xi, like=xi)\n",
    "    nd = np.ndim(xi)\n",
    "    print(xi.reshape(-1))\n",
    "    if nd > 1:\n",
    "        raise ValueError(f'{name} must have 2 or fewer dimensions')\n",
    "    result.append(xi.reshape(-1))\n",
    "\n",
    "print(is_1d)\n",
    "if is_1d:\n",
    "    # 1D array of scalars: directly return it.\n",
    "    #return \n",
    "    print([np.reshape(result, -1)])\n",
    "else:\n",
    "    # 2D array, or 1D array of iterables: use flattened version.\n",
    "    #return \n",
    "    print(result)"
   ]
  },
  {
   "cell_type": "code",
   "execution_count": 5,
   "metadata": {},
   "outputs": [
    {
     "data": {
      "text/plain": [
       "[<Quantity : [0] m>,\n",
       " <Quantity : [1] m>,\n",
       " <Quantity : [2] m>,\n",
       " <Quantity : [3] m>,\n",
       " <Quantity : [4] m>,\n",
       " <Quantity : [5] m>,\n",
       " <Quantity : [6] m>,\n",
       " <Quantity : [7] m>,\n",
       " <Quantity : [8] m>,\n",
       " <Quantity : [9] m>]"
      ]
     },
     "execution_count": 5,
     "metadata": {},
     "output_type": "execute_result"
    }
   ],
   "source": [
    "result"
   ]
  },
  {
   "cell_type": "code",
   "execution_count": 6,
   "metadata": {},
   "outputs": [
    {
     "name": "stdout",
     "output_type": "stream",
     "text": [
      "in getattr with __array_struct__\n",
      "in getattr with __array_struct__\n",
      "in getattr with __array_struct__\n",
      "in getattr with __array_struct__\n",
      "in getattr with __array_struct__\n",
      "in getattr with __array_struct__\n",
      "in getattr with __array_struct__\n",
      "in getattr with __array_struct__\n",
      "in getattr with __array_struct__\n",
      "in getattr with __array_struct__\n"
     ]
    },
    {
     "data": {
      "text/plain": [
       "array([0, 1, 2, 3, 4, 5, 6, 7, 8, 9])"
      ]
     },
     "execution_count": 6,
     "metadata": {},
     "output_type": "execute_result"
    }
   ],
   "source": [
    "np.reshape(result, -1)"
   ]
  },
  {
   "cell_type": "code",
   "execution_count": 6,
   "metadata": {},
   "outputs": [
    {
     "data": {
      "text/plain": [
       "array([0, 1, 2, 3, 4, 5, 6, 7, 8, 9])"
      ]
     },
     "execution_count": 6,
     "metadata": {},
     "output_type": "execute_result"
    }
   ],
   "source": [
    "np.reshape(result, -1)"
   ]
  },
  {
   "cell_type": "code",
   "execution_count": 12,
   "metadata": {},
   "outputs": [
    {
     "data": {
      "text/plain": [
       "\u001b[0;31mSignature:\u001b[0m \u001b[0mnp\u001b[0m\u001b[0;34m.\u001b[0m\u001b[0mreshape\u001b[0m\u001b[0;34m(\u001b[0m\u001b[0ma\u001b[0m\u001b[0;34m,\u001b[0m \u001b[0mnewshape\u001b[0m\u001b[0;34m,\u001b[0m \u001b[0morder\u001b[0m\u001b[0;34m=\u001b[0m\u001b[0;34m'C'\u001b[0m\u001b[0;34m)\u001b[0m\u001b[0;34m\u001b[0m\u001b[0;34m\u001b[0m\u001b[0m\n",
       "\u001b[0;31mSource:\u001b[0m   \n",
       "\u001b[0;34m@\u001b[0m\u001b[0marray_function_dispatch\u001b[0m\u001b[0;34m(\u001b[0m\u001b[0m_reshape_dispatcher\u001b[0m\u001b[0;34m)\u001b[0m\u001b[0;34m\u001b[0m\n",
       "\u001b[0;34m\u001b[0m\u001b[0;32mdef\u001b[0m \u001b[0mreshape\u001b[0m\u001b[0;34m(\u001b[0m\u001b[0ma\u001b[0m\u001b[0;34m,\u001b[0m \u001b[0mnewshape\u001b[0m\u001b[0;34m,\u001b[0m \u001b[0morder\u001b[0m\u001b[0;34m=\u001b[0m\u001b[0;34m'C'\u001b[0m\u001b[0;34m)\u001b[0m\u001b[0;34m:\u001b[0m\u001b[0;34m\u001b[0m\n",
       "\u001b[0;34m\u001b[0m    \u001b[0;34m\"\"\"\u001b[0m\n",
       "\u001b[0;34m    Gives a new shape to an array without changing its data.\u001b[0m\n",
       "\u001b[0;34m\u001b[0m\n",
       "\u001b[0;34m    Parameters\u001b[0m\n",
       "\u001b[0;34m    ----------\u001b[0m\n",
       "\u001b[0;34m    a : array_like\u001b[0m\n",
       "\u001b[0;34m        Array to be reshaped.\u001b[0m\n",
       "\u001b[0;34m    newshape : int or tuple of ints\u001b[0m\n",
       "\u001b[0;34m        The new shape should be compatible with the original shape. If\u001b[0m\n",
       "\u001b[0;34m        an integer, then the result will be a 1-D array of that length.\u001b[0m\n",
       "\u001b[0;34m        One shape dimension can be -1. In this case, the value is\u001b[0m\n",
       "\u001b[0;34m        inferred from the length of the array and remaining dimensions.\u001b[0m\n",
       "\u001b[0;34m    order : {'C', 'F', 'A'}, optional\u001b[0m\n",
       "\u001b[0;34m        Read the elements of `a` using this index order, and place the\u001b[0m\n",
       "\u001b[0;34m        elements into the reshaped array using this index order.  'C'\u001b[0m\n",
       "\u001b[0;34m        means to read / write the elements using C-like index order,\u001b[0m\n",
       "\u001b[0;34m        with the last axis index changing fastest, back to the first\u001b[0m\n",
       "\u001b[0;34m        axis index changing slowest. 'F' means to read / write the\u001b[0m\n",
       "\u001b[0;34m        elements using Fortran-like index order, with the first index\u001b[0m\n",
       "\u001b[0;34m        changing fastest, and the last index changing slowest. Note that\u001b[0m\n",
       "\u001b[0;34m        the 'C' and 'F' options take no account of the memory layout of\u001b[0m\n",
       "\u001b[0;34m        the underlying array, and only refer to the order of indexing.\u001b[0m\n",
       "\u001b[0;34m        'A' means to read / write the elements in Fortran-like index\u001b[0m\n",
       "\u001b[0;34m        order if `a` is Fortran *contiguous* in memory, C-like order\u001b[0m\n",
       "\u001b[0;34m        otherwise.\u001b[0m\n",
       "\u001b[0;34m\u001b[0m\n",
       "\u001b[0;34m    Returns\u001b[0m\n",
       "\u001b[0;34m    -------\u001b[0m\n",
       "\u001b[0;34m    reshaped_array : ndarray\u001b[0m\n",
       "\u001b[0;34m        This will be a new view object if possible; otherwise, it will\u001b[0m\n",
       "\u001b[0;34m        be a copy.  Note there is no guarantee of the *memory layout* (C- or\u001b[0m\n",
       "\u001b[0;34m        Fortran- contiguous) of the returned array.\u001b[0m\n",
       "\u001b[0;34m\u001b[0m\n",
       "\u001b[0;34m    See Also\u001b[0m\n",
       "\u001b[0;34m    --------\u001b[0m\n",
       "\u001b[0;34m    ndarray.reshape : Equivalent method.\u001b[0m\n",
       "\u001b[0;34m\u001b[0m\n",
       "\u001b[0;34m    Notes\u001b[0m\n",
       "\u001b[0;34m    -----\u001b[0m\n",
       "\u001b[0;34m    It is not always possible to change the shape of an array without\u001b[0m\n",
       "\u001b[0;34m    copying the data. If you want an error to be raised when the data is copied,\u001b[0m\n",
       "\u001b[0;34m    you should assign the new shape to the shape attribute of the array::\u001b[0m\n",
       "\u001b[0;34m\u001b[0m\n",
       "\u001b[0;34m     >>> a = np.zeros((10, 2))\u001b[0m\n",
       "\u001b[0;34m\u001b[0m\n",
       "\u001b[0;34m     # A transpose makes the array non-contiguous\u001b[0m\n",
       "\u001b[0;34m     >>> b = a.T\u001b[0m\n",
       "\u001b[0;34m\u001b[0m\n",
       "\u001b[0;34m     # Taking a view makes it possible to modify the shape without modifying\u001b[0m\n",
       "\u001b[0;34m     # the initial object.\u001b[0m\n",
       "\u001b[0;34m     >>> c = b.view()\u001b[0m\n",
       "\u001b[0;34m     >>> c.shape = (20)\u001b[0m\n",
       "\u001b[0;34m     Traceback (most recent call last):\u001b[0m\n",
       "\u001b[0;34m        ...\u001b[0m\n",
       "\u001b[0;34m     AttributeError: Incompatible shape for in-place modification. Use\u001b[0m\n",
       "\u001b[0;34m     `.reshape()` to make a copy with the desired shape.\u001b[0m\n",
       "\u001b[0;34m\u001b[0m\n",
       "\u001b[0;34m    The `order` keyword gives the index ordering both for *fetching* the values\u001b[0m\n",
       "\u001b[0;34m    from `a`, and then *placing* the values into the output array.\u001b[0m\n",
       "\u001b[0;34m    For example, let's say you have an array:\u001b[0m\n",
       "\u001b[0;34m\u001b[0m\n",
       "\u001b[0;34m    >>> a = np.arange(6).reshape((3, 2))\u001b[0m\n",
       "\u001b[0;34m    >>> a\u001b[0m\n",
       "\u001b[0;34m    array([[0, 1],\u001b[0m\n",
       "\u001b[0;34m           [2, 3],\u001b[0m\n",
       "\u001b[0;34m           [4, 5]])\u001b[0m\n",
       "\u001b[0;34m\u001b[0m\n",
       "\u001b[0;34m    You can think of reshaping as first raveling the array (using the given\u001b[0m\n",
       "\u001b[0;34m    index order), then inserting the elements from the raveled array into the\u001b[0m\n",
       "\u001b[0;34m    new array using the same kind of index ordering as was used for the\u001b[0m\n",
       "\u001b[0;34m    raveling.\u001b[0m\n",
       "\u001b[0;34m\u001b[0m\n",
       "\u001b[0;34m    >>> np.reshape(a, (2, 3)) # C-like index ordering\u001b[0m\n",
       "\u001b[0;34m    array([[0, 1, 2],\u001b[0m\n",
       "\u001b[0;34m           [3, 4, 5]])\u001b[0m\n",
       "\u001b[0;34m    >>> np.reshape(np.ravel(a), (2, 3)) # equivalent to C ravel then C reshape\u001b[0m\n",
       "\u001b[0;34m    array([[0, 1, 2],\u001b[0m\n",
       "\u001b[0;34m           [3, 4, 5]])\u001b[0m\n",
       "\u001b[0;34m    >>> np.reshape(a, (2, 3), order='F') # Fortran-like index ordering\u001b[0m\n",
       "\u001b[0;34m    array([[0, 4, 3],\u001b[0m\n",
       "\u001b[0;34m           [2, 1, 5]])\u001b[0m\n",
       "\u001b[0;34m    >>> np.reshape(np.ravel(a, order='F'), (2, 3), order='F')\u001b[0m\n",
       "\u001b[0;34m    array([[0, 4, 3],\u001b[0m\n",
       "\u001b[0;34m           [2, 1, 5]])\u001b[0m\n",
       "\u001b[0;34m\u001b[0m\n",
       "\u001b[0;34m    Examples\u001b[0m\n",
       "\u001b[0;34m    --------\u001b[0m\n",
       "\u001b[0;34m    >>> a = np.array([[1,2,3], [4,5,6]])\u001b[0m\n",
       "\u001b[0;34m    >>> np.reshape(a, 6)\u001b[0m\n",
       "\u001b[0;34m    array([1, 2, 3, 4, 5, 6])\u001b[0m\n",
       "\u001b[0;34m    >>> np.reshape(a, 6, order='F')\u001b[0m\n",
       "\u001b[0;34m    array([1, 4, 2, 5, 3, 6])\u001b[0m\n",
       "\u001b[0;34m\u001b[0m\n",
       "\u001b[0;34m    >>> np.reshape(a, (3,-1))       # the unspecified value is inferred to be 2\u001b[0m\n",
       "\u001b[0;34m    array([[1, 2],\u001b[0m\n",
       "\u001b[0;34m           [3, 4],\u001b[0m\n",
       "\u001b[0;34m           [5, 6]])\u001b[0m\n",
       "\u001b[0;34m    \"\"\"\u001b[0m\u001b[0;34m\u001b[0m\n",
       "\u001b[0;34m\u001b[0m    \u001b[0;32mreturn\u001b[0m \u001b[0m_wrapfunc\u001b[0m\u001b[0;34m(\u001b[0m\u001b[0ma\u001b[0m\u001b[0;34m,\u001b[0m \u001b[0;34m'reshape'\u001b[0m\u001b[0;34m,\u001b[0m \u001b[0mnewshape\u001b[0m\u001b[0;34m,\u001b[0m \u001b[0morder\u001b[0m\u001b[0;34m=\u001b[0m\u001b[0morder\u001b[0m\u001b[0;34m)\u001b[0m\u001b[0;34m\u001b[0m\u001b[0;34m\u001b[0m\u001b[0m\n",
       "\u001b[0;31mFile:\u001b[0m      /opt/anaconda3/lib/python3.8/site-packages/numpy/core/fromnumeric.py\n",
       "\u001b[0;31mType:\u001b[0m      function\n"
      ]
     },
     "metadata": {},
     "output_type": "display_data"
    }
   ],
   "source": [
    "a = np.arange(10)\n",
    "np.reshape??"
   ]
  },
  {
   "cell_type": "code",
   "execution_count": null,
   "metadata": {},
   "outputs": [],
   "source": [
    "np.arange(10).reshape"
   ]
  },
  {
   "cell_type": "code",
   "execution_count": 6,
   "metadata": {},
   "outputs": [
    {
     "data": {
      "text/plain": [
       "[array([0]),\n",
       " array([1]),\n",
       " array([2]),\n",
       " array([3]),\n",
       " array([4]),\n",
       " array([5]),\n",
       " array([6]),\n",
       " array([7]),\n",
       " array([8]),\n",
       " array([9])]"
      ]
     },
     "execution_count": 6,
     "metadata": {},
     "output_type": "execute_result"
    }
   ],
   "source": [
    "result"
   ]
  },
  {
   "cell_type": "code",
   "execution_count": null,
   "metadata": {},
   "outputs": [],
   "source": [
    "xi.reshape()"
   ]
  },
  {
   "cell_type": "code",
   "execution_count": null,
   "metadata": {},
   "outputs": [],
   "source": []
  },
  {
   "cell_type": "code",
   "execution_count": 7,
   "metadata": {},
   "outputs": [
    {
     "data": {
      "text/latex": [
       "[0.9463478  0.9438905  0.97411141 0.96329336 0.97757122 1.00642157\n",
       " 0.8175251  0.9620593  1.03309891 0.91774414 1.01046711 0.84222341\n",
       " 0.76280358 0.80318198 0.95512055 0.98088273 1.00456825 0.85717486\n",
       " 0.92862756 0.88714465 0.96285534 0.91033862 1.1071254  0.88319062\n",
       " 0.99723527 0.93880874 0.98613935 1.03329835 1.07049196 1.20238538\n",
       " 0.96763163 0.88151642 0.95402293 0.87588317 0.93859675 1.06920658\n",
       " 0.91094635 0.92068012 0.9651232  1.0671617  1.0554322  1.13256168\n",
       " 1.00486043 0.7733282  0.91413642 0.85151255 1.08283828 1.07125764\n",
       " 0.96879501 1.17933369 0.89332588 1.02282058 1.08732608 0.8616861\n",
       " 0.82418938 1.05777278 0.98479597 0.97814537 1.04471629 1.12775214\n",
       " 0.97514038 0.931571   1.00120676 1.06338876 0.90563185 1.0386993\n",
       " 0.99562018 0.89719344 1.03430408 0.97683513 0.9848345  1.13409085\n",
       " 0.85806178 0.99821617 1.17147562 1.02364524 1.07040713 0.95858578\n",
       " 0.85698075 1.05697874 1.00542646 0.83752168 1.14469023 0.85615284\n",
       " 1.08006109 0.89749752 0.89890991 1.01664302 0.99634655 0.91621777\n",
       " 0.8548996  0.8265041  1.0639006  1.04989934 1.06251925 0.92170134\n",
       " 0.95741326 0.93446121 0.96802845 1.12268323]$\\,m$"
      ],
      "text/plain": [
       "<Quantity : [0.9463478  0.9438905  0.97411141 0.96329336 0.97757122 1.00642157\n",
       " 0.8175251  0.9620593  1.03309891 0.91774414 1.01046711 0.84222341\n",
       " 0.76280358 0.80318198 0.95512055 0.98088273 1.00456825 0.85717486\n",
       " 0.92862756 0.88714465 0.96285534 0.91033862 1.1071254  0.88319062\n",
       " 0.99723527 0.93880874 0.98613935 1.03329835 1.07049196 1.20238538\n",
       " 0.96763163 0.88151642 0.95402293 0.87588317 0.93859675 1.06920658\n",
       " 0.91094635 0.92068012 0.9651232  1.0671617  1.0554322  1.13256168\n",
       " 1.00486043 0.7733282  0.91413642 0.85151255 1.08283828 1.07125764\n",
       " 0.96879501 1.17933369 0.89332588 1.02282058 1.08732608 0.8616861\n",
       " 0.82418938 1.05777278 0.98479597 0.97814537 1.04471629 1.12775214\n",
       " 0.97514038 0.931571   1.00120676 1.06338876 0.90563185 1.0386993\n",
       " 0.99562018 0.89719344 1.03430408 0.97683513 0.9848345  1.13409085\n",
       " 0.85806178 0.99821617 1.17147562 1.02364524 1.07040713 0.95858578\n",
       " 0.85698075 1.05697874 1.00542646 0.83752168 1.14469023 0.85615284\n",
       " 1.08006109 0.89749752 0.89890991 1.01664302 0.99634655 0.91621777\n",
       " 0.8548996  0.8265041  1.0639006  1.04989934 1.06251925 0.92170134\n",
       " 0.95741326 0.93446121 0.96802845 1.12268323] m>"
      ]
     },
     "execution_count": 7,
     "metadata": {},
     "output_type": "execute_result"
    }
   ],
   "source": [
    "np.asanyarray(arr, like=arr)"
   ]
  },
  {
   "cell_type": "code",
   "execution_count": null,
   "metadata": {},
   "outputs": [],
   "source": []
  }
 ],
 "metadata": {
  "kernelspec": {
   "display_name": "Python 3",
   "language": "python",
   "name": "python3"
  },
  "language_info": {
   "codemirror_mode": {
    "name": "ipython",
    "version": 3
   },
   "file_extension": ".py",
   "mimetype": "text/x-python",
   "name": "python",
   "nbconvert_exporter": "python",
   "pygments_lexer": "ipython3",
   "version": "3.8.5"
  }
 },
 "nbformat": 4,
 "nbformat_minor": 4
}
