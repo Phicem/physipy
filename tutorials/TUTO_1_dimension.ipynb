{
 "cells": [
  {
   "cell_type": "code",
   "execution_count": 1,
   "metadata": {},
   "outputs": [],
   "source": [
    "import os\n",
    "os.sys.path.append(\"/Users/mocquin/MYLIB10/MODULES/physipy/tests\")\n",
    "os.sys.path.append(\"/Users/mocquin/MYLIB10/MODULES/physipy/\")"
   ]
  },
  {
   "cell_type": "markdown",
   "metadata": {
    "toc": "true"
   },
   "source": [
    "This [Jupyter](http://jupyter.org/) notebook is an introduction to the dimension module of the [physipy](https://github.com/mocquin/physipy) package.  \n",
    "This module is located in [https://github.com/mocquin/physipy/blob/master/physipy/quantity/dimension.py](https://github.com/mocquin/physipy/blob/master/physipy/quantity/dimension.py)."
   ]
  },
  {
   "cell_type": "markdown",
   "metadata": {
    "toc": "true",
    "toc-hr-collapsed": true
   },
   "source": [
    "# Introduction to physical dimensions : A bit of physics"
   ]
  },
  {
   "cell_type": "markdown",
   "metadata": {
    "toc": "true"
   },
   "source": [
    "\n",
    "According to [Wikipedia](https://en.wikipedia.org/wiki/Dimensional_analysis) : \n",
    "\n",
    "> The dimension of a physical quantity can be expressed as a product of the basic physical dimensions such as length, mass and time, each raised to a rational power. [...] There are many possible choices of basic physical dimensions. The SI standard recommends the usage of the following dimensions and corresponding symbols: length (L), mass (M), time (T), electric current (I), absolute temperature (Θ), amount of substance (N) and luminous intensity (J). \n",
    "\n",
    "Still according to [Wikipedia](https://en.wikipedia.org/wiki/Dimensional_analysis) :\n",
    "\n",
    "> Mathematically, the dimension of the quantity Q is given by \n",
    "$$ \\text{dim}{Q} = \\mathsf{L}^a\\mathsf{M}^b\\mathsf{T}^c\\mathsf{I}^d\\mathsf{\\Theta}^e\\mathsf{N}^f\\mathsf{J}^g $$\n",
    "where a, b, c, d, e, f, g are the dimensional exponents."
   ]
  },
  {
   "cell_type": "markdown",
   "metadata": {},
   "source": [
    "# The dimension module"
   ]
  },
  {
   "cell_type": "markdown",
   "metadata": {},
   "source": [
    "An implementation of these physical dimensions can be found in the [physipy](https://github.com/mocquin/physipy) package, in the [dimension module](https://github.com/mocquin/physipy/blob/master/physipy/quantity/dimension.py](https://github.com/mocquin/physipy/blob/master/physipy/quantity/dimension.py).\n",
    "It really only consists on a base-dictionnary that sets the dimensions handled, and a Dimension class to handle all the computations."
   ]
  },
  {
   "cell_type": "markdown",
   "metadata": {
    "toc": "true"
   },
   "source": [
    "## Dimension object in the dimension module\n",
    "\n",
    "In this module, a dimension is described with the association of a list of the dimensions symbols, and a corresponding exponent, through a dictionnary.\n",
    "Everything is based on the python dictionnary ```SI_UNIT_SYMBOL``` : "
   ]
  },
  {
   "cell_type": "code",
   "execution_count": 2,
   "metadata": {},
   "outputs": [],
   "source": [
    "from physipy.quantity.dimension import SI_UNIT_SYMBOL"
   ]
  },
  {
   "cell_type": "code",
   "execution_count": 3,
   "metadata": {},
   "outputs": [
    {
     "name": "stdout",
     "output_type": "stream",
     "text": [
      "['L', 'M', 'T', 'I', 'theta', 'N', 'J', 'RAD', 'SR']\n"
     ]
    }
   ],
   "source": [
    "print(list(SI_UNIT_SYMBOL.keys()))"
   ]
  },
  {
   "cell_type": "markdown",
   "metadata": {},
   "source": [
    "The keys of that dictionnary are the dimensions of SI."
   ]
  },
  {
   "cell_type": "markdown",
   "metadata": {
    "toc": "true"
   },
   "source": [
    "For example, the *Lenght* dimension is represented by the following dictonnary :\n",
    "```python\n",
    "{'L': 1, 'M': 0, 'T': 0, 'I': 0, 'Θ': 0, 'N': 0, 'J': 0}\n",
    "```\n",
    "For further dimension analysis, the Radian and Steradian dimensions were added :\n",
    "```python\n",
    "{'L': 1, 'M': 0, 'T': 0, 'I': 0, 'Θ': 0, 'N': 0, 'J': 0, 'RAD': 0, 'SR': 0}\n",
    "```"
   ]
  },
  {
   "cell_type": "markdown",
   "metadata": {
    "toc-hr-collapsed": true
   },
   "source": [
    "# Using the Dimension class\n",
    "\n",
    "A Dimension object is describe by a dictionnary called \"dim_dict\", which of the keys are the dimension named as SI-units, and the associated value the power of the dimensions.\n",
    "\n",
    "The allowed dimensions are listed in the \"SI_SYMBOL_LIST\" list."
   ]
  },
  {
   "cell_type": "markdown",
   "metadata": {},
   "source": [
    "## Imports"
   ]
  },
  {
   "cell_type": "code",
   "execution_count": 4,
   "metadata": {},
   "outputs": [],
   "source": [
    "from physipy.quantity.dimension import Dimension"
   ]
  },
  {
   "cell_type": "markdown",
   "metadata": {},
   "source": [
    "## List of SI symbols\n",
    "The SI symbols are \"L\" for a length, \"M\" for a mass, \"T\" for a time, \"I\" for an electric current, \"theta\" for a temperature, \"N\" for an amount of substance, and \"J\" for a luminous intensity. \"RAD\" and \"SR\", for plane angle and solid angle, were added for convenience."
   ]
  },
  {
   "cell_type": "code",
   "execution_count": 5,
   "metadata": {},
   "outputs": [
    {
     "data": {
      "text/plain": [
       "{'L': 'm',\n",
       " 'M': 'kg',\n",
       " 'T': 's',\n",
       " 'I': 'A',\n",
       " 'theta': 'K',\n",
       " 'N': 'mol',\n",
       " 'J': 'cd',\n",
       " 'RAD': 'rad',\n",
       " 'SR': 'sr'}"
      ]
     },
     "execution_count": 5,
     "metadata": {},
     "output_type": "execute_result"
    }
   ],
   "source": [
    "SI_UNIT_SYMBOL"
   ]
  },
  {
   "cell_type": "markdown",
   "metadata": {},
   "source": [
    "## Creating dimension from constructor\n",
    "It is possible to create a Dimension object with the \\_\\_init\\_\\_ method with 3 possible definition value :\n",
    " - with None\n",
    " - with a string among the SI_SYMBOL_LIST list\n",
    " - with a dictionnary whose keys are contained in the SI_SYMBOL_LIST list"
   ]
  },
  {
   "cell_type": "code",
   "execution_count": 6,
   "metadata": {},
   "outputs": [],
   "source": [
    "# Dimensionless dimenion\n",
    "no_dimension = Dimension(None)\n",
    "# from a string\n",
    "length = Dimension(\"L\")\n",
    "# from a dict\n",
    "energy = Dimension({\"M\":1, \"L\":2, \"T\":-2})"
   ]
  },
  {
   "cell_type": "markdown",
   "metadata": {},
   "source": [
    "We can check the content of each Dimension objet by accessing the SI_dict attribut :"
   ]
  },
  {
   "cell_type": "code",
   "execution_count": 7,
   "metadata": {},
   "outputs": [
    {
     "name": "stdout",
     "output_type": "stream",
     "text": [
      "{'L': 0, 'M': 0, 'T': 0, 'I': 0, 'theta': 0, 'N': 0, 'J': 0, 'RAD': 0, 'SR': 0}\n",
      "{'L': 1, 'M': 0, 'T': 0, 'I': 0, 'theta': 0, 'N': 0, 'J': 0, 'RAD': 0, 'SR': 0}\n",
      "{'L': 2, 'M': 1, 'T': -2, 'I': 0, 'theta': 0, 'N': 0, 'J': 0, 'RAD': 0, 'SR': 0}\n"
     ]
    }
   ],
   "source": [
    "print(no_dimension.dim_dict) # None\n",
    "print(length.dim_dict) # \"L\"\n",
    "print(energy.dim_dict) # {\"M\":1, \"L\":2, \"T\":-2}"
   ]
  },
  {
   "cell_type": "markdown",
   "metadata": {},
   "source": [
    "We can see that a dimensionless Dimension object's dim_dict has all its values at 0.\n",
    "We simply rename the dimension objects for further manipulations."
   ]
  },
  {
   "cell_type": "markdown",
   "metadata": {},
   "source": [
    "## Representation "
   ]
  },
  {
   "cell_type": "markdown",
   "metadata": {
    "toc-hr-collapsed": false
   },
   "source": [
    "### The repr method"
   ]
  },
  {
   "cell_type": "markdown",
   "metadata": {},
   "source": [
    "The repr method of Dimension returns the **dim_dict** dictionnary attribute :"
   ]
  },
  {
   "cell_type": "code",
   "execution_count": 8,
   "metadata": {},
   "outputs": [
    {
     "data": {
      "text/plain": [
       "<Dimension : {'L': 0, 'M': 0, 'T': 0, 'I': 0, 'theta': 0, 'N': 0, 'J': 0, 'RAD': 0, 'SR': 0}>"
      ]
     },
     "execution_count": 8,
     "metadata": {},
     "output_type": "execute_result"
    }
   ],
   "source": [
    "no_dimension"
   ]
  },
  {
   "cell_type": "code",
   "execution_count": 9,
   "metadata": {},
   "outputs": [
    {
     "data": {
      "text/plain": [
       "<Dimension : {'L': 1, 'M': 0, 'T': 0, 'I': 0, 'theta': 0, 'N': 0, 'J': 0, 'RAD': 0, 'SR': 0}>"
      ]
     },
     "execution_count": 9,
     "metadata": {},
     "output_type": "execute_result"
    }
   ],
   "source": [
    "length"
   ]
  },
  {
   "cell_type": "code",
   "execution_count": 10,
   "metadata": {},
   "outputs": [
    {
     "data": {
      "text/plain": [
       "<Dimension : {'L': 2, 'M': 1, 'T': -2, 'I': 0, 'theta': 0, 'N': 0, 'J': 0, 'RAD': 0, 'SR': 0}>"
      ]
     },
     "execution_count": 10,
     "metadata": {},
     "output_type": "execute_result"
    }
   ],
   "source": [
    "energy"
   ]
  },
  {
   "cell_type": "markdown",
   "metadata": {},
   "source": [
    "### Converting to string"
   ]
  },
  {
   "cell_type": "markdown",
   "metadata": {},
   "source": [
    "The \\_\\_str\\_\\_ method of Dimension is computed as the sympy-product of the dimensions:"
   ]
  },
  {
   "cell_type": "code",
   "execution_count": 11,
   "metadata": {},
   "outputs": [
    {
     "name": "stdout",
     "output_type": "stream",
     "text": [
      "Dimensionless : no-dimension\n",
      "Lenght : L\n",
      "Energy : L**2*M/T**2\n"
     ]
    }
   ],
   "source": [
    "print(\"Dimensionless : \" + str(no_dimension)) # None\n",
    "print(\"Lenght : \" + str(length)) # \"L\"\n",
    "print(\"Energy : \" + str(energy)) # {\"M\":1, \"L\":2, \"T\":-2}"
   ]
  },
  {
   "cell_type": "markdown",
   "metadata": {},
   "source": [
    "If the Dimension object is dimensionless, no-dimension is returned."
   ]
  },
  {
   "cell_type": "markdown",
   "metadata": {
    "toc-hr-collapsed": false
   },
   "source": [
    "### Converting to SI unit string"
   ]
  },
  {
   "cell_type": "markdown",
   "metadata": {},
   "source": [
    "The Dimension objects has a method that allows direct conversion to a string corresponding to the SI-unit."
   ]
  },
  {
   "cell_type": "code",
   "execution_count": 12,
   "metadata": {},
   "outputs": [
    {
     "name": "stdout",
     "output_type": "stream",
     "text": [
      "Dimensionless : \n",
      "Length : m\n",
      "Energy : kg*m**2/s**2\n"
     ]
    }
   ],
   "source": [
    "print(\"Dimensionless : \" + str(no_dimension.str_SI_unit()))\n",
    "print(\"Length : \" + str(length.str_SI_unit()))\n",
    "print(\"Energy : \" + str(energy.str_SI_unit()))"
   ]
  },
  {
   "cell_type": "markdown",
   "metadata": {},
   "source": [
    "Please note that this method returns an empty string for dimensionless Dimension. See the repr magic method hereafter."
   ]
  },
  {
   "cell_type": "markdown",
   "metadata": {},
   "source": [
    "## Operations on Dimension objects"
   ]
  },
  {
   "cell_type": "markdown",
   "metadata": {},
   "source": [
    "Several basic operation methods are defined :\n",
    " - mul and rmul\n",
    " - div and rdiv\n",
    " - truediv and rtruediv\n",
    " - pow\n",
    " - inv\n",
    " \n",
    "Other comparison method are defined : \n",
    " - eq\n",
    " - ne"
   ]
  },
  {
   "cell_type": "markdown",
   "metadata": {},
   "source": [
    "### Mutliplying and dividing Dimensions"
   ]
  },
  {
   "cell_type": "markdown",
   "metadata": {},
   "source": [
    "It is possible to multiply and divide dimensions. The operators only work with other Dimension objects (it doesn't make sens to \"double\" a dimension - remember theses are dimensions, not quantities)."
   ]
  },
  {
   "cell_type": "code",
   "execution_count": 13,
   "metadata": {},
   "outputs": [
    {
     "name": "stdout",
     "output_type": "stream",
     "text": [
      "L**3*M/T**2\n",
      "T**2/(L*M)\n"
     ]
    }
   ],
   "source": [
    "length_times_energy = length * energy  # \"L\" * {\"M\":1, \"L\":2, \"T\":-2}\n",
    "length_by_enery = length / energy # \"L\" / {\"M\":1, \"L\":2, \"T\":-2}\n",
    "print(length_times_energy)\n",
    "print(length_by_enery)"
   ]
  },
  {
   "cell_type": "markdown",
   "metadata": {},
   "source": [
    "The following will raise a TypeError :  \n",
    "```python\n",
    "length * 2\n",
    "2 * length\n",
    "length / 2\n",
    "2 / length\n",
    "```"
   ]
  },
  {
   "cell_type": "markdown",
   "metadata": {},
   "source": [
    "But inversing a Dimension is allowed as followed, through a \"inverse\" method :"
   ]
  },
  {
   "cell_type": "code",
   "execution_count": 14,
   "metadata": {},
   "outputs": [
    {
     "name": "stdout",
     "output_type": "stream",
     "text": [
      "1/L\n",
      "1/L\n"
     ]
    }
   ],
   "source": [
    "print(length.inverse())\n",
    "print(1/length)"
   ]
  },
  {
   "cell_type": "markdown",
   "metadata": {},
   "source": [
    "Not that quantitative comparison, like less than (lt), less or equal (le), greater than (gt), and greater or equal (ge) does not make sense for dimension manipulation. Hence, these operators are not implemented in the Dimension class."
   ]
  },
  {
   "cell_type": "markdown",
   "metadata": {},
   "source": [
    "### Elevating to power"
   ]
  },
  {
   "cell_type": "markdown",
   "metadata": {},
   "source": [
    "Raising a dimension to a power k simply means multiplying the current powers by k. Of course, it is possible to raise a dimension to a non-integer power, as long as it is a [real number](https://physics.stackexchange.com/questions/13245/dimensional-analysis-restricted-to-rational-exponents)."
   ]
  },
  {
   "cell_type": "code",
   "execution_count": 15,
   "metadata": {},
   "outputs": [
    {
     "name": "stdout",
     "output_type": "stream",
     "text": [
      "L**2/T**2\n",
      "L**0.5*T**(-0.5)\n",
      "T**2/L**2\n"
     ]
    }
   ],
   "source": [
    "speed = Dimension({\"L\":1, \"T\":-1})\n",
    "speed_squared = speed**2 \n",
    "speed_sqrt = speed**(1/2)\n",
    "inverse_squared = speed**-2\n",
    "print(speed_squared)\n",
    "print(speed_sqrt)\n",
    "print(inverse_squared)"
   ]
  },
  {
   "cell_type": "markdown",
   "metadata": {},
   "source": [
    "### Comparing Dimensions"
   ]
  },
  {
   "cell_type": "markdown",
   "metadata": {},
   "source": [
    "It is possible to compare 2 Dimension objects : they are considered equal if their dim_dict attributes are equal."
   ]
  },
  {
   "cell_type": "code",
   "execution_count": 16,
   "metadata": {},
   "outputs": [
    {
     "name": "stdout",
     "output_type": "stream",
     "text": [
      "True\n",
      "False\n",
      "True\n"
     ]
    }
   ],
   "source": [
    "print(speed == Dimension({\"L\":1, \"T\":-1}))\n",
    "print(speed == energy)\n",
    "print(speed != energy)"
   ]
  },
  {
   "cell_type": "markdown",
   "metadata": {},
   "source": [
    "## The DimensionError object"
   ]
  },
  {
   "cell_type": "markdown",
   "metadata": {},
   "source": [
    "A DimensionError object is also included for further not-allowed manipulation, like attempts of adding, substracting or comparing objects with different dimensions."
   ]
  },
  {
   "cell_type": "markdown",
   "metadata": {},
   "source": [
    "# Tests"
   ]
  },
  {
   "cell_type": "code",
   "execution_count": 1,
   "metadata": {},
   "outputs": [
    {
     "name": "stderr",
     "output_type": "stream",
     "text": [
      ".........\n",
      "----------------------------------------------------------------------\n",
      "Ran 9 tests in 0.015s\n",
      "\n",
      "OK\n"
     ]
    }
   ],
   "source": [
    "import os\n",
    "os.sys.path.append(\"/Users/mocquin/MYLIB10/MODULES/physipy/tests\")\n",
    "os.sys.path.append(\"/Users/mocquin/MYLIB10/MODULES/physipy/\")\n",
    "\n",
    "from test_dimension import TestClassDimension\n",
    "import unittest\n",
    "\n",
    "suite = unittest.defaultTestLoader.loadTestsFromTestCase(TestClassDimension)\n",
    "res = unittest.TextTestRunner().run(suite)"
   ]
  },
  {
   "cell_type": "code",
   "execution_count": 2,
   "metadata": {},
   "outputs": [
    {
     "data": {
      "text/plain": [
       "<Dimension : {'L': 1.2j, 'M': 0j, 'T': 0j, 'I': 0j, 'theta': 0j, 'N': 0j, 'J': 0j, 'RAD': 0j, 'SR': 0j}>"
      ]
     },
     "execution_count": 2,
     "metadata": {},
     "output_type": "execute_result"
    }
   ],
   "source": [
    "from physipy import Dimension\n",
    "l = Dimension(\"L\")\n",
    "l**1.2j"
   ]
  },
  {
   "cell_type": "code",
   "execution_count": 3,
   "metadata": {},
   "outputs": [
    {
     "name": "stdout",
     "output_type": "stream",
     "text": [
      "True\n"
     ]
    }
   ],
   "source": [
    "import numpy as np\n",
    "a = {\"a\": 1, \"b\": -2}\n",
    "print(all([np.isscalar(v) for v in a.values()]))"
   ]
  },
  {
   "cell_type": "markdown",
   "metadata": {},
   "source": [
    "# TODO and stuff"
   ]
  },
  {
   "cell_type": "markdown",
   "metadata": {},
   "source": [
    "## Change Dimension base data structure"
   ]
  },
  {
   "cell_type": "markdown",
   "metadata": {},
   "source": [
    "Pros of changing to numpy array : \n",
    " - test\n",
    "\n",
    "Cons : \n",
    " - test"
   ]
  },
  {
   "cell_type": "code",
   "execution_count": 17,
   "metadata": {},
   "outputs": [
    {
     "name": "stdout",
     "output_type": "stream",
     "text": [
      "1.73 µs ± 82.9 ns per loop (mean ± std. dev. of 5 runs, 100000 loops each)\n",
      "1.85 µs ± 1.73 ns per loop (mean ± std. dev. of 5 runs, 1000000 loops each)\n",
      "543 ns ± 8.48 ns per loop (mean ± std. dev. of 5 runs, 1000000 loops each)\n",
      "2.41 µs ± 104 ns per loop (mean ± std. dev. of 5 runs, 100000 loops each)\n"
     ]
    }
   ],
   "source": [
    "# Please note the results for larger list can be different\n",
    "import numpy as np\n",
    "\n",
    "# making a list, a dict, and an array\n",
    "list_a = list(np.asarray(np.linspace(0,9,10)).astype(int)) # working with int\n",
    "array_a = np.array(list_a) \n",
    "dict_a = {x: x for x in list_a}\n",
    " \n",
    "from operator import add as opadd\n",
    "%timeit -r5 list_c = list(map(opadd, list_a, list_a))\n",
    "%timeit -r5 list_cc = [x+y for x,y in zip(list_a,list_a)]\n",
    "%timeit -r5 array_c = array_a + array_a\n",
    "%timeit -r5 dict_c = {dict_a[key] + dict_a[key] for key in dict_a.keys()}"
   ]
  },
  {
   "cell_type": "code",
   "execution_count": null,
   "metadata": {},
   "outputs": [],
   "source": []
  }
 ],
 "metadata": {
  "anaconda-cloud": {},
  "kernelspec": {
   "display_name": "Python 3",
   "language": "python",
   "name": "python3"
  },
  "language_info": {
   "codemirror_mode": {
    "name": "ipython",
    "version": 3
   },
   "file_extension": ".py",
   "mimetype": "text/x-python",
   "name": "python",
   "nbconvert_exporter": "python",
   "pygments_lexer": "ipython3",
   "version": "3.7.4"
  },
  "toc": {
   "colors": {
    "hover_highlight": "#DAA520",
    "navigate_num": "#000000",
    "navigate_text": "#333333",
    "running_highlight": "#FF0000",
    "selected_highlight": "#FFD700",
    "sidebar_border": "#EEEEEE",
    "wrapper_background": "#FFFFFF"
   },
   "moveMenuLeft": true,
   "nav_menu": {
    "height": "290px",
    "width": "391px"
   },
   "navigate_menu": true,
   "number_sections": true,
   "sideBar": true,
   "threshold": 4,
   "toc_cell": true,
   "toc_position": {
    "height": "610px",
    "left": "0px",
    "right": "auto",
    "top": "106px",
    "width": "274px"
   },
   "toc_section_display": "block",
   "toc_window_display": true,
   "widenNotebook": false
  },
  "toc-autonumbering": true,
  "toc-showcode": false,
  "toc-showmarkdowntxt": false,
  "toc-showtags": false
 },
 "nbformat": 4,
 "nbformat_minor": 4
}
