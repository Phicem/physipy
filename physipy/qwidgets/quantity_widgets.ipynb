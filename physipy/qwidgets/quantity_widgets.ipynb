{
 "cells": [
  {
   "cell_type": "markdown",
   "metadata": {},
   "source": [
    "# Fetch json_widget branch from github\n",
    "https://github.com/mocquin/physipy/tree/json_widget"
   ]
  },
  {
   "cell_type": "markdown",
   "metadata": {},
   "source": [
    "# 5 line tutorial on Quantity from [physipy](https://github.com/mocquin/physipy)"
   ]
  },
  {
   "cell_type": "code",
   "execution_count": 1,
   "metadata": {},
   "outputs": [
    {
     "name": "stdout",
     "output_type": "stream",
     "text": [
      "1 m : has value 1 and dimension L, or as a dict : {'L': 1, 'M': 0, 'T': 0, 'I': 0, 'theta': 0, 'N': 0, 'J': 0, 'RAD': 0, 'SR': 0}\n",
      "\n",
      "25 m**2 (5*m squared) : has value 25, and dimension L**2, or as a dict : {'L': 2, 'M': 0, 'T': 0, 'I': 0, 'theta': 0, 'N': 0, 'J': 0, 'RAD': 0, 'SR': 0}\n"
     ]
    }
   ],
   "source": [
    "from physipy import quantify, Quantity, Dimension\n",
    "from physipy import m, s\n",
    "\n",
    "# A quantity is the association of a value and a Dimension object (a dictionnary)\n",
    "five_meters = 5*m\n",
    "# m itself is a quantity with value 1 and dimension \"L\" for lenght\n",
    "print(f'{m} : has value {m.value} and dimension {m.dimension}, or as a dict : {m.dimension.dim_dict}')\n",
    "print()\n",
    "print(f'{five_meters**2} (5*m squared) : has value {(five_meters**2).value}, and dimension {(five_meters**2).dimension}, or as a dict : {(five_meters**2).dimension.dim_dict}')"
   ]
  },
  {
   "cell_type": "code",
   "execution_count": 2,
   "metadata": {},
   "outputs": [
    {
     "name": "stdout",
     "output_type": "stream",
     "text": [
      "in quantity_json_encoder with 5 s\n",
      "in _to_json_dict\n"
     ]
    },
    {
     "data": {
      "text/plain": [
       "{'Quantity': True,\n",
       " 'value': 5,\n",
       " 'dim_dict': {'L': 0,\n",
       "  'M': 0,\n",
       "  'T': 1,\n",
       "  'I': 0,\n",
       "  'theta': 0,\n",
       "  'N': 0,\n",
       "  'J': 0,\n",
       "  'RAD': 0,\n",
       "  'SR': 0}}"
      ]
     },
     "execution_count": 2,
     "metadata": {},
     "output_type": "execute_result"
    }
   ],
   "source": [
    "from physipy.quantity.utils import quantity_json_encoder, quantity_json_decoder\n",
    "\n",
    "def quantity_to_json(q, widget):\n",
    "    return quantity_json_encoder(q)\n",
    "\n",
    "def quantity_from_json(q, widget):\n",
    "    return quantity_json_decoder(q)\n",
    "\n",
    "# example \n",
    "quantity_json_encoder(5*s) # five seconds"
   ]
  },
  {
   "cell_type": "markdown",
   "metadata": {},
   "source": [
    "# attempt to create a QuantityFloatSlider"
   ]
  },
  {
   "cell_type": "code",
   "execution_count": 12,
   "metadata": {},
   "outputs": [],
   "source": [
    "from traitlets import (\n",
    "    Instance, Unicode, CFloat, Bool, CaselessStrEnum, Tuple, TraitError, validate, default, \n",
    ")\n",
    "from traitlets.traitlets import _validate_bounds\n",
    "\n",
    "from ipywidgets.widgets.widget_description import DescriptionWidget\n",
    "from ipywidgets.widgets.trait_types import InstanceDict, NumberFormat\n",
    "from ipywidgets.widgets.valuewidget import ValueWidget\n",
    "from ipywidgets.widgets.widget import register, widget_serialization\n",
    "from ipywidgets.widgets.widget_core import CoreWidget\n",
    "from ipywidgets.widgets.widget_int import ProgressStyle\n",
    "\n",
    "\n",
    "from traitlets import (\n",
    "    Instance, Unicode, CFloat, Bool, CaselessStrEnum, Tuple, TraitError, validate, default, \n",
    ")\n",
    "from traitlets.traitlets import _validate_bounds\n",
    "\n",
    "from ipywidgets.widgets.widget_description import DescriptionWidget\n",
    "from ipywidgets.widgets.trait_types import InstanceDict, NumberFormat\n",
    "from ipywidgets.widgets.valuewidget import ValueWidget\n",
    "from ipywidgets.widgets.widget import register, widget_serialization\n",
    "from ipywidgets.widgets.widget_core import CoreWidget\n",
    "from ipywidgets.widgets.widget_int import ProgressStyle\n",
    "\n",
    "\n",
    "\n",
    "from ast import literal_eval\n",
    "import contextlib\n",
    "import inspect\n",
    "import os\n",
    "import re\n",
    "import sys\n",
    "import types\n",
    "import enum\n",
    "from warnings import warn, warn_explicit\n",
    "\n",
    "from traitlets.utils.getargspec import getargspec\n",
    "from traitlets.utils.importstring import import_item\n",
    "from traitlets.utils.sentinel import Sentinel\n",
    "from traitlets.utils.bunch import Bunch\n",
    "from traitlets.utils.descriptions import describe, class_of, add_article, repr_type\n",
    "from traitlets import TraitType\n",
    "\n",
    "SequenceTypes = (list, tuple, set, frozenset)\n",
    "\n",
    "# backward compatibility, use to differ between Python 2 and 3.\n",
    "ClassTypes = (type,)\n",
    "\n",
    "# exports:\n",
    "\n",
    "__all__ = [\n",
    "    \"default\",\n",
    "    \"validate\",\n",
    "    \"observe\",\n",
    "    \"observe_compat\",\n",
    "    \"link\",\n",
    "    \"directional_link\",\n",
    "    \"dlink\",\n",
    "    \"Undefined\",\n",
    "    \"All\",\n",
    "    \"NoDefaultSpecified\",\n",
    "    \"TraitError\",\n",
    "    \"HasDescriptors\",\n",
    "    \"HasTraits\",\n",
    "    \"MetaHasDescriptors\",\n",
    "    \"MetaHasTraits\",\n",
    "    \"BaseDescriptor\",\n",
    "    \"TraitType\",\n",
    "    \"parse_notifier_name\",\n",
    "]\n",
    "\n",
    "# any TraitType subclass (that doesn't start with _) will be added automatically\n",
    "\n",
    "#-----------------------------------------------------------------------------\n",
    "# Basic classes\n",
    "#-----------------------------------------------------------------------------\n",
    "\n",
    "\n",
    "Undefined = Sentinel('Undefined', 'traitlets',\n",
    "'''\n",
    "Used in Traitlets to specify that no defaults are set in kwargs\n",
    "'''\n",
    ")\n",
    "\n",
    "\n",
    "\n",
    "from traitlets import TraitType\n",
    "\n",
    "\n",
    "\n",
    "class QuantityTrait(TraitType):\n",
    "    \"\"\"A trait for Quantity.\n",
    "    \"\"\"\n",
    "\n",
    "    #default_value = \n",
    "    info_text = 'a Quantity object'\n",
    "\n",
    "    def __init__(self, default_value=Undefined, allow_none=False, **kwargs):\n",
    "        print(\"in init of QuantityTrait\")\n",
    "        default_value = quantify(default_value)\n",
    "        default_dim = default_value.dimension\n",
    "        self.min = kwargs.pop('min', Quantity(-float('inf'),\n",
    "                                              default_dim))\n",
    "        self.max = kwargs.pop('max', Quantity(float('inf'),\n",
    "                                             default_dim))\n",
    "        super(QuantityTrait, self).__init__(default_value=default_value,\n",
    "                                    allow_none=allow_none, **kwargs)\n",
    "    \n",
    "    def validate(self, obj, value):\n",
    "        if not isinstance(value, Quantity):\n",
    "            self.error(obj, value)\n",
    "        return _validate_bounds(self, obj, value)\n",
    "\n",
    "#print(QuantityTrait(q).min)\n",
    "#print(QuantityTrait(q).max)\n",
    "#print(QuantityTrait(4).min)\n",
    "#print(type(QuantityTrait(4).min))"
   ]
  },
  {
   "cell_type": "code",
   "execution_count": 13,
   "metadata": {},
   "outputs": [],
   "source": [
    "class CQuantityTrait(QuantityTrait):\n",
    "    \"\"\"A casting version of the QuantityTrait trait.\"\"\"\n",
    "\n",
    "    def validate(self, obj, value):\n",
    "        try:\n",
    "            value = quantify(value)\n",
    "        except Exception:\n",
    "            self.error(obj, value)\n",
    "        return _validate_bounds(self, obj, value)\n",
    "\n",
    "#print(CQuantityTrait(q).min)\n",
    "#print(CQuantityTrait(q).max)\n",
    "#print(CQuantityTrait(4).min)\n",
    "#print(type(CQuantityTrait(4).min))\n",
    "#\n",
    "#cq = CQuantityTrait(q)\n",
    "#print(cq)\n",
    "#print(cq.default_value)"
   ]
  },
  {
   "cell_type": "code",
   "execution_count": 14,
   "metadata": {},
   "outputs": [],
   "source": [
    "class _QuantityTrait(DescriptionWidget, ValueWidget, CoreWidget):\n",
    "    #value = CQuantityTrait(0.0, help=\"Quantity value\").tag(sync=True)\n",
    "\n",
    "    def __init__(self, value=None, **kwargs):\n",
    "        if value is not None:\n",
    "            kwargs['value'] = value\n",
    "            self.__class__.value = CQuantityTrait(value,\n",
    "                                                  help=\"Quantity value\").tag(sync=True,\n",
    "                                                                             to_json=quantity_to_json,\n",
    "                                                                             from_json=quantity_from_json)\n",
    "            self.__class__.step = CQuantityTrait(Quantity(0.1,\n",
    "                                                          value.dimension),\n",
    "                                                 allow_none=True, \n",
    "                                                 help=\"Minimum step to increment the value\").tag(sync=True, \n",
    "                                                                                                 to_json=quantity_to_json,\n",
    "                                                                                                 from_json=quantity_from_json)\n",
    "    \n",
    "        super().__init__(**kwargs)"
   ]
  },
  {
   "cell_type": "code",
   "execution_count": 15,
   "metadata": {},
   "outputs": [],
   "source": [
    "class _BoundedQuantity(_QuantityTrait):\n",
    "    \n",
    "\n",
    "    @validate('value')\n",
    "    def _validate_value(self, proposal):\n",
    "        \"\"\"Cap and floor value\"\"\"\n",
    "        value = proposal['value']\n",
    "        self.max = CQuantityTrait(Quantity(100,\n",
    "                                           value.dimension, help=\"Max value\")).tag(sync=True,\n",
    "                                                                                   to_json=quantity_to_json,\n",
    "                                                                                   from_json=quantity_from_json)\n",
    "        self.min = CQuantityTrait(Quantity(0, \n",
    "                                           value.dimension, help=\"Min value\")).tag(sync=True,\n",
    "                                                                                   to_json=quantity_to_json,\n",
    "                                                                                   from_json=quantity_from_json)\n",
    "        if self.min > value or self.max < value:\n",
    "            value = min(max(value, self.min), self.max)\n",
    "        return value\n",
    "\n",
    "    @validate('min')\n",
    "    def _validate_min(self, proposal):\n",
    "        \"\"\"Enforce min <= value <= max\"\"\"\n",
    "        min = quantify(proposal['value'])\n",
    "        if min > self.max:\n",
    "            raise TraitError('Setting min > max')\n",
    "        if min > self.value:\n",
    "            self.value = min\n",
    "        return min\n",
    "\n",
    "    @validate('max')\n",
    "    def _validate_max(self, proposal):\n",
    "        \"\"\"Enforce min <= value <= max\"\"\"\n",
    "        max = quantify(proposal['value'])\n",
    "        if max < self.min:\n",
    "            raise TraitError('setting max < min')\n",
    "        if max < self.value:\n",
    "            self.value = max\n",
    "        return max\n"
   ]
  },
  {
   "cell_type": "code",
   "execution_count": 18,
   "metadata": {},
   "outputs": [],
   "source": [
    "from ipywidgets.widgets.widget_int import IntText, BoundedIntText, IntSlider, IntProgress, IntRangeSlider, Play, SliderStyle\n",
    "\n",
    "@register\n",
    "class QuantitySlider(_BoundedQuantity):\n",
    "\n",
    "    _view_name = Unicode('FloatSliderView').tag(sync=True)\n",
    "    _model_name = Unicode('FloatSliderModel').tag(sync=True)\n",
    "    orientation = CaselessStrEnum(values=['horizontal', 'vertical'],\n",
    "        default_value='horizontal', help=\"Vertical or horizontal.\").tag(sync=True)\n",
    "    readout = Bool(True, help=\"Display the current value of the slider next to it.\").tag(sync=True)\n",
    "    #readout_format = NumberFormat(\n",
    "    #    '.2f', help=\"Format for the readout\").tag(sync=True)\n",
    "    continuous_update = Bool(True, help=\"Update the value of the widget as the user is holding the slider.\").tag(sync=True)\n",
    "    disabled = Bool(False, help=\"Enable or disable user changes\").tag(sync=True)\n",
    "\n",
    "    #style = InstanceDict(SliderStyle).tag(sync=True, **widget_serialization)\n"
   ]
  },
  {
   "cell_type": "code",
   "execution_count": 23,
   "metadata": {},
   "outputs": [
    {
     "name": "stdout",
     "output_type": "stream",
     "text": [
      "in init of QuantityTrait\n",
      "in init of QuantityTrait\n",
      "in quantity_json_encoder with 0.5 m\n",
      "in _to_json_dict\n",
      "in quantity_json_encoder with 0.5 m\n",
      "in _to_json_dict\n"
     ]
    },
    {
     "data": {
      "application/vnd.jupyter.widget-view+json": {
       "model_id": "9d021691d1e145d584ecded14556c302",
       "version_major": 2,
       "version_minor": 0
      },
      "text/plain": [
       "QuantitySlider(value=<Quantity : 0.5 m>, step=<Quantity : 0.5 m>)"
      ]
     },
     "metadata": {},
     "output_type": "display_data"
    }
   ],
   "source": [
    "# import a meter \"m\"\n",
    "from physipy.quickstart import m, s\n",
    "qs = QuantitySlider(0.5*m, min=0*m, max=10*m)\n",
    "qs"
   ]
  },
  {
   "cell_type": "code",
   "execution_count": 30,
   "metadata": {},
   "outputs": [
    {
     "name": "stdout",
     "output_type": "stream",
     "text": [
      "['_dom_classes', '_model_module', '_model_module_version', '_model_name', '_view_count', '_view_module', '_view_module_version', '_view_name', 'continuous_update', 'description', 'description_tooltip', 'disabled', 'layout', 'orientation', 'readout', 'step', 'style', 'value']\n",
      "10 m\n",
      "10 m\n",
      "True\n",
      "10 m\n",
      "10 m\n"
     ]
    }
   ],
   "source": [
    "\n",
    "print(qs.keys)\n",
    "print(qs.step)\n",
    "print(qs.value)\n",
    "print(qs.readout)\n",
    "print(qs.value)\n",
    "qs.value = 10*m\n",
    "print(qs.value)\n",
    "# this should raise a DimensionError, and it does ! qs.value = 10*s\n"
   ]
  },
  {
   "cell_type": "code",
   "execution_count": 25,
   "metadata": {},
   "outputs": [
    {
     "data": {
      "application/vnd.jupyter.widget-view+json": {
       "model_id": "9d021691d1e145d584ecded14556c302",
       "version_major": 2,
       "version_minor": 0
      },
      "text/plain": [
       "QuantitySlider(value=<Quantity : 10 m>, step=<Quantity : 10 m>)"
      ]
     },
     "metadata": {},
     "output_type": "display_data"
    }
   ],
   "source": [
    "qs"
   ]
  },
  {
   "cell_type": "code",
   "execution_count": 26,
   "metadata": {},
   "outputs": [],
   "source": [
    "import ipywidgets"
   ]
  },
  {
   "cell_type": "code",
   "execution_count": 28,
   "metadata": {},
   "outputs": [
    {
     "data": {
      "application/vnd.jupyter.widget-view+json": {
       "model_id": "b7dfa690f9f744cc9615d43d2007205b",
       "version_major": 2,
       "version_minor": 0
      },
      "text/plain": [
       "interactive(children=(Output(),), _dom_classes=('widget-interact',))"
      ]
     },
     "metadata": {},
     "output_type": "display_data"
    }
   ],
   "source": [
    "ipywidgets.interactive(2)"
   ]
  },
  {
   "cell_type": "code",
   "execution_count": null,
   "metadata": {},
   "outputs": [],
   "source": []
  }
 ],
 "metadata": {
  "kernelspec": {
   "display_name": "Python 3",
   "language": "python",
   "name": "python3"
  },
  "language_info": {
   "codemirror_mode": {
    "name": "ipython",
    "version": 3
   },
   "file_extension": ".py",
   "mimetype": "text/x-python",
   "name": "python",
   "nbconvert_exporter": "python",
   "pygments_lexer": "ipython3",
   "version": "3.7.4"
  },
  "toc-autonumbering": false,
  "toc-showcode": false,
  "toc-showmarkdowntxt": false
 },
 "nbformat": 4,
 "nbformat_minor": 4
}
